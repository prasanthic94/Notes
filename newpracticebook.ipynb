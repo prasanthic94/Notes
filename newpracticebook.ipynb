{
 "cells": [
  {
   "cell_type": "markdown",
   "id": "2f94b31f",
   "metadata": {},
   "source": [
    "Function Arguments"
   ]
  },
  {
   "cell_type": "code",
   "execution_count": 2,
   "id": "6dc3ceb9",
   "metadata": {},
   "outputs": [
    {
     "name": "stdout",
     "output_type": "stream",
     "text": [
      "8\n"
     ]
    }
   ],
   "source": [
    "def update(x):\n",
    "    x =8\n",
    "    print(x)\n",
    "update(10)"
   ]
  },
  {
   "cell_type": "code",
   "execution_count": 3,
   "id": "fe4cac49",
   "metadata": {},
   "outputs": [
    {
     "name": "stdout",
     "output_type": "stream",
     "text": [
      "8\n",
      "10\n"
     ]
    }
   ],
   "source": [
    "def update(x):\n",
    "    x =8\n",
    "    print(x)\n",
    "    \n",
    "a=10\n",
    "update(a)\n",
    "print(a)"
   ]
  },
  {
   "cell_type": "code",
   "execution_count": 5,
   "id": "ad244411",
   "metadata": {},
   "outputs": [
    {
     "name": "stdout",
     "output_type": "stream",
     "text": [
      "x 8\n",
      "a 10\n"
     ]
    }
   ],
   "source": [
    "def update(x):\n",
    "    x =8\n",
    "    print('x', x)\n",
    "    \n",
    "a=10\n",
    "update(a)\n",
    "print('a', a) "
   ]
  },
  {
   "cell_type": "code",
   "execution_count": 9,
   "id": "d209f59d",
   "metadata": {},
   "outputs": [
    {
     "name": "stdout",
     "output_type": "stream",
     "text": [
      "1614570678864\n",
      "1614570678864\n",
      "1614570678800\n",
      "a 10\n"
     ]
    }
   ],
   "source": [
    "def update(x):\n",
    "    print(id(x))\n",
    "    x=8\n",
    "    print(id(x))\n",
    "\n",
    "a = 10\n",
    "print(id(a))\n",
    "update(a)\n",
    "print('a', a)"
   ]
  },
  {
   "cell_type": "code",
   "execution_count": 10,
   "id": "7032da1f",
   "metadata": {},
   "outputs": [
    {
     "name": "stdout",
     "output_type": "stream",
     "text": [
      "1614685280960\n",
      "1614685280960\n",
      "1614685280960\n",
      "x [10, 25, 30]\n",
      "lst [10, 25, 30]\n"
     ]
    }
   ],
   "source": [
    "def update(lst):\n",
    "    print(id(lst))\n",
    "    \n",
    "    lst[1] =25\n",
    "    print(id(lst))\n",
    "    print('x', lst)\n",
    "\n",
    "lst = [10, 25, 30]\n",
    "print(id(lst))\n",
    "update(lst)\n",
    "print('lst', lst)"
   ]
  },
  {
   "cell_type": "code",
   "execution_count": 11,
   "id": "90a7cf79",
   "metadata": {},
   "outputs": [
    {
     "name": "stdout",
     "output_type": "stream",
     "text": [
      "Emil Refsnes\n",
      "Tobias Refsnes\n",
      "Linus Refsnes\n"
     ]
    }
   ],
   "source": [
    "def my_function(fname):\n",
    "  print(fname + \" Refsnes\")\n",
    "\n",
    "my_function(\"Emil\")\n",
    "my_function(\"Tobias\")\n",
    "my_function(\"Linus\")"
   ]
  },
  {
   "cell_type": "code",
   "execution_count": 13,
   "id": "a41d9795",
   "metadata": {},
   "outputs": [
    {
     "name": "stdout",
     "output_type": "stream",
     "text": [
      "18\n"
     ]
    }
   ],
   "source": [
    "def add(a,b=5,c=10):\n",
    "    return (a+b+c)\n",
    "print(add(3))"
   ]
  },
  {
   "cell_type": "code",
   "execution_count": 16,
   "id": "ce9f069a",
   "metadata": {},
   "outputs": [
    {
     "name": "stdout",
     "output_type": "stream",
     "text": [
      "17\n"
     ]
    }
   ],
   "source": [
    "def add(a,b=5,c=10):\n",
    "    return (a+b+c)\n",
    "print(add(3,4))"
   ]
  },
  {
   "cell_type": "code",
   "execution_count": 17,
   "id": "b0a898e8",
   "metadata": {},
   "outputs": [
    {
     "name": "stdout",
     "output_type": "stream",
     "text": [
      "prasanthi\n",
      "28\n"
     ]
    }
   ],
   "source": [
    "#postion argument\n",
    "def person(name,age):\n",
    "    print(name)\n",
    "    print(age)\n",
    "\n",
    "person('prasanthi', 28)\n",
    "    "
   ]
  },
  {
   "cell_type": "code",
   "execution_count": 56,
   "id": "9cd18ced",
   "metadata": {},
   "outputs": [
    {
     "name": "stdout",
     "output_type": "stream",
     "text": [
      "prasanthilava\n"
     ]
    }
   ],
   "source": [
    "def person_name(first_name,second_name):\n",
    "    print(first_name+second_name)\n",
    "\n",
    "person_name('prasanthi', 'lava')"
   ]
  },
  {
   "cell_type": "code",
   "execution_count": 18,
   "id": "c46f130d",
   "metadata": {},
   "outputs": [
    {
     "name": "stdout",
     "output_type": "stream",
     "text": [
      "28\n",
      "prasanthi\n"
     ]
    }
   ],
   "source": [
    "def person(name,age):\n",
    "    print(name)\n",
    "    print(age)\n",
    "\n",
    "person(28, 'prasanthi')"
   ]
  },
  {
   "cell_type": "code",
   "execution_count": 21,
   "id": "dc317f77",
   "metadata": {},
   "outputs": [
    {
     "name": "stdout",
     "output_type": "stream",
     "text": [
      "28\n"
     ]
    },
    {
     "ename": "TypeError",
     "evalue": "unsupported operand type(s) for -: 'str' and 'int'",
     "output_type": "error",
     "traceback": [
      "\u001b[1;31m---------------------------------------------------------------------------\u001b[0m",
      "\u001b[1;31mTypeError\u001b[0m                                 Traceback (most recent call last)",
      "Input \u001b[1;32mIn [21]\u001b[0m, in \u001b[0;36m<cell line: 5>\u001b[1;34m()\u001b[0m\n\u001b[0;32m      2\u001b[0m     \u001b[38;5;28mprint\u001b[39m(name)\n\u001b[0;32m      3\u001b[0m     \u001b[38;5;28mprint\u001b[39m(age\u001b[38;5;241m-\u001b[39m\u001b[38;5;241m5\u001b[39m)\n\u001b[1;32m----> 5\u001b[0m \u001b[43mperson\u001b[49m\u001b[43m(\u001b[49m\u001b[38;5;241;43m28\u001b[39;49m\u001b[43m,\u001b[49m\u001b[43m \u001b[49m\u001b[38;5;124;43m'\u001b[39;49m\u001b[38;5;124;43mprasanthi\u001b[39;49m\u001b[38;5;124;43m'\u001b[39;49m\u001b[43m)\u001b[49m\n",
      "Input \u001b[1;32mIn [21]\u001b[0m, in \u001b[0;36mperson\u001b[1;34m(name, age)\u001b[0m\n\u001b[0;32m      1\u001b[0m \u001b[38;5;28;01mdef\u001b[39;00m \u001b[38;5;21mperson\u001b[39m(name,age):\n\u001b[0;32m      2\u001b[0m     \u001b[38;5;28mprint\u001b[39m(name)\n\u001b[1;32m----> 3\u001b[0m     \u001b[38;5;28mprint\u001b[39m(\u001b[43mage\u001b[49m\u001b[38;5;241;43m-\u001b[39;49m\u001b[38;5;241;43m5\u001b[39;49m)\n",
      "\u001b[1;31mTypeError\u001b[0m: unsupported operand type(s) for -: 'str' and 'int'"
     ]
    }
   ],
   "source": [
    "def person(name,age):\n",
    "    print(name)\n",
    "    print(age-5)\n",
    "\n",
    "person(28, 'prasanthi')"
   ]
  },
  {
   "cell_type": "code",
   "execution_count": 22,
   "id": "85b90bff",
   "metadata": {},
   "outputs": [
    {
     "name": "stdout",
     "output_type": "stream",
     "text": [
      "prasanthi\n",
      "28\n"
     ]
    }
   ],
   "source": [
    "#keyword argument\n",
    "\n",
    "def person(name,age):\n",
    "    print(name)\n",
    "    print(age)\n",
    "\n",
    "person (age=28, name='prasanthi')"
   ]
  },
  {
   "cell_type": "code",
   "execution_count": 24,
   "id": "e5756179",
   "metadata": {},
   "outputs": [
    {
     "name": "stdout",
     "output_type": "stream",
     "text": [
      "prasanthi\n",
      "18\n"
     ]
    }
   ],
   "source": [
    "#default \n",
    "def person(name,age=18):\n",
    "    print(name)\n",
    "    print(age)\n",
    "\n",
    "person('prasanthi')"
   ]
  },
  {
   "cell_type": "code",
   "execution_count": 25,
   "id": "ef927742",
   "metadata": {},
   "outputs": [
    {
     "name": "stdout",
     "output_type": "stream",
     "text": [
      "prasanthi\n",
      "28\n"
     ]
    }
   ],
   "source": [
    "def person(name,age=18):\n",
    "    print(name)\n",
    "    print(age)\n",
    "\n",
    "person('prasanthi', 28)"
   ]
  },
  {
   "cell_type": "code",
   "execution_count": 28,
   "id": "97458e7f",
   "metadata": {},
   "outputs": [
    {
     "ename": "TypeError",
     "evalue": "unsupported operand type(s) for +: 'int' and 'tuple'",
     "output_type": "error",
     "traceback": [
      "\u001b[1;31m---------------------------------------------------------------------------\u001b[0m",
      "\u001b[1;31mTypeError\u001b[0m                                 Traceback (most recent call last)",
      "Input \u001b[1;32mIn [28]\u001b[0m, in \u001b[0;36m<cell line: 5>\u001b[1;34m()\u001b[0m\n\u001b[0;32m      2\u001b[0m     c\u001b[38;5;241m=\u001b[39m a\u001b[38;5;241m+\u001b[39mb\n\u001b[0;32m      3\u001b[0m     \u001b[38;5;28mprint\u001b[39m(c)\n\u001b[1;32m----> 5\u001b[0m \u001b[38;5;28;43msum\u001b[39;49m\u001b[43m(\u001b[49m\u001b[38;5;241;43m5\u001b[39;49m\u001b[43m,\u001b[49m\u001b[38;5;241;43m6\u001b[39;49m\u001b[43m,\u001b[49m\u001b[38;5;241;43m34\u001b[39;49m\u001b[43m,\u001b[49m\u001b[38;5;241;43m78\u001b[39;49m\u001b[43m)\u001b[49m\n",
      "Input \u001b[1;32mIn [28]\u001b[0m, in \u001b[0;36msum\u001b[1;34m(a, *b)\u001b[0m\n\u001b[0;32m      1\u001b[0m \u001b[38;5;28;01mdef\u001b[39;00m \u001b[38;5;21msum\u001b[39m(a, \u001b[38;5;241m*\u001b[39mb):\n\u001b[1;32m----> 2\u001b[0m     c\u001b[38;5;241m=\u001b[39m \u001b[43ma\u001b[49m\u001b[38;5;241;43m+\u001b[39;49m\u001b[43mb\u001b[49m\n\u001b[0;32m      3\u001b[0m     \u001b[38;5;28mprint\u001b[39m(c)\n",
      "\u001b[1;31mTypeError\u001b[0m: unsupported operand type(s) for +: 'int' and 'tuple'"
     ]
    }
   ],
   "source": [
    "def sum(a, *b):\n",
    "    c= a+b\n",
    "    print(c)\n",
    " \n",
    "sum(5,6,34,78)    "
   ]
  },
  {
   "cell_type": "code",
   "execution_count": 38,
   "id": "59a2bcbf",
   "metadata": {},
   "outputs": [
    {
     "ename": "SyntaxError",
     "evalue": "non-default argument follows default argument (139207218.py, line 1)",
     "output_type": "error",
     "traceback": [
      "\u001b[1;36m  Input \u001b[1;32mIn [38]\u001b[1;36m\u001b[0m\n\u001b[1;33m    def add(a=5,b,c):\u001b[0m\n\u001b[1;37m                  ^\u001b[0m\n\u001b[1;31mSyntaxError\u001b[0m\u001b[1;31m:\u001b[0m non-default argument follows default argument\n"
     ]
    }
   ],
   "source": [
    "def add(a=5,b,c):\n",
    "    return (a+b+c)\n"
   ]
  },
  {
   "cell_type": "code",
   "execution_count": 39,
   "id": "2906eea5",
   "metadata": {},
   "outputs": [
    {
     "ename": "SyntaxError",
     "evalue": "positional argument follows keyword argument (3055781977.py, line 4)",
     "output_type": "error",
     "traceback": [
      "\u001b[1;36m  Input \u001b[1;32mIn [39]\u001b[1;36m\u001b[0m\n\u001b[1;33m    print (add(a=10,3,4))\u001b[0m\n\u001b[1;37m                       ^\u001b[0m\n\u001b[1;31mSyntaxError\u001b[0m\u001b[1;31m:\u001b[0m positional argument follows keyword argument\n"
     ]
    }
   ],
   "source": [
    "def add(a,b,c):\n",
    "    return (a+b+c)\n",
    "\n",
    "print (add(a=10,3,4))"
   ]
  },
  {
   "cell_type": "code",
   "execution_count": 40,
   "id": "1109ca4e",
   "metadata": {},
   "outputs": [
    {
     "name": "stdout",
     "output_type": "stream",
     "text": [
      "17\n"
     ]
    }
   ],
   "source": [
    "def add(a,b=5,c=10):\n",
    "    return (a+b+c)\n",
    "\n",
    "print (add(2))"
   ]
  },
  {
   "cell_type": "code",
   "execution_count": 34,
   "id": "b037a67c",
   "metadata": {},
   "outputs": [
    {
     "name": "stdout",
     "output_type": "stream",
     "text": [
      "123\n"
     ]
    }
   ],
   "source": [
    "def sum(a, *b):\n",
    "    c=a\n",
    "    \n",
    "    for i in b:\n",
    "        c = c+i\n",
    "    print(c)\n",
    "\n",
    "sum(5,6,34,78)"
   ]
  },
  {
   "cell_type": "code",
   "execution_count": 35,
   "id": "4591f9df",
   "metadata": {},
   "outputs": [
    {
     "name": "stdout",
     "output_type": "stream",
     "text": [
      "118\n"
     ]
    }
   ],
   "source": [
    "def sum(a, *b):\n",
    "    c=0\n",
    "    \n",
    "    for i in b:\n",
    "        c = c+i\n",
    "    print(c)\n",
    "\n",
    "sum(5,6,34,78)"
   ]
  },
  {
   "cell_type": "code",
   "execution_count": 41,
   "id": "f3b28562",
   "metadata": {},
   "outputs": [
    {
     "name": "stdout",
     "output_type": "stream",
     "text": [
      "15\n"
     ]
    }
   ],
   "source": [
    "def add(*b):\n",
    "    result=0\n",
    "    for i in b:\n",
    "         result=result+i\n",
    "    return result\n",
    "\n",
    "print (add(1,2,3,4,5))"
   ]
  },
  {
   "cell_type": "code",
   "execution_count": 42,
   "id": "d8f2bf80",
   "metadata": {},
   "outputs": [
    {
     "data": {
      "text/plain": [
       "1.5"
      ]
     },
     "execution_count": 42,
     "metadata": {},
     "output_type": "execute_result"
    }
   ],
   "source": [
    "def divide(a,b):\n",
    "                return a/b\n",
    "divide(3,2)"
   ]
  },
  {
   "cell_type": "code",
   "execution_count": 44,
   "id": "c61a548b",
   "metadata": {},
   "outputs": [
    {
     "name": "stdout",
     "output_type": "stream",
     "text": [
      "Hello prasanthi, Good morning!\n"
     ]
    }
   ],
   "source": [
    "def greet(name, msg):\n",
    "    \"\"\"This function greets to\n",
    "    the person with the provided message\"\"\"\n",
    "    print(\"Hello\", name + ', ' + msg)\n",
    "\n",
    "greet(\"prasanthi\", \"Good morning!\")"
   ]
  },
  {
   "cell_type": "code",
   "execution_count": 48,
   "id": "12c7e85d",
   "metadata": {},
   "outputs": [
    {
     "name": "stdout",
     "output_type": "stream",
     "text": [
      "4.0\n"
     ]
    }
   ],
   "source": [
    "def divide_two(a, b):\n",
    "    res = a / b\n",
    "    return res\n",
    " \n",
    "res = divide_two(12, 3)\n",
    "print(res)"
   ]
  },
  {
   "cell_type": "code",
   "execution_count": 50,
   "id": "70018076",
   "metadata": {},
   "outputs": [
    {
     "name": "stdout",
     "output_type": "stream",
     "text": [
      "hello world\n",
      "hello prasanthi\n"
     ]
    }
   ],
   "source": [
    "def sayhello(name = 'world'):\n",
    "    print('hello', name)\n",
    "\n",
    "sayhello()\n",
    "sayhello('prasanthi')"
   ]
  },
  {
   "cell_type": "code",
   "execution_count": 53,
   "id": "83a8fdae",
   "metadata": {},
   "outputs": [
    {
     "name": "stdout",
     "output_type": "stream",
     "text": [
      "50\n",
      "180\n",
      "2250\n"
     ]
    }
   ],
   "source": [
    "def multiply(a, b):\n",
    "    return a*b\n",
    "    \n",
    "print(multiply(a=10, b=5))\n",
    "print(multiply(b=20, a=9))\n",
    "print(multiply(a=90, b=25))\n"
   ]
  },
  {
   "cell_type": "code",
   "execution_count": 57,
   "id": "3ef76ec8",
   "metadata": {},
   "outputs": [
    {
     "name": "stdout",
     "output_type": "stream",
     "text": [
      "(12, 22, 23)\n"
     ]
    }
   ],
   "source": [
    "def function(a,b,c):\n",
    "    return a,b,c\n",
    "\n",
    "print(function(12,22,23))\n"
   ]
  },
  {
   "cell_type": "code",
   "execution_count": 58,
   "id": "5daa8035",
   "metadata": {},
   "outputs": [
    {
     "name": "stdout",
     "output_type": "stream",
     "text": [
      "(10, 20, 30)\n"
     ]
    }
   ],
   "source": [
    "def function(a,b,c):\n",
    "    return a,b,c\n",
    "\n",
    "a=10\n",
    "b=20\n",
    "c=30\n",
    "\n",
    "print(function(a,b,c))\n"
   ]
  },
  {
   "cell_type": "code",
   "execution_count": 59,
   "id": "549e021c",
   "metadata": {},
   "outputs": [
    {
     "name": "stdout",
     "output_type": "stream",
     "text": [
      "(20, 30, 10)\n"
     ]
    }
   ],
   "source": [
    "def function(a,b,c):\n",
    "    return a,b,c\n",
    "\n",
    "a=10\n",
    "b=20\n",
    "c=30\n",
    "\n",
    "print(function(b,c,a))"
   ]
  },
  {
   "cell_type": "code",
   "execution_count": 60,
   "id": "ebbe6008",
   "metadata": {},
   "outputs": [
    {
     "name": "stdout",
     "output_type": "stream",
     "text": [
      "(10, 20, 30)\n"
     ]
    }
   ],
   "source": [
    "def function(a,b,c):\n",
    "    return a,b,c\n",
    "\n",
    "print(function(b=20,a=10,c=30))"
   ]
  },
  {
   "cell_type": "code",
   "execution_count": 61,
   "id": "9f8c4372",
   "metadata": {},
   "outputs": [
    {
     "name": "stdout",
     "output_type": "stream",
     "text": [
      "Hai prasanthi Good Morning\n"
     ]
    }
   ],
   "source": [
    "def msg(x,y):\n",
    "    print(x, 'prasanthi', y)\n",
    "\n",
    "msg('Hai' , 'Good Morning')"
   ]
  },
  {
   "cell_type": "code",
   "execution_count": 68,
   "id": "082967f7",
   "metadata": {},
   "outputs": [
    {
     "name": "stdout",
     "output_type": "stream",
     "text": [
      "9\n"
     ]
    }
   ],
   "source": [
    "def add(x=1, y=2):\n",
    "    z = x+y\n",
    "    print(z)\n",
    "\n",
    "add(4,5)\n"
   ]
  },
  {
   "cell_type": "code",
   "execution_count": 70,
   "id": "db52dd15",
   "metadata": {},
   "outputs": [
    {
     "name": "stdout",
     "output_type": "stream",
     "text": [
      "(10, 20, 30)\n"
     ]
    }
   ],
   "source": [
    "def fun(a=10, b=20, c=30):\n",
    "    return a,b,c\n",
    "\n",
    "print(fun())"
   ]
  },
  {
   "cell_type": "code",
   "execution_count": 71,
   "id": "2224ca31",
   "metadata": {},
   "outputs": [
    {
     "name": "stdout",
     "output_type": "stream",
     "text": [
      "(1, 20, 30)\n"
     ]
    }
   ],
   "source": [
    "def fun(a=10, b=20, c=30):\n",
    "    return a,b,c\n",
    "\n",
    "print(fun(1))"
   ]
  },
  {
   "cell_type": "markdown",
   "id": "6a3f7bac",
   "metadata": {},
   "source": [
    "Keyword variable length"
   ]
  },
  {
   "cell_type": "code",
   "execution_count": 73,
   "id": "3d102d5f",
   "metadata": {},
   "outputs": [
    {
     "name": "stdout",
     "output_type": "stream",
     "text": [
      "prasanthi\n",
      "(28, 'mumbai', 9812345)\n"
     ]
    }
   ],
   "source": [
    "def person(name, *data):\n",
    "    print(name)\n",
    "    print(data)\n",
    "\n",
    "person('prasanthi',28, 'mumbai', 9812345)"
   ]
  },
  {
   "cell_type": "code",
   "execution_count": 74,
   "id": "bb7e8454",
   "metadata": {},
   "outputs": [
    {
     "ename": "TypeError",
     "evalue": "person() got an unexpected keyword argument 'age'",
     "output_type": "error",
     "traceback": [
      "\u001b[1;31m---------------------------------------------------------------------------\u001b[0m",
      "\u001b[1;31mTypeError\u001b[0m                                 Traceback (most recent call last)",
      "Input \u001b[1;32mIn [74]\u001b[0m, in \u001b[0;36m<cell line: 5>\u001b[1;34m()\u001b[0m\n\u001b[0;32m      2\u001b[0m     \u001b[38;5;28mprint\u001b[39m(name)\n\u001b[0;32m      3\u001b[0m     \u001b[38;5;28mprint\u001b[39m(data)\n\u001b[1;32m----> 5\u001b[0m \u001b[43mperson\u001b[49m\u001b[43m(\u001b[49m\u001b[38;5;124;43m'\u001b[39;49m\u001b[38;5;124;43mprasanthi\u001b[39;49m\u001b[38;5;124;43m'\u001b[39;49m\u001b[43m,\u001b[49m\u001b[43mage\u001b[49m\u001b[38;5;241;43m=\u001b[39;49m\u001b[38;5;241;43m28\u001b[39;49m\u001b[43m,\u001b[49m\u001b[43m \u001b[49m\u001b[43mcity\u001b[49m\u001b[38;5;241;43m=\u001b[39;49m\u001b[38;5;124;43m'\u001b[39;49m\u001b[38;5;124;43mmumbai\u001b[39;49m\u001b[38;5;124;43m'\u001b[39;49m\u001b[43m,\u001b[49m\u001b[43m \u001b[49m\u001b[43mphone\u001b[49m\u001b[38;5;241;43m=\u001b[39;49m\u001b[38;5;241;43m9812345\u001b[39;49m\u001b[43m)\u001b[49m\n",
      "\u001b[1;31mTypeError\u001b[0m: person() got an unexpected keyword argument 'age'"
     ]
    }
   ],
   "source": [
    "def person(name, *data):\n",
    "    print(name)\n",
    "    print(data)\n",
    "\n",
    "person('prasanthi',age=28, city='mumbai', phone=9812345)"
   ]
  },
  {
   "cell_type": "code",
   "execution_count": 78,
   "id": "860cfdce",
   "metadata": {},
   "outputs": [
    {
     "name": "stdout",
     "output_type": "stream",
     "text": [
      "prasanthi\n",
      "{'age': 28, 'city': 'mumbai', 'phone': 9812345}\n"
     ]
    }
   ],
   "source": [
    "def person(name, **data):\n",
    "    print(name)\n",
    "    print(data)\n",
    "\n",
    "person ('prasanthi',age=28, city='mumbai', phone=9812345)"
   ]
  },
  {
   "cell_type": "code",
   "execution_count": 79,
   "id": "a275bfec",
   "metadata": {},
   "outputs": [
    {
     "name": "stdout",
     "output_type": "stream",
     "text": [
      "prasanthi\n",
      "age 28\n",
      "city mumbai\n",
      "phone 9812345\n"
     ]
    }
   ],
   "source": [
    "def person(name, **data):\n",
    "    \n",
    "    print(name)\n",
    "    \n",
    "    for i,j in data.items():\n",
    "        print(i,j)\n",
    "\n",
    "person('prasanthi',age=28, city='mumbai', phone=9812345)"
   ]
  },
  {
   "cell_type": "code",
   "execution_count": 80,
   "id": "baaea9e7",
   "metadata": {
    "scrolled": true
   },
   "outputs": [
    {
     "name": "stdout",
     "output_type": "stream",
     "text": [
      "Let\n",
      "us\n",
      "study\n",
      "Data Science\n",
      "and\n",
      "Blockchain\n"
     ]
    }
   ],
   "source": [
    "def my_func(*argp):\n",
    "    for i in argp:\n",
    "        print(i)\n",
    "my_func('Let', 'us', 'study', 'Data Science', 'and', 'Blockchain')"
   ]
  },
  {
   "cell_type": "code",
   "execution_count": 83,
   "id": "958337bb",
   "metadata": {},
   "outputs": [
    {
     "name": "stdout",
     "output_type": "stream",
     "text": [
      "Let\n",
      "us\n",
      "study\n",
      "Data Science\n",
      "and\n",
      "Blockchain\n"
     ]
    }
   ],
   "source": [
    "def my_fun(par1,par2,*argp):\n",
    "    \n",
    "    print('The first parameter is:',par1)\n",
    "    print('The second parameter is:',par2)\n",
    "    \n",
    "    for i in argp:\n",
    "        print(i)\n",
    "        \n",
    "my_func('Let', 'us', 'study', 'Data Science', 'and', 'Blockchain')"
   ]
  },
  {
   "cell_type": "code",
   "execution_count": 84,
   "id": "762c7cd8",
   "metadata": {},
   "outputs": [
    {
     "name": "stdout",
     "output_type": "stream",
     "text": [
      "The value of args is: ('Let', 'us', 'study')\n",
      "The value of kwargs is: {'a_key': 'Data Science', 'b_key': 'and', 'c_key': 'Blockchain'}\n"
     ]
    }
   ],
   "source": [
    "#program to demonstrate **kwargs \n",
    "def my_fun(*args,**kwargs):\n",
    "    print('The value of args is:', args)\n",
    "    print('The value of kwargs is:',kwargs)\n",
    "\n",
    "my_fun('Let','us','study',a_key='Data Science',b_key='and',c_key='Blockchain')"
   ]
  },
  {
   "cell_type": "markdown",
   "id": "359a3e3d",
   "metadata": {},
   "source": [
    "Global keyword"
   ]
  },
  {
   "cell_type": "code",
   "execution_count": 86,
   "id": "b6e49a16",
   "metadata": {},
   "outputs": [
    {
     "name": "stdout",
     "output_type": "stream",
     "text": [
      "10\n"
     ]
    }
   ],
   "source": [
    "a = 10\n",
    "\n",
    "print(a)"
   ]
  },
  {
   "cell_type": "code",
   "execution_count": 89,
   "id": "2b3f4eb7",
   "metadata": {},
   "outputs": [
    {
     "name": "stdout",
     "output_type": "stream",
     "text": [
      "10\n"
     ]
    }
   ],
   "source": [
    "a=10\n",
    "\n",
    "def input():\n",
    "    a=15\n",
    "\n",
    "    print(a)\n",
    "    \n",
    "print(a)"
   ]
  },
  {
   "cell_type": "code",
   "execution_count": 91,
   "id": "98200ab7",
   "metadata": {},
   "outputs": [
    {
     "name": "stdout",
     "output_type": "stream",
     "text": [
      "20\n",
      "10\n"
     ]
    }
   ],
   "source": [
    "a=10\n",
    "\n",
    "def input():\n",
    "    a=15\n",
    "    b=8\n",
    "    print(a)\n",
    "\n",
    "print(b)\n",
    "    \n",
    "print(a)"
   ]
  },
  {
   "cell_type": "code",
   "execution_count": 93,
   "id": "d9d18b16",
   "metadata": {},
   "outputs": [
    {
     "name": "stdout",
     "output_type": "stream",
     "text": [
      "in fun 15\n",
      "outside 10\n"
     ]
    }
   ],
   "source": [
    "a=10\n",
    "def input():\n",
    "    a=15\n",
    "    print('in fun', a)\n",
    "input()\n",
    "\n",
    "print('outside', a)"
   ]
  },
  {
   "cell_type": "code",
   "execution_count": 94,
   "id": "eacbb0b7",
   "metadata": {},
   "outputs": [
    {
     "name": "stdout",
     "output_type": "stream",
     "text": [
      "in fun 10\n",
      "outside 10\n"
     ]
    }
   ],
   "source": [
    "a=10\n",
    "def input():\n",
    " \n",
    "    print('in fun', a)\n",
    "input()\n",
    "\n",
    "print('outside', a)"
   ]
  },
  {
   "cell_type": "code",
   "execution_count": 95,
   "id": "8eeb445e",
   "metadata": {},
   "outputs": [
    {
     "name": "stdout",
     "output_type": "stream",
     "text": [
      "in fun 15\n",
      "outside 15\n"
     ]
    }
   ],
   "source": [
    "a=10\n",
    "def input():\n",
    "    global a\n",
    "    a=15\n",
    "    print('in fun', a)\n",
    "    \n",
    "input()\n",
    "\n",
    "print('outside', a)"
   ]
  },
  {
   "cell_type": "code",
   "execution_count": 98,
   "id": "0efb7f23",
   "metadata": {},
   "outputs": [
    {
     "name": "stdout",
     "output_type": "stream",
     "text": [
      "1614570678864\n",
      "1614570678864\n",
      "in fun 9\n",
      "outside 15\n"
     ]
    }
   ],
   "source": [
    "a=10\n",
    "print(id(a))\n",
    "\n",
    "def input():\n",
    "    a=9\n",
    "    \n",
    "    x=globals()['a']\n",
    "    print(id(x))\n",
    "    print('in fun', a)\n",
    "    \n",
    "    globals()['a'] = 15\n",
    "    \n",
    "input()\n",
    "\n",
    "print('outside', a)"
   ]
  },
  {
   "cell_type": "code",
   "execution_count": 99,
   "id": "cd37e8f5",
   "metadata": {},
   "outputs": [
    {
     "name": "stdout",
     "output_type": "stream",
     "text": [
      "inside add(): 2\n",
      "In main: 2\n"
     ]
    }
   ],
   "source": [
    "c = 0\n",
    "def add():\n",
    "    global c\n",
    "    c =c+2\n",
    "    print('inside add():',c)\n",
    "    \n",
    "add()\n",
    "print('In main:',c)\n",
    "    "
   ]
  },
  {
   "cell_type": "code",
   "execution_count": 100,
   "id": "03358d65",
   "metadata": {},
   "outputs": [
    {
     "name": "stdout",
     "output_type": "stream",
     "text": [
      "25\n"
     ]
    }
   ],
   "source": [
    "a=15\n",
    "b=10\n",
    "\n",
    "def add():\n",
    "    c = a+b\n",
    "    print(c)\n",
    "add()"
   ]
  },
  {
   "cell_type": "code",
   "execution_count": 103,
   "id": "6cb4a781",
   "metadata": {},
   "outputs": [
    {
     "ename": "UnboundLocalError",
     "evalue": "local variable 'a' referenced before assignment",
     "output_type": "error",
     "traceback": [
      "\u001b[1;31m---------------------------------------------------------------------------\u001b[0m",
      "\u001b[1;31mUnboundLocalError\u001b[0m                         Traceback (most recent call last)",
      "Input \u001b[1;32mIn [103]\u001b[0m, in \u001b[0;36m<cell line: 9>\u001b[1;34m()\u001b[0m\n\u001b[0;32m      5\u001b[0m     a \u001b[38;5;241m=\u001b[39m a\u001b[38;5;241m+\u001b[39m\u001b[38;5;241m5\u001b[39m\n\u001b[0;32m      7\u001b[0m     \u001b[38;5;28mprint\u001b[39m(a)\n\u001b[1;32m----> 9\u001b[0m \u001b[43mchange\u001b[49m\u001b[43m(\u001b[49m\u001b[43m)\u001b[49m\n",
      "Input \u001b[1;32mIn [103]\u001b[0m, in \u001b[0;36mchange\u001b[1;34m()\u001b[0m\n\u001b[0;32m      4\u001b[0m \u001b[38;5;28;01mdef\u001b[39;00m \u001b[38;5;21mchange\u001b[39m():\n\u001b[1;32m----> 5\u001b[0m     a \u001b[38;5;241m=\u001b[39m \u001b[43ma\u001b[49m\u001b[38;5;241m+\u001b[39m\u001b[38;5;241m5\u001b[39m\n\u001b[0;32m      7\u001b[0m     \u001b[38;5;28mprint\u001b[39m(a)\n",
      "\u001b[1;31mUnboundLocalError\u001b[0m: local variable 'a' referenced before assignment"
     ]
    }
   ],
   "source": [
    "#This output is an error because we are trying to assign a value to a variable in an outer scope. \n",
    "#This can be done with the use of a global variable.a=15\n",
    "\n",
    "def change():\n",
    "    a = a+5\n",
    "    \n",
    "    print(a)\n",
    "\n",
    "change()"
   ]
  },
  {
   "cell_type": "code",
   "execution_count": 104,
   "id": "f4ed0d6f",
   "metadata": {},
   "outputs": [
    {
     "name": "stdout",
     "output_type": "stream",
     "text": [
      "Value of x inside a function: 20\n",
      "Value of x outside a function: 20\n"
     ]
    }
   ],
   "source": [
    "x =15\n",
    "\n",
    "def change():\n",
    "    global x\n",
    "    x=x+5\n",
    "    print('Value of x inside a function:', x)\n",
    "\n",
    "change()\n",
    "print('Value of x outside a function:', x)"
   ]
  },
  {
   "cell_type": "code",
   "execution_count": null,
   "id": "94e2f9d7",
   "metadata": {},
   "outputs": [],
   "source": []
  }
 ],
 "metadata": {
  "kernelspec": {
   "display_name": "Python 3 (ipykernel)",
   "language": "python",
   "name": "python3"
  },
  "language_info": {
   "codemirror_mode": {
    "name": "ipython",
    "version": 3
   },
   "file_extension": ".py",
   "mimetype": "text/x-python",
   "name": "python",
   "nbconvert_exporter": "python",
   "pygments_lexer": "ipython3",
   "version": "3.9.12"
  }
 },
 "nbformat": 4,
 "nbformat_minor": 5
}
