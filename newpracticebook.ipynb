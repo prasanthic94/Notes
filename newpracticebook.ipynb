{
 "cells": [
  {
   "cell_type": "markdown",
   "id": "fb635510",
   "metadata": {},
   "source": [
    "Function Arguments"
   ]
  },
  {
   "cell_type": "code",
   "execution_count": 2,
   "id": "65953756",
   "metadata": {},
   "outputs": [
    {
     "name": "stdout",
     "output_type": "stream",
     "text": [
      "8\n"
     ]
    }
   ],
   "source": [
    "def update(x):\n",
    "    x =8\n",
    "    print(x)\n",
    "update(10)"
   ]
  },
  {
   "cell_type": "code",
   "execution_count": 3,
   "id": "aa7c5e7d",
   "metadata": {},
   "outputs": [
    {
     "name": "stdout",
     "output_type": "stream",
     "text": [
      "8\n",
      "10\n"
     ]
    }
   ],
   "source": [
    "def update(x):\n",
    "    x =8\n",
    "    print(x)\n",
    "    \n",
    "a=10\n",
    "update(a)\n",
    "print(a)"
   ]
  },
  {
   "cell_type": "code",
   "execution_count": 5,
   "id": "31d14216",
   "metadata": {},
   "outputs": [
    {
     "name": "stdout",
     "output_type": "stream",
     "text": [
      "x 8\n",
      "a 10\n"
     ]
    }
   ],
   "source": [
    "def update(x):\n",
    "    x =8\n",
    "    print('x', x)\n",
    "    \n",
    "a=10\n",
    "update(a)\n",
    "print('a', a) "
   ]
  },
  {
   "cell_type": "code",
   "execution_count": 9,
   "id": "525e0d52",
   "metadata": {},
   "outputs": [
    {
     "name": "stdout",
     "output_type": "stream",
     "text": [
      "1614570678864\n",
      "1614570678864\n",
      "1614570678800\n",
      "a 10\n"
     ]
    }
   ],
   "source": [
    "def update(x):\n",
    "    print(id(x))\n",
    "    x=8\n",
    "    print(id(x))\n",
    "\n",
    "a = 10\n",
    "print(id(a))\n",
    "update(a)\n",
    "print('a', a)"
   ]
  },
  {
   "cell_type": "code",
   "execution_count": 10,
   "id": "d164cf7d",
   "metadata": {},
   "outputs": [
    {
     "name": "stdout",
     "output_type": "stream",
     "text": [
      "1614685280960\n",
      "1614685280960\n",
      "1614685280960\n",
      "x [10, 25, 30]\n",
      "lst [10, 25, 30]\n"
     ]
    }
   ],
   "source": [
    "def update(lst):\n",
    "    print(id(lst))\n",
    "    \n",
    "    lst[1] =25\n",
    "    print(id(lst))\n",
    "    print('x', lst)\n",
    "\n",
    "lst = [10, 25, 30]\n",
    "print(id(lst))\n",
    "update(lst)\n",
    "print('lst', lst)"
   ]
  },
  {
   "cell_type": "code",
   "execution_count": 11,
   "id": "43c6c0a2",
   "metadata": {},
   "outputs": [
    {
     "name": "stdout",
     "output_type": "stream",
     "text": [
      "Emil Refsnes\n",
      "Tobias Refsnes\n",
      "Linus Refsnes\n"
     ]
    }
   ],
   "source": [
    "def my_function(fname):\n",
    "  print(fname + \" Refsnes\")\n",
    "\n",
    "my_function(\"Emil\")\n",
    "my_function(\"Tobias\")\n",
    "my_function(\"Linus\")"
   ]
  },
  {
   "cell_type": "code",
   "execution_count": 13,
   "id": "749e451c",
   "metadata": {},
   "outputs": [
    {
     "name": "stdout",
     "output_type": "stream",
     "text": [
      "18\n"
     ]
    }
   ],
   "source": [
    "def add(a,b=5,c=10):\n",
    "    return (a+b+c)\n",
    "print(add(3))"
   ]
  },
  {
   "cell_type": "code",
   "execution_count": 16,
   "id": "95920c23",
   "metadata": {},
   "outputs": [
    {
     "name": "stdout",
     "output_type": "stream",
     "text": [
      "17\n"
     ]
    }
   ],
   "source": [
    "def add(a,b=5,c=10):\n",
    "    return (a+b+c)\n",
    "print(add(3,4))"
   ]
  },
  {
   "cell_type": "code",
   "execution_count": 17,
   "id": "c37819d4",
   "metadata": {},
   "outputs": [
    {
     "name": "stdout",
     "output_type": "stream",
     "text": [
      "prasanthi\n",
      "28\n"
     ]
    }
   ],
   "source": [
    "#postion argument\n",
    "def person(name,age):\n",
    "    print(name)\n",
    "    print(age)\n",
    "\n",
    "person('prasanthi', 28)\n",
    "    "
   ]
  },
  {
   "cell_type": "code",
   "execution_count": 56,
   "id": "7a8f4db1",
   "metadata": {},
   "outputs": [
    {
     "name": "stdout",
     "output_type": "stream",
     "text": [
      "prasanthilava\n"
     ]
    }
   ],
   "source": [
    "def person_name(first_name,second_name):\n",
    "    print(first_name+second_name)\n",
    "\n",
    "person_name('prasanthi', 'lava')"
   ]
  },
  {
   "cell_type": "code",
   "execution_count": 18,
   "id": "56806c6e",
   "metadata": {},
   "outputs": [
    {
     "name": "stdout",
     "output_type": "stream",
     "text": [
      "28\n",
      "prasanthi\n"
     ]
    }
   ],
   "source": [
    "def person(name,age):\n",
    "    print(name)\n",
    "    print(age)\n",
    "\n",
    "person(28, 'prasanthi')"
   ]
  },
  {
   "cell_type": "code",
   "execution_count": 21,
   "id": "6aefa604",
   "metadata": {},
   "outputs": [
    {
     "name": "stdout",
     "output_type": "stream",
     "text": [
      "28\n"
     ]
    },
    {
     "ename": "TypeError",
     "evalue": "unsupported operand type(s) for -: 'str' and 'int'",
     "output_type": "error",
     "traceback": [
      "\u001b[1;31m---------------------------------------------------------------------------\u001b[0m",
      "\u001b[1;31mTypeError\u001b[0m                                 Traceback (most recent call last)",
      "Input \u001b[1;32mIn [21]\u001b[0m, in \u001b[0;36m<cell line: 5>\u001b[1;34m()\u001b[0m\n\u001b[0;32m      2\u001b[0m     \u001b[38;5;28mprint\u001b[39m(name)\n\u001b[0;32m      3\u001b[0m     \u001b[38;5;28mprint\u001b[39m(age\u001b[38;5;241m-\u001b[39m\u001b[38;5;241m5\u001b[39m)\n\u001b[1;32m----> 5\u001b[0m \u001b[43mperson\u001b[49m\u001b[43m(\u001b[49m\u001b[38;5;241;43m28\u001b[39;49m\u001b[43m,\u001b[49m\u001b[43m \u001b[49m\u001b[38;5;124;43m'\u001b[39;49m\u001b[38;5;124;43mprasanthi\u001b[39;49m\u001b[38;5;124;43m'\u001b[39;49m\u001b[43m)\u001b[49m\n",
      "Input \u001b[1;32mIn [21]\u001b[0m, in \u001b[0;36mperson\u001b[1;34m(name, age)\u001b[0m\n\u001b[0;32m      1\u001b[0m \u001b[38;5;28;01mdef\u001b[39;00m \u001b[38;5;21mperson\u001b[39m(name,age):\n\u001b[0;32m      2\u001b[0m     \u001b[38;5;28mprint\u001b[39m(name)\n\u001b[1;32m----> 3\u001b[0m     \u001b[38;5;28mprint\u001b[39m(\u001b[43mage\u001b[49m\u001b[38;5;241;43m-\u001b[39;49m\u001b[38;5;241;43m5\u001b[39;49m)\n",
      "\u001b[1;31mTypeError\u001b[0m: unsupported operand type(s) for -: 'str' and 'int'"
     ]
    }
   ],
   "source": [
    "def person(name,age):\n",
    "    print(name)\n",
    "    print(age-5)\n",
    "\n",
    "person(28, 'prasanthi')"
   ]
  },
  {
   "cell_type": "code",
   "execution_count": 22,
   "id": "d7ec7319",
   "metadata": {},
   "outputs": [
    {
     "name": "stdout",
     "output_type": "stream",
     "text": [
      "prasanthi\n",
      "28\n"
     ]
    }
   ],
   "source": [
    "#keyword argument\n",
    "\n",
    "def person(name,age):\n",
    "    print(name)\n",
    "    print(age)\n",
    "\n",
    "person (age=28, name='prasanthi')"
   ]
  },
  {
   "cell_type": "code",
   "execution_count": 24,
   "id": "a0f3b6ea",
   "metadata": {},
   "outputs": [
    {
     "name": "stdout",
     "output_type": "stream",
     "text": [
      "prasanthi\n",
      "18\n"
     ]
    }
   ],
   "source": [
    "#default \n",
    "def person(name,age=18):\n",
    "    print(name)\n",
    "    print(age)\n",
    "\n",
    "person('prasanthi')"
   ]
  },
  {
   "cell_type": "code",
   "execution_count": 25,
   "id": "cba86846",
   "metadata": {},
   "outputs": [
    {
     "name": "stdout",
     "output_type": "stream",
     "text": [
      "prasanthi\n",
      "28\n"
     ]
    }
   ],
   "source": [
    "def person(name,age=18):\n",
    "    print(name)\n",
    "    print(age)\n",
    "\n",
    "person('prasanthi', 28)"
   ]
  },
  {
   "cell_type": "code",
   "execution_count": 28,
   "id": "25cabad0",
   "metadata": {},
   "outputs": [
    {
     "ename": "TypeError",
     "evalue": "unsupported operand type(s) for +: 'int' and 'tuple'",
     "output_type": "error",
     "traceback": [
      "\u001b[1;31m---------------------------------------------------------------------------\u001b[0m",
      "\u001b[1;31mTypeError\u001b[0m                                 Traceback (most recent call last)",
      "Input \u001b[1;32mIn [28]\u001b[0m, in \u001b[0;36m<cell line: 5>\u001b[1;34m()\u001b[0m\n\u001b[0;32m      2\u001b[0m     c\u001b[38;5;241m=\u001b[39m a\u001b[38;5;241m+\u001b[39mb\n\u001b[0;32m      3\u001b[0m     \u001b[38;5;28mprint\u001b[39m(c)\n\u001b[1;32m----> 5\u001b[0m \u001b[38;5;28;43msum\u001b[39;49m\u001b[43m(\u001b[49m\u001b[38;5;241;43m5\u001b[39;49m\u001b[43m,\u001b[49m\u001b[38;5;241;43m6\u001b[39;49m\u001b[43m,\u001b[49m\u001b[38;5;241;43m34\u001b[39;49m\u001b[43m,\u001b[49m\u001b[38;5;241;43m78\u001b[39;49m\u001b[43m)\u001b[49m\n",
      "Input \u001b[1;32mIn [28]\u001b[0m, in \u001b[0;36msum\u001b[1;34m(a, *b)\u001b[0m\n\u001b[0;32m      1\u001b[0m \u001b[38;5;28;01mdef\u001b[39;00m \u001b[38;5;21msum\u001b[39m(a, \u001b[38;5;241m*\u001b[39mb):\n\u001b[1;32m----> 2\u001b[0m     c\u001b[38;5;241m=\u001b[39m \u001b[43ma\u001b[49m\u001b[38;5;241;43m+\u001b[39;49m\u001b[43mb\u001b[49m\n\u001b[0;32m      3\u001b[0m     \u001b[38;5;28mprint\u001b[39m(c)\n",
      "\u001b[1;31mTypeError\u001b[0m: unsupported operand type(s) for +: 'int' and 'tuple'"
     ]
    }
   ],
   "source": [
    "def sum(a, *b):\n",
    "    c= a+b\n",
    "    print(c)\n",
    " \n",
    "sum(5,6,34,78)    "
   ]
  },
  {
   "cell_type": "code",
   "execution_count": 38,
   "id": "daa5b5fb",
   "metadata": {},
   "outputs": [
    {
     "ename": "SyntaxError",
     "evalue": "non-default argument follows default argument (139207218.py, line 1)",
     "output_type": "error",
     "traceback": [
      "\u001b[1;36m  Input \u001b[1;32mIn [38]\u001b[1;36m\u001b[0m\n\u001b[1;33m    def add(a=5,b,c):\u001b[0m\n\u001b[1;37m                  ^\u001b[0m\n\u001b[1;31mSyntaxError\u001b[0m\u001b[1;31m:\u001b[0m non-default argument follows default argument\n"
     ]
    }
   ],
   "source": [
    "def add(a=5,b,c):\n",
    "    return (a+b+c)\n"
   ]
  },
  {
   "cell_type": "code",
   "execution_count": 39,
   "id": "0e91a567",
   "metadata": {},
   "outputs": [
    {
     "ename": "SyntaxError",
     "evalue": "positional argument follows keyword argument (3055781977.py, line 4)",
     "output_type": "error",
     "traceback": [
      "\u001b[1;36m  Input \u001b[1;32mIn [39]\u001b[1;36m\u001b[0m\n\u001b[1;33m    print (add(a=10,3,4))\u001b[0m\n\u001b[1;37m                       ^\u001b[0m\n\u001b[1;31mSyntaxError\u001b[0m\u001b[1;31m:\u001b[0m positional argument follows keyword argument\n"
     ]
    }
   ],
   "source": [
    "def add(a,b,c):\n",
    "    return (a+b+c)\n",
    "\n",
    "print (add(a=10,3,4))"
   ]
  },
  {
   "cell_type": "code",
   "execution_count": 40,
   "id": "0122783b",
   "metadata": {},
   "outputs": [
    {
     "name": "stdout",
     "output_type": "stream",
     "text": [
      "17\n"
     ]
    }
   ],
   "source": [
    "def add(a,b=5,c=10):\n",
    "    return (a+b+c)\n",
    "\n",
    "print (add(2))"
   ]
  },
  {
   "cell_type": "code",
   "execution_count": 34,
   "id": "c26534dd",
   "metadata": {},
   "outputs": [
    {
     "name": "stdout",
     "output_type": "stream",
     "text": [
      "123\n"
     ]
    }
   ],
   "source": [
    "def sum(a, *b):\n",
    "    c=a\n",
    "    \n",
    "    for i in b:\n",
    "        c = c+i\n",
    "    print(c)\n",
    "\n",
    "sum(5,6,34,78)"
   ]
  },
  {
   "cell_type": "code",
   "execution_count": 35,
   "id": "42ed4f95",
   "metadata": {},
   "outputs": [
    {
     "name": "stdout",
     "output_type": "stream",
     "text": [
      "118\n"
     ]
    }
   ],
   "source": [
    "def sum(a, *b):\n",
    "    c=0\n",
    "    \n",
    "    for i in b:\n",
    "        c = c+i\n",
    "    print(c)\n",
    "\n",
    "sum(5,6,34,78)"
   ]
  },
  {
   "cell_type": "code",
   "execution_count": 41,
   "id": "df96c14d",
   "metadata": {},
   "outputs": [
    {
     "name": "stdout",
     "output_type": "stream",
     "text": [
      "15\n"
     ]
    }
   ],
   "source": [
    "def add(*b):\n",
    "    result=0\n",
    "    for i in b:\n",
    "         result=result+i\n",
    "    return result\n",
    "\n",
    "print (add(1,2,3,4,5))"
   ]
  },
  {
   "cell_type": "code",
   "execution_count": 42,
   "id": "dd6d10a5",
   "metadata": {},
   "outputs": [
    {
     "data": {
      "text/plain": [
       "1.5"
      ]
     },
     "execution_count": 42,
     "metadata": {},
     "output_type": "execute_result"
    }
   ],
   "source": [
    "def divide(a,b):\n",
    "                return a/b\n",
    "divide(3,2)"
   ]
  },
  {
   "cell_type": "code",
   "execution_count": 44,
   "id": "16344712",
   "metadata": {},
   "outputs": [
    {
     "name": "stdout",
     "output_type": "stream",
     "text": [
      "Hello prasanthi, Good morning!\n"
     ]
    }
   ],
   "source": [
    "def greet(name, msg):\n",
    "    \"\"\"This function greets to\n",
    "    the person with the provided message\"\"\"\n",
    "    print(\"Hello\", name + ', ' + msg)\n",
    "\n",
    "greet(\"prasanthi\", \"Good morning!\")"
   ]
  },
  {
   "cell_type": "code",
   "execution_count": 48,
   "id": "606f9f7f",
   "metadata": {},
   "outputs": [
    {
     "name": "stdout",
     "output_type": "stream",
     "text": [
      "4.0\n"
     ]
    }
   ],
   "source": [
    "def divide_two(a, b):\n",
    "    res = a / b\n",
    "    return res\n",
    " \n",
    "res = divide_two(12, 3)\n",
    "print(res)"
   ]
  },
  {
   "cell_type": "code",
   "execution_count": 50,
   "id": "ca921865",
   "metadata": {},
   "outputs": [
    {
     "name": "stdout",
     "output_type": "stream",
     "text": [
      "hello world\n",
      "hello prasanthi\n"
     ]
    }
   ],
   "source": [
    "def sayhello(name = 'world'):\n",
    "    print('hello', name)\n",
    "\n",
    "sayhello()\n",
    "sayhello('prasanthi')"
   ]
  },
  {
   "cell_type": "code",
   "execution_count": 53,
   "id": "1ea3feca",
   "metadata": {},
   "outputs": [
    {
     "name": "stdout",
     "output_type": "stream",
     "text": [
      "50\n",
      "180\n",
      "2250\n"
     ]
    }
   ],
   "source": [
    "def multiply(a, b):\n",
    "    return a*b\n",
    "    \n",
    "print(multiply(a=10, b=5))\n",
    "print(multiply(b=20, a=9))\n",
    "print(multiply(a=90, b=25))\n"
   ]
  },
  {
   "cell_type": "code",
   "execution_count": 57,
   "id": "78dc18d7",
   "metadata": {},
   "outputs": [
    {
     "name": "stdout",
     "output_type": "stream",
     "text": [
      "(12, 22, 23)\n"
     ]
    }
   ],
   "source": [
    "def function(a,b,c):\n",
    "    return a,b,c\n",
    "\n",
    "print(function(12,22,23))\n"
   ]
  },
  {
   "cell_type": "code",
   "execution_count": 58,
   "id": "b40ec6da",
   "metadata": {},
   "outputs": [
    {
     "name": "stdout",
     "output_type": "stream",
     "text": [
      "(10, 20, 30)\n"
     ]
    }
   ],
   "source": [
    "def function(a,b,c):\n",
    "    return a,b,c\n",
    "\n",
    "a=10\n",
    "b=20\n",
    "c=30\n",
    "\n",
    "print(function(a,b,c))\n"
   ]
  },
  {
   "cell_type": "code",
   "execution_count": 59,
   "id": "95ad5358",
   "metadata": {},
   "outputs": [
    {
     "name": "stdout",
     "output_type": "stream",
     "text": [
      "(20, 30, 10)\n"
     ]
    }
   ],
   "source": [
    "def function(a,b,c):\n",
    "    return a,b,c\n",
    "\n",
    "a=10\n",
    "b=20\n",
    "c=30\n",
    "\n",
    "print(function(b,c,a))"
   ]
  },
  {
   "cell_type": "code",
   "execution_count": 60,
   "id": "65836c73",
   "metadata": {},
   "outputs": [
    {
     "name": "stdout",
     "output_type": "stream",
     "text": [
      "(10, 20, 30)\n"
     ]
    }
   ],
   "source": [
    "def function(a,b,c):\n",
    "    return a,b,c\n",
    "\n",
    "print(function(b=20,a=10,c=30))"
   ]
  },
  {
   "cell_type": "code",
   "execution_count": 61,
   "id": "2d4e3a4e",
   "metadata": {},
   "outputs": [
    {
     "name": "stdout",
     "output_type": "stream",
     "text": [
      "Hai prasanthi Good Morning\n"
     ]
    }
   ],
   "source": [
    "def msg(x,y):\n",
    "    print(x, 'prasanthi', y)\n",
    "\n",
    "msg('Hai' , 'Good Morning')"
   ]
  },
  {
   "cell_type": "code",
   "execution_count": 68,
   "id": "450eaa0e",
   "metadata": {},
   "outputs": [
    {
     "name": "stdout",
     "output_type": "stream",
     "text": [
      "9\n"
     ]
    }
   ],
   "source": [
    "def add(x=1, y=2):\n",
    "    z = x+y\n",
    "    print(z)\n",
    "\n",
    "add(4,5)\n"
   ]
  },
  {
   "cell_type": "code",
   "execution_count": 70,
   "id": "a62ba5ab",
   "metadata": {},
   "outputs": [
    {
     "name": "stdout",
     "output_type": "stream",
     "text": [
      "(10, 20, 30)\n"
     ]
    }
   ],
   "source": [
    "def fun(a=10, b=20, c=30):\n",
    "    return a,b,c\n",
    "\n",
    "print(fun())"
   ]
  },
  {
   "cell_type": "code",
   "execution_count": 71,
   "id": "e8529c8b",
   "metadata": {},
   "outputs": [
    {
     "name": "stdout",
     "output_type": "stream",
     "text": [
      "(1, 20, 30)\n"
     ]
    }
   ],
   "source": [
    "def fun(a=10, b=20, c=30):\n",
    "    return a,b,c\n",
    "\n",
    "print(fun(1))"
   ]
  },
  {
   "cell_type": "markdown",
   "id": "b56fcae9",
   "metadata": {},
   "source": [
    "Keyword variable length"
   ]
  },
  {
   "cell_type": "code",
   "execution_count": 73,
   "id": "8531d582",
   "metadata": {},
   "outputs": [
    {
     "name": "stdout",
     "output_type": "stream",
     "text": [
      "prasanthi\n",
      "(28, 'mumbai', 9812345)\n"
     ]
    }
   ],
   "source": [
    "def person(name, *data):\n",
    "    print(name)\n",
    "    print(data)\n",
    "\n",
    "person('prasanthi',28, 'mumbai', 9812345)"
   ]
  },
  {
   "cell_type": "code",
   "execution_count": 74,
   "id": "ddd18ab9",
   "metadata": {},
   "outputs": [
    {
     "ename": "TypeError",
     "evalue": "person() got an unexpected keyword argument 'age'",
     "output_type": "error",
     "traceback": [
      "\u001b[1;31m---------------------------------------------------------------------------\u001b[0m",
      "\u001b[1;31mTypeError\u001b[0m                                 Traceback (most recent call last)",
      "Input \u001b[1;32mIn [74]\u001b[0m, in \u001b[0;36m<cell line: 5>\u001b[1;34m()\u001b[0m\n\u001b[0;32m      2\u001b[0m     \u001b[38;5;28mprint\u001b[39m(name)\n\u001b[0;32m      3\u001b[0m     \u001b[38;5;28mprint\u001b[39m(data)\n\u001b[1;32m----> 5\u001b[0m \u001b[43mperson\u001b[49m\u001b[43m(\u001b[49m\u001b[38;5;124;43m'\u001b[39;49m\u001b[38;5;124;43mprasanthi\u001b[39;49m\u001b[38;5;124;43m'\u001b[39;49m\u001b[43m,\u001b[49m\u001b[43mage\u001b[49m\u001b[38;5;241;43m=\u001b[39;49m\u001b[38;5;241;43m28\u001b[39;49m\u001b[43m,\u001b[49m\u001b[43m \u001b[49m\u001b[43mcity\u001b[49m\u001b[38;5;241;43m=\u001b[39;49m\u001b[38;5;124;43m'\u001b[39;49m\u001b[38;5;124;43mmumbai\u001b[39;49m\u001b[38;5;124;43m'\u001b[39;49m\u001b[43m,\u001b[49m\u001b[43m \u001b[49m\u001b[43mphone\u001b[49m\u001b[38;5;241;43m=\u001b[39;49m\u001b[38;5;241;43m9812345\u001b[39;49m\u001b[43m)\u001b[49m\n",
      "\u001b[1;31mTypeError\u001b[0m: person() got an unexpected keyword argument 'age'"
     ]
    }
   ],
   "source": [
    "def person(name, *data):\n",
    "    print(name)\n",
    "    print(data)\n",
    "\n",
    "person('prasanthi',age=28, city='mumbai', phone=9812345)"
   ]
  },
  {
   "cell_type": "code",
   "execution_count": 78,
   "id": "d24c2cbc",
   "metadata": {},
   "outputs": [
    {
     "name": "stdout",
     "output_type": "stream",
     "text": [
      "prasanthi\n",
      "{'age': 28, 'city': 'mumbai', 'phone': 9812345}\n"
     ]
    }
   ],
   "source": [
    "def person(name, **data):\n",
    "    print(name)\n",
    "    print(data)\n",
    "\n",
    "person ('prasanthi',age=28, city='mumbai', phone=9812345)"
   ]
  },
  {
   "cell_type": "code",
   "execution_count": 79,
   "id": "05868c94",
   "metadata": {},
   "outputs": [
    {
     "name": "stdout",
     "output_type": "stream",
     "text": [
      "prasanthi\n",
      "age 28\n",
      "city mumbai\n",
      "phone 9812345\n"
     ]
    }
   ],
   "source": [
    "def person(name, **data):\n",
    "    \n",
    "    print(name)\n",
    "    \n",
    "    for i,j in data.items():\n",
    "        print(i,j)\n",
    "\n",
    "person('prasanthi',age=28, city='mumbai', phone=9812345)"
   ]
  },
  {
   "cell_type": "code",
   "execution_count": 80,
   "id": "3c109d72",
   "metadata": {
    "scrolled": true
   },
   "outputs": [
    {
     "name": "stdout",
     "output_type": "stream",
     "text": [
      "Let\n",
      "us\n",
      "study\n",
      "Data Science\n",
      "and\n",
      "Blockchain\n"
     ]
    }
   ],
   "source": [
    "def my_func(*argp):\n",
    "    for i in argp:\n",
    "        print(i)\n",
    "my_func('Let', 'us', 'study', 'Data Science', 'and', 'Blockchain')"
   ]
  },
  {
   "cell_type": "code",
   "execution_count": 83,
   "id": "ede7e314",
   "metadata": {},
   "outputs": [
    {
     "name": "stdout",
     "output_type": "stream",
     "text": [
      "Let\n",
      "us\n",
      "study\n",
      "Data Science\n",
      "and\n",
      "Blockchain\n"
     ]
    }
   ],
   "source": [
    "def my_fun(par1,par2,*argp):\n",
    "    \n",
    "    print('The first parameter is:',par1)\n",
    "    print('The second parameter is:',par2)\n",
    "    \n",
    "    for i in argp:\n",
    "        print(i)\n",
    "        \n",
    "my_func('Let', 'us', 'study', 'Data Science', 'and', 'Blockchain')"
   ]
  },
  {
   "cell_type": "code",
   "execution_count": 84,
   "id": "9379518c",
   "metadata": {},
   "outputs": [
    {
     "name": "stdout",
     "output_type": "stream",
     "text": [
      "The value of args is: ('Let', 'us', 'study')\n",
      "The value of kwargs is: {'a_key': 'Data Science', 'b_key': 'and', 'c_key': 'Blockchain'}\n"
     ]
    }
   ],
   "source": [
    "#program to demonstrate **kwargs \n",
    "def my_fun(*args,**kwargs):\n",
    "    print('The value of args is:', args)\n",
    "    print('The value of kwargs is:',kwargs)\n",
    "\n",
    "my_fun('Let','us','study',a_key='Data Science',b_key='and',c_key='Blockchain')"
   ]
  },
  {
   "cell_type": "code",
   "execution_count": null,
   "id": "241a170e",
   "metadata": {},
   "outputs": [],
   "source": []
  }
 ],
 "metadata": {
  "kernelspec": {
   "display_name": "Python 3 (ipykernel)",
   "language": "python",
   "name": "python3"
  },
  "language_info": {
   "codemirror_mode": {
    "name": "ipython",
    "version": 3
   },
   "file_extension": ".py",
   "mimetype": "text/x-python",
   "name": "python",
   "nbconvert_exporter": "python",
   "pygments_lexer": "ipython3",
   "version": "3.9.12"
  }
 },
 "nbformat": 4,
 "nbformat_minor": 5
}
