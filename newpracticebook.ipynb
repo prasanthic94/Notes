{
 "cells": [
  {
   "cell_type": "markdown",
   "id": "591c90fe",
   "metadata": {},
   "source": [
    "Function Arguments"
   ]
  },
  {
   "cell_type": "code",
   "execution_count": null,
   "id": "cdffe4ac",
   "metadata": {},
   "outputs": [],
   "source": [
    "def update(x):\n",
    "    x =8\n",
    "    print(x)\n",
    "update(10)"
   ]
  },
  {
   "cell_type": "code",
   "execution_count": null,
   "id": "5956dc08",
   "metadata": {},
   "outputs": [],
   "source": [
    "def update(x):\n",
    "    x =8\n",
    "    print(x)\n",
    "    \n",
    "a=10\n",
    "update(a)\n",
    "print(a)"
   ]
  },
  {
   "cell_type": "code",
   "execution_count": null,
   "id": "18f422a5",
   "metadata": {},
   "outputs": [],
   "source": [
    "def update(x):\n",
    "    x =8\n",
    "    print('x', x)\n",
    "    \n",
    "a=10\n",
    "update(a)\n",
    "print('a', a) "
   ]
  },
  {
   "cell_type": "code",
   "execution_count": null,
   "id": "968aa4e7",
   "metadata": {},
   "outputs": [],
   "source": [
    "def update(x):\n",
    "    print(id(x))\n",
    "    x=8\n",
    "    print(id(x))\n",
    "\n",
    "a = 10\n",
    "print(id(a))\n",
    "update(a)\n",
    "print('a', a)"
   ]
  },
  {
   "cell_type": "code",
   "execution_count": null,
   "id": "aa6e4d3d",
   "metadata": {},
   "outputs": [],
   "source": [
    "def update(lst):\n",
    "    print(id(lst))\n",
    "    \n",
    "    lst[1] =25\n",
    "    print(id(lst))\n",
    "    print('x', lst)\n",
    "\n",
    "lst = [10, 25, 30]\n",
    "print(id(lst))\n",
    "update(lst)\n",
    "print('lst', lst)"
   ]
  },
  {
   "cell_type": "code",
   "execution_count": null,
   "id": "775dc64e",
   "metadata": {},
   "outputs": [],
   "source": [
    "def my_function(fname):\n",
    "  print(fname + \" Refsnes\")\n",
    "\n",
    "my_function(\"Emil\")\n",
    "my_function(\"Tobias\")\n",
    "my_function(\"Linus\")"
   ]
  },
  {
   "cell_type": "code",
   "execution_count": null,
   "id": "faf4a30e",
   "metadata": {},
   "outputs": [],
   "source": [
    "def add(a,b=5,c=10):\n",
    "    return (a+b+c)\n",
    "print(add(3))"
   ]
  },
  {
   "cell_type": "code",
   "execution_count": null,
   "id": "f8c8ad37",
   "metadata": {},
   "outputs": [],
   "source": [
    "def add(a,b=5,c=10):\n",
    "    return (a+b+c)\n",
    "print(add(3,4))"
   ]
  },
  {
   "cell_type": "code",
   "execution_count": null,
   "id": "fa2315be",
   "metadata": {},
   "outputs": [],
   "source": [
    "#postion argument\n",
    "def person(name,age):\n",
    "    print(name)\n",
    "    print(age)\n",
    "\n",
    "person('prasanthi', 28)\n",
    "    "
   ]
  },
  {
   "cell_type": "code",
   "execution_count": null,
   "id": "c50cf9f5",
   "metadata": {},
   "outputs": [],
   "source": [
    "def person_name(first_name,second_name):\n",
    "    print(first_name+second_name)\n",
    "\n",
    "person_name('prasanthi', 'lava')"
   ]
  },
  {
   "cell_type": "code",
   "execution_count": null,
   "id": "7fa75c2a",
   "metadata": {},
   "outputs": [],
   "source": [
    "def person(name,age):\n",
    "    print(name)\n",
    "    print(age)\n",
    "\n",
    "person(28, 'prasanthi')"
   ]
  },
  {
   "cell_type": "code",
   "execution_count": null,
   "id": "c7e88cb2",
   "metadata": {},
   "outputs": [],
   "source": [
    "def person(name,age):\n",
    "    print(name)\n",
    "    print(age-5)\n",
    "\n",
    "person(28, 'prasanthi')"
   ]
  },
  {
   "cell_type": "code",
   "execution_count": null,
   "id": "b4fcb306",
   "metadata": {},
   "outputs": [],
   "source": [
    "#keyword argument\n",
    "\n",
    "def person(name,age):\n",
    "    print(name)\n",
    "    print(age)\n",
    "\n",
    "\n",
    "person (age=28, name='prasanthi')"
   ]
  },
  {
   "cell_type": "code",
   "execution_count": null,
   "id": "efe7c36f",
   "metadata": {},
   "outputs": [],
   "source": [
    "#default \n",
    "def person(name,age=18):\n",
    "    print(name)\n",
    "    print(age)\n",
    "\n",
    "person('prasanthi')"
   ]
  },
  {
   "cell_type": "code",
   "execution_count": null,
   "id": "79a4659e",
   "metadata": {},
   "outputs": [],
   "source": [
    "def person(name,age=18):\n",
    "    print(name)\n",
    "    print(age)\n",
    "\n",
    "person('prasanthi', 28)"
   ]
  },
  {
   "cell_type": "code",
   "execution_count": null,
   "id": "682c6bca",
   "metadata": {},
   "outputs": [],
   "source": [
    "def sum(a, *b):\n",
    "    c= a+b\n",
    "    print(c)\n",
    " \n",
    "sum(5,6,34,78)    "
   ]
  },
  {
   "cell_type": "code",
   "execution_count": null,
   "id": "e3ec62c8",
   "metadata": {},
   "outputs": [],
   "source": [
    "def add(a=5,b,c):\n",
    "    return (a+b+c)\n"
   ]
  },
  {
   "cell_type": "code",
   "execution_count": null,
   "id": "eec20d43",
   "metadata": {},
   "outputs": [],
   "source": [
    "def add(a,b,c):\n",
    "    return (a+b+c)\n",
    "\n",
    "print (add(a=10,3,4))"
   ]
  },
  {
   "cell_type": "code",
   "execution_count": null,
   "id": "81b8730b",
   "metadata": {},
   "outputs": [],
   "source": [
    "def add(a,b=5,c=10):\n",
    "    return (a+b+c)\n",
    "\n",
    "print (add(2))"
   ]
  },
  {
   "cell_type": "code",
   "execution_count": null,
   "id": "16e06787",
   "metadata": {},
   "outputs": [],
   "source": [
    "def sum(a, *b):\n",
    "    c=a\n",
    "    \n",
    "    for i in b:\n",
    "        c = c+i\n",
    "    print(c)\n",
    "\n",
    "sum(5,6,34,78)"
   ]
  },
  {
   "cell_type": "code",
   "execution_count": null,
   "id": "9f78659c",
   "metadata": {},
   "outputs": [],
   "source": [
    "def sum(a, *b):\n",
    "    c=0\n",
    "    \n",
    "    for i in b:\n",
    "        c = c+i\n",
    "    print(c)\n",
    "\n",
    "sum(5,6,34,78)"
   ]
  },
  {
   "cell_type": "code",
   "execution_count": null,
   "id": "67f6cb4e",
   "metadata": {},
   "outputs": [],
   "source": [
    "def add(*b):\n",
    "    result=0\n",
    "    for i in b:\n",
    "         result=result+i\n",
    "    return result\n",
    "\n",
    "print (add(1,2,3,4,5))"
   ]
  },
  {
   "cell_type": "code",
   "execution_count": null,
   "id": "dfb29723",
   "metadata": {},
   "outputs": [],
   "source": [
    "def divide(a,b):\n",
    "                return a/b\n",
    "divide(3,2)"
   ]
  },
  {
   "cell_type": "code",
   "execution_count": null,
   "id": "5a7a2bbd",
   "metadata": {},
   "outputs": [],
   "source": [
    "def greet(name, msg):\n",
    "    \"\"\"This function greets to\n",
    "    the person with the provided message\"\"\"\n",
    "    print(\"Hello\", name + ', ' + msg)\n",
    "\n",
    "greet(\"prasanthi\", \"Good morning!\")"
   ]
  },
  {
   "cell_type": "code",
   "execution_count": null,
   "id": "112a04d0",
   "metadata": {},
   "outputs": [],
   "source": [
    "def divide_two(a, b):\n",
    "    res = a / b\n",
    "    return res\n",
    " \n",
    "res = divide_two(12, 3)\n",
    "print(res)"
   ]
  },
  {
   "cell_type": "code",
   "execution_count": null,
   "id": "a2f4ae5e",
   "metadata": {},
   "outputs": [],
   "source": [
    "def sayhello(name = 'world'):\n",
    "    print('hello', name)\n",
    "\n",
    "sayhello()\n",
    "sayhello('prasanthi')"
   ]
  },
  {
   "cell_type": "code",
   "execution_count": null,
   "id": "290213bf",
   "metadata": {},
   "outputs": [],
   "source": [
    "def multiply(a, b):\n",
    "    return a*b\n",
    "    \n",
    "print(multiply(a=10, b=5))\n",
    "print(multiply(b=20, a=9))\n",
    "print(multiply(a=90, b=25))\n"
   ]
  },
  {
   "cell_type": "code",
   "execution_count": null,
   "id": "d6077449",
   "metadata": {},
   "outputs": [],
   "source": [
    "def function(a,b,c):\n",
    "    return a,b,c\n",
    "\n",
    "print(function(12,22,23))\n"
   ]
  },
  {
   "cell_type": "code",
   "execution_count": null,
   "id": "29b665fb",
   "metadata": {},
   "outputs": [],
   "source": [
    "def function(a,b,c):\n",
    "    return a,b,c\n",
    "\n",
    "a=10\n",
    "b=20\n",
    "c=30\n",
    "\n",
    "print(function(a,b,c))\n"
   ]
  },
  {
   "cell_type": "code",
   "execution_count": null,
   "id": "90667ae2",
   "metadata": {},
   "outputs": [],
   "source": [
    "def function(a,b,c):\n",
    "    return a,b,c\n",
    "\n",
    "a=10\n",
    "b=20\n",
    "c=30\n",
    "\n",
    "print(function(b,c,a))"
   ]
  },
  {
   "cell_type": "code",
   "execution_count": null,
   "id": "3c911492",
   "metadata": {},
   "outputs": [],
   "source": [
    "def function(a,b,c):\n",
    "    return a,b,c\n",
    "\n",
    "print(function(b=20,a=10,c=30))"
   ]
  },
  {
   "cell_type": "code",
   "execution_count": null,
   "id": "692abb79",
   "metadata": {},
   "outputs": [],
   "source": [
    "def msg(x,y):\n",
    "    print(x, 'prasanthi', y)\n",
    "\n",
    "msg('Hai' , 'Good Morning')"
   ]
  },
  {
   "cell_type": "code",
   "execution_count": null,
   "id": "17bf2d85",
   "metadata": {},
   "outputs": [],
   "source": [
    "def add(x=1, y=2):\n",
    "    z = x+y\n",
    "    print(z)\n",
    "\n",
    "add(4,5)\n"
   ]
  },
  {
   "cell_type": "code",
   "execution_count": null,
   "id": "24856111",
   "metadata": {},
   "outputs": [],
   "source": [
    "def fun(a=10, b=20, c=30):\n",
    "    return a,b,c\n",
    "\n",
    "print(fun())"
   ]
  },
  {
   "cell_type": "code",
   "execution_count": null,
   "id": "e0c084cd",
   "metadata": {},
   "outputs": [],
   "source": [
    "def fun(a=10, b=20, c=30):\n",
    "    return a,b,c\n",
    "\n",
    "print(fun(1))"
   ]
  },
  {
   "cell_type": "markdown",
   "id": "4052de6f",
   "metadata": {},
   "source": [
    "Keyword variable length"
   ]
  },
  {
   "cell_type": "code",
   "execution_count": null,
   "id": "70633081",
   "metadata": {},
   "outputs": [],
   "source": [
    "def person(name, *data):\n",
    "    print(name)\n",
    "    print(data)\n",
    "\n",
    "person('prasanthi',28, 'mumbai', 9812345)"
   ]
  },
  {
   "cell_type": "code",
   "execution_count": null,
   "id": "3a56bbf5",
   "metadata": {},
   "outputs": [],
   "source": [
    "def person(name, *data):\n",
    "    print(name)\n",
    "    print(data)\n",
    "\n",
    "person('prasanthi',age=28, city='mumbai', phone=9812345)"
   ]
  },
  {
   "cell_type": "code",
   "execution_count": null,
   "id": "b7f08feb",
   "metadata": {},
   "outputs": [],
   "source": [
    "def person(name, **data):\n",
    "    print(name)\n",
    "    print(data)\n",
    "\n",
    "person ('prasanthi',age=28, city='mumbai', phone=9812345)"
   ]
  },
  {
   "cell_type": "code",
   "execution_count": null,
   "id": "848fbc16",
   "metadata": {},
   "outputs": [],
   "source": [
    "def person(name, **data):\n",
    "    \n",
    "    print(name)\n",
    "    \n",
    "    for i,j in data.items():\n",
    "        print(i,j)\n",
    "\n",
    "person('prasanthi',age=28, city='mumbai', phone=9812345)"
   ]
  },
  {
   "cell_type": "code",
   "execution_count": null,
   "id": "5d25241a",
   "metadata": {
    "scrolled": true
   },
   "outputs": [],
   "source": [
    "def my_func(*argp):\n",
    "    for i in argp:\n",
    "        print(i)\n",
    "my_func('Let', 'us', 'study', 'Data Science', 'and', 'Blockchain')"
   ]
  },
  {
   "cell_type": "code",
   "execution_count": null,
   "id": "e657cf4f",
   "metadata": {},
   "outputs": [],
   "source": [
    "def my_fun(par1,par2,*argp):\n",
    "    \n",
    "    print('The first parameter is:',par1)\n",
    "    print('The second parameter is:',par2)\n",
    "    \n",
    "    for i in argp:\n",
    "        print(i)\n",
    "        \n",
    "my_func('Let', 'us', 'study', 'Data Science', 'and', 'Blockchain')"
   ]
  },
  {
   "cell_type": "code",
   "execution_count": null,
   "id": "c4613155",
   "metadata": {},
   "outputs": [],
   "source": [
    "#program to demonstrate **kwargs \n",
    "def my_fun(*args,**kwargs):\n",
    "    print('The value of args is:', args)\n",
    "    print('The value of kwargs is:',kwargs)\n",
    "\n",
    "my_fun('Let','us','study',a_key='Data Science',b_key='and',c_key='Blockchain')"
   ]
  },
  {
   "cell_type": "markdown",
   "id": "4ab76a83",
   "metadata": {},
   "source": [
    "Global keyword"
   ]
  },
  {
   "cell_type": "code",
   "execution_count": null,
   "id": "9f05a081",
   "metadata": {},
   "outputs": [],
   "source": [
    "a = 10\n",
    "\n",
    "print(a)"
   ]
  },
  {
   "cell_type": "code",
   "execution_count": null,
   "id": "4116352f",
   "metadata": {},
   "outputs": [],
   "source": [
    "a=10\n",
    "\n",
    "def input():\n",
    "    a=15\n",
    "\n",
    "    print(a)\n",
    "    \n",
    "print(a)"
   ]
  },
  {
   "cell_type": "code",
   "execution_count": null,
   "id": "deb984f6",
   "metadata": {},
   "outputs": [],
   "source": [
    "a=10\n",
    "\n",
    "def input():\n",
    "    a=15\n",
    "    b=8\n",
    "    print(a)\n",
    "\n",
    "print(b)\n",
    "    \n",
    "print(a)"
   ]
  },
  {
   "cell_type": "code",
   "execution_count": null,
   "id": "5e5c90df",
   "metadata": {},
   "outputs": [],
   "source": [
    "a=10\n",
    "def input():\n",
    "    a=15\n",
    "    print('in fun', a)\n",
    "input()\n",
    "\n",
    "print('outside', a)"
   ]
  },
  {
   "cell_type": "code",
   "execution_count": null,
   "id": "2bab6b0b",
   "metadata": {},
   "outputs": [],
   "source": [
    "a=10\n",
    "def input():\n",
    " \n",
    "    print('in fun', a)\n",
    "input()\n",
    "\n",
    "print('outside', a)"
   ]
  },
  {
   "cell_type": "code",
   "execution_count": null,
   "id": "c2f1db49",
   "metadata": {},
   "outputs": [],
   "source": [
    "a=10\n",
    "def input():\n",
    "    global a\n",
    "    a=15\n",
    "    print('in fun', a)\n",
    "    \n",
    "input()\n",
    "\n",
    "print('outside', a)"
   ]
  },
  {
   "cell_type": "code",
   "execution_count": null,
   "id": "6423d9e7",
   "metadata": {},
   "outputs": [],
   "source": [
    "a=10\n",
    "print(id(a))\n",
    "\n",
    "def input():\n",
    "    a=9\n",
    "    \n",
    "    x=globals()['a']\n",
    "    print(id(x))\n",
    "    print('in fun', a)\n",
    "    \n",
    "    globals()['a'] = 15\n",
    "    \n",
    "input()\n",
    "\n",
    "print('outside', a)"
   ]
  },
  {
   "cell_type": "code",
   "execution_count": null,
   "id": "bbce0011",
   "metadata": {},
   "outputs": [],
   "source": [
    "c = 0\n",
    "def add():\n",
    "    global c\n",
    "    c =c+2\n",
    "    print('inside add():',c)\n",
    "    \n",
    "add()\n",
    "print('In main:',c)\n",
    "    "
   ]
  },
  {
   "cell_type": "code",
   "execution_count": null,
   "id": "ac237398",
   "metadata": {},
   "outputs": [],
   "source": [
    "a=15\n",
    "b=10\n",
    "\n",
    "def add():\n",
    "    c = a+b\n",
    "    print(c)\n",
    "add()"
   ]
  },
  {
   "cell_type": "code",
   "execution_count": null,
   "id": "da990960",
   "metadata": {},
   "outputs": [],
   "source": [
    "#This output is an error because we are trying to assign a value to a variable in an outer scope. \n",
    "#This can be done with the use of a global variable.a=15\n",
    "\n",
    "def change():\n",
    "    a = a+5\n",
    "    \n",
    "    print(a)\n",
    "\n",
    "change()"
   ]
  },
  {
   "cell_type": "code",
   "execution_count": null,
   "id": "12e3cdc2",
   "metadata": {},
   "outputs": [],
   "source": [
    "x =15\n",
    "\n",
    "def change():\n",
    "    global x\n",
    "    x=x+5\n",
    "    print('Value of x inside a function:', x)\n",
    "\n",
    "change()\n",
    "print('Value of x outside a function:', x)"
   ]
  },
  {
   "cell_type": "markdown",
   "id": "57f6d180",
   "metadata": {},
   "source": [
    "Pass a list of elements"
   ]
  },
  {
   "cell_type": "code",
   "execution_count": null,
   "id": "bf095882",
   "metadata": {},
   "outputs": [],
   "source": [
    "def count(lst):\n",
    "    even=0\n",
    "    odd=0\n",
    "    \n",
    "    for i in lst:\n",
    "        if i%2 == 0:\n",
    "            even+=1\n",
    "        else:\n",
    "            odd+=1\n",
    "    return even,odd\n",
    "    \n",
    "\n",
    "lst = [20,25,14,19,16,24,28,47,26]\n",
    "\n",
    "even,odd = count(lst)\n",
    "\n",
    "print(even)\n",
    "print(odd)"
   ]
  },
  {
   "cell_type": "code",
   "execution_count": null,
   "id": "8de07df5",
   "metadata": {},
   "outputs": [],
   "source": [
    "def count(lst):\n",
    "    even=0\n",
    "    odd=0\n",
    "    \n",
    "    for i in lst:\n",
    "        if i%2 == 0:\n",
    "            even+=1\n",
    "        else:\n",
    "            odd+=1\n",
    "    return even,odd\n",
    "    \n",
    "\n",
    "lst = [20,25,14,19,16,24,28,47,26]\n",
    "\n",
    "even,odd = count(lst)\n",
    "\n",
    "print('Even : {} and Odd : {}'.format(even,odd))"
   ]
  },
  {
   "cell_type": "code",
   "execution_count": null,
   "id": "99b49779",
   "metadata": {},
   "outputs": [],
   "source": [
    "def tes1(cars):\n",
    " for i in cars:\n",
    "    print(i)\n",
    "merc = [\"GLA\", \"GLE\", \"GLS\"]\n",
    "tes1(merc)"
   ]
  },
  {
   "cell_type": "code",
   "execution_count": null,
   "id": "7e59f000",
   "metadata": {},
   "outputs": [],
   "source": [
    "#Use tuple() function\n",
    "\n",
    "def argpass(a1, a2):\n",
    "    print('argument 1:' + str(a1))\n",
    "    print('argument 2:' + str(a2))\n",
    "\n",
    "lis = ['Merc', 'BMW']\n",
    "print(\"The original list is : \" + str(lis))\n",
    "x, y = tuple(lis)\n",
    "argpass(x, y)"
   ]
  },
  {
   "cell_type": "markdown",
   "id": "472b6553",
   "metadata": {},
   "source": [
    "# Recursion "
   ]
  },
  {
   "cell_type": "code",
   "execution_count": null,
   "id": "37e13c0f",
   "metadata": {},
   "outputs": [],
   "source": [
    "#program factorial of a no using recursion\n",
    "\n",
    "def fact(n):\n",
    "    if n == 1:\n",
    "        return 1\n",
    "    else:\n",
    "        return n*fact(n-1)\n",
    "fact(4)"
   ]
  },
  {
   "cell_type": "code",
   "execution_count": null,
   "id": "9b57a77e",
   "metadata": {},
   "outputs": [],
   "source": [
    "import sys\n",
    "\n",
    "sys.setrecursionlimit(2000)\n",
    "\n",
    "print(sys.getrecursionlimit())\n",
    "\n",
    "i=0\n",
    "\n",
    "def greet():\n",
    "    global i\n",
    "    i+=1\n",
    "    print('Hello', i)\n",
    "    greet()\n",
    "    \n",
    "greet()"
   ]
  },
  {
   "cell_type": "code",
   "execution_count": null,
   "id": "c4733cf1",
   "metadata": {},
   "outputs": [],
   "source": [
    "#Factorial using Recursion\n",
    "def Recur_fact(n):\n",
    "    \n",
    "    if (n==0):\n",
    "        return 1\n",
    "    \n",
    "    return n * Recur_fact(n-1)\n",
    "\n",
    "print(Recur_fact(5))"
   ]
  },
  {
   "cell_type": "code",
   "execution_count": null,
   "id": "352b44c2",
   "metadata": {},
   "outputs": [],
   "source": [
    "def Recur_facto(n, a = 1):\n",
    "    \n",
    "    if (n == 0):\n",
    "        return a\n",
    "\n",
    "    return Recur_facto(n - 1, n * a)\n",
    "\n",
    "\n",
    "print(Recur_facto(6))\n"
   ]
  },
  {
   "cell_type": "code",
   "execution_count": null,
   "id": "ccfd28ac",
   "metadata": {},
   "outputs": [],
   "source": [
    "def recur_factorial(n):\n",
    "    if n == 1:\n",
    "        return n\n",
    "    else:\n",
    "        return n*recur_factorial(n-1)\n",
    "num=7\n",
    "\n",
    "if num < 0:\n",
    "    print('Sorry, factorial does not exist for negative numbers')\n",
    "elif num == 0:\n",
    "    print('The factorial of 0 is 1')\n",
    "else:\n",
    "    print('The factorial of',num, 'is', recur_factorial(num))"
   ]
  },
  {
   "cell_type": "code",
   "execution_count": null,
   "id": "22e590ae",
   "metadata": {},
   "outputs": [],
   "source": [
    "def recur_factorial(n):\n",
    "    if n == 1:\n",
    "        return n\n",
    "    else:\n",
    "        return n*recur_factorial(n-1)\n",
    "num=-1\n",
    "\n",
    "if num < 0:\n",
    "    print('Sorry, factorial does not exist for negative numbers')\n",
    "elif num == 0:\n",
    "    print('The factorial of 0 is 1')\n",
    "else:\n",
    "    print('The factorial of',num, 'is', recur_factorial(num))"
   ]
  },
  {
   "cell_type": "code",
   "execution_count": null,
   "id": "e1dcf02b",
   "metadata": {},
   "outputs": [],
   "source": [
    "def recur_factorial(n):\n",
    "    if n == 1:\n",
    "        return n\n",
    "    else:\n",
    "        return n*recur_factorial(n-1)\n",
    "num=0\n",
    "\n",
    "if num < 0:\n",
    "    print('Sorry, factorial does not exist for negative numbers')\n",
    "elif num == 0:\n",
    "    print('The factorial of 0 is 1')\n",
    "else:\n",
    "    print('The factorial of',num, 'is', recur_factorial(num))"
   ]
  },
  {
   "cell_type": "markdown",
   "id": "646d2502",
   "metadata": {},
   "source": [
    "Anonymous Functions \n"
   ]
  },
  {
   "cell_type": "code",
   "execution_count": null,
   "id": "f1c3ffaa",
   "metadata": {},
   "outputs": [],
   "source": [
    "def square(a):\n",
    "    return a*a\n",
    "\n",
    "result = square(5)\n",
    "\n",
    "print(result)"
   ]
  },
  {
   "cell_type": "code",
   "execution_count": null,
   "id": "0ba317af",
   "metadata": {},
   "outputs": [],
   "source": [
    "f = lambda a:a*a\n",
    "\n",
    "result = f(5)\n",
    "\n",
    "print(result)"
   ]
  },
  {
   "cell_type": "code",
   "execution_count": null,
   "id": "51abadf5",
   "metadata": {},
   "outputs": [],
   "source": [
    "x = lambda a:a+10\n",
    "print(x(5))"
   ]
  },
  {
   "cell_type": "code",
   "execution_count": null,
   "id": "e4acc1f0",
   "metadata": {},
   "outputs": [],
   "source": [
    "#Multiply argument\n",
    "x = lambda a,b:a*b\n",
    "print(x(5,6))\n"
   ]
  },
  {
   "cell_type": "code",
   "execution_count": null,
   "id": "900eb24c",
   "metadata": {},
   "outputs": [],
   "source": [
    "x = lambda a, b, c : a + b + c\n",
    "print(x(5, 6, 2))"
   ]
  },
  {
   "cell_type": "code",
   "execution_count": null,
   "id": "8ddf0539",
   "metadata": {},
   "outputs": [],
   "source": [
    "x = lambda a:a+a\n",
    "\n",
    "print(x(2))"
   ]
  },
  {
   "cell_type": "code",
   "execution_count": null,
   "id": "43863800",
   "metadata": {},
   "outputs": [],
   "source": [
    "x = lambda a:a+10\n",
    "\n",
    "print(x(3))"
   ]
  },
  {
   "cell_type": "code",
   "execution_count": null,
   "id": "e05ad971",
   "metadata": {},
   "outputs": [],
   "source": [
    "def fun(n):\n",
    "    return lambda a:a*n\n",
    "\n",
    "c=fun(2)\n",
    "\n",
    "print(c(10))"
   ]
  },
  {
   "cell_type": "markdown",
   "id": "8eb2b855",
   "metadata": {},
   "source": [
    " Filter Map Reduce"
   ]
  },
  {
   "cell_type": "code",
   "execution_count": null,
   "id": "098887d4",
   "metadata": {},
   "outputs": [],
   "source": [
    "#filter() without lambda\n",
    "\n",
    "def is_even (n):\n",
    "    return n%2 == 0\n",
    "\n",
    "nums = [3,2,6,5,4,7,8,9,3,1]\n",
    "\n",
    "even = list(filter(is_even,nums))\n",
    "\n",
    "print(even)"
   ]
  },
  {
   "cell_type": "code",
   "execution_count": null,
   "id": "d8f74b5d",
   "metadata": {},
   "outputs": [],
   "source": [
    "nums = [3,2,6,5,4,7,8,9,3,1]\n",
    "\n",
    "evens = list(filter(lambda n : n%2 == 0, nums))\n",
    "\n",
    "print(even)"
   ]
  },
  {
   "cell_type": "code",
   "execution_count": null,
   "id": "89d6385d",
   "metadata": {},
   "outputs": [],
   "source": [
    "#map\n",
    "\n",
    "nums = [3,2,6,5,4,7,8,9,3,1]\n",
    "\n",
    "doubles = list(map(lambda n : n*2,evens))\n",
    "\n",
    "print(doubles)"
   ]
  },
  {
   "cell_type": "code",
   "execution_count": null,
   "id": "6abe58e2",
   "metadata": {},
   "outputs": [],
   "source": [
    "items = [1, 2, 3, 4, 5]\n",
    "squared = []\n",
    "for i in items:\n",
    "    squared.append(i**2)\n",
    "\n",
    "print(squared)"
   ]
  },
  {
   "cell_type": "code",
   "execution_count": null,
   "id": "0d20c82b",
   "metadata": {},
   "outputs": [],
   "source": [
    "#with map\n",
    "\n",
    "items = [1, 2, 3, 4, 5]\n",
    "squared = list(map(lambda x: x**2, items))\n",
    "print(squared)"
   ]
  },
  {
   "cell_type": "code",
   "execution_count": null,
   "id": "3c5abf90",
   "metadata": {},
   "outputs": [],
   "source": [
    "def function(a):\n",
    "    return a*a\n",
    "x = map(function, (1,2,3,4))  #x is the map object\n",
    "print(x)\n",
    "print(set(x))"
   ]
  },
  {
   "cell_type": "code",
   "execution_count": null,
   "id": "994ddef9",
   "metadata": {},
   "outputs": [],
   "source": [
    "my_pets = ['alfred', 'tabitha', 'william', 'arla']\n",
    "\n",
    "uppered_pets = list(map(str.upper, my_pets))\n",
    "\n",
    "print(uppered_pets)"
   ]
  },
  {
   "cell_type": "code",
   "execution_count": null,
   "id": "bed6244e",
   "metadata": {},
   "outputs": [],
   "source": [
    "circle_areas = [3.56773, 5.57668, 4.00914, 56.24241, 9.01344, 32.00013]\n",
    "\n",
    "result = list(map(round, circle_areas, range(1, 7)))\n",
    "\n",
    "print(result)"
   ]
  },
  {
   "cell_type": "code",
   "execution_count": null,
   "id": "ae8a0c90",
   "metadata": {},
   "outputs": [],
   "source": [
    "#reduce\n",
    "\n",
    "from functools import reduce\n",
    "\n",
    "def add_all(a,b):\n",
    "    return a+b \n",
    "\n",
    "nums = [3,2,6,5,4,7,8,9,3,1]\n",
    "\n",
    "evens = list(filter(lambda n : n%2 == 0, nums))\n",
    "\n",
    "doubles = list(map(lambda n : n*2,evens))\n",
    "print(doubles)\n",
    "\n",
    "sum = reduce(lambda a,b:a+b,doubles)\n",
    "\n",
    "print(sum)"
   ]
  },
  {
   "cell_type": "code",
   "execution_count": null,
   "id": "60d4f837",
   "metadata": {},
   "outputs": [],
   "source": [
    "reduce(lambda a,b: a+b,[23,21,45,98])"
   ]
  },
  {
   "cell_type": "code",
   "execution_count": null,
   "id": "082c2b73",
   "metadata": {},
   "outputs": [],
   "source": [
    "#without reduce\n",
    "product = 1\n",
    "\n",
    "list = [1, 2, 3, 4]\n",
    "\n",
    "for num in list:\n",
    "    product = product * num\n",
    "    \n",
    "print(product)"
   ]
  },
  {
   "cell_type": "code",
   "execution_count": null,
   "id": "888e5835",
   "metadata": {},
   "outputs": [],
   "source": [
    "product = reduce((lambda x, y: x * y), [1, 2, 3, 4])\n",
    "\n",
    "print(product)\n"
   ]
  },
  {
   "cell_type": "code",
   "execution_count": null,
   "id": "4ba1e1ad",
   "metadata": {},
   "outputs": [],
   "source": [
    "def func(x):\n",
    "    if x>=3:\n",
    "        return x\n",
    "y = filter(func, (1,2,3,4)) \n",
    "\n",
    "print(y)\n",
    "\n",
    "print(list(y))"
   ]
  },
  {
   "cell_type": "code",
   "execution_count": null,
   "id": "6bee2681",
   "metadata": {},
   "outputs": [],
   "source": [
    "list2=[1,2,3,4,5,6,7,8,9]\n",
    "\n",
    "output = list(filter(lambda x:x%2 == 0, list2))\n",
    "\n",
    "print(output)"
   ]
  },
  {
   "cell_type": "code",
   "execution_count": null,
   "id": "f4d06392",
   "metadata": {},
   "outputs": [],
   "source": [
    "list2=[1,2,3,4,5,6,7,8,9]\n",
    "\n",
    "print(list(filter(lambda x:x%2 == 0, list2)))"
   ]
  },
  {
   "cell_type": "code",
   "execution_count": null,
   "id": "dfcea690",
   "metadata": {},
   "outputs": [],
   "source": [
    "\n",
    "names = ['abhi', 'chinnu', 'kanna','','','', 'ganesh','']\n",
    "\n",
    "print(list(filter(None,names)))"
   ]
  },
  {
   "cell_type": "markdown",
   "id": "7d5d3816",
   "metadata": {},
   "source": [
    "--name--"
   ]
  },
  {
   "cell_type": "code",
   "execution_count": null,
   "id": "f200a9da",
   "metadata": {},
   "outputs": [],
   "source": [
    "print(__name__)"
   ]
  },
  {
   "cell_type": "code",
   "execution_count": null,
   "id": "6642ae56",
   "metadata": {},
   "outputs": [],
   "source": [
    "print(\"hello\")"
   ]
  },
  {
   "cell_type": "code",
   "execution_count": null,
   "id": "d5396dad",
   "metadata": {},
   "outputs": [],
   "source": [
    "print('Hello + __name__')"
   ]
  },
  {
   "cell_type": "code",
   "execution_count": null,
   "id": "b370cc0d",
   "metadata": {},
   "outputs": [],
   "source": [
    "import cal\n",
    "\n",
    "print('Demo:' + __name__)"
   ]
  },
  {
   "cell_type": "code",
   "execution_count": null,
   "id": "7cb3cbd3",
   "metadata": {},
   "outputs": [],
   "source": [
    "def main():\n",
    "    print('Hello')\n",
    "    Print('Welcome User')\n",
    "\n",
    "if __name__ == '__main':\n",
    "    main()"
   ]
  },
  {
   "cell_type": "code",
   "execution_count": null,
   "id": "764c0449",
   "metadata": {},
   "outputs": [],
   "source": [
    "import second\n",
    "\n",
    "print('first file')"
   ]
  },
  {
   "cell_type": "code",
   "execution_count": null,
   "id": "050ab654",
   "metadata": {},
   "outputs": [],
   "source": [
    "import sec\n",
    "\n",
    "print(sec.a)\n",
    "\n",
    "if __name__ == '__main__':\n",
    "\n",
    "     print('first file')\n"
   ]
  },
  {
   "cell_type": "code",
   "execution_count": null,
   "id": "1a4f4c4c",
   "metadata": {},
   "outputs": [],
   "source": [
    "import calculator\n",
    "\n",
    "print('from calculator.py',  __name__)"
   ]
  },
  {
   "cell_type": "code",
   "execution_count": null,
   "id": "78cdc27b",
   "metadata": {},
   "outputs": [],
   "source": [
    "import cal"
   ]
  },
  {
   "cell_type": "code",
   "execution_count": null,
   "id": "0eec9707",
   "metadata": {},
   "outputs": [],
   "source": [
    "print(cal.add(7,6))"
   ]
  },
  {
   "cell_type": "code",
   "execution_count": null,
   "id": "fa86f23d",
   "metadata": {},
   "outputs": [],
   "source": [
    "print(calculator.add(7,6))"
   ]
  },
  {
   "cell_type": "code",
   "execution_count": null,
   "id": "5221d0cd",
   "metadata": {},
   "outputs": [],
   "source": [
    "import calculator\n",
    "\n",
    "print(calculator.add(7,6))"
   ]
  },
  {
   "cell_type": "code",
   "execution_count": null,
   "id": "37ff2eb6",
   "metadata": {},
   "outputs": [],
   "source": [
    "def fun1():\n",
    "    print('from fun1')\n",
    "    \n",
    "    \n",
    "def fun2():\n",
    "    print('from fun2')\n",
    "    \n",
    "    \n",
    " \n",
    "def main():\n",
    "    fun1()\n",
    "    fun2()\n",
    "    \n",
    "    \n",
    "main()"
   ]
  },
  {
   "cell_type": "code",
   "execution_count": null,
   "id": "f82bf52c",
   "metadata": {},
   "outputs": [],
   "source": [
    "from cal1 import add\n",
    "\n",
    "def fun1():\n",
    "    add()\n",
    "    print('from fun1')\n",
    "    \n",
    "    \n",
    "def fun2():\n",
    "    print('from fun2')\n",
    "    \n",
    "    \n",
    " \n",
    "def main():\n",
    "    fun1()\n",
    "    fun2()\n",
    "    \n",
    "    \n",
    "main()"
   ]
  },
  {
   "cell_type": "code",
   "execution_count": null,
   "id": "e8e6cf03",
   "metadata": {},
   "outputs": [],
   "source": [
    "def sum():\n",
    "    print('result 1 is ')\n",
    "\n",
    "\n",
    "def sub():\n",
    "    print('result 2 is ')    \n",
    "    \n",
    "def main():\n",
    "    add()\n",
    "    sub()\n",
    "    \n",
    "main()"
   ]
  },
  {
   "cell_type": "code",
   "execution_count": null,
   "id": "999d04bd",
   "metadata": {},
   "outputs": [],
   "source": [
    "def sum():\n",
    "    print('result 1 is ')\n",
    "\n",
    "\n",
    "def sub():\n",
    "    print('result 2 is ')    \n",
    "    \n",
    "def main():\n",
    "    sum()\n",
    "    sub()\n",
    "    \n",
    "    \n",
    "main()"
   ]
  },
  {
   "cell_type": "markdown",
   "id": "47b833c6",
   "metadata": {},
   "source": [
    "# MultiThreading\n"
   ]
  },
  {
   "cell_type": "code",
   "execution_count": null,
   "id": "2d698f9f",
   "metadata": {},
   "outputs": [],
   "source": [
    "class Hello:\n",
    "    def run(self):\n",
    "        for i in range (5):\n",
    "            print ('Hello')\n",
    "\n",
    "class Hi:\n",
    "    def run(self):\n",
    "        for i in range (5):\n",
    "            print ('Hi')\n",
    "            \n",
    "t1 = Hello()\n",
    "t2 = Hi()\n",
    "\n",
    "\n",
    "t1.run()\n",
    "t2.run()\n",
    "    "
   ]
  },
  {
   "cell_type": "code",
   "execution_count": null,
   "id": "78b3edf4",
   "metadata": {},
   "outputs": [],
   "source": [
    "class Hello(Thread):\n",
    "    def run(self):\n",
    "        for i in range (5):\n",
    "            print ('Hello')\n",
    "\n",
    "class Hi(Thread):\n",
    "    def run(self):\n",
    "        for i in range (5):\n",
    "            print ('Hi')\n",
    "            \n",
    "t1 = Hello()\n",
    "t2 = Hi()\n",
    "\n",
    "\n",
    "t1.run()\n",
    "t2.run()"
   ]
  },
  {
   "cell_type": "code",
   "execution_count": null,
   "id": "3ab44dce",
   "metadata": {},
   "outputs": [],
   "source": [
    "from threading import *\n",
    "class Hello(Thread):\n",
    "    def run(self):\n",
    "        for i in range (5):\n",
    "            print ('Hello')\n",
    "\n",
    "class Hi(Thread):\n",
    "    def run(self):\n",
    "        for i in range (5):\n",
    "            print ('Hi')\n",
    "            \n",
    "t1 = Hello()\n",
    "t2 = Hi()\n",
    "\n",
    "\n",
    "t1.run()\n",
    "t2.run()"
   ]
  },
  {
   "cell_type": "code",
   "execution_count": null,
   "id": "9258cf17",
   "metadata": {},
   "outputs": [],
   "source": [
    "#start\n",
    "from threading import *\n",
    "\n",
    "class Hello(Thread):\n",
    "    def run(self):\n",
    "        for i in range (50):\n",
    "            print ('Hello')\n",
    "\n",
    "class Hi(Thread):\n",
    "    def run(self):\n",
    "        for i in range (50):\n",
    "            print ('Hi')\n",
    "            \n",
    "t1 = Hello()\n",
    "t2 = Hi()\n",
    "\n",
    "\n",
    "t1.start()\n",
    "t2.start()"
   ]
  },
  {
   "cell_type": "code",
   "execution_count": null,
   "id": "7cd5fa9e",
   "metadata": {},
   "outputs": [],
   "source": [
    "from time import sleep\n",
    "from threading import *\n",
    "\n",
    "class Hello(Thread):\n",
    "    def run(self):\n",
    "        for i in range (20):\n",
    "            print ('Hello')\n",
    "            sleep(1)\n",
    "\n",
    "class Hi(Thread):\n",
    "    def run(self):\n",
    "        for i in range (20):\n",
    "            print ('Hi')\n",
    "            sleep(1)\n",
    "            \n",
    "t1 = Hello()\n",
    "t2 = Hi()\n",
    "\n",
    "\n",
    "t1.start()\n",
    "t2.start()"
   ]
  },
  {
   "cell_type": "code",
   "execution_count": null,
   "id": "1d4e6c90",
   "metadata": {},
   "outputs": [],
   "source": [
    "from time import sleep\n",
    "from threading import *\n",
    "\n",
    "class Hello(Thread):\n",
    "    def run(self):\n",
    "        for i in range (10):\n",
    "            print ('Hello')\n",
    "            sleep(1)\n",
    "\n",
    "class Hi(Thread):\n",
    "    def run(self):\n",
    "        for i in range (10):\n",
    "            print ('Hi')\n",
    "            sleep(1)\n",
    "            \n",
    "t1 = Hello()\n",
    "t2 = Hi()\n",
    "\n",
    "\n",
    "t1.start()\n",
    "sleep(0.2)\n",
    "t2.start()"
   ]
  },
  {
   "cell_type": "code",
   "execution_count": null,
   "id": "ff2e25c5",
   "metadata": {},
   "outputs": [],
   "source": [
    "from time import sleep\n",
    "from threading import *\n",
    "\n",
    "class Hello(Thread):\n",
    "    def run(self):\n",
    "        for i in range (5):\n",
    "            print ('Hello')\n",
    "            sleep(1)\n",
    "\n",
    "class Hi(Thread):\n",
    "    def run(self):\n",
    "        for i in range (5):\n",
    "            print ('Hi')\n",
    "            sleep(1)\n",
    "            \n",
    "t1 = Hello()\n",
    "t2 = Hi()\n",
    "\n",
    "\n",
    "t1.start()\n",
    "sleep(0.2)\n",
    "t2.start()\n",
    "\n",
    "\n",
    "t1.join()\n",
    "t2.join()\n",
    "\n",
    "print('Bye')"
   ]
  },
  {
   "cell_type": "code",
   "execution_count": null,
   "id": "89819378",
   "metadata": {},
   "outputs": [],
   "source": [
    "import time\n",
    "import _thread\n",
    "\n",
    "def thread_test(name, wait):\n",
    "    i = 0\n",
    "    while i <= 2:\n",
    "        time.sleep(1)\n",
    "        print(\"Running %s\\n\" %name)\n",
    "        i = i + 1\n",
    "\n",
    "    print(\"%s has finished execution\" %name)\n",
    "\n",
    "if __name__ == \"__main__\":\n",
    "    \n",
    "    _thread.start_new_thread(thread_test, (\"First Thread\", 1))\n",
    "    _thread.start_new_thread(thread_test, (\"Second Thread\", 2))\n",
    "    _thread.start_new_thread(thread_test, (\"Third Thread\", 3))\n",
    "\n",
    "# _thread.join()\n"
   ]
  },
  {
   "cell_type": "code",
   "execution_count": null,
   "id": "0cfa901f",
   "metadata": {},
   "outputs": [],
   "source": [
    "from time import sleep, perf_counter\n",
    "from threading import Thread\n",
    "\n",
    "\n",
    "def task():\n",
    "   \n",
    "    print('Starting a task...')\n",
    "    sleep(1)\n",
    "    print('done')\n",
    "\n",
    "\n",
    "start_time = perf_counter()\n",
    "\n",
    "# create two new threads\n",
    "t1 = Thread(target=task)\n",
    "t2 = Thread(target=task)\n",
    "\n",
    "# start the threads\n",
    "t1.start()\n",
    "t2.start()\n",
    "\n",
    "# wait for the threads to complete\n",
    "t1.join()\n",
    "t2.join()\n",
    "\n",
    "end_time = perf_counter()\n",
    "\n",
    "print(f'It took {end_time- start_time: 0.1f} second(s) to complete.')"
   ]
  },
  {
   "cell_type": "code",
   "execution_count": null,
   "id": "dace1ea9",
   "metadata": {},
   "outputs": [],
   "source": [
    "import threading\n",
    "\n",
    "def cuber(n):\n",
    "    print('Cube: {}'.format(n * n * n))\n",
    "\n",
    "def squarer(n):\n",
    "    print('Square: {}'.format(n * n))\n",
    "\n",
    "if __name__ == '__main__':\n",
    "    \n",
    "# create the thread\n",
    "    t1 = threading.Thread(target=squarer, args=(5,))\n",
    "    t2 = threading.Thread(target=cuber, args=(5,))\n",
    "\n",
    "# start the thread t1\n",
    "t1.start()\n",
    "# start the thread t2\n",
    "t2.start()\n",
    "\n",
    "# wait until t1 is completed\n",
    "t1.join()\n",
    "# wait until t2 is completed\n",
    "t2.join()\n",
    "\n",
    "# both threads completed\n",
    "print('Done!') "
   ]
  },
  {
   "cell_type": "markdown",
   "id": "9dcef44e",
   "metadata": {},
   "source": [
    "# Binary Search"
   ]
  },
  {
   "cell_type": "code",
   "execution_count": null,
   "id": "f1cb328c",
   "metadata": {},
   "outputs": [],
   "source": [
    "pos = -1\n",
    "\n",
    "def search(list, n):\n",
    "    l = 0\n",
    "    u = len(list)-1\n",
    "    \n",
    "    while l<=u:\n",
    "        mid=(l+u) // 2\n",
    "        \n",
    "        if list[mid] == n:\n",
    "            globals() ['pos'] = mid\n",
    "            return True\n",
    "        else:\n",
    "            if list[mid] < n:\n",
    "                l=mid+1\n",
    "            else:\n",
    "                u = mid -1\n",
    "    return False\n",
    "\n",
    "list = [4,7,8,12,45,99,88]\n",
    "n=5\n",
    "\n",
    "if search (list, n):\n",
    "    print('Found at', pos+1)\n",
    "    \n",
    "else:\n",
    "    print('Not Found')"
   ]
  },
  {
   "cell_type": "code",
   "execution_count": null,
   "id": "1317fcc4",
   "metadata": {},
   "outputs": [],
   "source": [
    "def binary_search(arr,x):\n",
    "    l=0\n",
    "    r=len(arr)-1\n",
    "    \n",
    "    while(l<=r):\n",
    "        mid=(l+r)//2\n",
    "        \n",
    "        if(arr[mid]==x):\n",
    "            return mid\n",
    "        elif(x<arr[mid]):\n",
    "            r=mid-1\n",
    "        elif(x>arr[mid]):\n",
    "            l=mid+1\n",
    "    return -1\n",
    "\n",
    "array=[1,2,3,4,5,6,7,8,9,10]\n",
    "a=6\n",
    "print(binary_search(array,a))\n",
    "b=11\n",
    "print(binary_search(array,b))"
   ]
  },
  {
   "cell_type": "code",
   "execution_count": null,
   "id": "2827a02e",
   "metadata": {},
   "outputs": [],
   "source": [
    "def binary_search(item_list,item):\n",
    "    first = 0\n",
    "    last = len(item_list)-1\n",
    "    found = False\n",
    "    \n",
    "    while(first<=last and not found):\n",
    "        mid = (first + last)//2\n",
    "        if item_list[mid] == item :\n",
    "            found = True\n",
    "        else:\n",
    "            if item < item_list[mid]:\n",
    "                last = mid - 1\n",
    "            else:\n",
    "                first = mid + 1\t\n",
    "    return found\n",
    "    \n",
    "print(binary_search([1,2,3,5,8], 6))\n",
    "print(binary_search([1,2,3,5,8], 5))\n"
   ]
  },
  {
   "cell_type": "code",
   "execution_count": null,
   "id": "361b6a07",
   "metadata": {},
   "outputs": [],
   "source": [
    "# Iterative Method\n",
    "array = [3,4,5,6,7,8,9,10,11,12]"
   ]
  },
  {
   "cell_type": "code",
   "execution_count": null,
   "id": "3a79e069",
   "metadata": {},
   "outputs": [],
   "source": [
    "#searching element\n",
    "x = 9"
   ]
  },
  {
   "cell_type": "code",
   "execution_count": null,
   "id": "935fd743",
   "metadata": {},
   "outputs": [],
   "source": [
    "def binarysearch(array, x, low, high):\n",
    "    \n",
    "    while low <= high:\n",
    "        mid = low + (high -low) // 2\n",
    "        \n",
    "        if array[mid] == x:\n",
    "            return mid\n",
    "        elif array [mid] < x:\n",
    "            low = mid +1\n",
    "        else:\n",
    "            high = mid -1\n",
    "    return -1\n"
   ]
  },
  {
   "cell_type": "code",
   "execution_count": null,
   "id": "5b7e1a8e",
   "metadata": {},
   "outputs": [],
   "source": [
    "result = binarysearch(array, x, 0, len(array)-1)"
   ]
  },
  {
   "cell_type": "code",
   "execution_count": null,
   "id": "456a1944",
   "metadata": {},
   "outputs": [],
   "source": [
    "if result == -1:\n",
    "    print('Element not found in the array')\n",
    "else:\n",
    "    print(f'Element found at index:{result}')"
   ]
  },
  {
   "cell_type": "code",
   "execution_count": null,
   "id": "3719f2ac",
   "metadata": {},
   "outputs": [],
   "source": [
    "# Recursive Method\n",
    "array = [3,4,5,6,7,8,9,10,11,12]\n",
    "x = 5\n",
    "\n",
    "def binarysearch(array, x, low, high):\n",
    "    if high >= low:\n",
    "        mid = low + (high-low) //2\n",
    "        \n",
    "        if array [mid] == x:\n",
    "            return mid\n",
    "        elif array [mid] < x:\n",
    "            return binarysearch (array, x, mid+1, high)\n",
    "        else:\n",
    "            return binarysearch(array, x, low, mid-1)\n",
    "    return -1\n",
    "\n",
    "result = binarysearch(array, x, 0, len(array)-1)\n",
    "\n",
    "if result == -1:\n",
    "    print('Element not found in array')\n",
    "\n",
    "else:\n",
    "    print(f'Element found at index: {result}')"
   ]
  },
  {
   "cell_type": "code",
   "execution_count": null,
   "id": "f912cc07",
   "metadata": {},
   "outputs": [],
   "source": [
    "array = [5,6,3,7,8,3,9,2,0,]\n",
    "x = 6\n",
    "\n",
    "def binarysearch(array, x, low, high):\n",
    "    if high >= low:\n",
    "        mid = low + (high-low) //2\n",
    "        \n",
    "        if array [mid] == x:\n",
    "            return mid\n",
    "        elif array [mid] < x:\n",
    "            return binarysearch (array, x, mid+1, high)\n",
    "        else:\n",
    "            return binarysearch(array, x, low, mid-1)\n",
    "    return -1\n",
    "\n",
    "result = binarysearch(array, x, 0, len(array)-1)\n",
    "\n",
    "if result == -1:\n",
    "    print('Element not found in array')\n",
    "\n",
    "else:\n",
    "    print(f'Element found at index: {result}')"
   ]
  },
  {
   "cell_type": "code",
   "execution_count": null,
   "id": "99c83fcc",
   "metadata": {},
   "outputs": [],
   "source": [
    "def binarysearch (arr, k, low, high):\n",
    "    \n",
    "    while low <= high:\n",
    "        mid = low + (high - low) //2\n",
    "        if arr [mid] == k:\n",
    "            return mid\n",
    "        elif arr[mid] < k:\n",
    "            low = mid + 1\n",
    "        else:\n",
    "            high = mid -1\n",
    "    return -1\n",
    "\n",
    "arr = [1,3,5,7,9]\n",
    "\n",
    "k =7\n",
    "result = binarysearch(arr, k, 0, len(arr)-1)\n",
    "\n",
    "if result != -1:\n",
    "    print('Element is present at index' + str(result))\n",
    "else:\n",
    "    print('Not Found')"
   ]
  },
  {
   "cell_type": "code",
   "execution_count": null,
   "id": "9a4eeb71",
   "metadata": {},
   "outputs": [],
   "source": [
    "def binary_search(arr, a, low, high):\n",
    "\n",
    "    # Repeat until low and high meet each other\n",
    "    while low <= high:\n",
    "\n",
    "        mid = low + (high - low)//2\n",
    "\n",
    "        if arr[mid] == a:\n",
    "            return mid\n",
    "\n",
    "        elif array[mid] < a:\n",
    "            low = mid + 1\n",
    "\n",
    "        else:\n",
    "            high = mid - 1\n",
    "\n",
    "    return -1\n",
    "\n",
    "arr = [1, 2, 3, 4, 5, 6, 7]\n",
    "a = 4\n",
    "\n",
    "#printing the array\n",
    "print(\"The given array is\", arr)\n",
    "\n",
    "#printing element to be found\n",
    "print(\"Element to be found is \", a)\n",
    "\n",
    "index = binary_search(arr, a, 0, len(arr)-1)\n",
    "\n",
    "if index != -1:\n",
    "    print(\"The Index of the element is \" + str(index))\n",
    "else:\n",
    "    print(\"Element Not found\")"
   ]
  },
  {
   "cell_type": "code",
   "execution_count": null,
   "id": "8c47aa7d",
   "metadata": {},
   "outputs": [],
   "source": [
    "git clone https://github.com/prasanthic94/demobygit.git"
   ]
  },
  {
   "cell_type": "markdown",
   "id": "9de1bf84",
   "metadata": {},
   "source": [
    "# ZIP"
   ]
  },
  {
   "cell_type": "code",
   "execution_count": null,
   "id": "820a2d7f",
   "metadata": {},
   "outputs": [],
   "source": [
    "names = ('prasanthi', 'kiran', 'lava')\n",
    "comps = ('dell','ms', 'gen')\n",
    "\n",
    "zipped = zip(names,comps)\n",
    "\n",
    "print(zipped)"
   ]
  },
  {
   "cell_type": "code",
   "execution_count": null,
   "id": "10a706c1",
   "metadata": {},
   "outputs": [],
   "source": [
    "names = ('prasanthi', 'kiran', 'lava')\n",
    "comps = ('dell','ms', 'gen')\n",
    "\n",
    "zipped = list(zip(names,comps))\n",
    "\n",
    "print(zipped)"
   ]
  },
  {
   "cell_type": "code",
   "execution_count": null,
   "id": "344a81a7",
   "metadata": {},
   "outputs": [],
   "source": [
    "names = ('prasanthi', 'kiran', 'lava')\n",
    "comps = ('dell','ms', 'gen')\n",
    "\n",
    "zipped = set(zip(names,comps))\n",
    "\n",
    "print(zipped)"
   ]
  },
  {
   "cell_type": "code",
   "execution_count": null,
   "id": "a081b19e",
   "metadata": {},
   "outputs": [],
   "source": [
    "names = ('prasanthi', 'kiran', 'lava')\n",
    "comps = ('dell','ms', 'gen')\n",
    "\n",
    "zipped = dict(zip(names,comps))\n",
    "\n",
    "print(zipped)"
   ]
  },
  {
   "cell_type": "code",
   "execution_count": null,
   "id": "eea770f6",
   "metadata": {},
   "outputs": [],
   "source": [
    "names = ('prasanthi', 'kiran', 'lava')\n",
    "comps = ('dell','ms', 'gen')\n",
    "\n",
    "zipped = tuple(zip(names,comps))\n",
    "\n",
    "print(zipped)"
   ]
  },
  {
   "cell_type": "code",
   "execution_count": null,
   "id": "fa9c0c36",
   "metadata": {},
   "outputs": [],
   "source": [
    "names = ('prasanthi', 'kiran', 'lava')\n",
    "comps = ('dell','ms', 'gen')\n",
    "\n",
    "zipped = list(zip(names,comps))\n",
    "\n",
    "for (a,b) in zipped:\n",
    "    \n",
    "    print(a,b)"
   ]
  },
  {
   "cell_type": "code",
   "execution_count": null,
   "id": "265ba03d",
   "metadata": {},
   "outputs": [],
   "source": [
    "a = (\"John\", \"Charles\", \"Mike\")\n",
    "b = (\"Jenny\", \"Christy\", \"Monica\")\n",
    "\n",
    "x = zip(a, b)\n",
    "print(x)"
   ]
  },
  {
   "cell_type": "code",
   "execution_count": null,
   "id": "32e6fb15",
   "metadata": {},
   "outputs": [],
   "source": [
    "a = (\"John\", \"Charles\", \"Mike\")\n",
    "b = (\"Jenny\", \"Christy\", \"Monica\")\n",
    "\n",
    "x = list(zip(a, b))\n",
    "print(x)"
   ]
  },
  {
   "cell_type": "code",
   "execution_count": null,
   "id": "8a53f02c",
   "metadata": {},
   "outputs": [],
   "source": [
    "a = (\"John\", \"Charles\", \"Mike\")\n",
    "b = (\"Jenny\", \"Christy\", \"Monica\")\n",
    "\n",
    "x = zip(a, b)\n",
    "\n",
    "print(tuple(x))"
   ]
  },
  {
   "cell_type": "code",
   "execution_count": null,
   "id": "874cd31d",
   "metadata": {},
   "outputs": [],
   "source": [
    "number_list = [1, 2, 3]\n",
    "str_list = ['one', 'two', 'three']\n",
    "\n",
    "result = zip()\n",
    "\n",
    "result_list = list(result)\n",
    "print(result_list)\n",
    "\n"
   ]
  },
  {
   "cell_type": "code",
   "execution_count": null,
   "id": "ff55843c",
   "metadata": {},
   "outputs": [],
   "source": [
    "number_list = [1, 2, 3]\n",
    "str_list = ['one', 'two', 'three']\n",
    "\n",
    "result = zip()\n",
    "\n",
    "result = zip(number_list, str_list)\n",
    "\n",
    "result_set = set(result)\n",
    "print(result_set)"
   ]
  },
  {
   "cell_type": "code",
   "execution_count": null,
   "id": "4205508a",
   "metadata": {},
   "outputs": [],
   "source": [
    "numbersList = [1, 2, 3]\n",
    "str_list = ['one', 'two']\n",
    "numbers_tuple = ('ONE', 'TWO', 'THREE', 'FOUR')\n",
    "\n",
    "result = zip(numbersList, numbers_tuple)\n",
    "\n",
    "result_set = set(result)\n",
    "print(result_set)"
   ]
  },
  {
   "cell_type": "code",
   "execution_count": null,
   "id": "64d96e67",
   "metadata": {},
   "outputs": [],
   "source": [
    "numbersList = [1, 2, 3]\n",
    "str_list = ['one', 'two']\n",
    "numbers_tuple = ('ONE', 'TWO', 'THREE', 'FOUR')\n",
    "\n",
    "result = zip(numbersList, numbers_tuple)\n",
    "result_set = set(result)\n",
    "print(result_set)"
   ]
  },
  {
   "cell_type": "code",
   "execution_count": null,
   "id": "6eb4d8f2",
   "metadata": {},
   "outputs": [],
   "source": [
    "coordinate = ['x', 'y', 'z']\n",
    "value = [3, 4, 5]\n",
    "\n",
    "result = zip(coordinate, value)\n",
    "result_list = list(result)\n",
    "print(result_list)\n",
    "\n",
    "c, v =  zip(*result_list)\n",
    "# print('c =', c)\n",
    "print('v =', v)"
   ]
  },
  {
   "cell_type": "code",
   "execution_count": null,
   "id": "974e1ec2",
   "metadata": {},
   "outputs": [],
   "source": [
    "coordinate = ['x', 'y', 'z']\n",
    "value = [3, 4, 5]\n",
    "\n",
    "result = zip(coordinate, value)\n",
    "result_list = list(result)\n",
    "print(result_list)\n",
    "\n",
    "c, v =  zip(*result_list)\n",
    "print('c =', c)\n",
    "print('v =', v)"
   ]
  },
  {
   "cell_type": "code",
   "execution_count": null,
   "id": "fe6aca95",
   "metadata": {},
   "outputs": [],
   "source": [
    "import smtplib\n",
    "\n",
    "server = smtplib.SMTP('smtp.gmail.com', 587)\n",
    "\n",
    "server.starttls()\n",
    "\n",
    "server.login('cprasanthi82@gmail.com', 'sivareddy94')\n",
    "\n",
    "server.sendmail('cprasanthi82@gmail.com', 'prasanthic94@gmail.com''Mail snt from python code')\n",
    "print('Mail sent')\n",
    "server.quit()"
   ]
  },
  {
   "cell_type": "markdown",
   "id": "23f511eb",
   "metadata": {},
   "source": [
    "# Class"
   ]
  },
  {
   "cell_type": "code",
   "execution_count": null,
   "id": "c83e9a26",
   "metadata": {},
   "outputs": [],
   "source": [
    "class Human:\n",
    "    def __init__(self, n, o):\n",
    "        self.name = n\n",
    "        self.occupation = o\n",
    "    def do_work(self):\n",
    "        if self.occupation == 'Tennis player':\n",
    "            print (self.name, 'play tennis')\n",
    "        elif self.occupation == 'actor':\n",
    "            print (self.name, 'shoots film')\n",
    "    def speaks (self):\n",
    "        print(self.name, 'says how are you?')\n",
    "        \n",
    "tom = Human('tom cruise', 'actor')\n",
    "tom.do_work()\n",
    "tom.speaks()"
   ]
  },
  {
   "cell_type": "code",
   "execution_count": null,
   "id": "a6d31291",
   "metadata": {},
   "outputs": [],
   "source": [
    "class Human:\n",
    "    def __init__(self, n, o):\n",
    "        self.name = n\n",
    "        self.occupation = o\n",
    "    def do_work(self):\n",
    "        if self.occupation == 'Tennis player':\n",
    "            print (self.name, 'play tennis')\n",
    "        elif self.occupation == 'actor':\n",
    "            print (self.name, 'shoots film')\n",
    "    def speaks (self):\n",
    "        print(self.name, 'says how are you?')\n",
    "        \n",
    "maria = Human('maria','tennis player')\n",
    "maria.do_work()\n",
    "maria.speaks()"
   ]
  },
  {
   "cell_type": "code",
   "execution_count": null,
   "id": "b3b1d838",
   "metadata": {},
   "outputs": [],
   "source": [
    "class Prasanthi:\n",
    "    print('this is class')\n",
    "    "
   ]
  },
  {
   "cell_type": "code",
   "execution_count": null,
   "id": "7e70ab54",
   "metadata": {},
   "outputs": [],
   "source": [
    "class Prasanthi:\n",
    "    print('this is class')\n",
    "    def display(self):\n",
    "        a=10\n",
    "        b=20\n",
    "        print(a,b)\n",
    "    display(self)"
   ]
  },
  {
   "cell_type": "code",
   "execution_count": null,
   "id": "f1084102",
   "metadata": {},
   "outputs": [],
   "source": [
    "class Prasanthi:\n",
    "    print('this is class')\n",
    "    def display(self):\n",
    "        a=10\n",
    "        b=20\n",
    "        print(a,b)\n",
    "\n",
    "obj = Prasanthi()\n",
    "obj.display()"
   ]
  },
  {
   "cell_type": "code",
   "execution_count": null,
   "id": "cbb9a43f",
   "metadata": {},
   "outputs": [],
   "source": [
    "class Mobile:\n",
    "    def __init__(self,Brand,battery,ram,camera,price):\n",
    "        self.Brand=Brand\n",
    "        self.battery=battery\n",
    "        self.ram=ram\n",
    "        self.camera=camera\n",
    "        self.price=price\n",
    "    def display(self):\n",
    "        print('Brand:',Brand)\n",
    "        print('battery:',battery)\n",
    "        print('ram:',ram)\n",
    "        print('camera:',camera)\n",
    "        print('price:',price)\n",
    "\n",
    "obj=Mobile('oppa', '4000mah', '8gb', '48mp', '45000')\n",
    "obj.display()\n"
   ]
  },
  {
   "cell_type": "code",
   "execution_count": null,
   "id": "6fbdc5bb",
   "metadata": {},
   "outputs": [],
   "source": [
    "class Mobile:\n",
    "    def __init__(self, brand, battery, ram, camera, price):\n",
    "        self.brand=brand\n",
    "        self.battery=battery\n",
    "        self.ram=ram\n",
    "        self.camera=camera\n",
    "        self.price=price\n",
    "    def display(self):\n",
    "        print('Brand:', self.brand)\n",
    "        print('battery:', self.battery)\n",
    "        print('ram:', self.ram)\n",
    "        print('camera:', self.camera)\n",
    "        print('price:', self.price)"
   ]
  },
  {
   "cell_type": "code",
   "execution_count": null,
   "id": "a951033d",
   "metadata": {},
   "outputs": [],
   "source": [
    "obj=Mobile('oppa','4000mah','8gb','48mp','45000')\n",
    "obj.display()"
   ]
  },
  {
   "cell_type": "code",
   "execution_count": null,
   "id": "be0fd88b",
   "metadata": {},
   "outputs": [],
   "source": [
    "class Mobile:\n",
    "    def __init__(self):\n",
    "        print('this is init')\n",
    "    def display(self):\n",
    "        print('this method')\n",
    "obj=Mobile()\n",
    "obj.display()"
   ]
  },
  {
   "cell_type": "code",
   "execution_count": null,
   "id": "4696f045",
   "metadata": {},
   "outputs": [],
   "source": [
    "class Add:\n",
    "    x=100\n",
    "    y=200\n",
    "    def sum(self):\n",
    "        print('addition=', self.x + self.y)\n",
    "\n",
    "obj=Add()\n",
    "obj.sum()\n"
   ]
  },
  {
   "cell_type": "code",
   "execution_count": null,
   "id": "a020d5c5",
   "metadata": {},
   "outputs": [],
   "source": [
    "class Add:\n",
    "    a=400\n",
    "    b=600\n",
    "    def sum(self):\n",
    "        return self.a + self.b\n",
    "\n",
    "obj=Add()\n",
    "print('Addition=', obj.sum())"
   ]
  },
  {
   "cell_type": "code",
   "execution_count": null,
   "id": "6da34933",
   "metadata": {},
   "outputs": [],
   "source": [
    "class Add:\n",
    "    a=400\n",
    "    b=600\n",
    "    def sum(self):\n",
    "        return self.a + self.b\n",
    "\n",
    "obj=Add()\n",
    "print('Addition=', obj.sum())\n",
    "print('a value=', obj.a)"
   ]
  },
  {
   "cell_type": "code",
   "execution_count": null,
   "id": "2f22a1d1",
   "metadata": {},
   "outputs": [],
   "source": [
    "class Person:\n",
    "    def __init__(self, name, age):\n",
    "        self.name = name\n",
    "        self.age = age\n",
    "p1 = Person('Prasanthi', 27)\n",
    "\n",
    "print(p1.name)\n",
    "print(p1.age)"
   ]
  },
  {
   "cell_type": "code",
   "execution_count": null,
   "id": "14238e2a",
   "metadata": {},
   "outputs": [],
   "source": [
    "class Cars:\n",
    "    def __init__(self, name, number):\n",
    "        self.name = name\n",
    "        self.number = number\n",
    "    def myfun(self):\n",
    "        print('Hello my car is'+  self.name)\n",
    "\n",
    "p1 = Cars('swift', 3)\n",
    "p1.myfun()"
   ]
  },
  {
   "cell_type": "code",
   "execution_count": null,
   "id": "71cf3b5c",
   "metadata": {},
   "outputs": [],
   "source": [
    "class Snake:\n",
    "    name = 'python'\n",
    "snake = Snake()\n",
    "print(snake.name)"
   ]
  },
  {
   "cell_type": "code",
   "execution_count": null,
   "id": "8063a195",
   "metadata": {},
   "outputs": [],
   "source": [
    "class Snake:\n",
    "    name = 'python'\n",
    "    def change_name(self, new_name):\n",
    "        self.name = new_name\n",
    "snake = Snake()\n",
    "print(snake.name)\n",
    "snake.change_name('anaconda')\n",
    "print(snake.name)"
   ]
  },
  {
   "cell_type": "markdown",
   "id": "3516b657",
   "metadata": {},
   "source": [
    "# Inheritance"
   ]
  },
  {
   "cell_type": "code",
   "execution_count": null,
   "id": "84b98b25",
   "metadata": {},
   "outputs": [],
   "source": [
    "class Robo:\n",
    "    def one(self):\n",
    "        print('This is Baseclass')\n",
    "class chitti(Robo):\n",
    "    def Two(self):\n",
    "        print('This is Derived class')\n",
    "\n",
    "\n",
    "obj=chitti()\n",
    "obj.one()\n",
    "obj.Two()"
   ]
  },
  {
   "cell_type": "code",
   "execution_count": null,
   "id": "affe2d88",
   "metadata": {},
   "outputs": [],
   "source": [
    "class Vehicle:\n",
    "    def general_usage(self):\n",
    "        print('general use: transport')\n",
    "class Car(Vehicle):\n",
    "    def __init__(self):\n",
    "        print(\"I'm car\")\n",
    "        self.wheels=4\n",
    "        \n",
    "c = Car()\n",
    "c.general_usage()"
   ]
  },
  {
   "cell_type": "code",
   "execution_count": null,
   "id": "34efc2dc",
   "metadata": {},
   "outputs": [],
   "source": [
    "class Animal:\n",
    "    def speak(self):\n",
    "        print('Animal Speaking')\n",
    "class Dog(Animal):\n",
    "    def bark(self):\n",
    "        print('dog barking')\n",
    "d = Dog()\n",
    "d.bark()\n",
    "d.speak()"
   ]
  },
  {
   "cell_type": "code",
   "execution_count": null,
   "id": "c63bbe3f",
   "metadata": {},
   "outputs": [],
   "source": [
    "#Multi-level inheritance\n",
    "class Animal:\n",
    "    def speak(self):\n",
    "        print('Animal Speaking')\n",
    "class Dog(Animal):\n",
    "    def bark(self):\n",
    "        print('dog barking')\n",
    "class DogChild(Dog):\n",
    "    def eat(self):\n",
    "        print('Eating bread')\n",
    "d = DogChild()\n",
    "d.bark()\n",
    "d.speak()\n",
    "d.eat()"
   ]
  },
  {
   "cell_type": "code",
   "execution_count": null,
   "id": "14f9341b",
   "metadata": {},
   "outputs": [],
   "source": [
    "class Person:\n",
    "    def __init__(self, fname, lname):\n",
    "        self.firstname = fname\n",
    "        self.lastname = lname\n",
    "\n",
    "    def printname(self):\n",
    "        print(self.firstname, self.lastname)\n",
    "\n",
    "obj = Person(\"Lava\", \"K\")\n",
    "obj.printname()"
   ]
  },
  {
   "cell_type": "code",
   "execution_count": null,
   "id": "303c18ee",
   "metadata": {},
   "outputs": [],
   "source": [
    "class Person:\n",
    "    def __init__(self, fname, lname):\n",
    "        self.firstname = fname\n",
    "        self.lastname = lname\n",
    "\n",
    "    def printname(self):\n",
    "        print(self.firstname, self.lastname)\n",
    "\n",
    "class Student(Person):\n",
    "    def __init__(self, fname, lname):\n",
    "        Person.__init__(self, fname, lname)\n",
    "\n",
    "x = Student(\"PR\", \"chi\")\n",
    "x.printname()\n"
   ]
  },
  {
   "cell_type": "code",
   "execution_count": null,
   "id": "4a7861c5",
   "metadata": {},
   "outputs": [],
   "source": [
    "class Person:\n",
    "    def __init__(self, fname, lname):\n",
    "        self.firstname = fname\n",
    "        self.lastname = lname\n",
    "\n",
    "    def printname(self):\n",
    "        print(self.firstname, self.lastname)\n",
    "\n",
    "class Student(Person):\n",
    "    def __init__(self, fname, lname):\n",
    "        super().__init__(fname, lname)\n",
    "        self.graduationyear = 2019\n",
    "\n",
    "obj = Student(\"Prasanthi\", \"c\")\n",
    "print(obj.graduationyear)\n"
   ]
  },
  {
   "cell_type": "code",
   "execution_count": null,
   "id": "130cb906",
   "metadata": {},
   "outputs": [],
   "source": [
    "class Parent():\n",
    "    def first(self):\n",
    "           print('first function')\n",
    "\n",
    "class Child(Parent):\n",
    "    def second(self):\n",
    "        print('second function')\n",
    " \n",
    " \n",
    "obj = Child()\n",
    "obj.first()\n",
    "obj.second()"
   ]
  },
  {
   "cell_type": "code",
   "execution_count": null,
   "id": "f4c4a2be",
   "metadata": {},
   "outputs": [],
   "source": [
    "class Parent:\n",
    "    def func1(self):\n",
    "        print(\"this is Animal\")\n",
    "class Parent2:\n",
    "    def func2(self):\n",
    "        print(\"this is Plant\")\n",
    "class Child(Parent , Parent2):\n",
    "    def func3(self):\n",
    "        print(\"this is Earth\")\n",
    "\n",
    "        \n",
    "obj = Child()\n",
    "obj.func1()\n",
    "obj.func2()\n",
    "obj.func3()"
   ]
  },
  {
   "cell_type": "code",
   "execution_count": null,
   "id": "5ed1c711",
   "metadata": {},
   "outputs": [],
   "source": [
    "class Vehicle:\n",
    "    def Vehicle_info(self):\n",
    "        print('Inside Vehicle class')\n",
    "\n",
    "class Car(Vehicle):\n",
    "    def car_info(self):\n",
    "        print('Inside Car class')\n",
    "\n",
    "car = Car()\n",
    "\n",
    "\n",
    "car.Vehicle_info()\n",
    "car.car_info()\n"
   ]
  },
  {
   "cell_type": "code",
   "execution_count": null,
   "id": "49c313d2",
   "metadata": {},
   "outputs": [],
   "source": [
    "class Vehicle:\n",
    "    def general_usage(self):\n",
    "        print('general use: transporation')\n",
    "\n",
    "class Car(Vehicle):\n",
    "    def __init__(self):\n",
    "        print(\"I'm car\")\n",
    "        self.wheels = 4\n",
    "        self.has_roof = True\n",
    "    def specific_usage(self):\n",
    "        print('specific use: commute to work, vacation with family')\n",
    "\n",
    "class MotorCycle(Vehicle):\n",
    "    def __init__(self):\n",
    "        print(\"I'm motor cycle\")\n",
    "        self.wheels = 4\n",
    "        self.has_roof = True\n",
    "    def specific_usage(self):\n",
    "        print(\"specific use: road trip, racing\")\n",
    "        \n",
    "c = Car()\n",
    "c.general_usage()\n",
    "c.specific_usage()"
   ]
  },
  {
   "cell_type": "code",
   "execution_count": null,
   "id": "e78cfb10",
   "metadata": {},
   "outputs": [],
   "source": [
    "class Vehicle:\n",
    "    def general_usage(self):\n",
    "        print('general use: transporation')\n",
    "\n",
    "class Car(Vehicle):\n",
    "    def __init__(self):\n",
    "        print(\"I'm car\")\n",
    "        self.wheels = 4\n",
    "        self.has_roof = True\n",
    "    def specific_usage(self):\n",
    "        print('specific use: commute to work, vacation with family')\n",
    "\n",
    "class MotorCycle(Vehicle):\n",
    "    def __init__(self):\n",
    "        print(\"I'm motor cycle\")\n",
    "        self.wheels = 4\n",
    "        self.has_roof = True\n",
    "    def specific_usage(self):\n",
    "        print(\"specific use: road trip, racing\")\n",
    "        \n",
    "m = MotorCycle()\n",
    "m.general_usage()\n",
    "m.specific_usage()"
   ]
  },
  {
   "cell_type": "code",
   "execution_count": null,
   "id": "560ac9ad",
   "metadata": {},
   "outputs": [],
   "source": [
    "class A:\n",
    "    x = \"Parent class variable\"\n",
    "        \n",
    "class B(A):\n",
    "    pass\n",
    "\n",
    "c1 =A()\n",
    "obj = B()\n",
    "print(obj.x)"
   ]
  },
  {
   "cell_type": "code",
   "execution_count": null,
   "id": "8df52dbb",
   "metadata": {},
   "outputs": [],
   "source": [
    "# Multiple Inheritance\n",
    "\n",
    "class Father():\n",
    "    def gardening(self):\n",
    "        print('I enjoy gardening')\n",
    "\n",
    "class Mother():\n",
    "    def cooking(self):\n",
    "        print('I love cooking')\n",
    "    \n",
    "class Child(Father, Mother):\n",
    "    def sports(self):\n",
    "        print('I enjoy sports')\n",
    "    \n",
    "    \n",
    "c= Child()\n",
    "c.gardening()\n",
    "c.cooking()\n",
    "c.sports()"
   ]
  },
  {
   "cell_type": "code",
   "execution_count": null,
   "id": "805bba71",
   "metadata": {},
   "outputs": [],
   "source": [
    "class Father():\n",
    "    def skills (self):\n",
    "        print('gardening, programming')\n",
    "\n",
    "class Mother():\n",
    "    def skills (self):\n",
    "        print('art,cooking')\n",
    "    \n",
    "class Child(Father, Mother):\n",
    "    def skills(self):\n",
    "        Father.skills(self)\n",
    "        Mother.skills(self)\n",
    "        print('I enjoy sports')\n",
    "    \n",
    "    \n",
    "c= Child()\n",
    "c.skills()"
   ]
  },
  {
   "cell_type": "code",
   "execution_count": null,
   "id": "0dc92e7f",
   "metadata": {},
   "outputs": [],
   "source": [
    "# Python Program to depict multiple inheritance\n",
    "# when method is overridden in both classes\n",
    "\n",
    "class Class1:\n",
    "    def m(self):\n",
    "        print(\"In Class1\")\n",
    "        \n",
    "class Class2(Class1):\n",
    "    def m(self):\n",
    "        print(\"In Class2\")\n",
    "\n",
    "class Class3(Class1):\n",
    "    def m(self):\n",
    "        print(\"In Class3\")\n",
    "    \n",
    "class Class4(Class2, Class3):\n",
    "        pass\n",
    "\n",
    "obj = Class4()\n",
    "obj.m()\n"
   ]
  },
  {
   "cell_type": "code",
   "execution_count": null,
   "id": "4475a3c6",
   "metadata": {},
   "outputs": [],
   "source": [
    "class Calculation1:  \n",
    "    def Summation(self,a,b):  \n",
    "        return a+b;\n",
    "    \n",
    "class Calculation2:  \n",
    "    def Multiplication(self,a,b):  \n",
    "        return a*b;\n",
    "    \n",
    "class Derived(Calculation1,Calculation2):  \n",
    "    def Divide(self,a,b):  \n",
    "        return a/b; \n",
    "\n",
    "d = Derived()  \n",
    "print(d.Summation(1,2))  \n",
    "print(d.Multiplication(1,2))  \n",
    "print(d.Divide(1,2))"
   ]
  },
  {
   "cell_type": "code",
   "execution_count": null,
   "id": "03c1d01d",
   "metadata": {},
   "outputs": [],
   "source": [
    "class Car:\n",
    "    def go(self):\n",
    "        print('Going')\n",
    "\n",
    "class Flyable:\n",
    "    def fly(self):\n",
    "        print('Flying')\n",
    "        \n",
    "class FlyingCar(Flyable, Car):\n",
    "    pass\n",
    "\n",
    "if __name__ == '__main__':\n",
    "    fc = FlyingCar()\n",
    "    fc.go()\n",
    "    fc.fly()"
   ]
  },
  {
   "cell_type": "markdown",
   "id": "9c6d4067",
   "metadata": {},
   "source": [
    "# Raise Exception"
   ]
  },
  {
   "cell_type": "code",
   "execution_count": null,
   "id": "0a3c5dc6",
   "metadata": {},
   "outputs": [],
   "source": [
    "try:\n",
    "    raise MemoryError('memory error')\n",
    "\n",
    "except MemoryError as e:\n",
    "    print (e)"
   ]
  },
  {
   "cell_type": "code",
   "execution_count": null,
   "id": "48eca613",
   "metadata": {},
   "outputs": [],
   "source": [
    "class Accident(Exception):\n",
    "    def __init__(self,msg):\n",
    "        self.msg=msg\n",
    "    def print_exception(self):\n",
    "        print('User defined exception', self.msg)\n",
    "        \n",
    "    \n",
    "try:\n",
    "    raise Accident('crash betwween two cars')\n",
    "\n",
    "except Accident as e:\n",
    "    e.print_exception()"
   ]
  },
  {
   "cell_type": "code",
   "execution_count": null,
   "id": "15f118df",
   "metadata": {},
   "outputs": [],
   "source": [
    "class Accident(Exception):\n",
    "    def __init__(self,msg):\n",
    "        self.msg=msg\n",
    "    def handle(self):\n",
    "        print('accident occured. take detour')\n",
    "        \n",
    "    \n",
    "try:\n",
    "    raise Accident('crash betwween two cars')\n",
    "\n",
    "except Accident as e:\n",
    "    e.handle()"
   ]
  },
  {
   "cell_type": "code",
   "execution_count": null,
   "id": "747d4b74",
   "metadata": {},
   "outputs": [],
   "source": [
    "try:\n",
    "    amount=int(input('enter the amount to be transferred'))\n",
    "    if amount>20000:\n",
    "        raise Exception\n",
    "    else:\n",
    "        print('continue the transaction')\n",
    "except:\n",
    "    print('amount is exceeding limit')"
   ]
  },
  {
   "cell_type": "code",
   "execution_count": null,
   "id": "03439399",
   "metadata": {},
   "outputs": [],
   "source": [
    "try:\n",
    "    amount=int(input('enter the amount to be transferred'))\n",
    "    if amount>20000:\n",
    "        raise ValueError\n",
    "    else:\n",
    "        print('continue the transaction')\n",
    "except ValueError:\n",
    "    print('amount is exceeding limit') "
   ]
  },
  {
   "cell_type": "code",
   "execution_count": null,
   "id": "e1ce7369",
   "metadata": {},
   "outputs": [],
   "source": [
    "try:\n",
    "    raise KeyboardInterrupt\n",
    "finally:\n",
    "    print 'welcome, world!'"
   ]
  },
  {
   "cell_type": "code",
   "execution_count": null,
   "id": "c9b22779",
   "metadata": {},
   "outputs": [],
   "source": [
    "a=int(input('Enter value for a:'))\n",
    "b=int(input('Enter value for b:'))\n",
    "try:\n",
    "    if b == 0:\n",
    "        raise Exception\n",
    "    c=a/b\n",
    "    print(c)\n",
    "except:\n",
    "    print('Exception')"
   ]
  },
  {
   "cell_type": "code",
   "execution_count": null,
   "id": "9bfef616",
   "metadata": {},
   "outputs": [],
   "source": [
    "a=int(input('Enter value for a:'))\n",
    "b=int(input('Enter value for b:'))\n",
    "try:\n",
    "    if b == 0:\n",
    "        raise ZeroDivisionError('Divided by Zero')\n",
    "    c=a/b\n",
    "    print(c)\n",
    "except ZeroDivisionError as e:\n",
    "    print(e)"
   ]
  },
  {
   "cell_type": "markdown",
   "id": "1c9f1704",
   "metadata": {},
   "source": [
    "# Iterators\n"
   ]
  },
  {
   "cell_type": "code",
   "execution_count": null,
   "id": "285368f2",
   "metadata": {},
   "outputs": [],
   "source": [
    "class RemoteControl():\n",
    "    def __init__(self):\n",
    "        self.channels=['HBO', 'CNN', 'abc', 'tv9']\n",
    "        self.index = -1\n",
    "    def __iter__ (self):\n",
    "        return self\n",
    "    def __next__ (self):\n",
    "        self.index +=1\n",
    "        if self.index == len(self.channels):\n",
    "            raise StopIteration\n",
    "            \n",
    "        return self.channels[self.index]\n",
    "\n",
    "r = RemoteControl()\n",
    "itr=iter(r)\n",
    "print(next(itr))\n",
    "print(next(itr))\n",
    "print(next(itr))\n",
    "print(next(itr))\n",
    "print(next(itr))"
   ]
  },
  {
   "cell_type": "code",
   "execution_count": null,
   "id": "86d050f3",
   "metadata": {},
   "outputs": [],
   "source": [
    "lst = [2,2.6,8,9, 'prasanthi']\n",
    "\n",
    "x = iter(lst)\n",
    "\n",
    "print(x)\n",
    "print(next(x))\n",
    "print(next(x))\n",
    "print(next(x))\n",
    "print(next(x))\n",
    "print(next(x))\n",
    "print(next(x))\n"
   ]
  },
  {
   "cell_type": "code",
   "execution_count": null,
   "id": "98befac4",
   "metadata": {},
   "outputs": [],
   "source": [
    "class numbers:\n",
    "    def __init__(self):\n",
    "        self.num = 1\n",
    "    def __iter__(self):\n",
    "        return(self)\n",
    "    def __next__(self):\n",
    "        if self.num <=20:\n",
    "            result = self.num\n",
    "            self.num +=1\n",
    "            return (result)\n",
    "        \n",
    "        else:raise StopIteration\n",
    "\n",
    "x = numbers()\n",
    "\n",
    "for i in x:\n",
    "    print(i)\n"
   ]
  },
  {
   "cell_type": "code",
   "execution_count": null,
   "id": "81f10e4e",
   "metadata": {},
   "outputs": [],
   "source": [
    "mytuples = ('apple', 'banana', 'cherry')\n",
    "myit = iter(mytuples)\n",
    "\n",
    "print(next(myit))\n",
    "print(next(myit))\n"
   ]
  },
  {
   "cell_type": "code",
   "execution_count": null,
   "id": "efe05574",
   "metadata": {},
   "outputs": [],
   "source": [
    "mystr = 'banana'\n",
    "myit = iter(mystr)\n",
    "\n",
    "print(next(myit))\n",
    "print(next(myit))\n",
    "print(next(myit))"
   ]
  },
  {
   "cell_type": "code",
   "execution_count": null,
   "id": "cd4c773b",
   "metadata": {},
   "outputs": [],
   "source": [
    "mystr = 'banana'\n",
    "\n",
    "for x in mystr:\n",
    "    print(x)"
   ]
  },
  {
   "cell_type": "code",
   "execution_count": null,
   "id": "c01e0966",
   "metadata": {},
   "outputs": [],
   "source": [
    "class MyNumbers:\n",
    "    def __iter__(self):\n",
    "        self.a = 1\n",
    "        return self\n",
    "\n",
    "    def __next__(self):\n",
    "        x = self.a\n",
    "        self.a += 1\n",
    "        return x\n",
    "\n",
    "myclass = MyNumbers()\n",
    "myiter = iter(myclass)\n",
    "\n",
    "print(next(myiter))\n",
    "print(next(myiter))\n",
    "print(next(myiter))\n",
    "print(next(myiter))\n",
    "print(next(myiter))"
   ]
  },
  {
   "cell_type": "code",
   "execution_count": null,
   "id": "3b5897fe",
   "metadata": {},
   "outputs": [],
   "source": [
    "class MyNumbers:\n",
    "    def __iter__(self):\n",
    "        self.a = 1\n",
    "        return self\n",
    "\n",
    "    def __next__(self):\n",
    "        if self.a <= 20:\n",
    "            x = self.a\n",
    "            self.a += 1\n",
    "            return x\n",
    "        else:\n",
    "            raise StopIteration\n",
    "\n",
    "myclass = MyNumbers()\n",
    "myiter = iter(myclass)\n",
    "\n",
    "for x in myiter:\n",
    "    print(x)"
   ]
  },
  {
   "cell_type": "code",
   "execution_count": null,
   "id": "48cf72fd",
   "metadata": {},
   "outputs": [],
   "source": [
    "iterable_value = 'prasanthi'\n",
    "iterable_obj = iter(iterable_value)\n",
    "\n",
    "while True:\n",
    "    try:\n",
    "        item = next(iterable_obj)\n",
    "        print(item)\n",
    "                \n",
    "    except StopIteration:\n",
    "        break\n",
    "        \n"
   ]
  },
  {
   "cell_type": "code",
   "execution_count": null,
   "id": "f34670eb",
   "metadata": {},
   "outputs": [],
   "source": [
    "class Test:\n",
    "    def __init__(self, limit):\n",
    "        self.limit = limit\n",
    "\n",
    "    def __iter__(self):\n",
    "        self.x = 10\n",
    "        return self\n",
    "    \n",
    "    def __next__(self):\n",
    "        x = self.x\n",
    "\n",
    "        if x > self.limit:\n",
    "            raise StopIteration\n",
    "        self.x = x + 1;\n",
    "        return x\n",
    "\n",
    "for i in Test(15):\n",
    "    print(i)\n",
    "\n",
    "\n",
    "for i in Test(5):\n",
    "    print(i)\n"
   ]
  },
  {
   "cell_type": "code",
   "execution_count": null,
   "id": "695da48e",
   "metadata": {},
   "outputs": [],
   "source": [
    "from itertools import chain\n",
    "def chain_func(l1,l2,l3):\n",
    "    return chain(l1,l2,l3)\n",
    "\n",
    "result = chain_func([1,2,3], ['a','b','c','d'], [4,5,6,7,8,9])\n",
    "print('Type of the new iterator:')\n",
    "print(type(result))\n",
    "print('Elements of the new iterator:')\n",
    "for i in result:\n",
    "    print(i)"
   ]
  },
  {
   "cell_type": "code",
   "execution_count": null,
   "id": "1eb715a8",
   "metadata": {},
   "outputs": [],
   "source": [
    "result = chain_func((10,20,30,40), ('A','B','C','D'),(40,50,60,70))\n",
    "print('Type of the new iterator:')\n",
    "print(type(result))\n",
    "print('Elements of the new iterator:')\n",
    "for i in result:\n",
    "    print(i)"
   ]
  },
  {
   "cell_type": "markdown",
   "id": "9fcb4b26",
   "metadata": {},
   "source": [
    "#Generators"
   ]
  },
  {
   "cell_type": "code",
   "execution_count": null,
   "id": "2c5f1dc6",
   "metadata": {},
   "outputs": [],
   "source": [
    "def table(num):\n",
    "    \n",
    "    for i in range (1,11):\n",
    "        print(f'{num}X{i}={num*i}')\n",
    "\n",
    "table(6)"
   ]
  },
  {
   "cell_type": "code",
   "execution_count": null,
   "id": "da157380",
   "metadata": {},
   "outputs": [],
   "source": [
    "def fib():\n",
    "    a, b = 0, 1\n",
    "    while True:\n",
    "        yield a\n",
    "        a, b = b, a+b\n",
    "        \n",
    "for f in fib():\n",
    "    if f> 50:\n",
    "        break\n",
    "    print(f)"
   ]
  },
  {
   "cell_type": "code",
   "execution_count": null,
   "id": "705e6723",
   "metadata": {},
   "outputs": [],
   "source": [
    "import types\n",
    "def a(x):\n",
    "    yield x\n",
    "    \n",
    "def b(x):\n",
    "    return x\n",
    "\n",
    "def add(x,y):\n",
    "    return x + y\n",
    "\n",
    "print(isinstance(a(456), types.GeneratorType))\n",
    "print(isinstance(b(823), types.GeneratorType))\n",
    "print(isinstance(add(8,2), types.GeneratorType))"
   ]
  },
  {
   "cell_type": "code",
   "execution_count": null,
   "id": "151997dc",
   "metadata": {},
   "outputs": [],
   "source": [
    "def fruits():\n",
    "    yield \"Mango\"\n",
    "    yield \"Jackfruit\"\n",
    "    yield \"Banana\"\n",
    "    yield  \"Guava\"\n",
    "\n",
    "getfruits = fruits()\n",
    "\n",
    "for a in getfruits:\n",
    "    print(a)\n"
   ]
  },
  {
   "cell_type": "code",
   "execution_count": null,
   "id": "b1fc07f5",
   "metadata": {},
   "outputs": [],
   "source": [
    "def timesTable(number):\n",
    "    for i in range (1, 11):\n",
    "        yield i * number\n",
    "        i += 1\n",
    "\n",
    "gettimes = timesTable(10)\n",
    "for a in gettimes:\n",
    "    print(a)"
   ]
  },
  {
   "cell_type": "markdown",
   "id": "254162c1",
   "metadata": {},
   "source": [
    "# Object Oriented programming"
   ]
  },
  {
   "cell_type": "code",
   "execution_count": null,
   "id": "c69cc19c",
   "metadata": {},
   "outputs": [],
   "source": [
    "# to know the data types\n",
    "item1 = 'Phone'\n",
    "item1_price = 100\n",
    "item1_quantity = 5\n",
    "item1_price_total = item1_price*item1_quantity\n",
    "\n",
    "print(type(item1))\n",
    "print(type(item1_price))\n",
    "print(type(item1_quantity))\n",
    "print(type(item1_price_total))\n",
    "\n",
    "\n",
    "\n"
   ]
  },
  {
   "cell_type": "code",
   "execution_count": null,
   "id": "52f25d88",
   "metadata": {},
   "outputs": [],
   "source": [
    "class Item:\n",
    "    pass\n",
    "\n",
    "item1 = Item()\n",
    "item1.name = 'Phone'\n",
    "item1.price = 100\n",
    "item1.quantity = 5\n",
    "\n",
    "\n",
    "print(type(item1))\n",
    "print(type(item1.name))\n",
    "print(type(item1.price))\n",
    "print(type(item1.quantity))\n"
   ]
  },
  {
   "cell_type": "code",
   "execution_count": null,
   "id": "49f42403",
   "metadata": {},
   "outputs": [],
   "source": [
    "#uppercase\n",
    "random_str = 'prasanthi'\n",
    "print(random_str.upper())"
   ]
  },
  {
   "cell_type": "code",
   "execution_count": null,
   "id": "0179befa",
   "metadata": {},
   "outputs": [],
   "source": [
    "class Item:\n",
    "    def claculate_total_price(self):\n",
    "        pass\n",
    "    \n",
    "item2 = Item()\n",
    "item2.name = 'Laptop'\n",
    "item2.price = 10000\n",
    "item2.quantity = 2\n",
    "\n",
    "\n",
    "print(type(item2))\n",
    "print(type(item2.name))\n",
    "print(type(item2.price))\n",
    "print(type(item2.quantity))"
   ]
  },
  {
   "cell_type": "code",
   "execution_count": null,
   "id": "b38822cf",
   "metadata": {},
   "outputs": [],
   "source": [
    "class test():\n",
    "    print('Hello')\n",
    "    def msg(self):\n",
    "        print('Hello World')\n",
    "        print('welcome to python')\n",
    "        \n",
    "        \n",
    "a=test()\n",
    "print(a)\n",
    "print(id(a))\n",
    "a.msg()"
   ]
  },
  {
   "cell_type": "code",
   "execution_count": null,
   "id": "ce2c4c98",
   "metadata": {},
   "outputs": [],
   "source": [
    "class test():\n",
    "    print('Hello')\n",
    "    def msg(self):\n",
    "        print('Hello World')\n",
    "        print('welcome to python')\n",
    "\n",
    "a = test()\n",
    "print(a)\n",
    "a1 = test()\n",
    "print(a1)\n",
    "a2 = test()\n",
    "print(a2)"
   ]
  },
  {
   "cell_type": "code",
   "execution_count": null,
   "id": "1682ad30",
   "metadata": {},
   "outputs": [],
   "source": [
    "class Item:\n",
    "    def calculate_total_price(self, x, y):\n",
    "        return x * y\n",
    "\n",
    "    \n",
    "    \n",
    "    \n",
    "item1 = Item()\n",
    "item1.name = 'Phone'\n",
    "item1.price = 500\n",
    "item1.quantity = 5\n",
    "print(item1.calculate_total_price(item1.price, item1.quality))\n",
    "    \n",
    "    \n",
    "item2 = Item()\n",
    "item2.name = 'Laptop'\n",
    "item2.price = 10000\n",
    "item2.quantity = 2\n",
    "print(item2.calculate_total_price(item2.price, item2.quality))"
   ]
  },
  {
   "cell_type": "code",
   "execution_count": null,
   "id": "f5fe2d63",
   "metadata": {},
   "outputs": [],
   "source": [
    "class Item:\n",
    "    def __init__(self):\n",
    "        print('I AM CREATED')\n",
    "    def calculate_total_price(self, x, y):\n",
    "        return x * y\n",
    "\n",
    "item1 = Item()\n",
    "item1.name = 'phone'\n",
    "item1.price = 100\n",
    "item1.quantity = 2\n",
    "\n",
    "item2 = Item()\n",
    "item2.name = 'Laptop'\n",
    "item2.price = 10000\n",
    "item2.quantity = 2\n",
    "\n"
   ]
  },
  {
   "cell_type": "code",
   "execution_count": null,
   "id": "db1196c0",
   "metadata": {},
   "outputs": [],
   "source": [
    "class Item:\n",
    "    def __init__(self, name):\n",
    "        print(f'I AM CREATED')\n",
    "    def calculate_total_price(self, x, y):\n",
    "        return x * y\n",
    "\n",
    "item1 = Item('phone')\n",
    "item1.name = 'phone'\n",
    "item1.price = 500\n",
    "item1.quantity = 2\n",
    "\n",
    "item2 = Item('laptop')\n",
    "item2.name = 'Laptop'\n",
    "item2.price = 10000\n",
    "item2.quantity = 2"
   ]
  },
  {
   "cell_type": "code",
   "execution_count": null,
   "id": "f2b2eda9",
   "metadata": {},
   "outputs": [],
   "source": [
    "class Item:\n",
    "    def __init__(self, name):\n",
    "        print(f'An instance created:{name}')\n",
    "    def calculate_total_price(self, x, y):\n",
    "        return x * y\n",
    "\n",
    "item1 = Item('phone')\n",
    "item1.name = 'phone'\n",
    "item1.price = 500\n",
    "item1.quality = 2\n",
    "\n",
    "item2 = Item('laptop')\n",
    "item2.name = 'Laptop'\n",
    "item2.price = 10000\n",
    "item2.quality = 2"
   ]
  },
  {
   "cell_type": "code",
   "execution_count": null,
   "id": "27cfbcab",
   "metadata": {},
   "outputs": [],
   "source": [
    "class Item:\n",
    "    def __init__(self, name):\n",
    "        self.name = name\n",
    "    def calculate_total_price(self, x, y):\n",
    "        return x * y\n",
    "\n",
    "item1 = Item('phone')\n",
    "item1.price = 500\n",
    "item1.quantity = 2\n",
    "\n",
    "item2 = Item('laptop')\n",
    "item2.price = 10000\n",
    "item2.quantity = 2\n",
    "\n",
    "print(item1.name)\n",
    "print(item2.name)"
   ]
  },
  {
   "cell_type": "code",
   "execution_count": null,
   "id": "b0b2f653",
   "metadata": {},
   "outputs": [],
   "source": [
    "class Item:\n",
    "    def __init__(self, name, price, quantity):\n",
    "        self.name = name\n",
    "        self.price = price\n",
    "        self.quantity = quantity\n",
    "    def calculate_total_price(self, x, y):\n",
    "        return x * y\n",
    "\n",
    "item1 = Item('phone', 500, 3)\n",
    "\n",
    "item2 = Item('laptop', 10000, 2)\n",
    "\n",
    "print(item1.name)\n",
    "print(item2.name)\n",
    "print(item1.price)\n",
    "print(item2.price)\n",
    "print(item1.quantity)\n",
    "print(item2.quantity)\n"
   ]
  },
  {
   "cell_type": "code",
   "execution_count": null,
   "id": "6e09c00d",
   "metadata": {},
   "outputs": [],
   "source": [
    "class dog:\n",
    "    pass\n",
    "\n",
    "\n",
    "obj = dog()\n",
    "print(obj)\n"
   ]
  },
  {
   "cell_type": "code",
   "execution_count": null,
   "id": "cf22b916",
   "metadata": {},
   "outputs": [],
   "source": [
    "class Employee:\n",
    "    company_name = 'XYZ Company'\n",
    "    def __init__(self, name, salary):\n",
    "        self.name = name\n",
    "        self.salary = salary\n",
    "        \n",
    "    def show(self):\n",
    "        print('Employee:', self.name, self.salary, self.company_name)\n",
    "        \n",
    "\n",
    "emp1 = Employee('qpr', 12000)\n",
    "emp1.show()\n",
    "\n",
    "emp2 = Employee('abc', 15000)\n",
    "emp2.show()"
   ]
  },
  {
   "cell_type": "code",
   "execution_count": null,
   "id": "e334d9a9",
   "metadata": {},
   "outputs": [],
   "source": [
    "class Item:\n",
    "    def __init__(self, name, price, quantity=0):\n",
    "        self.name = name\n",
    "        self.price = price\n",
    "        self.quantity = quantity\n",
    "        \n",
    "    def calculate_total_price(self):\n",
    "        return self.price * self.quantity\n",
    "\n",
    "item1 = Item('phone', 500, 3)\n",
    "\n",
    "item2 = Item('laptop', 10000, 2)\n",
    "\n",
    "print(item1.calculate_total_price())\n",
    "print(item2.calculate_total_price())"
   ]
  },
  {
   "cell_type": "code",
   "execution_count": null,
   "id": "c81140ae",
   "metadata": {},
   "outputs": [],
   "source": [
    "class Item:\n",
    "    def __init__(self, name: str, price: float, quantity=0):\n",
    "        assert price >=0, f'print {price} is not greater than or equal tozero'\n",
    "        assert quantity >=0, f'quantity {quantity} is not greater than or equal to zero'\n",
    "        \n",
    "        self.name = name\n",
    "        self.price = price\n",
    "        self.quantity = quantity\n",
    "        \n",
    "    def calculate_total_price(self):\n",
    "        return self.price * self.quantity\n",
    "    \n",
    "\n",
    "item1 = Item ('phone', 100, 1)\n",
    "item2 = Item ('laptop', 1000, 3)\n",
    "\n",
    "print(item1.calculate_total_price())\n",
    "print(item2.calculate_total_price())\n"
   ]
  },
  {
   "cell_type": "code",
   "execution_count": null,
   "id": "a1798122",
   "metadata": {},
   "outputs": [],
   "source": [
    "class Circle:\n",
    "    pi = 3.14159\n",
    "\n",
    "    def __init__(self, radius):\n",
    "        self.radius = radius\n",
    "\n",
    "    def area(self):\n",
    "        return self.pi * self.radius**2\n",
    "\n",
    "    def circumference(self):\n",
    "        return 2 * self.pi * self.radius\n",
    "    \n",
    "\n",
    "c = Circle(10)\n",
    "print(c.pi)\n",
    "print(Circle.pi)"
   ]
  },
  {
   "cell_type": "code",
   "execution_count": null,
   "id": "c592d294",
   "metadata": {},
   "outputs": [],
   "source": [
    "class ExampleClass(object):\n",
    "  class_attr = 0\n",
    "\n",
    "  def __init__(self, instance_attr):\n",
    "    self.instance_attr = instance_attr"
   ]
  },
  {
   "cell_type": "code",
   "execution_count": null,
   "id": "9efb5dc7",
   "metadata": {},
   "outputs": [],
   "source": [
    "class A:\n",
    "    a = \"I am a class attribute!\"\n",
    "x = A()\n",
    "y = A()\n",
    "x.a"
   ]
  },
  {
   "cell_type": "code",
   "execution_count": null,
   "id": "6687a563",
   "metadata": {},
   "outputs": [],
   "source": [
    "y.a"
   ]
  },
  {
   "cell_type": "code",
   "execution_count": null,
   "id": "39717896",
   "metadata": {},
   "outputs": [],
   "source": [
    "class Robot:\n",
    "    Three_Laws = (\n",
    "\"\"\"A robot may not injure a human being or,\"\"\",\n",
    "\"\"\"A robot must obey the orders given to it by human beings.,\"\"\",\n",
    "\"\"\"A robot must protect its own existence\"\"\"\n",
    ")\n",
    "    def __init__(self, name, build_year):\n",
    "        self.name = name\n",
    "        self.build_year = build_year\n",
    "        from robot_asimov import Robot\n",
    "for number, text in enumerate(Robot.Three_Laws):\n",
    "    print(str(number+1) + \":\\n\" + text) "
   ]
  },
  {
   "cell_type": "code",
   "execution_count": null,
   "id": "c44c054e",
   "metadata": {},
   "outputs": [],
   "source": [
    "class Item:\n",
    "    \n",
    "    pay_rate = 0.8\n",
    "    all = []\n",
    "    def __init__(self, name: str, price: float, quantity=0):\n",
    "        assert price >=0, f'print {price} is not greater than or equal tozero'\n",
    "        assert quantity >=0, f'quantity {quantity} is not greater than or equal to zero'\n",
    "        \n",
    "        self.name = name\n",
    "        self.price = price\n",
    "        self.quantity = quantity\n",
    "        \n",
    "        Item.all.append(self)\n",
    "        \n",
    "    def calculate_total_price(self):\n",
    "        return self.price * self.quantity\n",
    "    \n",
    "    def apply_discount(self):\n",
    "        self.price = self.price * self.pay_rate\n",
    "    \n",
    "\n",
    "item1 = Item ('phone', 100, 1)\n",
    "item2 = Item ('laptop', 1000, 3)\n",
    "item3 = Item ('cable', 10, 5)\n",
    "item4 = Item ('Mouse', 50, 5)\n",
    "item5 = Item ('keyboard', 75, 5)\n",
    "\n",
    "print(Item.all)\n",
    "\n",
    "\n",
    "\n",
    "\n",
    "\n"
   ]
  },
  {
   "cell_type": "code",
   "execution_count": null,
   "id": "1b6fbc5a",
   "metadata": {},
   "outputs": [],
   "source": [
    "class Item:\n",
    "    \n",
    "    pay_rate = 0.8\n",
    "    all = []\n",
    "    def __init__(self, name: str, price: float, quantity=0):\n",
    "        assert price >=0, f'print {price} is not greater than or equal tozero'\n",
    "        assert quantity >=0, f'quantity {quantity} is not greater than or equal to zero'\n",
    "        \n",
    "        self.name = name\n",
    "        self.price = price\n",
    "        self.quantity = quantity\n",
    "        \n",
    "        Item.all.append(self)\n",
    "        \n",
    "    def calculate_total_price(self):\n",
    "        return self.price * self.quantity\n",
    "    \n",
    "    def apply_discount(self):\n",
    "        self.price = self.price * self.pay_rate\n",
    "    \n",
    "\n",
    "item1 = Item ('phone', 100, 1)\n",
    "item2 = Item ('laptop', 1000, 3)\n",
    "item3 = Item ('cable', 10, 5)\n",
    "item4 = Item ('Mouse', 50, 5)\n",
    "item5 = Item ('keyboard', 75, 5)\n",
    "\n",
    "for instance in Item.all:\n",
    "    print(instance.name)"
   ]
  },
  {
   "cell_type": "code",
   "execution_count": null,
   "id": "8205bd43",
   "metadata": {},
   "outputs": [],
   "source": [
    "# __repr__\n",
    "class Item:\n",
    "    \n",
    "    pay_rate = 0.8\n",
    "    all = []\n",
    "    def __init__(self, name: str, price: float, quantity=0):\n",
    "        assert price >=0, f'print {price} is not greater than or equal tozero'\n",
    "        assert quantity >=0, f'quantity {quantity} is not greater than or equal to zero'\n",
    "        \n",
    "        self.name = name\n",
    "        self.price = price\n",
    "        self.quantity = quantity\n",
    "        \n",
    "        Item.all.append(self)\n",
    "        \n",
    "    def calculate_total_price(self):\n",
    "        return self.price * self.quantity\n",
    "    \n",
    "    def apply_discount(self):\n",
    "        self.price = self.price * self.pay_rate\n",
    "    def __ref__(self):\n",
    "        return f\"Item('{self.name}', {self.price}, {self.quantity})\"\n",
    "\n",
    "\n",
    "m1 = Item ('phone', 100, 1)\n",
    "m2 = Item ('laptop', 1000, 3)\n",
    "m3 = Item ('cable', 10, 5)\n",
    "m4 = Item ('Mouse', 50, 5)\n",
    "m5 = Item ('keyboard', 75, 5)\n",
    "\n",
    "print(Item.all)"
   ]
  },
  {
   "cell_type": "code",
   "execution_count": null,
   "id": "0c78842f",
   "metadata": {},
   "outputs": [],
   "source": [
    "class Person:\n",
    "    def __init__(self, first_name, last_name, age):\n",
    "        self.first_name = first_name\n",
    "        self.last_name = last_name\n",
    "        self.age = age\n",
    "    def __repr__(self):\n",
    "        return f'Person(\"{self.first_name}\",\"{self.last_name}\",{self.age})'  \n",
    "        \n",
    "person = Person('Abc', 'Def', 25)\n",
    "print(repr(person))"
   ]
  },
  {
   "cell_type": "code",
   "execution_count": null,
   "id": "d1e1cf38",
   "metadata": {},
   "outputs": [],
   "source": [
    "class point:\n",
    "    def __init__(self, x, y):\n",
    "        self.x, self.y = x, y\n",
    "        \n",
    "    def __repr__(self):\n",
    "        return 'Point(x=%s, y=%s)' % (self.x, self.y)\n",
    "    \n",
    "p = point(3, 4)\n",
    "\n",
    "print(p)"
   ]
  },
  {
   "cell_type": "code",
   "execution_count": null,
   "id": "dbf6763b",
   "metadata": {},
   "outputs": [],
   "source": [
    "class Book:\n",
    "    def __init__(self, title, quantity, author, price):\n",
    "        self.title = title\n",
    "        self.quantity = quantity\n",
    "        self.author = author\n",
    "        self.price = price\n",
    "        \n",
    "book1 = Book('Book 1', 12, 'Author 1', 120)\n",
    "book2 = Book('Book 2', 18, 'Author 2', 220)\n",
    "book3 = Book('Book 3', 28, 'Author 3', 320)\n",
    "\n",
    "print(book1)\n",
    "print(book2)\n",
    "print(book3)"
   ]
  },
  {
   "cell_type": "code",
   "execution_count": null,
   "id": "47271b77",
   "metadata": {},
   "outputs": [],
   "source": [
    "class Book:\n",
    "    def __init__(self, title, quantity, author, price):\n",
    "        self.title = title\n",
    "        self.quantity = quantity\n",
    "        self.author = author\n",
    "        self.price = price\n",
    "        \n",
    "    def __repr__(self):\n",
    "        return f\"Book: {self.title}, Quantity: {self.quantity}, Author: {self.author}, Price: {self.price}\"\n",
    "\n",
    "        \n",
    "book1 = Book('Book 1', 12, 'Author 1', 120)\n",
    "book2 = Book('Book 2', 18, 'Author 2', 220)\n",
    "book3 = Book('Book 3', 28, 'Author 3', 320)\n",
    "\n",
    "print(book1)\n",
    "print(book2)\n",
    "print(book3)"
   ]
  },
  {
   "cell_type": "code",
   "execution_count": null,
   "id": "f8316cfb",
   "metadata": {
    "scrolled": true
   },
   "outputs": [],
   "source": [
    "import csv\n",
    "\n",
    "class Item:\n",
    "\n",
    "    \n",
    "    pay_rate = 0.8\n",
    "    all = []\n",
    "    def __init__(self, name: str, price: float, quantity=0):\n",
    "        assert price >=0, f'print {price} is not greater than or equal tozero'\n",
    "        assert quantity >=0, f'quantity {quantity} is not greater than or equal to zero'\n",
    "        \n",
    "        self.name = name\n",
    "        self.price = price\n",
    "        self.quantity = quantity\n",
    "        \n",
    "        Item.all.append(self)\n",
    "        \n",
    "    def calculate_total_price(self):\n",
    "        return self.price * self.quantity\n",
    "    \n",
    "    def apply_discount(self):\n",
    "        self.price = self.price * self.pay_rate\n",
    "    def __ref__(self):\n",
    "        return f\"Item('{self.name}', {self.price}, {self.quantity})\"\n",
    "    @classmethod\n",
    "    def instantiate_from_csv(cls):\n",
    "    \n",
    "        with open('items.csv', 'r') as f:\n",
    "            reader = csv.DictReader(f)\n",
    "            items = list(reader)\n",
    "        for item in items:\n",
    "            Item( \n",
    "                name=item.get('name'),\n",
    "                price=int(item.get('price')),\n",
    "                quantity=int(item.get('quantity'))\n",
    "             )\n",
    "        \n",
    "Item.instantiate_from_csv()\n",
    "print(Item.all)"
   ]
  },
  {
   "cell_type": "code",
   "execution_count": null,
   "id": "bf0fe50d",
   "metadata": {},
   "outputs": [],
   "source": [
    "# Static method\n",
    "\n",
    "import csv\n",
    "class phone(Item):\n",
    "    all=[]\n",
    "    def __init__(self, name: str, price: float, quantity=0, broken_phones=0):\n",
    "        assert price >=0, f'print {price} is not greater than or equal tozero'\n",
    "        assert quantity >=0, f'quantity {quantity} is not greater than or equal to zero'\n",
    "        assert broken_phones >=0, f'broken_phone {broken_phones} is not greater than or equal to zero'\n",
    "        self.name = name\n",
    "        self.price = price\n",
    "        self.quantity = quantity\n",
    "        self.broken_phones = broken_phones\n",
    "        \n",
    "        phone.all.append(self)\n",
    "        \n",
    "phone1 = phone('jscphone10', 500, 5, 1)\n",
    "print(phone1.calculate_total_price())\n",
    "phone2 = phone('jscphone20', 700, 5, 1)\n"
   ]
  },
  {
   "cell_type": "code",
   "execution_count": null,
   "id": "f7000927",
   "metadata": {},
   "outputs": [],
   "source": [
    "class Maths:\n",
    "\n",
    "    def addNumbers(x, y):\n",
    "        return x + y\n",
    "\n",
    "# create addNumbers static method\n",
    "Maths.addNumbers = staticmethod(Maths.addNumbers)\n",
    "\n",
    "print('The sum is:', Maths.addNumbers(5, 10))\n"
   ]
  },
  {
   "cell_type": "code",
   "execution_count": null,
   "id": "57308480",
   "metadata": {},
   "outputs": [],
   "source": [
    "class Employee:\n",
    "    @staticmethod\n",
    "    def sample(x):\n",
    "        print('Inside static method', x)\n",
    "\n",
    "\n",
    "#call static method        \n",
    "Employee.sample(10)\n",
    "\n",
    "#can be called using object\n",
    "emp = Employee()\n",
    "emp.sample(10)"
   ]
  },
  {
   "cell_type": "code",
   "execution_count": null,
   "id": "dd1ef51d",
   "metadata": {},
   "outputs": [],
   "source": [
    "class Employee:\n",
    "    def sample(x):\n",
    "        print('Inside static method', x)\n",
    "\n",
    "        \n",
    "Employee.sample=staticmethod(Employee.sample)\n",
    "Employee.sample(20)"
   ]
  },
  {
   "cell_type": "code",
   "execution_count": null,
   "id": "f5207513",
   "metadata": {},
   "outputs": [],
   "source": [
    "class calculator:\n",
    "    def addnumber(x, y):\n",
    "        return x + y\n",
    "\n",
    "calculator.addnumber = staticmethod(calculator.addnumber)\n",
    "\n",
    "print('product:', calculator.addnumber(15, 110))"
   ]
  },
  {
   "cell_type": "code",
   "execution_count": null,
   "id": "8467e554",
   "metadata": {},
   "outputs": [],
   "source": [
    "class person:\n",
    "    def __init__(self, name, sex, profession):\n",
    "        #instance variable\n",
    "        self.name = name\n",
    "        self.sex = sex\n",
    "        self.profession = profession\n",
    "     #instance method\n",
    "    def show(self):\n",
    "        print('Name:', self.name, 'Sex:', self.sex, 'Profession:', self.profession)\n",
    "    def work(self):\n",
    "        print(self.name, 'working as a', self.profession)"
   ]
  },
  {
   "cell_type": "code",
   "execution_count": null,
   "id": "c65888be",
   "metadata": {},
   "outputs": [],
   "source": [
    "class Person:\n",
    "    def __init__(self, name, sex, profession):\n",
    "        # data members (instance variables)\n",
    "        self.name = name\n",
    "        self.sex = sex\n",
    "        self.profession = profession\n",
    "\n",
    "    # Behavior (instance methods)\n",
    "    def show(self):\n",
    "        print('Name:', self.name, 'Sex:', self.sex, 'Profession:', self.profession)\n",
    "\n",
    "    # Behavior (instance methods)\n",
    "    def work(self):\n",
    "        print(self.name, 'working as a', self.profession)"
   ]
  },
  {
   "cell_type": "code",
   "execution_count": null,
   "id": "22338e96",
   "metadata": {},
   "outputs": [],
   "source": [
    "prasanthi = Person('Prasanthi', 'Female', 'S.W')"
   ]
  },
  {
   "cell_type": "code",
   "execution_count": null,
   "id": "5f00334d",
   "metadata": {},
   "outputs": [],
   "source": [
    "prasanthi.show()\n",
    "prasanthi.work()"
   ]
  },
  {
   "cell_type": "code",
   "execution_count": null,
   "id": "3536b801",
   "metadata": {},
   "outputs": [],
   "source": [
    "class Student:\n",
    "    #class variables\n",
    "    school_name = 'srivani school'\n",
    "    #constructor\n",
    "    def __init__(self, name, age):\n",
    "        #instance variable\n",
    "        self.name = name\n",
    "        self.age = age\n",
    "        \n",
    "s1 = Student('Deepu', 14)\n",
    "#access instance variabls\n",
    "print('Student:', s1.name, s1.age)\n",
    "#access class variable\n",
    "print('School name:', Student.school_name)\n"
   ]
  },
  {
   "cell_type": "code",
   "execution_count": null,
   "id": "f70bc100",
   "metadata": {},
   "outputs": [],
   "source": [
    "class Student:\n",
    "    #class variables\n",
    "    school_name = 'srivani school'\n",
    "    #constructor\n",
    "    def __init__(self, name, age):\n",
    "        #instance variable\n",
    "        self.name = name\n",
    "        self.age = age\n",
    "        \n",
    "s1 = Student('Deepu', 14)\n",
    "#access instance variabls\n",
    "print('Student:', s1.name, s1.age)\n",
    "#access class variable\n",
    "print('School name:', Student.school_name)\n",
    "\n",
    "#Modify instance variable\n",
    "s1.name = 'kittu'\n",
    "s1.age = 16\n",
    "print('Student:', s1.name, s1.age)\n",
    "\n",
    "#Modify class variables\n",
    "Student.school_name = 'target'\n",
    "print('School nmae:', Student.school_name)"
   ]
  },
  {
   "cell_type": "code",
   "execution_count": null,
   "id": "5ce8a721",
   "metadata": {},
   "outputs": [],
   "source": [
    "class sampleclass:\n",
    "    count = 0\n",
    "    \n",
    "    def increase(self):\n",
    "        sampleclass.count +=1\n",
    "        \n",
    "s1 = sampleclass()\n",
    "s1.increase()\n",
    "print(s1.count)"
   ]
  },
  {
   "cell_type": "code",
   "execution_count": null,
   "id": "eeab8549",
   "metadata": {},
   "outputs": [],
   "source": [
    "class sampleclass:\n",
    "    #calss attribute\n",
    "    count = 0\n",
    "    \n",
    "    def increase(self):\n",
    "        sampleclass.count +=1\n",
    "\n",
    "#calling incerase() on an object\n",
    "s1 = sampleclass()\n",
    "s1.increase()\n",
    "print(s1.count)\n",
    "\n",
    "#calling increase on one more object\n",
    "\n",
    "s2 = sampleclass()\n",
    "s2.increase()\n",
    "print(s2.count)\n",
    "\n",
    "\n",
    "print(sampleclass.count)\n"
   ]
  },
  {
   "cell_type": "code",
   "execution_count": null,
   "id": "e970ce5c",
   "metadata": {},
   "outputs": [],
   "source": [
    "class Student:\n",
    "    name = 'chinni'\n",
    "    course = 'Python'\n",
    "    \n",
    "Student1 = Student()\n",
    "print(Student1.name)\n",
    "print(Student1.course)"
   ]
  },
  {
   "cell_type": "code",
   "execution_count": null,
   "id": "1d5d44cf",
   "metadata": {},
   "outputs": [],
   "source": [
    "class Student:\n",
    "    school = 'XYZ.org'\n",
    "    \n",
    "    def __init__(self, name, course):\n",
    "        self.name = name\n",
    "        self.course = course\n",
    "        \n",
    "Student1 = Student('rocky', 'Python')\n",
    "Student2 = Student('tillu', 'Java')\n",
    "\n",
    "print(Student1.name)\n",
    "print(Student2.name)"
   ]
  },
  {
   "cell_type": "code",
   "execution_count": null,
   "id": "6886efe7",
   "metadata": {},
   "outputs": [],
   "source": [
    "class classA(object):\n",
    "    classAtr = \"I am a class attribute.\"\n",
    "\n",
    "obj1 = classA()\n",
    "obj2 = classA()\n",
    "\n",
    "obj1.classAtr = \"abc\" \n",
    "\n",
    "print(obj1.classAtr)\n",
    "print(obj2.classAtr)"
   ]
  },
  {
   "cell_type": "code",
   "execution_count": null,
   "id": "d237bf49",
   "metadata": {},
   "outputs": [],
   "source": [
    "class classA(object):\n",
    "    classAtr = \"I am a class attribute.\"\n",
    "\n",
    "obj1 = classA()\n",
    "obj2 = classA()\n",
    "\n",
    "classA.classAtr = \"I changed the class attribute.\" \n",
    "\n",
    "print(obj1.classAtr)\n",
    "print(obj2.classAtr)"
   ]
  },
  {
   "cell_type": "code",
   "execution_count": null,
   "id": "79f849ce",
   "metadata": {},
   "outputs": [],
   "source": [
    "class Vehicle:\n",
    "    def __init__(self, name, color, price):\n",
    "        self.name = name\n",
    "        self.color = color\n",
    "        self.price = price\n",
    "    \n",
    "    def info(self):\n",
    "        print(self.name, self.color, self.price)\n",
    "        \n",
    "class Car(Vehicle):\n",
    "    def change_gear(self, no):\n",
    "        print(self.name, 'change gear to number', no)\n",
    "        \n",
    "car = Car('Shift', 'Black', 35000)\n",
    "car.info()\n",
    "car.change_gear(5)"
   ]
  },
  {
   "cell_type": "code",
   "execution_count": null,
   "id": "1dde6677",
   "metadata": {},
   "outputs": [],
   "source": [
    "class Counter:\n",
    "    def __init__(self):\n",
    "        self.current = 0\n",
    "\n",
    "    def increment(self):\n",
    "        self.current += 1\n",
    "\n",
    "    def value(self):\n",
    "        return self.current\n",
    "\n",
    "    def reset(self):\n",
    "        self.current = 0\n",
    "        \n",
    "        \n",
    "counter = Counter()\n",
    "counter.increment()\n",
    "# counter.increment()\n",
    "# counter.increment()\n",
    "\n",
    "print(counter.value())\n",
    "\n",
    "\n"
   ]
  },
  {
   "cell_type": "code",
   "execution_count": null,
   "id": "dfad4e90",
   "metadata": {},
   "outputs": [],
   "source": [
    "class Student:\n",
    "    def __init__(self, name, age):\n",
    "        self.name = name\n",
    "        self.age = age\n",
    "    def msg(self):\n",
    "        print(self.name+\" \"+self.age)\n",
    "        \n",
    "    \n",
    "        \n"
   ]
  },
  {
   "cell_type": "code",
   "execution_count": null,
   "id": "99badd76",
   "metadata": {},
   "outputs": [],
   "source": [
    "print('object1:')\n",
    "s1 = Student('xyz','20')\n",
    "print(s1.name)\n",
    "print(s1.age)\n",
    "s1.msg()\n",
    "print('**')\n",
    "print('object2:')\n",
    "s2 = Student('ria','21')\n",
    "print(s2.name)\n",
    "print(s2.age)\n",
    "s2.msg()"
   ]
  },
  {
   "cell_type": "code",
   "execution_count": null,
   "id": "745deb18",
   "metadata": {},
   "outputs": [],
   "source": [
    "class Student:\n",
    "    counter=0\n",
    "    def __init__(self,name,marks):\n",
    "        self.name = name\n",
    "        self.marks = marks\n",
    "        Student.counter = Student.counter+1\n",
    "        \n",
    "    def msg(self):\n",
    "        print(self.name+ 'got'+ self.marks, '%')\n",
    "        \n",
    "    @classmethod\n",
    "    def object_count (cls):\n",
    "        return cls.counter\n",
    "    \n",
    "s1 = Student('xyz','93')\n",
    "s2 = Student('ria','67')\n",
    "print(Student.object_count())\n"
   ]
  },
  {
   "cell_type": "code",
   "execution_count": null,
   "id": "9ae8ebbe",
   "metadata": {},
   "outputs": [],
   "source": [
    "print(s1.object_count())"
   ]
  },
  {
   "cell_type": "code",
   "execution_count": null,
   "id": "c2c3e61c",
   "metadata": {},
   "outputs": [],
   "source": [
    "class Student:\n",
    "    def __init__(self,name,marks):\n",
    "        self.name = name\n",
    "        self.marks = marks\n",
    "        \n",
    "    def msg(self):\n",
    "        print(self.name+ 'got'+ self.marks, '%')\n",
    "        \n",
    "    \n",
    "s1 = Student('sia','93')\n",
    "marks = '560'\n",
    "name = 'sia'\n",
    "marks1 = str((int(marks)/600)* 100)\n",
    "s2 = Student(name, marks1)\n",
    "s2.msg()"
   ]
  },
  {
   "cell_type": "code",
   "execution_count": null,
   "id": "b2eac14b",
   "metadata": {},
   "outputs": [],
   "source": [
    "class Student:\n",
    "    def __init__(self, name, marks):\n",
    "        self.name = name\n",
    "        self.marks = marks\n",
    "        \n",
    "    def msg(self):\n",
    "        print(self.name+ 'got'+ self.marks, '%')\n",
    "        \n",
    "    @classmethod\n",
    "    def get_per(cls, name, marks):\n",
    "        return cls(name, str((int(marks)/600)* 100))\n",
    "        \n",
    "    \n",
    "s1 = Student('rick','93')\n",
    "marks = '560'\n",
    "name = 'rick'\n",
    "# marks1 = str((int(marks)/600)* 100)\n",
    "s2 = Student.get_per(name, marks)\n",
    "s2.msg()"
   ]
  },
  {
   "cell_type": "code",
   "execution_count": null,
   "id": "8ee179e0",
   "metadata": {},
   "outputs": [],
   "source": [
    "class Student:\n",
    "    def __init__(self, name, marks):\n",
    "        self.name = name\n",
    "        self.marks = marks\n",
    "        \n",
    "    def msg(self):\n",
    "        print(self.name+ 'got'+ self.marks, '%')\n",
    "        \n",
    "    @classmethod\n",
    "    def get_per(cls, name, marks):\n",
    "        return cls(name, str((int(marks)/600)* 100))\n",
    "    @staticmethod\n",
    "    def get_age(age):\n",
    "        if age < 18:\n",
    "            print('Belongs to school')\n",
    "        else:\n",
    "            print(\"don't belongs to school\")"
   ]
  },
  {
   "cell_type": "code",
   "execution_count": null,
   "id": "4cd7b0d9",
   "metadata": {},
   "outputs": [],
   "source": [
    "s1 = Student('Rocky', '96')\n",
    "s2 = Student.get_per('lucky', '400')\n",
    "s2.msg()\n",
    "Student.get_age(20)"
   ]
  },
  {
   "cell_type": "code",
   "execution_count": null,
   "id": "809b35c4",
   "metadata": {},
   "outputs": [],
   "source": [
    "class Person:\n",
    "    age = 25\n",
    "\n",
    "    def printAge(cls):\n",
    "        print('The age is:', cls.age)\n",
    "\n",
    "Person.printAge = classmethod(Person.printAge)\n",
    "\n",
    "Person.printAge()"
   ]
  },
  {
   "cell_type": "code",
   "execution_count": null,
   "id": "5d325f6c",
   "metadata": {},
   "outputs": [],
   "source": [
    "class Student:\n",
    "    marks = 0\n",
    "\n",
    "    def compute_marks(self, obtained_marks):\n",
    "        marks = obtained_marks\n",
    "        print('Obtained Marks:', marks)\n",
    "\n",
    "Student.print_marks = classmethod(Student.compute_marks)\n",
    "Student.print_marks(88)\n"
   ]
  },
  {
   "cell_type": "code",
   "execution_count": null,
   "id": "1c997ef1",
   "metadata": {},
   "outputs": [],
   "source": [
    "class subject:\n",
    "    course = 'DSA'\n",
    "\n",
    "    def purchase(obj):\n",
    "        print(\"Puchase course : \", obj.course)\n",
    "\n",
    "\n",
    "subject.purchase = classmethod(subject.purchase)\n",
    "subject.purchase()\n"
   ]
  },
  {
   "cell_type": "code",
   "execution_count": null,
   "id": "2f728e41",
   "metadata": {},
   "outputs": [],
   "source": [
    "class Student:\n",
    "    name = \"lucky\"\n",
    "\n",
    "    def print_name(obj):\n",
    "        print(\"The name is : \", obj.name)\n",
    "\n",
    "\n",
    "Student.print_name = classmethod(Student.print_name)\n",
    "Student.print_name()\n"
   ]
  },
  {
   "cell_type": "code",
   "execution_count": null,
   "id": "d740a4f8",
   "metadata": {},
   "outputs": [],
   "source": [
    "class Fruit:\n",
    "    name = 'Fruits'\n",
    "\n",
    "    @classmethod\n",
    "    def printName(cls):\n",
    "        print('The name is:', cls.name)\n",
    "\n",
    "Fruit.printName()"
   ]
  },
  {
   "cell_type": "code",
   "execution_count": null,
   "id": "9d635bc5",
   "metadata": {},
   "outputs": [],
   "source": [
    "class person:\n",
    "    def display(self):\n",
    "        print('hello')\n",
    "        \n",
    "person1 = person()\n",
    "person1.display()"
   ]
  },
  {
   "cell_type": "code",
   "execution_count": null,
   "id": "072c8b46",
   "metadata": {},
   "outputs": [],
   "source": [
    "class person:\n",
    "    def __init__(self, name):\n",
    "        self.name = name\n",
    "        \n",
    "    def display(self):\n",
    "        print('hello', self.name)\n",
    "        \n",
    "person1 = person('Prasanthi')\n",
    "person1.display()"
   ]
  },
  {
   "cell_type": "code",
   "execution_count": null,
   "id": "bb086293",
   "metadata": {},
   "outputs": [],
   "source": [
    "class student:\n",
    "    #class variable\n",
    "    clg = 'xyz'\n",
    "    \n",
    "    def __init__(self, rollno, name):\n",
    "        self.rollno = rollno\n",
    "        self.name = name\n",
    "    \n",
    "    def display(self):\n",
    "        print('student name:', self.name)\n",
    "        print('student rollnumber:', self.rollno)\n",
    "        print('college:', student.clg)\n",
    "        \n",
    "\n",
    "student1=student('xyz001', 'rocky')\n",
    "student1.display()\n",
    "\n",
    "student2=student('xyz008', 'devansh')\n",
    "student2.display()"
   ]
  },
  {
   "cell_type": "code",
   "execution_count": null,
   "id": "dcbc9457",
   "metadata": {},
   "outputs": [],
   "source": [
    "#in parameter list no given any self\n",
    "class person:\n",
    "    def display():\n",
    "        print('Hello')\n",
    "        \n",
    "p=person()\n",
    "p.display()"
   ]
  },
  {
   "cell_type": "code",
   "execution_count": null,
   "id": "57f08d6b",
   "metadata": {},
   "outputs": [],
   "source": [
    "#pass parameter instead self any other word\n",
    "\n",
    "class person:\n",
    "    def display(myself):\n",
    "        print('Hello')\n",
    "        \n",
    "p=person()\n",
    "p.display()"
   ]
  },
  {
   "cell_type": "code",
   "execution_count": null,
   "id": "c5442f10",
   "metadata": {},
   "outputs": [],
   "source": [
    "#avoid self parameter use @static method\n",
    "\n",
    "class person:\n",
    "    @staticmethod\n",
    "    def display():\n",
    "        print('Hello')\n",
    "        \n",
    "p=person()\n",
    "p.display()"
   ]
  },
  {
   "cell_type": "code",
   "execution_count": null,
   "id": "ee4bfd30",
   "metadata": {},
   "outputs": [],
   "source": [
    "class Person:\n",
    "    def __init__(self, name, age):\n",
    "        self.name = name\n",
    "        self.age = age\n",
    "        \n",
    "    \n",
    "    @classmethod\n",
    "    def fromBirthYear(cls, name, year):\n",
    "        return cls(name, date.today().year - year)\n",
    "\n",
    "    def display(self):\n",
    "        print(\"Name : \", self.name, \"Age : \", self.age)\n",
    "\n",
    "person = Person('Rao', 21)\n",
    "person.display()\n"
   ]
  },
  {
   "cell_type": "code",
   "execution_count": null,
   "id": "c30a0557",
   "metadata": {},
   "outputs": [],
   "source": [
    "class Fruit:\n",
    "    name = 'Fruits'\n",
    "\n",
    "    def printName(cls):\n",
    "            print('The name is:', cls.name)\n",
    "\n",
    "Fruit.printAge = classmethod(Fruit.printName)\n",
    "Fruit.printAge()"
   ]
  },
  {
   "cell_type": "code",
   "execution_count": null,
   "id": "54733b84",
   "metadata": {},
   "outputs": [],
   "source": [
    "class Student:\n",
    "    name = 'sweety' \n",
    "    def __init__(self):\n",
    "        self.age = 20  \n",
    "\n",
    "    @classmethod\n",
    "    def tostring(cls):\n",
    "        print('Student Class Attributes: name=',cls.name)\n",
    "        \n",
    "Student.tostring()\n"
   ]
  },
  {
   "cell_type": "code",
   "execution_count": null,
   "id": "bd182982",
   "metadata": {},
   "outputs": [],
   "source": [
    "std = Student()\n",
    "\n",
    "Student().tostring() \n"
   ]
  },
  {
   "cell_type": "code",
   "execution_count": null,
   "id": "c80de539",
   "metadata": {},
   "outputs": [],
   "source": [
    "class Student:\n",
    "    def __init__(self, name, age):\n",
    "        self.name = name\n",
    "        self.age = age\n",
    "\n",
    "s1 = Student(\"Jessa\", 20)\n",
    "print('Object 1')\n",
    "print('Name:', s1.name)\n",
    "print('Age:', s1.age)\n",
    "\n",
    "\n",
    "s2= Student(\"Kelly\", 10)\n",
    "print('Object 2')\n",
    "print('Name:', s2.name)\n",
    "print('Age:', s2.age)\n"
   ]
  },
  {
   "cell_type": "code",
   "execution_count": null,
   "id": "be89b9b9",
   "metadata": {},
   "outputs": [],
   "source": [
    "class Student:\n",
    "    def __init__(self, name, age):\n",
    "        self.name = name\n",
    "        self.age = age\n",
    "\n",
    "stud = Student(\"Jessa\", 20)\n",
    "print('Before')\n",
    "print('Name:', stud.name, 'Age:', stud.age)\n",
    "\n",
    "\n",
    "stud.name = 'Emma'\n",
    "stud.age = 15\n",
    "\n",
    "print('After')\n",
    "print('Name:', stud.name, 'Age:', stud.age)"
   ]
  },
  {
   "cell_type": "code",
   "execution_count": null,
   "id": "923248f8",
   "metadata": {},
   "outputs": [],
   "source": [
    "class Person:\n",
    "    def __init__(self, name, sex, profession):\n",
    "        self.name = name\n",
    "        self.sex = sex\n",
    "        self.profession = profession\n",
    "\n",
    "  \n",
    "    def show(self):\n",
    "        print('Name:', self.name, 'Sex:', self.sex, 'Profession:', self.profession)\n",
    "\n",
    " \n",
    "    def work(self):\n",
    "        print(self.name, 'working as a', self.profession)\n",
    "\n",
    "# create object of a class\n",
    "jessa = Person('Jessa', 'Female', 'Software Engineer')\n",
    "\n",
    "# call methods\n",
    "jessa.show()\n",
    "jessa.work()\n"
   ]
  },
  {
   "cell_type": "code",
   "execution_count": null,
   "id": "714a7f28",
   "metadata": {},
   "outputs": [],
   "source": [
    "class Student:\n",
    "    school_name = 'ABC School'\n",
    "\n",
    "    # constructor\n",
    "    def __init__(self, name, age):\n",
    "        # instance variables\n",
    "        self.name = name\n",
    "        self.age = age\n",
    "\n",
    "    # instance method\n",
    "    def show(self):\n",
    "        # access instance variables and class variables\n",
    "        print('Student:', self.name, self.age, Student.school_name)\n",
    "\n",
    "    # instance method\n",
    "    def change_age(self, new_age):\n",
    "        # modify instance variable\n",
    "        self.age = new_age\n",
    "\n",
    "    # class method\n",
    "    @classmethod\n",
    "    def modify_school_name(cls, new_name):\n",
    "        # modify class variable\n",
    "        cls.school_name = new_name\n",
    "\n",
    "s1 = Student(\"Harry\", 12)\n",
    "\n",
    "# call instance methods\n",
    "s1.show()\n",
    "s1.change_age(14)\n",
    "\n",
    "# call class method\n",
    "Student.modify_school_name('XYZ School')\n",
    "# call instance methods\n",
    "s1.show()\n"
   ]
  },
  {
   "cell_type": "code",
   "execution_count": null,
   "id": "0b37714c",
   "metadata": {},
   "outputs": [],
   "source": [
    "class Fruit:\n",
    "    def __init__(self, name, color):\n",
    "        self.name = name\n",
    "        self.color = color\n",
    "\n",
    "    def show(self):\n",
    "        print(\"Fruit is\", self.name, \"and Color is\", self.color)\n",
    "\n",
    "# creating object of the class\n",
    "obj = Fruit(\"Apple\", \"red\")\n",
    "\n",
    "# Modifying Object Properties\n",
    "obj.name = \"strawberry\"\n",
    "\n",
    "# calling the instance method using the object obj\n",
    "obj.show()\n"
   ]
  },
  {
   "cell_type": "code",
   "execution_count": null,
   "id": "11b1941a",
   "metadata": {},
   "outputs": [],
   "source": [
    "class Fruit:\n",
    "    def __init__(self, name, color):\n",
    "        self.name = name\n",
    "        self.color = color\n",
    "\n",
    "    def show(self):\n",
    "        print(\"Fruit is\", self.name, \"and Color is\", self.color)\n",
    "\n",
    "obj = Fruit(\"Apple\", \"red\")\n",
    "obj.name\n",
    "obj.show()\n"
   ]
  },
  {
   "cell_type": "code",
   "execution_count": null,
   "id": "ad431a9f",
   "metadata": {},
   "outputs": [],
   "source": [
    "class Student:\n",
    "    def __init__(self, name, age):\n",
    "        self.name = name\n",
    "        self.age = age\n",
    "\n",
    "\n",
    "stud = Student(\"cutey\", 20)\n",
    "\n",
    "print('chari',)\n",
    "print('37', )"
   ]
  },
  {
   "cell_type": "code",
   "execution_count": null,
   "id": "e9023521",
   "metadata": {},
   "outputs": [],
   "source": [
    "class Student:\n",
    "    school_name = 'ABC School '\n",
    "\n",
    " \n",
    "    def __init__(self, name, roll_no):\n",
    "        self.name = name\n",
    "        self.roll_no = roll_no\n",
    "\n",
    "   \n",
    "    def show(self):\n",
    "        print('Inside instance method')\n",
    "        print(self.name, self.roll_no, self.school_name)\n",
    "        print(Student.school_name)\n",
    "\n",
    "s1 = Student('tapsi', 10)\n",
    "s1.show()\n",
    "\n",
    "print('Outside class')\n",
    "\n",
    "print(s1.school_name)\n",
    "\n",
    "print(Student.school_name)\n"
   ]
  },
  {
   "cell_type": "code",
   "execution_count": null,
   "id": "19763710",
   "metadata": {},
   "outputs": [],
   "source": [
    "class Addition:\n",
    "    @staticmethod\n",
    "    def add(x,y):\n",
    "        print('The sum :', x+y)\n",
    "        \n",
    "a1=Addition()\n",
    "a1.add(3.7,4.7)\n",
    "Addition.add(3,6)\n",
    "    "
   ]
  },
  {
   "cell_type": "code",
   "execution_count": null,
   "id": "78d2fc4f",
   "metadata": {},
   "outputs": [],
   "source": [
    "class vsp:\n",
    "    def a(self):\n",
    "        print('Hi')\n",
    "    @classmethod\n",
    "    def b(cls):\n",
    "        print('Hello this is class method')\n",
    "    \n",
    "    @staticmethod\n",
    "    def c():\n",
    "        print('This is static method')\n",
    "        \n",
    "\n",
    "obj=vsp()\n",
    "obj.a()\n",
    "\n",
    "obj.b()\n",
    "obj.c()"
   ]
  },
  {
   "cell_type": "code",
   "execution_count": null,
   "id": "6b8da196",
   "metadata": {},
   "outputs": [],
   "source": [
    "class Employee:\n",
    "    @staticmethod\n",
    "    def sample(x):\n",
    "        print('Inside static method', x)\n",
    "\n",
    "# Employee.sample(10)\n",
    "emp = Employee()\n",
    "emp.sample(10)"
   ]
  },
  {
   "cell_type": "code",
   "execution_count": null,
   "id": "526c061d",
   "metadata": {},
   "outputs": [],
   "source": [
    "class Vehicle:\n",
    "    def Vehicle_info(self):\n",
    "        print('Inside Vehicle class')\n",
    "\n",
    "#Child class\n",
    "class Car(Vehicle):\n",
    "    def car_info(self):\n",
    "        print('Inside Car class')\n",
    "\n",
    "\n",
    "car = Car()\n",
    "car.Vehicle_info()\n",
    "car.car_info()\n"
   ]
  },
  {
   "cell_type": "code",
   "execution_count": null,
   "id": "1dc05dbc",
   "metadata": {},
   "outputs": [],
   "source": [
    "class animal:\n",
    "    def eating(self):\n",
    "        print('eating')\n",
    "        \n",
    "class dog:\n",
    "    def eating(self):\n",
    "        print('eating')\n",
    "    def bark(self):\n",
    "        print('bark')\n",
    "        \n",
    "        \n",
    "d=dog()\n",
    "d.eating()\n",
    "d.bark()"
   ]
  },
  {
   "cell_type": "code",
   "execution_count": null,
   "id": "592c2749",
   "metadata": {},
   "outputs": [],
   "source": [
    "# use of class method and static method.\n",
    "from datetime import date\n",
    "\n",
    "\n",
    "class Person:\n",
    "    def __init__(self, name, age):\n",
    "        self.name = name\n",
    "        self.age = age\n",
    "    @classmethod\n",
    "    def fromBirthYear(cls, name, year):\n",
    "        return cls(name, date.today().year - year)\n",
    "\n",
    "    @staticmethod\n",
    "    def isAdult(age):\n",
    "        return age > 18\n",
    "\n",
    "\n",
    "person1 = Person('mayank', 21)\n",
    "person2 = Person.fromBirthYear('mayank', 1996)\n",
    "\n",
    "print(person1.age)\n",
    "print(person2.age)\n",
    "\n",
    "\n",
    "print(Person.isAdult(22))\n"
   ]
  },
  {
   "cell_type": "code",
   "execution_count": null,
   "id": "eec90fa6",
   "metadata": {},
   "outputs": [],
   "source": [
    "class Student():\n",
    "    name = \"John\"\n",
    "\n",
    "    @classmethod\n",
    "    def create(cls):\n",
    "        return cls.name\n",
    "\n",
    "print(Student.create())"
   ]
  },
  {
   "cell_type": "code",
   "execution_count": null,
   "id": "e95486dd",
   "metadata": {},
   "outputs": [],
   "source": [
    "class Student():\n",
    "    def __init__(self, name, age):\n",
    "        self.name = name\n",
    "        self.age = age\n",
    "\n",
    "    @classmethod\n",
    "    def create(cls, name, age):\n",
    "        return cls(name, age + 1)\n",
    "\n",
    "st1 = Student(\"John\", 20)\n",
    "st2 = Student.create(\"Johny\", 30)\n",
    "\n",
    "print(st1.age)\n",
    "print(st2.age)"
   ]
  },
  {
   "cell_type": "code",
   "execution_count": null,
   "id": "accb772c",
   "metadata": {},
   "outputs": [],
   "source": [
    "class Number():\n",
    "\n",
    "    @staticmethod\n",
    "    def even(x):\n",
    "        if x % 2 == 0:\n",
    "            return True\n",
    "        else:\n",
    "            return False\n",
    "\n",
    "print(Number.even(3))"
   ]
  },
  {
   "cell_type": "code",
   "execution_count": null,
   "id": "6ed5f1f1",
   "metadata": {},
   "outputs": [],
   "source": [
    "class Person():\n",
    "    def __init__(self, name, age, can_vote):\n",
    "        self.name = name\n",
    "        self.age = age\n",
    "        self.can_vote = can_vote\n",
    "        \n",
    "    @staticmethod\n",
    "    def is_adult(age):\n",
    "        if age >= 18:\n",
    "            return True\n",
    "        else:\n",
    "            return False\n",
    "        \n",
    "    @classmethod\n",
    "    def create (cls, name, age):\n",
    "        if cls.is_adult(age) == True:\n",
    "            return cls(name, age, 'Yes')\n",
    "        else:\n",
    "            return cls(name, age, 'No')\n",
    "        \n",
    "st1= Person.create('bubby', 15)\n",
    "st2= Person.create('dolly', 20)\n",
    "\n",
    "print('Can', st1.name, 'vote?', st1.can_vote )\n",
    "print('Can', st2.name, 'vote?', st2.can_vote )\n"
   ]
  },
  {
   "cell_type": "code",
   "execution_count": null,
   "id": "43b676cb",
   "metadata": {},
   "outputs": [],
   "source": [
    "class animal:\n",
    "    def eating(self):\n",
    "        print('eating')\n",
    "        \n",
    "class dog(animal):\n",
    "    def bark(self):\n",
    "        print('bark')\n",
    "        \n",
    "    \n",
    "d=dog()\n",
    "d.eating()\n",
    "d.bark()"
   ]
  },
  {
   "cell_type": "code",
   "execution_count": null,
   "id": "4080d193",
   "metadata": {},
   "outputs": [],
   "source": [
    "class animal:\n",
    "    def __init__(self, name):\n",
    "        self.name = name\n",
    "        \n",
    "class dog(animal):\n",
    "    def display(self):\n",
    "        print(self.name)\n",
    "        \n",
    "d=dog('babydog')\n",
    "d.display()"
   ]
  },
  {
   "cell_type": "code",
   "execution_count": null,
   "id": "5d2397b7",
   "metadata": {},
   "outputs": [],
   "source": [
    "class Emp():\n",
    "    def __init__(self, id, name, Add):\n",
    "        self.id = id\n",
    "        self.name = name\n",
    "        self.Add = Add\n",
    "\n",
    "class Freelance(Emp):\n",
    "    def __init__(self, id, name, Add, Emails):\n",
    "        super().__init__(id, name, Add)\n",
    "        self.Emails = Emails\n",
    "\n",
    "Emp_1 = Freelance(103, \"Anil\", \"Hyd\" , \"anil@gmails\")\n",
    "print('The ID is:', Emp_1.id)\n",
    "print('The Name is:', Emp_1.name)\n",
    "print('The Address is:', Emp_1.Add)\n",
    "print('The Emails is:', Emp_1.Emails)\n"
   ]
  },
  {
   "cell_type": "code",
   "execution_count": null,
   "id": "a9b5d6b8",
   "metadata": {},
   "outputs": [],
   "source": [
    "class Parent:\n",
    "    def __init__(self, txt):\n",
    "        self.message = txt\n",
    "\n",
    "    def printmessage(self):\n",
    "        print(self.message)\n",
    "\n",
    "class Child(Parent):\n",
    "    def __init__(self, txt):\n",
    "        super().__init__(txt)\n",
    "\n",
    "x = Child(\"Hello, and welcome!\")\n",
    "\n",
    "x.printmessage()"
   ]
  },
  {
   "cell_type": "code",
   "execution_count": null,
   "id": "a6f2bf46",
   "metadata": {},
   "outputs": [],
   "source": [
    "class Computer():\n",
    "    def __init__(self, computer, ram, storage):\n",
    "        self.computer = computer\n",
    "        self.ram = ram\n",
    "        self.storage = storage\n",
    "\n",
    "class Mobile(Computer):\n",
    "    def __init__(self, computer, ram, storage, model):\n",
    "        super().__init__(computer, ram, storage)\n",
    "        self.model = model\n",
    "\n",
    "Samsung = Mobile('Samsung', 2, 64, 'Samsung X')\n",
    "print('The mobile is:', Samsung.computer)\n",
    "print('The RAM is:', Samsung.ram)\n",
    "print('The storage is:', Samsung.storage)\n",
    "print('The model is:', Samsung.model)"
   ]
  },
  {
   "cell_type": "code",
   "execution_count": null,
   "id": "c6ea9d39",
   "metadata": {},
   "outputs": [],
   "source": [
    "class person:\n",
    "    def __init__(self, firstname, lastname):\n",
    "        self.firstname = firstname\n",
    "        self.lastname = lastname\n",
    "    def fullname(self):\n",
    "        print(firstname, ' ', lastname)\n",
    "        \n",
    "class student(person):\n",
    "    def __init__(self, firstname, lastname, grade):\n",
    "        self.grade = grade\n",
    "        super(). __init__(firstname, lastname)\n",
    "        \n",
    "    def display_details(self):\n",
    "        print('grade', self.grade)\n",
    "        \n",
    "std = student('kook', 'creek', '10')\n",
    "\n",
    "std.display_details()    \n",
    "    "
   ]
  },
  {
   "cell_type": "code",
   "execution_count": null,
   "id": "eb3c7e92",
   "metadata": {},
   "outputs": [],
   "source": [
    "class Food():\n",
    "    def __init__(self, name):\n",
    "        self.name = name\n",
    "        \n",
    "class Cheese(Food):\n",
    "    def __init__(self, brand):\n",
    "        super().__init__()\n",
    "        self.brand = brand\n",
    "\n",
    "class CheckingAccount:\n",
    "    def __init__(self, name, balance):\n",
    "        self.name = name\n",
    "        self.balance = balance\n",
    "        \n",
    "    def checkbalance(self):\n",
    "        print('Balance:', self.balance)\n",
    "        \n",
    "class ChildAccount(CheckingAccount):\n",
    "    def __init__(self, name, balance, is_child = True):\n",
    "        self.is_child = is_child\n",
    "        super().__init__(name, balance)\n",
    "        \n",
    "lkr = ChildAccount('lkr', 200)\n",
    "lkr.checkbalance()\n",
    "        "
   ]
  },
  {
   "cell_type": "code",
   "execution_count": null,
   "id": "b6e1f9f7",
   "metadata": {},
   "outputs": [],
   "source": [
    "class Animal:\n",
    "    def smell(self,name):\n",
    "        print(name, 'can smell')\n",
    "        \n",
    "class Dog(Animal):\n",
    "    def __init__(self):\n",
    "        super().smell('Dog')\n",
    "        \n",
    "    def bark(self):\n",
    "        print('Dog can bark')\n",
    "        \n",
    "dog = Dog()\n",
    "dog.bark()"
   ]
  },
  {
   "cell_type": "code",
   "execution_count": null,
   "id": "e002dd4c",
   "metadata": {},
   "outputs": [],
   "source": [
    "class Parent:\n",
    "    def __init__(self):\n",
    "        print('This is the parent class')\n",
    "        \n",
    "class Parent1:\n",
    "    def __init__(self):\n",
    "        print('This is the parent1 class')\n",
    "        \n",
    "class Child(Parent1, Parent):\n",
    "    def __init__(self):\n",
    "        super().__init__()\n",
    "        \n",
    "ob =Child()"
   ]
  },
  {
   "cell_type": "code",
   "execution_count": null,
   "id": "90333666",
   "metadata": {},
   "outputs": [],
   "source": [
    "class MyClass(object):\n",
    "     pass\n",
    "\n",
    "this_obj = MyClass()\n",
    "print(this_obj)\n",
    "\n",
    "that_obj = MyClass()\n",
    "print (that_obj)\n"
   ]
  },
  {
   "cell_type": "code",
   "execution_count": null,
   "id": "48717362",
   "metadata": {},
   "outputs": [],
   "source": [
    "class myclass():\n",
    "    def method1(self):\n",
    "        print ('python')\n",
    "        \n",
    "    def method2(self, somestring):\n",
    "        print ('Testing:', somestring)"
   ]
  },
  {
   "cell_type": "code",
   "execution_count": null,
   "id": "000743d2",
   "metadata": {},
   "outputs": [],
   "source": [
    "c = myclass()"
   ]
  },
  {
   "cell_type": "code",
   "execution_count": null,
   "id": "2c82482e",
   "metadata": {},
   "outputs": [],
   "source": [
    "c.method1()\n",
    "c.method2('Testing is fun')"
   ]
  },
  {
   "cell_type": "code",
   "execution_count": null,
   "id": "0f172c0c",
   "metadata": {},
   "outputs": [],
   "source": [
    "class myclass():\n",
    "    def method1(self):\n",
    "        print('python')\n",
    "\n",
    "\n",
    "class childclass(myclass):\n",
    "    def method1(self):\n",
    "        myclass.method1(self)\n",
    "        print('childclass method1')\n",
    "        \n",
    "    def method2(self):\n",
    "        print('childclass method2')\n",
    "        \n",
    "        \n",
    "c2 = childclass()\n",
    "c2.method1()\n",
    "c2.method2()"
   ]
  },
  {
   "cell_type": "code",
   "execution_count": null,
   "id": "b84189e7",
   "metadata": {},
   "outputs": [],
   "source": [
    "class User:\n",
    "    name = ''\n",
    "    \n",
    "    def __init__(self, name):\n",
    "        self.name = name\n",
    "        \n",
    "    def sayHello(self):\n",
    "        print('welcome to my home,'+ self.name)\n",
    "        \n",
    "\n",
    "User1 = User('Prasanthi')\n",
    "User1.sayHello()"
   ]
  },
  {
   "cell_type": "code",
   "execution_count": null,
   "id": "73d86291",
   "metadata": {},
   "outputs": [],
   "source": [
    "class Maths:\n",
    "    def subtract(self, i ,j):\n",
    "        return i-j\n",
    "    def add (self, x, y):\n",
    "        return x+y\n",
    "\n",
    "    \n",
    "m = Maths()\n",
    "m.subtract(10,5)"
   ]
  },
  {
   "cell_type": "code",
   "execution_count": null,
   "id": "3aa3bd30",
   "metadata": {},
   "outputs": [],
   "source": [
    "m.add(6,7)"
   ]
  },
  {
   "cell_type": "code",
   "execution_count": null,
   "id": "4d440784",
   "metadata": {},
   "outputs": [],
   "source": [
    "class Person:\n",
    "    def __init__(self, s):\n",
    "        self.name = s\n",
    "        \n",
    "    def hello(self):\n",
    "        print((\"Hello\"), self.name)"
   ]
  },
  {
   "cell_type": "code",
   "execution_count": null,
   "id": "7d4e8402",
   "metadata": {},
   "outputs": [],
   "source": [
    "t = Person('lava')\n",
    "t.hello()"
   ]
  },
  {
   "cell_type": "code",
   "execution_count": null,
   "id": "85d72a0a",
   "metadata": {},
   "outputs": [],
   "source": [
    "class Addition:\n",
    "    first = 0\n",
    "    second = 0\n",
    "    answer = 0\n",
    "    \n",
    "#constructor\n",
    "    def __init__(self, f, s):\n",
    "        self.first = f\n",
    "        self.second = s\n",
    "    \n",
    "    def display(self):\n",
    "        print(\"First number = \" + str(self.first))\n",
    "        print(\"Second number = \" + str(self.second))\n",
    "        print(\"Addition of two numbers = \" + str(self.answer))\n",
    "\n",
    "    def calculate(self):\n",
    "        self.answer = self.first + self.second\n",
    "\n",
    "\n",
    "obj = Addition(1000, 2000)\n",
    "\n",
    "\n",
    "obj.calculate()\n",
    "\n",
    "\n",
    "obj.display()\n"
   ]
  },
  {
   "cell_type": "code",
   "execution_count": null,
   "id": "4bb0e95f",
   "metadata": {},
   "outputs": [],
   "source": [
    "class Rectangle():\n",
    "    \n",
    "    def __init__( self, w, h ):\n",
    "        Shape.__init__( self )\n",
    "        self.width = w\n",
    "        self.height = h\n",
    "\n",
    "    def area( self ):\n",
    "        return self.width*self.height\n",
    "\n",
    "r1 = Rectangle( 10, 5 )\n",
    "r1.area()\n",
    "r2=r1\n",
    "r3=r1\n",
    "\n",
    "\n",
    "print(r1, r2, r3)"
   ]
  },
  {
   "cell_type": "code",
   "execution_count": null,
   "id": "7cc0aa3a",
   "metadata": {},
   "outputs": [],
   "source": [
    "class student:\n",
    "\n",
    "    def __init__(self, name, age):\n",
    "        self.age = age\n",
    "        self.name = name\n",
    "    def display(self):\n",
    "        print('hello', self.age, self.name)\n",
    "        \n",
    "\n",
    "student1= student('vicky', 55)\n",
    "student2= student('david', 45)\n",
    "\n",
    "\n",
    "student1.display()\n",
    "student2.display()\n"
   ]
  },
  {
   "cell_type": "code",
   "execution_count": null,
   "id": "fd0c6950",
   "metadata": {},
   "outputs": [],
   "source": [
    "class car:\n",
    "    def __init__(self, modelname, year):\n",
    "        self.modelname = modelname\n",
    "        self.year = year\n",
    "        \n",
    "    def display(self):\n",
    "        print(self.modelname, self.year)\n",
    "\n",
    "        \n",
    "c1 = car('Shift', 2016)\n",
    "c1.display()"
   ]
  },
  {
   "cell_type": "code",
   "execution_count": null,
   "id": "4349c109",
   "metadata": {},
   "outputs": [],
   "source": [
    "from item import Item\n",
    "from phone import *\n",
    "\n",
    "Item.instantiate_from_csv()\n",
    "\n",
    "print(Item.all)"
   ]
  },
  {
   "cell_type": "code",
   "execution_count": null,
   "id": "936d7844",
   "metadata": {},
   "outputs": [],
   "source": [
    "from item import Item\n",
    "\n",
    "item1 = Item('MyItem', 750)\n",
    "item1.name = 'OtherItem'\n",
    "\n",
    "print(item1.name)"
   ]
  },
  {
   "cell_type": "code",
   "execution_count": null,
   "id": "49e87e21",
   "metadata": {},
   "outputs": [],
   "source": [
    "from item import Item\n",
    "\n",
    "item1 = Item('MyItem', 750)\n",
    "item1.name = 'OtherItem'\n",
    "\n",
    "print(item1.read_only_name)"
   ]
  },
  {
   "cell_type": "code",
   "execution_count": null,
   "id": "57489c3c",
   "metadata": {},
   "outputs": [],
   "source": [
    "item1 = Item('MyItem', 750)\n",
    "\n",
    "print(item1.name)"
   ]
  },
  {
   "cell_type": "code",
   "execution_count": null,
   "id": "c542d369",
   "metadata": {},
   "outputs": [],
   "source": [
    "item1._name = 'OtherItem'\n",
    "print(item1.name)"
   ]
  },
  {
   "cell_type": "code",
   "execution_count": null,
   "id": "c9d34673",
   "metadata": {},
   "outputs": [],
   "source": [
    "class year_graduated:\n",
    "    def __init__(self, year=0):\n",
    "        self._year = year\n",
    "        \n",
    "grad_obj = year_graduated()\n",
    "\n",
    "print(grad_obj)\n",
    "\n"
   ]
  },
  {
   "cell_type": "code",
   "execution_count": null,
   "id": "d37519de",
   "metadata": {},
   "outputs": [],
   "source": [
    "from item import Item\n",
    "\n",
    "item1 = Item('MyItem', 750)\n",
    "\n",
    "item1._name = 'OtherItem'\n",
    "\n",
    "print(item1.name)"
   ]
  },
  {
   "cell_type": "code",
   "execution_count": null,
   "id": "2c0b082c",
   "metadata": {},
   "outputs": [],
   "source": [
    "from item import Item\n",
    "\n",
    "item1 = Item('MyItem', 750)\n",
    "\n",
    "item1._name = 'OtherItem'\n",
    "\n",
    "print(item1.name)"
   ]
  },
  {
   "cell_type": "code",
   "execution_count": null,
   "id": "7f54421d",
   "metadata": {},
   "outputs": [],
   "source": [
    "class car:\n",
    "    def __init__(self):\n",
    "        self.__updatesoftware()\n",
    "    def drive(self):\n",
    "        print('driving')\n",
    "    def __updatesoftware(self):\n",
    "        print('updating software')\n",
    "        \n",
    "\n",
    "blackcar = car()\n",
    "blackcar.drive()"
   ]
  },
  {
   "cell_type": "code",
   "execution_count": null,
   "id": "a513bcb5",
   "metadata": {},
   "outputs": [],
   "source": [
    "class car:\n",
    "    __maxspeed = 0\n",
    "    __name = \"\"\n",
    "    def __init__(self):\n",
    "        self.__maxspeed = 200\n",
    "        self.name = 'supercar'\n",
    "    def drive(self):\n",
    "        print('driving')\n",
    "        \n",
    "    def setspeed(self,speed):\n",
    "        self.__maxspeed = speed\n",
    "        \n",
    "redcar = car()\n",
    "redcar.drive()\n",
    "redcar.setspeed(100)"
   ]
  },
  {
   "cell_type": "code",
   "execution_count": null,
   "id": "fa92c130",
   "metadata": {},
   "outputs": [],
   "source": [
    "class car:\n",
    "    __maxspeed = 0\n",
    "    __name = \"\"\n",
    "    def __init__(self):\n",
    "        self.__maxspeed = 200\n",
    "        self.name = 'supercar'\n",
    "    def drive(self):\n",
    "        print('driving')\n",
    "        print(self.__maxspeed)\n",
    "    def setspeed(self,speed):\n",
    "        self.__maxspeed = speed\n",
    "        print(self.__maxspeed)\n",
    "redcar = car()\n",
    "redcar.drive()\n",
    "redcar.setspeed(100)"
   ]
  },
  {
   "cell_type": "code",
   "execution_count": null,
   "id": "ed8671cd",
   "metadata": {},
   "outputs": [],
   "source": [
    "class car:\n",
    "    __maxspeed = 0\n",
    "    __name = \"\"\n",
    "    def __init__(self):\n",
    "        self.__maxspeed = 200\n",
    "        self.name = 'supercar'\n",
    "    def drive(self):\n",
    "        print('driving')\n",
    "        print(self.__maxspeed)\n",
    "    def setspeed(self,speed):\n",
    "        self.__maxspeed = speed\n",
    "        print(self.__maxspeed)\n",
    "redcar = car()\n",
    "redcar.drive()\n",
    "redcar.__maxspeed = 100\n",
    "redcar.drive()"
   ]
  },
  {
   "cell_type": "code",
   "execution_count": null,
   "id": "dd9f076e",
   "metadata": {},
   "outputs": [],
   "source": [
    "class Employee:\n",
    "    def __init__(self, name, salary, project):\n",
    "        self.name = name\n",
    "        self.salary = salary\n",
    "        self.project = project\n",
    "        \n",
    "    def show(self):\n",
    "        print('Name:', self.name, 'Salary:', self.salary)\n",
    "        \n",
    "    def work(self):\n",
    "        print(self.name, 'is working on', self.project)\n",
    "        \n",
    "emp = Employee('Lucky', 8000, 'NLP')\n",
    "\n",
    "emp.show()\n",
    "emp.work()"
   ]
  },
  {
   "cell_type": "code",
   "execution_count": null,
   "id": "a224e356",
   "metadata": {},
   "outputs": [],
   "source": [
    "class pub_mod:\n",
    "    def __init__(self, name, age):\n",
    "        self.name = name;\n",
    "        self.age = age;\n",
    " \n",
    "    def Age(self):  \n",
    "        print(\"Age: \", self.age)\n",
    "\n",
    "obj = pub_mod(\"Rocky\", 35);\n",
    "print(\"Name: \", obj.name)  \n",
    "obj.Age()\n"
   ]
  },
  {
   "cell_type": "code",
   "execution_count": null,
   "id": "eb27e182",
   "metadata": {},
   "outputs": [],
   "source": [
    "class Robot(object):\n",
    "    def __init__(self):\n",
    "        self.a = 123\n",
    "        self._b = 234\n",
    "        self.__c = 456\n",
    "        \n",
    "obj = Robot()\n",
    "print(obj.a)\n",
    "print(obj._b)\n",
    "print(obj.__c)"
   ]
  },
  {
   "cell_type": "code",
   "execution_count": null,
   "id": "af8e4f70",
   "metadata": {},
   "outputs": [],
   "source": [
    "class Robot(object):\n",
    "    \n",
    "    def __init__(self):\n",
    "        self.__version = 22\n",
    "        \n",
    "    def getVersion(self):\n",
    "        print(self.__version)\n",
    "        \n",
    "    def setVersion(self, version):\n",
    "        self.__version = version\n",
    "        \n",
    "obj = Robot()\n",
    "obj.getVersion()\n",
    "obj.setVersion(23)\n",
    "obj.getVersion()\n",
    "\n",
    "print(obj.__version)"
   ]
  },
  {
   "cell_type": "code",
   "execution_count": null,
   "id": "163075bb",
   "metadata": {},
   "outputs": [],
   "source": [
    "class Person:\n",
    "    def __init__(self, name, age=0):\n",
    "        self.name = name\n",
    "        self.age = age\n",
    "        \n",
    "    def display(self):\n",
    "        print(self.name)\n",
    "        print(self.age)\n",
    "        \n",
    "person = Person('Dev', 30)\n",
    "person.display()\n"
   ]
  },
  {
   "cell_type": "code",
   "execution_count": null,
   "id": "d4c3eb3d",
   "metadata": {},
   "outputs": [],
   "source": [
    "print(person.name)\n",
    "print(person.age)"
   ]
  },
  {
   "cell_type": "code",
   "execution_count": null,
   "id": "644bae11",
   "metadata": {},
   "outputs": [],
   "source": [
    "class Person:\n",
    "    def __init__(self, name, age=0):\n",
    "        self.name = name\n",
    "        self.__age = age\n",
    "    \n",
    "    def display(self):\n",
    "        print(self.name)\n",
    "        print(self.__age)\n",
    "        \n",
    "    def getAge(self):\n",
    "        print(self.__age)\n",
    "        \n",
    "    def setAge(self, age):\n",
    "        self.__age = age\n",
    "        \n",
    "person = Person('Viswas', 30)\n",
    "person.display()"
   ]
  },
  {
   "cell_type": "code",
   "execution_count": null,
   "id": "91369f24",
   "metadata": {},
   "outputs": [],
   "source": [
    "person.setAge(35)\n",
    "person.getAge()"
   ]
  },
  {
   "cell_type": "code",
   "execution_count": null,
   "id": "42491c10",
   "metadata": {},
   "outputs": [],
   "source": [
    "class Employee:\n",
    "    \n",
    "    num_of_emps = 0\n",
    "    raise_amt = 1.04\n",
    "    \n",
    "    def __init__(self, first, last, pay):\n",
    "        self.first = first\n",
    "        self.last = last\n",
    "        self.email = first + '.' + last + '@email.com'\n",
    "        self.pay = pay\n",
    "        \n",
    "        Employee.num_of_emps +=1\n",
    "        \n",
    "    def fullname(self):\n",
    "        return '{} {}'.format(self.first, self.last)\n",
    "    def apply_raise(self):\n",
    "        self.pay = int(self.pay * self.raise_amt)\n",
    "        \n",
    "        \n",
    "emp_1 = Employee('Corey', 'Schafer', 50000)\n",
    "emp_2 = Employee('Test', 'Employee', 60000)\n",
    "\n",
    "print(Employee.raise_amt)\n",
    "print(emp_1.raise_amt)"
   ]
  },
  {
   "cell_type": "code",
   "execution_count": null,
   "id": "a9fd3f7a",
   "metadata": {},
   "outputs": [],
   "source": [
    "class Employee:\n",
    "    \n",
    "    num_of_emps = 0\n",
    "    raise_amt = 1.04\n",
    "    \n",
    "    def __init__(self, first, last, pay):\n",
    "        self.first = first\n",
    "        self.last = last\n",
    "        self.email = first + '.' + last + '@email.com'\n",
    "        self.pay = pay\n",
    "        \n",
    "        Employee.num_of_emps +=1\n",
    "        \n",
    "    def fullname(self):\n",
    "        return '{} {}'.format(self.first, self.last)\n",
    "    def apply_raise(self):\n",
    "        self.pay = int(self.pay * self.raise_amt)\n",
    "    @classmethod\n",
    "    def set_raise_amt(cls, amount):\n",
    "        pass\n",
    "        \n",
    "emp_1 = Employee('Corey', 'Schafer', 50000)\n",
    "emp_2 = Employee('Test', 'Employee', 60000)\n",
    "\n",
    "print(Employee.raise_amt)\n",
    "print(emp_1.raise_amt)"
   ]
  },
  {
   "cell_type": "code",
   "execution_count": null,
   "id": "fcf9c8b2",
   "metadata": {},
   "outputs": [],
   "source": [
    "class Student:\n",
    "    def __init__(self,name,age):\n",
    "        self.name = name\n",
    "        self.age = age\n",
    "        \n",
    "    def msg(self):\n",
    "        print(self.name+ \" \"+self.age)\n",
    "        \n",
    "print('object 1:')\n",
    "s1 = Student('nia', '20')\n",
    "print(s1.name)\n",
    "print(s1.age)\n"
   ]
  },
  {
   "cell_type": "code",
   "execution_count": null,
   "id": "aff240dc",
   "metadata": {},
   "outputs": [],
   "source": [
    "s1.msg()\n",
    "print('********')\n",
    "print('object 2:')"
   ]
  },
  {
   "cell_type": "code",
   "execution_count": null,
   "id": "f4b1025b",
   "metadata": {},
   "outputs": [],
   "source": [
    "s2 = Student('ria', '21')\n",
    "print(s2.name)\n",
    "print(s2.age)\n",
    "s2.msg()"
   ]
  },
  {
   "cell_type": "markdown",
   "id": "b8807616",
   "metadata": {},
   "source": [
    "classmethod and staticmethod"
   ]
  },
  {
   "cell_type": "code",
   "execution_count": null,
   "id": "4c6b8d08",
   "metadata": {},
   "outputs": [],
   "source": [
    "class Amazon:\n",
    "    #class variables\n",
    "    overall_discount = 5\n",
    "    \n",
    "    #constructor\n",
    "    def __init__(self, p_id, p_name, p_price, p_discount):\n",
    "        # create variables\n",
    "        self.id = p_id\n",
    "        self.name = p_name\n",
    "        self.price = p_price\n",
    "        self.discount = p_discount\n",
    "        \n",
    "    def get_final_price(self):\n",
    "        return self.price - self.price*self.discount/100 - Amazon.overall_discount*self.price\n",
    "    def print_data(self):\n",
    "        print('----------------')\n",
    "        print('id :', self.id)\n",
    "        print('name :', self.name)\n",
    "        print('final price :', self.get_final_price())\n",
    "        \n",
    "p1 = Amazon(1, 'product1', 500, 8)\n",
    "\n",
    "p1.print_data()\n",
    "        "
   ]
  },
  {
   "cell_type": "code",
   "execution_count": null,
   "id": "b9c8331f",
   "metadata": {},
   "outputs": [],
   "source": [
    "p2 = Amazon(2, 'product2', 800, 11)\n",
    "p2.print_data()"
   ]
  },
  {
   "cell_type": "code",
   "execution_count": null,
   "id": "791276f6",
   "metadata": {},
   "outputs": [],
   "source": [
    "class Amazon:\n",
    "    #class variables\n",
    "    overall_discount = 5\n",
    "    \n",
    "    #constructor\n",
    "    def __init__(self, p_id, p_name, p_price, p_discount):\n",
    "        # create variables\n",
    "        self.id = p_id\n",
    "        self.name = p_name\n",
    "        self.price = p_price\n",
    "        self.discount = p_discount\n",
    "        \n",
    "    def get_final_price(self):\n",
    "        return self.price - self.price*self.discount/100 - Amazon.overall_discount*self.price/100\n",
    "    def print_data(self):\n",
    "        print('----------------')\n",
    "        print('id :', self.id)\n",
    "        print('name :', self.name)\n",
    "        print('final price :', self.get_final_price())\n",
    "        \n",
    "    @classmethod\n",
    "    def change_overall_discount(clc, discount):\n",
    "        clc.overall_discount = discount\n",
    "        \n",
    "        \n",
    "        \n",
    "p1 = Amazon(1, 'product1', 500,8)\n",
    "\n",
    "p1.print_data()\n",
    "\n",
    "\n",
    "Amazon.change_overall_discount(10)\n",
    "p1.print_data()"
   ]
  },
  {
   "cell_type": "code",
   "execution_count": null,
   "id": "97f32fb0",
   "metadata": {},
   "outputs": [],
   "source": [
    "class Amazon:\n",
    "    #class variables\n",
    "    overall_discount = 5\n",
    "    \n",
    "    #constructor\n",
    "    def __init__(self, p_id, p_name, p_price, p_discount):\n",
    "        # create variables\n",
    "        self.id = p_id\n",
    "        self.name = p_name\n",
    "        self.price = p_price\n",
    "        self.discount = p_discount\n",
    "        \n",
    "    def get_final_price(self):\n",
    "        return self.price - self.price*self.discount/100 - Amazon.overall_discount*self.price/100\n",
    "    def print_data(self):\n",
    "        print('----------------')\n",
    "        print('id :', self.id)\n",
    "        print('name :', self.name)\n",
    "        print('final price :', self.get_final_price())\n",
    "        \n",
    "    @classmethod\n",
    "    def change_overall_discount(clc, discount):\n",
    "        clc.overall_discount = discount\n",
    "    @staticmethod\n",
    "    def print_something():\n",
    "        print('i am a static method')\n",
    "        \n",
    "        \n",
    "        \n",
    "p1 = Amazon(1, 'product1', 500,8)\n",
    "\n",
    "p1.print_data()\n",
    "\n",
    "\n",
    "Amazon.change_overall_discount(10)\n",
    "p1.print_data()\n",
    "\n",
    "Amazon.print_something()\n"
   ]
  },
  {
   "cell_type": "code",
   "execution_count": null,
   "id": "d2b81a00",
   "metadata": {},
   "outputs": [],
   "source": [
    "class Employee:\n",
    "    @staticmethod\n",
    "    def sample(x):\n",
    "        print('Inside static method', x)\n",
    "\n",
    "\n",
    "Employee.sample(10)\n",
    "\n",
    "\n",
    "emp = Employee()\n",
    "emp.sample(10)\n",
    "\n",
    "               "
   ]
  },
  {
   "cell_type": "code",
   "execution_count": null,
   "id": "d25018f6",
   "metadata": {},
   "outputs": [],
   "source": [
    "class Student:\n",
    "    name = 'unknown' \n",
    "    def __init__(self):\n",
    "        self.age = 20 \n",
    "\n",
    "    @classmethod\n",
    "    def tostring(cls):\n",
    "        print('Student Class Attributes: name=',cls.name)\n",
    "        \n",
    "Student.tostring()\n",
    "    \n",
    "std = Student()\n",
    "std.tostring() \n"
   ]
  },
  {
   "cell_type": "code",
   "execution_count": null,
   "id": "7f9a04e0",
   "metadata": {},
   "outputs": [],
   "source": [
    "class Student:\n",
    "    def __init__(self, name, age):\n",
    "        self.name = name\n",
    "        self.age = age\n",
    "        \n",
    "    @classmethod\n",
    "    def getobject(cls):\n",
    "        return cls ('pulli', 25)\n",
    "    \n",
    "std = Student.getobject()\n",
    "std.name\n"
   ]
  },
  {
   "cell_type": "code",
   "execution_count": null,
   "id": "7a11c49e",
   "metadata": {},
   "outputs": [],
   "source": [
    "std.age"
   ]
  },
  {
   "cell_type": "code",
   "execution_count": null,
   "id": "c910679e",
   "metadata": {},
   "outputs": [],
   "source": [
    "class Student:\n",
    "    marks = 0\n",
    "    def compute_marks(self, obtained_marks):\n",
    "        marks = obtained_marks\n",
    "        print('obtained_marks:', marks)\n",
    "        \n",
    "Student.print_marks = classmethod(Student.compute_marks)\n",
    "Student.print_marks(88)"
   ]
  },
  {
   "cell_type": "code",
   "execution_count": null,
   "id": "bf1dbe60",
   "metadata": {},
   "outputs": [],
   "source": [
    "class Weight():\n",
    "    Weight = 100\n",
    "    \n",
    "    def to_pounds(self):\n",
    "        return self.weight\n",
    "    def to_pounds(kilos):\n",
    "        return kilos\n",
    "    \n",
    "W=Weight()\n",
    "pounds = W.to_pounds()\n",
    "\n",
    "kilos = 100\n",
    "pounds = to_pounds(kilos)\n",
    "print"
   ]
  },
  {
   "cell_type": "code",
   "execution_count": null,
   "id": "205148fa",
   "metadata": {},
   "outputs": [],
   "source": [
    "class Mathutils():\n",
    "    Mathutils = 100\n",
    "    \n",
    "    \n",
    "    @staticmethod\n",
    "    def multiply(a, b):\n",
    "        return a * b\n",
    "\n",
    "Mathutils.multiply(10, 5)\n",
    "\n",
    "print(Mathutils.multiply(10, 5))"
   ]
  },
  {
   "cell_type": "code",
   "execution_count": null,
   "id": "fac4a413",
   "metadata": {},
   "outputs": [],
   "source": [
    "class Student:\n",
    "    @staticmethod\n",
    "    def sample(a):\n",
    "        print('Inside static method', a)\n",
    "        \n",
    "Student.sample(5)\n",
    "std = Student()\n"
   ]
  },
  {
   "cell_type": "code",
   "execution_count": null,
   "id": "46c5acbe",
   "metadata": {},
   "outputs": [],
   "source": [
    "class Date:\n",
    "    def __init__(self, day=0, month=0, year=0):\n",
    "        self.day = day\n",
    "        self.month = month\n",
    "        self.year = year\n",
    "        \n",
    "    @classmethod\n",
    "    def string_to_Date(cls, string_Date):\n",
    "        day, month, year = map(int, string_Date.split('-'))\n",
    "        return cls(day, month, year)\n",
    "    \n",
    "dt = Date.string_to_Date('31-12-2018')\n",
    "print(dt.day)\n",
    "print(dt.month)\n",
    "print(dt.year)"
   ]
  },
  {
   "cell_type": "code",
   "execution_count": null,
   "id": "547d713b",
   "metadata": {},
   "outputs": [],
   "source": [
    "from datetime import date\n",
    "\n",
    "class Person:\n",
    "    def __init__(self, your_name, your_age):\n",
    "        self.your_name = your_name\n",
    "        self.your_age = your_age\n",
    "        \n",
    "    @classmethod\n",
    "    def fromBirthYear(cls, your_name, your_year):\n",
    "        return cls(your_name, date.today().year - your_year)\n",
    "    \n",
    "    @staticmethod\n",
    "    def isAdult(your_age):\n",
    "        return your_age >18\n",
    "    \n",
    "First_p = Person('Alex', 23)\n",
    "\n",
    "\n",
    "print(First_p.your_age)\n",
    "\n",
    "\n",
    "print(Person.isAdult(22))"
   ]
  },
  {
   "cell_type": "code",
   "execution_count": null,
   "id": "0388fdd2",
   "metadata": {},
   "outputs": [],
   "source": [
    "class Student:\n",
    "    @staticmethod\n",
    "    def sample(a):\n",
    "        \n",
    "        print('Inside static method',a)\n",
    "Student.sample(5)\n",
    "\n"
   ]
  },
  {
   "cell_type": "code",
   "execution_count": null,
   "id": "7e8d81ee",
   "metadata": {},
   "outputs": [],
   "source": [
    "std = Student()\n",
    "std.sample(5)"
   ]
  },
  {
   "cell_type": "code",
   "execution_count": null,
   "id": "8485b2a1",
   "metadata": {},
   "outputs": [],
   "source": [
    "class Test():\n",
    "    \n",
    "    @staticmethod\n",
    "    def stat():\n",
    "        print('Hello from the static method')"
   ]
  },
  {
   "cell_type": "code",
   "execution_count": null,
   "id": "7034f6b8",
   "metadata": {},
   "outputs": [],
   "source": [
    "class Student:\n",
    "    school_name = 'ABC School'\n",
    "    \n",
    "    def __init__(self, name, age):\n",
    "        self.name = name\n",
    "        self.age = age\n",
    "        \n",
    "    @classmethod\n",
    "    def change_school(cls, name):\n",
    "        print(Student.school_name)\n",
    "        Student.school_name_name = name\n",
    "        \n",
    "Jessa = Student('Jessa', 14)\n",
    "Student.change_school('XYZ School')"
   ]
  },
  {
   "cell_type": "code",
   "execution_count": null,
   "id": "d368fdbb",
   "metadata": {},
   "outputs": [],
   "source": [
    "class car:\n",
    "    base_price=100000\n",
    "    def __init__(self, windows,doors,power):\n",
    "        self.windoe=windows\n",
    "        self.doors=doors\n",
    "        self.power=power\n",
    "        \n",
    "    def what_base_price(self):\n",
    "        print('The base price is {}'.format(self.base_price))\n",
    "        \n",
    "    @classmethod\n",
    "    def revise_base_price(cls, inflation):\n",
    "        cls.base_price=cls.base_price+cls.base_price*inflation\n",
    "        \n",
    "        "
   ]
  },
  {
   "cell_type": "code",
   "execution_count": null,
   "id": "75e7d17b",
   "metadata": {},
   "outputs": [],
   "source": [
    "car.revise_base_price(0.10)"
   ]
  },
  {
   "cell_type": "code",
   "execution_count": null,
   "id": "bf748072",
   "metadata": {},
   "outputs": [],
   "source": [
    "car.base_price"
   ]
  },
  {
   "cell_type": "code",
   "execution_count": null,
   "id": "69832bc5",
   "metadata": {},
   "outputs": [],
   "source": [
    "class Person:\n",
    "    \n",
    "    def __init__(self, name):\n",
    "        self.name =name\n",
    "        \n",
    "    def about_me(self):\n",
    "        print('I am {}'.format(self.name))\n",
    "        \n",
    "    @staticmethod\n",
    "    def speak(msg):\n",
    "        print(msg)"
   ]
  },
  {
   "cell_type": "code",
   "execution_count": null,
   "id": "37cc360f",
   "metadata": {},
   "outputs": [],
   "source": [
    "p = Person('Nik')\n"
   ]
  },
  {
   "cell_type": "code",
   "execution_count": null,
   "id": "1c814932",
   "metadata": {},
   "outputs": [],
   "source": [
    "p.about_me()"
   ]
  },
  {
   "cell_type": "code",
   "execution_count": null,
   "id": "bfbaff95",
   "metadata": {},
   "outputs": [],
   "source": [
    "p.speak('hello')"
   ]
  },
  {
   "cell_type": "code",
   "execution_count": null,
   "id": "15685be9",
   "metadata": {},
   "outputs": [],
   "source": [
    "Person.speak('English')"
   ]
  },
  {
   "cell_type": "code",
   "execution_count": null,
   "id": "d7b67ef7",
   "metadata": {},
   "outputs": [],
   "source": [
    "class myclass():\n",
    "    def __init__(self,fname,lname):\n",
    "        self.firstname=fname\n",
    "        self.lastname=lname\n",
    "        \n",
    "    @classmethod\n",
    "    def setsalary(cls,salary):\n",
    "        myclass.mysalary=salary\n",
    "\n",
    "obj=myclass('lava', 'k')\n",
    "myclass.setsalary(20000)\n",
    "print(myclass.mysalary)"
   ]
  },
  {
   "cell_type": "code",
   "execution_count": null,
   "id": "d232dedc",
   "metadata": {},
   "outputs": [],
   "source": [
    "print(obj.mysalary)"
   ]
  },
  {
   "cell_type": "code",
   "execution_count": null,
   "id": "4f23d059",
   "metadata": {},
   "outputs": [],
   "source": [
    "class Employee:\n",
    "    \n",
    "    DEFAULT_ID = '0000'\n",
    "    MAX_GRATUITY=1000000\n",
    "    \n",
    "    def __init__(self, id, name, basic, hra):\n",
    "        self.id = id\n",
    "        self.name = name\n",
    "        self.basic = basic\n",
    "        self.hra = hra\n",
    "        \n",
    "    def totalSalary(self):\n",
    "        return self.basic + self.hra\n",
    "    \n",
    "    @staticmethod\n",
    "    def compute_gratuity(basic, year_of_service):\n",
    "        amount = basic * year_of_service\n",
    "        if amount > Employee.MAX_GRATUITY:\n",
    "            return Employee.MAX_GRATUITY\n",
    "        else:\n",
    "            return amount\n",
    "        \n",
    "    @classmethod\n",
    "    def create_employee (cls, name, basic, hra):\n",
    "        id = cls.DEFAULT_ID\n",
    "        return cls(id, name, basic, hra)\n",
    "\n",
    "e1 = Employee(111, 'Tom', 10000, 2000)\n",
    "e2 = Employee.create_employee('Tom', 10000, 2000)\n",
    "\n",
    "\n",
    "\n",
    "print(e1.totalSalary())\n",
    "print(e2.totalSalary())\n",
    "\n",
    "print(e1.compute_gratuity(10000, 20))\n",
    "print(Employee.compute_gratuity(10000, 20))\n",
    "    \n",
    "\n"
   ]
  },
  {
   "cell_type": "code",
   "execution_count": null,
   "id": "6e0430e2",
   "metadata": {},
   "outputs": [],
   "source": [
    "class Myclass:\n",
    "    def method(self):\n",
    "        return 'instance method called', self\n",
    "    \n",
    "    @classmethod\n",
    "    def classmethod(cls):\n",
    "        return 'class method called', cls\n",
    "    \n",
    "    @staticmethod\n",
    "    def staticmethod():\n",
    "        return 'static method called'\n",
    "    \n",
    "obj = Myclass()\n",
    "obj.method()\n"
   ]
  },
  {
   "cell_type": "code",
   "execution_count": null,
   "id": "4749593d",
   "metadata": {},
   "outputs": [],
   "source": [
    "obj.classmethod()"
   ]
  },
  {
   "cell_type": "code",
   "execution_count": null,
   "id": "289b0d36",
   "metadata": {},
   "outputs": [],
   "source": [
    "obj.staticmethod()"
   ]
  },
  {
   "cell_type": "code",
   "execution_count": null,
   "id": "a5162b4f",
   "metadata": {},
   "outputs": [],
   "source": [
    "Myclass.classmethod()"
   ]
  },
  {
   "cell_type": "code",
   "execution_count": null,
   "id": "90d1fa1a",
   "metadata": {},
   "outputs": [],
   "source": [
    "Myclass.staticmethod()"
   ]
  },
  {
   "cell_type": "code",
   "execution_count": null,
   "id": "51e34681",
   "metadata": {},
   "outputs": [],
   "source": [
    "Myclass.method()"
   ]
  },
  {
   "cell_type": "code",
   "execution_count": null,
   "id": "d807d579",
   "metadata": {},
   "outputs": [],
   "source": [
    "class Pizza:\n",
    "    radius = 200\n",
    "    \n",
    "    @classmethod\n",
    "    def get_radius(cls):\n",
    "        return cls.radius\n",
    "    \n",
    "print(Pizza.get_radius())\n",
    "        "
   ]
  },
  {
   "cell_type": "code",
   "execution_count": null,
   "id": "9dec0568",
   "metadata": {},
   "outputs": [],
   "source": [
    "class Demo:\n",
    "    @staticmethod\n",
    "    def sum(x, y):\n",
    "        print(x+y)\n",
    "        \n",
    "    @staticmethod\n",
    "    def multiply(x, y):\n",
    "        print(x*y)\n",
    "        \n",
    "Demo.sum(2, 3)\n",
    "Demo.multiply(2, 4)"
   ]
  },
  {
   "cell_type": "code",
   "execution_count": null,
   "id": "f8e8c5f9",
   "metadata": {},
   "outputs": [],
   "source": [
    "class Fruit:\n",
    "    name = 'Fruits'\n",
    "    \n",
    "    @classmethod\n",
    "    def printName(cls):\n",
    "        print('The name is:', cls.name)\n",
    "\n",
    "Fruit.printName()"
   ]
  },
  {
   "cell_type": "code",
   "execution_count": null,
   "id": "95f4c415",
   "metadata": {},
   "outputs": [],
   "source": [
    "class Book:\n",
    "    def __init__(self, title, author, pages):\n",
    "        print('A book is created')\n",
    "        self.title = title\n",
    "        self.author = author\n",
    "        self.pages = pages\n",
    "        \n",
    "    def __str__(self):\n",
    "        return 'Title: %s, author: %s, pages: %s' %(self.title, self.author, self.pages)\n",
    "    \n",
    "    def __len__(self):\n",
    "        return self.pages\n",
    "    \n",
    "    def __del__(self):\n",
    "        print('A book is destroyed')\n",
    "        \n",
    "    \n",
    "book = Book('Python', 'Team-Members', 250)\n",
    "\n",
    "print(book)\n",
    "\n",
    "print(len(book))\n",
    "del book\n",
    "    "
   ]
  },
  {
   "cell_type": "code",
   "execution_count": null,
   "id": "5cf5b877",
   "metadata": {},
   "outputs": [],
   "source": [
    "class Student:\n",
    "    branch = 'CSE'\n",
    "    def __init__(self, name, age):\n",
    "        self.name = name\n",
    "        self.age = age\n",
    "        \n",
    "    def show(self):\n",
    "        print(self.name, self.age, self.branch)\n",
    "        \n",
    "    def compare(self,other):\n",
    "        if self.age == other.age:\n",
    "            return True\n",
    "        else:\n",
    "            return False\n",
    "        \n",
    "\n",
    "s1 = Student('Anil', 20)\n",
    "s2 = Student('Sunil', 20)\n",
    "\n",
    "s1.show()\n",
    "s1.branch = 'IT'\n",
    "s1.show()\n",
    "s2.show()"
   ]
  },
  {
   "cell_type": "code",
   "execution_count": null,
   "id": "3afb56f1",
   "metadata": {},
   "outputs": [],
   "source": [
    "class Employee:\n",
    "    \n",
    "    def __new__(cls):\n",
    "        print (\"__new__ magic method is called\")\n",
    "        inst = object.__new__(cls)\n",
    "        return inst\n",
    "    def __init__(self):\n",
    "        print (\"__init__ magic method is called\")\n",
    "        self.name='Satya'\n",
    "        \n",
    "emp = Employee()\n"
   ]
  },
  {
   "cell_type": "code",
   "execution_count": null,
   "id": "b6f5bc33",
   "metadata": {},
   "outputs": [],
   "source": [
    "class String:\n",
    "    def __init__(self, string):\n",
    "        self.string = string\n",
    "        \n",
    "    def __repr__(self):\n",
    "        return 'object: {}'.format(self.string)\n",
    "    \n",
    "    \n",
    "string = String('Hello')\n",
    "print(string + 'world')"
   ]
  },
  {
   "cell_type": "code",
   "execution_count": null,
   "id": "8001bf6c",
   "metadata": {},
   "outputs": [],
   "source": [
    "class String:\n",
    "    def __init__(self, string):\n",
    "        self.string = string\n",
    "        \n",
    "    def __repr__(self):\n",
    "        return 'object: {}'.format(self.string)\n",
    "    \n",
    "    def __add__(self, other):\n",
    "        return self.string + other\n",
    "    \n",
    "string = String('Hello')\n",
    "print(string + 'world')"
   ]
  },
  {
   "cell_type": "code",
   "execution_count": null,
   "id": "ee6033ab",
   "metadata": {},
   "outputs": [],
   "source": [
    "class NoLenSupport:\n",
    "    pass\n",
    "\n",
    "obj = NoLenSupport()\n",
    "len(obj)"
   ]
  },
  {
   "cell_type": "code",
   "execution_count": null,
   "id": "4d0755e5",
   "metadata": {},
   "outputs": [],
   "source": [
    "class LenSupport:\n",
    "    def __len__(self):\n",
    "        return 40\n",
    "    \n",
    "obj = LenSupport()\n",
    "len(obj)"
   ]
  },
  {
   "cell_type": "code",
   "execution_count": null,
   "id": "e6c6b3c1",
   "metadata": {},
   "outputs": [],
   "source": [
    "class Account:\n",
    "    'A simple account class'\n",
    "    \n",
    "    def __init__(self, owner, amount=0):\n",
    "        self.owner = owner\n",
    "        self.amount = amount\n",
    "        self._transactions = []\n",
    "        \n",
    "acc = Account('bob')\n",
    "acc = Account('bob', 10)\n",
    "print(acc) "
   ]
  },
  {
   "cell_type": "code",
   "execution_count": null,
   "id": "f8ae20f6",
   "metadata": {},
   "outputs": [],
   "source": [
    "class Complex:\n",
    "    \n",
    "    def __init__(self, re=0, im=0):\n",
    "        self.re = re\n",
    "        self.im = im\n",
    "        \n",
    "    def __str__(self):\n",
    "        if self.im >= 0:\n",
    "            return f'{self.re}+{self.im}i'\n",
    "        else:\n",
    "            return f'{self.re}{self.im}i'\n",
    "        \n",
    "\n",
    "a = Complex(3,4)\n",
    "b = Complex(4,5)\n",
    "\n",
    "print(a)\n",
    "print(b)"
   ]
  },
  {
   "cell_type": "code",
   "execution_count": null,
   "id": "c5dbbb3f",
   "metadata": {},
   "outputs": [],
   "source": [
    "class Addition:\n",
    "    def __init__(self):\n",
    "        self.var1 = 0\n",
    "        self.var2 =0\n",
    "        self.sum = 0\n",
    "        \n",
    "    def set_val(self):\n",
    "        self.var1 = int(input('Enter Value 1:'))\n",
    "        self.var2 = int(input('Enter Value 2:'))\n",
    "        \n",
    "    def add(self):\n",
    "        self.sum = self.var1 + self.var2\n",
    "        \n",
    "    def disp(self):\n",
    "        print(f'sum of {self.var1} and {self.var2} is {self.sum}')\n",
    "\n",
    "        \n",
    "add_obj = Addition()\n",
    "add_obj.set_val()\n",
    "add_obj.add()\n",
    "add_obj.disp()"
   ]
  },
  {
   "cell_type": "code",
   "execution_count": null,
   "id": "40082151",
   "metadata": {},
   "outputs": [],
   "source": [
    "class Addition:\n",
    "    def __init__(self):\n",
    "        self.var1 = 0\n",
    "        self.var2 =0\n",
    "        self.sum = 0\n",
    "        \n",
    "    def set_val(self):\n",
    "        self.var1 = int(input('Enter Value 1:'))\n",
    "        self.var2 = int(input('Enter Value 2:'))\n",
    "        \n",
    "    def add(self):\n",
    "        self.sum = self.var1 + self.var2\n",
    "        \n",
    "    def disp(self):\n",
    "        print(f'sum of {self.var1} and {self.var2} is {self.sum}')\n",
    "\n",
    "    def __del__(self):\n",
    "        print('Object is deleted.....')\n",
    "        \n",
    "add_obj = Addition()\n",
    "add_obj.set_val()\n",
    "add_obj.add()\n",
    "add_obj.disp()\n",
    "del add_obj"
   ]
  },
  {
   "cell_type": "code",
   "execution_count": null,
   "id": "4dca6740",
   "metadata": {},
   "outputs": [],
   "source": [
    "class software:\n",
    "    names = []\n",
    "    versions = {}\n",
    "    def __init__(self, names):\n",
    "        if names:\n",
    "            self.names = names\n",
    "            for name in names:\n",
    "                self.version[name]=1\n",
    "        else:\n",
    "            raise Exception('Please Enter the names')"
   ]
  },
  {
   "cell_type": "code",
   "execution_count": null,
   "id": "b1abdc32",
   "metadata": {},
   "outputs": [],
   "source": [
    "p = software(['S1', 'S2', 'S3'])\n",
    "p1 = software([])"
   ]
  },
  {
   "cell_type": "code",
   "execution_count": null,
   "id": "327b38a5",
   "metadata": {},
   "outputs": [],
   "source": [
    "p = software(['S1', 'S2', 'S3'])\n",
    "p1 = software([])\n"
   ]
  },
  {
   "cell_type": "code",
   "execution_count": null,
   "id": "1885980e",
   "metadata": {},
   "outputs": [],
   "source": [
    "class Car:\n",
    "    def __init__(self, windows, doors, enginetype):\n",
    "        self.windows = windows\n",
    "        self.doors = doors\n",
    "        self.enginetype = enginetype\n",
    "        \n",
    "    def __str__(self):\n",
    "        return 'The object has been initialized'\n",
    "    \n",
    "    def __sizeof__(self):\n",
    "        return 'The display size of the object'\n",
    "        \n",
    "    def drive(self):\n",
    "        print('The Person drives the car')\n",
    "        \n",
    "c=Car(4, 5, 'Diesel')"
   ]
  },
  {
   "cell_type": "code",
   "execution_count": null,
   "id": "2d26c339",
   "metadata": {},
   "outputs": [],
   "source": [
    "print(c)"
   ]
  },
  {
   "cell_type": "code",
   "execution_count": null,
   "id": "61c0c139",
   "metadata": {},
   "outputs": [],
   "source": [
    "c.__sizeof__()"
   ]
  },
  {
   "cell_type": "code",
   "execution_count": null,
   "id": "108b2245",
   "metadata": {},
   "outputs": [],
   "source": [
    "class Employee:\n",
    "    raise_amt = 1.04\n",
    "    \n",
    "    def __init__(self, first, last, pay):\n",
    "        self.first =first\n",
    "        self.last = last\n",
    "        self.email = first + '.' + last + '@email.com'\n",
    "        self.pay = pay\n",
    "        \n",
    "    def fullname(self):\n",
    "        return '{} {}'.format(self.first, self.last)\n",
    "    \n",
    "    def apply_raise(self):\n",
    "        self.pay = int(self.pay * self.raise_amt)\n",
    " \n",
    "\n",
    "emp1 = Employee('Corey', 'Schafer', 50000)\n",
    "emp2 = Employee('Test', 'employee', 60000)\n",
    "\n",
    "\n",
    "\n",
    "\n",
    "print(1 + 2)\n",
    "print('a' + 'b')"
   ]
  },
  {
   "cell_type": "code",
   "execution_count": null,
   "id": "198c8d55",
   "metadata": {},
   "outputs": [],
   "source": [
    "class Employee:\n",
    "    raise_amt = 1.04\n",
    "    \n",
    "    def __init__(self, first, last, pay):\n",
    "        self.first =first\n",
    "        self.last = last\n",
    "        self.email = first + '.' + last + '@email.com'\n",
    "        self.pay = pay\n",
    "        \n",
    "    def fullname(self):\n",
    "        return '{} {}'.format(self.first, self.last)\n",
    "    \n",
    "    def apply_raise(self):\n",
    "        self.pay = int(self.pay * self.raise_amt)\n",
    "        \n",
    "    def __rep__(self):\n",
    "        return \"Employee('{}', '{}', {})\".format(self.first, self.last, self.pay)\n",
    "    def __str__(self):\n",
    "        return '{} - {}'.format(self.fullname(),self.email)\n",
    "\n",
    "emp_1 = Employee('Corey', 'Schafer', 50000)\n",
    "emp_2 = Employee('Test', 'employee', 60000)\n",
    "\n",
    "\n",
    "print(emp_1)\n",
    "\n",
    "print(repr(emp_1))\n",
    "print(str(emp_1)) "
   ]
  },
  {
   "cell_type": "code",
   "execution_count": null,
   "id": "aa086d2e",
   "metadata": {},
   "outputs": [],
   "source": [
    "print(emp_1. __repr__())\n",
    "print(emp_1. __str__())"
   ]
  },
  {
   "cell_type": "code",
   "execution_count": null,
   "id": "2da00973",
   "metadata": {},
   "outputs": [],
   "source": [
    "class TextInput:\n",
    "    def __init__(self, item):\n",
    "        self.item = item\n",
    "        \n",
    "    def __str__(self):\n",
    "        return self.item\n",
    "    def __len__(self):\n",
    "        return len(self.item)\n",
    "    \n",
    "text = TextInput('sample text')\n",
    "print(len(text))"
   ]
  },
  {
   "cell_type": "code",
   "execution_count": null,
   "id": "8cbb0910",
   "metadata": {},
   "outputs": [],
   "source": [
    "class House:\n",
    "    def __init__(self, price):\n",
    "        self._price = price\n",
    "        \n",
    "    @property\n",
    "    def price(self):\n",
    "        return self._price\n",
    "        \n",
    "            \n",
    "    @price.setter\n",
    "    def price(self, new_price):\n",
    "        if new_price > 0 and isinstance(new_price, float):\n",
    "            self._price = new_price\n",
    "            \n",
    "        else:\n",
    "            print('Please enter a valid price')\n",
    "            \n",
    "    @price.deleter\n",
    "    def price(self):\n",
    "        del self._price\n",
    "        \n",
    "        \n",
    "\n",
    "house = House(50000.0)\n",
    "house.price = 45000.0\n",
    "house.price"
   ]
  },
  {
   "cell_type": "code",
   "execution_count": null,
   "id": "56d53d2c",
   "metadata": {},
   "outputs": [],
   "source": [
    "class Portal:\n",
    "    def __init__(self):\n",
    "        self._name = ''\n",
    "        \n",
    "    @property\n",
    "    def name(self):\n",
    "        return self._name\n",
    "    \n",
    "    @name.setter\n",
    "    def name(self, val):\n",
    "        self._name = val\n",
    "        \n",
    "    @name.deleter\n",
    "    def name(self):\n",
    "        del self._name\n",
    "  \n",
    "p = Portal()\n",
    "p.name = 'Prasanthi'\n",
    "\n",
    "print(p.name)\n",
    "\n",
    "del p.name"
   ]
  },
  {
   "cell_type": "code",
   "execution_count": null,
   "id": "4f970bed",
   "metadata": {},
   "outputs": [],
   "source": [
    "class Student:\n",
    "    \n",
    "    def __init__(self, fname, lname):\n",
    "        self.fname = fname\n",
    "        self.lname = lname\n",
    "\n",
    "    @property\n",
    "    def fullname(self):\n",
    "        return self.fname +' '+ self.lname\n",
    "\n",
    "  \n",
    "    @fullname.setter\n",
    "    def fullname(self, name):\n",
    "        fname, lname = name.split(\" \")\n",
    "        self.first = fname\n",
    "        self.last = lname\n",
    "\n",
    "\n",
    "    @fullname.deleter\n",
    "    def fullname(self):\n",
    "        self.first = None\n",
    "        self.last = None\n",
    "        print('Deleted the fullname')\n",
    "        \n",
    "\n",
    "    def email(self):\n",
    "        return '{}.{}@studytonight.com'.format(self.fname, self.lname)\n",
    "\n",
    "\n",
    "s1 = Student('Tony', 'Stark')\n",
    "print('Fullname of s1 is ', s1.fullname)\n",
    "print('And email address = ', s1.email())\n",
    "\n",
    "\n",
    "s1.first = 'Steve'\n",
    "print('Fullname of s1 is ', s1.fullname)\n",
    "print('And email address = ', s1.email())\n",
    "\n",
    "\n",
    "s1.fullname = 'Berry Banner'\n",
    "print('New Fullname of s1 is ', s1.fullname)\n",
    "\n",
    "del s1.fullname\n"
   ]
  },
  {
   "cell_type": "code",
   "execution_count": null,
   "id": "ff5f5edd",
   "metadata": {},
   "outputs": [],
   "source": [
    "class Student:\n",
    "    def __init__(self, name, grade):\n",
    "        self.name = name\n",
    "        self.grade = grade\n",
    "        self.msg = self.name + 'got grade' + self.grade\n",
    "        \n",
    "\n",
    "stud1 = Student('nia', 'B')\n",
    "\n",
    "print(stud1.name)\n",
    "print(stud1.grade)\n",
    "print(stud1.msg)"
   ]
  },
  {
   "cell_type": "code",
   "execution_count": null,
   "id": "cd1f4175",
   "metadata": {},
   "outputs": [],
   "source": [
    "print('name:', stud1.name)\n",
    "print('grade:', stud1.grade)\n",
    "print(stud1.msg)"
   ]
  },
  {
   "cell_type": "code",
   "execution_count": null,
   "id": "c22201f2",
   "metadata": {},
   "outputs": [],
   "source": [
    "stud1.grade = 'A'\n",
    "\n",
    "print('name:', stud1.name)\n",
    "print('grade:', stud1.grade)\n",
    "print(stud1.msg)\n"
   ]
  },
  {
   "cell_type": "code",
   "execution_count": null,
   "id": "b031432f",
   "metadata": {},
   "outputs": [],
   "source": [
    "class Student:\n",
    "    \n",
    "    def __init__(self, name, grade):\n",
    "        self.name = name\n",
    "        self.grade = grade\n",
    "        \n",
    "    def msg(self):\n",
    "        return self.name + 'got grade' + self.grade\n",
    "        \n",
    "\n",
    "stud1 = Student('nia', 'B')\n",
    "stud1.grade = 'A'\n",
    "\n",
    "print('name:', stud1.name)\n",
    "print('grade:', stud1.grade)\n",
    "print(stud1.msg())\n"
   ]
  },
  {
   "cell_type": "code",
   "execution_count": null,
   "id": "53a0982a",
   "metadata": {},
   "outputs": [],
   "source": [
    "class Student:\n",
    "    \n",
    "    def __init__(self, name, grade):\n",
    "        self.name = name\n",
    "        self.grade = grade\n",
    "    \n",
    "    @property   \n",
    "    def msg(self):\n",
    "        return self.name + 'got grade' + self.grade\n",
    "        \n",
    "\n",
    "stud1 = Student('nia', 'B')\n",
    "stud1.grade = 'A'\n",
    "\n",
    "print('name:', stud1.name)\n",
    "print('grade:', stud1.grade)\n",
    "print(stud1.msg)\n",
    "\n"
   ]
  },
  {
   "cell_type": "code",
   "execution_count": null,
   "id": "c9176194",
   "metadata": {},
   "outputs": [],
   "source": [
    "class Student:\n",
    "    \n",
    "    def __init__(self, name, grade):\n",
    "        self.name = name\n",
    "        self.grade = grade\n",
    "    \n",
    "     \n",
    "    def msg(self):\n",
    "        return self.name + 'got grade' + self.grade\n",
    "        \n",
    "    def setter (self,msg):\n",
    "        sent = msg.split(' ')\n",
    "        print(sent)\n",
    "        self.name = sent[0]\n",
    "        self.grade = sent[-1]\n",
    "        \n",
    "stud1 = Student('nia', 'B')\n",
    "\n",
    "stud1.setter('prasanthi got grade A')\n",
    "\n",
    "# stud1.msg= 'prasanthi got grade A'\n",
    "\n",
    "print('name:', stud1.name)\n",
    "print('grade:', stud1.grade)\n",
    "print(stud1.msg)\n",
    "\n"
   ]
  },
  {
   "cell_type": "code",
   "execution_count": null,
   "id": "c3940ce7",
   "metadata": {},
   "outputs": [],
   "source": [
    "class Student:\n",
    "    \n",
    "    def __init__(self, name, grade):\n",
    "        self.name = name\n",
    "        self.grade = grade\n",
    "    \n",
    "    @property\n",
    "    def msg(self):\n",
    "        return self.name + 'got grade' + self.grade\n",
    "    @msg.setter  \n",
    "    def msg (self,msg):\n",
    "        sent = msg.split(' ')\n",
    "        print(sent)\n",
    "        self.name = sent[0]\n",
    "        self.grade = sent[-1]\n",
    "        \n",
    "stud1 = Student('nia', 'B')\n",
    "\n",
    "stud1.msg= 'prasanthi got grade A'\n",
    "\n",
    "print('name:', stud1.name)\n",
    "print('grade:', stud1.grade)\n",
    "print(stud1.msg)\n",
    "\n"
   ]
  },
  {
   "cell_type": "code",
   "execution_count": null,
   "id": "a1f97696",
   "metadata": {},
   "outputs": [],
   "source": [
    "class student:\n",
    "    def __init__(self, total):\n",
    "        self._total = total\n",
    " \n",
    "    def average(self):\n",
    "        return self._total / 5.0\n",
    " \n",
    "    @property\n",
    "    def total(self):\n",
    "        return self._total\n",
    " \n",
    "    @total.setter\n",
    "    def total(self, t):\n",
    "        if t < 0 or t > 500:\n",
    "            print(\"Invalid Total and can't Change\")\n",
    "        else:\n",
    "            self._total = t\n",
    " \n",
    " \n",
    "obj = student(450)\n",
    "print(\"Total   : \", obj.total)\n",
    "print(\"Average : \", obj.average())\n",
    "obj.total = 550\n",
    "print(\"Total   : \", obj.total)\n",
    "print(\"Average : \", obj.average())"
   ]
  },
  {
   "cell_type": "code",
   "execution_count": null,
   "id": "6c8d4922",
   "metadata": {},
   "outputs": [],
   "source": [
    "class Person(object):\n",
    "    def __init__(self, first_name, last_name):\n",
    "        self.first_name = first_name\n",
    "        self.last_name = last_name\n",
    "\n",
    "    @property\n",
    "    def full_name(self):\n",
    "        return self.first_name + ' ' + self.last_name\n",
    "\n",
    "    @full_name.setter\n",
    "    def full_name(self, value):\n",
    "        first_name, last_name = value.split(' ')\n",
    "        self.first_name = first_name\n",
    "        self.last_name = last_name\n"
   ]
  },
  {
   "cell_type": "code",
   "execution_count": null,
   "id": "f0564a18",
   "metadata": {},
   "outputs": [],
   "source": [
    "class Student:\n",
    "    def __init__(self, name, marks):\n",
    "        self.name = name\n",
    "        self.marks = marks\n",
    "        \n",
    "\n",
    "    @property\n",
    "    def gotmarks(self):\n",
    "        return self.name + ' obtained ' + self.marks + ' marks'\n",
    "\n",
    "    @gotmarks.setter\n",
    "    def gotmarks(self, sentence):\n",
    "        name, rand, marks = sentence.split(' ')\n",
    "        self.name = name\n",
    "        self.marks = marks\n",
    "\n",
    "\n",
    "st = Student(\"Jaki\", \"25\")\n",
    "print(st.name)\n",
    "print(st.marks)\n",
    "print(st.gotmarks)\n",
    "\n"
   ]
  },
  {
   "cell_type": "code",
   "execution_count": null,
   "id": "886e28e4",
   "metadata": {},
   "outputs": [],
   "source": [
    "st.name = \"Anusha\"\n",
    "print(st.name)\n",
    "print(st.gotmarks)\n"
   ]
  },
  {
   "cell_type": "code",
   "execution_count": null,
   "id": "7be5d168",
   "metadata": {},
   "outputs": [],
   "source": [
    "st.gotmarks = 'Golam obtained 36'\n",
    "print(st.gotmarks)\n",
    "print(st.name)\n",
    "print(st.marks)"
   ]
  },
  {
   "cell_type": "code",
   "execution_count": null,
   "id": "8d6f0fb6",
   "metadata": {},
   "outputs": [],
   "source": [
    "class Alphabet:\n",
    "    def __init__(self, value):\n",
    "        self._value = value\n",
    "        \n",
    "    @property\n",
    "    def value(self):\n",
    "        print('Getting value')\n",
    "        return self._value\n",
    "    @value.setter\n",
    "    def value(self, value):\n",
    "        print('setting value to' + value)\n",
    "        self._value = value\n",
    "        \n",
    "    @value.deleter\n",
    "    def value(self):\n",
    "        print('Deleting value')\n",
    "        del self._value\n",
    "        \n",
    "x = Alphabet('peter')\n",
    "print(x.value)\n",
    "\n",
    "x.value = 'Diesel'\n",
    "        \n",
    "del x.value  "
   ]
  },
  {
   "cell_type": "code",
   "execution_count": null,
   "id": "937246e3",
   "metadata": {},
   "outputs": [],
   "source": [
    "class Person:\n",
    "    \n",
    "    def __init__(self, value):\n",
    "        self.hidden_name = value\n",
    "        \n",
    "    def get_name(self):\n",
    "        print('Getting name:')\n",
    "        return self.hidden_name\n",
    "    \n",
    "    def set_name(self, value):\n",
    "        print('Setting name to', value)\n",
    "        self.hidden_name = value\n",
    "        \n",
    "obj = Person('bob')\n",
    "obj.hidden_name\n",
    "print(obj.hidden_name)"
   ]
  },
  {
   "cell_type": "code",
   "execution_count": null,
   "id": "f964d840",
   "metadata": {},
   "outputs": [],
   "source": [
    "class Developer:\n",
    "    \n",
    "    def __init__(self, name, age, salary, companyname):\n",
    "        self.name = name\n",
    "        self.age = age\n",
    "        self.salary = salary\n",
    "        self. companyname = companyname\n",
    "        \n",
    "    @property\n",
    "    def company(self):\n",
    "        return self.companyname\n",
    "    \n",
    "    @company.setter\n",
    "    def company(self, companyname):\n",
    "        self.companyname = companyname\n",
    "        \n",
    "obj = Developer('Ajay', 28, 70000, 'Getter&Setter')\n",
    "print(obj.company)"
   ]
  },
  {
   "cell_type": "code",
   "execution_count": null,
   "id": "fdebf734",
   "metadata": {},
   "outputs": [],
   "source": [
    "obj.company = 'property'\n",
    "print(obj.company)"
   ]
  },
  {
   "cell_type": "code",
   "execution_count": null,
   "id": "0841b572",
   "metadata": {},
   "outputs": [],
   "source": [
    "class Employee:\n",
    "    \n",
    "    def __init__(self, first, last, fee):\n",
    "        self.first = first\n",
    "        self.last = last\n",
    "        self.fee = fee\n",
    "        \n",
    "    def email(self):\n",
    "    \n",
    "        return  f'{self.first} .{last} @gmail.com'\n",
    "        \n",
    "    def fullname(self):\n",
    "        return f'{self.first.upper()} {self.last}'\n"
   ]
  },
  {
   "cell_type": "code",
   "execution_count": null,
   "id": "f8db1d8a",
   "metadata": {},
   "outputs": [],
   "source": [
    "    def decorator_fun(func):\n",
    "        print(\"Inside decorator\")\n",
    "\n",
    "    def inner(*args, **kwargs):\n",
    "        print(\"Inside inner function\")\n",
    "        print(\"Decorated the function\")\n",
    "        func()\n",
    "    \n",
    "\n",
    "\n",
    "\n",
    "    def func_to():\n",
    "        print(\"Inside actual function\")\n",
    "\n",
    "\n",
    "\n"
   ]
  },
  {
   "cell_type": "code",
   "execution_count": null,
   "id": "7db486ab",
   "metadata": {},
   "outputs": [],
   "source": []
  },
  {
   "cell_type": "code",
   "execution_count": null,
   "id": "6a561b0d",
   "metadata": {},
   "outputs": [],
   "source": [
    "    def decorator(*args, **kwargs):\n",
    "        print(\"Inside decorator\")\n",
    "    \n",
    "    def inner(func):\n",
    "\n",
    "        print(\"Inside inner function\")\n",
    "        print(\"I like\", kwargs['like'])\n",
    "\n",
    "        func()\n",
    "            \n",
    "\n",
    "    @decorator\n",
    "    def my_func():\n",
    "        print(\"Inside actual function\")\n"
   ]
  },
  {
   "cell_type": "code",
   "execution_count": null,
   "id": "a39c4cee",
   "metadata": {},
   "outputs": [],
   "source": [
    "def my_function():\n",
    "    print('I am a function.')\n",
    "    \n",
    "description = my_function\n",
    "\n",
    "print(description())\n"
   ]
  },
  {
   "cell_type": "code",
   "execution_count": null,
   "id": "c8e33bb6",
   "metadata": {},
   "outputs": [],
   "source": [
    "class Employee:\n",
    "    def __init__(self, salry = 10000):\n",
    "        self._salary = salary\n",
    "        \n",
    "details=Employee\n",
    "\n",
    "print(details)\n"
   ]
  },
  {
   "cell_type": "code",
   "execution_count": null,
   "id": "0e676f82",
   "metadata": {},
   "outputs": [],
   "source": [
    "class Employee:\n",
    "    def __init__(self, salry = 10000):\n",
    "        self._salary = salary\n",
    "        \n",
    "    def get_salary(self):\n",
    "        return self._salary\n",
    "    def set_salary(self, amount):\n",
    "        self._salary = amount\n",
    "        \n",
    "        \n",
    "details = Employee\n",
    "\n",
    "print(details.get_salary)\n",
    "\n",
    "details.set_salary\n",
    "print(details.set_salary)"
   ]
  },
  {
   "cell_type": "markdown",
   "id": "14b667b8",
   "metadata": {},
   "source": [
    "# Boolean"
   ]
  },
  {
   "cell_type": "code",
   "execution_count": null,
   "id": "b1542ffc",
   "metadata": {},
   "outputs": [],
   "source": [
    "a= True\n",
    "type(a)"
   ]
  },
  {
   "cell_type": "code",
   "execution_count": null,
   "id": "50e50ee8",
   "metadata": {},
   "outputs": [],
   "source": [
    "b = False\n",
    "type(b)"
   ]
  },
  {
   "cell_type": "code",
   "execution_count": null,
   "id": "2af30229",
   "metadata": {},
   "outputs": [],
   "source": [
    "x = 5\n",
    "y = 10\n",
    "print(bool(x==y))"
   ]
  },
  {
   "cell_type": "code",
   "execution_count": null,
   "id": "c40a6966",
   "metadata": {},
   "outputs": [],
   "source": [
    "a = 1\n",
    "b = 2\n",
    "c = 4\n",
    "\n",
    "if a>b or b<c:\n",
    "    print(True)\n",
    "    \n",
    "else:\n",
    "    print(False)\n",
    "    \n"
   ]
  },
  {
   "cell_type": "code",
   "execution_count": null,
   "id": "50fe3194",
   "metadata": {},
   "outputs": [],
   "source": [
    "if a or b or c:\n",
    "    print(\"Atlease one number has boolean value as True \")"
   ]
  },
  {
   "cell_type": "code",
   "execution_count": null,
   "id": "ab81c37a",
   "metadata": {},
   "outputs": [],
   "source": [
    "a = 0\n",
    "b = 1\n",
    "if a == 0:\n",
    "    print(True)\n",
    "    \n",
    "if a == b:\n",
    "    print(True)\n",
    "    \n",
    "if a != b:\n",
    "    print(True)"
   ]
  },
  {
   "cell_type": "code",
   "execution_count": null,
   "id": "8eb9bf5f",
   "metadata": {},
   "outputs": [],
   "source": [
    "# and Boolean\n",
    "\n",
    "a = 30\n",
    "b = 45\n",
    "\n",
    "if(a > 30 and b == 45):\n",
    "    print ('True')\n",
    "    \n",
    "else:\n",
    "    print('False')"
   ]
  },
  {
   "cell_type": "code",
   "execution_count": null,
   "id": "28dcd4e7",
   "metadata": {},
   "outputs": [],
   "source": [
    "a = 30\n",
    "b = 45\n",
    "\n",
    "if(a < 30 and b == 45):\n",
    "    print ('True')\n",
    "    \n",
    "else:\n",
    "    print('False')"
   ]
  },
  {
   "cell_type": "code",
   "execution_count": null,
   "id": "5cd5c37b",
   "metadata": {},
   "outputs": [],
   "source": [
    "a = 30\n",
    "b = 45\n",
    "\n",
    "if(a > 30 and b < 45):\n",
    "    print ('True')\n",
    "    \n",
    "else:\n",
    "    print('False')"
   ]
  },
  {
   "cell_type": "code",
   "execution_count": null,
   "id": "d67a5684",
   "metadata": {},
   "outputs": [],
   "source": [
    "# OR Boolean\n",
    "\n",
    "a = 25\n",
    "b = 30\n",
    "\n",
    "if(a > 30 or b < 45):\n",
    "    print ('True')\n",
    "    \n",
    "else:\n",
    "    print('False')"
   ]
  },
  {
   "cell_type": "code",
   "execution_count": null,
   "id": "849e59ef",
   "metadata": {},
   "outputs": [],
   "source": [
    "# OR Boolean\n",
    "\n",
    "a = 25\n",
    "b = 30\n",
    "\n",
    "if(a < 30 or b == 45):\n",
    "    print ('True')\n",
    "    \n",
    "else:\n",
    "    print('False')"
   ]
  },
  {
   "cell_type": "code",
   "execution_count": null,
   "id": "39f1e2ae",
   "metadata": {},
   "outputs": [],
   "source": [
    "# OR Boolean\n",
    "\n",
    "a = 25\n",
    "b = 30\n",
    "\n",
    "if(a < 30 or b < 45):\n",
    "    print ('True')\n",
    "    \n",
    "else:\n",
    "    print('False')"
   ]
  },
  {
   "cell_type": "code",
   "execution_count": null,
   "id": "b10521e5",
   "metadata": {},
   "outputs": [],
   "source": [
    "#not Boolean\n",
    "\n",
    "a = 2\n",
    "b = 2\n",
    "\n",
    "not(a>2)"
   ]
  },
  {
   "cell_type": "code",
   "execution_count": null,
   "id": "ee92af5a",
   "metadata": {},
   "outputs": [],
   "source": [
    "10>5\n",
    "not(5>10)"
   ]
  },
  {
   "cell_type": "code",
   "execution_count": null,
   "id": "678dbdb2",
   "metadata": {},
   "outputs": [],
   "source": [
    "a = 2\n",
    "b = 2\n",
    "\n",
    "if (not(a == b)):\n",
    "    print('If Executed')\n",
    "    \n",
    "else:\n",
    "    print('Else Executed')"
   ]
  },
  {
   "cell_type": "code",
   "execution_count": null,
   "id": "aa6057fc",
   "metadata": {},
   "outputs": [],
   "source": [
    "a = 50\n",
    "b = 25\n",
    "a>40 and b>40"
   ]
  },
  {
   "cell_type": "code",
   "execution_count": null,
   "id": "6e5bc358",
   "metadata": {},
   "outputs": [],
   "source": [
    "a>100 and b<50"
   ]
  },
  {
   "cell_type": "code",
   "execution_count": null,
   "id": "a195dcdb",
   "metadata": {},
   "outputs": [],
   "source": [
    "a>0 and b>0"
   ]
  },
  {
   "cell_type": "code",
   "execution_count": null,
   "id": "720921f0",
   "metadata": {},
   "outputs": [],
   "source": [
    "a=50\n",
    "b=25\n",
    "a>40 or b<50\n"
   ]
  },
  {
   "cell_type": "code",
   "execution_count": null,
   "id": "13523ef7",
   "metadata": {},
   "outputs": [],
   "source": [
    "a>100 or b<50"
   ]
  },
  {
   "cell_type": "code",
   "execution_count": null,
   "id": "bd8e6acc",
   "metadata": {},
   "outputs": [],
   "source": [
    "a==0 or b==0"
   ]
  },
  {
   "cell_type": "code",
   "execution_count": null,
   "id": "ce0d77ef",
   "metadata": {},
   "outputs": [],
   "source": [
    "a>0 or b>0"
   ]
  },
  {
   "cell_type": "code",
   "execution_count": null,
   "id": "ae46e11d",
   "metadata": {},
   "outputs": [],
   "source": [
    "a=10\n",
    "a>10"
   ]
  },
  {
   "cell_type": "code",
   "execution_count": null,
   "id": "02273c88",
   "metadata": {},
   "outputs": [],
   "source": [
    "not(a>10)"
   ]
  },
  {
   "cell_type": "code",
   "execution_count": null,
   "id": "2f10bb8a",
   "metadata": {},
   "outputs": [],
   "source": [
    "x = 5\n",
    "y = 10\n",
    "z = 11\n",
    "print((x > y) and (y > z))\n",
    "print((x > y) and (y < z))\n",
    "print((x < y) and (y > z))\n",
    "print((x < y) and (y < z))\n",
    "\n"
   ]
  },
  {
   "cell_type": "code",
   "execution_count": null,
   "id": "8e1a4476",
   "metadata": {},
   "outputs": [],
   "source": [
    "x = 5\n",
    "y = 10\n",
    "z = 11\n",
    "print((x > y) or (y > z))\n",
    "print((x > y) or (y < z))\n",
    "print((x < y) or (y > z))\n",
    "print((x < y) or (y < z))\n",
    "\n"
   ]
  },
  {
   "cell_type": "code",
   "execution_count": null,
   "id": "2c6ebb3f",
   "metadata": {},
   "outputs": [],
   "source": [
    "x = True\n",
    "y = False\n",
    "print(not x)\n",
    "print(not y)\n",
    "\n"
   ]
  },
  {
   "cell_type": "code",
   "execution_count": null,
   "id": "0ae4890e",
   "metadata": {},
   "outputs": [],
   "source": [
    "input()"
   ]
  },
  {
   "cell_type": "code",
   "execution_count": null,
   "id": "3e15eb69",
   "metadata": {},
   "outputs": [],
   "source": [
    "input('Please enter your name')\n"
   ]
  },
  {
   "cell_type": "code",
   "execution_count": null,
   "id": "b1e536e0",
   "metadata": {},
   "outputs": [],
   "source": [
    "print('Hello')"
   ]
  },
  {
   "cell_type": "code",
   "execution_count": null,
   "id": "5372f842",
   "metadata": {},
   "outputs": [],
   "source": [
    "var = 10\n",
    "print (var)"
   ]
  },
  {
   "cell_type": "code",
   "execution_count": null,
   "id": "8495a676",
   "metadata": {},
   "outputs": [],
   "source": [
    "name  = input('enter the name')\n",
    "print('Welcome')\n",
    "print('hello', name)"
   ]
  },
  {
   "cell_type": "code",
   "execution_count": null,
   "id": "4a3509b4",
   "metadata": {},
   "outputs": [],
   "source": [
    "print(\"\"\"Hello\n",
    "Welcome to my home Prasanthi\"\"\")"
   ]
  },
  {
   "cell_type": "code",
   "execution_count": null,
   "id": "451823da",
   "metadata": {},
   "outputs": [],
   "source": [
    "#sequential control\n",
    "\n",
    "print('hello')\n",
    "print('welcome')\n",
    "print('welcome to prasanthi')"
   ]
  },
  {
   "cell_type": "code",
   "execution_count": null,
   "id": "182a281b",
   "metadata": {},
   "outputs": [],
   "source": [
    "#selection control\n",
    "\n",
    "var=int(input('enter a interger value:'))\n",
    "\n",
    "if var < 10:\n",
    "    print('value is less than 10')\n",
    "    \n",
    "else:\n",
    "    print('value is greater than 10')\n",
    "    \n",
    "    "
   ]
  },
  {
   "cell_type": "code",
   "execution_count": null,
   "id": "a71338b8",
   "metadata": {},
   "outputs": [],
   "source": [
    "#Iterative control\n",
    "var = 1\n",
    "while var<10:\n",
    "    print(var)\n",
    "    var = var+1"
   ]
  },
  {
   "cell_type": "code",
   "execution_count": null,
   "id": "52ba786e",
   "metadata": {},
   "outputs": [],
   "source": [
    "#If-else condition:\n",
    "\n",
    "marks = int(input('Enter your marks in maths:'))\n",
    "\n",
    "if marks >= 35:\n",
    "    print('you got passing grades')\n",
    "    \n",
    "else:\n",
    "    print('sorry you got failing grade')\n",
    "\n",
    "    \n",
    "print('Thank you')"
   ]
  },
  {
   "cell_type": "code",
   "execution_count": null,
   "id": "c40c9d94",
   "metadata": {},
   "outputs": [],
   "source": [
    "#if staement\n",
    "\n",
    "marks=int(input('enter the marks:'))\n",
    "\n",
    "if marks == 100:\n",
    "    print('perfect score')\n",
    "    \n",
    "print('thankyou')\n"
   ]
  },
  {
   "cell_type": "code",
   "execution_count": null,
   "id": "e589a9d5",
   "metadata": {},
   "outputs": [],
   "source": [
    "# If the number is positive, we print an appropriate message\n",
    "\n",
    "num = 3\n",
    "if num > 0:\n",
    "    print(num, \"is a positive number.\")\n",
    "print(\"This is always printed.\")\n",
    "\n",
    "num = -1\n",
    "if num > 0:\n",
    "    print(num, \"is a positive number.\")\n",
    "print(\"This is also always printed.\")"
   ]
  },
  {
   "cell_type": "code",
   "execution_count": null,
   "id": "67497505",
   "metadata": {},
   "outputs": [],
   "source": [
    "age = int(input(\"Enter your age: \")) \n",
    "if age >= 18: \n",
    "    print(\"You are eligible to vote!\")"
   ]
  },
  {
   "cell_type": "code",
   "execution_count": null,
   "id": "db9f10b3",
   "metadata": {},
   "outputs": [],
   "source": [
    "i = 10\n",
    "  \n",
    "if (i > 15):\n",
    "    print(\"10 is less than 15\")\n",
    "print(\"I am Not in if\")"
   ]
  },
  {
   "cell_type": "code",
   "execution_count": null,
   "id": "b7ac4865",
   "metadata": {},
   "outputs": [],
   "source": [
    "a=60\n",
    "if a>50:\n",
    "    print('This is the if body')\n",
    "    \n",
    "print('this is outside the if block')"
   ]
  },
  {
   "cell_type": "code",
   "execution_count": null,
   "id": "8ed87a8c",
   "metadata": {},
   "outputs": [],
   "source": [
    "i=10\n",
    "if i<15:\n",
    "    print('i is less than 15')"
   ]
  },
  {
   "cell_type": "code",
   "execution_count": null,
   "id": "726d5b29",
   "metadata": {},
   "outputs": [],
   "source": [
    "#nested if\n",
    "\n",
    "name = 'Prasanthi'\n",
    "clg = 'xyz'\n",
    "marks = 56\n",
    "\n",
    "if clg == 'xyz':\n",
    "    if name == 'prasanthi':\n",
    "        print('prasanthi of xyz college got:',marks, 'marks')"
   ]
  },
  {
   "cell_type": "code",
   "execution_count": null,
   "id": "ed7e750a",
   "metadata": {},
   "outputs": [],
   "source": [
    "i = 10\n",
    "\n",
    "if (i == 10):\n",
    "    if (i < 15):\n",
    "        print('i is smaller than 15')\n",
    "        \n",
    "    if (i < 12):\n",
    "        print('i is smaller than 12 too')\n",
    "    \n",
    "    else:\n",
    "        print('i is greater than 15')"
   ]
  },
  {
   "cell_type": "code",
   "execution_count": null,
   "id": "121f317a",
   "metadata": {},
   "outputs": [],
   "source": [
    "i =20\n",
    "if i%2==0:\n",
    "    print('This is the if block')\n",
    "    print('i is an even number')\n",
    "    \n",
    "else:\n",
    "    print('This is the else block')\n",
    "    print('i is an odd number')"
   ]
  },
  {
   "cell_type": "code",
   "execution_count": null,
   "id": "b5edd2d0",
   "metadata": {},
   "outputs": [],
   "source": [
    "i =23\n",
    "if i%2==0:\n",
    "    print('This is the if block')\n",
    "    print('i is an even number')\n",
    "    \n",
    "else:\n",
    "    print('This is the else block')\n",
    "    print('i is an odd number')"
   ]
  },
  {
   "cell_type": "code",
   "execution_count": null,
   "id": "3e94db0a",
   "metadata": {},
   "outputs": [],
   "source": [
    "num = float(input('Enter a number:'))\n",
    "\n",
    "if num >=0:\n",
    "    if num == 0:\n",
    "        print('Zero')\n",
    "    else:\n",
    "        print('Positive')\n",
    "        \n",
    "else:\n",
    "    print('Negative')"
   ]
  },
  {
   "cell_type": "code",
   "execution_count": null,
   "id": "e677285b",
   "metadata": {},
   "outputs": [],
   "source": [
    "price = 120\n",
    "\n",
    "if price >= 100:\n",
    "    print('Price is greater than 100')\n",
    "    \n",
    "else:\n",
    "    print('price is less than 100')"
   ]
  },
  {
   "cell_type": "code",
   "execution_count": null,
   "id": "03ae39c1",
   "metadata": {},
   "outputs": [],
   "source": [
    "x = 20\n",
    "y = 45\n",
    "z = 23\n",
    "\n",
    "if x>y and x>z:\n",
    "    print('x is greater')\n",
    "    \n",
    "elif z>y:\n",
    "    print('z is greater')\n",
    "    \n",
    "else:\n",
    "    print('y is greater')"
   ]
  },
  {
   "cell_type": "code",
   "execution_count": null,
   "id": "92e35c7d",
   "metadata": {},
   "outputs": [],
   "source": [
    "a = 10\n",
    "b = 10\n",
    "\n",
    "if a<b:\n",
    "    print('a is greter than b')\n",
    "    \n",
    "elif a == b:\n",
    "    print('a and b are equal')\n",
    "else:\n",
    "    print('b is greater than a')"
   ]
  },
  {
   "cell_type": "code",
   "execution_count": null,
   "id": "a0c40302",
   "metadata": {},
   "outputs": [],
   "source": [
    "a = int(input('Enter the a value'))\n",
    "\n",
    "if a> 100:\n",
    "    print('Above 100')\n",
    "    if a > 1000:\n",
    "        print('and also above 1000')"
   ]
  },
  {
   "cell_type": "code",
   "execution_count": null,
   "id": "fd2cbf1c",
   "metadata": {},
   "outputs": [],
   "source": [
    "a = int(input('Enter the a value'))\n",
    "\n",
    "if a> 100:\n",
    "    print('Above 100')\n",
    "    if a > 1000:\n",
    "        print('and also above 1000')\n",
    "    else:\n",
    "        print('and also below 1000')"
   ]
  },
  {
   "cell_type": "code",
   "execution_count": null,
   "id": "9908bea0",
   "metadata": {},
   "outputs": [],
   "source": [
    "a = int(input('Enter the a value'))\n",
    "\n",
    "if a> 100:\n",
    "    print('Above 100')\n",
    "    if a > 1000:\n",
    "        print('and also above 1000')\n",
    "    else:\n",
    "        print('and also below 1000')\n",
    "else:\n",
    "    print('below 100')"
   ]
  },
  {
   "cell_type": "code",
   "execution_count": null,
   "id": "3e1230b5",
   "metadata": {},
   "outputs": [],
   "source": [
    "var = 150\n",
    "if var == 200:\n",
    "    print (\"1 - Got a true expression value\")\n",
    "elif var == 150:\n",
    "    print (\" 2- Got a true expression value\")\n",
    "    \n",
    "elif var == 100:\n",
    "    print (\"3 - Got a true expression value\")\n",
    "    \n",
    "else:\n",
    "    print('4 - Got a true expression value')\n",
    "    \n",
    "print('Goodbye!')\n",
    "    "
   ]
  },
  {
   "cell_type": "code",
   "execution_count": null,
   "id": "ef094a60",
   "metadata": {},
   "outputs": [],
   "source": [
    "number = 0\n",
    "\n",
    "for number in range(10):\n",
    "    number = number+1\n",
    "    \n",
    "    if number == 5:\n",
    "        break \n",
    "        \n",
    "    print('Number is' + str(number))\n",
    "    \n",
    "print('Out of loop')"
   ]
  },
  {
   "cell_type": "code",
   "execution_count": null,
   "id": "d99b29f8",
   "metadata": {},
   "outputs": [],
   "source": [
    "number = 0\n",
    "\n",
    "for number in range(10):\n",
    "    number = number+1\n",
    "    \n",
    "    if number == 5:\n",
    "        continue \n",
    "        \n",
    "    print('Number is' + str(number))\n",
    "    \n",
    "print('Out of loop')"
   ]
  },
  {
   "cell_type": "code",
   "execution_count": null,
   "id": "24244b4e",
   "metadata": {},
   "outputs": [],
   "source": [
    "for letter in 'Python':\n",
    "    print('character is', letter)"
   ]
  },
  {
   "cell_type": "code",
   "execution_count": null,
   "id": "9c8ddad5",
   "metadata": {},
   "outputs": [],
   "source": [
    "for letter in [10, 20, 30, 40, 50]:\n",
    "    print(letter)"
   ]
  },
  {
   "cell_type": "code",
   "execution_count": null,
   "id": "f4cdc34d",
   "metadata": {},
   "outputs": [],
   "source": [
    "for letter in [10, 20, 30, 40, 50]:\n",
    "    if letter >=25:\n",
    "        print(letter, 'greater than 25')\n",
    "        \n",
    "    else:\n",
    "        print(letter, 'less than 25')"
   ]
  },
  {
   "cell_type": "code",
   "execution_count": null,
   "id": "2822d7ed",
   "metadata": {},
   "outputs": [],
   "source": [
    "# while loop\n",
    "\n",
    "count = 1\n",
    "\n",
    "while count <=5:\n",
    "    print(count)\n",
    "    count=count+1\n",
    "    \n",
    "print('good bye')"
   ]
  },
  {
   "cell_type": "code",
   "execution_count": null,
   "id": "be58cfb5",
   "metadata": {},
   "outputs": [],
   "source": [
    "n = 10\n",
    "sum =0\n",
    "i=1\n",
    "\n",
    "while i <=n:\n",
    "    sum =sum + i\n",
    "    i = i+1\n",
    "    \n",
    "print('The sum is', sum)"
   ]
  },
  {
   "cell_type": "code",
   "execution_count": null,
   "id": "87e28a25",
   "metadata": {},
   "outputs": [],
   "source": [
    "i = 1\n",
    "while i < 6:\n",
    "    print(i)\n",
    "    \n",
    "    i+=1\n",
    "    "
   ]
  },
  {
   "cell_type": "code",
   "execution_count": null,
   "id": "cc7b71cc",
   "metadata": {},
   "outputs": [],
   "source": [
    "i = 1\n",
    "while i < 6:\n",
    "    print(i)\n",
    "    if i == 3:\n",
    "        break\n",
    "    i+=1\n",
    "    "
   ]
  },
  {
   "cell_type": "code",
   "execution_count": null,
   "id": "be0f0fd4",
   "metadata": {},
   "outputs": [],
   "source": [
    "#Break statement\n",
    "\n",
    "count=0\n",
    "while count <= 5:\n",
    "    if count == 3:\n",
    "        break\n",
    "        \n",
    "    else:\n",
    "        print(count)\n",
    "        \n",
    "    count = count+1\n",
    "    \n",
    "print('Thank you')"
   ]
  },
  {
   "cell_type": "code",
   "execution_count": null,
   "id": "d50c7391",
   "metadata": {},
   "outputs": [],
   "source": [
    "for letter in 'Prasanthi':\n",
    "    if letter == 't':\n",
    "        break\n",
    "        \n",
    "    else:\n",
    "        print(letter)\n",
    "        \n",
    "print('Thank you')"
   ]
  },
  {
   "cell_type": "code",
   "execution_count": null,
   "id": "9fbf5f41",
   "metadata": {},
   "outputs": [],
   "source": [
    "for letter in 'Prasanthi':\n",
    "    if letter == 'a':\n",
    "        continue\n",
    "        \n",
    "    else:\n",
    "        print(letter)\n",
    "        \n",
    "print('Thank you')"
   ]
  },
  {
   "cell_type": "code",
   "execution_count": null,
   "id": "b87cafe5",
   "metadata": {},
   "outputs": [],
   "source": [
    "var =10\n",
    "while var > 0:\n",
    "    var =var -1\n",
    "    if var == 3:\n",
    "        continue\n",
    "        \n",
    "    print(var)\n",
    "print('Thank you')"
   ]
  },
  {
   "cell_type": "code",
   "execution_count": null,
   "id": "055858ba",
   "metadata": {},
   "outputs": [],
   "source": [
    "#list\n",
    "animals = []\n",
    "animals"
   ]
  },
  {
   "cell_type": "code",
   "execution_count": null,
   "id": "4f0b07ea",
   "metadata": {},
   "outputs": [],
   "source": [
    "animals = ['dog', 'cat', 'rat']\n",
    "animals"
   ]
  },
  {
   "cell_type": "code",
   "execution_count": null,
   "id": "3fd9ce27",
   "metadata": {},
   "outputs": [],
   "source": [
    "animals[0]"
   ]
  },
  {
   "cell_type": "code",
   "execution_count": null,
   "id": "30d175f7",
   "metadata": {},
   "outputs": [],
   "source": [
    "animals[3]"
   ]
  },
  {
   "cell_type": "code",
   "execution_count": null,
   "id": "0a944c64",
   "metadata": {},
   "outputs": [],
   "source": [
    "list1 = [10, 20.4, ' hello', 54]\n",
    "print(list1)"
   ]
  },
  {
   "cell_type": "code",
   "execution_count": null,
   "id": "a6ad8070",
   "metadata": {},
   "outputs": [],
   "source": [
    "thislist = [\"apple\", \"banana\", \"cherry\"]\n",
    "print(thislist)"
   ]
  },
  {
   "cell_type": "code",
   "execution_count": null,
   "id": "bb3dfe0f",
   "metadata": {},
   "outputs": [],
   "source": [
    "thislist = [\"apple\", \"banana\", \"cherry\", \"apple\", \"cherry\"]\n",
    "print(thislist)"
   ]
  },
  {
   "cell_type": "code",
   "execution_count": null,
   "id": "200c717a",
   "metadata": {},
   "outputs": [],
   "source": [
    "thislist = [\"apple\", \"banana\", \"cherry\"]\n",
    "print(len(thislist))"
   ]
  },
  {
   "cell_type": "code",
   "execution_count": null,
   "id": "77d7effa",
   "metadata": {},
   "outputs": [],
   "source": [
    "list1 = [\"apple\", \"banana\", \"cherry\"]\n",
    "list2 = [1, 5, 7, 9, 3]\n",
    "list3 = [True, False, False]\n",
    "\n",
    "print(list1)\n",
    "print(list2)\n",
    "print(list3)\n"
   ]
  },
  {
   "cell_type": "code",
   "execution_count": null,
   "id": "827f0d6c",
   "metadata": {},
   "outputs": [],
   "source": [
    "list1 = [\"abc\", 34, True, 40, \"male\"]\n",
    "print(list1)"
   ]
  },
  {
   "cell_type": "code",
   "execution_count": null,
   "id": "956bd8ee",
   "metadata": {},
   "outputs": [],
   "source": [
    "mylist = ['apple', 'banana', 'cherry']\n",
    "print(type(mylist))"
   ]
  },
  {
   "cell_type": "code",
   "execution_count": null,
   "id": "c29bac61",
   "metadata": {},
   "outputs": [],
   "source": [
    "thislist = list((\"apple\", \"banana\", \"cherry\"))\n",
    "print(thislist)"
   ]
  },
  {
   "cell_type": "code",
   "execution_count": null,
   "id": "2b29b03a",
   "metadata": {},
   "outputs": [],
   "source": [
    "thislist = [\"apple\", \"banana\", \"cherry\"]\n",
    "print(thislist[-1])"
   ]
  },
  {
   "cell_type": "code",
   "execution_count": null,
   "id": "4e3f636c",
   "metadata": {},
   "outputs": [],
   "source": [
    "thislist = [\"apple\", \"banana\", \"cherry\", \"orange\", \"kiwi\", \"melon\", \"mango\"]\n",
    "print(thislist[2:5])"
   ]
  },
  {
   "cell_type": "code",
   "execution_count": null,
   "id": "bd4a2d2f",
   "metadata": {},
   "outputs": [],
   "source": [
    "thislist = [\"apple\", \"banana\", \"cherry\"]\n",
    "if \"apple\" in thislist:\n",
    "      print(\"Yes, 'apple' is in the fruits list\")"
   ]
  },
  {
   "cell_type": "code",
   "execution_count": null,
   "id": "a61f0b35",
   "metadata": {},
   "outputs": [],
   "source": [
    "thislist = [\"apple\", \"banana\", \"cherry\"]\n",
    "thislist[1] = \"blackcurrant\"\n",
    "print(thislist)"
   ]
  },
  {
   "cell_type": "code",
   "execution_count": null,
   "id": "0e9447fa",
   "metadata": {},
   "outputs": [],
   "source": [
    "#append\n",
    "\n",
    "thislist = ['apple', 'banana', 'cherry']\n",
    "thislist.append('orange')\n",
    "print(thislist)"
   ]
  },
  {
   "cell_type": "code",
   "execution_count": null,
   "id": "9e3b04a6",
   "metadata": {},
   "outputs": [],
   "source": [
    "#insert an item second position:\n",
    "\n",
    "thislist = ['apple', 'banana', 'cherry']\n",
    "thislist.insert(1, 'orange')\n",
    "print(thislist)"
   ]
  },
  {
   "cell_type": "code",
   "execution_count": null,
   "id": "a7fe59b4",
   "metadata": {},
   "outputs": [],
   "source": [
    "#Remove the item\n",
    "\n",
    "thislist = ['apple', 'banana', 'cherry']\n",
    "thislist.remove('banana')\n",
    "print(thislist)"
   ]
  },
  {
   "cell_type": "code",
   "execution_count": null,
   "id": "2bb970e2",
   "metadata": {},
   "outputs": [],
   "source": [
    "#Tuple\n",
    "my_tuple = ()\n",
    "print(my_tuple)"
   ]
  },
  {
   "cell_type": "code",
   "execution_count": null,
   "id": "509df59a",
   "metadata": {},
   "outputs": [],
   "source": [
    "my_tuple = (1, 2, 3)\n",
    "print(my_tuple)"
   ]
  },
  {
   "cell_type": "code",
   "execution_count": null,
   "id": "639bdbf2",
   "metadata": {},
   "outputs": [],
   "source": [
    "my_tuple = (1, \"Hello\", 3.4)\n",
    "print(my_tuple)"
   ]
  },
  {
   "cell_type": "code",
   "execution_count": null,
   "id": "69b9c797",
   "metadata": {},
   "outputs": [],
   "source": [
    "my_tuple = (\"mouse\", [8, 4, 6], (1, 2, 3))\n",
    "print(my_tuple)"
   ]
  },
  {
   "cell_type": "code",
   "execution_count": null,
   "id": "908b50ad",
   "metadata": {},
   "outputs": [],
   "source": [
    "my_tuple = 3, 4.6, \"dog\"\n",
    "print(my_tuple)"
   ]
  },
  {
   "cell_type": "code",
   "execution_count": null,
   "id": "08a78e09",
   "metadata": {},
   "outputs": [],
   "source": [
    "x = ('python',)*3\n",
    "print(x)"
   ]
  },
  {
   "cell_type": "code",
   "execution_count": null,
   "id": "35500c61",
   "metadata": {},
   "outputs": [],
   "source": [
    "x = (0, 1, 2, 3)\n",
    "x[0]=4\n",
    "print(x)"
   ]
  },
  {
   "cell_type": "code",
   "execution_count": null,
   "id": "da81d594",
   "metadata": {},
   "outputs": [],
   "source": [
    "x = (1, 2, 3, 4, 5)\n",
    "print(x[1])"
   ]
  },
  {
   "cell_type": "code",
   "execution_count": null,
   "id": "c1703175",
   "metadata": {},
   "outputs": [],
   "source": [
    "x = ('apple', 'banana', 'grapes')\n",
    "y = list(x)\n",
    "y.append('pineapple')\n",
    "x = tuple(y)\n",
    "print(x)"
   ]
  },
  {
   "cell_type": "code",
   "execution_count": null,
   "id": "48381fa6",
   "metadata": {},
   "outputs": [],
   "source": [
    "a = ('laptop', 'phone', 'tv', 'ac')\n",
    "y = ('system',)\n",
    "a +=y\n",
    "\n",
    "\n",
    "print(a)"
   ]
  },
  {
   "cell_type": "code",
   "execution_count": null,
   "id": "ded7f116",
   "metadata": {},
   "outputs": [],
   "source": [
    "my_data = (1, [9, 8, 7], \"World\")\n",
    "print(my_data)\n"
   ]
  },
  {
   "cell_type": "code",
   "execution_count": null,
   "id": "85887f6a",
   "metadata": {},
   "outputs": [],
   "source": [
    "my_data[1][2] = 99\n",
    "print(my_data)"
   ]
  },
  {
   "cell_type": "code",
   "execution_count": null,
   "id": "41461766",
   "metadata": {},
   "outputs": [],
   "source": [
    "my_data = (\"Apple\", \"Orange\", \"Grapes\", \"Banana\")\n",
    "for fruit in my_data:\n",
    "     print(fruit)"
   ]
  },
  {
   "cell_type": "code",
   "execution_count": null,
   "id": "d2122b7f",
   "metadata": {},
   "outputs": [],
   "source": [
    "a = [10, 2, 3, 4.5, 3.9, 45]\n",
    "b = a\n",
    "b"
   ]
  },
  {
   "cell_type": "code",
   "execution_count": null,
   "id": "82813e4d",
   "metadata": {},
   "outputs": [],
   "source": [
    "a [0] = 'apple'\n",
    "a"
   ]
  },
  {
   "cell_type": "code",
   "execution_count": null,
   "id": "b4146d7c",
   "metadata": {},
   "outputs": [],
   "source": [
    "b"
   ]
  },
  {
   "cell_type": "code",
   "execution_count": null,
   "id": "2025eac2",
   "metadata": {},
   "outputs": [],
   "source": [
    "#range function\n",
    "\n",
    "for x in range (1,11):\n",
    "    print(x)"
   ]
  },
  {
   "cell_type": "code",
   "execution_count": null,
   "id": "00702232",
   "metadata": {},
   "outputs": [],
   "source": [
    "for x in [1,2,3,4]:\n",
    "    print(x)"
   ]
  },
  {
   "cell_type": "code",
   "execution_count": null,
   "id": "e9fd6133",
   "metadata": {},
   "outputs": [],
   "source": [
    "#function\n",
    "\n",
    "def avg(n1,n2,n3):\n",
    "    return(n1+n2+n3)/3.0\n",
    "print('Welcome')\n",
    "result1 = avg(10,20,30)\n"
   ]
  },
  {
   "cell_type": "code",
   "execution_count": null,
   "id": "9a2f6c14",
   "metadata": {},
   "outputs": [],
   "source": [
    "def display():\n",
    "    print('Welcome')\n",
    "    print('have a nice day')\n",
    "    \n",
    "display()"
   ]
  },
  {
   "cell_type": "code",
   "execution_count": null,
   "id": "e11106f6",
   "metadata": {},
   "outputs": [],
   "source": [
    "def my_function():\n",
    "    print('Hello from a function')\n",
    "    "
   ]
  },
  {
   "cell_type": "code",
   "execution_count": null,
   "id": "52fbe45d",
   "metadata": {},
   "outputs": [],
   "source": [
    "my_function()"
   ]
  },
  {
   "cell_type": "code",
   "execution_count": null,
   "id": "8d139e17",
   "metadata": {},
   "outputs": [],
   "source": [
    "def fun():\n",
    "    print('I am learning python function')"
   ]
  },
  {
   "cell_type": "code",
   "execution_count": null,
   "id": "cd41d330",
   "metadata": {},
   "outputs": [],
   "source": [
    "fun()"
   ]
  },
  {
   "cell_type": "code",
   "execution_count": null,
   "id": "89c04a64",
   "metadata": {},
   "outputs": [],
   "source": [
    "def square(x):\n",
    "    print(x*x)\n",
    "    \n"
   ]
  },
  {
   "cell_type": "code",
   "execution_count": null,
   "id": "0b6a8005",
   "metadata": {},
   "outputs": [],
   "source": [
    "print(square(4))"
   ]
  },
  {
   "cell_type": "code",
   "execution_count": null,
   "id": "c3b2d2b5",
   "metadata": {},
   "outputs": [],
   "source": [
    "def my_func():\n",
    "    print(\"Hello! Hope you're doing well\")\n",
    "          \n",
    "my_func()"
   ]
  },
  {
   "cell_type": "code",
   "execution_count": null,
   "id": "7ab64511",
   "metadata": {},
   "outputs": [],
   "source": [
    "def add(num1: int, num2: int):\n",
    "    num3 = num1 + num2\n",
    "    return num3"
   ]
  },
  {
   "cell_type": "code",
   "execution_count": null,
   "id": "a55e1083",
   "metadata": {},
   "outputs": [],
   "source": [
    "num1, num2 = 5, 15\n",
    "ans = add(num1, num2)"
   ]
  },
  {
   "cell_type": "code",
   "execution_count": null,
   "id": "7ed75139",
   "metadata": {},
   "outputs": [],
   "source": [
    "print(f'The addition of {num1} and {num2} results {ans}.')"
   ]
  },
  {
   "cell_type": "code",
   "execution_count": null,
   "id": "3c5ceaf5",
   "metadata": {},
   "outputs": [],
   "source": [
    "def evenOdd(x):\n",
    "    if (x % 2 == 0):\n",
    "        print ('even')\n",
    "    else:\n",
    "        print ('odd')\n",
    "        \n",
    "evenOdd(2)\n",
    "evenOdd(875)"
   ]
  },
  {
   "cell_type": "code",
   "execution_count": null,
   "id": "b1c549e7",
   "metadata": {},
   "outputs": [],
   "source": [
    "def printinfo(name, age):\n",
    "    'This prints a passed info into this function'\n",
    "    \n",
    "    print ('Name:', name)\n",
    "    print ('Age', age)\n",
    "    return\n",
    "printinfo(age=50, name = 'miki')"
   ]
  },
  {
   "cell_type": "code",
   "execution_count": null,
   "id": "44b4c691",
   "metadata": {},
   "outputs": [],
   "source": [
    "def average (n1, n2,n3=5):\n",
    "    return (n1+n2+n3)/3.0\n",
    "\n",
    "print('Welcome')\n",
    "\n",
    "num1 = int(input())\n",
    "num2 = int(input())\n",
    "num3 = int(input())\n",
    "\n",
    "result = average(num1,num2,num3)\n",
    "print(result)"
   ]
  },
  {
   "cell_type": "code",
   "execution_count": null,
   "id": "3e9838bb",
   "metadata": {},
   "outputs": [],
   "source": [
    "def hello_world():\n",
    "    print('Hello world')\n",
    "    \n",
    "hello_world()"
   ]
  },
  {
   "cell_type": "code",
   "execution_count": null,
   "id": "a75217dc",
   "metadata": {},
   "outputs": [],
   "source": [
    "def sum():\n",
    "    a = 10\n",
    "    b = 20\n",
    "    c = a+b\n",
    "    return c\n",
    "\n",
    "print('The sum is:', sum())"
   ]
  },
  {
   "cell_type": "code",
   "execution_count": null,
   "id": "01a32be4",
   "metadata": {},
   "outputs": [],
   "source": [
    "def func (name):\n",
    "    print('Hi', name)\n",
    "    \n",
    "func('Devansh')"
   ]
  },
  {
   "cell_type": "code",
   "execution_count": null,
   "id": "e1cd20af",
   "metadata": {},
   "outputs": [],
   "source": [
    "def sum (a,b):\n",
    "    return a + b\n",
    "\n",
    "a = int(input('Enter a:'))\n",
    "b = int(input('Enter b:'))\n",
    "\n",
    "print('sum =', sum(a,b))"
   ]
  },
  {
   "cell_type": "code",
   "execution_count": null,
   "id": "dce317db",
   "metadata": {},
   "outputs": [],
   "source": [
    "def change_list(list1):\n",
    "    list1.append(20)\n",
    "    list1.append(30)\n",
    "    print('list inside function = ', list1)\n",
    "    \n",
    "    "
   ]
  },
  {
   "cell_type": "code",
   "execution_count": null,
   "id": "48dfa896",
   "metadata": {},
   "outputs": [],
   "source": [
    "list1 = [10, 30, 40, 50]\n",
    "\n",
    "change_list(list1)\n",
    "print('list outside function =', list1)"
   ]
  },
  {
   "cell_type": "code",
   "execution_count": null,
   "id": "ecb8d889",
   "metadata": {},
   "outputs": [],
   "source": [
    "def fun(name):\n",
    "    message = 'Hi' +name\n",
    "    return message\n",
    "name = input('Enter the name:')\n",
    "print(func(name))"
   ]
  },
  {
   "cell_type": "code",
   "execution_count": null,
   "id": "f5d76e00",
   "metadata": {},
   "outputs": [],
   "source": [
    "#Keywords:\n",
    "#and\n",
    "check_value = 5\n",
    "if check_value > 1 and check_value < 10:       \n",
    "    print(\"Hello World!\\n\")\n",
    "else:\n",
    "    print(\"Nothing to print\")"
   ]
  },
  {
   "cell_type": "code",
   "execution_count": null,
   "id": "7d193007",
   "metadata": {},
   "outputs": [],
   "source": [
    "#or\n",
    "check_value = 5\n",
    "if check_value > 1 and check_value < 10:       \n",
    "    print(\"Hello World!\\n\")\n",
    "else:\n",
    "    print(\"Nothing to print\")"
   ]
  },
  {
   "cell_type": "code",
   "execution_count": null,
   "id": "6c7427ec",
   "metadata": {},
   "outputs": [],
   "source": [
    "#not\n",
    "check_value = 5\n",
    "if check_value not in [1,7,4,6]:       \n",
    "    print(\"Hello World!\\n\")\n",
    "else:\n",
    "    print(\"Nothing to print\") "
   ]
  },
  {
   "cell_type": "code",
   "execution_count": null,
   "id": "bc4a24cd",
   "metadata": {},
   "outputs": [],
   "source": [
    "#break\n",
    "fruits = [\"apple\", \"banana\", \"cherry\",\"jackfruit\"]\n",
    "for x in fruits:\n",
    "    if x == \"apple\":\n",
    "        continue\n",
    "        print(x)\n",
    "    if x == \"banana\":\n",
    "        pass\n",
    "    if x == \"cherry\": \n",
    "        break \n",
    "print(x)\n"
   ]
  },
  {
   "cell_type": "code",
   "execution_count": null,
   "id": "ba9e9847",
   "metadata": {},
   "outputs": [],
   "source": [
    "#true\n",
    "check_string = '123'\n",
    "print(check_string.isdigit())"
   ]
  },
  {
   "cell_type": "code",
   "execution_count": null,
   "id": "7633965c",
   "metadata": {},
   "outputs": [],
   "source": [
    "#def keyword\n",
    "\n",
    "def fruit_check():\n",
    "    fruits = [\"apple\", \"banana\", \"cherry\"]\n",
    "    for x in fruits:\n",
    "        if x == 'banana':\n",
    "            continue\n",
    "        if x == 'cherry':\n",
    "            return \n",
    "\n",
    "        \n",
    "object = fruit_check()\n",
    "print(object)\n",
    "        "
   ]
  },
  {
   "cell_type": "code",
   "execution_count": null,
   "id": "a070e501",
   "metadata": {},
   "outputs": [],
   "source": [
    "#Identifier\n",
    "\n",
    "num = 10\n",
    "print(num)\n",
    "\n",
    "_x = 100\n",
    "print(_x)\n",
    "\n",
    "a_b = 99\n",
    "print(a_b)"
   ]
  },
  {
   "cell_type": "code",
   "execution_count": null,
   "id": "45db6545",
   "metadata": {},
   "outputs": [],
   "source": [
    "6times = \"3PM\""
   ]
  },
  {
   "cell_type": "code",
   "execution_count": null,
   "id": "c47a0260",
   "metadata": {},
   "outputs": [],
   "source": [
    "num# = 1\n"
   ]
  },
  {
   "cell_type": "code",
   "execution_count": null,
   "id": "15d01f9d",
   "metadata": {},
   "outputs": [],
   "source": [
    "num$ =1\n"
   ]
  },
  {
   "cell_type": "code",
   "execution_count": null,
   "id": "cae82e77",
   "metadata": {},
   "outputs": [],
   "source": [
    "true = 10"
   ]
  },
  {
   "cell_type": "code",
   "execution_count": null,
   "id": "80a5aa3f",
   "metadata": {},
   "outputs": [],
   "source": [
    "#variable\n",
    "x = 5\n",
    "y = \"John\"\n",
    "print(x)\n",
    "print(y)"
   ]
  },
  {
   "cell_type": "code",
   "execution_count": null,
   "id": "e03c1b3e",
   "metadata": {},
   "outputs": [],
   "source": [
    "x = 100\n",
    "print(x) "
   ]
  },
  {
   "cell_type": "code",
   "execution_count": null,
   "id": "f8f32a5c",
   "metadata": {},
   "outputs": [],
   "source": [
    "x=y=z=100\n",
    "print(y)"
   ]
  },
  {
   "cell_type": "code",
   "execution_count": null,
   "id": "c6177fda",
   "metadata": {},
   "outputs": [],
   "source": [
    "print(z)"
   ]
  },
  {
   "cell_type": "code",
   "execution_count": null,
   "id": "be5dad11",
   "metadata": {},
   "outputs": [],
   "source": [
    "x,y,z = 100 , 'robo', 10.25"
   ]
  },
  {
   "cell_type": "code",
   "execution_count": null,
   "id": "91e9d24e",
   "metadata": {},
   "outputs": [],
   "source": [
    "print(x)"
   ]
  },
  {
   "cell_type": "code",
   "execution_count": null,
   "id": "595b974a",
   "metadata": {},
   "outputs": [],
   "source": [
    "print(z)"
   ]
  },
  {
   "cell_type": "code",
   "execution_count": null,
   "id": "27f74a53",
   "metadata": {},
   "outputs": [],
   "source": [
    "a = str(2)   \n",
    "b = int(3)    \n",
    "c = float(3)\n",
    "\n",
    "print(c)"
   ]
  },
  {
   "cell_type": "code",
   "execution_count": null,
   "id": "4dfb0595",
   "metadata": {},
   "outputs": [],
   "source": [
    "print(a)"
   ]
  },
  {
   "cell_type": "code",
   "execution_count": null,
   "id": "c1b6a27e",
   "metadata": {},
   "outputs": [],
   "source": [
    "x = 10\n",
    "y = 20\n",
    "print(x + y)"
   ]
  },
  {
   "cell_type": "code",
   "execution_count": null,
   "id": "4557b73f",
   "metadata": {},
   "outputs": [],
   "source": [
    "p = \"Hello\"\n",
    "q = \"World\"\n",
    "print(p + \" \" + q)"
   ]
  },
  {
   "cell_type": "code",
   "execution_count": null,
   "id": "54e3c79b",
   "metadata": {},
   "outputs": [],
   "source": [
    "#datatypes\n",
    "x =5\n",
    "print(type(x))"
   ]
  },
  {
   "cell_type": "code",
   "execution_count": null,
   "id": "3510f43e",
   "metadata": {},
   "outputs": [],
   "source": [
    "x = 'Hello World'\n",
    "print(type(x))\n"
   ]
  },
  {
   "cell_type": "code",
   "execution_count": null,
   "id": "fbeb11a1",
   "metadata": {},
   "outputs": [],
   "source": [
    "x = '20'\n",
    "print(type(x))"
   ]
  },
  {
   "cell_type": "code",
   "execution_count": null,
   "id": "e3fb75fb",
   "metadata": {},
   "outputs": [],
   "source": [
    "x = 20.5\n",
    "print(type(x))"
   ]
  },
  {
   "cell_type": "code",
   "execution_count": null,
   "id": "79d19beb",
   "metadata": {},
   "outputs": [],
   "source": [
    "x = 1j\n",
    "print(type(x))"
   ]
  },
  {
   "cell_type": "code",
   "execution_count": null,
   "id": "bfcea937",
   "metadata": {},
   "outputs": [],
   "source": [
    "x = ['apple','banana']\n",
    "print(type(x))"
   ]
  },
  {
   "cell_type": "code",
   "execution_count": null,
   "id": "eac86c0c",
   "metadata": {},
   "outputs": [],
   "source": [
    "x = ('apple','banana')\n",
    "print(type(x))"
   ]
  },
  {
   "cell_type": "code",
   "execution_count": null,
   "id": "29baecee",
   "metadata": {},
   "outputs": [],
   "source": [
    "a=range(6)\n",
    "print(type(a))"
   ]
  },
  {
   "cell_type": "code",
   "execution_count": null,
   "id": "a0a4b8b4",
   "metadata": {},
   "outputs": [],
   "source": [
    "x = {'name': 'john', 'age': 23}\n",
    "print(type(x))"
   ]
  },
  {
   "cell_type": "code",
   "execution_count": null,
   "id": "10e1ebfa",
   "metadata": {},
   "outputs": [],
   "source": [
    "x = {'name'}\n",
    "print(type(x))"
   ]
  },
  {
   "cell_type": "code",
   "execution_count": null,
   "id": "c3c07143",
   "metadata": {},
   "outputs": [],
   "source": [
    "x =true\n",
    "print(type(x))"
   ]
  },
  {
   "cell_type": "code",
   "execution_count": null,
   "id": "9ae0aaef",
   "metadata": {},
   "outputs": [],
   "source": [
    "x = str('hello world')\n",
    "print(x)\n",
    "print(type(x))"
   ]
  },
  {
   "cell_type": "code",
   "execution_count": null,
   "id": "abd5d48a",
   "metadata": {},
   "outputs": [],
   "source": [
    "a = bool(5)\n",
    "print(a)\n",
    "print(type(x))"
   ]
  },
  {
   "cell_type": "code",
   "execution_count": null,
   "id": "c608b88d",
   "metadata": {},
   "outputs": [],
   "source": [
    "x=5\n",
    "print(type(x))"
   ]
  },
  {
   "cell_type": "code",
   "execution_count": null,
   "id": "720ad232",
   "metadata": {},
   "outputs": [],
   "source": [
    "x = 'Hello World'\n",
    "print(type(x))"
   ]
  },
  {
   "cell_type": "code",
   "execution_count": null,
   "id": "3a2cc5a2",
   "metadata": {},
   "outputs": [],
   "source": [
    "x = 20.5\n",
    "print(type(x))"
   ]
  },
  {
   "cell_type": "code",
   "execution_count": null,
   "id": "c4502596",
   "metadata": {},
   "outputs": [],
   "source": [
    "x = 5\n",
    "x =float(x)"
   ]
  },
  {
   "cell_type": "code",
   "execution_count": null,
   "id": "adbb2ffa",
   "metadata": {},
   "outputs": [],
   "source": [
    "#use the len method to print the length of the string\n",
    "\n",
    "x = 'Hello World'\n",
    "print(len(x))"
   ]
  },
  {
   "cell_type": "code",
   "execution_count": null,
   "id": "6f3b2e09",
   "metadata": {},
   "outputs": [],
   "source": [
    "#get the first character of the string txt\n",
    "\n",
    "txt = 'Hello World'\n",
    "x = (txt[0])\n",
    "print(x)"
   ]
  },
  {
   "cell_type": "code",
   "execution_count": null,
   "id": "596b4a3f",
   "metadata": {},
   "outputs": [],
   "source": [
    "# get the characters from index 2 to index 4 (llo)\n",
    "\n",
    "txt = 'Hello World'\n",
    "x = (txt[2:5])\n",
    "print(x)"
   ]
  },
  {
   "cell_type": "code",
   "execution_count": null,
   "id": "9f9cb252",
   "metadata": {},
   "outputs": [],
   "source": [
    "#Return the string without any whitespace at the beginning or the end\n",
    "\n",
    "txt = 'Hello World'\n",
    "x = txt.strip()\n",
    "print(x)"
   ]
  },
  {
   "cell_type": "code",
   "execution_count": null,
   "id": "76a6eff8",
   "metadata": {},
   "outputs": [],
   "source": [
    "#Convert the value of txt to uppercase\n",
    "\n",
    "txt = 'Hello World'\n",
    "txt = txt.upper()\n",
    "print(txt)"
   ]
  },
  {
   "cell_type": "code",
   "execution_count": null,
   "id": "fb8ae5a5",
   "metadata": {},
   "outputs": [],
   "source": []
  },
  {
   "cell_type": "raw",
   "id": "dbe78c80",
   "metadata": {},
   "source": [
    "#list\n",
    "\n",
    "a = [10, 'nepal', '99.5']\n",
    "\n",
    "type(a)"
   ]
  },
  {
   "cell_type": "code",
   "execution_count": null,
   "id": "de5ce8c2",
   "metadata": {},
   "outputs": [],
   "source": [
    "#print the second item in the fruits list\n",
    "\n",
    "fruits = ['apple', 'banana', 'cherry']\n",
    "print(fruits)"
   ]
  },
  {
   "cell_type": "code",
   "execution_count": null,
   "id": "48dcfc1e",
   "metadata": {},
   "outputs": [],
   "source": [
    "#print the second item in the fruits list\n",
    "\n",
    "fruits = ['apple', 'banana', 'cherry']\n",
    "print(fruits[1])"
   ]
  },
  {
   "cell_type": "code",
   "execution_count": null,
   "id": "502668f3",
   "metadata": {},
   "outputs": [],
   "source": [
    "#change the value from 'apple' to 'kiwi' in the fruits list\n",
    "\n",
    "fruits = ['apple', 'banana', 'cherry']\n",
    "fruits[0] = 'kiwi'\n",
    "\n",
    "print(fruits)"
   ]
  },
  {
   "cell_type": "code",
   "execution_count": null,
   "id": "e9bb7563",
   "metadata": {},
   "outputs": [],
   "source": [
    "#use the append method to add 'orange' to the fruits list\n",
    "\n",
    "fruits = ['apple', 'banana', 'cherry']\n",
    "fruits.append('orange')\n",
    "\n",
    "print(fruits)"
   ]
  },
  {
   "cell_type": "code",
   "execution_count": null,
   "id": "0927f7a5",
   "metadata": {},
   "outputs": [],
   "source": [
    "#Use the insert method to add 'lemon' as the second item in the fruits list\n",
    "\n",
    "fruits = ['apple', 'banana', 'cherry']\n",
    "fruits.insert (1, 'lemon')\n",
    "print(fruits)"
   ]
  },
  {
   "cell_type": "code",
   "execution_count": null,
   "id": "f1808eff",
   "metadata": {},
   "outputs": [],
   "source": [
    "#Use the remove method to remove 'banana' from the list\n",
    "\n",
    "fruits = ['apple', 'banana', 'cherry']\n",
    "fruits.remove ('banana')\n",
    "print(fruits)"
   ]
  },
  {
   "cell_type": "code",
   "execution_count": null,
   "id": "72d0765d",
   "metadata": {},
   "outputs": [],
   "source": [
    "#Use negative indexing to print the last item in the list\n",
    "\n",
    "fruits = ['apple', 'banana', 'cherry']\n",
    "print(fruits[-1])"
   ]
  },
  {
   "cell_type": "code",
   "execution_count": null,
   "id": "63c4d213",
   "metadata": {},
   "outputs": [],
   "source": [
    "#Use a range of indexes to print the third, fourth, and fifth item in the list.\n",
    "\n",
    "fruits = [\"apple\", \"banana\", \"cherry\", \"orange\", \"kiwi\", \"melon\", \"mango\"]\n",
    "print(fruits[2:5])"
   ]
  },
  {
   "cell_type": "code",
   "execution_count": null,
   "id": "949d0698",
   "metadata": {},
   "outputs": [],
   "source": [
    "#Use the correct syntax to print the number of items in the list.\n",
    "\n",
    "fruits = [\"apple\", \"banana\", \"cherry\"]\n",
    "print(len(fruits))"
   ]
  },
  {
   "cell_type": "code",
   "execution_count": null,
   "id": "ec12d499",
   "metadata": {},
   "outputs": [],
   "source": [
    "#Use the correct syntax to print the first item in the fruits tuple.\n",
    "\n",
    "fruits = ('apple', 'banana', 'cherry')\n",
    "print(fruits[0])"
   ]
  },
  {
   "cell_type": "code",
   "execution_count": null,
   "id": "2c0e3462",
   "metadata": {},
   "outputs": [],
   "source": [
    "#use the correct syntax to print the number of items in the fruits tuple.\n",
    "\n",
    "fruits = ('apple', 'banana', 'cherry')\n",
    "print(len(fruits))\n"
   ]
  },
  {
   "cell_type": "code",
   "execution_count": null,
   "id": "e8a4eac5",
   "metadata": {},
   "outputs": [],
   "source": [
    "#Check if \"apple\" is present in the fruits set.\n",
    "\n",
    "fruits = {\"apple\", \"banana\", \"cherry\"}\n",
    "if \"apple\" in fruits:\n",
    "  print(\"Yes, apple is a fruit!\")"
   ]
  },
  {
   "cell_type": "code",
   "execution_count": null,
   "id": "c8c70ed0",
   "metadata": {},
   "outputs": [],
   "source": [
    "#Use the add method to add 'orange' to the fruit set.\n",
    "\n",
    "fruits = {\"apple\", \"banana\", \"cherry\"}\n",
    "\n",
    "fruits.add('orange')\n",
    "print(fruits)"
   ]
  },
  {
   "cell_type": "code",
   "execution_count": null,
   "id": "16600559",
   "metadata": {},
   "outputs": [],
   "source": [
    "#Use the correct method to add multiple items (more_fruits) to the fruits set.\n",
    "fruits = {\"apple\", \"banana\", \"cherry\"}\n",
    "more_fruits = [\"orange\", \"mango\", \"grapes\"]\n",
    "\n",
    "fruits.update(more_fruits)\n",
    "print(fruits)"
   ]
  },
  {
   "cell_type": "code",
   "execution_count": null,
   "id": "f71eabaf",
   "metadata": {},
   "outputs": [],
   "source": [
    "#Use the remove method to remove \"banana\" from the fruits set\n",
    "fruits = {'apple', 'banana', 'cherry'}\n",
    "fruits.remove('banana')\n",
    "print(fruits)"
   ]
  },
  {
   "cell_type": "code",
   "execution_count": null,
   "id": "4a203939",
   "metadata": {},
   "outputs": [],
   "source": [
    "#Use the discard method to remove \"banana\" from the fruits set.\n",
    "\n",
    "fruits = {\"apple\", \"banana\", \"cherry\"}\n",
    "fruits.discard('banana')\n",
    "print(fruits)"
   ]
  },
  {
   "cell_type": "code",
   "execution_count": null,
   "id": "ce5972b4",
   "metadata": {},
   "outputs": [],
   "source": [
    "#Replace the character H with a J.\n",
    "\n",
    "txt = 'Hello World'\n",
    "txt = txt.replace('H', 'J')\n",
    "print(txt)"
   ]
  },
  {
   "cell_type": "code",
   "execution_count": null,
   "id": "b64b2bc0",
   "metadata": {},
   "outputs": [],
   "source": [
    "#Insert the correct syntax to add a placeholder for the age parameter.\n",
    "\n",
    "age = 36\n",
    "txt = \"My name is John, and I am {}\"\n",
    "print(txt.format(age))"
   ]
  },
  {
   "cell_type": "code",
   "execution_count": null,
   "id": "99058f26",
   "metadata": {},
   "outputs": [],
   "source": [
    "#Boolean\n",
    "#The statement below would print a Boolean value, which one?\n",
    "\n",
    "print(10>9)"
   ]
  },
  {
   "cell_type": "code",
   "execution_count": null,
   "id": "8024ee84",
   "metadata": {},
   "outputs": [],
   "source": [
    "#The statement below would print a Boolean value, which one?\n",
    "\n",
    "print(10 == 9)"
   ]
  },
  {
   "cell_type": "code",
   "execution_count": null,
   "id": "919bab32",
   "metadata": {},
   "outputs": [],
   "source": [
    "#The statement below would print a Boolean value, which one?\n",
    "\n",
    "print(10 < 9)"
   ]
  },
  {
   "cell_type": "code",
   "execution_count": null,
   "id": "54685c33",
   "metadata": {},
   "outputs": [],
   "source": [
    "#The statement below would print a Boolean value, which one?\n",
    "\n",
    "print(bool('abc'))"
   ]
  },
  {
   "cell_type": "code",
   "execution_count": null,
   "id": "2f8bfb05",
   "metadata": {},
   "outputs": [],
   "source": [
    "#The statement below would print a Boolean value, which one?\n",
    "\n",
    "print(bool(0))"
   ]
  },
  {
   "cell_type": "code",
   "execution_count": null,
   "id": "8fe70a11",
   "metadata": {},
   "outputs": [],
   "source": [
    "#Multiply 10 with 5, and print the result.\n",
    "\n",
    "print(10*5)"
   ]
  },
  {
   "cell_type": "code",
   "execution_count": null,
   "id": "f943b083",
   "metadata": {},
   "outputs": [],
   "source": [
    "#Divide 10 by 2, and print the result\n",
    "\n",
    "print(10/2)"
   ]
  },
  {
   "cell_type": "code",
   "execution_count": null,
   "id": "483a69c5",
   "metadata": {},
   "outputs": [],
   "source": [
    "#Use the correct membership operator to check if \"apple\" is present in the fruits object.\n",
    "fruits = [\"apple\", \"banana\"]\n",
    "if \"apple\" in fruits:\n",
    "    print(\"Yes, apple is a fruit!\")"
   ]
  },
  {
   "cell_type": "code",
   "execution_count": null,
   "id": "a09188f7",
   "metadata": {},
   "outputs": [],
   "source": [
    "#Use the correct comparison operator to check if 5 is not equal to 10.\n",
    "\n",
    "if 5 != 10:\n",
    "    print(\"5 and 10 is not equal\")"
   ]
  },
  {
   "cell_type": "code",
   "execution_count": null,
   "id": "51302b30",
   "metadata": {},
   "outputs": [],
   "source": [
    "#Use the correct logical operator to check if at least one of two statements is True.\n",
    "if 5 == 10 or 4 == 4:\n",
    "    print(\"At least one of the statements is true\")\n"
   ]
  },
  {
   "cell_type": "code",
   "execution_count": null,
   "id": "9f040770",
   "metadata": {},
   "outputs": [],
   "source": [
    "#Use the get method to print the value of the \"model\" key of the car dictionary.\n",
    "\n",
    "car ={\n",
    "  \"brand\": \"Ford\",\n",
    "  \"model\": \"Mustang\",\n",
    "  \"year\": 1964\n",
    "}\n",
    "print(car.get('model'))"
   ]
  },
  {
   "cell_type": "code",
   "execution_count": null,
   "id": "3cb81153",
   "metadata": {},
   "outputs": [],
   "source": [
    "#Change the \"year\" value from 1964 to 2020.\n",
    "\n",
    "car ={\n",
    "  \"brand\": \"Ford\",\n",
    "  \"model\": \"Mustang\",\n",
    "  \"year\": 1964\n",
    "}\n",
    "\n",
    "car ['year'] = 2020\n",
    "\n",
    "print(car)"
   ]
  },
  {
   "cell_type": "code",
   "execution_count": null,
   "id": "6a67ccc3",
   "metadata": {},
   "outputs": [],
   "source": [
    "#Add the key/value pair \"color\" : \"red\" to the car dictionary.\n",
    "\n",
    "car ={\n",
    "  \"brand\": \"Ford\",\n",
    "  \"model\": \"Mustang\",\n",
    "  \"year\": 1964\n",
    "}\n",
    "\n",
    "car['color'] = 'red'\n",
    "\n",
    "\n",
    "print(car)\n"
   ]
  },
  {
   "cell_type": "code",
   "execution_count": null,
   "id": "c104524e",
   "metadata": {},
   "outputs": [],
   "source": [
    "#Use the pop method to remove \"model\" from the car dictionary.\n",
    "\n",
    "car = {'brand': 'ford', 'model': 'Mustang', 'year': 1964 }\n",
    "\n",
    "car.pop('model')\n",
    "\n",
    "print(car)"
   ]
  },
  {
   "cell_type": "code",
   "execution_count": null,
   "id": "2608efd7",
   "metadata": {},
   "outputs": [],
   "source": [
    "#Use the clear method to empty the car dictionary.\n",
    "\n",
    "car = {'brand': 'ford', 'model': 'Mustang', 'year': 1964 }\n",
    "\n",
    "car.clear()\n",
    "\n",
    "print(car)\n"
   ]
  },
  {
   "cell_type": "code",
   "execution_count": null,
   "id": "18ab8af7",
   "metadata": {},
   "outputs": [],
   "source": [
    "#Write a Python program to calculate the length of a string\n",
    "\n",
    "a = (1,2,3,4,5,6)\n",
    "\n",
    "print(len(a))"
   ]
  },
  {
   "cell_type": "code",
   "execution_count": null,
   "id": "57fde70f",
   "metadata": {},
   "outputs": [],
   "source": [
    "#Write a Python program to sum all the items in a list\n",
    "\n",
    "list = [11,15,16,18,23]\n",
    "\n",
    "total = sum(list)\n",
    "\n",
    "print(total)"
   ]
  },
  {
   "cell_type": "code",
   "execution_count": null,
   "id": "55069e32",
   "metadata": {},
   "outputs": [],
   "source": [
    "#Write a Python program to count the number of characters in a string.\n",
    "#Sample String : 'google.com'\n",
    "#Expected Result : {'o': 3, 'g': 2, '.': 1, 'e': 1, 'l': 1, 'm': 1, 'c': 1}\n",
    "    \n",
    "def char(str):\n",
    "    dict = {}\n",
    "    for n in str:\n",
    "        keys = dict.keys()\n",
    "        if n in keys:\n",
    "            dict[n] += 1\n",
    "        else:\n",
    "            dict[n] = 1\n",
    "            \n",
    "    return dict\n",
    "\n",
    "print(char('google.com'))\n",
    "    "
   ]
  },
  {
   "cell_type": "code",
   "execution_count": null,
   "id": "10b40841",
   "metadata": {},
   "outputs": [],
   "source": [
    "#print \"Hello World!\" by typing it inside print() function.\n",
    "\n",
    "print('Hello World')"
   ]
  },
  {
   "cell_type": "code",
   "execution_count": null,
   "id": "ef228bc2",
   "metadata": {},
   "outputs": [],
   "source": [
    "#to assign \"Hello World!\" to the variable my_text.\n",
    "\n",
    "my_text = 'Hello World'\n",
    "\n",
    "print(my_text)"
   ]
  },
  {
   "cell_type": "code",
   "execution_count": null,
   "id": "b3803eea",
   "metadata": {},
   "outputs": [],
   "source": [
    "#Type a couple of different values, inside the print function. Make sure they are separated by commas.    \n",
    "\n",
    "print('prasanthi', 'lava')"
   ]
  },
  {
   "cell_type": "code",
   "execution_count": null,
   "id": "e8361daf",
   "metadata": {},
   "outputs": [],
   "source": [
    "#Assign a number to the variable: glass_of_water\n",
    "\n",
    "glass_of_water = 3\n",
    "\n",
    "print(glass_of_water)"
   ]
  },
  {
   "cell_type": "code",
   "execution_count": null,
   "id": "7f54bf5e",
   "metadata": {},
   "outputs": [],
   "source": [
    "print('I drank', glass_of_water, 'glasses of water today')"
   ]
  },
  {
   "cell_type": "code",
   "execution_count": null,
   "id": "cd39d877",
   "metadata": {},
   "outputs": [],
   "source": [
    "glass_of_water = glass_of_water +1\n",
    "\n",
    "print(glass_of_water)"
   ]
  },
  {
   "cell_type": "code",
   "execution_count": null,
   "id": "de9f93ac",
   "metadata": {},
   "outputs": [],
   "source": [
    "#two integer numbers return their product only if the product is equal to or lower than 1000, else return their sum.\n",
    "\n",
    "num1 = 20\n",
    "num2 = 30\n",
    "\n",
    "print(num1 * num2)"
   ]
  },
  {
   "cell_type": "code",
   "execution_count": null,
   "id": "51cfee7d",
   "metadata": {},
   "outputs": [],
   "source": [
    "number1 = 40\n",
    "number2 = 30\n",
    "\n",
    "print(number1 + number2)"
   ]
  },
  {
   "cell_type": "code",
   "execution_count": null,
   "id": "2de2ba53",
   "metadata": {},
   "outputs": [],
   "source": [
    "#Print the sum of the current number and the previous number\n",
    "\n",
    "previous_number = 20\n",
    "current_number = 50\n",
    "\n",
    "print(previous_number)\n",
    "print(current_number)"
   ]
  },
  {
   "cell_type": "code",
   "execution_count": null,
   "id": "0dcdc182",
   "metadata": {},
   "outputs": [],
   "source": [
    "previous_numb = 0\n",
    "\n",
    "#loop from 1 to 10\n",
    "\n",
    "for i in range(1, 11):\n",
    "    x_sum = previous_numb + i\n",
    "    \n",
    "    print('current numbers', i, 'previous number', i +1)\n",
    "    \n"
   ]
  },
  {
   "cell_type": "code",
   "execution_count": null,
   "id": "bf011949",
   "metadata": {},
   "outputs": [],
   "source": [
    "previous_num = 0\n",
    "\n",
    "# loop from 1 to 10\n",
    "for i in range(1, 11):\n",
    "    x_sum = previous_num + i\n",
    "    print(\"Current Number\", i, \"Previous Number \", previous_num, \" Sum: \", previous_num + i)\n",
    "    # modify previous number\n",
    "    # set it to the current number\n",
    "    previous_num = i\n"
   ]
  },
  {
   "cell_type": "code",
   "execution_count": null,
   "id": "207d1c8b",
   "metadata": {},
   "outputs": [],
   "source": [
    "#Print characters from a string that are present at an even index number\n",
    "\n",
    "name=input()\n",
    "\n",
    "\n",
    "for i in range(0, size -1, 2):\n",
    "    print('index[',i,']', word[i])\n",
    "\n"
   ]
  },
  {
   "cell_type": "code",
   "execution_count": null,
   "id": "da2b0d0d",
   "metadata": {},
   "outputs": [],
   "source": [
    "#to remove characters from a string starting from zero up to n and return a new string.\n",
    "\n",
    "str = 'prasanthi'\n",
    "\n",
    "slice_str = slice(4)\n",
    "\n",
    "print(str[slice_str])"
   ]
  },
  {
   "cell_type": "code",
   "execution_count": null,
   "id": "35178614",
   "metadata": {},
   "outputs": [],
   "source": [
    "def text(word, n):\n",
    "    x = word[:n]\n",
    "    return x\n",
    "\n",
    "print(text('VenkataSiva', 6))"
   ]
  },
  {
   "cell_type": "code",
   "execution_count": null,
   "id": "e3489d92",
   "metadata": {},
   "outputs": [],
   "source": [
    "def text(word, n):\n",
    "    y = word[n:]\n",
    "    return y\n",
    "\n",
    "print(text('kirankumar', 3))"
   ]
  },
  {
   "cell_type": "code",
   "execution_count": null,
   "id": "a974f900",
   "metadata": {},
   "outputs": [],
   "source": [
    "#Write a function to return True if the first and last number of a given list is same. \n",
    "#If numbers are different then return False.\n",
    "\n",
    "nums = [10, 20, 30, 40, 10]\n",
    "\n",
    "if nums[0] == nums[-1]:\n",
    "    print('Result is True')\n",
    "else:\n",
    "    print('Result is False')"
   ]
  },
  {
   "cell_type": "code",
   "execution_count": null,
   "id": "6fdad864",
   "metadata": {},
   "outputs": [],
   "source": [
    "numbers_x = [10, 20, 30, 40, 10]\n",
    "numbers_y = [75, 65, 35, 75, 30]\n"
   ]
  },
  {
   "cell_type": "code",
   "execution_count": null,
   "id": "564475fa",
   "metadata": {},
   "outputs": [],
   "source": [
    "def first_last_same(numberlist):\n",
    "    print('given list:', numberlist)\n",
    "    \n",
    "    first_num = numberlist[0]\n",
    "    last_num = numberlist[-1]\n",
    "    \n",
    "    if first_num == last_num:\n",
    "        return True\n",
    "    else:\n",
    "        return False\n",
    "    "
   ]
  },
  {
   "cell_type": "code",
   "execution_count": null,
   "id": "7101ca44",
   "metadata": {},
   "outputs": [],
   "source": [
    "print(first_last_same(numbers_x))"
   ]
  },
  {
   "cell_type": "code",
   "execution_count": null,
   "id": "57329046",
   "metadata": {},
   "outputs": [],
   "source": [
    "print(first_last_same(numbers_y))"
   ]
  },
  {
   "cell_type": "code",
   "execution_count": 7,
   "id": "cdb375c9",
   "metadata": {},
   "outputs": [
    {
     "name": "stdout",
     "output_type": "stream",
     "text": [
      "15\n",
      "45\n",
      "35\n",
      "45\n"
     ]
    }
   ],
   "source": [
    "#Division method\n",
    "\n",
    "num_list = [89,79,69,15,45,35,23,45]\n",
    "\n",
    "for num in num_list:\n",
    "    if num % 5 == 0:\n",
    "        print(num)"
   ]
  },
  {
   "cell_type": "code",
   "execution_count": 1,
   "id": "cb5a9df4",
   "metadata": {},
   "outputs": [
    {
     "name": "stdout",
     "output_type": "stream",
     "text": [
      "Given list: [10, 20, 33, 46, 55]\n",
      "Divisible by 5:\n",
      "10\n",
      "20\n",
      "55\n"
     ]
    }
   ],
   "source": [
    "num_list = [10, 20, 33, 46, 55]\n",
    "print(\"Given list:\", num_list)\n",
    "print('Divisible by 5:')\n",
    "for num in num_list:\n",
    "    if num % 5 == 0:\n",
    "        print(num)"
   ]
  },
  {
   "cell_type": "code",
   "execution_count": 11,
   "id": "a4ff6fab",
   "metadata": {},
   "outputs": [
    {
     "name": "stdout",
     "output_type": "stream",
     "text": [
      "1.0\n"
     ]
    }
   ],
   "source": [
    "a, b = 7.2, 3.1\n",
    "\n",
    "result = a%b\n",
    "print(result)"
   ]
  },
  {
   "cell_type": "code",
   "execution_count": 14,
   "id": "ca26816d",
   "metadata": {},
   "outputs": [
    {
     "name": "stdout",
     "output_type": "stream",
     "text": [
      "8.0\n"
     ]
    }
   ],
   "source": [
    "number1 = 64\n",
    "number2 = 8\n",
    "result = number1/number2\n",
    "print(result)"
   ]
  },
  {
   "cell_type": "code",
   "execution_count": 15,
   "id": "87293825",
   "metadata": {},
   "outputs": [
    {
     "name": "stdout",
     "output_type": "stream",
     "text": [
      "division\n"
     ]
    }
   ],
   "source": [
    "num1 = 10\n",
    "num2 = 2\n",
    "\n",
    "division = num1/num2\n",
    "\n",
    "print('division')"
   ]
  },
  {
   "cell_type": "code",
   "execution_count": 21,
   "id": "2450a563",
   "metadata": {},
   "outputs": [
    {
     "ename": "TypeError",
     "evalue": "int() argument must be a string, a bytes-like object or a number, not 'method'",
     "output_type": "error",
     "traceback": [
      "\u001b[1;31m---------------------------------------------------------------------------\u001b[0m",
      "\u001b[1;31mTypeError\u001b[0m                                 Traceback (most recent call last)",
      "Input \u001b[1;32mIn [21]\u001b[0m, in \u001b[0;36m<cell line: 1>\u001b[1;34m()\u001b[0m\n\u001b[1;32m----> 1\u001b[0m l \u001b[38;5;241m=\u001b[39m(\u001b[38;5;28;43mint\u001b[39;49m\u001b[43m(\u001b[49m\u001b[38;5;28;43minput\u001b[39;49m\u001b[43m)\u001b[49m)\n\u001b[0;32m      2\u001b[0m \u001b[38;5;28;01mfor\u001b[39;00m i \u001b[38;5;129;01min\u001b[39;00m l:\n\u001b[0;32m      3\u001b[0m     \u001b[38;5;28;01mfor\u001b[39;00m j \u001b[38;5;129;01min\u001b[39;00m \u001b[38;5;28mrange\u001b[39m(\u001b[38;5;241m1\u001b[39m, \u001b[38;5;241m50\u001b[39m):\n",
      "\u001b[1;31mTypeError\u001b[0m: int() argument must be a string, a bytes-like object or a number, not 'method'"
     ]
    }
   ],
   "source": [
    "l =(int(input))\n",
    "for i in l:\n",
    "    for j in range(1, 50):\n",
    "        if j%i == 0:\n",
    "            print(j)"
   ]
  },
  {
   "cell_type": "code",
   "execution_count": 22,
   "id": "51d26d9b",
   "metadata": {},
   "outputs": [
    {
     "name": "stdout",
     "output_type": "stream",
     "text": [
      "[20, 40]\n"
     ]
    }
   ],
   "source": [
    "my_list = [2, 4, 5]\n",
    "\n",
    "\n",
    "output = []\n",
    "\n",
    "for i in range(1, 50):\n",
    "\n",
    "    if all([i % j == 0 for j in my_list]):\n",
    "\n",
    "        output.append(i)\n",
    "\n",
    "print(output)"
   ]
  },
  {
   "cell_type": "code",
   "execution_count": 24,
   "id": "a1df15d3",
   "metadata": {},
   "outputs": [
    {
     "name": "stdout",
     "output_type": "stream",
     "text": [
      "Enter first number 39\n",
      "Enter second number 23\n",
      "Multiplication is 897\n"
     ]
    }
   ],
   "source": [
    "#Write a program to accept two numbers from the user and calculate multiplication\n",
    "\n",
    "\n",
    "num1 = int(input(\"Enter first number \"))\n",
    "num2 = int(input(\"Enter second number \"))\n",
    "\n",
    "a = num1 * num2\n",
    "print(\"Multiplication is\", a)"
   ]
  },
  {
   "cell_type": "code",
   "execution_count": 25,
   "id": "c0fdc160",
   "metadata": {},
   "outputs": [],
   "source": [
    "num_1 = 2\n",
    "num_2 = 3\n",
    "product = num_1 * num_2\n"
   ]
  },
  {
   "cell_type": "code",
   "execution_count": 26,
   "id": "f6a395b5",
   "metadata": {},
   "outputs": [
    {
     "name": "stdout",
     "output_type": "stream",
     "text": [
      "product of 2 and 3 is 6\n"
     ]
    }
   ],
   "source": [
    "print('product of {} and {} is {}'.format(num_1, num_2, product))"
   ]
  },
  {
   "cell_type": "code",
   "execution_count": 27,
   "id": "2a9eb8a3",
   "metadata": {},
   "outputs": [
    {
     "name": "stdout",
     "output_type": "stream",
     "text": [
      "608\n"
     ]
    }
   ],
   "source": [
    "x = 32\n",
    "y = 19\n",
    "\n",
    "mul = x * y\n",
    "print(mul)"
   ]
  },
  {
   "cell_type": "code",
   "execution_count": 28,
   "id": "33e35b59",
   "metadata": {},
   "outputs": [
    {
     "name": "stdout",
     "output_type": "stream",
     "text": [
      "Enter first number:54\n",
      "Enter second number:36\n"
     ]
    }
   ],
   "source": [
    "p = int(input('Enter first number:'))\n",
    "q = int(input('Enter second number:'))\n",
    "\n",
    "result = p * q\n"
   ]
  },
  {
   "cell_type": "code",
   "execution_count": 29,
   "id": "96fc4805",
   "metadata": {},
   "outputs": [
    {
     "name": "stdout",
     "output_type": "stream",
     "text": [
      "Multiplication of two numbers 1944\n"
     ]
    }
   ],
   "source": [
    "print('Multiplication of two numbers', result)"
   ]
  },
  {
   "cell_type": "code",
   "execution_count": 16,
   "id": "511ac3f6",
   "metadata": {},
   "outputs": [
    {
     "name": "stdout",
     "output_type": "stream",
     "text": [
      "Enter number 0 :\n",
      "85.3\n",
      "Enter number 1 :\n",
      "1.2\n",
      "Enter number 2 :\n",
      "3.4\n",
      "Enter number 3 :\n",
      "78.6\n",
      "Enter number 4 :\n",
      "78.5\n",
      "User List: [78.6, 78.5, 85.3, 1.2, 3.4, 85.3, 1.2, 3.4, 78.6, 78.5]\n"
     ]
    }
   ],
   "source": [
    "# Accept a list of 5 float numbers as an input from the user\n",
    "\n",
    "numbers = [78.6, 78.5, 85.3, 1.2, 3.4]\n",
    "\n",
    "for i in range(0, 5):\n",
    "    print('Enter number', i, ':')\n",
    "    \n",
    "    item = float(input())\n",
    "    \n",
    "    numbers.append(item)\n",
    "    \n",
    "print('User List:', numbers)"
   ]
  },
  {
   "cell_type": "code",
   "execution_count": 19,
   "id": "331d3ae6",
   "metadata": {},
   "outputs": [
    {
     "name": "stdout",
     "output_type": "stream",
     "text": [
      "Enter number of elements:5\n",
      "12\n",
      "33\n",
      "45\n",
      "0\n",
      "13\n",
      "[12, 33, 45, 0, 13]\n"
     ]
    }
   ],
   "source": [
    "lst = []\n",
    "\n",
    "n = int(input('Enter number of elements:'))\n",
    "\n",
    "for i in range(0, n):\n",
    "    ele = int(input())\n",
    "    lst.append(ele)\n",
    "    \n",
    "print(lst)"
   ]
  },
  {
   "cell_type": "code",
   "execution_count": 22,
   "id": "2f5c304b",
   "metadata": {},
   "outputs": [
    {
     "name": "stdout",
     "output_type": "stream",
     "text": [
      "Enter number:5\n",
      "1\n",
      "2\n",
      "3\n",
      "4\n",
      "5\n",
      "[1, 2, 3, 4, 5, 6, 7, 8, 1, 2, 3, 4, 5]\n"
     ]
    }
   ],
   "source": [
    "lst = [1,2,3,4,5,6,7,8]\n",
    "\n",
    "n = int(input('Enter number:'))\n",
    "\n",
    "for i in range(0, n):\n",
    "    x = int(input())\n",
    "    lst.append(x)\n",
    "    \n",
    "print(lst)"
   ]
  },
  {
   "cell_type": "code",
   "execution_count": 24,
   "id": "127d345e",
   "metadata": {},
   "outputs": [
    {
     "name": "stdout",
     "output_type": "stream",
     "text": [
      "Enter a float:23.43\n",
      "value of x: 23.43\n"
     ]
    }
   ],
   "source": [
    "x = input('Enter a float:')\n",
    "\n",
    "print('value of x:', x)"
   ]
  },
  {
   "cell_type": "code",
   "execution_count": 26,
   "id": "c1d2ec11",
   "metadata": {},
   "outputs": [
    {
     "name": "stdout",
     "output_type": "stream",
     "text": [
      "Enter a float:string\n",
      "type of x: <class 'str'>\n"
     ]
    }
   ],
   "source": [
    "x = input('Enter a float:')\n",
    "\n",
    "print('type of x:', type(x))"
   ]
  },
  {
   "cell_type": "code",
   "execution_count": 35,
   "id": "ddcde0e6",
   "metadata": {},
   "outputs": [
    {
     "name": "stdout",
     "output_type": "stream",
     "text": [
      "I have 1000 dollars so I can buy 3 football for 450.00 dollars\n"
     ]
    }
   ],
   "source": [
    "#Format variables using a string.format() method.\n",
    "\n",
    "totalmoney = 1000\n",
    "quantity = 3\n",
    "price =450\n",
    "\n",
    "statement = 'I have {1} dollars so I can buy {0} football for {2:.2f} dollars'\n",
    "\n",
    "print(statement.format(quantity, totalmoney, price))\n"
   ]
  },
  {
   "cell_type": "code",
   "execution_count": 28,
   "id": "5b93096a",
   "metadata": {},
   "outputs": [
    {
     "name": "stdout",
     "output_type": "stream",
     "text": [
      "I have  4.00 Ruppes!\n"
     ]
    }
   ],
   "source": [
    "txt = 'I have {an: .2f} Ruppes!'\n",
    "print(txt.format(an = 4))"
   ]
  },
  {
   "cell_type": "code",
   "execution_count": 29,
   "id": "cce8747a",
   "metadata": {},
   "outputs": [
    {
     "name": "stdout",
     "output_type": "stream",
     "text": [
      "This article is written in python\n"
     ]
    }
   ],
   "source": [
    "str = 'This article is written in {}'\n",
    "print(str.format('python'))"
   ]
  },
  {
   "cell_type": "code",
   "execution_count": 30,
   "id": "548bbe49",
   "metadata": {},
   "outputs": [
    {
     "name": "stdout",
     "output_type": "stream",
     "text": [
      "Hi, my name is prasanthi\n"
     ]
    }
   ],
   "source": [
    "x = 'Hi, my name is {}'\n",
    "print(x.format('prasanthi'))"
   ]
  },
  {
   "cell_type": "code",
   "execution_count": 43,
   "id": "b911863a",
   "metadata": {},
   "outputs": [
    {
     "name": "stdout",
     "output_type": "stream",
     "text": [
      "I wondered why the program was troubling me. Then it dawned on me it was a bug.\n"
     ]
    }
   ],
   "source": [
    "#I wondered why the program was troubling me. Then it dawned on me it was a bug.\n",
    "type = 'bug'\n",
    "result = 'troubling'\n",
    "\n",
    "print('I wondered why the program was %s me. Then it dawned on me it was a %s.' %(result, type))\n",
    "\n"
   ]
  },
  {
   "cell_type": "code",
   "execution_count": 44,
   "id": "2b00b618",
   "metadata": {},
   "outputs": [],
   "source": [
    "#LOOP \n",
    "## Program to find the sum of all numbers stored in a list\n",
    "\n",
    "numbers = [6, 5, 3, 8, 4, 2, 5]\n",
    "\n",
    "sum = 0\n",
    "\n",
    "for i in numbers:\n",
    "    sum =sum +i\n",
    "      "
   ]
  },
  {
   "cell_type": "code",
   "execution_count": 46,
   "id": "f5ce47d9",
   "metadata": {},
   "outputs": [
    {
     "name": "stdout",
     "output_type": "stream",
     "text": [
      "The sum is 33\n"
     ]
    }
   ],
   "source": [
    "print('The sum is', sum)"
   ]
  },
  {
   "cell_type": "code",
   "execution_count": 47,
   "id": "392513ca",
   "metadata": {},
   "outputs": [],
   "source": [
    "x = [1, 3, 6, 7, 8, 9, 2, 5, ]\n",
    "\n",
    "sum = 0\n",
    "\n",
    "for i in x:\n",
    "    sum = sum + i"
   ]
  },
  {
   "cell_type": "code",
   "execution_count": 49,
   "id": "fb7cbdeb",
   "metadata": {},
   "outputs": [
    {
     "name": "stdout",
     "output_type": "stream",
     "text": [
      "sum 41\n"
     ]
    }
   ],
   "source": [
    "print('sum', sum)"
   ]
  },
  {
   "cell_type": "code",
   "execution_count": 50,
   "id": "6058a4b7",
   "metadata": {},
   "outputs": [
    {
     "name": "stdout",
     "output_type": "stream",
     "text": [
      "range(0, 10)\n"
     ]
    }
   ],
   "source": [
    "print(range(10))"
   ]
  },
  {
   "cell_type": "code",
   "execution_count": 51,
   "id": "f2ba33b8",
   "metadata": {},
   "outputs": [
    {
     "name": "stdout",
     "output_type": "stream",
     "text": [
      "[0, 1, 2, 3, 4, 5, 6, 7, 8, 9]\n"
     ]
    }
   ],
   "source": [
    "print(list(range(10)))"
   ]
  },
  {
   "cell_type": "code",
   "execution_count": 53,
   "id": "b3d00761",
   "metadata": {},
   "outputs": [
    {
     "name": "stdout",
     "output_type": "stream",
     "text": [
      "0\n",
      "1\n",
      "5\n",
      "stop\n"
     ]
    }
   ],
   "source": [
    "#for loop with else\n",
    "\n",
    "digits = [0, 1, 5]\n",
    "\n",
    "for i in digits:\n",
    "    print(i)\n",
    "    \n",
    "else:\n",
    "    print('stop')"
   ]
  },
  {
   "cell_type": "code",
   "execution_count": 56,
   "id": "3ee07131",
   "metadata": {},
   "outputs": [
    {
     "name": "stdout",
     "output_type": "stream",
     "text": [
      "10\n",
      "20\n",
      "40\n",
      "50\n",
      "3\n",
      "89\n",
      "No items left\n"
     ]
    }
   ],
   "source": [
    "lst = [10, 20, 40, 50, 3, 89]\n",
    "\n",
    "for i in lst:\n",
    "    print(i)\n",
    "    \n",
    "else:\n",
    "    print('No items left')"
   ]
  },
  {
   "cell_type": "code",
   "execution_count": 57,
   "id": "1528238a",
   "metadata": {},
   "outputs": [
    {
     "name": "stdout",
     "output_type": "stream",
     "text": [
      "0\n",
      "1\n",
      "2\n",
      "3\n",
      "4\n"
     ]
    }
   ],
   "source": [
    "for i in range(5):\n",
    "    print(i)"
   ]
  },
  {
   "cell_type": "code",
   "execution_count": null,
   "id": "9bc7a1e1",
   "metadata": {},
   "outputs": [],
   "source": []
  }
 ],
 "metadata": {
  "kernelspec": {
   "display_name": "Python 3 (ipykernel)",
   "language": "python",
   "name": "python3"
  },
  "language_info": {
   "codemirror_mode": {
    "name": "ipython",
    "version": 3
   },
   "file_extension": ".py",
   "mimetype": "text/x-python",
   "name": "python",
   "nbconvert_exporter": "python",
   "pygments_lexer": "ipython3",
   "version": "3.9.12"
  }
 },
 "nbformat": 4,
 "nbformat_minor": 5
}
