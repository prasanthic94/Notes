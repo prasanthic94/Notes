{
 "cells": [
  {
   "cell_type": "markdown",
   "id": "591c90fe",
   "metadata": {},
   "source": [
    "Function Arguments"
   ]
  },
  {
   "cell_type": "code",
   "execution_count": null,
   "id": "cdffe4ac",
   "metadata": {},
   "outputs": [],
   "source": [
    "def update(x):\n",
    "    x =8\n",
    "    print(x)\n",
    "update(10)"
   ]
  },
  {
   "cell_type": "code",
   "execution_count": null,
   "id": "5956dc08",
   "metadata": {},
   "outputs": [],
   "source": [
    "def update(x):\n",
    "    x =8\n",
    "    print(x)\n",
    "    \n",
    "a=10\n",
    "update(a)\n",
    "print(a)"
   ]
  },
  {
   "cell_type": "code",
   "execution_count": null,
   "id": "18f422a5",
   "metadata": {},
   "outputs": [],
   "source": [
    "def update(x):\n",
    "    x =8\n",
    "    print('x', x)\n",
    "    \n",
    "a=10\n",
    "update(a)\n",
    "print('a', a) "
   ]
  },
  {
   "cell_type": "code",
   "execution_count": null,
   "id": "968aa4e7",
   "metadata": {},
   "outputs": [],
   "source": [
    "def update(x):\n",
    "    print(id(x))\n",
    "    x=8\n",
    "    print(id(x))\n",
    "\n",
    "a = 10\n",
    "print(id(a))\n",
    "update(a)\n",
    "print('a', a)"
   ]
  },
  {
   "cell_type": "code",
   "execution_count": null,
   "id": "aa6e4d3d",
   "metadata": {},
   "outputs": [],
   "source": [
    "def update(lst):\n",
    "    print(id(lst))\n",
    "    \n",
    "    lst[1] =25\n",
    "    print(id(lst))\n",
    "    print('x', lst)\n",
    "\n",
    "lst = [10, 25, 30]\n",
    "print(id(lst))\n",
    "update(lst)\n",
    "print('lst', lst)"
   ]
  },
  {
   "cell_type": "code",
   "execution_count": null,
   "id": "775dc64e",
   "metadata": {},
   "outputs": [],
   "source": [
    "def my_function(fname):\n",
    "  print(fname + \" Refsnes\")\n",
    "\n",
    "my_function(\"Emil\")\n",
    "my_function(\"Tobias\")\n",
    "my_function(\"Linus\")"
   ]
  },
  {
   "cell_type": "code",
   "execution_count": null,
   "id": "faf4a30e",
   "metadata": {},
   "outputs": [],
   "source": [
    "def add(a,b=5,c=10):\n",
    "    return (a+b+c)\n",
    "print(add(3))"
   ]
  },
  {
   "cell_type": "code",
   "execution_count": null,
   "id": "f8c8ad37",
   "metadata": {},
   "outputs": [],
   "source": [
    "def add(a,b=5,c=10):\n",
    "    return (a+b+c)\n",
    "print(add(3,4))"
   ]
  },
  {
   "cell_type": "code",
   "execution_count": null,
   "id": "fa2315be",
   "metadata": {},
   "outputs": [],
   "source": [
    "#postion argument\n",
    "def person(name,age):\n",
    "    print(name)\n",
    "    print(age)\n",
    "\n",
    "person('prasanthi', 28)\n",
    "    "
   ]
  },
  {
   "cell_type": "code",
   "execution_count": null,
   "id": "c50cf9f5",
   "metadata": {},
   "outputs": [],
   "source": [
    "def person_name(first_name,second_name):\n",
    "    print(first_name+second_name)\n",
    "\n",
    "person_name('prasanthi', 'lava')"
   ]
  },
  {
   "cell_type": "code",
   "execution_count": null,
   "id": "7fa75c2a",
   "metadata": {},
   "outputs": [],
   "source": [
    "def person(name,age):\n",
    "    print(name)\n",
    "    print(age)\n",
    "\n",
    "person(28, 'prasanthi')"
   ]
  },
  {
   "cell_type": "code",
   "execution_count": null,
   "id": "c7e88cb2",
   "metadata": {},
   "outputs": [],
   "source": [
    "def person(name,age):\n",
    "    print(name)\n",
    "    print(age-5)\n",
    "\n",
    "person(28, 'prasanthi')"
   ]
  },
  {
   "cell_type": "code",
   "execution_count": null,
   "id": "b4fcb306",
   "metadata": {},
   "outputs": [],
   "source": [
    "#keyword argument\n",
    "\n",
    "def person(name,age):\n",
    "    print(name)\n",
    "    print(age)\n",
    "\n",
    "\n",
    "person (age=28, name='prasanthi')"
   ]
  },
  {
   "cell_type": "code",
   "execution_count": null,
   "id": "efe7c36f",
   "metadata": {},
   "outputs": [],
   "source": [
    "#default \n",
    "def person(name,age=18):\n",
    "    print(name)\n",
    "    print(age)\n",
    "\n",
    "person('prasanthi')"
   ]
  },
  {
   "cell_type": "code",
   "execution_count": null,
   "id": "79a4659e",
   "metadata": {},
   "outputs": [],
   "source": [
    "def person(name,age=18):\n",
    "    print(name)\n",
    "    print(age)\n",
    "\n",
    "person('prasanthi', 28)"
   ]
  },
  {
   "cell_type": "code",
   "execution_count": null,
   "id": "682c6bca",
   "metadata": {},
   "outputs": [],
   "source": [
    "def sum(a, *b):\n",
    "    c= a+b\n",
    "    print(c)\n",
    " \n",
    "sum(5,6,34,78)    "
   ]
  },
  {
   "cell_type": "code",
   "execution_count": null,
   "id": "e3ec62c8",
   "metadata": {},
   "outputs": [],
   "source": [
    "def add(a=5,b,c):\n",
    "    return (a+b+c)\n"
   ]
  },
  {
   "cell_type": "code",
   "execution_count": null,
   "id": "eec20d43",
   "metadata": {},
   "outputs": [],
   "source": [
    "def add(a,b,c):\n",
    "    return (a+b+c)\n",
    "\n",
    "print (add(a=10,3,4))"
   ]
  },
  {
   "cell_type": "code",
   "execution_count": null,
   "id": "81b8730b",
   "metadata": {},
   "outputs": [],
   "source": [
    "def add(a,b=5,c=10):\n",
    "    return (a+b+c)\n",
    "\n",
    "print (add(2))"
   ]
  },
  {
   "cell_type": "code",
   "execution_count": null,
   "id": "16e06787",
   "metadata": {},
   "outputs": [],
   "source": [
    "def sum(a, *b):\n",
    "    c=a\n",
    "    \n",
    "    for i in b:\n",
    "        c = c+i\n",
    "    print(c)\n",
    "\n",
    "sum(5,6,34,78)"
   ]
  },
  {
   "cell_type": "code",
   "execution_count": null,
   "id": "9f78659c",
   "metadata": {},
   "outputs": [],
   "source": [
    "def sum(a, *b):\n",
    "    c=0\n",
    "    \n",
    "    for i in b:\n",
    "        c = c+i\n",
    "    print(c)\n",
    "\n",
    "sum(5,6,34,78)"
   ]
  },
  {
   "cell_type": "code",
   "execution_count": null,
   "id": "67f6cb4e",
   "metadata": {},
   "outputs": [],
   "source": [
    "def add(*b):\n",
    "    result=0\n",
    "    for i in b:\n",
    "         result=result+i\n",
    "    return result\n",
    "\n",
    "print (add(1,2,3,4,5))"
   ]
  },
  {
   "cell_type": "code",
   "execution_count": null,
   "id": "dfb29723",
   "metadata": {},
   "outputs": [],
   "source": [
    "def divide(a,b):\n",
    "                return a/b\n",
    "divide(3,2)"
   ]
  },
  {
   "cell_type": "code",
   "execution_count": null,
   "id": "5a7a2bbd",
   "metadata": {},
   "outputs": [],
   "source": [
    "def greet(name, msg):\n",
    "    \"\"\"This function greets to\n",
    "    the person with the provided message\"\"\"\n",
    "    print(\"Hello\", name + ', ' + msg)\n",
    "\n",
    "greet(\"prasanthi\", \"Good morning!\")"
   ]
  },
  {
   "cell_type": "code",
   "execution_count": null,
   "id": "112a04d0",
   "metadata": {},
   "outputs": [],
   "source": [
    "def divide_two(a, b):\n",
    "    res = a / b\n",
    "    return res\n",
    " \n",
    "res = divide_two(12, 3)\n",
    "print(res)"
   ]
  },
  {
   "cell_type": "code",
   "execution_count": null,
   "id": "a2f4ae5e",
   "metadata": {},
   "outputs": [],
   "source": [
    "def sayhello(name = 'world'):\n",
    "    print('hello', name)\n",
    "\n",
    "sayhello()\n",
    "sayhello('prasanthi')"
   ]
  },
  {
   "cell_type": "code",
   "execution_count": null,
   "id": "290213bf",
   "metadata": {},
   "outputs": [],
   "source": [
    "def multiply(a, b):\n",
    "    return a*b\n",
    "    \n",
    "print(multiply(a=10, b=5))\n",
    "print(multiply(b=20, a=9))\n",
    "print(multiply(a=90, b=25))\n"
   ]
  },
  {
   "cell_type": "code",
   "execution_count": null,
   "id": "d6077449",
   "metadata": {},
   "outputs": [],
   "source": [
    "def function(a,b,c):\n",
    "    return a,b,c\n",
    "\n",
    "print(function(12,22,23))\n"
   ]
  },
  {
   "cell_type": "code",
   "execution_count": null,
   "id": "29b665fb",
   "metadata": {},
   "outputs": [],
   "source": [
    "def function(a,b,c):\n",
    "    return a,b,c\n",
    "\n",
    "a=10\n",
    "b=20\n",
    "c=30\n",
    "\n",
    "print(function(a,b,c))\n"
   ]
  },
  {
   "cell_type": "code",
   "execution_count": null,
   "id": "90667ae2",
   "metadata": {},
   "outputs": [],
   "source": [
    "def function(a,b,c):\n",
    "    return a,b,c\n",
    "\n",
    "a=10\n",
    "b=20\n",
    "c=30\n",
    "\n",
    "print(function(b,c,a))"
   ]
  },
  {
   "cell_type": "code",
   "execution_count": null,
   "id": "3c911492",
   "metadata": {},
   "outputs": [],
   "source": [
    "def function(a,b,c):\n",
    "    return a,b,c\n",
    "\n",
    "print(function(b=20,a=10,c=30))"
   ]
  },
  {
   "cell_type": "code",
   "execution_count": null,
   "id": "692abb79",
   "metadata": {},
   "outputs": [],
   "source": [
    "def msg(x,y):\n",
    "    print(x, 'prasanthi', y)\n",
    "\n",
    "msg('Hai' , 'Good Morning')"
   ]
  },
  {
   "cell_type": "code",
   "execution_count": null,
   "id": "17bf2d85",
   "metadata": {},
   "outputs": [],
   "source": [
    "def add(x=1, y=2):\n",
    "    z = x+y\n",
    "    print(z)\n",
    "\n",
    "add(4,5)\n"
   ]
  },
  {
   "cell_type": "code",
   "execution_count": null,
   "id": "24856111",
   "metadata": {},
   "outputs": [],
   "source": [
    "def fun(a=10, b=20, c=30):\n",
    "    return a,b,c\n",
    "\n",
    "print(fun())"
   ]
  },
  {
   "cell_type": "code",
   "execution_count": null,
   "id": "e0c084cd",
   "metadata": {},
   "outputs": [],
   "source": [
    "def fun(a=10, b=20, c=30):\n",
    "    return a,b,c\n",
    "\n",
    "print(fun(1))"
   ]
  },
  {
   "cell_type": "markdown",
   "id": "4052de6f",
   "metadata": {},
   "source": [
    "Keyword variable length"
   ]
  },
  {
   "cell_type": "code",
   "execution_count": null,
   "id": "70633081",
   "metadata": {},
   "outputs": [],
   "source": [
    "def person(name, *data):\n",
    "    print(name)\n",
    "    print(data)\n",
    "\n",
    "person('prasanthi',28, 'mumbai', 9812345)"
   ]
  },
  {
   "cell_type": "code",
   "execution_count": null,
   "id": "3a56bbf5",
   "metadata": {},
   "outputs": [],
   "source": [
    "def person(name, *data):\n",
    "    print(name)\n",
    "    print(data)\n",
    "\n",
    "person('prasanthi',age=28, city='mumbai', phone=9812345)"
   ]
  },
  {
   "cell_type": "code",
   "execution_count": null,
   "id": "b7f08feb",
   "metadata": {},
   "outputs": [],
   "source": [
    "def person(name, **data):\n",
    "    print(name)\n",
    "    print(data)\n",
    "\n",
    "person ('prasanthi',age=28, city='mumbai', phone=9812345)"
   ]
  },
  {
   "cell_type": "code",
   "execution_count": null,
   "id": "848fbc16",
   "metadata": {},
   "outputs": [],
   "source": [
    "def person(name, **data):\n",
    "    \n",
    "    print(name)\n",
    "    \n",
    "    for i,j in data.items():\n",
    "        print(i,j)\n",
    "\n",
    "person('prasanthi',age=28, city='mumbai', phone=9812345)"
   ]
  },
  {
   "cell_type": "code",
   "execution_count": null,
   "id": "5d25241a",
   "metadata": {
    "scrolled": true
   },
   "outputs": [],
   "source": [
    "def my_func(*argp):\n",
    "    for i in argp:\n",
    "        print(i)\n",
    "my_func('Let', 'us', 'study', 'Data Science', 'and', 'Blockchain')"
   ]
  },
  {
   "cell_type": "code",
   "execution_count": null,
   "id": "e657cf4f",
   "metadata": {},
   "outputs": [],
   "source": [
    "def my_fun(par1,par2,*argp):\n",
    "    \n",
    "    print('The first parameter is:',par1)\n",
    "    print('The second parameter is:',par2)\n",
    "    \n",
    "    for i in argp:\n",
    "        print(i)\n",
    "        \n",
    "my_func('Let', 'us', 'study', 'Data Science', 'and', 'Blockchain')"
   ]
  },
  {
   "cell_type": "code",
   "execution_count": null,
   "id": "c4613155",
   "metadata": {},
   "outputs": [],
   "source": [
    "#program to demonstrate **kwargs \n",
    "def my_fun(*args,**kwargs):\n",
    "    print('The value of args is:', args)\n",
    "    print('The value of kwargs is:',kwargs)\n",
    "\n",
    "my_fun('Let','us','study',a_key='Data Science',b_key='and',c_key='Blockchain')"
   ]
  },
  {
   "cell_type": "markdown",
   "id": "4ab76a83",
   "metadata": {},
   "source": [
    "Global keyword"
   ]
  },
  {
   "cell_type": "code",
   "execution_count": null,
   "id": "9f05a081",
   "metadata": {},
   "outputs": [],
   "source": [
    "a = 10\n",
    "\n",
    "print(a)"
   ]
  },
  {
   "cell_type": "code",
   "execution_count": null,
   "id": "4116352f",
   "metadata": {},
   "outputs": [],
   "source": [
    "a=10\n",
    "\n",
    "def input():\n",
    "    a=15\n",
    "\n",
    "    print(a)\n",
    "    \n",
    "print(a)"
   ]
  },
  {
   "cell_type": "code",
   "execution_count": null,
   "id": "deb984f6",
   "metadata": {},
   "outputs": [],
   "source": [
    "a=10\n",
    "\n",
    "def input():\n",
    "    a=15\n",
    "    b=8\n",
    "    print(a)\n",
    "\n",
    "print(b)\n",
    "    \n",
    "print(a)"
   ]
  },
  {
   "cell_type": "code",
   "execution_count": null,
   "id": "5e5c90df",
   "metadata": {},
   "outputs": [],
   "source": [
    "a=10\n",
    "def input():\n",
    "    a=15\n",
    "    print('in fun', a)\n",
    "input()\n",
    "\n",
    "print('outside', a)"
   ]
  },
  {
   "cell_type": "code",
   "execution_count": null,
   "id": "2bab6b0b",
   "metadata": {},
   "outputs": [],
   "source": [
    "a=10\n",
    "def input():\n",
    " \n",
    "    print('in fun', a)\n",
    "input()\n",
    "\n",
    "print('outside', a)"
   ]
  },
  {
   "cell_type": "code",
   "execution_count": null,
   "id": "c2f1db49",
   "metadata": {},
   "outputs": [],
   "source": [
    "a=10\n",
    "def input():\n",
    "    global a\n",
    "    a=15\n",
    "    print('in fun', a)\n",
    "    \n",
    "input()\n",
    "\n",
    "print('outside', a)"
   ]
  },
  {
   "cell_type": "code",
   "execution_count": null,
   "id": "6423d9e7",
   "metadata": {},
   "outputs": [],
   "source": [
    "a=10\n",
    "print(id(a))\n",
    "\n",
    "def input():\n",
    "    a=9\n",
    "    \n",
    "    x=globals()['a']\n",
    "    print(id(x))\n",
    "    print('in fun', a)\n",
    "    \n",
    "    globals()['a'] = 15\n",
    "    \n",
    "input()\n",
    "\n",
    "print('outside', a)"
   ]
  },
  {
   "cell_type": "code",
   "execution_count": null,
   "id": "bbce0011",
   "metadata": {},
   "outputs": [],
   "source": [
    "c = 0\n",
    "def add():\n",
    "    global c\n",
    "    c =c+2\n",
    "    print('inside add():',c)\n",
    "    \n",
    "add()\n",
    "print('In main:',c)\n",
    "    "
   ]
  },
  {
   "cell_type": "code",
   "execution_count": null,
   "id": "ac237398",
   "metadata": {},
   "outputs": [],
   "source": [
    "a=15\n",
    "b=10\n",
    "\n",
    "def add():\n",
    "    c = a+b\n",
    "    print(c)\n",
    "add()"
   ]
  },
  {
   "cell_type": "code",
   "execution_count": null,
   "id": "da990960",
   "metadata": {},
   "outputs": [],
   "source": [
    "#This output is an error because we are trying to assign a value to a variable in an outer scope. \n",
    "#This can be done with the use of a global variable.a=15\n",
    "\n",
    "def change():\n",
    "    a = a+5\n",
    "    \n",
    "    print(a)\n",
    "\n",
    "change()"
   ]
  },
  {
   "cell_type": "code",
   "execution_count": null,
   "id": "12e3cdc2",
   "metadata": {},
   "outputs": [],
   "source": [
    "x =15\n",
    "\n",
    "def change():\n",
    "    global x\n",
    "    x=x+5\n",
    "    print('Value of x inside a function:', x)\n",
    "\n",
    "change()\n",
    "print('Value of x outside a function:', x)"
   ]
  },
  {
   "cell_type": "markdown",
   "id": "57f6d180",
   "metadata": {},
   "source": [
    "Pass a list of elements"
   ]
  },
  {
   "cell_type": "code",
   "execution_count": null,
   "id": "bf095882",
   "metadata": {},
   "outputs": [],
   "source": [
    "def count(lst):\n",
    "    even=0\n",
    "    odd=0\n",
    "    \n",
    "    for i in lst:\n",
    "        if i%2 == 0:\n",
    "            even+=1\n",
    "        else:\n",
    "            odd+=1\n",
    "    return even,odd\n",
    "    \n",
    "\n",
    "lst = [20,25,14,19,16,24,28,47,26]\n",
    "\n",
    "even,odd = count(lst)\n",
    "\n",
    "print(even)\n",
    "print(odd)"
   ]
  },
  {
   "cell_type": "code",
   "execution_count": null,
   "id": "8de07df5",
   "metadata": {},
   "outputs": [],
   "source": [
    "def count(lst):\n",
    "    even=0\n",
    "    odd=0\n",
    "    \n",
    "    for i in lst:\n",
    "        if i%2 == 0:\n",
    "            even+=1\n",
    "        else:\n",
    "            odd+=1\n",
    "    return even,odd\n",
    "    \n",
    "\n",
    "lst = [20,25,14,19,16,24,28,47,26]\n",
    "\n",
    "even,odd = count(lst)\n",
    "\n",
    "print('Even : {} and Odd : {}'.format(even,odd))"
   ]
  },
  {
   "cell_type": "code",
   "execution_count": null,
   "id": "99b49779",
   "metadata": {},
   "outputs": [],
   "source": [
    "def tes1(cars):\n",
    " for i in cars:\n",
    "    print(i)\n",
    "merc = [\"GLA\", \"GLE\", \"GLS\"]\n",
    "tes1(merc)"
   ]
  },
  {
   "cell_type": "code",
   "execution_count": null,
   "id": "7e59f000",
   "metadata": {},
   "outputs": [],
   "source": [
    "#Use tuple() function\n",
    "\n",
    "def argpass(a1, a2):\n",
    "    print('argument 1:' + str(a1))\n",
    "    print('argument 2:' + str(a2))\n",
    "\n",
    "lis = ['Merc', 'BMW']\n",
    "print(\"The original list is : \" + str(lis))\n",
    "x, y = tuple(lis)\n",
    "argpass(x, y)"
   ]
  },
  {
   "cell_type": "markdown",
   "id": "472b6553",
   "metadata": {},
   "source": [
    "# Recursion "
   ]
  },
  {
   "cell_type": "code",
   "execution_count": null,
   "id": "37e13c0f",
   "metadata": {},
   "outputs": [],
   "source": [
    "#program factorial of a no using recursion\n",
    "\n",
    "def fact(n):\n",
    "    if n == 1:\n",
    "        return 1\n",
    "    else:\n",
    "        return n*fact(n-1)\n",
    "fact(4)"
   ]
  },
  {
   "cell_type": "code",
   "execution_count": null,
   "id": "9b57a77e",
   "metadata": {},
   "outputs": [],
   "source": [
    "import sys\n",
    "\n",
    "sys.setrecursionlimit(2000)\n",
    "\n",
    "print(sys.getrecursionlimit())\n",
    "\n",
    "i=0\n",
    "\n",
    "def greet():\n",
    "    global i\n",
    "    i+=1\n",
    "    print('Hello', i)\n",
    "    greet()\n",
    "    \n",
    "greet()"
   ]
  },
  {
   "cell_type": "code",
   "execution_count": null,
   "id": "c4733cf1",
   "metadata": {},
   "outputs": [],
   "source": [
    "#Factorial using Recursion\n",
    "def Recur_fact(n):\n",
    "    \n",
    "    if (n==0):\n",
    "        return 1\n",
    "    \n",
    "    return n * Recur_fact(n-1)\n",
    "\n",
    "print(Recur_fact(5))"
   ]
  },
  {
   "cell_type": "code",
   "execution_count": null,
   "id": "352b44c2",
   "metadata": {},
   "outputs": [],
   "source": [
    "def Recur_facto(n, a = 1):\n",
    "    \n",
    "    if (n == 0):\n",
    "        return a\n",
    "\n",
    "    return Recur_facto(n - 1, n * a)\n",
    "\n",
    "\n",
    "print(Recur_facto(6))\n"
   ]
  },
  {
   "cell_type": "code",
   "execution_count": null,
   "id": "ccfd28ac",
   "metadata": {},
   "outputs": [],
   "source": [
    "def recur_factorial(n):\n",
    "    if n == 1:\n",
    "        return n\n",
    "    else:\n",
    "        return n*recur_factorial(n-1)\n",
    "num=7\n",
    "\n",
    "if num < 0:\n",
    "    print('Sorry, factorial does not exist for negative numbers')\n",
    "elif num == 0:\n",
    "    print('The factorial of 0 is 1')\n",
    "else:\n",
    "    print('The factorial of',num, 'is', recur_factorial(num))"
   ]
  },
  {
   "cell_type": "code",
   "execution_count": null,
   "id": "22e590ae",
   "metadata": {},
   "outputs": [],
   "source": [
    "def recur_factorial(n):\n",
    "    if n == 1:\n",
    "        return n\n",
    "    else:\n",
    "        return n*recur_factorial(n-1)\n",
    "num=-1\n",
    "\n",
    "if num < 0:\n",
    "    print('Sorry, factorial does not exist for negative numbers')\n",
    "elif num == 0:\n",
    "    print('The factorial of 0 is 1')\n",
    "else:\n",
    "    print('The factorial of',num, 'is', recur_factorial(num))"
   ]
  },
  {
   "cell_type": "code",
   "execution_count": null,
   "id": "e1dcf02b",
   "metadata": {},
   "outputs": [],
   "source": [
    "def recur_factorial(n):\n",
    "    if n == 1:\n",
    "        return n\n",
    "    else:\n",
    "        return n*recur_factorial(n-1)\n",
    "num=0\n",
    "\n",
    "if num < 0:\n",
    "    print('Sorry, factorial does not exist for negative numbers')\n",
    "elif num == 0:\n",
    "    print('The factorial of 0 is 1')\n",
    "else:\n",
    "    print('The factorial of',num, 'is', recur_factorial(num))"
   ]
  },
  {
   "cell_type": "markdown",
   "id": "646d2502",
   "metadata": {},
   "source": [
    "Anonymous Functions \n"
   ]
  },
  {
   "cell_type": "code",
   "execution_count": null,
   "id": "f1c3ffaa",
   "metadata": {},
   "outputs": [],
   "source": [
    "def square(a):\n",
    "    return a*a\n",
    "\n",
    "result = square(5)\n",
    "\n",
    "print(result)"
   ]
  },
  {
   "cell_type": "code",
   "execution_count": null,
   "id": "0ba317af",
   "metadata": {},
   "outputs": [],
   "source": [
    "f = lambda a:a*a\n",
    "\n",
    "result = f(5)\n",
    "\n",
    "print(result)"
   ]
  },
  {
   "cell_type": "code",
   "execution_count": null,
   "id": "51abadf5",
   "metadata": {},
   "outputs": [],
   "source": [
    "x = lambda a:a+10\n",
    "print(x(5))"
   ]
  },
  {
   "cell_type": "code",
   "execution_count": null,
   "id": "e4acc1f0",
   "metadata": {},
   "outputs": [],
   "source": [
    "#Multiply argument\n",
    "x = lambda a,b:a*b\n",
    "print(x(5,6))\n"
   ]
  },
  {
   "cell_type": "code",
   "execution_count": null,
   "id": "900eb24c",
   "metadata": {},
   "outputs": [],
   "source": [
    "x = lambda a, b, c : a + b + c\n",
    "print(x(5, 6, 2))"
   ]
  },
  {
   "cell_type": "code",
   "execution_count": null,
   "id": "8ddf0539",
   "metadata": {},
   "outputs": [],
   "source": [
    "x = lambda a:a+a\n",
    "\n",
    "print(x(2))"
   ]
  },
  {
   "cell_type": "code",
   "execution_count": null,
   "id": "43863800",
   "metadata": {},
   "outputs": [],
   "source": [
    "x = lambda a:a+10\n",
    "\n",
    "print(x(3))"
   ]
  },
  {
   "cell_type": "code",
   "execution_count": null,
   "id": "e05ad971",
   "metadata": {},
   "outputs": [],
   "source": [
    "def fun(n):\n",
    "    return lambda a:a*n\n",
    "\n",
    "c=fun(2)\n",
    "\n",
    "print(c(10))"
   ]
  },
  {
   "cell_type": "markdown",
   "id": "8eb2b855",
   "metadata": {},
   "source": [
    " Filter Map Reduce"
   ]
  },
  {
   "cell_type": "code",
   "execution_count": null,
   "id": "098887d4",
   "metadata": {},
   "outputs": [],
   "source": [
    "#filter() without lambda\n",
    "\n",
    "def is_even (n):\n",
    "    return n%2 == 0\n",
    "\n",
    "nums = [3,2,6,5,4,7,8,9,3,1]\n",
    "\n",
    "even = list(filter(is_even,nums))\n",
    "\n",
    "print(even)"
   ]
  },
  {
   "cell_type": "code",
   "execution_count": null,
   "id": "d8f74b5d",
   "metadata": {},
   "outputs": [],
   "source": [
    "nums = [3,2,6,5,4,7,8,9,3,1]\n",
    "\n",
    "evens = list(filter(lambda n : n%2 == 0, nums))\n",
    "\n",
    "print(even)"
   ]
  },
  {
   "cell_type": "code",
   "execution_count": null,
   "id": "89d6385d",
   "metadata": {},
   "outputs": [],
   "source": [
    "#map\n",
    "\n",
    "nums = [3,2,6,5,4,7,8,9,3,1]\n",
    "\n",
    "doubles = list(map(lambda n : n*2,evens))\n",
    "\n",
    "print(doubles)"
   ]
  },
  {
   "cell_type": "code",
   "execution_count": null,
   "id": "6abe58e2",
   "metadata": {},
   "outputs": [],
   "source": [
    "items = [1, 2, 3, 4, 5]\n",
    "squared = []\n",
    "for i in items:\n",
    "    squared.append(i**2)\n",
    "\n",
    "print(squared)"
   ]
  },
  {
   "cell_type": "code",
   "execution_count": null,
   "id": "0d20c82b",
   "metadata": {},
   "outputs": [],
   "source": [
    "#with map\n",
    "\n",
    "items = [1, 2, 3, 4, 5]\n",
    "squared = list(map(lambda x: x**2, items))\n",
    "print(squared)"
   ]
  },
  {
   "cell_type": "code",
   "execution_count": null,
   "id": "3c5abf90",
   "metadata": {},
   "outputs": [],
   "source": [
    "def function(a):\n",
    "    return a*a\n",
    "x = map(function, (1,2,3,4))  #x is the map object\n",
    "print(x)\n",
    "print(set(x))"
   ]
  },
  {
   "cell_type": "code",
   "execution_count": null,
   "id": "994ddef9",
   "metadata": {},
   "outputs": [],
   "source": [
    "my_pets = ['alfred', 'tabitha', 'william', 'arla']\n",
    "\n",
    "uppered_pets = list(map(str.upper, my_pets))\n",
    "\n",
    "print(uppered_pets)"
   ]
  },
  {
   "cell_type": "code",
   "execution_count": null,
   "id": "bed6244e",
   "metadata": {},
   "outputs": [],
   "source": [
    "circle_areas = [3.56773, 5.57668, 4.00914, 56.24241, 9.01344, 32.00013]\n",
    "\n",
    "result = list(map(round, circle_areas, range(1, 7)))\n",
    "\n",
    "print(result)"
   ]
  },
  {
   "cell_type": "code",
   "execution_count": null,
   "id": "ae8a0c90",
   "metadata": {},
   "outputs": [],
   "source": [
    "#reduce\n",
    "\n",
    "from functools import reduce\n",
    "\n",
    "def add_all(a,b):\n",
    "    return a+b \n",
    "\n",
    "nums = [3,2,6,5,4,7,8,9,3,1]\n",
    "\n",
    "evens = list(filter(lambda n : n%2 == 0, nums))\n",
    "\n",
    "doubles = list(map(lambda n : n*2,evens))\n",
    "print(doubles)\n",
    "\n",
    "sum = reduce(lambda a,b:a+b,doubles)\n",
    "\n",
    "print(sum)"
   ]
  },
  {
   "cell_type": "code",
   "execution_count": null,
   "id": "60d4f837",
   "metadata": {},
   "outputs": [],
   "source": [
    "reduce(lambda a,b: a+b,[23,21,45,98])"
   ]
  },
  {
   "cell_type": "code",
   "execution_count": null,
   "id": "082c2b73",
   "metadata": {},
   "outputs": [],
   "source": [
    "#without reduce\n",
    "product = 1\n",
    "\n",
    "list = [1, 2, 3, 4]\n",
    "\n",
    "for num in list:\n",
    "    product = product * num\n",
    "    \n",
    "print(product)"
   ]
  },
  {
   "cell_type": "code",
   "execution_count": null,
   "id": "888e5835",
   "metadata": {},
   "outputs": [],
   "source": [
    "product = reduce((lambda x, y: x * y), [1, 2, 3, 4])\n",
    "\n",
    "print(product)\n"
   ]
  },
  {
   "cell_type": "code",
   "execution_count": null,
   "id": "4ba1e1ad",
   "metadata": {},
   "outputs": [],
   "source": [
    "def func(x):\n",
    "    if x>=3:\n",
    "        return x\n",
    "y = filter(func, (1,2,3,4)) \n",
    "\n",
    "print(y)\n",
    "\n",
    "print(list(y))"
   ]
  },
  {
   "cell_type": "code",
   "execution_count": null,
   "id": "6bee2681",
   "metadata": {},
   "outputs": [],
   "source": [
    "list2=[1,2,3,4,5,6,7,8,9]\n",
    "\n",
    "output = list(filter(lambda x:x%2 == 0, list2))\n",
    "\n",
    "print(output)"
   ]
  },
  {
   "cell_type": "code",
   "execution_count": null,
   "id": "f4d06392",
   "metadata": {},
   "outputs": [],
   "source": [
    "list2=[1,2,3,4,5,6,7,8,9]\n",
    "\n",
    "print(list(filter(lambda x:x%2 == 0, list2)))"
   ]
  },
  {
   "cell_type": "code",
   "execution_count": null,
   "id": "dfcea690",
   "metadata": {},
   "outputs": [],
   "source": [
    "\n",
    "names = ['abhi', 'chinnu', 'kanna','','','', 'ganesh','']\n",
    "\n",
    "print(list(filter(None,names)))"
   ]
  },
  {
   "cell_type": "markdown",
   "id": "531a628c",
   "metadata": {},
   "source": [
    "--name--"
   ]
  },
  {
   "cell_type": "code",
   "execution_count": null,
   "id": "39e8ddf5",
   "metadata": {},
   "outputs": [],
   "source": [
    "print(__name__)"
   ]
  },
  {
   "cell_type": "code",
   "execution_count": null,
   "id": "3c1dfc7d",
   "metadata": {},
   "outputs": [],
   "source": [
    "print(\"hello\")"
   ]
  },
  {
   "cell_type": "code",
   "execution_count": null,
   "id": "c53cff59",
   "metadata": {},
   "outputs": [],
   "source": [
    "print('Hello + __name__')"
   ]
  },
  {
   "cell_type": "code",
   "execution_count": null,
   "id": "45a49481",
   "metadata": {},
   "outputs": [],
   "source": [
    "import cal\n",
    "\n",
    "print('Demo:' + __name__)"
   ]
  },
  {
   "cell_type": "code",
   "execution_count": null,
   "id": "c9c5ba4a",
   "metadata": {},
   "outputs": [],
   "source": [
    "def main():\n",
    "    print('Hello')\n",
    "    Print('Welcome User')\n",
    "\n",
    "if __name__ == '__main':\n",
    "    main()"
   ]
  },
  {
   "cell_type": "code",
   "execution_count": null,
   "id": "b4bf683e",
   "metadata": {},
   "outputs": [],
   "source": [
    "import second\n",
    "\n",
    "print('first file')"
   ]
  },
  {
   "cell_type": "code",
   "execution_count": null,
   "id": "ec8c06a0",
   "metadata": {},
   "outputs": [],
   "source": [
    "import sec\n",
    "\n",
    "print(sec.a)\n",
    "\n",
    "if __name__ == '__main__':\n",
    "\n",
    "     print('first file')\n"
   ]
  },
  {
   "cell_type": "code",
   "execution_count": null,
   "id": "5cbe4df1",
   "metadata": {},
   "outputs": [],
   "source": [
    "import calculator\n",
    "\n",
    "print('from calculator.py',  __name__)"
   ]
  },
  {
   "cell_type": "code",
   "execution_count": null,
   "id": "993b077c",
   "metadata": {},
   "outputs": [],
   "source": [
    "import cal"
   ]
  },
  {
   "cell_type": "code",
   "execution_count": null,
   "id": "0bec6efb",
   "metadata": {},
   "outputs": [],
   "source": [
    "print(cal.add(7,6))"
   ]
  },
  {
   "cell_type": "code",
   "execution_count": null,
   "id": "9a0f9597",
   "metadata": {},
   "outputs": [],
   "source": [
    "print(calculator.add(7,6))"
   ]
  },
  {
   "cell_type": "code",
   "execution_count": null,
   "id": "f1a52bb5",
   "metadata": {},
   "outputs": [],
   "source": [
    "import calculator\n",
    "\n",
    "print(calculator.add(7,6))"
   ]
  },
  {
   "cell_type": "code",
   "execution_count": null,
   "id": "8671ac0f",
   "metadata": {},
   "outputs": [],
   "source": [
    "def fun1():\n",
    "    print('from fun1')\n",
    "    \n",
    "    \n",
    "def fun2():\n",
    "    print('from fun2')\n",
    "    \n",
    "    \n",
    " \n",
    "def main():\n",
    "    fun1()\n",
    "    fun2()\n",
    "    \n",
    "    \n",
    "main()"
   ]
  },
  {
   "cell_type": "code",
   "execution_count": null,
   "id": "35773a60",
   "metadata": {},
   "outputs": [],
   "source": [
    "from cal1 import add\n",
    "\n",
    "def fun1():\n",
    "    add()\n",
    "    print('from fun1')\n",
    "    \n",
    "    \n",
    "def fun2():\n",
    "    print('from fun2')\n",
    "    \n",
    "    \n",
    " \n",
    "def main():\n",
    "    fun1()\n",
    "    fun2()\n",
    "    \n",
    "    \n",
    "main()"
   ]
  },
  {
   "cell_type": "code",
   "execution_count": null,
   "id": "5b8c37dd",
   "metadata": {},
   "outputs": [],
   "source": [
    "def sum():\n",
    "    print('result 1 is ')\n",
    "\n",
    "\n",
    "def sub():\n",
    "    print('result 2 is ')    \n",
    "    \n",
    "def main():\n",
    "    add()\n",
    "    sub()\n",
    "    \n",
    "main()"
   ]
  },
  {
   "cell_type": "code",
   "execution_count": null,
   "id": "6475fd18",
   "metadata": {},
   "outputs": [],
   "source": [
    "def sum():\n",
    "    print('result 1 is ')\n",
    "\n",
    "\n",
    "def sub():\n",
    "    print('result 2 is ')    \n",
    "    \n",
    "def main():\n",
    "    sum()\n",
    "    sub()\n",
    "    \n",
    "    \n",
    "main()"
   ]
  },
  {
   "cell_type": "markdown",
   "id": "d06c2f5a",
   "metadata": {},
   "source": [
    "# MultiThreading\n"
   ]
  },
  {
   "cell_type": "code",
   "execution_count": null,
   "id": "fc853b80",
   "metadata": {},
   "outputs": [],
   "source": [
    "class Hello:\n",
    "    def run(self):\n",
    "        for i in range (5):\n",
    "            print ('Hello')\n",
    "\n",
    "class Hi:\n",
    "    def run(self):\n",
    "        for i in range (5):\n",
    "            print ('Hi')\n",
    "            \n",
    "t1 = Hello()\n",
    "t2 = Hi()\n",
    "\n",
    "\n",
    "t1.run()\n",
    "t2.run()\n",
    "    "
   ]
  },
  {
   "cell_type": "code",
   "execution_count": null,
   "id": "f74b43a0",
   "metadata": {},
   "outputs": [],
   "source": [
    "class Hello(Thread):\n",
    "    def run(self):\n",
    "        for i in range (5):\n",
    "            print ('Hello')\n",
    "\n",
    "class Hi(Thread):\n",
    "    def run(self):\n",
    "        for i in range (5):\n",
    "            print ('Hi')\n",
    "            \n",
    "t1 = Hello()\n",
    "t2 = Hi()\n",
    "\n",
    "\n",
    "t1.run()\n",
    "t2.run()"
   ]
  },
  {
   "cell_type": "code",
   "execution_count": null,
   "id": "7d329693",
   "metadata": {},
   "outputs": [],
   "source": [
    "from threading import *\n",
    "class Hello(Thread):\n",
    "    def run(self):\n",
    "        for i in range (5):\n",
    "            print ('Hello')\n",
    "\n",
    "class Hi(Thread):\n",
    "    def run(self):\n",
    "        for i in range (5):\n",
    "            print ('Hi')\n",
    "            \n",
    "t1 = Hello()\n",
    "t2 = Hi()\n",
    "\n",
    "\n",
    "t1.run()\n",
    "t2.run()"
   ]
  },
  {
   "cell_type": "code",
   "execution_count": null,
   "id": "20d3515c",
   "metadata": {},
   "outputs": [],
   "source": [
    "#start\n",
    "from threading import *\n",
    "\n",
    "class Hello(Thread):\n",
    "    def run(self):\n",
    "        for i in range (50):\n",
    "            print ('Hello')\n",
    "\n",
    "class Hi(Thread):\n",
    "    def run(self):\n",
    "        for i in range (50):\n",
    "            print ('Hi')\n",
    "            \n",
    "t1 = Hello()\n",
    "t2 = Hi()\n",
    "\n",
    "\n",
    "t1.start()\n",
    "t2.start()"
   ]
  },
  {
   "cell_type": "code",
   "execution_count": null,
   "id": "91754469",
   "metadata": {},
   "outputs": [],
   "source": [
    "from time import sleep\n",
    "from threading import *\n",
    "\n",
    "class Hello(Thread):\n",
    "    def run(self):\n",
    "        for i in range (20):\n",
    "            print ('Hello')\n",
    "            sleep(1)\n",
    "\n",
    "class Hi(Thread):\n",
    "    def run(self):\n",
    "        for i in range (20):\n",
    "            print ('Hi')\n",
    "            sleep(1)\n",
    "            \n",
    "t1 = Hello()\n",
    "t2 = Hi()\n",
    "\n",
    "\n",
    "t1.start()\n",
    "t2.start()"
   ]
  },
  {
   "cell_type": "code",
   "execution_count": null,
   "id": "02e732fb",
   "metadata": {},
   "outputs": [],
   "source": [
    "from time import sleep\n",
    "from threading import *\n",
    "\n",
    "class Hello(Thread):\n",
    "    def run(self):\n",
    "        for i in range (10):\n",
    "            print ('Hello')\n",
    "            sleep(1)\n",
    "\n",
    "class Hi(Thread):\n",
    "    def run(self):\n",
    "        for i in range (10):\n",
    "            print ('Hi')\n",
    "            sleep(1)\n",
    "            \n",
    "t1 = Hello()\n",
    "t2 = Hi()\n",
    "\n",
    "\n",
    "t1.start()\n",
    "sleep(0.2)\n",
    "t2.start()"
   ]
  },
  {
   "cell_type": "code",
   "execution_count": 18,
   "id": "65859f6b",
   "metadata": {},
   "outputs": [
    {
     "name": "stdout",
     "output_type": "stream",
     "text": [
      "Hello\n",
      "Hi\n",
      "Hello\n",
      "Hi\n",
      "Hello\n",
      "Hi\n",
      "Hello\n",
      "Hi\n",
      "Hello\n",
      "Hi\n",
      "Bye\n"
     ]
    }
   ],
   "source": [
    "from time import sleep\n",
    "from threading import *\n",
    "\n",
    "class Hello(Thread):\n",
    "    def run(self):\n",
    "        for i in range (5):\n",
    "            print ('Hello')\n",
    "            sleep(1)\n",
    "\n",
    "class Hi(Thread):\n",
    "    def run(self):\n",
    "        for i in range (5):\n",
    "            print ('Hi')\n",
    "            sleep(1)\n",
    "            \n",
    "t1 = Hello()\n",
    "t2 = Hi()\n",
    "\n",
    "\n",
    "t1.start()\n",
    "sleep(0.2)\n",
    "t2.start()\n",
    "\n",
    "\n",
    "t1.join()\n",
    "t2.join()\n",
    "\n",
    "print('Bye')"
   ]
  },
  {
   "cell_type": "code",
   "execution_count": 17,
   "id": "e77fee2e",
   "metadata": {},
   "outputs": [
    {
     "name": "stdout",
     "output_type": "stream",
     "text": [
      "Running Third Thread\n",
      "\n",
      "Running Second Thread\n",
      "\n",
      "Running First Thread\n",
      "\n",
      "Running Second Thread\n",
      "Running Third Thread\n",
      "Running First Thread\n",
      "\n",
      "\n",
      "\n",
      "Running First Thread\n",
      "Running Second Thread\n",
      "Running Third Thread\n",
      "\n",
      "Third Thread has finished execution\n",
      "\n",
      "Second Thread has finished execution\n",
      "\n",
      "First Thread has finished execution\n"
     ]
    }
   ],
   "source": [
    "import time\n",
    "import _thread\n",
    "\n",
    "def thread_test(name, wait):\n",
    "    i = 0\n",
    "    while i <= 2:\n",
    "        time.sleep(1)\n",
    "        print(\"Running %s\\n\" %name)\n",
    "        i = i + 1\n",
    "\n",
    "    print(\"%s has finished execution\" %name)\n",
    "\n",
    "if __name__ == \"__main__\":\n",
    "    \n",
    "    _thread.start_new_thread(thread_test, (\"First Thread\", 1))\n",
    "    _thread.start_new_thread(thread_test, (\"Second Thread\", 2))\n",
    "    _thread.start_new_thread(thread_test, (\"Third Thread\", 3))\n",
    "\n",
    "# _thread.join()\n"
   ]
  },
  {
   "cell_type": "code",
   "execution_count": 13,
   "id": "d80c5b20",
   "metadata": {},
   "outputs": [
    {
     "name": "stdout",
     "output_type": "stream",
     "text": [
      "Starting a task...\n",
      "Starting a task...\n",
      "donedone\n",
      "\n",
      "It took  1.0 second(s) to complete.\n"
     ]
    }
   ],
   "source": [
    "from time import sleep, perf_counter\n",
    "from threading import Thread\n",
    "\n",
    "\n",
    "def task():\n",
    "   \n",
    "    print('Starting a task...')\n",
    "    sleep(1)\n",
    "    print('done')\n",
    "\n",
    "\n",
    "start_time = perf_counter()\n",
    "\n",
    "# create two new threads\n",
    "t1 = Thread(target=task)\n",
    "t2 = Thread(target=task)\n",
    "\n",
    "# start the threads\n",
    "t1.start()\n",
    "t2.start()\n",
    "\n",
    "# wait for the threads to complete\n",
    "t1.join()\n",
    "t2.join()\n",
    "\n",
    "end_time = perf_counter()\n",
    "\n",
    "print(f'It took {end_time- start_time: 0.1f} second(s) to complete.')"
   ]
  },
  {
   "cell_type": "code",
   "execution_count": 9,
   "id": "7374d921",
   "metadata": {},
   "outputs": [
    {
     "name": "stdout",
     "output_type": "stream",
     "text": [
      "Square: 25\n",
      "Cube: 125\n",
      "Done!\n"
     ]
    }
   ],
   "source": [
    "import threading\n",
    "\n",
    "def cuber(n):\n",
    "    print('Cube: {}'.format(n * n * n))\n",
    "\n",
    "def squarer(n):\n",
    "    print('Square: {}'.format(n * n))\n",
    "\n",
    "if __name__ == '__main__':\n",
    "    \n",
    "# create the thread\n",
    "    t1 = threading.Thread(target=squarer, args=(5,))\n",
    "    t2 = threading.Thread(target=cuber, args=(5,))\n",
    "\n",
    "# start the thread t1\n",
    "t1.start()\n",
    "# start the thread t2\n",
    "t2.start()\n",
    "\n",
    "# wait until t1 is completed\n",
    "t1.join()\n",
    "# wait until t2 is completed\n",
    "t2.join()\n",
    "\n",
    "# both threads completed\n",
    "print('Done!') "
   ]
  },
  {
   "cell_type": "code",
   "execution_count": null,
   "id": "3e228ab8",
   "metadata": {},
   "outputs": [],
   "source": []
  }
 ],
 "metadata": {
  "kernelspec": {
   "display_name": "Python 3 (ipykernel)",
   "language": "python",
   "name": "python3"
  },
  "language_info": {
   "codemirror_mode": {
    "name": "ipython",
    "version": 3
   },
   "file_extension": ".py",
   "mimetype": "text/x-python",
   "name": "python",
   "nbconvert_exporter": "python",
   "pygments_lexer": "ipython3",
   "version": "3.9.12"
  }
 },
 "nbformat": 4,
 "nbformat_minor": 5
}
