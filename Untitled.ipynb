{
 "cells": [
  {
   "cell_type": "markdown",
   "id": "f17b0285",
   "metadata": {},
   "source": [
    "# String"
   ]
  },
  {
   "cell_type": "code",
   "execution_count": null,
   "id": "a4c8a031",
   "metadata": {},
   "outputs": [],
   "source": [
    "print('welcome Message')\n",
    "print('Hello World')"
   ]
  },
  {
   "cell_type": "code",
   "execution_count": null,
   "id": "874d0c13",
   "metadata": {},
   "outputs": [],
   "source": [
    "message = 'hello world'\n",
    "print(message)"
   ]
  },
  {
   "cell_type": "code",
   "execution_count": null,
   "id": "aa1afe0b",
   "metadata": {},
   "outputs": [],
   "source": [
    "message = 'Bobby's world'\n",
    "print(message)"
   ]
  },
  {
   "cell_type": "code",
   "execution_count": null,
   "id": "37edaaa7",
   "metadata": {},
   "outputs": [],
   "source": [
    "message = 'Bobby\\'s world'\n",
    "print (message)"
   ]
  },
  {
   "cell_type": "code",
   "execution_count": null,
   "id": "3b759202",
   "metadata": {},
   "outputs": [],
   "source": [
    "message = \"Bobby's world\"\n",
    "print (message)"
   ]
  },
  {
   "cell_type": "code",
   "execution_count": null,
   "id": "48e61650",
   "metadata": {},
   "outputs": [],
   "source": [
    "message = 'Hello world'\n",
    "print (len(message))"
   ]
  },
  {
   "cell_type": "code",
   "execution_count": null,
   "id": "1e070ac9",
   "metadata": {},
   "outputs": [],
   "source": [
    "message = 'Hello world'\n",
    "print (message[0])"
   ]
  },
  {
   "cell_type": "code",
   "execution_count": null,
   "id": "11acd7ca",
   "metadata": {},
   "outputs": [],
   "source": [
    "message = 'Hello world'\n",
    "print (message[11])"
   ]
  },
  {
   "cell_type": "code",
   "execution_count": null,
   "id": "8651da93",
   "metadata": {},
   "outputs": [],
   "source": [
    "message = 'Hello world'\n",
    "print (message[:5])"
   ]
  },
  {
   "cell_type": "code",
   "execution_count": null,
   "id": "73129d0d",
   "metadata": {},
   "outputs": [],
   "source": [
    "message = 'Hello world'\n",
    "print (message[6:])"
   ]
  },
  {
   "cell_type": "markdown",
   "id": "7d90c539",
   "metadata": {},
   "source": [
    "For Lower & upper case print method"
   ]
  },
  {
   "cell_type": "code",
   "execution_count": null,
   "id": "630f3a71",
   "metadata": {},
   "outputs": [],
   "source": [
    "message = 'Hello world'\n",
    "print (message.lower())"
   ]
  },
  {
   "cell_type": "code",
   "execution_count": null,
   "id": "edfb0c8d",
   "metadata": {},
   "outputs": [],
   "source": [
    "message = 'Hello world'\n",
    "print (message.upper())"
   ]
  },
  {
   "cell_type": "markdown",
   "id": "6f089b32",
   "metadata": {},
   "source": [
    "# COUNT METHOD"
   ]
  },
  {
   "cell_type": "code",
   "execution_count": null,
   "id": "bdd6cb44",
   "metadata": {},
   "outputs": [],
   "source": [
    "message = 'Hello world'\n",
    "print (message.count('Hello'))"
   ]
  },
  {
   "cell_type": "code",
   "execution_count": null,
   "id": "83318b07",
   "metadata": {},
   "outputs": [],
   "source": [
    "message = 'Hello world'\n",
    "print (message.count('l'))"
   ]
  },
  {
   "cell_type": "markdown",
   "id": "4cd9e9ce",
   "metadata": {},
   "source": [
    "Find Method"
   ]
  },
  {
   "cell_type": "code",
   "execution_count": null,
   "id": "63c4d632",
   "metadata": {},
   "outputs": [],
   "source": [
    "message = 'Hello world'\n",
    "print (message.find('world'))"
   ]
  },
  {
   "cell_type": "markdown",
   "id": "53af2628",
   "metadata": {},
   "source": [
    "Replace Method"
   ]
  },
  {
   "cell_type": "code",
   "execution_count": null,
   "id": "96f441eb",
   "metadata": {},
   "outputs": [],
   "source": [
    "message = 'Hello world'\n",
    "\n",
    "new_message = message.replace('world','Universe')\n",
    "\n",
    "print (new_message)"
   ]
  },
  {
   "cell_type": "code",
   "execution_count": null,
   "id": "2ba47619",
   "metadata": {},
   "outputs": [],
   "source": [
    "message = 'Hello world'\n",
    "\n",
    "message = message.replace('world', 'Universe')\n",
    "\n",
    "print (message)\n",
    "print (new_message)"
   ]
  },
  {
   "cell_type": "code",
   "execution_count": null,
   "id": "e5ce8c58",
   "metadata": {},
   "outputs": [],
   "source": [
    "greeting = 'Hello'\n",
    "name = 'prasanthi'\n",
    "\n",
    "message = greeting + name\n",
    "\n",
    "print (message)"
   ]
  },
  {
   "cell_type": "code",
   "execution_count": null,
   "id": "461b2593",
   "metadata": {},
   "outputs": [],
   "source": [
    "greeting = 'Hello'\n",
    "name = 'prasanthi'\n",
    "\n",
    "message = greeting +','+ name +'.Welcome!'\n",
    "\n",
    "print (message)"
   ]
  },
  {
   "cell_type": "markdown",
   "id": "a1dafeca",
   "metadata": {},
   "source": [
    "Formatted string"
   ]
  },
  {
   "cell_type": "code",
   "execution_count": null,
   "id": "9fc696c6",
   "metadata": {},
   "outputs": [],
   "source": [
    "greeting = 'Hello'\n",
    "name = 'prasanthi'\n",
    "\n",
    "message = greeting +','+ name +'.Welcome!'\n",
    "\n",
    "message = '{}, {}. welcome!'. format(greeting, name)\n",
    "\n",
    "print (message)"
   ]
  },
  {
   "cell_type": "code",
   "execution_count": null,
   "id": "6b53b102",
   "metadata": {},
   "outputs": [],
   "source": [
    "greeting = 'Hello'\n",
    "name = 'prasanthi'\n",
    "\n",
    "message = greeting +','+ name +'.Welcome!'\n",
    "\n",
    "message = f'{greeting}, {name.upper()}. welcome!'\n",
    "\n",
    "print (message)"
   ]
  },
  {
   "cell_type": "code",
   "execution_count": null,
   "id": "6acf0521",
   "metadata": {},
   "outputs": [],
   "source": [
    "greeting = 'Hello'\n",
    "name = 'prasanthi'\n",
    "\n",
    "print (dir(name))"
   ]
  },
  {
   "cell_type": "code",
   "execution_count": null,
   "id": "12791b49",
   "metadata": {},
   "outputs": [],
   "source": [
    "greeting = 'Hello'\n",
    "name = 'prasanthi'\n",
    "\n",
    "print (help(str))"
   ]
  },
  {
   "cell_type": "markdown",
   "id": "c627e402",
   "metadata": {},
   "source": [
    "Integers and Floats - Working with Numeric Data"
   ]
  },
  {
   "cell_type": "code",
   "execution_count": null,
   "id": "7aebbea7",
   "metadata": {},
   "outputs": [],
   "source": [
    "num =3\n",
    "\n",
    "print (type(num))"
   ]
  },
  {
   "cell_type": "code",
   "execution_count": null,
   "id": "7db38386",
   "metadata": {},
   "outputs": [],
   "source": [
    "num =3.14\n",
    "\n",
    "print (type(num))"
   ]
  },
  {
   "cell_type": "markdown",
   "id": "88d61349",
   "metadata": {},
   "source": [
    "Arthimetic Operators\n"
   ]
  },
  {
   "cell_type": "code",
   "execution_count": null,
   "id": "cbcad697",
   "metadata": {},
   "outputs": [],
   "source": [
    "# Addition: 3+2\n",
    "# Subtraction: 3-2\n",
    "# Multiplcation: 3*2\n",
    "# Division: 3/2\n",
    "# Floor Division: 3//2\n",
    "#Exponent: 3**2\n",
    "#Modulus: 3%2\n",
    "\n",
    "print (3 + 2)"
   ]
  },
  {
   "cell_type": "code",
   "execution_count": null,
   "id": "5e12f22b",
   "metadata": {},
   "outputs": [],
   "source": [
    "num =3\n",
    "\n",
    "num *= 9\n",
    "\n",
    "print(num)"
   ]
  },
  {
   "cell_type": "code",
   "execution_count": null,
   "id": "b34cee12",
   "metadata": {},
   "outputs": [],
   "source": [
    "print(abs(-3))\n",
    "print(round(3.75, 1))"
   ]
  },
  {
   "cell_type": "markdown",
   "id": "389eb9c5",
   "metadata": {},
   "source": [
    "Comparisons"
   ]
  },
  {
   "cell_type": "code",
   "execution_count": null,
   "id": "6a357d98",
   "metadata": {},
   "outputs": [],
   "source": [
    "#Equal: 3 == 2\n",
    "#Not Equal: 3 !=2\n",
    "#Greater than: 3 > 2\n",
    "#Less than: 3 < 2\n",
    "#Greater or Equal: 3 >= 2\n",
    "#Less or Equal: 3 <=2\n",
    "\n",
    "num_1 = 3\n",
    "num_2 = 2\n",
    "\n",
    "print(num_1 >= num_2)"
   ]
  },
  {
   "cell_type": "markdown",
   "id": "9fc385ad",
   "metadata": {},
   "source": [
    "concatenates"
   ]
  },
  {
   "cell_type": "code",
   "execution_count": null,
   "id": "fa7b28e1",
   "metadata": {},
   "outputs": [],
   "source": [
    "num_1 = '100'\n",
    "num_2 = '200'\n",
    "\n",
    "num_1 = int(num_1)\n",
    "num_2 = int(num_2)\n",
    "print(num_1 + num_2)"
   ]
  },
  {
   "cell_type": "markdown",
   "id": "f809c318",
   "metadata": {},
   "source": [
    "variables and data types"
   ]
  },
  {
   "cell_type": "code",
   "execution_count": null,
   "id": "1ae3eeb1",
   "metadata": {},
   "outputs": [],
   "source": [
    "character_name = \"prasanthi\"\n",
    "character_age = \"25\"\n",
    "print('There once was a man named ' + character_name + ',')\n",
    "print('he was '+ character_age + ' years old ,' )\n",
    "print('he really like the name ' + character_name + ',')\n",
    "print(\"but didn't like being \" + character_age + '.')\n"
   ]
  },
  {
   "cell_type": "markdown",
   "id": "1337d12b",
   "metadata": {},
   "source": [
    "Getting inputs from users"
   ]
  },
  {
   "cell_type": "code",
   "execution_count": null,
   "id": "a949b006",
   "metadata": {},
   "outputs": [],
   "source": [
    "name = input('enter your name ')\n",
    "age = input ('enter you age ')\n",
    "\n",
    "print ( name + age)"
   ]
  },
  {
   "cell_type": "markdown",
   "id": "ea5419d6",
   "metadata": {},
   "source": [
    "Lists,Tuples, and Sets"
   ]
  },
  {
   "cell_type": "code",
   "execution_count": null,
   "id": "da9fc4f3",
   "metadata": {},
   "outputs": [],
   "source": [
    "courses = ['history', 'maths', 'physics', 'telugu']\n",
    "courses_2 = ['Art','Education']\n",
    "courses. append('art')\n",
    "courses.insert(0, courses_2)\n",
    "courses.extend(courses_2)\n",
    "print(courses)\n",
    "print(len(courses))\n",
    "print(courses[0])\n",
    "print(courses[-1])\n",
    "print(courses[0:2])\n",
    "print(courses.index('art')) \n",
    "print(type(courses_2))"
   ]
  },
  {
   "cell_type": "code",
   "execution_count": null,
   "id": "4e9c18ad",
   "metadata": {},
   "outputs": [],
   "source": [
    "courses = ['history', 'maths', 'physics', 'telugu']\n",
    "courses_2 = ['Art','Education']\n",
    "courses.remove('maths')\n",
    "\n",
    "popped = courses.pop()\n",
    "\n",
    "courses. insert(0, courses_2)\n",
    "\n",
    "print(courses)\n",
    "print(courses_2)\n",
    "print(popped)\n",
    "print(type(courses))"
   ]
  },
  {
   "cell_type": "code",
   "execution_count": null,
   "id": "722b36ec",
   "metadata": {},
   "outputs": [],
   "source": [
    "courses = ['history', 'maths', 'physics', 'telugu']\n",
    "nums = [1, 5, 4, 2,3]\n",
    "\n",
    "courses. reverse()\n",
    "courses. sort(reverse=True)\n",
    "nums.sort(reverse=True)\n",
    "sorted_courses = sorted(courses)\n",
    "print(courses)\n",
    "print(min(nums))\n"
   ]
  },
  {
   "cell_type": "code",
   "execution_count": null,
   "id": "3b270c75",
   "metadata": {},
   "outputs": [],
   "source": [
    "courses = ['history', 'maths', 'physics', 'telugu']\n",
    "courses_str = '-'. join(courses)\n",
    "new_list = courses_str.split('-')\n",
    "\n",
    "print (courses_str)\n",
    "print (new_list)"
   ]
  },
  {
   "cell_type": "markdown",
   "id": "0911b619",
   "metadata": {},
   "source": [
    "# Dictionaries"
   ]
  },
  {
   "cell_type": "code",
   "execution_count": null,
   "id": "743510e1",
   "metadata": {},
   "outputs": [],
   "source": [
    "dic={'name':'prasanthi','age':'20','phone':'9999922228'}\n",
    "\n",
    "print(dic['name'])\n",
    "print(len(dic))\n",
    "print(max(dic))\n",
    "print(min(dic))\n",
    "print(type(dic))"
   ]
  },
  {
   "cell_type": "code",
   "execution_count": null,
   "id": "b0fa4bee",
   "metadata": {},
   "outputs": [],
   "source": [
    "dic={'name':'prasanthi','age':'20','phone':'9999922228'}\n",
    "dic[\"gender\"]=\"female\"\n",
    "dic.pop(\"phone\")\n",
    "\n",
    "print(dic)"
   ]
  },
  {
   "cell_type": "code",
   "execution_count": null,
   "id": "67f7d228",
   "metadata": {},
   "outputs": [],
   "source": [
    "dic={'name':'prasanthi','age':'20','phone':'9999922228'}\n",
    "mydic=dict(dic)\n",
    "print(mydic)"
   ]
  },
  {
   "cell_type": "markdown",
   "id": "0e3b7d3a",
   "metadata": {},
   "source": [
    "# Booleans"
   ]
  },
  {
   "cell_type": "code",
   "execution_count": null,
   "id": "aacb83a4",
   "metadata": {},
   "outputs": [],
   "source": [
    "x=10>9\n",
    "print(x)"
   ]
  },
  {
   "cell_type": "code",
   "execution_count": null,
   "id": "05d4ba91",
   "metadata": {},
   "outputs": [],
   "source": [
    "x= 'Hello'\n",
    "y= 15\n",
    "print(bool(x))\n",
    "print(bool(y))"
   ]
  },
  {
   "cell_type": "markdown",
   "id": "02a80308",
   "metadata": {},
   "source": [
    "# Conditions"
   ]
  },
  {
   "cell_type": "code",
   "execution_count": null,
   "id": "eff0f37c",
   "metadata": {},
   "outputs": [],
   "source": [
    "a=20\n",
    "b=30\n",
    "if b>a:\n",
    "   print('b is greater than a')\n",
    "else:\n",
    "    print('b is not greather than a')\n",
    "    "
   ]
  },
  {
   "cell_type": "code",
   "execution_count": null,
   "id": "22450898",
   "metadata": {},
   "outputs": [],
   "source": [
    "a = 34\n",
    "b = 33\n",
    "if b > a:\n",
    "  print(\"b is greater than a\")\n",
    "elif a == b:\n",
    "  print(\"a and b are equal\")\n",
    "else:\n",
    "  print(\"b is not greater than a\")\n"
   ]
  },
  {
   "cell_type": "code",
   "execution_count": null,
   "id": "aa1eae42",
   "metadata": {},
   "outputs": [],
   "source": [
    "a = 200\n",
    "b = 33\n",
    "c = 400\n",
    "if a > b and c > a:\n",
    "  print(\"Both conditions are True\")"
   ]
  },
  {
   "cell_type": "code",
   "execution_count": null,
   "id": "32674301",
   "metadata": {},
   "outputs": [],
   "source": [
    "a = 200\n",
    "b = 33\n",
    "c = 500\n",
    "if a > b or a > c:\n",
    "  print(\"At least one of the conditions is True\")"
   ]
  },
  {
   "cell_type": "code",
   "execution_count": null,
   "id": "7792f80f",
   "metadata": {},
   "outputs": [],
   "source": [
    "x = 40\n",
    "\n",
    "if x > 10:\n",
    "  print(\"Above ten,\")\n",
    "  if x > 20:\n",
    "    print(\"and also above 20!\")\n",
    "  else:\n",
    "    print(\"but not above 20.\")"
   ]
  },
  {
   "cell_type": "markdown",
   "id": "735359f5",
   "metadata": {},
   "source": [
    "#  Loops and Iterations"
   ]
  },
  {
   "cell_type": "code",
   "execution_count": null,
   "id": "765e308f",
   "metadata": {},
   "outputs": [],
   "source": [
    "nums = [1,2,3,4,5]\n",
    "for num in nums:\n",
    "    if num == 3: \n",
    "        print('found')\n",
    "        break\n",
    "    print(num)\n",
    "        "
   ]
  },
  {
   "cell_type": "code",
   "execution_count": null,
   "id": "0ba577d3",
   "metadata": {},
   "outputs": [],
   "source": [
    "nums = [1,2,3,4,5]\n",
    "for num in nums:\n",
    "    if num == 3:\n",
    "        print('found')\n",
    "        continue\n",
    "    print(num)"
   ]
  },
  {
   "cell_type": "code",
   "execution_count": null,
   "id": "3b8f6f91",
   "metadata": {},
   "outputs": [],
   "source": [
    "nums = [1,2,3,4,5]\n",
    "for num in nums:\n",
    "    for letter in 'abc':\n",
    "        print(num, letter)"
   ]
  },
  {
   "cell_type": "markdown",
   "id": "2b89f025",
   "metadata": {},
   "source": [
    "# Functions"
   ]
  },
  {
   "cell_type": "code",
   "execution_count": null,
   "id": "1158a8c8",
   "metadata": {},
   "outputs": [],
   "source": [
    "def hello_fun():\n",
    "    nums = [1,2,3,4,5]\n",
    "for num in nums:\n",
    "    if num == 5:\n",
    "        print('found')\n",
    "        break\n",
    "    print(num)\n",
    "    \n",
    "hello_fun()\n",
    "\n"
   ]
  },
  {
   "cell_type": "markdown",
   "id": "4911781e",
   "metadata": {},
   "source": [
    "# Import Modules"
   ]
  },
  {
   "cell_type": "code",
   "execution_count": null,
   "id": "73224360",
   "metadata": {},
   "outputs": [],
   "source": [
    "import numpy as np\n",
    "y=np.array([2,4,6,8])"
   ]
  },
  {
   "cell_type": "code",
   "execution_count": null,
   "id": "877962e8",
   "metadata": {},
   "outputs": [],
   "source": [
    "import my_mod as mod\n",
    "import find_index as find"
   ]
  },
  {
   "cell_type": "code",
   "execution_count": null,
   "id": "30813d47",
   "metadata": {},
   "outputs": [],
   "source": [
    "mod.my_mean(y)\n"
   ]
  },
  {
   "cell_type": "code",
   "execution_count": null,
   "id": "aee5722d",
   "metadata": {},
   "outputs": [],
   "source": [
    "find.find_index"
   ]
  },
  {
   "cell_type": "markdown",
   "id": "c2c13ff7",
   "metadata": {},
   "source": [
    "# Local variable"
   ]
  },
  {
   "cell_type": "code",
   "execution_count": null,
   "id": "952585d3",
   "metadata": {},
   "outputs": [],
   "source": [
    "def local_test():\n",
    "    value=1\n",
    "    print('the value is define is: ',value)\n"
   ]
  },
  {
   "cell_type": "code",
   "execution_count": null,
   "id": "b9a874ed",
   "metadata": {},
   "outputs": [],
   "source": [
    "local_test()"
   ]
  },
  {
   "cell_type": "markdown",
   "id": "6f0e4198",
   "metadata": {},
   "source": [
    "# Global Variable"
   ]
  },
  {
   "cell_type": "code",
   "execution_count": null,
   "id": "2875d378",
   "metadata": {},
   "outputs": [],
   "source": [
    "message = \"global\"\n",
    "def python_developer():\n",
    "    developer=\"welcome to python program\"\n",
    "    print(message, developer)\n",
    "def developer_name(name):\n",
    "    print(message, name)\n",
    "\n",
    "    "
   ]
  },
  {
   "cell_type": "code",
   "execution_count": null,
   "id": "3ce3b8fe",
   "metadata": {},
   "outputs": [],
   "source": [
    "python_developer()\n",
    "developer_name(\"prasanthi\")"
   ]
  },
  {
   "cell_type": "markdown",
   "id": "d5f74bce",
   "metadata": {},
   "source": [
    "# Enclose variable"
   ]
  },
  {
   "cell_type": "code",
   "execution_count": null,
   "id": "2b0d2aa5",
   "metadata": {},
   "outputs": [],
   "source": [
    "def parent_nest():\n",
    "    initial_value=5\n",
    "    def child_nest():\n",
    "        next_value=10\n",
    "        print(\"value define in the parent function:\", initial_value)\n",
    "        print(\"value define in the parent function:\", next_value)\n",
    "    child_nest()\n",
    "parent_nest()"
   ]
  },
  {
   "cell_type": "code",
   "execution_count": null,
   "id": "af6ef7e6",
   "metadata": {},
   "outputs": [],
   "source": [
    "a=(\"a\",\"b\",\"c\",\"d\",\"e\",\"f\"\"g\",\"h\")\n",
    "x=slice(2)\n",
    "print(a[x])"
   ]
  },
  {
   "cell_type": "code",
   "execution_count": null,
   "id": "22ece0e2",
   "metadata": {},
   "outputs": [],
   "source": [
    "my_list = [1, 2, 3, 4, 5,6,7,8,9]\n",
    "        \n",
    "print(my_list[3:8:2])"
   ]
  },
  {
   "cell_type": "code",
   "execution_count": null,
   "id": "04cd25c0",
   "metadata": {},
   "outputs": [],
   "source": [
    "list = [1,2,3,4,5,6,7,8,9]\n",
    "\n",
    "print(list[0:8:2])\n"
   ]
  },
  {
   "cell_type": "markdown",
   "id": "be7a7e10",
   "metadata": {},
   "source": [
    "# String Slicing\n"
   ]
  },
  {
   "cell_type": "code",
   "execution_count": null,
   "id": "477d17b2",
   "metadata": {},
   "outputs": [],
   "source": [
    "string = 'prasanthi'\n",
    "print(string[0:8:2])"
   ]
  },
  {
   "cell_type": "code",
   "execution_count": null,
   "id": "79e0d242",
   "metadata": {},
   "outputs": [],
   "source": [
    "s='mybacon'\n",
    "s[2:5]"
   ]
  },
  {
   "cell_type": "code",
   "execution_count": null,
   "id": "09e08548",
   "metadata": {},
   "outputs": [],
   "source": [
    "s='mybacon'\n",
    "s[-4:-2]"
   ]
  },
  {
   "cell_type": "code",
   "execution_count": null,
   "id": "13fcc6c7",
   "metadata": {},
   "outputs": [],
   "source": [
    "#index_ 0, 1, 2, 3, 4, 5, 6\n",
    "lst = [50,70,30,20,90,10,50]\n",
    "print(lst[::])"
   ]
  },
  {
   "cell_type": "code",
   "execution_count": null,
   "id": "8d6a221b",
   "metadata": {},
   "outputs": [],
   "source": [
    "#index_ -7,-6,-5,-4,-3,-2,-1\n",
    "lst=[50,70,30,20,90,10,50]\n",
    "print(lst[-6::1])"
   ]
  },
  {
   "cell_type": "code",
   "execution_count": null,
   "id": "df4ca07e",
   "metadata": {},
   "outputs": [],
   "source": [
    "lst=[50,70,30,20,90,10,50]\n",
    "print(lst[2:6])"
   ]
  },
  {
   "cell_type": "code",
   "execution_count": null,
   "id": "2a3b4cf0",
   "metadata": {},
   "outputs": [],
   "source": [
    "lst=[1,2,3,4,5,6,7,8,9]\n",
    "\n",
    "# Show original list\n",
    "print(\"\\nOriginal List:\\n\", lst)\n",
    " \n",
    "print(\"\\nSliced List: \")\n",
    "\n",
    "print(lst[3:9:2])\n",
    "print(lst[::2])\n",
    "print(lst[::])\n",
    "print(lst[:9:2])\n",
    "print(lst[3::2])\n",
    "print(lst[1:1:1])\n",
    "print(lst[-1:-1:-1])\n",
    "print(lst[10::2])\n"
   ]
  },
  {
   "cell_type": "code",
   "execution_count": null,
   "id": "598de30d",
   "metadata": {},
   "outputs": [],
   "source": [
    "lst = [-999, 'G4G', 1706256, '^_^', 3.1496]\n",
    "\n",
    "\n",
    "print(lst[1:1:1])\n",
    "print(lst[-1:-1:-1])\n",
    "print(lst[10::2])\n",
    "\n"
   ]
  },
  {
   "cell_type": "code",
   "execution_count": null,
   "id": "031b23b1",
   "metadata": {},
   "outputs": [],
   "source": [
    "lst = [-999, 'G4G', 1706256, '^_^', 3.1496]\n",
    "print(lst)\n",
    "lst[2:4] = ['Geeks', 'for', 'Geeks', '!']\n",
    "\n",
    "# Modified List\n",
    "print(lst)\n",
    "\n",
    "lst[:6] = []\n",
    "\n",
    "print(lst)\n"
   ]
  },
  {
   "cell_type": "code",
   "execution_count": null,
   "id": "2effa3bd",
   "metadata": {},
   "outputs": [],
   "source": [
    "lst = [1, 2, 3, 4, 5, 6, 7, 8, 9,11]\n",
    "newlist = lst[:2]+lst[7:]\n",
    "print(newlist)\n"
   ]
  },
  {
   "cell_type": "markdown",
   "id": "6723ebe4",
   "metadata": {},
   "source": [
    "# List Comprehensions"
   ]
  },
  {
   "cell_type": "code",
   "execution_count": null,
   "id": "8d314b72",
   "metadata": {},
   "outputs": [],
   "source": [
    "[x for x in range (10)]"
   ]
  },
  {
   "cell_type": "code",
   "execution_count": null,
   "id": "134cc327",
   "metadata": {},
   "outputs": [],
   "source": [
    "#list \n",
    "lst=[]\n",
    "\n",
    "for i in range(10):\n",
    "    if(i%2==0):\n",
    "        lst.append(i)\n",
    "print(lst)"
   ]
  },
  {
   "cell_type": "code",
   "execution_count": null,
   "id": "2f2ad333",
   "metadata": {},
   "outputs": [],
   "source": [
    "#list comprehensions\n",
    "lst=[i for i in range (10) if (i%3== 0)]\n",
    "print(lst)"
   ]
  },
  {
   "cell_type": "code",
   "execution_count": null,
   "id": "03214f32",
   "metadata": {},
   "outputs": [],
   "source": [
    "lst=[character for character in 'Geeks 4 Geeks']\n",
    "print(lst)"
   ]
  },
  {
   "cell_type": "code",
   "execution_count": null,
   "id": "0c60a384",
   "metadata": {},
   "outputs": [],
   "source": [
    "# Empty list\n",
    "List = []\n",
    "\n",
    "\n",
    "for character in 'Geeks 4 Geeks!':\n",
    "    List.append(character)\n",
    "\n",
    "# Display list\n",
    "print(List)\n"
   ]
  },
  {
   "cell_type": "code",
   "execution_count": null,
   "id": "ce8cb4c6",
   "metadata": {},
   "outputs": [],
   "source": [
    "num= [i*10 for i in range(1,6)]\n",
    "print(num)"
   ]
  },
  {
   "cell_type": "markdown",
   "id": "e4ec85fd",
   "metadata": {},
   "source": [
    "# Set Comprhenesions"
   ]
  },
  {
   "cell_type": "code",
   "execution_count": null,
   "id": "f83b9279",
   "metadata": {},
   "outputs": [],
   "source": [
    "x = [1, 2, 3, 4, 4, 5, 6, 6, 6, 7, 7]\n",
    "\n",
    "output_set = set()\n",
    "\n",
    "for var in x:\n",
    "    if var % 2 == 0:\n",
    "        output_set.add(var)\n",
    "\n",
    "print(output_set)\n"
   ]
  },
  {
   "cell_type": "code",
   "execution_count": null,
   "id": "06b9c6d4",
   "metadata": {},
   "outputs": [],
   "source": [
    "x = [1, 2, 3, 4, 4, 5, 6, 6, 6, 7, 7]\n",
    "\n",
    "lst={var for var in x if var % 2 == 0}\n",
    "print(lst)"
   ]
  },
  {
   "cell_type": "markdown",
   "id": "6fa4b0e1",
   "metadata": {},
   "source": [
    "# sorting"
   ]
  },
  {
   "cell_type": "code",
   "execution_count": null,
   "id": "4f287ee6",
   "metadata": {},
   "outputs": [],
   "source": [
    "elements=[]\n",
    "noofelements=int(input('enter the no of element:'))\n",
    "\n",
    "for i in range(noofelements):\n",
    "    element=int(input('enter the element:'))\n",
    "    elements.append(element)\n",
    "\n",
    "elements.sort(reverse=True)\n",
    "print(elements)"
   ]
  },
  {
   "cell_type": "markdown",
   "id": "947b7061",
   "metadata": {},
   "source": [
    " "
   ]
  },
  {
   "cell_type": "code",
   "execution_count": null,
   "id": "8bc89d33",
   "metadata": {},
   "outputs": [],
   "source": [
    "elements=[]\n",
    "noofelements=int(input('enter the no of element:'))\n",
    "\n",
    "for i in range(noofelements):\n",
    "    element=input('enter the element:')\n",
    "    elements.append(element)\n",
    "\n",
    "elements.sort()\n",
    "print(elements)"
   ]
  },
  {
   "cell_type": "markdown",
   "id": "82debbc0",
   "metadata": {},
   "source": [
    "# Tuple Sorting"
   ]
  },
  {
   "cell_type": "code",
   "execution_count": null,
   "id": "6a915f99",
   "metadata": {},
   "outputs": [],
   "source": [
    "items = [(1,'B'), (1,'A'), (2,'A'), (2,'B'), (0,'a')]\n",
    "\n",
    "sorted_items = sorted(items)\n",
    "\n",
    "print(items)\n",
    "print(sorted_items)"
   ]
  },
  {
   "cell_type": "code",
   "execution_count": null,
   "id": "c8aa0502",
   "metadata": {},
   "outputs": [],
   "source": [
    "li = [9,1,5,6,7,3,4,8]\n",
    "s_li=sorted(li)\n",
    "print('sorted variable:\\t', s_li)\n",
    "print('original variable:\\t', li)"
   ]
  },
  {
   "cell_type": "code",
   "execution_count": null,
   "id": "01f34cd1",
   "metadata": {},
   "outputs": [],
   "source": [
    "n_tuples = (6,9,3,1)\n",
    "n_tuple_sorted = sorted(n_tuples)\n",
    "n_tuple_sorted"
   ]
  },
  {
   "cell_type": "markdown",
   "id": "434ef571",
   "metadata": {},
   "source": [
    "# Formatting with placeholder"
   ]
  },
  {
   "cell_type": "code",
   "execution_count": null,
   "id": "ac4d7502",
   "metadata": {},
   "outputs": [],
   "source": [
    "txt1=\"my name is {fname}, I'm {age}\""
   ]
  },
  {
   "cell_type": "code",
   "execution_count": null,
   "id": "dec6b24c",
   "metadata": {},
   "outputs": [],
   "source": [
    "y=input('Enter you Name')\n",
    "print('Hi %s, how are you' %y)\n"
   ]
  },
  {
   "cell_type": "code",
   "execution_count": null,
   "id": "8eb6e21d",
   "metadata": {},
   "outputs": [],
   "source": [
    "x, y = 'my','world'\n",
    "print('welcome to %s %r' %(x,y))"
   ]
  },
  {
   "cell_type": "markdown",
   "id": "e512a47f",
   "metadata": {},
   "source": [
    "# Formatting with .format()"
   ]
  },
  {
   "cell_type": "code",
   "execution_count": null,
   "id": "7384e5e9",
   "metadata": {},
   "outputs": [],
   "source": [
    "#'string here {} then also {}'.format('something1,','something2')"
   ]
  },
  {
   "cell_type": "code",
   "execution_count": null,
   "id": "3c627312",
   "metadata": {},
   "outputs": [],
   "source": [
    "print('The {} {} {}'.format('apple', 'banana', 'fox'))"
   ]
  },
  {
   "cell_type": "code",
   "execution_count": null,
   "id": "8c017264",
   "metadata": {},
   "outputs": [],
   "source": [
    "#using indexing\n",
    "print('The {2} {1} {0}'.format('fox', 'tree', 'cut'))"
   ]
  },
  {
   "cell_type": "markdown",
   "id": "ac9f63d3",
   "metadata": {},
   "source": [
    "# formatting with f-strings"
   ]
  },
  {
   "cell_type": "code",
   "execution_count": null,
   "id": "7531026b",
   "metadata": {},
   "outputs": [],
   "source": [
    "name='prasanthi'\n",
    "print(f'She said her name is {name}' )"
   ]
  },
  {
   "cell_type": "code",
   "execution_count": null,
   "id": "ee31cfcf",
   "metadata": {},
   "outputs": [],
   "source": [
    "score=95\n",
    "print(f'He score {score} marks in python')"
   ]
  },
  {
   "cell_type": "code",
   "execution_count": null,
   "id": "c8be54e3",
   "metadata": {},
   "outputs": [],
   "source": [
    "person = {'name':'prasanthi', 'age':25}\n",
    "sentence = 'My name is' + person['name'] + 'and I am ' + str(person['age']) + 'years old.'\n",
    "print(sentence)"
   ]
  },
  {
   "cell_type": "code",
   "execution_count": null,
   "id": "6dfb441d",
   "metadata": {},
   "outputs": [],
   "source": [
    "import os\n",
    "\n",
    "print(os.getcwd())"
   ]
  },
  {
   "cell_type": "code",
   "execution_count": null,
   "id": "a67cc6e4",
   "metadata": {},
   "outputs": [],
   "source": [
    "import os\n",
    "\n",
    "def current_path(): \n",
    "    print(\"Current working directory before\") \n",
    "    print(os.getcwd()) \n",
    "    print()\n",
    "current_path() \n",
    "os.chdir('../')\n",
    "current_path() "
   ]
  },
  {
   "cell_type": "code",
   "execution_count": null,
   "id": "25e8c1c6",
   "metadata": {},
   "outputs": [],
   "source": [
    "import os\n",
    "directory = \"prasanthi\"\n",
    "parent_dir = 'C:/desktop/'\n",
    "path = os.path.join(parent_dir, directory) \n",
    "print(\"Directory '% s' created\" % directory)\n",
    "print(os.getcwd()) \n"
   ]
  },
  {
   "cell_type": "code",
   "execution_count": null,
   "id": "0b778d42",
   "metadata": {},
   "outputs": [],
   "source": [
    "import os \n",
    "  \n",
    "# Get the list of all files and directories \n",
    "# in the root directory \n",
    "path = \"/\"\n",
    "print(path) \n",
    "print(dir_list)"
   ]
  },
  {
   "cell_type": "code",
   "execution_count": null,
   "id": "7e4c3a8c",
   "metadata": {},
   "outputs": [],
   "source": [
    "import os \n",
    "print(os.name)"
   ]
  },
  {
   "cell_type": "markdown",
   "id": "8e2a8418",
   "metadata": {},
   "source": [
    "# Datetime"
   ]
  },
  {
   "cell_type": "code",
   "execution_count": null,
   "id": "7d845bdc",
   "metadata": {},
   "outputs": [],
   "source": [
    "import datetime\n",
    "x=datetime.datetime.now()\n",
    "print(x)"
   ]
  },
  {
   "cell_type": "code",
   "execution_count": null,
   "id": "4c5e9424",
   "metadata": {},
   "outputs": [],
   "source": [
    "#year\n",
    "y=datetime.datetime.now().year\n",
    "print(y)"
   ]
  },
  {
   "cell_type": "code",
   "execution_count": null,
   "id": "670c07d7",
   "metadata": {},
   "outputs": [],
   "source": [
    "d=datetime.date(2020,6,12)\n",
    "print(d)"
   ]
  },
  {
   "cell_type": "code",
   "execution_count": null,
   "id": "bca6c6e8",
   "metadata": {},
   "outputs": [],
   "source": [
    "tday=datetime.date.today()\n",
    "print(tday)\n",
    "print(tday.weekday())\n",
    "print(tday.isoweekday())"
   ]
  },
  {
   "cell_type": "code",
   "execution_count": null,
   "id": "e808aaf1",
   "metadata": {},
   "outputs": [],
   "source": [
    "tdelta=datetime.timedelta(days=7)\n",
    "print(tday - tdelta)\n",
    "print(tday + tdelta)"
   ]
  },
  {
   "cell_type": "code",
   "execution_count": null,
   "id": "c1851936",
   "metadata": {},
   "outputs": [],
   "source": [
    "bday=datetime.date(1994, 3, 1)\n",
    "print(bday)\n",
    "\n",
    "till_bday= bday-tday\n",
    "print(till_bday)"
   ]
  },
  {
   "cell_type": "code",
   "execution_count": null,
   "id": "918d0c4c",
   "metadata": {},
   "outputs": [],
   "source": [
    "t=datetime.time(9, 36, 45, 12000)\n",
    "print(t)\n",
    "print(t.hour)\n"
   ]
  },
  {
   "cell_type": "code",
   "execution_count": null,
   "id": "ae7920a2",
   "metadata": {},
   "outputs": [],
   "source": [
    "dt = datetime.datetime(2020, 6, 20, 12, 30, 45, 100000)\n",
    "print(dt)\n",
    "tdelta = datetime.timedelta(days=7)\n",
    "\n",
    "print(dt + tdelta)"
   ]
  },
  {
   "cell_type": "code",
   "execution_count": null,
   "id": "4e766199",
   "metadata": {},
   "outputs": [],
   "source": [
    "import pytz\n",
    "dt_utcnow = datetime.datetime.now(tz=pytz.utc)\n",
    "print(dt_utcnow)\n",
    "dt_mtn=datetime.datetime.now(pytz.timezone('us/mountain'))\n",
    "print(dt_mtn)"
   ]
  },
  {
   "cell_type": "code",
   "execution_count": null,
   "id": "20dd107f",
   "metadata": {},
   "outputs": [],
   "source": [
    "for tz in pytz.all_timezones:\n",
    "    print(tz)"
   ]
  },
  {
   "cell_type": "code",
   "execution_count": null,
   "id": "df7e161a",
   "metadata": {},
   "outputs": [],
   "source": [
    "dt_mtn = datetime.datetime.now(tz=pytz.timezone('US/Mountain'))\n",
    "print(dt_mtn.strftime('%B, %d, %Y'))"
   ]
  },
  {
   "cell_type": "code",
   "execution_count": null,
   "id": "9bc7a16c",
   "metadata": {},
   "outputs": [],
   "source": [
    "dt_str = 'july 26, 2020'\n",
    "dt = datetime.datetime.strptime(dt_str, '%B %d, %Y')\n",
    "print (dt)\n",
    "\n",
    "#strftime -datetime to string\n",
    "#strptime - string to datetime"
   ]
  },
  {
   "cell_type": "markdown",
   "id": "bacfb135",
   "metadata": {},
   "source": [
    "# File Object"
   ]
  },
  {
   "cell_type": "code",
   "execution_count": null,
   "id": "cc18b468",
   "metadata": {},
   "outputs": [],
   "source": [
    "f = open('C:\\\\Users\\\\pprasan1\\\\Desktop\\\\Python\\\\Notes\\\\sample.txt', 'r')\n",
    "\n",
    "print(f.name)\n",
    "print(f.mode)\n",
    "\n",
    "f.close()"
   ]
  },
  {
   "cell_type": "code",
   "execution_count": null,
   "id": "e58efbab",
   "metadata": {},
   "outputs": [],
   "source": [
    "with open ('C:\\\\Users\\\\pprasan1\\\\Desktop\\\\Python\\\\Notes\\\\sample.txt', 'r') as f:\n",
    "    pass\n",
    "print(f.mode)\n",
    "print(f.closed)\n"
   ]
  },
  {
   "cell_type": "code",
   "execution_count": null,
   "id": "d8ee127f",
   "metadata": {},
   "outputs": [],
   "source": [
    "with open ('C:\\\\Users\\\\pprasan1\\\\Desktop\\\\Python\\\\Notes\\\\sample.txt', 'r') as f:\n",
    "    f_contents = f.read()\n",
    "    print(f_contents)"
   ]
  },
  {
   "cell_type": "code",
   "execution_count": null,
   "id": "fda4675d",
   "metadata": {},
   "outputs": [],
   "source": [
    "with open ('C:\\\\Users\\\\pprasan1\\\\Desktop\\\\Python\\\\Notes\\\\sample.txt', 'r') as f:\n",
    "    f_contents = f.readlines()\n",
    "    print(f_contents)"
   ]
  },
  {
   "cell_type": "code",
   "execution_count": null,
   "id": "d9ef2a10",
   "metadata": {},
   "outputs": [],
   "source": [
    "with open ('C:\\\\Users\\\\pprasan1\\\\Desktop\\\\Python\\\\Notes\\\\sample.txt', 'r') as f:\n",
    "    f_contents = f.readline()\n",
    "    print(f_contents)\n",
    "    f_contents = f.readline()\n",
    "    print(f_contents)"
   ]
  },
  {
   "cell_type": "code",
   "execution_count": null,
   "id": "f4c2a7cb",
   "metadata": {},
   "outputs": [],
   "source": [
    "with open ('C:\\\\Users\\\\pprasan1\\\\Desktop\\\\Python\\\\Notes\\\\sample.txt', 'r') as f:\n",
    "    size_to_read=10\n",
    "    f_contents=f.read(size_to_read)\n",
    "    \n",
    "    while len(f_contents) > 0:\n",
    "        print(f_contents, end='*')\n",
    "        f_contents=f.read(size_to_read)"
   ]
  },
  {
   "cell_type": "code",
   "execution_count": null,
   "id": "970544c9",
   "metadata": {},
   "outputs": [],
   "source": [
    "with open ('C:\\\\Users\\\\pprasan1\\\\Desktop\\\\Python\\\\Notes\\\\sample.txt', 'r') as f:\n",
    "    size_to_read=10\n",
    "    f_contents=f.read(size_to_read)\n",
    "    \n",
    "    print(f.tell())"
   ]
  },
  {
   "cell_type": "code",
   "execution_count": null,
   "id": "3f45bf95",
   "metadata": {},
   "outputs": [],
   "source": [
    "with open ('C:\\\\Users\\\\pprasan1\\\\Desktop\\\\Python\\\\Notes\\\\sample1.txt', 'w') as f:\n",
    "    f.write('hello')\n",
    "    f.seek(0)\n",
    "    f.write('welcome')\n",
    "    "
   ]
  },
  {
   "cell_type": "markdown",
   "id": "0ae05a5f",
   "metadata": {},
   "source": [
    "# Parsing and Renaming\n",
    "    "
   ]
  },
  {
   "cell_type": "code",
   "execution_count": null,
   "id": "1ddfeb58",
   "metadata": {},
   "outputs": [],
   "source": [
    "import os\n",
    "os.chdir('C:\\\\Users\\\\pprasan1\\\\Desktop\\\\Python\\\\Notes')\n",
    "print(os.getcwd())"
   ]
  },
  {
   "cell_type": "code",
   "execution_count": null,
   "id": "3c2bc40f",
   "metadata": {},
   "outputs": [],
   "source": [
    "import os\n",
    "os.chdir('C:\\\\Users\\\\pprasan1\\\\Desktop\\\\Python\\\\Notes')\n",
    "\n",
    "for f in os.listdir():\n",
    "    print(f)"
   ]
  },
  {
   "cell_type": "code",
   "execution_count": null,
   "id": "788f0db2",
   "metadata": {},
   "outputs": [],
   "source": [
    "import os\n",
    "os.chdir('C:\\\\Users\\\\pprasan1\\\\Desktop\\\\Python\\\\Notes')\n",
    "\n",
    "for f in os.listdir():\n",
    "    print(os.path.splitext(f))\n",
    "    "
   ]
  },
  {
   "cell_type": "code",
   "execution_count": null,
   "id": "faacae9e",
   "metadata": {},
   "outputs": [],
   "source": [
    "os.chdir('C:\\\\Users\\\\pprasan1\\\\Desktop\\\\Python\\\\New folder')\n",
    "for f in os.listdir():\n",
    "    f_name,f_ext = os.path.splitext(f)\n",
    "    #print(f_name.split('-'))\n",
    "    f_title,f_course,f_version,f_div, f_num = f_name.split('_')\n",
    "    f_title = f_title.strip()[1:].zfill(1)\n",
    "    f_course = f_course.strip()\n",
    "    f_version=f_version.strip()\n",
    "    f_div=f_div.strip()\n",
    "    f_num = f_num.strip()\n",
    "    \n",
    "    print('{}-{}-{}{}'.format(f_num, f_course, f_title, f_div, f_ext))"
   ]
  },
  {
   "cell_type": "markdown",
   "id": "a2fb2b15",
   "metadata": {},
   "source": [
    "# Random module"
   ]
  },
  {
   "cell_type": "code",
   "execution_count": null,
   "id": "5a8b3d5a",
   "metadata": {},
   "outputs": [],
   "source": [
    "#randint()\n",
    "import random\n",
    "print(random.randint(1,9))"
   ]
  },
  {
   "cell_type": "code",
   "execution_count": null,
   "id": "8af630c5",
   "metadata": {},
   "outputs": [],
   "source": [
    "import random\n",
    "greeting = ['hello','hi','welcome','howdy']\n",
    "l = ['apple','jackfruit','life']\n",
    "print(random.choice(greeting))\n",
    "print(random.choice(l))"
   ]
  },
  {
   "cell_type": "code",
   "execution_count": null,
   "id": "4486045b",
   "metadata": {},
   "outputs": [],
   "source": [
    "import random\n",
    "\n",
    "#s = ['cut', 'tree', 'house']\n",
    "p = list(range(1, 53))\n",
    "#random.shuffle(s)\n",
    "random.shuffle(p)\n",
    "#print(s)\n",
    "#print(deck)\n",
    "print(p)"
   ]
  },
  {
   "cell_type": "code",
   "execution_count": null,
   "id": "e53e081c",
   "metadata": {},
   "outputs": [],
   "source": [
    "m = ['sis', 'bro', 'mom', 'dad']\n",
    "print(random.sample(m,k=2))"
   ]
  },
  {
   "cell_type": "code",
   "execution_count": null,
   "id": "13b1ab59",
   "metadata": {},
   "outputs": [],
   "source": [
    "random.random()\n"
   ]
  },
  {
   "cell_type": "code",
   "execution_count": null,
   "id": "c5ed5b3a",
   "metadata": {},
   "outputs": [],
   "source": [
    "import random\n",
    "v= random.uniform(1, 10)\n",
    "print(v)"
   ]
  },
  {
   "cell_type": "code",
   "execution_count": null,
   "id": "1880a2ee",
   "metadata": {},
   "outputs": [],
   "source": [
    "p = list(range(1, 53))\n",
    "print(p)"
   ]
  },
  {
   "cell_type": "markdown",
   "id": "de18b7dd",
   "metadata": {},
   "source": [
    "# CSV"
   ]
  },
  {
   "cell_type": "code",
   "execution_count": null,
   "id": "b0435749",
   "metadata": {},
   "outputs": [],
   "source": [
    "import csv\n",
    "\n",
    "with open('CSV.csv', 'r') as csv_file:\n",
    "    csv_reader = csv.reader(csv_file)\n",
    "    \n",
    "    print(csv_reader)"
   ]
  },
  {
   "cell_type": "code",
   "execution_count": null,
   "id": "41599195",
   "metadata": {},
   "outputs": [],
   "source": [
    "with open('CSV.csv', 'r') as csv_file:\n",
    "    csv_reader = csv.reader(csv_file)\n",
    "    \n",
    "    for line in csv_reader:\n",
    "        \n",
    "        print(line[2])"
   ]
  },
  {
   "cell_type": "code",
   "execution_count": null,
   "id": "e2651ea4",
   "metadata": {},
   "outputs": [],
   "source": [
    "with open('CSV.csv', 'r') as csv_file:\n",
    "    csv_reader = csv.reader(csv_file)\n",
    "    \n",
    "    next(csv_reader)\n",
    "    for line in csv_reader:\n",
    "        \n",
    "        print(line[2])"
   ]
  },
  {
   "cell_type": "code",
   "execution_count": null,
   "id": "152da951",
   "metadata": {},
   "outputs": [],
   "source": [
    "with open('CSV.csv', 'r') as csv_file:\n",
    "    csv_reader = csv.reader(csv_file)\n",
    "    \n",
    "    with open('newCSV.csv', 'w') as new_file:\n",
    "        csv_writer = csv.writer (new_file, delimiter ='-')\n",
    "    \n",
    "        for line in csv_reader:\n",
    "            csv_writer.writerow(line)"
   ]
  },
  {
   "cell_type": "code",
   "execution_count": null,
   "id": "9554cb58",
   "metadata": {},
   "outputs": [],
   "source": [
    "with open('CSV.csv', 'r') as csv_file:\n",
    "    csv_reader = csv.DictReader(csv_file)\n",
    "    \n",
    "    for line in csv_reader:\n",
    "        \n",
    "        print(line)"
   ]
  },
  {
   "cell_type": "code",
   "execution_count": null,
   "id": "01916aca",
   "metadata": {},
   "outputs": [],
   "source": [
    "import csv \n",
    "with open('CSV.csv', 'r') as csv_file:\n",
    "    csv_reader = csv.DictReader(csv_file)\n",
    "    \n",
    "    with open('code.csv', 'w') as new_file:\n",
    "        field= ['Username','IdentifierFirstname','Lastname','Username','Identifier','firstname','Last name']\n",
    "                \n",
    "        csv_writer = csv.DictWriter(new_file, field=field, delimiter ='\\t')\n",
    "        \n",
    "        csv_writer.writeheader()\n",
    "        \n",
    "        for line in csv_reader:\n",
    "            csv_writer.writerow(line)"
   ]
  },
  {
   "cell_type": "code",
   "execution_count": 2,
   "id": "ec321c0b",
   "metadata": {},
   "outputs": [
    {
     "data": {
      "text/html": [
       "<div>\n",
       "<style scoped>\n",
       "    .dataframe tbody tr th:only-of-type {\n",
       "        vertical-align: middle;\n",
       "    }\n",
       "\n",
       "    .dataframe tbody tr th {\n",
       "        vertical-align: top;\n",
       "    }\n",
       "\n",
       "    .dataframe thead th {\n",
       "        text-align: right;\n",
       "    }\n",
       "</style>\n",
       "<table border=\"1\" class=\"dataframe\">\n",
       "  <thead>\n",
       "    <tr style=\"text-align: right;\">\n",
       "      <th></th>\n",
       "      <th>Date/Time</th>\n",
       "      <th>Temp_C</th>\n",
       "      <th>Dew Point Temp_C</th>\n",
       "      <th>Rel Hum_%</th>\n",
       "      <th>Wind Speed_km/h</th>\n",
       "      <th>Visibility_km</th>\n",
       "      <th>Press_kPa</th>\n",
       "      <th>Weather</th>\n",
       "    </tr>\n",
       "  </thead>\n",
       "  <tbody>\n",
       "    <tr>\n",
       "      <th>0</th>\n",
       "      <td>1/1/2012 0:00</td>\n",
       "      <td>-1.8</td>\n",
       "      <td>-3.9</td>\n",
       "      <td>86</td>\n",
       "      <td>4</td>\n",
       "      <td>8.0</td>\n",
       "      <td>101.24</td>\n",
       "      <td>Fog</td>\n",
       "    </tr>\n",
       "    <tr>\n",
       "      <th>1</th>\n",
       "      <td>1/1/2012 1:00</td>\n",
       "      <td>-1.8</td>\n",
       "      <td>-3.7</td>\n",
       "      <td>87</td>\n",
       "      <td>4</td>\n",
       "      <td>8.0</td>\n",
       "      <td>101.24</td>\n",
       "      <td>Fog</td>\n",
       "    </tr>\n",
       "    <tr>\n",
       "      <th>2</th>\n",
       "      <td>1/1/2012 2:00</td>\n",
       "      <td>-1.8</td>\n",
       "      <td>-3.4</td>\n",
       "      <td>89</td>\n",
       "      <td>7</td>\n",
       "      <td>4.0</td>\n",
       "      <td>101.26</td>\n",
       "      <td>Freezing Drizzle,Fog</td>\n",
       "    </tr>\n",
       "    <tr>\n",
       "      <th>3</th>\n",
       "      <td>1/1/2012 3:00</td>\n",
       "      <td>-1.5</td>\n",
       "      <td>-3.2</td>\n",
       "      <td>88</td>\n",
       "      <td>6</td>\n",
       "      <td>4.0</td>\n",
       "      <td>101.27</td>\n",
       "      <td>Freezing Drizzle,Fog</td>\n",
       "    </tr>\n",
       "    <tr>\n",
       "      <th>4</th>\n",
       "      <td>1/1/2012 4:00</td>\n",
       "      <td>-1.5</td>\n",
       "      <td>-3.3</td>\n",
       "      <td>88</td>\n",
       "      <td>7</td>\n",
       "      <td>4.8</td>\n",
       "      <td>101.23</td>\n",
       "      <td>Fog</td>\n",
       "    </tr>\n",
       "    <tr>\n",
       "      <th>...</th>\n",
       "      <td>...</td>\n",
       "      <td>...</td>\n",
       "      <td>...</td>\n",
       "      <td>...</td>\n",
       "      <td>...</td>\n",
       "      <td>...</td>\n",
       "      <td>...</td>\n",
       "      <td>...</td>\n",
       "    </tr>\n",
       "    <tr>\n",
       "      <th>8779</th>\n",
       "      <td>12/31/2012 19:00</td>\n",
       "      <td>0.1</td>\n",
       "      <td>-2.7</td>\n",
       "      <td>81</td>\n",
       "      <td>30</td>\n",
       "      <td>9.7</td>\n",
       "      <td>100.13</td>\n",
       "      <td>Snow</td>\n",
       "    </tr>\n",
       "    <tr>\n",
       "      <th>8780</th>\n",
       "      <td>12/31/2012 20:00</td>\n",
       "      <td>0.2</td>\n",
       "      <td>-2.4</td>\n",
       "      <td>83</td>\n",
       "      <td>24</td>\n",
       "      <td>9.7</td>\n",
       "      <td>100.03</td>\n",
       "      <td>Snow</td>\n",
       "    </tr>\n",
       "    <tr>\n",
       "      <th>8781</th>\n",
       "      <td>12/31/2012 21:00</td>\n",
       "      <td>-0.5</td>\n",
       "      <td>-1.5</td>\n",
       "      <td>93</td>\n",
       "      <td>28</td>\n",
       "      <td>4.8</td>\n",
       "      <td>99.95</td>\n",
       "      <td>Snow</td>\n",
       "    </tr>\n",
       "    <tr>\n",
       "      <th>8782</th>\n",
       "      <td>12/31/2012 22:00</td>\n",
       "      <td>-0.2</td>\n",
       "      <td>-1.8</td>\n",
       "      <td>89</td>\n",
       "      <td>28</td>\n",
       "      <td>9.7</td>\n",
       "      <td>99.91</td>\n",
       "      <td>Snow</td>\n",
       "    </tr>\n",
       "    <tr>\n",
       "      <th>8783</th>\n",
       "      <td>12/31/2012 23:00</td>\n",
       "      <td>0.0</td>\n",
       "      <td>-2.1</td>\n",
       "      <td>86</td>\n",
       "      <td>30</td>\n",
       "      <td>11.3</td>\n",
       "      <td>99.89</td>\n",
       "      <td>Snow</td>\n",
       "    </tr>\n",
       "  </tbody>\n",
       "</table>\n",
       "<p>8784 rows × 8 columns</p>\n",
       "</div>"
      ],
      "text/plain": [
       "             Date/Time  Temp_C  Dew Point Temp_C  Rel Hum_%  Wind Speed_km/h  \\\n",
       "0        1/1/2012 0:00    -1.8              -3.9         86                4   \n",
       "1        1/1/2012 1:00    -1.8              -3.7         87                4   \n",
       "2        1/1/2012 2:00    -1.8              -3.4         89                7   \n",
       "3        1/1/2012 3:00    -1.5              -3.2         88                6   \n",
       "4        1/1/2012 4:00    -1.5              -3.3         88                7   \n",
       "...                ...     ...               ...        ...              ...   \n",
       "8779  12/31/2012 19:00     0.1              -2.7         81               30   \n",
       "8780  12/31/2012 20:00     0.2              -2.4         83               24   \n",
       "8781  12/31/2012 21:00    -0.5              -1.5         93               28   \n",
       "8782  12/31/2012 22:00    -0.2              -1.8         89               28   \n",
       "8783  12/31/2012 23:00     0.0              -2.1         86               30   \n",
       "\n",
       "      Visibility_km  Press_kPa               Weather  \n",
       "0               8.0     101.24                   Fog  \n",
       "1               8.0     101.24                   Fog  \n",
       "2               4.0     101.26  Freezing Drizzle,Fog  \n",
       "3               4.0     101.27  Freezing Drizzle,Fog  \n",
       "4               4.8     101.23                   Fog  \n",
       "...             ...        ...                   ...  \n",
       "8779            9.7     100.13                  Snow  \n",
       "8780            9.7     100.03                  Snow  \n",
       "8781            4.8      99.95                  Snow  \n",
       "8782            9.7      99.91                  Snow  \n",
       "8783           11.3      99.89                  Snow  \n",
       "\n",
       "[8784 rows x 8 columns]"
      ]
     },
     "execution_count": 2,
     "metadata": {},
     "output_type": "execute_result"
    }
   ],
   "source": [
    "import pandas as pd\n",
    "\n",
    "pd.read_csv('C:\\\\Users\\\\pprasan1\\\\Desktop\\\\Python\\\\Notes\\\\code.csv')"
   ]
  },
  {
   "cell_type": "code",
   "execution_count": null,
   "id": "39ea3fea",
   "metadata": {},
   "outputs": [],
   "source": [
    "pd.read_csv('code.csv', usecols =['network_id'])"
   ]
  },
  {
   "cell_type": "code",
   "execution_count": null,
   "id": "091cdbdb",
   "metadata": {},
   "outputs": [],
   "source": [
    "network_id = pd.read_csv('code.csv', usecols =['network_id'], squeeze= True)"
   ]
  },
  {
   "cell_type": "code",
   "execution_count": null,
   "id": "23230f26",
   "metadata": {},
   "outputs": [],
   "source": [
    "network_id"
   ]
  },
  {
   "cell_type": "code",
   "execution_count": 4,
   "id": "8089d06c",
   "metadata": {},
   "outputs": [],
   "source": [
    "import pandas as pd\n",
    "\n",
    "data = pd.read_csv('Weather.csv')\n"
   ]
  },
  {
   "cell_type": "code",
   "execution_count": 5,
   "id": "823a2d11",
   "metadata": {},
   "outputs": [
    {
     "data": {
      "text/html": [
       "<div>\n",
       "<style scoped>\n",
       "    .dataframe tbody tr th:only-of-type {\n",
       "        vertical-align: middle;\n",
       "    }\n",
       "\n",
       "    .dataframe tbody tr th {\n",
       "        vertical-align: top;\n",
       "    }\n",
       "\n",
       "    .dataframe thead th {\n",
       "        text-align: right;\n",
       "    }\n",
       "</style>\n",
       "<table border=\"1\" class=\"dataframe\">\n",
       "  <thead>\n",
       "    <tr style=\"text-align: right;\">\n",
       "      <th></th>\n",
       "      <th>Date/Time</th>\n",
       "      <th>Temp_C</th>\n",
       "      <th>Dew Point Temp_C</th>\n",
       "      <th>Rel Hum_%</th>\n",
       "      <th>Wind Speed_km/h</th>\n",
       "      <th>Visibility_km</th>\n",
       "      <th>Press_kPa</th>\n",
       "      <th>Weather</th>\n",
       "    </tr>\n",
       "  </thead>\n",
       "  <tbody>\n",
       "    <tr>\n",
       "      <th>0</th>\n",
       "      <td>1/1/2012 0:00</td>\n",
       "      <td>-1.8</td>\n",
       "      <td>-3.9</td>\n",
       "      <td>86</td>\n",
       "      <td>4</td>\n",
       "      <td>8.0</td>\n",
       "      <td>101.24</td>\n",
       "      <td>Fog</td>\n",
       "    </tr>\n",
       "    <tr>\n",
       "      <th>1</th>\n",
       "      <td>1/1/2012 1:00</td>\n",
       "      <td>-1.8</td>\n",
       "      <td>-3.7</td>\n",
       "      <td>87</td>\n",
       "      <td>4</td>\n",
       "      <td>8.0</td>\n",
       "      <td>101.24</td>\n",
       "      <td>Fog</td>\n",
       "    </tr>\n",
       "    <tr>\n",
       "      <th>2</th>\n",
       "      <td>1/1/2012 2:00</td>\n",
       "      <td>-1.8</td>\n",
       "      <td>-3.4</td>\n",
       "      <td>89</td>\n",
       "      <td>7</td>\n",
       "      <td>4.0</td>\n",
       "      <td>101.26</td>\n",
       "      <td>Freezing Drizzle,Fog</td>\n",
       "    </tr>\n",
       "    <tr>\n",
       "      <th>3</th>\n",
       "      <td>1/1/2012 3:00</td>\n",
       "      <td>-1.5</td>\n",
       "      <td>-3.2</td>\n",
       "      <td>88</td>\n",
       "      <td>6</td>\n",
       "      <td>4.0</td>\n",
       "      <td>101.27</td>\n",
       "      <td>Freezing Drizzle,Fog</td>\n",
       "    </tr>\n",
       "    <tr>\n",
       "      <th>4</th>\n",
       "      <td>1/1/2012 4:00</td>\n",
       "      <td>-1.5</td>\n",
       "      <td>-3.3</td>\n",
       "      <td>88</td>\n",
       "      <td>7</td>\n",
       "      <td>4.8</td>\n",
       "      <td>101.23</td>\n",
       "      <td>Fog</td>\n",
       "    </tr>\n",
       "    <tr>\n",
       "      <th>...</th>\n",
       "      <td>...</td>\n",
       "      <td>...</td>\n",
       "      <td>...</td>\n",
       "      <td>...</td>\n",
       "      <td>...</td>\n",
       "      <td>...</td>\n",
       "      <td>...</td>\n",
       "      <td>...</td>\n",
       "    </tr>\n",
       "    <tr>\n",
       "      <th>8779</th>\n",
       "      <td>12/31/2012 19:00</td>\n",
       "      <td>0.1</td>\n",
       "      <td>-2.7</td>\n",
       "      <td>81</td>\n",
       "      <td>30</td>\n",
       "      <td>9.7</td>\n",
       "      <td>100.13</td>\n",
       "      <td>Snow</td>\n",
       "    </tr>\n",
       "    <tr>\n",
       "      <th>8780</th>\n",
       "      <td>12/31/2012 20:00</td>\n",
       "      <td>0.2</td>\n",
       "      <td>-2.4</td>\n",
       "      <td>83</td>\n",
       "      <td>24</td>\n",
       "      <td>9.7</td>\n",
       "      <td>100.03</td>\n",
       "      <td>Snow</td>\n",
       "    </tr>\n",
       "    <tr>\n",
       "      <th>8781</th>\n",
       "      <td>12/31/2012 21:00</td>\n",
       "      <td>-0.5</td>\n",
       "      <td>-1.5</td>\n",
       "      <td>93</td>\n",
       "      <td>28</td>\n",
       "      <td>4.8</td>\n",
       "      <td>99.95</td>\n",
       "      <td>Snow</td>\n",
       "    </tr>\n",
       "    <tr>\n",
       "      <th>8782</th>\n",
       "      <td>12/31/2012 22:00</td>\n",
       "      <td>-0.2</td>\n",
       "      <td>-1.8</td>\n",
       "      <td>89</td>\n",
       "      <td>28</td>\n",
       "      <td>9.7</td>\n",
       "      <td>99.91</td>\n",
       "      <td>Snow</td>\n",
       "    </tr>\n",
       "    <tr>\n",
       "      <th>8783</th>\n",
       "      <td>12/31/2012 23:00</td>\n",
       "      <td>0.0</td>\n",
       "      <td>-2.1</td>\n",
       "      <td>86</td>\n",
       "      <td>30</td>\n",
       "      <td>11.3</td>\n",
       "      <td>99.89</td>\n",
       "      <td>Snow</td>\n",
       "    </tr>\n",
       "  </tbody>\n",
       "</table>\n",
       "<p>8784 rows × 8 columns</p>\n",
       "</div>"
      ],
      "text/plain": [
       "             Date/Time  Temp_C  Dew Point Temp_C  Rel Hum_%  Wind Speed_km/h  \\\n",
       "0        1/1/2012 0:00    -1.8              -3.9         86                4   \n",
       "1        1/1/2012 1:00    -1.8              -3.7         87                4   \n",
       "2        1/1/2012 2:00    -1.8              -3.4         89                7   \n",
       "3        1/1/2012 3:00    -1.5              -3.2         88                6   \n",
       "4        1/1/2012 4:00    -1.5              -3.3         88                7   \n",
       "...                ...     ...               ...        ...              ...   \n",
       "8779  12/31/2012 19:00     0.1              -2.7         81               30   \n",
       "8780  12/31/2012 20:00     0.2              -2.4         83               24   \n",
       "8781  12/31/2012 21:00    -0.5              -1.5         93               28   \n",
       "8782  12/31/2012 22:00    -0.2              -1.8         89               28   \n",
       "8783  12/31/2012 23:00     0.0              -2.1         86               30   \n",
       "\n",
       "      Visibility_km  Press_kPa               Weather  \n",
       "0               8.0     101.24                   Fog  \n",
       "1               8.0     101.24                   Fog  \n",
       "2               4.0     101.26  Freezing Drizzle,Fog  \n",
       "3               4.0     101.27  Freezing Drizzle,Fog  \n",
       "4               4.8     101.23                   Fog  \n",
       "...             ...        ...                   ...  \n",
       "8779            9.7     100.13                  Snow  \n",
       "8780            9.7     100.03                  Snow  \n",
       "8781            4.8      99.95                  Snow  \n",
       "8782            9.7      99.91                  Snow  \n",
       "8783           11.3      99.89                  Snow  \n",
       "\n",
       "[8784 rows x 8 columns]"
      ]
     },
     "execution_count": 5,
     "metadata": {},
     "output_type": "execute_result"
    }
   ],
   "source": [
    "data"
   ]
  },
  {
   "cell_type": "markdown",
   "id": "f069f87f",
   "metadata": {},
   "source": [
    "# Error Handling"
   ]
  },
  {
   "cell_type": "code",
   "execution_count": 6,
   "id": "c510579d",
   "metadata": {},
   "outputs": [
    {
     "name": "stdout",
     "output_type": "stream",
     "text": [
      "except\n"
     ]
    }
   ],
   "source": [
    "try:\n",
    "    print(s)\n",
    "\n",
    "except:\n",
    "    print('except')"
   ]
  },
  {
   "cell_type": "code",
   "execution_count": 8,
   "id": "1b19b7ad",
   "metadata": {},
   "outputs": [
    {
     "name": "stdout",
     "output_type": "stream",
     "text": [
      "name 's' is not defined\n"
     ]
    }
   ],
   "source": [
    "try:\n",
    "    print(s)\n",
    "except Exception as e:\n",
    "    print(e)"
   ]
  },
  {
   "cell_type": "code",
   "execution_count": 9,
   "id": "c64d21ed",
   "metadata": {},
   "outputs": [
    {
     "name": "stdout",
     "output_type": "stream",
     "text": [
      "name 's' is not defined\n",
      "this is final\n"
     ]
    }
   ],
   "source": [
    "try:\n",
    "    print(s)\n",
    "except Exception as e:\n",
    "    print(e)\n",
    "finally:\n",
    "    print('this is final')"
   ]
  },
  {
   "cell_type": "code",
   "execution_count": 13,
   "id": "9998b289",
   "metadata": {},
   "outputs": [
    {
     "name": "stdout",
     "output_type": "stream",
     "text": [
      "3\n",
      "this is final\n"
     ]
    }
   ],
   "source": [
    "s='prasanthi'\n",
    "k=1\n",
    "try:\n",
    "    print(s + k)\n",
    "except Exception as e:\n",
    "    print(e)\n",
    "finally:\n",
    "    print('this is final')"
   ]
  },
  {
   "cell_type": "code",
   "execution_count": 16,
   "id": "c42154e3",
   "metadata": {},
   "outputs": [
    {
     "ename": "Exception",
     "evalue": "this is raise",
     "output_type": "error",
     "traceback": [
      "\u001b[1;31m---------------------------------------------------------------------------\u001b[0m",
      "\u001b[1;31mException\u001b[0m                                 Traceback (most recent call last)",
      "Input \u001b[1;32mIn [16]\u001b[0m, in \u001b[0;36m<cell line: 2>\u001b[1;34m()\u001b[0m\n\u001b[0;32m      1\u001b[0m x\u001b[38;5;241m=\u001b[39m\u001b[38;5;241m-\u001b[39m\u001b[38;5;241m1\u001b[39m\n\u001b[0;32m      2\u001b[0m \u001b[38;5;28;01mif\u001b[39;00m x\u001b[38;5;241m<\u001b[39m\u001b[38;5;241m0\u001b[39m:\n\u001b[1;32m----> 3\u001b[0m     \u001b[38;5;28;01mraise\u001b[39;00m \u001b[38;5;167;01mException\u001b[39;00m(\u001b[38;5;124m\"\u001b[39m\u001b[38;5;124mthis is raise\u001b[39m\u001b[38;5;124m\"\u001b[39m)\n",
      "\u001b[1;31mException\u001b[0m: this is raise"
     ]
    }
   ],
   "source": [
    "x=-1\n",
    "if x<0:\n",
    "    raise Exception(\"this is raise\")"
   ]
  },
  {
   "cell_type": "code",
   "execution_count": 20,
   "id": "9ccd0793",
   "metadata": {},
   "outputs": [
    {
     "name": "stdout",
     "output_type": "stream",
     "text": [
      "division by zero\n"
     ]
    }
   ],
   "source": [
    "#zero division error\n",
    "s=0\n",
    "try:\n",
    "    print(1/s)\n",
    "except Exception as e:\n",
    "    print(e)"
   ]
  },
  {
   "cell_type": "code",
   "execution_count": 25,
   "id": "2a5c5563",
   "metadata": {},
   "outputs": [
    {
     "name": "stdout",
     "output_type": "stream",
     "text": [
      "hello\n",
      "zero division error\n"
     ]
    }
   ],
   "source": [
    "try:\n",
    "    num1 = 7\n",
    "    num2 = 0 \n",
    "    print('hello')\n",
    "    print(num1/num2)\n",
    "except:\n",
    "    print('zero division error')"
   ]
  },
  {
   "cell_type": "code",
   "execution_count": 34,
   "id": "4d478712",
   "metadata": {},
   "outputs": [
    {
     "name": "stdout",
     "output_type": "stream",
     "text": [
      "Error occurred \n"
     ]
    }
   ],
   "source": [
    "#multiple exception error\n",
    "\n",
    "try:\n",
    "    variable=10\n",
    "    print(variable + 'hello')\n",
    "    print(variable/2)\n",
    "except ZeroDivisionError:\n",
    "    print('Division by zero')\n",
    "except (ValueError, TypeError):\n",
    "    print('Error occurred ')"
   ]
  },
  {
   "cell_type": "code",
   "execution_count": 42,
   "id": "c377c834",
   "metadata": {},
   "outputs": [
    {
     "name": "stdout",
     "output_type": "stream",
     "text": [
      "An error occurred\n"
     ]
    }
   ],
   "source": [
    "#which type error\n",
    "try:\n",
    "    a='spam'\n",
    "    print( a / 0)\n",
    "except:\n",
    "    print('An error occurred')"
   ]
  },
  {
   "cell_type": "code",
   "execution_count": 51,
   "id": "8fd01c8c",
   "metadata": {},
   "outputs": [
    {
     "name": "stdout",
     "output_type": "stream",
     "text": [
      "sorry. this file does not exist\n",
      "Executing finally...\n"
     ]
    }
   ],
   "source": [
    "try:\n",
    "    f = open('test_file.txt')\n",
    "    var = bad_var\n",
    "except FileNotFoundError:\n",
    "    print('sorry. this file does not exist')\n",
    "except Exception:\n",
    "    print('sorry. something went wrong')\n",
    "\n",
    "finally:\n",
    "    print('Executing finally...')"
   ]
  },
  {
   "cell_type": "markdown",
   "id": "6fa97c59",
   "metadata": {},
   "source": [
    "# F-String"
   ]
  },
  {
   "cell_type": "code",
   "execution_count": 57,
   "id": "6bd16674",
   "metadata": {},
   "outputs": [
    {
     "name": "stdout",
     "output_type": "stream",
     "text": [
      "My name is prasanthi C\n"
     ]
    }
   ],
   "source": [
    "#.format\n",
    "first_name = 'prasanthi'\n",
    "last_name = 'C'\n",
    "sentence = 'My name is {} {}'.format(first_name, last_name)\n",
    "print(sentence)"
   ]
  },
  {
   "cell_type": "code",
   "execution_count": 58,
   "id": "3bbb18d8",
   "metadata": {},
   "outputs": [
    {
     "name": "stdout",
     "output_type": "stream",
     "text": [
      "My name is PRASANTHI C\n"
     ]
    }
   ],
   "source": [
    "#f-string\n",
    "sentence=f'My name is {first_name.upper()} {last_name.upper()}'\n",
    "print(sentence)\n"
   ]
  },
  {
   "cell_type": "code",
   "execution_count": 71,
   "id": "31bd8061",
   "metadata": {},
   "outputs": [
    {
     "name": "stdout",
     "output_type": "stream",
     "text": [
      "My name is prasanthi and I am 23 years old\n"
     ]
    }
   ],
   "source": [
    "#dictionary values using f-string\n",
    "\n",
    "person = {'name': 'prasanthi', 'age':23}\n",
    "\n",
    "# sentence = 'My name is {} and I am {} years old'.format(person ['name'], person ['age'])\n",
    "# print(sentence)\n",
    "\n",
    "#using f-string\n",
    "sentence = f\"My name is {person['name']} and I am {person['age']} years old\"\n",
    "print(sentence)"
   ]
  },
  {
   "cell_type": "code",
   "execution_count": 73,
   "id": "84e4918f",
   "metadata": {},
   "outputs": [
    {
     "name": "stdout",
     "output_type": "stream",
     "text": [
      "4 times 11 is equal to 44\n"
     ]
    }
   ],
   "source": [
    "calculate = f'4 times 11 is equal to {4 * 11}'\n",
    "print(calculate)"
   ]
  },
  {
   "cell_type": "code",
   "execution_count": null,
   "id": "64da1fe0",
   "metadata": {},
   "outputs": [],
   "source": []
  }
 ],
 "metadata": {
  "kernelspec": {
   "display_name": "Python 3 (ipykernel)",
   "language": "python",
   "name": "python3"
  },
  "language_info": {
   "codemirror_mode": {
    "name": "ipython",
    "version": 3
   },
   "file_extension": ".py",
   "mimetype": "text/x-python",
   "name": "python",
   "nbconvert_exporter": "python",
   "pygments_lexer": "ipython3",
   "version": "3.9.12"
  }
 },
 "nbformat": 4,
 "nbformat_minor": 5
}
