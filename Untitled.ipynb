{
 "cells": [
  {
   "cell_type": "markdown",
   "id": "20fdad20",
   "metadata": {},
   "source": [
    "# String"
   ]
  },
  {
   "cell_type": "code",
   "execution_count": null,
   "id": "bd92a609",
   "metadata": {},
   "outputs": [],
   "source": [
    "print('welcome Message')\n",
    "print('Hello World')"
   ]
  },
  {
   "cell_type": "code",
   "execution_count": null,
   "id": "82386d32",
   "metadata": {},
   "outputs": [],
   "source": [
    "message = 'hello world'\n",
    "print(message)"
   ]
  },
  {
   "cell_type": "code",
   "execution_count": null,
   "id": "ac70cf6a",
   "metadata": {},
   "outputs": [],
   "source": [
    "message = 'Bobby's world'\n",
    "print(message)"
   ]
  },
  {
   "cell_type": "code",
   "execution_count": null,
   "id": "dd0b2a2f",
   "metadata": {},
   "outputs": [],
   "source": [
    "message = 'Bobby\\'s world'\n",
    "print (message)"
   ]
  },
  {
   "cell_type": "code",
   "execution_count": null,
   "id": "25da747d",
   "metadata": {},
   "outputs": [],
   "source": [
    "message = \"Bobby's world\"\n",
    "print (message)"
   ]
  },
  {
   "cell_type": "code",
   "execution_count": null,
   "id": "17e656fe",
   "metadata": {},
   "outputs": [],
   "source": [
    "message = 'Hello world'\n",
    "print (len(message))"
   ]
  },
  {
   "cell_type": "code",
   "execution_count": null,
   "id": "6a802926",
   "metadata": {},
   "outputs": [],
   "source": [
    "message = 'Hello world'\n",
    "print (message[0])"
   ]
  },
  {
   "cell_type": "code",
   "execution_count": null,
   "id": "c0cf956b",
   "metadata": {},
   "outputs": [],
   "source": [
    "message = 'Hello world'\n",
    "print (message[11])"
   ]
  },
  {
   "cell_type": "code",
   "execution_count": null,
   "id": "15953e91",
   "metadata": {},
   "outputs": [],
   "source": [
    "message = 'Hello world'\n",
    "print (message[:5])"
   ]
  },
  {
   "cell_type": "code",
   "execution_count": null,
   "id": "45c98699",
   "metadata": {},
   "outputs": [],
   "source": [
    "message = 'Hello world'\n",
    "print (message[6:])"
   ]
  },
  {
   "cell_type": "markdown",
   "id": "d1b54d30",
   "metadata": {},
   "source": [
    "For Lower & upper case print method"
   ]
  },
  {
   "cell_type": "code",
   "execution_count": null,
   "id": "3611a114",
   "metadata": {},
   "outputs": [],
   "source": [
    "message = 'Hello world'\n",
    "print (message.lower())"
   ]
  },
  {
   "cell_type": "code",
   "execution_count": null,
   "id": "20af753a",
   "metadata": {},
   "outputs": [],
   "source": [
    "message = 'Hello world'\n",
    "print (message.upper())"
   ]
  },
  {
   "cell_type": "markdown",
   "id": "1b062765",
   "metadata": {},
   "source": [
    "# COUNT METHOD"
   ]
  },
  {
   "cell_type": "code",
   "execution_count": null,
   "id": "1d0e4e17",
   "metadata": {},
   "outputs": [],
   "source": [
    "message = 'Hello world'\n",
    "print (message.count('Hello'))"
   ]
  },
  {
   "cell_type": "code",
   "execution_count": null,
   "id": "2d4b9eb7",
   "metadata": {},
   "outputs": [],
   "source": [
    "message = 'Hello world'\n",
    "print (message.count('l'))"
   ]
  },
  {
   "cell_type": "markdown",
   "id": "cfc5ff5c",
   "metadata": {},
   "source": [
    "Find Method"
   ]
  },
  {
   "cell_type": "code",
   "execution_count": null,
   "id": "fd94f967",
   "metadata": {},
   "outputs": [],
   "source": [
    "message = 'Hello world'\n",
    "print (message.find('world'))"
   ]
  },
  {
   "cell_type": "markdown",
   "id": "3a28a125",
   "metadata": {},
   "source": [
    "Replace Method"
   ]
  },
  {
   "cell_type": "code",
   "execution_count": null,
   "id": "6f96a7e2",
   "metadata": {},
   "outputs": [],
   "source": [
    "message = 'Hello world'\n",
    "\n",
    "new_message = message.replace('world','Universe')\n",
    "\n",
    "print (new_message)"
   ]
  },
  {
   "cell_type": "code",
   "execution_count": null,
   "id": "c4b55659",
   "metadata": {},
   "outputs": [],
   "source": [
    "message = 'Hello world'\n",
    "\n",
    "message = message.replace('world', 'Universe')\n",
    "\n",
    "print (message)\n",
    "print (new_message)"
   ]
  },
  {
   "cell_type": "code",
   "execution_count": null,
   "id": "3bc7c294",
   "metadata": {},
   "outputs": [],
   "source": [
    "greeting = 'Hello'\n",
    "name = 'prasanthi'\n",
    "\n",
    "message = greeting + name\n",
    "\n",
    "print (message)"
   ]
  },
  {
   "cell_type": "code",
   "execution_count": null,
   "id": "777d923a",
   "metadata": {},
   "outputs": [],
   "source": [
    "greeting = 'Hello'\n",
    "name = 'prasanthi'\n",
    "\n",
    "message = greeting +','+ name +'.Welcome!'\n",
    "\n",
    "print (message)"
   ]
  },
  {
   "cell_type": "markdown",
   "id": "4117eb30",
   "metadata": {},
   "source": [
    "Formatted string"
   ]
  },
  {
   "cell_type": "code",
   "execution_count": null,
   "id": "0fbca958",
   "metadata": {},
   "outputs": [],
   "source": [
    "greeting = 'Hello'\n",
    "name = 'prasanthi'\n",
    "\n",
    "message = greeting +','+ name +'.Welcome!'\n",
    "\n",
    "message = '{}, {}. welcome!'. format(greeting, name)\n",
    "\n",
    "print (message)"
   ]
  },
  {
   "cell_type": "code",
   "execution_count": null,
   "id": "a9c929a3",
   "metadata": {},
   "outputs": [],
   "source": [
    "greeting = 'Hello'\n",
    "name = 'prasanthi'\n",
    "\n",
    "message = greeting +','+ name +'.Welcome!'\n",
    "\n",
    "message = f'{greeting}, {name.upper()}. welcome!'\n",
    "\n",
    "print (message)"
   ]
  },
  {
   "cell_type": "code",
   "execution_count": null,
   "id": "6c45ef1e",
   "metadata": {},
   "outputs": [],
   "source": [
    "greeting = 'Hello'\n",
    "name = 'prasanthi'\n",
    "\n",
    "print (dir(name))"
   ]
  },
  {
   "cell_type": "code",
   "execution_count": null,
   "id": "4a547967",
   "metadata": {},
   "outputs": [],
   "source": [
    "greeting = 'Hello'\n",
    "name = 'prasanthi'\n",
    "\n",
    "print (help(str))"
   ]
  },
  {
   "cell_type": "markdown",
   "id": "db1b7ae2",
   "metadata": {},
   "source": [
    "Integers and Floats - Working with Numeric Data"
   ]
  },
  {
   "cell_type": "code",
   "execution_count": null,
   "id": "eae9cc88",
   "metadata": {},
   "outputs": [],
   "source": [
    "num =3\n",
    "\n",
    "print (type(num))"
   ]
  },
  {
   "cell_type": "code",
   "execution_count": null,
   "id": "ad9b2c72",
   "metadata": {},
   "outputs": [],
   "source": [
    "num =3.14\n",
    "\n",
    "print (type(num))"
   ]
  },
  {
   "cell_type": "markdown",
   "id": "c53b97f4",
   "metadata": {},
   "source": [
    "Arthimetic Operators\n"
   ]
  },
  {
   "cell_type": "code",
   "execution_count": null,
   "id": "72af8756",
   "metadata": {},
   "outputs": [],
   "source": [
    "# Addition: 3+2\n",
    "# Subtraction: 3-2\n",
    "# Multiplcation: 3*2\n",
    "# Division: 3/2\n",
    "# Floor Division: 3//2\n",
    "#Exponent: 3**2\n",
    "#Modulus: 3%2\n",
    "\n",
    "print (3 + 2)"
   ]
  },
  {
   "cell_type": "code",
   "execution_count": null,
   "id": "8b497e3e",
   "metadata": {},
   "outputs": [],
   "source": [
    "num =3\n",
    "\n",
    "num *= 9\n",
    "\n",
    "print(num)"
   ]
  },
  {
   "cell_type": "code",
   "execution_count": null,
   "id": "2bc53908",
   "metadata": {},
   "outputs": [],
   "source": [
    "print(abs(-3))\n",
    "print(round(3.75, 1))"
   ]
  },
  {
   "cell_type": "markdown",
   "id": "829d3123",
   "metadata": {},
   "source": [
    "Comparisons"
   ]
  },
  {
   "cell_type": "code",
   "execution_count": null,
   "id": "73916b60",
   "metadata": {},
   "outputs": [],
   "source": [
    "#Equal: 3 == 2\n",
    "#Not Equal: 3 !=2\n",
    "#Greater than: 3 > 2\n",
    "#Less than: 3 < 2\n",
    "#Greater or Equal: 3 >= 2\n",
    "#Less or Equal: 3 <=2\n",
    "\n",
    "num_1 = 3\n",
    "num_2 = 2\n",
    "\n",
    "print(num_1 >= num_2)"
   ]
  },
  {
   "cell_type": "markdown",
   "id": "c3f457a8",
   "metadata": {},
   "source": [
    "concatenates"
   ]
  },
  {
   "cell_type": "code",
   "execution_count": null,
   "id": "79e8cbda",
   "metadata": {},
   "outputs": [],
   "source": [
    "num_1 = '100'\n",
    "num_2 = '200'\n",
    "\n",
    "num_1 = int(num_1)\n",
    "num_2 = int(num_2)\n",
    "print(num_1 + num_2)"
   ]
  },
  {
   "cell_type": "markdown",
   "id": "e93ba1ce",
   "metadata": {},
   "source": [
    "variables and data types"
   ]
  },
  {
   "cell_type": "code",
   "execution_count": null,
   "id": "5b7ad2f7",
   "metadata": {},
   "outputs": [],
   "source": [
    "character_name = \"prasanthi\"\n",
    "character_age = \"25\"\n",
    "print('There once was a man named ' + character_name + ',')\n",
    "print('he was '+ character_age + ' years old ,' )\n",
    "print('he really like the name ' + character_name + ',')\n",
    "print(\"but didn't like being \" + character_age + '.')\n"
   ]
  },
  {
   "cell_type": "markdown",
   "id": "2527eabd",
   "metadata": {},
   "source": [
    "Getting inputs from users"
   ]
  },
  {
   "cell_type": "code",
   "execution_count": null,
   "id": "6a86e77d",
   "metadata": {},
   "outputs": [],
   "source": [
    "name = input('enter your name ')\n",
    "age = input ('enter you age ')\n",
    "\n",
    "print ( name + age)"
   ]
  },
  {
   "cell_type": "markdown",
   "id": "e6bcb99a",
   "metadata": {},
   "source": [
    "Lists,Tuples, and Sets"
   ]
  },
  {
   "cell_type": "code",
   "execution_count": null,
   "id": "d96edb27",
   "metadata": {},
   "outputs": [],
   "source": [
    "courses = ['history', 'maths', 'physics', 'telugu']\n",
    "courses_2 = ['Art','Education']\n",
    "courses. append('art')\n",
    "courses.insert(0, courses_2)\n",
    "courses.extend(courses_2)\n",
    "print(courses)\n",
    "print(len(courses))\n",
    "print(courses[0])\n",
    "print(courses[-1])\n",
    "print(courses[0:2])\n",
    "print(courses.index('art')) \n",
    "print(type(courses_2))"
   ]
  },
  {
   "cell_type": "code",
   "execution_count": null,
   "id": "2c20d4e6",
   "metadata": {},
   "outputs": [],
   "source": [
    "courses = ['history', 'maths', 'physics', 'telugu']\n",
    "courses_2 = ['Art','Education']\n",
    "courses.remove('maths')\n",
    "\n",
    "popped = courses.pop()\n",
    "\n",
    "courses. insert(0, courses_2)\n",
    "\n",
    "print(courses)\n",
    "print(courses_2)\n",
    "print(popped)\n",
    "print(type(courses))"
   ]
  },
  {
   "cell_type": "code",
   "execution_count": null,
   "id": "69e44b5f",
   "metadata": {},
   "outputs": [],
   "source": [
    "courses = ['history', 'maths', 'physics', 'telugu']\n",
    "nums = [1, 5, 4, 2,3]\n",
    "\n",
    "courses. reverse()\n",
    "courses. sort(reverse=True)\n",
    "nums.sort(reverse=True)\n",
    "sorted_courses = sorted(courses)\n",
    "print(courses)\n",
    "print(min(nums))\n"
   ]
  },
  {
   "cell_type": "code",
   "execution_count": null,
   "id": "e84d89e0",
   "metadata": {},
   "outputs": [],
   "source": [
    "courses = ['history', 'maths', 'physics', 'telugu']\n",
    "courses_str = '-'. join(courses)\n",
    "new_list = courses_str.split('-')\n",
    "\n",
    "print (courses_str)\n",
    "print (new_list)"
   ]
  },
  {
   "cell_type": "markdown",
   "id": "a2fd1773",
   "metadata": {},
   "source": [
    "# Dictionaries"
   ]
  },
  {
   "cell_type": "code",
   "execution_count": null,
   "id": "2973b77f",
   "metadata": {},
   "outputs": [],
   "source": [
    "dic={'name':'prasanthi','age':'20','phone':'9999922228'}\n",
    "\n",
    "print(dic['name'])\n",
    "print(len(dic))\n",
    "print(max(dic))\n",
    "print(min(dic))\n",
    "print(type(dic))"
   ]
  },
  {
   "cell_type": "code",
   "execution_count": null,
   "id": "1541623c",
   "metadata": {},
   "outputs": [],
   "source": [
    "dic={'name':'prasanthi','age':'20','phone':'9999922228'}\n",
    "dic[\"gender\"]=\"female\"\n",
    "dic.pop(\"phone\")\n",
    "\n",
    "print(dic)"
   ]
  },
  {
   "cell_type": "code",
   "execution_count": null,
   "id": "d6915f6e",
   "metadata": {},
   "outputs": [],
   "source": [
    "dic={'name':'prasanthi','age':'20','phone':'9999922228'}\n",
    "mydic=dict(dic)\n",
    "print(mydic)"
   ]
  },
  {
   "cell_type": "markdown",
   "id": "4008a07b",
   "metadata": {},
   "source": [
    "# Booleans"
   ]
  },
  {
   "cell_type": "code",
   "execution_count": null,
   "id": "d6ddbba8",
   "metadata": {},
   "outputs": [],
   "source": [
    "x=10>9\n",
    "print(x)"
   ]
  },
  {
   "cell_type": "code",
   "execution_count": null,
   "id": "d3ce646a",
   "metadata": {},
   "outputs": [],
   "source": [
    "x= 'Hello'\n",
    "y= 15\n",
    "print(bool(x))\n",
    "print(bool(y))"
   ]
  },
  {
   "cell_type": "markdown",
   "id": "f7ea9313",
   "metadata": {},
   "source": [
    "# Conditions"
   ]
  },
  {
   "cell_type": "code",
   "execution_count": null,
   "id": "3f53defc",
   "metadata": {},
   "outputs": [],
   "source": [
    "a=20\n",
    "b=30\n",
    "if b>a:\n",
    "   print('b is greater than a')\n",
    "else:\n",
    "    print('b is not greather than a')\n",
    "    "
   ]
  },
  {
   "cell_type": "code",
   "execution_count": null,
   "id": "f2a0dfb7",
   "metadata": {},
   "outputs": [],
   "source": [
    "a = 34\n",
    "b = 33\n",
    "if b > a:\n",
    "  print(\"b is greater than a\")\n",
    "elif a == b:\n",
    "  print(\"a and b are equal\")\n",
    "else:\n",
    "  print(\"b is not greater than a\")\n"
   ]
  },
  {
   "cell_type": "code",
   "execution_count": null,
   "id": "9ce432ba",
   "metadata": {},
   "outputs": [],
   "source": [
    "a = 200\n",
    "b = 33\n",
    "c = 400\n",
    "if a > b and c > a:\n",
    "  print(\"Both conditions are True\")"
   ]
  },
  {
   "cell_type": "code",
   "execution_count": null,
   "id": "c3a31932",
   "metadata": {},
   "outputs": [],
   "source": [
    "a = 200\n",
    "b = 33\n",
    "c = 500\n",
    "if a > b or a > c:\n",
    "  print(\"At least one of the conditions is True\")"
   ]
  },
  {
   "cell_type": "code",
   "execution_count": null,
   "id": "e52baefc",
   "metadata": {},
   "outputs": [],
   "source": [
    "x = 40\n",
    "\n",
    "if x > 10:\n",
    "  print(\"Above ten,\")\n",
    "  if x > 20:\n",
    "    print(\"and also above 20!\")\n",
    "  else:\n",
    "    print(\"but not above 20.\")"
   ]
  },
  {
   "cell_type": "markdown",
   "id": "d61188c9",
   "metadata": {},
   "source": [
    "#  Loops and Iterations"
   ]
  },
  {
   "cell_type": "code",
   "execution_count": null,
   "id": "5bdafcc8",
   "metadata": {},
   "outputs": [],
   "source": [
    "nums = [1,2,3,4,5]\n",
    "for num in nums:\n",
    "    if num == 3: \n",
    "        print('found')\n",
    "        break\n",
    "    print(num)\n",
    "        "
   ]
  },
  {
   "cell_type": "code",
   "execution_count": null,
   "id": "fae500c9",
   "metadata": {},
   "outputs": [],
   "source": [
    "nums = [1,2,3,4,5]\n",
    "for num in nums:\n",
    "    if num == 3:\n",
    "        print('found')\n",
    "        continue\n",
    "    print(num)"
   ]
  },
  {
   "cell_type": "code",
   "execution_count": null,
   "id": "73382601",
   "metadata": {},
   "outputs": [],
   "source": [
    "nums = [1,2,3,4,5]\n",
    "for num in nums:\n",
    "    for letter in 'abc':\n",
    "        print(num, letter)"
   ]
  },
  {
   "cell_type": "markdown",
   "id": "61b0ed99",
   "metadata": {},
   "source": [
    "# Functions"
   ]
  },
  {
   "cell_type": "code",
   "execution_count": null,
   "id": "25e73772",
   "metadata": {},
   "outputs": [],
   "source": [
    "def hello_fun():\n",
    "    nums = [1,2,3,4,5]\n",
    "for num in nums:\n",
    "    if num == 5:\n",
    "        print('found')\n",
    "        break\n",
    "    print(num)\n",
    "    \n",
    "hello_fun()\n",
    "\n"
   ]
  },
  {
   "cell_type": "markdown",
   "id": "b2aa87b3",
   "metadata": {},
   "source": [
    "# Import Modules"
   ]
  },
  {
   "cell_type": "code",
   "execution_count": null,
   "id": "f042973c",
   "metadata": {},
   "outputs": [],
   "source": [
    "import numpy as np\n",
    "y=np.array([2,4,6,8])"
   ]
  },
  {
   "cell_type": "code",
   "execution_count": null,
   "id": "39a9b1ef",
   "metadata": {},
   "outputs": [],
   "source": [
    "import my_mod as mod\n",
    "import find_index as find"
   ]
  },
  {
   "cell_type": "code",
   "execution_count": null,
   "id": "0d249293",
   "metadata": {},
   "outputs": [],
   "source": [
    "mod.my_mean(y)\n"
   ]
  },
  {
   "cell_type": "code",
   "execution_count": null,
   "id": "e5e24ced",
   "metadata": {},
   "outputs": [],
   "source": [
    "find.find_index"
   ]
  },
  {
   "cell_type": "markdown",
   "id": "f86ad344",
   "metadata": {},
   "source": [
    "# Local variable"
   ]
  },
  {
   "cell_type": "code",
   "execution_count": null,
   "id": "481caf49",
   "metadata": {},
   "outputs": [],
   "source": [
    "def local_test():\n",
    "    value=1\n",
    "    print('the value is define is: ',value)\n"
   ]
  },
  {
   "cell_type": "code",
   "execution_count": null,
   "id": "4193e705",
   "metadata": {},
   "outputs": [],
   "source": [
    "local_test()"
   ]
  },
  {
   "cell_type": "markdown",
   "id": "1e30eec8",
   "metadata": {},
   "source": [
    "# Global Variable"
   ]
  },
  {
   "cell_type": "code",
   "execution_count": null,
   "id": "c2b7ecb0",
   "metadata": {},
   "outputs": [],
   "source": [
    "message = \"global\"\n",
    "def python_developer():\n",
    "    developer=\"welcome to python program\"\n",
    "    print(message, developer)\n",
    "def developer_name(name):\n",
    "    print(message, name)\n",
    "\n",
    "    "
   ]
  },
  {
   "cell_type": "code",
   "execution_count": null,
   "id": "ffe59b31",
   "metadata": {},
   "outputs": [],
   "source": [
    "python_developer()\n",
    "developer_name(\"prasanthi\")"
   ]
  },
  {
   "cell_type": "markdown",
   "id": "c1123c36",
   "metadata": {},
   "source": [
    "# Enclose variable"
   ]
  },
  {
   "cell_type": "code",
   "execution_count": null,
   "id": "941332f1",
   "metadata": {},
   "outputs": [],
   "source": [
    "def parent_nest():\n",
    "    initial_value=5\n",
    "    def child_nest():\n",
    "        next_value=10\n",
    "        print(\"value define in the parent function:\", initial_value)\n",
    "        print(\"value define in the parent function:\", next_value)\n",
    "    child_nest()\n",
    "parent_nest()"
   ]
  },
  {
   "cell_type": "code",
   "execution_count": null,
   "id": "6415e662",
   "metadata": {},
   "outputs": [],
   "source": [
    "a=(\"a\",\"b\",\"c\",\"d\",\"e\",\"f\"\"g\",\"h\")\n",
    "x=slice(2)\n",
    "print(a[x])"
   ]
  },
  {
   "cell_type": "code",
   "execution_count": null,
   "id": "06ebbab0",
   "metadata": {},
   "outputs": [],
   "source": [
    "my_list = [1, 2, 3, 4, 5,6,7,8,9]\n",
    "        \n",
    "print(my_list[3:8:2])"
   ]
  },
  {
   "cell_type": "code",
   "execution_count": null,
   "id": "c57a5b2d",
   "metadata": {},
   "outputs": [],
   "source": [
    "list = [1,2,3,4,5,6,7,8,9]\n",
    "\n",
    "print(list[0:8:2])\n"
   ]
  },
  {
   "cell_type": "markdown",
   "id": "46528bc9",
   "metadata": {},
   "source": [
    "# String Slicing\n"
   ]
  },
  {
   "cell_type": "code",
   "execution_count": null,
   "id": "b75c1daa",
   "metadata": {},
   "outputs": [],
   "source": [
    "string = 'prasanthi'\n",
    "print(string[0:8:2])"
   ]
  },
  {
   "cell_type": "code",
   "execution_count": null,
   "id": "e2390b95",
   "metadata": {},
   "outputs": [],
   "source": [
    "s='mybacon'\n",
    "s[2:5]"
   ]
  },
  {
   "cell_type": "code",
   "execution_count": null,
   "id": "c4b49995",
   "metadata": {},
   "outputs": [],
   "source": [
    "s='mybacon'\n",
    "s[-4:-2]"
   ]
  },
  {
   "cell_type": "code",
   "execution_count": null,
   "id": "b43a0ed2",
   "metadata": {},
   "outputs": [],
   "source": [
    "#index_ 0, 1, 2, 3, 4, 5, 6\n",
    "lst = [50,70,30,20,90,10,50]\n",
    "print(lst[::])"
   ]
  },
  {
   "cell_type": "code",
   "execution_count": null,
   "id": "563934fa",
   "metadata": {},
   "outputs": [],
   "source": [
    "#index_ -7,-6,-5,-4,-3,-2,-1\n",
    "lst=[50,70,30,20,90,10,50]\n",
    "print(lst[-6::1])"
   ]
  },
  {
   "cell_type": "code",
   "execution_count": null,
   "id": "5b3e627b",
   "metadata": {},
   "outputs": [],
   "source": [
    "lst=[50,70,30,20,90,10,50]\n",
    "print(lst[2:6])"
   ]
  },
  {
   "cell_type": "code",
   "execution_count": null,
   "id": "8af356c0",
   "metadata": {},
   "outputs": [],
   "source": [
    "lst=[1,2,3,4,5,6,7,8,9]\n",
    "\n",
    "# Show original list\n",
    "print(\"\\nOriginal List:\\n\", lst)\n",
    " \n",
    "print(\"\\nSliced List: \")\n",
    "\n",
    "print(lst[3:9:2])\n",
    "print(lst[::2])\n",
    "print(lst[::])\n",
    "print(lst[:9:2])\n",
    "print(lst[3::2])\n",
    "print(lst[1:1:1])\n",
    "print(lst[-1:-1:-1])\n",
    "print(lst[10::2])\n"
   ]
  },
  {
   "cell_type": "code",
   "execution_count": null,
   "id": "7b5b5487",
   "metadata": {},
   "outputs": [],
   "source": [
    "lst = [-999, 'G4G', 1706256, '^_^', 3.1496]\n",
    "\n",
    "\n",
    "print(lst[1:1:1])\n",
    "print(lst[-1:-1:-1])\n",
    "print(lst[10::2])\n",
    "\n"
   ]
  },
  {
   "cell_type": "code",
   "execution_count": null,
   "id": "4d3a3a99",
   "metadata": {},
   "outputs": [],
   "source": [
    "lst = [-999, 'G4G', 1706256, '^_^', 3.1496]\n",
    "print(lst)\n",
    "lst[2:4] = ['Geeks', 'for', 'Geeks', '!']\n",
    "\n",
    "# Modified List\n",
    "print(lst)\n",
    "\n",
    "lst[:6] = []\n",
    "\n",
    "print(lst)\n"
   ]
  },
  {
   "cell_type": "code",
   "execution_count": null,
   "id": "cad31160",
   "metadata": {},
   "outputs": [],
   "source": [
    "lst = [1, 2, 3, 4, 5, 6, 7, 8, 9,11]\n",
    "newlist = lst[:2]+lst[7:]\n",
    "print(newlist)\n"
   ]
  },
  {
   "cell_type": "markdown",
   "id": "2172bd7a",
   "metadata": {},
   "source": [
    "# List Comprehensions"
   ]
  },
  {
   "cell_type": "code",
   "execution_count": null,
   "id": "b2575278",
   "metadata": {},
   "outputs": [],
   "source": [
    "[x for x in range (10)]"
   ]
  },
  {
   "cell_type": "code",
   "execution_count": null,
   "id": "09f6b0ef",
   "metadata": {},
   "outputs": [],
   "source": [
    "#list \n",
    "lst=[]\n",
    "\n",
    "for i in range(10):\n",
    "    if(i%2==0):\n",
    "        lst.append(i)\n",
    "print(lst)"
   ]
  },
  {
   "cell_type": "code",
   "execution_count": null,
   "id": "d7637fbe",
   "metadata": {},
   "outputs": [],
   "source": [
    "#list comprehensions\n",
    "lst=[i for i in range (10) if (i%3== 0)]\n",
    "print(lst)"
   ]
  },
  {
   "cell_type": "code",
   "execution_count": null,
   "id": "590666b5",
   "metadata": {},
   "outputs": [],
   "source": [
    "lst=[character for character in 'Geeks 4 Geeks']\n",
    "print(lst)"
   ]
  },
  {
   "cell_type": "code",
   "execution_count": null,
   "id": "7bc00600",
   "metadata": {},
   "outputs": [],
   "source": [
    "# Empty list\n",
    "List = []\n",
    "\n",
    "\n",
    "for character in 'Geeks 4 Geeks!':\n",
    "    List.append(character)\n",
    "\n",
    "# Display list\n",
    "print(List)\n"
   ]
  },
  {
   "cell_type": "code",
   "execution_count": null,
   "id": "3c19a25f",
   "metadata": {},
   "outputs": [],
   "source": [
    "num= [i*10 for i in range(1,6)]\n",
    "print(num)"
   ]
  },
  {
   "cell_type": "markdown",
   "id": "1fff7e4d",
   "metadata": {},
   "source": [
    "# Set Comprhenesions"
   ]
  },
  {
   "cell_type": "code",
   "execution_count": null,
   "id": "94055520",
   "metadata": {},
   "outputs": [],
   "source": [
    "x = [1, 2, 3, 4, 4, 5, 6, 6, 6, 7, 7]\n",
    "\n",
    "output_set = set()\n",
    "\n",
    "for var in x:\n",
    "    if var % 2 == 0:\n",
    "        output_set.add(var)\n",
    "\n",
    "print(output_set)\n"
   ]
  },
  {
   "cell_type": "code",
   "execution_count": null,
   "id": "3d040ab0",
   "metadata": {},
   "outputs": [],
   "source": [
    "x = [1, 2, 3, 4, 4, 5, 6, 6, 6, 7, 7]\n",
    "\n",
    "lst={var for var in x if var % 2 == 0}\n",
    "print(lst)"
   ]
  },
  {
   "cell_type": "markdown",
   "id": "5468ba65",
   "metadata": {},
   "source": [
    "# sorting"
   ]
  },
  {
   "cell_type": "code",
   "execution_count": null,
   "id": "d9201432",
   "metadata": {},
   "outputs": [],
   "source": [
    "elements=[]\n",
    "noofelements=int(input('enter the no of element:'))\n",
    "\n",
    "for i in range(noofelements):\n",
    "    element=int(input('enter the element:'))\n",
    "    elements.append(element)\n",
    "\n",
    "elements.sort(reverse=True)\n",
    "print(elements)"
   ]
  },
  {
   "cell_type": "markdown",
   "id": "ab04c3dd",
   "metadata": {},
   "source": [
    " "
   ]
  },
  {
   "cell_type": "code",
   "execution_count": null,
   "id": "f6e4791c",
   "metadata": {},
   "outputs": [],
   "source": [
    "elements=[]\n",
    "noofelements=int(input('enter the no of element:'))\n",
    "\n",
    "for i in range(noofelements):\n",
    "    element=input('enter the element:')\n",
    "    elements.append(element)\n",
    "\n",
    "elements.sort()\n",
    "print(elements)"
   ]
  },
  {
   "cell_type": "markdown",
   "id": "8c4fee61",
   "metadata": {},
   "source": [
    "# Tuple Sorting"
   ]
  },
  {
   "cell_type": "code",
   "execution_count": null,
   "id": "f335bcd3",
   "metadata": {},
   "outputs": [],
   "source": [
    "items = [(1,'B'), (1,'A'), (2,'A'), (2,'B'), (0,'a')]\n",
    "\n",
    "sorted_items = sorted(items)\n",
    "\n",
    "print(items)\n",
    "print(sorted_items)"
   ]
  },
  {
   "cell_type": "code",
   "execution_count": null,
   "id": "0d922c36",
   "metadata": {},
   "outputs": [],
   "source": [
    "li = [9,1,5,6,7,3,4,8]\n",
    "s_li=sorted(li)\n",
    "print('sorted variable:\\t', s_li)\n",
    "print('original variable:\\t', li)"
   ]
  },
  {
   "cell_type": "code",
   "execution_count": null,
   "id": "0fb574c1",
   "metadata": {},
   "outputs": [],
   "source": [
    "n_tuples = (6,9,3,1)\n",
    "n_tuple_sorted = sorted(n_tuples)\n",
    "n_tuple_sorted"
   ]
  },
  {
   "cell_type": "markdown",
   "id": "a07768c2",
   "metadata": {},
   "source": [
    "# Formatting with placeholder"
   ]
  },
  {
   "cell_type": "code",
   "execution_count": null,
   "id": "6167c7ac",
   "metadata": {},
   "outputs": [],
   "source": [
    "txt1=\"my name is {fname}, I'm {age}\""
   ]
  },
  {
   "cell_type": "code",
   "execution_count": null,
   "id": "cf47152c",
   "metadata": {},
   "outputs": [],
   "source": [
    "y=input('Enter you Name')\n",
    "print('Hi %s, how are you' %y)\n"
   ]
  },
  {
   "cell_type": "code",
   "execution_count": null,
   "id": "be3ef3be",
   "metadata": {},
   "outputs": [],
   "source": [
    "x, y = 'my','world'\n",
    "print('welcome to %s %r' %(x,y))"
   ]
  },
  {
   "cell_type": "markdown",
   "id": "9c8e1b86",
   "metadata": {},
   "source": [
    "# Formatting with .format()"
   ]
  },
  {
   "cell_type": "code",
   "execution_count": null,
   "id": "4da17b6a",
   "metadata": {},
   "outputs": [],
   "source": [
    "#'string here {} then also {}'.format('something1,','something2')"
   ]
  },
  {
   "cell_type": "code",
   "execution_count": null,
   "id": "6d92f63a",
   "metadata": {},
   "outputs": [],
   "source": [
    "print('The {} {} {}'.format('apple', 'banana', 'fox'))"
   ]
  },
  {
   "cell_type": "code",
   "execution_count": null,
   "id": "ff378c66",
   "metadata": {},
   "outputs": [],
   "source": [
    "#using indexing\n",
    "print('The {2} {1} {0}'.format('fox', 'tree', 'cut'))"
   ]
  },
  {
   "cell_type": "markdown",
   "id": "d50aba3b",
   "metadata": {},
   "source": [
    "# formatting with f-strings"
   ]
  },
  {
   "cell_type": "code",
   "execution_count": null,
   "id": "1880ed32",
   "metadata": {},
   "outputs": [],
   "source": [
    "name='prasanthi'\n",
    "print(f'She said her name is {name}' )"
   ]
  },
  {
   "cell_type": "code",
   "execution_count": null,
   "id": "b1ed1867",
   "metadata": {},
   "outputs": [],
   "source": [
    "score=95\n",
    "print(f'He score {score} marks in python')"
   ]
  },
  {
   "cell_type": "code",
   "execution_count": null,
   "id": "39445b1a",
   "metadata": {},
   "outputs": [],
   "source": [
    "person = {'name':'prasanthi', 'age':25}\n",
    "sentence = 'My name is' + person['name'] + 'and I am ' + str(person['age']) + 'years old.'\n",
    "print(sentence)"
   ]
  },
  {
   "cell_type": "code",
   "execution_count": null,
   "id": "67b98dce",
   "metadata": {},
   "outputs": [],
   "source": [
    "import os\n",
    "\n",
    "print(os.getcwd())"
   ]
  },
  {
   "cell_type": "code",
   "execution_count": null,
   "id": "f89de676",
   "metadata": {},
   "outputs": [],
   "source": [
    "import os\n",
    "\n",
    "def current_path(): \n",
    "    print(\"Current working directory before\") \n",
    "    print(os.getcwd()) \n",
    "    print()\n",
    "current_path() \n",
    "os.chdir('../')\n",
    "current_path() "
   ]
  },
  {
   "cell_type": "code",
   "execution_count": null,
   "id": "f4a0f9c1",
   "metadata": {},
   "outputs": [],
   "source": [
    "import os\n",
    "directory = \"prasanthi\"\n",
    "parent_dir = 'C:/desktop/'\n",
    "path = os.path.join(parent_dir, directory) \n",
    "print(\"Directory '% s' created\" % directory)\n",
    "print(os.getcwd()) \n"
   ]
  },
  {
   "cell_type": "code",
   "execution_count": null,
   "id": "84070505",
   "metadata": {},
   "outputs": [],
   "source": [
    "import os \n",
    "  \n",
    "# Get the list of all files and directories \n",
    "# in the root directory \n",
    "path = \"/\"\n",
    "print(path) \n",
    "print(dir_list)"
   ]
  },
  {
   "cell_type": "code",
   "execution_count": null,
   "id": "beaa3100",
   "metadata": {},
   "outputs": [],
   "source": [
    "import os \n",
    "print(os.name)"
   ]
  },
  {
   "cell_type": "markdown",
   "id": "6d05cf27",
   "metadata": {},
   "source": [
    "# Datetime"
   ]
  },
  {
   "cell_type": "code",
   "execution_count": null,
   "id": "121fe1fc",
   "metadata": {},
   "outputs": [],
   "source": [
    "import datetime\n",
    "x=datetime.datetime.now()\n",
    "print(x)"
   ]
  },
  {
   "cell_type": "code",
   "execution_count": null,
   "id": "80872dc3",
   "metadata": {},
   "outputs": [],
   "source": [
    "#year\n",
    "y=datetime.datetime.now().year\n",
    "print(y)"
   ]
  },
  {
   "cell_type": "code",
   "execution_count": null,
   "id": "25cf933b",
   "metadata": {},
   "outputs": [],
   "source": [
    "d=datetime.date(2020,6,12)\n",
    "print(d)"
   ]
  },
  {
   "cell_type": "code",
   "execution_count": null,
   "id": "9e53ca85",
   "metadata": {},
   "outputs": [],
   "source": [
    "tday=datetime.date.today()\n",
    "print(tday)\n",
    "print(tday.weekday())\n",
    "print(tday.isoweekday())"
   ]
  },
  {
   "cell_type": "code",
   "execution_count": null,
   "id": "e0f54a36",
   "metadata": {},
   "outputs": [],
   "source": [
    "tdelta=datetime.timedelta(days=7)\n",
    "print(tday - tdelta)\n",
    "print(tday + tdelta)"
   ]
  },
  {
   "cell_type": "code",
   "execution_count": null,
   "id": "c840d67c",
   "metadata": {},
   "outputs": [],
   "source": [
    "bday=datetime.date(1994, 3, 1)\n",
    "print(bday)\n",
    "\n",
    "till_bday= bday-tday\n",
    "print(till_bday)"
   ]
  },
  {
   "cell_type": "code",
   "execution_count": null,
   "id": "f00bec20",
   "metadata": {},
   "outputs": [],
   "source": [
    "t=datetime.time(9, 36, 45, 12000)\n",
    "print(t)\n",
    "print(t.hour)\n"
   ]
  },
  {
   "cell_type": "code",
   "execution_count": null,
   "id": "8f68fa58",
   "metadata": {},
   "outputs": [],
   "source": [
    "dt = datetime.datetime(2020, 6, 20, 12, 30, 45, 100000)\n",
    "print(dt)\n",
    "tdelta = datetime.timedelta(days=7)\n",
    "\n",
    "print(dt + tdelta)"
   ]
  },
  {
   "cell_type": "code",
   "execution_count": null,
   "id": "c7018623",
   "metadata": {},
   "outputs": [],
   "source": [
    "import pytz\n",
    "dt_utcnow = datetime.datetime.now(tz=pytz.utc)\n",
    "print(dt_utcnow)\n",
    "dt_mtn=datetime.datetime.now(pytz.timezone('us/mountain'))\n",
    "print(dt_mtn)"
   ]
  },
  {
   "cell_type": "code",
   "execution_count": null,
   "id": "1632b6db",
   "metadata": {},
   "outputs": [],
   "source": [
    "for tz in pytz.all_timezones:\n",
    "    print(tz)"
   ]
  },
  {
   "cell_type": "code",
   "execution_count": null,
   "id": "925a7e8b",
   "metadata": {},
   "outputs": [],
   "source": [
    "dt_mtn = datetime.datetime.now(tz=pytz.timezone('US/Mountain'))\n",
    "print(dt_mtn.strftime('%B, %d, %Y'))"
   ]
  },
  {
   "cell_type": "code",
   "execution_count": null,
   "id": "7915189f",
   "metadata": {},
   "outputs": [],
   "source": [
    "dt_str = 'july 26, 2020'\n",
    "dt = datetime.datetime.strptime(dt_str, '%B %d, %Y')\n",
    "print (dt)\n",
    "\n",
    "#strftime -datetime to string\n",
    "#strptime - string to datetime"
   ]
  },
  {
   "cell_type": "markdown",
   "id": "a7066961",
   "metadata": {},
   "source": [
    "# File Object"
   ]
  },
  {
   "cell_type": "code",
   "execution_count": null,
   "id": "8229e103",
   "metadata": {},
   "outputs": [],
   "source": [
    "f = open('C:\\\\Users\\\\pprasan1\\\\Desktop\\\\Python\\\\Notes\\\\sample.txt', 'r')\n",
    "\n",
    "print(f.name)\n",
    "print(f.mode)\n",
    "\n",
    "f.close()"
   ]
  },
  {
   "cell_type": "code",
   "execution_count": null,
   "id": "3e01f316",
   "metadata": {},
   "outputs": [],
   "source": [
    "with open ('C:\\\\Users\\\\pprasan1\\\\Desktop\\\\Python\\\\Notes\\\\sample.txt', 'r') as f:\n",
    "    pass\n",
    "print(f.mode)\n",
    "print(f.closed)\n"
   ]
  },
  {
   "cell_type": "code",
   "execution_count": null,
   "id": "b3cd5228",
   "metadata": {},
   "outputs": [],
   "source": [
    "with open ('C:\\\\Users\\\\pprasan1\\\\Desktop\\\\Python\\\\Notes\\\\sample.txt', 'r') as f:\n",
    "    f_contents = f.read()\n",
    "    print(f_contents)"
   ]
  },
  {
   "cell_type": "code",
   "execution_count": null,
   "id": "6d20c435",
   "metadata": {},
   "outputs": [],
   "source": [
    "with open ('C:\\\\Users\\\\pprasan1\\\\Desktop\\\\Python\\\\Notes\\\\sample.txt', 'r') as f:\n",
    "    f_contents = f.readlines()\n",
    "    print(f_contents)"
   ]
  },
  {
   "cell_type": "code",
   "execution_count": null,
   "id": "d1be5ca7",
   "metadata": {},
   "outputs": [],
   "source": [
    "with open ('C:\\\\Users\\\\pprasan1\\\\Desktop\\\\Python\\\\Notes\\\\sample.txt', 'r') as f:\n",
    "    f_contents = f.readline()\n",
    "    print(f_contents)\n",
    "    f_contents = f.readline()\n",
    "    print(f_contents)"
   ]
  },
  {
   "cell_type": "code",
   "execution_count": null,
   "id": "d87bf2a4",
   "metadata": {},
   "outputs": [],
   "source": [
    "with open ('C:\\\\Users\\\\pprasan1\\\\Desktop\\\\Python\\\\Notes\\\\sample.txt', 'r') as f:\n",
    "    size_to_read=10\n",
    "    f_contents=f.read(size_to_read)\n",
    "    \n",
    "    while len(f_contents) > 0:\n",
    "        print(f_contents, end='*')\n",
    "        f_contents=f.read(size_to_read)"
   ]
  },
  {
   "cell_type": "code",
   "execution_count": null,
   "id": "a5168a94",
   "metadata": {},
   "outputs": [],
   "source": [
    "with open ('C:\\\\Users\\\\pprasan1\\\\Desktop\\\\Python\\\\Notes\\\\sample.txt', 'r') as f:\n",
    "    size_to_read=10\n",
    "    f_contents=f.read(size_to_read)\n",
    "    \n",
    "    print(f.tell())"
   ]
  },
  {
   "cell_type": "code",
   "execution_count": null,
   "id": "f7f701eb",
   "metadata": {},
   "outputs": [],
   "source": [
    "with open ('C:\\\\Users\\\\pprasan1\\\\Desktop\\\\Python\\\\Notes\\\\sample1.txt', 'w') as f:\n",
    "    f.write('hello')\n",
    "    f.seek(0)\n",
    "    f.write('welcome')\n",
    "    "
   ]
  },
  {
   "cell_type": "markdown",
   "id": "d6d57a6a",
   "metadata": {},
   "source": [
    "# Parsing and Renaming\n",
    "    "
   ]
  },
  {
   "cell_type": "code",
   "execution_count": null,
   "id": "3a0647bd",
   "metadata": {},
   "outputs": [],
   "source": [
    "import os\n",
    "os.chdir('C:\\\\Users\\\\pprasan1\\\\Desktop\\\\Python\\\\Notes')\n",
    "print(os.getcwd())"
   ]
  },
  {
   "cell_type": "code",
   "execution_count": null,
   "id": "d1be48d1",
   "metadata": {},
   "outputs": [],
   "source": [
    "import os\n",
    "os.chdir('C:\\\\Users\\\\pprasan1\\\\Desktop\\\\Python\\\\Notes')\n",
    "\n",
    "for f in os.listdir():\n",
    "    print(f)"
   ]
  },
  {
   "cell_type": "code",
   "execution_count": null,
   "id": "9aeaf5ff",
   "metadata": {},
   "outputs": [],
   "source": [
    "import os\n",
    "os.chdir('C:\\\\Users\\\\pprasan1\\\\Desktop\\\\Python\\\\Notes')\n",
    "\n",
    "for f in os.listdir():\n",
    "    print(os.path.splitext(f))\n",
    "    "
   ]
  },
  {
   "cell_type": "code",
   "execution_count": null,
   "id": "4054f8df",
   "metadata": {},
   "outputs": [],
   "source": [
    "os.chdir('C:\\\\Users\\\\pprasan1\\\\Desktop\\\\Python\\\\New folder')\n",
    "for f in os.listdir():\n",
    "    f_name,f_ext = os.path.splitext(f)\n",
    "    #print(f_name.split('-'))\n",
    "    f_title,f_course,f_version,f_div, f_num = f_name.split('_')\n",
    "    f_title = f_title.strip()[1:].zfill(1)\n",
    "    f_course = f_course.strip()\n",
    "    f_version=f_version.strip()\n",
    "    f_div=f_div.strip()\n",
    "    f_num = f_num.strip()\n",
    "    \n",
    "    print('{}-{}-{}{}'.format(f_num, f_course, f_title, f_div, f_ext))"
   ]
  },
  {
   "cell_type": "markdown",
   "id": "13575924",
   "metadata": {},
   "source": [
    "# Random module"
   ]
  },
  {
   "cell_type": "code",
   "execution_count": null,
   "id": "17e3b1c8",
   "metadata": {},
   "outputs": [],
   "source": [
    "#randint()\n",
    "import random\n",
    "print(random.randint(1,9))"
   ]
  },
  {
   "cell_type": "code",
   "execution_count": null,
   "id": "83822290",
   "metadata": {},
   "outputs": [],
   "source": [
    "import random\n",
    "greeting = ['hello','hi','welcome','howdy']\n",
    "l = ['apple','jackfruit','life']\n",
    "print(random.choice(greeting))\n",
    "print(random.choice(l))"
   ]
  },
  {
   "cell_type": "code",
   "execution_count": null,
   "id": "1b42aaa4",
   "metadata": {},
   "outputs": [],
   "source": [
    "import random\n",
    "\n",
    "#s = ['cut', 'tree', 'house']\n",
    "p = list(range(1, 53))\n",
    "#random.shuffle(s)\n",
    "random.shuffle(p)\n",
    "#print(s)\n",
    "#print(deck)\n",
    "print(p)"
   ]
  },
  {
   "cell_type": "code",
   "execution_count": null,
   "id": "9c77cf3d",
   "metadata": {},
   "outputs": [],
   "source": [
    "m = ['sis', 'bro', 'mom', 'dad']\n",
    "print(random.sample(m,k=2))"
   ]
  },
  {
   "cell_type": "code",
   "execution_count": null,
   "id": "b3841234",
   "metadata": {},
   "outputs": [],
   "source": [
    "random.random()\n"
   ]
  },
  {
   "cell_type": "code",
   "execution_count": null,
   "id": "e342bf27",
   "metadata": {},
   "outputs": [],
   "source": [
    "import random\n",
    "v= random.uniform(1, 10)\n",
    "print(v)"
   ]
  },
  {
   "cell_type": "code",
   "execution_count": null,
   "id": "ed5155b4",
   "metadata": {},
   "outputs": [],
   "source": [
    "p = list(range(1, 53))\n",
    "print(p)"
   ]
  },
  {
   "cell_type": "markdown",
   "id": "01b4c7f4",
   "metadata": {},
   "source": [
    "# CSV"
   ]
  },
  {
   "cell_type": "code",
   "execution_count": null,
   "id": "5eaae69a",
   "metadata": {},
   "outputs": [],
   "source": [
    "import csv\n",
    "\n",
    "with open('CSV.csv', 'r') as csv_file:\n",
    "    csv_reader = csv.reader(csv_file)\n",
    "    \n",
    "    print(csv_reader)"
   ]
  },
  {
   "cell_type": "code",
   "execution_count": null,
   "id": "beac3b40",
   "metadata": {},
   "outputs": [],
   "source": [
    "with open('CSV.csv', 'r') as csv_file:\n",
    "    csv_reader = csv.reader(csv_file)\n",
    "    \n",
    "    for line in csv_reader:\n",
    "        \n",
    "        print(line[2])"
   ]
  },
  {
   "cell_type": "code",
   "execution_count": null,
   "id": "0644f64b",
   "metadata": {},
   "outputs": [],
   "source": [
    "with open('CSV.csv', 'r') as csv_file:\n",
    "    csv_reader = csv.reader(csv_file)\n",
    "    \n",
    "    next(csv_reader)\n",
    "    for line in csv_reader:\n",
    "        \n",
    "        print(line[2])"
   ]
  },
  {
   "cell_type": "code",
   "execution_count": null,
   "id": "def3d6d6",
   "metadata": {},
   "outputs": [],
   "source": [
    "with open('CSV.csv', 'r') as csv_file:\n",
    "    csv_reader = csv.reader(csv_file)\n",
    "    \n",
    "    with open('newCSV.csv', 'w') as new_file:\n",
    "        csv_writer = csv.writer (new_file, delimiter ='-')\n",
    "    \n",
    "        for line in csv_reader:\n",
    "            csv_writer.writerow(line)"
   ]
  },
  {
   "cell_type": "code",
   "execution_count": null,
   "id": "0657048d",
   "metadata": {},
   "outputs": [],
   "source": [
    "with open('CSV.csv', 'r') as csv_file:\n",
    "    csv_reader = csv.DictReader(csv_file)\n",
    "    \n",
    "    for line in csv_reader:\n",
    "        \n",
    "        print(line)"
   ]
  },
  {
   "cell_type": "code",
   "execution_count": null,
   "id": "43ae2949",
   "metadata": {},
   "outputs": [],
   "source": [
    "import csv \n",
    "with open('CSV.csv', 'r') as csv_file:\n",
    "    csv_reader = csv.DictReader(csv_file)\n",
    "    \n",
    "    with open('code.csv', 'w') as new_file:\n",
    "        field= ['Username','IdentifierFirstname','Lastname','Username','Identifier','firstname','Last name']\n",
    "                \n",
    "        csv_writer = csv.DictWriter(new_file, field=field, delimiter ='\\t')\n",
    "        \n",
    "        csv_writer.writeheader()\n",
    "        \n",
    "        for line in csv_reader:\n",
    "            csv_writer.writerow(line)"
   ]
  },
  {
   "cell_type": "code",
   "execution_count": null,
   "id": "15bec407",
   "metadata": {},
   "outputs": [],
   "source": [
    "import pandas as pd\n",
    "\n",
    "pd.read_csv('C:\\\\Users\\\\pprasan1\\\\Desktop\\\\Python\\\\Notes\\\\code.csv')"
   ]
  },
  {
   "cell_type": "code",
   "execution_count": null,
   "id": "c5d4c0bb",
   "metadata": {},
   "outputs": [],
   "source": [
    "pd.read_csv('code.csv', usecols =['network_id'])"
   ]
  },
  {
   "cell_type": "code",
   "execution_count": null,
   "id": "c81b4701",
   "metadata": {},
   "outputs": [],
   "source": [
    "network_id = pd.read_csv('code.csv', usecols =['network_id'], squeeze= True)"
   ]
  },
  {
   "cell_type": "code",
   "execution_count": null,
   "id": "9fde752d",
   "metadata": {},
   "outputs": [],
   "source": [
    "network_id"
   ]
  },
  {
   "cell_type": "code",
   "execution_count": null,
   "id": "26a06d49",
   "metadata": {},
   "outputs": [],
   "source": [
    "import pandas as pd\n",
    "\n",
    "data = pd.read_csv('Weather.csv')\n"
   ]
  },
  {
   "cell_type": "code",
   "execution_count": null,
   "id": "6c7104ed",
   "metadata": {},
   "outputs": [],
   "source": [
    "data"
   ]
  },
  {
   "cell_type": "markdown",
   "id": "8245d444",
   "metadata": {},
   "source": [
    "# Error Handling"
   ]
  },
  {
   "cell_type": "code",
   "execution_count": null,
   "id": "fd0cf2fb",
   "metadata": {},
   "outputs": [],
   "source": [
    "try:\n",
    "    print(s)\n",
    "\n",
    "except:\n",
    "    print('except')"
   ]
  },
  {
   "cell_type": "code",
   "execution_count": null,
   "id": "db8e9dd1",
   "metadata": {},
   "outputs": [],
   "source": [
    "try:\n",
    "    print(s)\n",
    "except Exception as e:\n",
    "    print(e)"
   ]
  },
  {
   "cell_type": "code",
   "execution_count": null,
   "id": "9bb2e48e",
   "metadata": {},
   "outputs": [],
   "source": [
    "try:\n",
    "    print(s)\n",
    "except Exception as e:\n",
    "    print(e)\n",
    "finally:\n",
    "    print('this is final')"
   ]
  },
  {
   "cell_type": "code",
   "execution_count": null,
   "id": "e0d07c17",
   "metadata": {},
   "outputs": [],
   "source": [
    "s='prasanthi'\n",
    "k=1\n",
    "try:\n",
    "    print(s + k)\n",
    "except Exception as e:\n",
    "    print(e)\n",
    "finally:\n",
    "    print('this is final')"
   ]
  },
  {
   "cell_type": "code",
   "execution_count": null,
   "id": "0f10200e",
   "metadata": {},
   "outputs": [],
   "source": [
    "x=-1\n",
    "if x<0:\n",
    "    raise Exception(\"this is raise\")"
   ]
  },
  {
   "cell_type": "code",
   "execution_count": null,
   "id": "d0b9a1fb",
   "metadata": {},
   "outputs": [],
   "source": [
    "#zero division error\n",
    "s=0\n",
    "try:\n",
    "    print(1/s)\n",
    "except Exception as e:\n",
    "    print(e)"
   ]
  },
  {
   "cell_type": "code",
   "execution_count": null,
   "id": "1b4e3a1e",
   "metadata": {},
   "outputs": [],
   "source": [
    "try:\n",
    "    num1 = 7\n",
    "    num2 = 0 \n",
    "    print('hello')\n",
    "    print(num1/num2)\n",
    "except:\n",
    "    print('zero division error')"
   ]
  },
  {
   "cell_type": "code",
   "execution_count": null,
   "id": "d577ac9f",
   "metadata": {},
   "outputs": [],
   "source": [
    "#multiple exception error\n",
    "\n",
    "try:\n",
    "    variable=10\n",
    "    print(variable + 'hello')\n",
    "    print(variable/2)\n",
    "except ZeroDivisionError:\n",
    "    print('Division by zero')\n",
    "except (ValueError, TypeError):\n",
    "    print('Error occurred ')"
   ]
  },
  {
   "cell_type": "code",
   "execution_count": null,
   "id": "2e343ccf",
   "metadata": {},
   "outputs": [],
   "source": [
    "#which type error\n",
    "try:\n",
    "    a='spam'\n",
    "    print( a / 0)\n",
    "except:\n",
    "    print('An error occurred')"
   ]
  },
  {
   "cell_type": "code",
   "execution_count": null,
   "id": "c1d4622f",
   "metadata": {},
   "outputs": [],
   "source": [
    "try:\n",
    "    f = open('test_file.txt')\n",
    "    var = bad_var\n",
    "except FileNotFoundError:\n",
    "    print('sorry. this file does not exist')\n",
    "except Exception:\n",
    "    print('sorry. something went wrong')\n",
    "\n",
    "finally:\n",
    "    print('Executing finally...')"
   ]
  },
  {
   "cell_type": "markdown",
   "id": "adace0fb",
   "metadata": {},
   "source": [
    "# F-String"
   ]
  },
  {
   "cell_type": "code",
   "execution_count": null,
   "id": "57db2471",
   "metadata": {},
   "outputs": [],
   "source": [
    "#.format\n",
    "first_name = 'prasanthi'\n",
    "last_name = 'C'\n",
    "sentence = 'My name is {} {}'.format(first_name, last_name)\n",
    "print(sentence)"
   ]
  },
  {
   "cell_type": "code",
   "execution_count": null,
   "id": "bef04a58",
   "metadata": {},
   "outputs": [],
   "source": [
    "#f-string\n",
    "sentence=f'My name is {first_name.upper()} {last_name.upper()}'\n",
    "print(sentence)\n"
   ]
  },
  {
   "cell_type": "code",
   "execution_count": null,
   "id": "698d0a84",
   "metadata": {},
   "outputs": [],
   "source": [
    "#dictionary values using f-string\n",
    "\n",
    "person = {'name': 'prasanthi', 'age':23}\n",
    "\n",
    "# sentence = 'My name is {} and I am {} years old'.format(person ['name'], person ['age'])\n",
    "# print(sentence)\n",
    "\n",
    "#using f-string\n",
    "sentence = f\"My name is {person['name']} and I am {person['age']} years old\"\n",
    "print(sentence)"
   ]
  },
  {
   "cell_type": "code",
   "execution_count": null,
   "id": "9afea899",
   "metadata": {},
   "outputs": [],
   "source": [
    "calculate = f'4 times 11 is equal to {4 * 11}'\n",
    "print(calculate)"
   ]
  },
  {
   "cell_type": "code",
   "execution_count": null,
   "id": "4065503b",
   "metadata": {},
   "outputs": [],
   "source": [
    "from datetime import datetime\n",
    "birthday = datetime(1990, 1, 1)\n",
    "sentence = f'Jenn has a birthday on {birthday}'\n",
    "print (sentence)"
   ]
  },
  {
   "cell_type": "markdown",
   "id": "9c56e8f6",
   "metadata": {},
   "source": [
    "# Generators"
   ]
  },
  {
   "cell_type": "code",
   "execution_count": null,
   "id": "4c2aac90",
   "metadata": {},
   "outputs": [],
   "source": [
    "def table(num):\n",
    "    \n",
    "    for i in range (1,11):\n",
    "        print(f'{num}X{i}={num*i}')\n",
    "\n",
    "table(6)"
   ]
  },
  {
   "cell_type": "code",
   "execution_count": null,
   "id": "6f7460a2",
   "metadata": {},
   "outputs": [],
   "source": [
    "def table(num):\n",
    "    \n",
    "    for i in range (1,11):\n",
    "        return(f'{num}X{i}={num*i}')\n",
    "\n",
    "table(5)"
   ]
  },
  {
   "cell_type": "code",
   "execution_count": null,
   "id": "6c63bdf7",
   "metadata": {},
   "outputs": [],
   "source": [
    "def table(num):\n",
    "    \n",
    "    for i in range (1,11):\n",
    "        yield f'{num}X{i}={num*i}'\n",
    "\n",
    "output=table(5)\n",
    "for value in output:\n",
    "    print(value)"
   ]
  },
  {
   "cell_type": "code",
   "execution_count": null,
   "id": "630633c0",
   "metadata": {},
   "outputs": [],
   "source": [
    "def cube():\n",
    "    n=1\n",
    "    while n<=10:\n",
    "        result = n**3\n",
    "        n+=1\n",
    "        return(result)\n",
    "x = cube()\n",
    "print(x)\n"
   ]
  },
  {
   "cell_type": "code",
   "execution_count": null,
   "id": "857ee90f",
   "metadata": {},
   "outputs": [],
   "source": [
    "def p():\n",
    "    yield 1            \n",
    "    yield 2            \n",
    "    yield 3\n",
    "    \n",
    "for value in p(): \n",
    "    print(value)"
   ]
  },
  {
   "cell_type": "markdown",
   "id": "a3cf3b12",
   "metadata": {},
   "source": [
    "   # Decorators"
   ]
  },
  {
   "cell_type": "code",
   "execution_count": null,
   "id": "789bed11",
   "metadata": {},
   "outputs": [],
   "source": [
    "def outer_function():\n",
    "    message = 'Hi'\n",
    "    \n",
    "    def inner_function():\n",
    "        print(message)\n",
    "    return inner_function()\n",
    "\n",
    "outer_function()\n"
   ]
  },
  {
   "cell_type": "code",
   "execution_count": null,
   "id": "ffc4b251",
   "metadata": {},
   "outputs": [],
   "source": [
    "def outerfunction():\n",
    "    message = 'Hi'\n",
    "    \n",
    "    def innerfunction():\n",
    "        print(message)\n",
    "    return innerfunction()\n",
    "myabc= outer_function()\n",
    "# print(myabc)"
   ]
  },
  {
   "cell_type": "code",
   "execution_count": null,
   "id": "10937a52",
   "metadata": {},
   "outputs": [],
   "source": [
    "myabc=outerfunction()\n"
   ]
  },
  {
   "cell_type": "code",
   "execution_count": null,
   "id": "11f32d01",
   "metadata": {},
   "outputs": [],
   "source": [
    "myabc()"
   ]
  },
  {
   "cell_type": "code",
   "execution_count": null,
   "id": "2fa74171",
   "metadata": {},
   "outputs": [],
   "source": [
    "def outer_function(msg):\n",
    "    message = msg\n",
    "    \n",
    "    def inner_function():\n",
    "        print(message)\n",
    "    return inner_function\n",
    "\n",
    "hi_func = outer_function('hi')\n",
    "bye_func = outer_function('bye')\n",
    "\n",
    "hi_func()\n",
    "bye_func()"
   ]
  },
  {
   "cell_type": "code",
   "execution_count": null,
   "id": "6f36a5a8",
   "metadata": {},
   "outputs": [],
   "source": [
    "def decorator_function(message):\n",
    "    def wrapper_function():\n",
    "        print(message)\n",
    "    return wrapper_function\n",
    "\n",
    "hi_fun = outer_function('Hi')\n",
    "bye_fun = outer_function('bye')\n",
    "\n",
    "hi_fun()\n",
    "bye_fun()"
   ]
  },
  {
   "cell_type": "code",
   "execution_count": null,
   "id": "ba05b982",
   "metadata": {},
   "outputs": [],
   "source": [
    "def decorator_function(original_function):\n",
    "    def wrapper_function():\n",
    "        return original_function()\n",
    "    return wrapper_function\n",
    "\n",
    "def display():\n",
    "    print('display function ran')\n",
    "    \n",
    "decorated_display = decorator_function(display)\n",
    "\n",
    "decorated_display()\n"
   ]
  },
  {
   "cell_type": "code",
   "execution_count": null,
   "id": "f59e01bf",
   "metadata": {},
   "outputs": [],
   "source": [
    "def decorator_function(original_function):\n",
    "    def wrapper_function(*args, **kwargs):\n",
    "        print('Excuted Before', original_function.__name__)\n",
    "        result = original_function(*args, **kwargs)\n",
    "        print('Executed After', original_function.__name__, '\\n')\n",
    "        return result\n",
    "    return wrapper_function\n",
    "    \n",
    "@decorator_function\n",
    "def display_info(name, age):\n",
    "    print('display_info ran with arguments({}, {})'.format(name, age))\n",
    "    \n",
    "\n",
    "display_info('John', 25)\n",
    "display_info('Travis', 30)    "
   ]
  },
  {
   "cell_type": "code",
   "execution_count": null,
   "id": "bc003e0a",
   "metadata": {},
   "outputs": [],
   "source": [
    "def prefix_decorator(prefix):\n",
    "    def decorator_function(original_function):\n",
    "        def wrapper_function(*args, **kwargs):\n",
    "            print('Excuted Before', original_function.__name__)\n",
    "            result = original_function(*args, **kwargs)\n",
    "            print('Executed After', original_function.__name__, '\\n')\n",
    "            return result\n",
    "        return wrapper_function\n",
    "    return decorator_function\n",
    "\n",
    "@prefix_decorator('LOG:')\n",
    "def display_info(name, age):\n",
    "    print('display_info ran with arguments({}, {})'.format(name, age))\n",
    "    \n",
    "\n",
    "display_info('John', 25)\n",
    "display_info('Travis', 30)    "
   ]
  },
  {
   "cell_type": "code",
   "execution_count": null,
   "id": "62c9b605",
   "metadata": {},
   "outputs": [],
   "source": [
    "print(__name__)"
   ]
  },
  {
   "cell_type": "code",
   "execution_count": null,
   "id": "4873125d",
   "metadata": {},
   "outputs": [],
   "source": [
    "print (\"First Module's Name: {}\". format(__name__))"
   ]
  },
  {
   "cell_type": "code",
   "execution_count": null,
   "id": "ba5917bd",
   "metadata": {},
   "outputs": [],
   "source": [
    "def main():\n",
    "    print (\"First Module's Name: {}\". format(__name__))\n",
    "\n",
    "if __name__ == '__main__':\n",
    "    main()"
   ]
  },
  {
   "cell_type": "markdown",
   "id": "5787fe50",
   "metadata": {},
   "source": [
    "# SQLite"
   ]
  },
  {
   "cell_type": "code",
   "execution_count": null,
   "id": "83c7f3df",
   "metadata": {},
   "outputs": [],
   "source": [
    "import sqlite3\n",
    "from employee import Employee\n",
    "\n",
    "conn = sqlite3.connect('employee.db')\n",
    "c = conn.cursor()\n",
    "\n",
    "# c.execute(\"\"\"CREATE TABLE employees (\n",
    "#            first text,\n",
    "#            last text,\n",
    "#            pay integer\n",
    "#            )\"\"\")\n",
    "\n",
    "emp_1 = Employee('John', \"Doe\", 80000)\n",
    "emp_2 = Employee('Jane', 'Doe', 90000)\n",
    "\n",
    "print(emp_1.first)\n",
    "print(emp_1.last)\n",
    "print(emp_1.pay)\n",
    "\n",
    "c.execute(\"INSERT INTO employees VALUES ('Prasanthi','Chi', 50000)\")\n",
    "\n",
    "conn.commit()\n",
    "\n",
    "c.execute(\"SELECT * FROM employees WHERE last= 'Chi'\")\n",
    "\n",
    "print(c.fetchall())\n",
    "\n",
    "conn.commit()\n",
    "\n",
    "conn.close"
   ]
  },
  {
   "cell_type": "code",
   "execution_count": null,
   "id": "dcb4bdd7",
   "metadata": {},
   "outputs": [],
   "source": [
    "import sqlite3\n",
    "from employee import Employee\n",
    "\n",
    "conn = sqlite3.connect('employee.db')\n",
    "c = conn.cursor()\n",
    "\n",
    "c.execute(\"\"\"CREATE TABLE employees (\n",
    "           first text,\n",
    "           last text,\n",
    "           pay integer\n",
    "           )\"\"\")\n",
    "\n",
    "emp_1 = Employee('John', \"Doe\", 80000)\n",
    "emp_2 = Employee('Jane', 'Doe', 90000)\n",
    "\n",
    "\n",
    "c.execute(\"INSERT INTO employees VALUES (?, ?, ?)\", (emp_1.first, emp_1.last,emp_1.pay))\n",
    "\n",
    "conn.commit()\n",
    "\n",
    "c.execute(\"INSERT INTO employees VALUES (:first, :last, :pay)\", {'first': emp_2.first, 'last': emp_2.last, 'pay': emp_2.pay})\n",
    "\n",
    "conn.commit()\n",
    "\n",
    "c.execute(\"SELECT * FROM employees WHERE last= 'Chi'\")\n",
    "\n",
    "print(c.fetchall())\n",
    "\n",
    "conn.commit()\n",
    "\n",
    "conn.close"
   ]
  },
  {
   "cell_type": "code",
   "execution_count": null,
   "id": "55af724e",
   "metadata": {},
   "outputs": [],
   "source": [
    "import sqlite3\n",
    "from employee import Employee\n",
    "\n",
    "conn = sqlite3.connect('employee.db')\n",
    "\n",
    "c = conn.cursor()\n",
    "\n",
    "# c.execute(\"\"\"CREATE TABLE employees (\n",
    "#            first text,\n",
    "#            last text,\n",
    "#            pay integer\n",
    "#            )\"\"\")\n",
    "\n",
    "emp_1 = Employee('John', \"Doe\", 80000)\n",
    "emp_2 = Employee('Jane', 'Doe', 90000)\n",
    "\n",
    "\n",
    "c.execute(\"SELECT * FROM employees WHERE last=?\",('chi' ,))\n",
    "\n",
    "print(c.fetchall())\n",
    "\n",
    "c.execute(\"SELECT * FROM employees WHERE last=:last\", {'last': 'Doe'})\n",
    "\n",
    "print(c.fetchall())\n",
    "\n",
    "conn.commit()\n",
    "\n",
    "conn.close()"
   ]
  },
  {
   "cell_type": "markdown",
   "id": "e3cb03c6",
   "metadata": {},
   "source": [
    "# re module"
   ]
  },
  {
   "cell_type": "code",
   "execution_count": null,
   "id": "154fb311",
   "metadata": {},
   "outputs": [],
   "source": [
    "print(r'\\tTab')"
   ]
  },
  {
   "cell_type": "code",
   "execution_count": null,
   "id": "e04e45cd",
   "metadata": {},
   "outputs": [],
   "source": [
    "import re\n",
    "txt = \"The rain in spain\"\n",
    "x = re.search('^The.*spain', txt)\n",
    "if x:\n",
    "    print(\"YES! We found it\")\n",
    "else:\n",
    "    print('Oops, no text')"
   ]
  },
  {
   "cell_type": "code",
   "execution_count": null,
   "id": "3ba9c15b",
   "metadata": {},
   "outputs": [],
   "source": [
    "import re\n",
    "txt = \"The rain in Spain\"\n",
    "x = re.search('^The.*spain$', txt)\n",
    "if x:\n",
    "    print(\"YES! We found it\")\n",
    "else:\n",
    "    print('Oops, no text')"
   ]
  },
  {
   "cell_type": "code",
   "execution_count": null,
   "id": "d82234fe",
   "metadata": {},
   "outputs": [],
   "source": [
    "#Metacharacters\n",
    "import re\n",
    "txt = \"The rain in Spain\"\n",
    "#Find all lower case characters alphabetically between 'a' and 'm'\n",
    "x=re.findall('[a-m]', txt)\n",
    "print(x)"
   ]
  },
  {
   "cell_type": "code",
   "execution_count": null,
   "id": "7dcfda32",
   "metadata": {},
   "outputs": [],
   "source": [
    "import re\n",
    "txt = \"2004-959-559 # This is Phone Number\"\n",
    "#line = \"Cats are smarter than dogs\"\n",
    "#escape special characters\n",
    "x=re.findall('\\d', txt)\n",
    "#x=re.findall('\\d', line)\n",
    "print(x)"
   ]
  },
  {
   "cell_type": "code",
   "execution_count": null,
   "id": "2c53826b",
   "metadata": {},
   "outputs": [],
   "source": [
    "#Any character (except newline character) \"he..o\"\n",
    "\n",
    "import re\n",
    "\n",
    "txt = \"hello planet Cats are smarter than dogs\"\n",
    "\n",
    "#Search for a sequence that starts with \"he\", followed by two (any) characters, and an \"o\":\n",
    "\n",
    "x = re.findall(\"he..o\", txt)\n",
    "y = re.findall(\"sm...er\", txt)\n",
    "print(x , y)"
   ]
  },
  {
   "cell_type": "code",
   "execution_count": null,
   "id": "d71a75de",
   "metadata": {},
   "outputs": [],
   "source": [
    "import re\n",
    "text_to_search = '''\n",
    "\n",
    "abcdefghijklmnopqrstuvwxyz\n",
    "ABCDEFGHIJKLMNOPQRSTUVWXYZ\n",
    "1234567890\n",
    "\n",
    "Ha HaHa\n",
    "\n",
    "MetaCharacters (Need to be escaped):\n",
    ". ^ $ * + ? {} [] \\ | ()\n",
    "\n",
    "coreyms.com\n",
    "\n",
    "321-555-4321\n",
    "123.555.1234\n",
    "999*333*5554\n",
    "\n",
    "Mr. Schafer\n",
    "Mr Smith\n",
    "Ms Davis\n",
    "Mrs. Robinson\n",
    "Mr. \n",
    "\n",
    "cat\n",
    "mat\n",
    "pat\n",
    "bat\n",
    "\n",
    "'''\n",
    "sentence = 'Start a sentence and then bring it to an end'\n",
    "\n",
    "# print(r'\\tTab')\n",
    "\n",
    "pattern = re.compile(r'abc')\n",
    "\n",
    "matches = pattern.finditer(text_to_search)\n",
    "                      \n",
    "for match in matches:\n",
    "    print (match)\n"
   ]
  },
  {
   "cell_type": "code",
   "execution_count": null,
   "id": "b76f49a3",
   "metadata": {
    "scrolled": true
   },
   "outputs": [],
   "source": [
    "pattern = re.compile(r'.')\n",
    "\n",
    "matches = pattern.finditer(text_to_search)\n",
    "\n",
    "for match in matches:\n",
    "    print (match)\n"
   ]
  },
  {
   "cell_type": "code",
   "execution_count": null,
   "id": "537cf0e4",
   "metadata": {},
   "outputs": [],
   "source": [
    "# . - Any character Except new line\n",
    "# \\d - Digit(0-9)\n",
    "# \\D - Not a Digit (0-9)\n",
    "# \\w - Word Character (a-z, A-Z, 0-9, _)\n",
    "# \\W - Not a Word Character\n",
    "# \\s - Whitespace(space,tab,newline)\n",
    "# \\S - Not Whitespace(spcae, tab, newline)\n",
    "pattern = re.compile(r'\\w')\n",
    "\n",
    "matches = pattern.finditer(text_to_search)\n",
    "\n",
    "for match in matches:\n",
    "    print (match)\n"
   ]
  },
  {
   "cell_type": "code",
   "execution_count": null,
   "id": "1bbf518e",
   "metadata": {},
   "outputs": [],
   "source": [
    "pattern = re.compile(r'\\bHa')\n",
    "\n",
    "matches = pattern.finditer(text_to_search)\n",
    "\n",
    "for match in matches:\n",
    "    print (match)"
   ]
  },
  {
   "cell_type": "code",
   "execution_count": null,
   "id": "3c47c8ce",
   "metadata": {},
   "outputs": [],
   "source": [
    "pattern = re.compile(r'^')\n",
    "\n",
    "matches = pattern.finditer(sentence)\n",
    "\n",
    "for match in matches:\n",
    "    print (match)"
   ]
  },
  {
   "cell_type": "code",
   "execution_count": null,
   "id": "50d20e23",
   "metadata": {},
   "outputs": [],
   "source": [
    "pattern = re.compile(r'^Start')\n",
    "\n",
    "matches = pattern.finditer(sentence)\n",
    "\n",
    "for match in matches:\n",
    "    print (match)"
   ]
  },
  {
   "cell_type": "code",
   "execution_count": null,
   "id": "12129028",
   "metadata": {},
   "outputs": [],
   "source": [
    "pattern = re.compile(r'end$')\n",
    "\n",
    "matches = pattern.finditer(sentence)\n",
    "\n",
    "for match in matches:\n",
    "    print (match)"
   ]
  },
  {
   "cell_type": "code",
   "execution_count": null,
   "id": "b30cd953",
   "metadata": {},
   "outputs": [],
   "source": [
    "pattern = re.compile(r'\\d\\d\\d.\\d\\d\\d.\\d\\d\\d')\n",
    "\n",
    "matches = pattern.finditer(text_to_search)\n",
    "\n",
    "for match in matches:\n",
    "    print (match)"
   ]
  },
  {
   "cell_type": "code",
   "execution_count": null,
   "id": "79ed7428",
   "metadata": {},
   "outputs": [],
   "source": [
    "pattern = re.compile(r' \\d\\d\\d.\\d\\d\\d.\\d\\d\\d')\n",
    "\n",
    "matches = pattern.finditer(text_to_search)\n",
    "\n",
    "# for match in matches:\n",
    "#     print (match)\n",
    "with open('sample.txt','r') as f:\n",
    "    contents = f.read()\n",
    "    \n",
    "    matches = pattern.finditer(contents)\n",
    "    \n",
    "    for match in matches:\n",
    "         print (match)"
   ]
  },
  {
   "cell_type": "code",
   "execution_count": null,
   "id": "31a47a1a",
   "metadata": {},
   "outputs": [],
   "source": [
    "pattern = re.compile(r'\\d\\d\\d.\\d\\d\\d.\\d\\d\\d')\n",
    "\n",
    "matches = pattern.finditer(text_to_search)\n",
    "\n",
    "for match in matches:\n",
    "    print (match)\n"
   ]
  },
  {
   "cell_type": "code",
   "execution_count": null,
   "id": "3bd721ee",
   "metadata": {},
   "outputs": [],
   "source": [
    "pattern = re.compile(r'\\d\\d\\d[-.]\\d\\d\\d[-.]\\d\\d\\d')\n",
    "\n",
    "matches = pattern.finditer(text_to_search)\n",
    "\n",
    "for match in matches:\n",
    "    print (match)\n"
   ]
  },
  {
   "cell_type": "code",
   "execution_count": null,
   "id": "5405f697",
   "metadata": {},
   "outputs": [],
   "source": [
    "pattern = re.compile(r'[^a-zA-Z]')\n",
    "\n",
    "matches = pattern.finditer(text_to_search)\n",
    "\n",
    "for match in matches:\n",
    "    print (match)\n"
   ]
  },
  {
   "cell_type": "code",
   "execution_count": null,
   "id": "8531e1a2",
   "metadata": {},
   "outputs": [],
   "source": [
    "pattern = re.compile(r'[^b]at')\n",
    "\n",
    "matches = pattern.finditer(text_to_search)\n",
    "\n",
    "for match in matches:\n",
    "    print (match)\n"
   ]
  },
  {
   "cell_type": "code",
   "execution_count": null,
   "id": "e6dc13de",
   "metadata": {},
   "outputs": [],
   "source": [
    "#Quantifiers:\n",
    "# * - 0 or More\n",
    "# + - 1 or More\n",
    "# ? - 0 or one\n",
    "# {3} - Exact Number\n",
    "# {3,4} - Range of Numbers (Minimum, Maximum)\n",
    "\n",
    "pattern = re.compile(r'\\d{3}.\\d{3}.\\d{4}')\n",
    "\n",
    "matches = pattern.finditer(text_to_search)\n",
    "\n",
    "for match in matches:\n",
    "    print (match)"
   ]
  },
  {
   "cell_type": "code",
   "execution_count": null,
   "id": "a37f1e3b",
   "metadata": {},
   "outputs": [],
   "source": [
    "import re\n",
    "pattern = re.compile(r'Mr\\.?\\s[A-Z]')\n",
    "\n",
    "matches = pattern.finditer(text_to_search)\n",
    "\n",
    "for match in matches:\n",
    "    print (match)"
   ]
  },
  {
   "cell_type": "code",
   "execution_count": null,
   "id": "e1544011",
   "metadata": {
    "scrolled": true
   },
   "outputs": [],
   "source": [
    "pattern = re.compile(r'(Mr|Ms|Mrs)\\.?\\s[A-Z]\\w*')\n",
    "\n",
    "matches = pattern.finditer(text_to_search)\n",
    "\n",
    "for match in matches:\n",
    "    print (match)"
   ]
  },
  {
   "cell_type": "code",
   "execution_count": null,
   "id": "372cd568",
   "metadata": {},
   "outputs": [],
   "source": [
    "import re\n",
    "\n",
    "emails='''\n",
    "CoreyMschafer@gamil.com\n",
    "corey.schafer@university.edu\n",
    "corey-321-schafer@my-work.net'''\n",
    "\n",
    "pattern = re.compile(r'[a-zA-AZ]+@[a-zA-Z]+\\.com')\n",
    "\n",
    "matches = pattern.finditer(emails)\n",
    "\n",
    "for match in matches:\n",
    "    print (match)"
   ]
  },
  {
   "cell_type": "code",
   "execution_count": null,
   "id": "81225662",
   "metadata": {},
   "outputs": [],
   "source": [
    "import re\n",
    "urls ='''\n",
    "https://www.google.com\n",
    "https://facebook.com\n",
    "https://youtube.com\n",
    "https://www.nasa.gov\n",
    "'''\n",
    "\n",
    "pattern = re.compile(r'https?://(www\\.)?\\w+\\.\\w+')\n",
    "\n",
    "matches = pattern.finditer(urls)\n",
    "\n",
    "for match in matches:\n",
    "    print (match)"
   ]
  },
  {
   "cell_type": "code",
   "execution_count": null,
   "id": "dce37704",
   "metadata": {},
   "outputs": [],
   "source": [
    "pattern = re.compile(r'https?://(www\\.)?\\w+\\.\\w+')\n",
    "\n",
    "matches = pattern.finditer(urls)\n",
    "\n",
    "for match in matches:\n",
    "    print (match.group(1))"
   ]
  },
  {
   "cell_type": "code",
   "execution_count": null,
   "id": "24fb8107",
   "metadata": {},
   "outputs": [],
   "source": [
    "import re\n",
    "\n",
    "pattern = re.compiler(r'\\d{3}.\\d{3}.\\d{4}')\n",
    "\n",
    "matches = pattern.findall(text_to_search)\n",
    "\n",
    "for match in matches:\n",
    "    print(match)"
   ]
  },
  {
   "cell_type": "code",
   "execution_count": null,
   "id": "5409ea5e",
   "metadata": {},
   "outputs": [],
   "source": [
    "import re\n",
    "\n",
    "sentence = 'Start a sentence and then bring it to an end'\n",
    "\n",
    "pattern = re.compile(r'start', re.I)\n",
    "\n",
    "matches = pattern.search(sentence)\n",
    "print (matches)"
   ]
  },
  {
   "cell_type": "markdown",
   "id": "bb344092",
   "metadata": {},
   "source": [
    "# Basic calculator"
   ]
  },
  {
   "cell_type": "code",
   "execution_count": null,
   "id": "72994fd5",
   "metadata": {},
   "outputs": [],
   "source": [
    "num1 = input('Enter a number:')\n",
    "num2 = input('Enter another number:')\n",
    "\n",
    "result = num1 + num2\n",
    "\n",
    "print(result)"
   ]
  },
  {
   "cell_type": "code",
   "execution_count": null,
   "id": "debea133",
   "metadata": {},
   "outputs": [],
   "source": [
    "num1 = input('Enter a number:')\n",
    "num2 = input('Enter another number:')\n",
    "\n",
    "result = int(num1) + int(num2)\n",
    "\n",
    "print(result)"
   ]
  },
  {
   "cell_type": "code",
   "execution_count": null,
   "id": "355d3b96",
   "metadata": {},
   "outputs": [],
   "source": [
    "num1 = input('Enter a number:')\n",
    "num2 = input('Enter another number:')\n",
    "\n",
    "result = float(num1) + float(num2)\n",
    "\n",
    "print(result)"
   ]
  },
  {
   "cell_type": "code",
   "execution_count": null,
   "id": "6fd38a53",
   "metadata": {},
   "outputs": [],
   "source": [
    "num1 = input('Enter a number:')\n",
    "num2 = input('Enter another number:')\n",
    "\n",
    "result = int(num1) - int(num2)\n",
    "\n",
    "print(result)"
   ]
  },
  {
   "cell_type": "code",
   "execution_count": null,
   "id": "1b094332",
   "metadata": {},
   "outputs": [],
   "source": [
    "num1 = input('Enter a number:')\n",
    "num2 = input('Enter another number:')\n",
    "\n",
    "result = int(num1) * int(num2)\n",
    "\n",
    "print(result)"
   ]
  },
  {
   "cell_type": "code",
   "execution_count": null,
   "id": "489721fa",
   "metadata": {},
   "outputs": [],
   "source": [
    "num1 = input('Enter a number:')\n",
    "num2 = input('Enter another number:')\n",
    "\n",
    "result = int(num1) % int(num2)\n",
    "\n",
    "print(result)"
   ]
  },
  {
   "cell_type": "code",
   "execution_count": null,
   "id": "77ae9185",
   "metadata": {},
   "outputs": [],
   "source": [
    "num1 = input('Enter a number:')\n",
    "num2 = input('Enter another number:')\n",
    "\n",
    "result = float(num1) * float(num2)\n",
    "\n",
    "print(result)"
   ]
  },
  {
   "cell_type": "markdown",
   "id": "478cf1c3",
   "metadata": {},
   "source": [
    "# List Function"
   ]
  },
  {
   "cell_type": "code",
   "execution_count": null,
   "id": "6d820c73",
   "metadata": {},
   "outputs": [],
   "source": [
    "numbers = [4,6,7,8,9,2,3,5,34,55,77]\n",
    "names=['prasanthi', 'brother','sister','mother', 'father']\n",
    "\n",
    "names.extend(numbers)\n",
    "print(names)"
   ]
  },
  {
   "cell_type": "code",
   "execution_count": null,
   "id": "d899ac65",
   "metadata": {},
   "outputs": [],
   "source": [
    "numbers = [4,6,7,8,9,2,3,5,34,55,77]\n",
    "names=['prasanthi', 'brother','sister','mother', 'father']\n",
    "\n",
    "names.append('lucky')\n",
    "print(names)"
   ]
  },
  {
   "cell_type": "code",
   "execution_count": null,
   "id": "78abc694",
   "metadata": {},
   "outputs": [],
   "source": [
    "numbers = [4,6,7,8,9,2,3,5,34,55,77]\n",
    "names=['prasanthi', 'brother','sister','mother', 'father']\n",
    "\n",
    "names.insert(1, 'kiran')\n",
    "print(names)"
   ]
  },
  {
   "cell_type": "code",
   "execution_count": null,
   "id": "e26a4556",
   "metadata": {},
   "outputs": [],
   "source": [
    "numbers = [4,6,7,8,9,2,3,5,34,55,77]\n",
    "names=['prasanthi', 'kiran', 'brother','sister','mother', 'father']\n",
    "\n",
    "names.remove('kiran')\n",
    "print(names)"
   ]
  },
  {
   "cell_type": "code",
   "execution_count": null,
   "id": "bb6467ef",
   "metadata": {},
   "outputs": [],
   "source": [
    "numbers = [4,6,7,8,9,2,3,5,34,55,77]\n",
    "names=['prasanthi', 'brother','sister','mother', 'father']\n",
    "\n",
    "names.clear()\n",
    "print(names)"
   ]
  },
  {
   "cell_type": "code",
   "execution_count": null,
   "id": "6812bf3e",
   "metadata": {},
   "outputs": [],
   "source": [
    "numbers = [4,6,7,8,9,2,3,5,34,55,77]\n",
    "names=['prasanthi', 'kiran', 'brother','sister','mother', 'father']\n",
    "\n",
    "names.pop()\n",
    "print(names)"
   ]
  },
  {
   "cell_type": "code",
   "execution_count": null,
   "id": "a9248acf",
   "metadata": {},
   "outputs": [],
   "source": [
    "numbers = [4,6,7,8,9,2,3,5,34,55,77]\n",
    "names=['prasanthi', 'kiran', 'brother','sister','mother', 'father']\n",
    "\n",
    "print(names.index('brother'))"
   ]
  },
  {
   "cell_type": "code",
   "execution_count": null,
   "id": "72e5eb79",
   "metadata": {},
   "outputs": [],
   "source": [
    "numbers = [4,6,7,8,9,2,3,5,34,55,77]\n",
    "names=['prasanthi', 'kiran', 'brother','sister','mother', 'father']\n",
    "\n",
    "print(names.index('mother'))"
   ]
  },
  {
   "cell_type": "code",
   "execution_count": null,
   "id": "a1cccebd",
   "metadata": {},
   "outputs": [],
   "source": [
    "numbers = [4,6,7,8,9,2,3,5,34,55,77,9,9,9,9,9,5,5,5,5,]\n",
    "names=['prasanthi', 'kiran', 'brother','sister','mother', 'father','brother','sister']\n",
    "\n",
    "print(names.count('brother'))"
   ]
  },
  {
   "cell_type": "code",
   "execution_count": null,
   "id": "19805dd4",
   "metadata": {},
   "outputs": [],
   "source": [
    "numbers = [4,6,7,8,9,2,3,5,34,55,77,9,9,9,9,9,5,5,5,5,]\n",
    "names=['prasanthi', 'kiran', 'brother','sister','mother', 'father','brother','sister']\n",
    "\n",
    "print(numbers.count('9'))"
   ]
  },
  {
   "cell_type": "code",
   "execution_count": null,
   "id": "ba9fc8d5",
   "metadata": {},
   "outputs": [],
   "source": [
    "numbers = [4,6,7,8,9,2,3,5,34,55,77]\n",
    "names=['prasanthi', 'kiran', 'brother','sister','mother', 'father']\n",
    "\n",
    "names.sort()\n",
    "print(names)"
   ]
  },
  {
   "cell_type": "code",
   "execution_count": null,
   "id": "ffa428d7",
   "metadata": {},
   "outputs": [],
   "source": [
    "numbers = [4,6,7,8,9,2,3,5,34,55,77,9,9,9,9,9,5,5,5,5,]\n",
    "names=['prasanthi', 'kiran', 'brother','sister','mother', 'father']\n",
    "\n",
    "numbers.sort()\n",
    "print(numbers)"
   ]
  },
  {
   "cell_type": "code",
   "execution_count": null,
   "id": "3d36f900",
   "metadata": {},
   "outputs": [],
   "source": [
    "numbers = [4,6,7,8,9,2,3,5,34,55,77,9,9,9,9,9,5,5,5,5,]\n",
    "names=['prasanthi', 'kiran', 'brother','sister','mother', 'father']\n",
    "\n",
    "numbers.reverse()\n",
    "print(numbers)"
   ]
  },
  {
   "cell_type": "code",
   "execution_count": null,
   "id": "9863f7bf",
   "metadata": {},
   "outputs": [],
   "source": [
    "numbers = [4,6,7,8,9,2,3,5,34,55,77,9,9,9,9,9,5,5,5,5,]\n",
    "names=['prasanthi', 'kiran', 'brother','sister','mother', 'father']\n",
    "\n",
    "numbers1=numbers.copy()\n",
    "print(numbers1)"
   ]
  },
  {
   "cell_type": "code",
   "execution_count": null,
   "id": "2b7c8bbd",
   "metadata": {},
   "outputs": [],
   "source": [
    "numbers = [4,6,7,8,9,2,3,5,34,55,77,9,9,9,9,9,5,5,5,5,]\n",
    "names=['prasanthi', 'kiran', 'brother','sister','mother', 'father']\n",
    "\n",
    "names1=names.copy()\n",
    "print(names)"
   ]
  },
  {
   "cell_type": "markdown",
   "id": "e7070b07",
   "metadata": {},
   "source": [
    "# Guessing Game"
   ]
  },
  {
   "cell_type": "code",
   "execution_count": null,
   "id": "0cb3e082",
   "metadata": {},
   "outputs": [],
   "source": [
    "secret_word = \"giraffe\"\n",
    "guess=\"\"\n",
    "\n",
    "while guess != secret_word:\n",
    "    guess = input('Enter guess:')\n",
    "    \n",
    "print('You win!')"
   ]
  },
  {
   "cell_type": "code",
   "execution_count": null,
   "id": "72a9d102",
   "metadata": {},
   "outputs": [],
   "source": [
    "secret_word = \"giraffe\"\n",
    "guess=\"\"\n",
    "guess_count = 0\n",
    "guess_limit = 3\n",
    "out_of_guesses = False\n",
    "\n",
    "while guess != secret_word and not(out_of_guesses):\n",
    "    if guess_count<guess_limit:\n",
    "        guess = input('Enter guess:')\n",
    "        guess_count +=1\n",
    "    else:\n",
    "        out_of_guesses = True\n",
    "\n",
    "if out_of_guesses:\n",
    "    print('out of Guesses, YOU LOSE!')\n",
    "else:\n",
    "    print('You win!')"
   ]
  },
  {
   "cell_type": "markdown",
   "id": "9ac866f5",
   "metadata": {},
   "source": [
    "# Translator in python"
   ]
  },
  {
   "cell_type": "code",
   "execution_count": null,
   "id": "0968e4bc",
   "metadata": {},
   "outputs": [],
   "source": [
    "def translate(phrase):\n",
    "    translation=''\n",
    "    for letter in phrase:\n",
    "        if letter in 'AEIOUaeiou':\n",
    "            translation = translation + 'g'\n",
    "        else:\n",
    "            translation = translation + letter\n",
    "    return translation\n",
    "\n",
    "print(translate(input('Enter a phrase:')))"
   ]
  },
  {
   "cell_type": "code",
   "execution_count": null,
   "id": "ba8fe9a1",
   "metadata": {},
   "outputs": [],
   "source": [
    "def translate(phrase):\n",
    "    translation=''\n",
    "    for letter in phrase:\n",
    "        if letter.lower() in 'aeiou':\n",
    "            if letter.isupper():\n",
    "                translation = translation + 'G'\n",
    "            else:\n",
    "                translation = translation + 'g'\n",
    "            \n",
    "        else:\n",
    "            translation = translation + letter\n",
    "    return translation\n",
    "\n",
    "print(translate(input('Enter a phrase:')))"
   ]
  },
  {
   "cell_type": "markdown",
   "id": "dcc04abd",
   "metadata": {},
   "source": [
    "# Comments"
   ]
  },
  {
   "cell_type": "code",
   "execution_count": null,
   "id": "8ee053e5",
   "metadata": {},
   "outputs": [],
   "source": [
    "'''\n",
    "Write some thing\n",
    "It is little note \n",
    "\n",
    "'''\n",
    "\n",
    "#This prints out a string\n",
    " \n",
    "print('Comments are fun')\n"
   ]
  },
  {
   "cell_type": "code",
   "execution_count": null,
   "id": "17ed3a3e",
   "metadata": {},
   "outputs": [],
   "source": [
    "import useful_tools\n",
    "\n",
    "print(useful_tools.roll_dice(10))"
   ]
  },
  {
   "cell_type": "markdown",
   "id": "13a2f4e8",
   "metadata": {},
   "source": [
    "# Prime Number"
   ]
  },
  {
   "cell_type": "code",
   "execution_count": null,
   "id": "bcf14c03",
   "metadata": {},
   "outputs": [],
   "source": [
    "num = 7\n",
    "for i in range (2,num):\n",
    "    if num % i == 0:\n",
    "        print('Not Prime')\n",
    "        break\n",
    "else:\n",
    "    print('Prime')"
   ]
  },
  {
   "cell_type": "code",
   "execution_count": null,
   "id": "fae7ff44",
   "metadata": {},
   "outputs": [],
   "source": [
    "# Program to check if a number is prime or not\n",
    "\n",
    "num = 407\n",
    "\n",
    "# To take input from the user\n",
    "#num = int(input(\"Enter a number: \"))\n",
    "\n",
    "# prime numbers are greater than 1\n",
    "if num > 1:\n",
    "   # check for factors\n",
    "   for i in range(2,num):\n",
    "        if (num % i) == 0:\n",
    "            print(num,\"is not a prime number\")\n",
    "            print(i,\"times\",num//i,\"is\",num)\n",
    "            break\n",
    "else:\n",
    "    print(num,\"is a prime number\")\n",
    "       \n",
    "# if input number is less than\n",
    "# or equal to 1, it is not prime\n",
    "# else:\n",
    "#     print(num,\"is not a prime number\")"
   ]
  },
  {
   "cell_type": "markdown",
   "id": "2f557e01",
   "metadata": {},
   "source": [
    "# Array"
   ]
  },
  {
   "cell_type": "code",
   "execution_count": null,
   "id": "b1918de9",
   "metadata": {},
   "outputs": [],
   "source": [
    "#import array\n",
    "#import array as arr\n",
    "from array import *\n",
    "\n",
    "vals = array('i', [5,9,8,4,2])\n",
    "\n",
    "print(vals)"
   ]
  },
  {
   "cell_type": "code",
   "execution_count": null,
   "id": "a611337c",
   "metadata": {},
   "outputs": [],
   "source": [
    "vals = array('i', [5,9,8.5,4,2])\n",
    "\n",
    "print(vals)"
   ]
  },
  {
   "cell_type": "code",
   "execution_count": null,
   "id": "59ce5caa",
   "metadata": {},
   "outputs": [],
   "source": [
    "vals = array('i', [5,-9,8,4,2])\n",
    "\n",
    "print(vals)"
   ]
  },
  {
   "cell_type": "code",
   "execution_count": null,
   "id": "33b311af",
   "metadata": {},
   "outputs": [],
   "source": [
    "vals = array('I', [5,-9,8,4,2])\n",
    "\n",
    "print(vals)"
   ]
  },
  {
   "cell_type": "code",
   "execution_count": null,
   "id": "871fda56",
   "metadata": {},
   "outputs": [],
   "source": [
    "vals = array('i', [5,9,8,4,2])\n",
    "\n",
    "print(vals.buffer_info())"
   ]
  },
  {
   "cell_type": "code",
   "execution_count": null,
   "id": "e2519bab",
   "metadata": {},
   "outputs": [],
   "source": [
    "vals = array('i', [5,9,8,4,2])\n",
    "\n",
    "print(vals.typecode)"
   ]
  },
  {
   "cell_type": "code",
   "execution_count": null,
   "id": "ae99be33",
   "metadata": {},
   "outputs": [],
   "source": [
    "vals = array('i', [5,9,8,4,2])\n",
    "vals.reverse()\n",
    "print(vals)"
   ]
  },
  {
   "cell_type": "code",
   "execution_count": null,
   "id": "72a97339",
   "metadata": {},
   "outputs": [],
   "source": [
    "#print one by one \n",
    "\n",
    "vals = array('i', [5,9,8,4,2])\n",
    "\n",
    "for i in range(5):\n",
    "\n",
    "    print(vals[i])\n",
    "    "
   ]
  },
  {
   "cell_type": "code",
   "execution_count": null,
   "id": "3c47d999",
   "metadata": {},
   "outputs": [],
   "source": [
    "vals = array('i', [5,9,8,4,2])\n",
    "\n",
    "for e in vals:\n",
    "    print(e)"
   ]
  },
  {
   "cell_type": "code",
   "execution_count": null,
   "id": "13b2b3a7",
   "metadata": {},
   "outputs": [],
   "source": [
    "vals = array('u', ['a','e','i'])\n",
    "\n",
    "for e in vals:\n",
    "    print(e)"
   ]
  },
  {
   "cell_type": "code",
   "execution_count": null,
   "id": "95cdc032",
   "metadata": {},
   "outputs": [],
   "source": [
    "#new array with same values\n",
    "\n",
    "vals = array('i', [5,9,8,4,2])\n",
    "\n",
    "newArr = array(vals.typecode,(a for a in vals))\n",
    "\n",
    "for e in newArr:\n",
    "    print(e)"
   ]
  },
  {
   "cell_type": "code",
   "execution_count": null,
   "id": "c7cac611",
   "metadata": {},
   "outputs": [],
   "source": [
    "#while loop\n",
    "\n",
    "vals = array('i', [5,9,8,4,2])\n",
    "\n",
    "newArr = array(vals.typecode, (a*a for a in vals))\n",
    "\n",
    "i=0\n",
    "\n",
    "while i<len(newArr):\n",
    "    print (newArr[i])\n",
    "    i+=1\n",
    "\n"
   ]
  },
  {
   "cell_type": "code",
   "execution_count": null,
   "id": "0cb15c7c",
   "metadata": {},
   "outputs": [],
   "source": [
    "#array support negative value\n",
    "import array\n",
    "\n",
    "int_array = array.array('i', [10, 20, 30, 40, 50, 60, 70, 80])\n",
    "\n",
    "print(int_array[-2])  # 70\n",
    "\n",
    "print(int_array[-5])  # 40"
   ]
  },
  {
   "cell_type": "code",
   "execution_count": null,
   "id": "8da71367",
   "metadata": {},
   "outputs": [],
   "source": [
    "cars = [\"Ford\", \"Volvo\", \"BMW\"]\n",
    "print(cars)"
   ]
  },
  {
   "cell_type": "code",
   "execution_count": null,
   "id": "fdeace8d",
   "metadata": {},
   "outputs": [],
   "source": [
    "x=cars[0]\n",
    "print(x)"
   ]
  },
  {
   "cell_type": "code",
   "execution_count": null,
   "id": "cf58c53e",
   "metadata": {},
   "outputs": [],
   "source": [
    "#modify the value in first array \n",
    "\n",
    "cars[0] = \"Jeep\"\n",
    "print(cars)"
   ]
  },
  {
   "cell_type": "code",
   "execution_count": null,
   "id": "e796df8a",
   "metadata": {},
   "outputs": [],
   "source": [
    "x = len(cars)\n",
    "print(x)"
   ]
  },
  {
   "cell_type": "code",
   "execution_count": null,
   "id": "07fba2a3",
   "metadata": {},
   "outputs": [],
   "source": [
    "for x in cars:\n",
    "    \n",
    "    print(x)"
   ]
  },
  {
   "cell_type": "code",
   "execution_count": null,
   "id": "780afada",
   "metadata": {},
   "outputs": [],
   "source": [
    "#removing array using pop()\n",
    "\n",
    "cars.pop(1)\n",
    "\n",
    "print(cars)\n"
   ]
  },
  {
   "cell_type": "markdown",
   "id": "52cae0eb",
   "metadata": {},
   "source": [
    "# Array values from user"
   ]
  },
  {
   "cell_type": "code",
   "execution_count": 3,
   "id": "5a65d213",
   "metadata": {},
   "outputs": [
    {
     "name": "stdout",
     "output_type": "stream",
     "text": [
      "enter the length of the array5\n",
      "Enter the next value1\n",
      "Enter the next value2\n",
      "Enter the next value3\n",
      "Enter the next value4\n",
      "Enter the next value5\n",
      "array('i', [1, 2, 3, 4, 5])\n"
     ]
    }
   ],
   "source": [
    "from array import *\n",
    "\n",
    "arr =  array('i', [])\n",
    "\n",
    "n = int (input('enter the length of the array'))\n",
    "\n",
    "for i in range (n):\n",
    "    x = int(input('Enter the next value'))\n",
    "    arr.append(x)\n",
    "    \n",
    "print(arr)"
   ]
  },
  {
   "cell_type": "code",
   "execution_count": 5,
   "id": "05891c79",
   "metadata": {},
   "outputs": [
    {
     "name": "stdout",
     "output_type": "stream",
     "text": [
      "enter the length of the array4\n",
      "Enter the next value99\n",
      "Enter the next value33\n",
      "Enter the next value44\n",
      "Enter the next value55\n",
      "array('i', [99, 33, 44, 55])\n",
      "Enter the value for search55\n",
      "3\n"
     ]
    }
   ],
   "source": [
    "arr =  array('i', [])\n",
    "\n",
    "n = int (input('enter the length of the array'))\n",
    "\n",
    "for i in range (n):\n",
    "    x = int(input('Enter the next value'))\n",
    "    arr.append(x)\n",
    "    \n",
    "print(arr)\n",
    "\n",
    "val = int(input('Enter the value for search'))\n",
    "\n",
    "k = 0\n",
    "for e in arr:\n",
    "    if e==val:\n",
    "        print(k)\n",
    "        break\n",
    "    k+=1"
   ]
  },
  {
   "cell_type": "code",
   "execution_count": 7,
   "id": "e2f37f65",
   "metadata": {},
   "outputs": [
    {
     "name": "stdout",
     "output_type": "stream",
     "text": [
      "Enter number of element:5\n",
      "12\n",
      "55\n",
      "44\n",
      "33\n",
      "66\n",
      "[12, 55, 44, 33, 66]\n"
     ]
    }
   ],
   "source": [
    "lst = []\n",
    "n = int(input('Enter number of element:'))\n",
    "\n",
    "#iterating till the range\n",
    "for i in range(0, n):\n",
    "    ele = int(input())\n",
    "\n",
    "#adding the element\n",
    "    lst.append(ele)\n",
    "print(lst)"
   ]
  },
  {
   "cell_type": "code",
   "execution_count": 9,
   "id": "a3b19385",
   "metadata": {},
   "outputs": [
    {
     "name": "stdout",
     "output_type": "stream",
     "text": [
      "Enter number of elements : 3\n",
      "45\n",
      "32\n",
      "56\n",
      "7\n",
      "8\n",
      "6\n",
      "[['45', 32], ['56', 7], ['8', 6]]\n"
     ]
    }
   ],
   "source": [
    "lst = [ ]\n",
    "n = int(input(\"Enter number of elements : \"))\n",
    "  \n",
    "for i in range(0, n):\n",
    "    ele = [input(), int(input())]\n",
    "    lst.append(ele)\n",
    "      \n",
    "print(lst)"
   ]
  },
  {
   "cell_type": "code",
   "execution_count": null,
   "id": "0d50c64a",
   "metadata": {},
   "outputs": [],
   "source": []
  }
 ],
 "metadata": {
  "kernelspec": {
   "display_name": "Python 3 (ipykernel)",
   "language": "python",
   "name": "python3"
  },
  "language_info": {
   "codemirror_mode": {
    "name": "ipython",
    "version": 3
   },
   "file_extension": ".py",
   "mimetype": "text/x-python",
   "name": "python",
   "nbconvert_exporter": "python",
   "pygments_lexer": "ipython3",
   "version": "3.9.12"
  }
 },
 "nbformat": 4,
 "nbformat_minor": 5
}
