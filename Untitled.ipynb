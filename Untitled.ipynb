{
 "cells": [
  {
   "cell_type": "markdown",
   "id": "bfedc5b1",
   "metadata": {},
   "source": [
    "# String"
   ]
  },
  {
   "cell_type": "code",
   "execution_count": null,
   "id": "ec691e1d",
   "metadata": {},
   "outputs": [],
   "source": [
    "print('welcome Message')\n",
    "print('Hello World')"
   ]
  },
  {
   "cell_type": "code",
   "execution_count": null,
   "id": "0009307c",
   "metadata": {},
   "outputs": [],
   "source": [
    "message = 'hello world'\n",
    "print(message)"
   ]
  },
  {
   "cell_type": "code",
   "execution_count": null,
   "id": "ae70ea5e",
   "metadata": {},
   "outputs": [],
   "source": [
    "message = 'Bobby's world'\n",
    "print(message)"
   ]
  },
  {
   "cell_type": "code",
   "execution_count": null,
   "id": "809f1b10",
   "metadata": {},
   "outputs": [],
   "source": [
    "message = 'Bobby\\'s world'\n",
    "print (message)"
   ]
  },
  {
   "cell_type": "code",
   "execution_count": null,
   "id": "766f56ed",
   "metadata": {},
   "outputs": [],
   "source": [
    "message = \"Bobby's world\"\n",
    "print (message)"
   ]
  },
  {
   "cell_type": "code",
   "execution_count": null,
   "id": "607161e9",
   "metadata": {},
   "outputs": [],
   "source": [
    "message = 'Hello world'\n",
    "print (len(message))"
   ]
  },
  {
   "cell_type": "code",
   "execution_count": null,
   "id": "2c5a122d",
   "metadata": {},
   "outputs": [],
   "source": [
    "message = 'Hello world'\n",
    "print (message[0])"
   ]
  },
  {
   "cell_type": "code",
   "execution_count": null,
   "id": "6e374cfd",
   "metadata": {},
   "outputs": [],
   "source": [
    "message = 'Hello world'\n",
    "print (message[11])"
   ]
  },
  {
   "cell_type": "code",
   "execution_count": null,
   "id": "0b73a483",
   "metadata": {},
   "outputs": [],
   "source": [
    "message = 'Hello world'\n",
    "print (message[:5])"
   ]
  },
  {
   "cell_type": "code",
   "execution_count": null,
   "id": "221dc5d2",
   "metadata": {},
   "outputs": [],
   "source": [
    "message = 'Hello world'\n",
    "print (message[6:])"
   ]
  },
  {
   "cell_type": "markdown",
   "id": "d61778c5",
   "metadata": {},
   "source": [
    "For Lower & upper case print method"
   ]
  },
  {
   "cell_type": "code",
   "execution_count": null,
   "id": "c6e25d8c",
   "metadata": {},
   "outputs": [],
   "source": [
    "message = 'Hello world'\n",
    "print (message.lower())"
   ]
  },
  {
   "cell_type": "code",
   "execution_count": null,
   "id": "49d678d0",
   "metadata": {},
   "outputs": [],
   "source": [
    "message = 'Hello world'\n",
    "print (message.upper())"
   ]
  },
  {
   "cell_type": "markdown",
   "id": "db06770c",
   "metadata": {},
   "source": [
    "# COUNT METHOD"
   ]
  },
  {
   "cell_type": "code",
   "execution_count": null,
   "id": "3be32325",
   "metadata": {},
   "outputs": [],
   "source": [
    "message = 'Hello world'\n",
    "print (message.count('Hello'))"
   ]
  },
  {
   "cell_type": "code",
   "execution_count": null,
   "id": "4e778885",
   "metadata": {},
   "outputs": [],
   "source": [
    "message = 'Hello world'\n",
    "print (message.count('l'))"
   ]
  },
  {
   "cell_type": "markdown",
   "id": "9fb2b3df",
   "metadata": {},
   "source": [
    "Find Method"
   ]
  },
  {
   "cell_type": "code",
   "execution_count": null,
   "id": "7dce6faf",
   "metadata": {},
   "outputs": [],
   "source": [
    "message = 'Hello world'\n",
    "print (message.find('world'))"
   ]
  },
  {
   "cell_type": "markdown",
   "id": "34a224d3",
   "metadata": {},
   "source": [
    "Replace Method"
   ]
  },
  {
   "cell_type": "code",
   "execution_count": null,
   "id": "b92159e0",
   "metadata": {},
   "outputs": [],
   "source": [
    "message = 'Hello world'\n",
    "\n",
    "new_message = message.replace('world','Universe')\n",
    "\n",
    "print (new_message)"
   ]
  },
  {
   "cell_type": "code",
   "execution_count": null,
   "id": "24f7fb60",
   "metadata": {},
   "outputs": [],
   "source": [
    "message = 'Hello world'\n",
    "\n",
    "message = message.replace('world', 'Universe')\n",
    "\n",
    "print (message)\n",
    "print (new_message)"
   ]
  },
  {
   "cell_type": "code",
   "execution_count": null,
   "id": "11c57ced",
   "metadata": {},
   "outputs": [],
   "source": [
    "greeting = 'Hello'\n",
    "name = 'prasanthi'\n",
    "\n",
    "message = greeting + name\n",
    "\n",
    "print (message)"
   ]
  },
  {
   "cell_type": "code",
   "execution_count": null,
   "id": "a8edd8ab",
   "metadata": {},
   "outputs": [],
   "source": [
    "greeting = 'Hello'\n",
    "name = 'prasanthi'\n",
    "\n",
    "message = greeting +','+ name +'.Welcome!'\n",
    "\n",
    "print (message)"
   ]
  },
  {
   "cell_type": "markdown",
   "id": "3be57cb9",
   "metadata": {},
   "source": [
    "Formatted string"
   ]
  },
  {
   "cell_type": "code",
   "execution_count": null,
   "id": "c2149e87",
   "metadata": {},
   "outputs": [],
   "source": [
    "greeting = 'Hello'\n",
    "name = 'prasanthi'\n",
    "\n",
    "message = greeting +','+ name +'.Welcome!'\n",
    "\n",
    "message = '{}, {}. welcome!'. format(greeting, name)\n",
    "\n",
    "print (message)"
   ]
  },
  {
   "cell_type": "code",
   "execution_count": null,
   "id": "708d6d9c",
   "metadata": {},
   "outputs": [],
   "source": [
    "greeting = 'Hello'\n",
    "name = 'prasanthi'\n",
    "\n",
    "message = greeting +','+ name +'.Welcome!'\n",
    "\n",
    "message = f'{greeting}, {name.upper()}. welcome!'\n",
    "\n",
    "print (message)"
   ]
  },
  {
   "cell_type": "code",
   "execution_count": null,
   "id": "f28e9a5c",
   "metadata": {},
   "outputs": [],
   "source": [
    "greeting = 'Hello'\n",
    "name = 'prasanthi'\n",
    "\n",
    "print (dir(name))"
   ]
  },
  {
   "cell_type": "code",
   "execution_count": null,
   "id": "e2bd8273",
   "metadata": {},
   "outputs": [],
   "source": [
    "greeting = 'Hello'\n",
    "name = 'prasanthi'\n",
    "\n",
    "print (help(str))"
   ]
  },
  {
   "cell_type": "markdown",
   "id": "7ea61f63",
   "metadata": {},
   "source": [
    "Integers and Floats - Working with Numeric Data"
   ]
  },
  {
   "cell_type": "code",
   "execution_count": null,
   "id": "560b06db",
   "metadata": {},
   "outputs": [],
   "source": [
    "num =3\n",
    "\n",
    "print (type(num))"
   ]
  },
  {
   "cell_type": "code",
   "execution_count": null,
   "id": "fa736c33",
   "metadata": {},
   "outputs": [],
   "source": [
    "num =3.14\n",
    "\n",
    "print (type(num))"
   ]
  },
  {
   "cell_type": "markdown",
   "id": "d4e35363",
   "metadata": {},
   "source": [
    "Arthimetic Operators\n"
   ]
  },
  {
   "cell_type": "code",
   "execution_count": null,
   "id": "64b1e252",
   "metadata": {},
   "outputs": [],
   "source": [
    "# Addition: 3+2\n",
    "# Subtraction: 3-2\n",
    "# Multiplcation: 3*2\n",
    "# Division: 3/2\n",
    "# Floor Division: 3//2\n",
    "#Exponent: 3**2\n",
    "#Modulus: 3%2\n",
    "\n",
    "print (3 + 2)"
   ]
  },
  {
   "cell_type": "code",
   "execution_count": null,
   "id": "d6cfd8f1",
   "metadata": {},
   "outputs": [],
   "source": [
    "num =3\n",
    "\n",
    "num *= 9\n",
    "\n",
    "print(num)"
   ]
  },
  {
   "cell_type": "code",
   "execution_count": null,
   "id": "5901db1c",
   "metadata": {},
   "outputs": [],
   "source": [
    "print(abs(-3))\n",
    "print(round(3.75, 1))"
   ]
  },
  {
   "cell_type": "markdown",
   "id": "0536c432",
   "metadata": {},
   "source": [
    "Comparisons"
   ]
  },
  {
   "cell_type": "code",
   "execution_count": null,
   "id": "ef9226a8",
   "metadata": {},
   "outputs": [],
   "source": [
    "#Equal: 3 == 2\n",
    "#Not Equal: 3 !=2\n",
    "#Greater than: 3 > 2\n",
    "#Less than: 3 < 2\n",
    "#Greater or Equal: 3 >= 2\n",
    "#Less or Equal: 3 <=2\n",
    "\n",
    "num_1 = 3\n",
    "num_2 = 2\n",
    "\n",
    "print(num_1 >= num_2)"
   ]
  },
  {
   "cell_type": "markdown",
   "id": "993f1335",
   "metadata": {},
   "source": [
    "concatenates"
   ]
  },
  {
   "cell_type": "code",
   "execution_count": null,
   "id": "3a518ab9",
   "metadata": {},
   "outputs": [],
   "source": [
    "num_1 = '100'\n",
    "num_2 = '200'\n",
    "\n",
    "num_1 = int(num_1)\n",
    "num_2 = int(num_2)\n",
    "print(num_1 + num_2)"
   ]
  },
  {
   "cell_type": "markdown",
   "id": "fa0bea4a",
   "metadata": {},
   "source": [
    "variables and data types"
   ]
  },
  {
   "cell_type": "code",
   "execution_count": null,
   "id": "03a611d7",
   "metadata": {},
   "outputs": [],
   "source": [
    "character_name = \"prasanthi\"\n",
    "character_age = \"25\"\n",
    "print('There once was a man named ' + character_name + ',')\n",
    "print('he was '+ character_age + ' years old ,' )\n",
    "print('he really like the name ' + character_name + ',')\n",
    "print(\"but didn't like being \" + character_age + '.')\n"
   ]
  },
  {
   "cell_type": "markdown",
   "id": "c3b4f180",
   "metadata": {},
   "source": [
    "Getting inputs from users"
   ]
  },
  {
   "cell_type": "code",
   "execution_count": null,
   "id": "7a412731",
   "metadata": {},
   "outputs": [],
   "source": [
    "name = input('enter your name ')\n",
    "age = input ('enter you age ')\n",
    "\n",
    "print ( name + age)"
   ]
  },
  {
   "cell_type": "markdown",
   "id": "bd8d2c25",
   "metadata": {},
   "source": [
    "Lists,Tuples, and Sets"
   ]
  },
  {
   "cell_type": "code",
   "execution_count": null,
   "id": "3183f8a3",
   "metadata": {},
   "outputs": [],
   "source": [
    "courses = ['history', 'maths', 'physics', 'telugu']\n",
    "courses_2 = ['Art','Education']\n",
    "courses. append('art')\n",
    "courses.insert(0, courses_2)\n",
    "courses.extend(courses_2)\n",
    "print(courses)\n",
    "print(len(courses))\n",
    "print(courses[0])\n",
    "print(courses[-1])\n",
    "print(courses[0:2])\n",
    "print(courses.index('art')) \n",
    "print(type(courses_2))"
   ]
  },
  {
   "cell_type": "code",
   "execution_count": null,
   "id": "ffbdd6f5",
   "metadata": {},
   "outputs": [],
   "source": [
    "courses = ['history', 'maths', 'physics', 'telugu']\n",
    "courses_2 = ['Art','Education']\n",
    "courses.remove('maths')\n",
    "\n",
    "popped = courses.pop()\n",
    "\n",
    "courses. insert(0, courses_2)\n",
    "\n",
    "print(courses)\n",
    "print(courses_2)\n",
    "print(popped)\n",
    "print(type(courses))"
   ]
  },
  {
   "cell_type": "code",
   "execution_count": null,
   "id": "72d96def",
   "metadata": {},
   "outputs": [],
   "source": [
    "courses = ['history', 'maths', 'physics', 'telugu']\n",
    "nums = [1, 5, 4, 2,3]\n",
    "\n",
    "courses. reverse()\n",
    "courses. sort(reverse=True)\n",
    "nums.sort(reverse=True)\n",
    "sorted_courses = sorted(courses)\n",
    "print(courses)\n",
    "print(min(nums))\n"
   ]
  },
  {
   "cell_type": "code",
   "execution_count": null,
   "id": "c846c490",
   "metadata": {},
   "outputs": [],
   "source": [
    "courses = ['history', 'maths', 'physics', 'telugu']\n",
    "courses_str = '-'. join(courses)\n",
    "new_list = courses_str.split('-')\n",
    "\n",
    "print (courses_str)\n",
    "print (new_list)"
   ]
  },
  {
   "cell_type": "markdown",
   "id": "ac11375c",
   "metadata": {},
   "source": [
    "# Dictionaries"
   ]
  },
  {
   "cell_type": "code",
   "execution_count": null,
   "id": "7d3ee4a9",
   "metadata": {},
   "outputs": [],
   "source": [
    "dic={'name':'prasanthi','age':'20','phone':'9999922228'}\n",
    "\n",
    "print(dic['name'])\n",
    "print(len(dic))\n",
    "print(max(dic))\n",
    "print(min(dic))\n",
    "print(type(dic))"
   ]
  },
  {
   "cell_type": "code",
   "execution_count": null,
   "id": "22cb8c7b",
   "metadata": {},
   "outputs": [],
   "source": [
    "dic={'name':'prasanthi','age':'20','phone':'9999922228'}\n",
    "dic[\"gender\"]=\"female\"\n",
    "dic.pop(\"phone\")\n",
    "\n",
    "print(dic)"
   ]
  },
  {
   "cell_type": "code",
   "execution_count": null,
   "id": "64514875",
   "metadata": {},
   "outputs": [],
   "source": [
    "dic={'name':'prasanthi','age':'20','phone':'9999922228'}\n",
    "mydic=dict(dic)\n",
    "print(mydic)"
   ]
  },
  {
   "cell_type": "markdown",
   "id": "2cd55416",
   "metadata": {},
   "source": [
    "# Booleans"
   ]
  },
  {
   "cell_type": "code",
   "execution_count": null,
   "id": "e87cbfbf",
   "metadata": {},
   "outputs": [],
   "source": [
    "x=10>9\n",
    "print(x)"
   ]
  },
  {
   "cell_type": "code",
   "execution_count": null,
   "id": "4cc53cb0",
   "metadata": {},
   "outputs": [],
   "source": [
    "x= 'Hello'\n",
    "y= 15\n",
    "print(bool(x))\n",
    "print(bool(y))"
   ]
  },
  {
   "cell_type": "markdown",
   "id": "9521b66c",
   "metadata": {},
   "source": [
    "# Conditions"
   ]
  },
  {
   "cell_type": "code",
   "execution_count": null,
   "id": "d4cd5676",
   "metadata": {},
   "outputs": [],
   "source": [
    "a=20\n",
    "b=30\n",
    "if b>a:\n",
    "   print('b is greater than a')\n",
    "else:\n",
    "    print('b is not greather than a')\n",
    "    "
   ]
  },
  {
   "cell_type": "code",
   "execution_count": null,
   "id": "c49dcc07",
   "metadata": {},
   "outputs": [],
   "source": [
    "a = 34\n",
    "b = 33\n",
    "if b > a:\n",
    "  print(\"b is greater than a\")\n",
    "elif a == b:\n",
    "  print(\"a and b are equal\")\n",
    "else:\n",
    "  print(\"b is not greater than a\")\n"
   ]
  },
  {
   "cell_type": "code",
   "execution_count": null,
   "id": "c1c13fea",
   "metadata": {},
   "outputs": [],
   "source": [
    "a = 200\n",
    "b = 33\n",
    "c = 400\n",
    "if a > b and c > a:\n",
    "  print(\"Both conditions are True\")"
   ]
  },
  {
   "cell_type": "code",
   "execution_count": null,
   "id": "2f7f2a03",
   "metadata": {},
   "outputs": [],
   "source": [
    "a = 200\n",
    "b = 33\n",
    "c = 500\n",
    "if a > b or a > c:\n",
    "  print(\"At least one of the conditions is True\")"
   ]
  },
  {
   "cell_type": "code",
   "execution_count": null,
   "id": "61b30662",
   "metadata": {},
   "outputs": [],
   "source": [
    "x = 40\n",
    "\n",
    "if x > 10:\n",
    "  print(\"Above ten,\")\n",
    "  if x > 20:\n",
    "    print(\"and also above 20!\")\n",
    "  else:\n",
    "    print(\"but not above 20.\")"
   ]
  },
  {
   "cell_type": "markdown",
   "id": "b675f6a2",
   "metadata": {},
   "source": [
    "#  Loops and Iterations"
   ]
  },
  {
   "cell_type": "code",
   "execution_count": null,
   "id": "0ea04680",
   "metadata": {},
   "outputs": [],
   "source": [
    "nums = [1,2,3,4,5]\n",
    "for num in nums:\n",
    "    if num == 3: \n",
    "        print('found')\n",
    "        break\n",
    "    print(num)\n",
    "        "
   ]
  },
  {
   "cell_type": "code",
   "execution_count": null,
   "id": "24bb086d",
   "metadata": {},
   "outputs": [],
   "source": [
    "nums = [1,2,3,4,5]\n",
    "for num in nums:\n",
    "    if num == 3:\n",
    "        print('found')\n",
    "        continue\n",
    "    print(num)"
   ]
  },
  {
   "cell_type": "code",
   "execution_count": null,
   "id": "557fce5a",
   "metadata": {},
   "outputs": [],
   "source": [
    "nums = [1,2,3,4,5]\n",
    "for num in nums:\n",
    "    for letter in 'abc':\n",
    "        print(num, letter)"
   ]
  },
  {
   "cell_type": "markdown",
   "id": "47b4495c",
   "metadata": {},
   "source": [
    "# Functions"
   ]
  },
  {
   "cell_type": "code",
   "execution_count": null,
   "id": "201eac44",
   "metadata": {},
   "outputs": [],
   "source": [
    "def hello_fun():\n",
    "    nums = [1,2,3,4,5]\n",
    "for num in nums:\n",
    "    if num == 5:\n",
    "        print('found')\n",
    "        break\n",
    "    print(num)\n",
    "    \n",
    "hello_fun()\n",
    "\n"
   ]
  },
  {
   "cell_type": "markdown",
   "id": "5cc1b46c",
   "metadata": {},
   "source": [
    "# Import Modules"
   ]
  },
  {
   "cell_type": "code",
   "execution_count": null,
   "id": "d0b0edc1",
   "metadata": {},
   "outputs": [],
   "source": [
    "import numpy as np\n",
    "y=np.array([2,4,6,8])"
   ]
  },
  {
   "cell_type": "code",
   "execution_count": null,
   "id": "a54288a3",
   "metadata": {},
   "outputs": [],
   "source": [
    "import my_mod as mod\n",
    "import find_index as find"
   ]
  },
  {
   "cell_type": "code",
   "execution_count": null,
   "id": "a245bc91",
   "metadata": {},
   "outputs": [],
   "source": [
    "mod.my_mean(y)\n"
   ]
  },
  {
   "cell_type": "code",
   "execution_count": null,
   "id": "76d12c89",
   "metadata": {},
   "outputs": [],
   "source": [
    "find.find_index"
   ]
  },
  {
   "cell_type": "markdown",
   "id": "3231fa6b",
   "metadata": {},
   "source": [
    "# Local variable"
   ]
  },
  {
   "cell_type": "code",
   "execution_count": null,
   "id": "2aa51a65",
   "metadata": {},
   "outputs": [],
   "source": [
    "def local_test():\n",
    "    value=1\n",
    "    print('the value is define is: ',value)\n"
   ]
  },
  {
   "cell_type": "code",
   "execution_count": null,
   "id": "1b26dd4f",
   "metadata": {},
   "outputs": [],
   "source": [
    "local_test()"
   ]
  },
  {
   "cell_type": "markdown",
   "id": "9d8c3a5c",
   "metadata": {},
   "source": [
    "# Global Variable"
   ]
  },
  {
   "cell_type": "code",
   "execution_count": null,
   "id": "106572bd",
   "metadata": {},
   "outputs": [],
   "source": [
    "message = \"global\"\n",
    "def python_developer():\n",
    "    developer=\"welcome to python program\"\n",
    "    print(message, developer)\n",
    "def developer_name(name):\n",
    "    print(message, name)\n",
    "\n",
    "    "
   ]
  },
  {
   "cell_type": "code",
   "execution_count": null,
   "id": "cabaedb4",
   "metadata": {},
   "outputs": [],
   "source": [
    "python_developer()\n",
    "developer_name(\"prasanthi\")"
   ]
  },
  {
   "cell_type": "markdown",
   "id": "394f33ea",
   "metadata": {},
   "source": [
    "# Enclose variable"
   ]
  },
  {
   "cell_type": "code",
   "execution_count": null,
   "id": "b8b522c7",
   "metadata": {},
   "outputs": [],
   "source": [
    "def parent_nest():\n",
    "    initial_value=5\n",
    "    def child_nest():\n",
    "        next_value=10\n",
    "        print(\"value define in the parent function:\", initial_value)\n",
    "        print(\"value define in the parent function:\", next_value)\n",
    "    child_nest()\n",
    "parent_nest()"
   ]
  },
  {
   "cell_type": "code",
   "execution_count": null,
   "id": "4ef091a6",
   "metadata": {},
   "outputs": [],
   "source": [
    "a=(\"a\",\"b\",\"c\",\"d\",\"e\",\"f\"\"g\",\"h\")\n",
    "x=slice(2)\n",
    "print(a[x])"
   ]
  },
  {
   "cell_type": "code",
   "execution_count": null,
   "id": "05fdc917",
   "metadata": {},
   "outputs": [],
   "source": [
    "my_list = [1, 2, 3, 4, 5,6,7,8,9]\n",
    "        \n",
    "print(my_list[3:8:2])"
   ]
  },
  {
   "cell_type": "code",
   "execution_count": null,
   "id": "78f3d455",
   "metadata": {},
   "outputs": [],
   "source": [
    "list = [1,2,3,4,5,6,7,8,9]\n",
    "\n",
    "print(list[0:8:2])\n"
   ]
  },
  {
   "cell_type": "markdown",
   "id": "6f245fbb",
   "metadata": {},
   "source": [
    "# String Slicing\n"
   ]
  },
  {
   "cell_type": "code",
   "execution_count": null,
   "id": "97bb4b0c",
   "metadata": {},
   "outputs": [],
   "source": [
    "string = 'prasanthi'\n",
    "print(string[0:8:2])"
   ]
  },
  {
   "cell_type": "code",
   "execution_count": null,
   "id": "f29df95e",
   "metadata": {},
   "outputs": [],
   "source": [
    "s='mybacon'\n",
    "s[2:5]"
   ]
  },
  {
   "cell_type": "code",
   "execution_count": null,
   "id": "16ea1ed3",
   "metadata": {},
   "outputs": [],
   "source": [
    "s='mybacon'\n",
    "s[-4:-2]"
   ]
  },
  {
   "cell_type": "code",
   "execution_count": null,
   "id": "176c4ae6",
   "metadata": {},
   "outputs": [],
   "source": [
    "#index_ 0, 1, 2, 3, 4, 5, 6\n",
    "lst = [50,70,30,20,90,10,50]\n",
    "print(lst[::])"
   ]
  },
  {
   "cell_type": "code",
   "execution_count": null,
   "id": "e6ad7368",
   "metadata": {},
   "outputs": [],
   "source": [
    "#index_ -7,-6,-5,-4,-3,-2,-1\n",
    "lst=[50,70,30,20,90,10,50]\n",
    "print(lst[-6::1])"
   ]
  },
  {
   "cell_type": "code",
   "execution_count": null,
   "id": "e68dfc1e",
   "metadata": {},
   "outputs": [],
   "source": [
    "lst=[50,70,30,20,90,10,50]\n",
    "print(lst[2:6])"
   ]
  },
  {
   "cell_type": "code",
   "execution_count": null,
   "id": "0157326c",
   "metadata": {},
   "outputs": [],
   "source": [
    "lst=[1,2,3,4,5,6,7,8,9]\n",
    "\n",
    "# Show original list\n",
    "print(\"\\nOriginal List:\\n\", lst)\n",
    " \n",
    "print(\"\\nSliced List: \")\n",
    "\n",
    "print(lst[3:9:2])\n",
    "print(lst[::2])\n",
    "print(lst[::])\n",
    "print(lst[:9:2])\n",
    "print(lst[3::2])\n",
    "print(lst[1:1:1])\n",
    "print(lst[-1:-1:-1])\n",
    "print(lst[10::2])\n"
   ]
  },
  {
   "cell_type": "code",
   "execution_count": null,
   "id": "071fbfe1",
   "metadata": {},
   "outputs": [],
   "source": [
    "lst = [-999, 'G4G', 1706256, '^_^', 3.1496]\n",
    "\n",
    "\n",
    "print(lst[1:1:1])\n",
    "print(lst[-1:-1:-1])\n",
    "print(lst[10::2])\n",
    "\n"
   ]
  },
  {
   "cell_type": "code",
   "execution_count": null,
   "id": "93abb6a5",
   "metadata": {},
   "outputs": [],
   "source": [
    "lst = [-999, 'G4G', 1706256, '^_^', 3.1496]\n",
    "print(lst)\n",
    "lst[2:4] = ['Geeks', 'for', 'Geeks', '!']\n",
    "\n",
    "# Modified List\n",
    "print(lst)\n",
    "\n",
    "lst[:6] = []\n",
    "\n",
    "print(lst)\n"
   ]
  },
  {
   "cell_type": "code",
   "execution_count": null,
   "id": "8bb840fb",
   "metadata": {},
   "outputs": [],
   "source": [
    "lst = [1, 2, 3, 4, 5, 6, 7, 8, 9,11]\n",
    "newlist = lst[:2]+lst[7:]\n",
    "print(newlist)\n"
   ]
  },
  {
   "cell_type": "markdown",
   "id": "8f68c26c",
   "metadata": {},
   "source": [
    "# List Comprehensions"
   ]
  },
  {
   "cell_type": "code",
   "execution_count": null,
   "id": "4fa6d53a",
   "metadata": {},
   "outputs": [],
   "source": [
    "[x for x in range (10)]"
   ]
  },
  {
   "cell_type": "code",
   "execution_count": null,
   "id": "e1128906",
   "metadata": {},
   "outputs": [],
   "source": [
    "#list \n",
    "lst=[]\n",
    "\n",
    "for i in range(10):\n",
    "    if(i%2==0):\n",
    "        lst.append(i)\n",
    "print(lst)"
   ]
  },
  {
   "cell_type": "code",
   "execution_count": null,
   "id": "c182515f",
   "metadata": {},
   "outputs": [],
   "source": [
    "#list comprehensions\n",
    "lst=[i for i in range (10) if (i%3== 0)]\n",
    "print(lst)"
   ]
  },
  {
   "cell_type": "code",
   "execution_count": null,
   "id": "781806d3",
   "metadata": {},
   "outputs": [],
   "source": [
    "lst=[character for character in 'Geeks 4 Geeks']\n",
    "print(lst)"
   ]
  },
  {
   "cell_type": "code",
   "execution_count": null,
   "id": "558f0d53",
   "metadata": {},
   "outputs": [],
   "source": [
    "# Empty list\n",
    "List = []\n",
    "\n",
    "\n",
    "for character in 'Geeks 4 Geeks!':\n",
    "    List.append(character)\n",
    "\n",
    "# Display list\n",
    "print(List)\n"
   ]
  },
  {
   "cell_type": "code",
   "execution_count": null,
   "id": "3ce8dad8",
   "metadata": {},
   "outputs": [],
   "source": [
    "num= [i*10 for i in range(1,6)]\n",
    "print(num)"
   ]
  },
  {
   "cell_type": "markdown",
   "id": "5fdcffda",
   "metadata": {},
   "source": [
    "# Set Comprhenesions"
   ]
  },
  {
   "cell_type": "code",
   "execution_count": null,
   "id": "5dbfbe40",
   "metadata": {},
   "outputs": [],
   "source": [
    "x = [1, 2, 3, 4, 4, 5, 6, 6, 6, 7, 7]\n",
    "\n",
    "output_set = set()\n",
    "\n",
    "for var in x:\n",
    "    if var % 2 == 0:\n",
    "        output_set.add(var)\n",
    "\n",
    "print(output_set)\n"
   ]
  },
  {
   "cell_type": "code",
   "execution_count": null,
   "id": "6e38ad34",
   "metadata": {},
   "outputs": [],
   "source": [
    "x = [1, 2, 3, 4, 4, 5, 6, 6, 6, 7, 7]\n",
    "\n",
    "lst={var for var in x if var % 2 == 0}\n",
    "print(lst)"
   ]
  },
  {
   "cell_type": "markdown",
   "id": "46c0780a",
   "metadata": {},
   "source": [
    "# sorting"
   ]
  },
  {
   "cell_type": "code",
   "execution_count": null,
   "id": "731d9fdd",
   "metadata": {},
   "outputs": [],
   "source": [
    "elements=[]\n",
    "noofelements=int(input('enter the no of element:'))\n",
    "\n",
    "for i in range(noofelements):\n",
    "    element=int(input('enter the element:'))\n",
    "    elements.append(element)\n",
    "\n",
    "elements.sort(reverse=True)\n",
    "print(elements)"
   ]
  },
  {
   "cell_type": "markdown",
   "id": "d51307f4",
   "metadata": {},
   "source": [
    " "
   ]
  },
  {
   "cell_type": "code",
   "execution_count": null,
   "id": "584a6e51",
   "metadata": {},
   "outputs": [],
   "source": [
    "elements=[]\n",
    "noofelements=int(input('enter the no of element:'))\n",
    "\n",
    "for i in range(noofelements):\n",
    "    element=input('enter the element:')\n",
    "    elements.append(element)\n",
    "\n",
    "elements.sort()\n",
    "print(elements)"
   ]
  },
  {
   "cell_type": "markdown",
   "id": "a4e49969",
   "metadata": {},
   "source": [
    "# Tuple Sorting"
   ]
  },
  {
   "cell_type": "code",
   "execution_count": null,
   "id": "e5393db4",
   "metadata": {},
   "outputs": [],
   "source": [
    "items = [(1,'B'), (1,'A'), (2,'A'), (2,'B'), (0,'a')]\n",
    "\n",
    "sorted_items = sorted(items)\n",
    "\n",
    "print(items)\n",
    "print(sorted_items)"
   ]
  },
  {
   "cell_type": "code",
   "execution_count": null,
   "id": "423d0164",
   "metadata": {},
   "outputs": [],
   "source": [
    "li = [9,1,5,6,7,3,4,8]\n",
    "s_li=sorted(li)\n",
    "print('sorted variable:\\t', s_li)\n",
    "print('original variable:\\t', li)"
   ]
  },
  {
   "cell_type": "code",
   "execution_count": null,
   "id": "9ebe241b",
   "metadata": {},
   "outputs": [],
   "source": [
    "n_tuples = (6,9,3,1)\n",
    "n_tuple_sorted = sorted(n_tuples)\n",
    "n_tuple_sorted"
   ]
  },
  {
   "cell_type": "markdown",
   "id": "2ec673ad",
   "metadata": {},
   "source": [
    "# Formatting with placeholder"
   ]
  },
  {
   "cell_type": "code",
   "execution_count": null,
   "id": "fe24985b",
   "metadata": {},
   "outputs": [],
   "source": [
    "txt1=\"my name is {fname}, I'm {age}\""
   ]
  },
  {
   "cell_type": "code",
   "execution_count": null,
   "id": "5b9d94b0",
   "metadata": {},
   "outputs": [],
   "source": [
    "y=input('Enter you Name')\n",
    "print('Hi %s, how are you' %y)\n"
   ]
  },
  {
   "cell_type": "code",
   "execution_count": null,
   "id": "17e41b84",
   "metadata": {},
   "outputs": [],
   "source": [
    "x, y = 'my','world'\n",
    "print('welcome to %s %r' %(x,y))"
   ]
  },
  {
   "cell_type": "markdown",
   "id": "5568a0e1",
   "metadata": {},
   "source": [
    "# Formatting with .format()"
   ]
  },
  {
   "cell_type": "code",
   "execution_count": null,
   "id": "b0a2a977",
   "metadata": {},
   "outputs": [],
   "source": [
    "#'string here {} then also {}'.format('something1,','something2')"
   ]
  },
  {
   "cell_type": "code",
   "execution_count": null,
   "id": "09813fe1",
   "metadata": {},
   "outputs": [],
   "source": [
    "print('The {} {} {}'.format('apple', 'banana', 'fox'))"
   ]
  },
  {
   "cell_type": "code",
   "execution_count": null,
   "id": "ac72643b",
   "metadata": {},
   "outputs": [],
   "source": [
    "#using indexing\n",
    "print('The {2} {1} {0}'.format('fox', 'tree', 'cut'))"
   ]
  },
  {
   "cell_type": "markdown",
   "id": "6f6bae30",
   "metadata": {},
   "source": [
    "# formatting with f-strings"
   ]
  },
  {
   "cell_type": "code",
   "execution_count": null,
   "id": "ba6c781c",
   "metadata": {},
   "outputs": [],
   "source": [
    "name='prasanthi'\n",
    "print(f'She said her name is {name}' )"
   ]
  },
  {
   "cell_type": "code",
   "execution_count": null,
   "id": "2dc200e0",
   "metadata": {},
   "outputs": [],
   "source": [
    "score=95\n",
    "print(f'He score {score} marks in python')"
   ]
  },
  {
   "cell_type": "code",
   "execution_count": null,
   "id": "fb69ec7d",
   "metadata": {},
   "outputs": [],
   "source": [
    "person = {'name':'prasanthi', 'age':25}\n",
    "sentence = 'My name is' + person['name'] + 'and I am ' + str(person['age']) + 'years old.'\n",
    "print(sentence)"
   ]
  },
  {
   "cell_type": "code",
   "execution_count": null,
   "id": "cc8accb5",
   "metadata": {},
   "outputs": [],
   "source": [
    "import os\n",
    "\n",
    "print(os.getcwd())"
   ]
  },
  {
   "cell_type": "code",
   "execution_count": null,
   "id": "81c922a5",
   "metadata": {},
   "outputs": [],
   "source": [
    "import os\n",
    "\n",
    "def current_path(): \n",
    "    print(\"Current working directory before\") \n",
    "    print(os.getcwd()) \n",
    "    print()\n",
    "current_path() \n",
    "os.chdir('../')\n",
    "current_path() "
   ]
  },
  {
   "cell_type": "code",
   "execution_count": null,
   "id": "ec89456c",
   "metadata": {},
   "outputs": [],
   "source": [
    "import os\n",
    "directory = \"prasanthi\"\n",
    "parent_dir = 'C:/desktop/'\n",
    "path = os.path.join(parent_dir, directory) \n",
    "print(\"Directory '% s' created\" % directory)\n",
    "print(os.getcwd()) \n"
   ]
  },
  {
   "cell_type": "code",
   "execution_count": null,
   "id": "21c3a4e2",
   "metadata": {},
   "outputs": [],
   "source": [
    "import os \n",
    "  \n",
    "# Get the list of all files and directories \n",
    "# in the root directory \n",
    "path = \"/\"\n",
    "print(path) \n",
    "print(dir_list)"
   ]
  },
  {
   "cell_type": "code",
   "execution_count": null,
   "id": "9eff5055",
   "metadata": {},
   "outputs": [],
   "source": [
    "import os \n",
    "print(os.name)"
   ]
  },
  {
   "cell_type": "markdown",
   "id": "51be2db2",
   "metadata": {},
   "source": [
    "# Datetime"
   ]
  },
  {
   "cell_type": "code",
   "execution_count": null,
   "id": "c644f246",
   "metadata": {},
   "outputs": [],
   "source": [
    "import datetime\n",
    "x=datetime.datetime.now()\n",
    "print(x)"
   ]
  },
  {
   "cell_type": "code",
   "execution_count": null,
   "id": "dcddf792",
   "metadata": {},
   "outputs": [],
   "source": [
    "#year\n",
    "y=datetime.datetime.now().year\n",
    "print(y)"
   ]
  },
  {
   "cell_type": "code",
   "execution_count": null,
   "id": "2d1d2733",
   "metadata": {},
   "outputs": [],
   "source": [
    "d=datetime.date(2020,6,12)\n",
    "print(d)"
   ]
  },
  {
   "cell_type": "code",
   "execution_count": null,
   "id": "a8abf241",
   "metadata": {},
   "outputs": [],
   "source": [
    "tday=datetime.date.today()\n",
    "print(tday)\n",
    "print(tday.weekday())\n",
    "print(tday.isoweekday())"
   ]
  },
  {
   "cell_type": "code",
   "execution_count": null,
   "id": "5db44492",
   "metadata": {},
   "outputs": [],
   "source": [
    "tdelta=datetime.timedelta(days=7)\n",
    "print(tday - tdelta)\n",
    "print(tday + tdelta)"
   ]
  },
  {
   "cell_type": "code",
   "execution_count": null,
   "id": "452d09bc",
   "metadata": {},
   "outputs": [],
   "source": [
    "bday=datetime.date(1994, 3, 1)\n",
    "print(bday)\n",
    "\n",
    "till_bday= bday-tday\n",
    "print(till_bday)"
   ]
  },
  {
   "cell_type": "code",
   "execution_count": null,
   "id": "f6f3a3d5",
   "metadata": {},
   "outputs": [],
   "source": [
    "t=datetime.time(9, 36, 45, 12000)\n",
    "print(t)\n",
    "print(t.hour)\n"
   ]
  },
  {
   "cell_type": "code",
   "execution_count": null,
   "id": "c36b604f",
   "metadata": {},
   "outputs": [],
   "source": [
    "dt = datetime.datetime(2020, 6, 20, 12, 30, 45, 100000)\n",
    "print(dt)\n",
    "tdelta = datetime.timedelta(days=7)\n",
    "\n",
    "print(dt + tdelta)"
   ]
  },
  {
   "cell_type": "code",
   "execution_count": null,
   "id": "5304cf3b",
   "metadata": {},
   "outputs": [],
   "source": [
    "import pytz\n",
    "dt_utcnow = datetime.datetime.now(tz=pytz.utc)\n",
    "print(dt_utcnow)\n",
    "dt_mtn=datetime.datetime.now(pytz.timezone('us/mountain'))\n",
    "print(dt_mtn)"
   ]
  },
  {
   "cell_type": "code",
   "execution_count": null,
   "id": "dd5422a5",
   "metadata": {},
   "outputs": [],
   "source": [
    "for tz in pytz.all_timezones:\n",
    "    print(tz)"
   ]
  },
  {
   "cell_type": "code",
   "execution_count": null,
   "id": "b9d792dd",
   "metadata": {},
   "outputs": [],
   "source": [
    "dt_mtn = datetime.datetime.now(tz=pytz.timezone('US/Mountain'))\n",
    "print(dt_mtn.strftime('%B, %d, %Y'))"
   ]
  },
  {
   "cell_type": "code",
   "execution_count": null,
   "id": "dd2905ee",
   "metadata": {},
   "outputs": [],
   "source": [
    "dt_str = 'july 26, 2020'\n",
    "dt = datetime.datetime.strptime(dt_str, '%B %d, %Y')\n",
    "print (dt)\n",
    "\n",
    "#strftime -datetime to string\n",
    "#strptime - string to datetime"
   ]
  },
  {
   "cell_type": "markdown",
   "id": "44cc9c84",
   "metadata": {},
   "source": [
    "# File Object"
   ]
  },
  {
   "cell_type": "code",
   "execution_count": null,
   "id": "4c262827",
   "metadata": {},
   "outputs": [],
   "source": [
    "f = open('C:\\\\Users\\\\pprasan1\\\\Desktop\\\\Python\\\\Notes\\\\sample.txt', 'r')\n",
    "\n",
    "print(f.name)\n",
    "print(f.mode)\n",
    "\n",
    "f.close()"
   ]
  },
  {
   "cell_type": "code",
   "execution_count": null,
   "id": "f950638e",
   "metadata": {},
   "outputs": [],
   "source": [
    "with open ('C:\\\\Users\\\\pprasan1\\\\Desktop\\\\Python\\\\Notes\\\\sample.txt', 'r') as f:\n",
    "    pass\n",
    "print(f.mode)\n",
    "print(f.closed)\n"
   ]
  },
  {
   "cell_type": "code",
   "execution_count": null,
   "id": "1394e7ef",
   "metadata": {},
   "outputs": [],
   "source": [
    "with open ('C:\\\\Users\\\\pprasan1\\\\Desktop\\\\Python\\\\Notes\\\\sample.txt', 'r') as f:\n",
    "    f_contents = f.read()\n",
    "    print(f_contents)"
   ]
  },
  {
   "cell_type": "code",
   "execution_count": null,
   "id": "0692369e",
   "metadata": {},
   "outputs": [],
   "source": [
    "with open ('C:\\\\Users\\\\pprasan1\\\\Desktop\\\\Python\\\\Notes\\\\sample.txt', 'r') as f:\n",
    "    f_contents = f.readlines()\n",
    "    print(f_contents)"
   ]
  },
  {
   "cell_type": "code",
   "execution_count": null,
   "id": "6bd15076",
   "metadata": {},
   "outputs": [],
   "source": [
    "with open ('C:\\\\Users\\\\pprasan1\\\\Desktop\\\\Python\\\\Notes\\\\sample.txt', 'r') as f:\n",
    "    f_contents = f.readline()\n",
    "    print(f_contents)\n",
    "    f_contents = f.readline()\n",
    "    print(f_contents)"
   ]
  },
  {
   "cell_type": "code",
   "execution_count": null,
   "id": "7e6f642f",
   "metadata": {},
   "outputs": [],
   "source": [
    "with open ('C:\\\\Users\\\\pprasan1\\\\Desktop\\\\Python\\\\Notes\\\\sample.txt', 'r') as f:\n",
    "    size_to_read=10\n",
    "    f_contents=f.read(size_to_read)\n",
    "    \n",
    "    while len(f_contents) > 0:\n",
    "        print(f_contents, end='*')\n",
    "        f_contents=f.read(size_to_read)"
   ]
  },
  {
   "cell_type": "code",
   "execution_count": null,
   "id": "4a203017",
   "metadata": {},
   "outputs": [],
   "source": [
    "with open ('C:\\\\Users\\\\pprasan1\\\\Desktop\\\\Python\\\\Notes\\\\sample.txt', 'r') as f:\n",
    "    size_to_read=10\n",
    "    f_contents=f.read(size_to_read)\n",
    "    \n",
    "    print(f.tell())"
   ]
  },
  {
   "cell_type": "code",
   "execution_count": null,
   "id": "3834f60c",
   "metadata": {},
   "outputs": [],
   "source": [
    "with open ('C:\\\\Users\\\\pprasan1\\\\Desktop\\\\Python\\\\Notes\\\\sample1.txt', 'w') as f:\n",
    "    f.write('hello')\n",
    "    f.seek(0)\n",
    "    f.write('welcome')\n",
    "    "
   ]
  },
  {
   "cell_type": "markdown",
   "id": "8b61a84c",
   "metadata": {},
   "source": [
    "# Parsing and Renaming\n",
    "    "
   ]
  },
  {
   "cell_type": "code",
   "execution_count": null,
   "id": "c02afc1b",
   "metadata": {},
   "outputs": [],
   "source": [
    "import os\n",
    "os.chdir('C:\\\\Users\\\\pprasan1\\\\Desktop\\\\Python\\\\Notes')\n",
    "print(os.getcwd())"
   ]
  },
  {
   "cell_type": "code",
   "execution_count": null,
   "id": "c91c4505",
   "metadata": {},
   "outputs": [],
   "source": [
    "import os\n",
    "os.chdir('C:\\\\Users\\\\pprasan1\\\\Desktop\\\\Python\\\\Notes')\n",
    "\n",
    "for f in os.listdir():\n",
    "    print(f)"
   ]
  },
  {
   "cell_type": "code",
   "execution_count": null,
   "id": "af3567fb",
   "metadata": {},
   "outputs": [],
   "source": [
    "import os\n",
    "os.chdir('C:\\\\Users\\\\pprasan1\\\\Desktop\\\\Python\\\\Notes')\n",
    "\n",
    "for f in os.listdir():\n",
    "    print(os.path.splitext(f))\n",
    "    "
   ]
  },
  {
   "cell_type": "code",
   "execution_count": null,
   "id": "d28c9f1f",
   "metadata": {},
   "outputs": [],
   "source": [
    "os.chdir('C:\\\\Users\\\\pprasan1\\\\Desktop\\\\Python\\\\New folder')\n",
    "for f in os.listdir():\n",
    "    f_name,f_ext = os.path.splitext(f)\n",
    "    #print(f_name.split('-'))\n",
    "    f_title,f_course,f_version,f_div, f_num = f_name.split('_')\n",
    "    f_title = f_title.strip()[1:].zfill(1)\n",
    "    f_course = f_course.strip()\n",
    "    f_version=f_version.strip()\n",
    "    f_div=f_div.strip()\n",
    "    f_num = f_num.strip()\n",
    "    \n",
    "    print('{}-{}-{}{}'.format(f_num, f_course, f_title, f_div, f_ext))"
   ]
  },
  {
   "cell_type": "markdown",
   "id": "7fb5e5d0",
   "metadata": {},
   "source": [
    "# Random module"
   ]
  },
  {
   "cell_type": "code",
   "execution_count": null,
   "id": "ed35e82c",
   "metadata": {},
   "outputs": [],
   "source": [
    "#randint()\n",
    "import random\n",
    "print(random.randint(1,9))"
   ]
  },
  {
   "cell_type": "code",
   "execution_count": null,
   "id": "7006ea3c",
   "metadata": {},
   "outputs": [],
   "source": [
    "import random\n",
    "greeting = ['hello','hi','welcome','howdy']\n",
    "l = ['apple','jackfruit','life']\n",
    "print(random.choice(greeting))\n",
    "print(random.choice(l))"
   ]
  },
  {
   "cell_type": "code",
   "execution_count": null,
   "id": "74eb58ec",
   "metadata": {},
   "outputs": [],
   "source": [
    "import random\n",
    "\n",
    "#s = ['cut', 'tree', 'house']\n",
    "p = list(range(1, 53))\n",
    "#random.shuffle(s)\n",
    "random.shuffle(p)\n",
    "#print(s)\n",
    "#print(deck)\n",
    "print(p)"
   ]
  },
  {
   "cell_type": "code",
   "execution_count": null,
   "id": "921df47a",
   "metadata": {},
   "outputs": [],
   "source": [
    "m = ['sis', 'bro', 'mom', 'dad']\n",
    "print(random.sample(m,k=2))"
   ]
  },
  {
   "cell_type": "code",
   "execution_count": null,
   "id": "801f4263",
   "metadata": {},
   "outputs": [],
   "source": [
    "random.random()\n"
   ]
  },
  {
   "cell_type": "code",
   "execution_count": null,
   "id": "da1ff672",
   "metadata": {},
   "outputs": [],
   "source": [
    "import random\n",
    "v= random.uniform(1, 10)\n",
    "print(v)"
   ]
  },
  {
   "cell_type": "code",
   "execution_count": null,
   "id": "8411a57c",
   "metadata": {},
   "outputs": [],
   "source": [
    "p = list(range(1, 53))\n",
    "print(p)"
   ]
  },
  {
   "cell_type": "markdown",
   "id": "c11685dd",
   "metadata": {},
   "source": [
    "# CSV"
   ]
  },
  {
   "cell_type": "code",
   "execution_count": null,
   "id": "27f85fa1",
   "metadata": {},
   "outputs": [],
   "source": [
    "import csv\n",
    "\n",
    "with open('CSV.csv', 'r') as csv_file:\n",
    "    csv_reader = csv.reader(csv_file)\n",
    "    \n",
    "    print(csv_reader)"
   ]
  },
  {
   "cell_type": "code",
   "execution_count": null,
   "id": "9b3823aa",
   "metadata": {},
   "outputs": [],
   "source": [
    "with open('CSV.csv', 'r') as csv_file:\n",
    "    csv_reader = csv.reader(csv_file)\n",
    "    \n",
    "    for line in csv_reader:\n",
    "        \n",
    "        print(line[2])"
   ]
  },
  {
   "cell_type": "code",
   "execution_count": null,
   "id": "4c7788b7",
   "metadata": {},
   "outputs": [],
   "source": [
    "with open('CSV.csv', 'r') as csv_file:\n",
    "    csv_reader = csv.reader(csv_file)\n",
    "    \n",
    "    next(csv_reader)\n",
    "    for line in csv_reader:\n",
    "        \n",
    "        print(line[2])"
   ]
  },
  {
   "cell_type": "code",
   "execution_count": null,
   "id": "3ce37c5c",
   "metadata": {},
   "outputs": [],
   "source": [
    "with open('CSV.csv', 'r') as csv_file:\n",
    "    csv_reader = csv.reader(csv_file)\n",
    "    \n",
    "    with open('newCSV.csv', 'w') as new_file:\n",
    "        csv_writer = csv.writer (new_file, delimiter ='-')\n",
    "    \n",
    "        for line in csv_reader:\n",
    "            csv_writer.writerow(line)"
   ]
  },
  {
   "cell_type": "code",
   "execution_count": null,
   "id": "eff8c3be",
   "metadata": {},
   "outputs": [],
   "source": [
    "with open('CSV.csv', 'r') as csv_file:\n",
    "    csv_reader = csv.DictReader(csv_file)\n",
    "    \n",
    "    for line in csv_reader:\n",
    "        \n",
    "        print(line)"
   ]
  },
  {
   "cell_type": "code",
   "execution_count": null,
   "id": "5145ab2f",
   "metadata": {},
   "outputs": [],
   "source": [
    "import csv \n",
    "with open('CSV.csv', 'r') as csv_file:\n",
    "    csv_reader = csv.DictReader(csv_file)\n",
    "    \n",
    "    with open('code.csv', 'w') as new_file:\n",
    "        field= ['Username','IdentifierFirstname','Lastname','Username','Identifier','firstname','Last name']\n",
    "                \n",
    "        csv_writer = csv.DictWriter(new_file, field=field, delimiter ='\\t')\n",
    "        \n",
    "        csv_writer.writeheader()\n",
    "        \n",
    "        for line in csv_reader:\n",
    "            csv_writer.writerow(line)"
   ]
  },
  {
   "cell_type": "code",
   "execution_count": null,
   "id": "8f212133",
   "metadata": {},
   "outputs": [],
   "source": [
    "import pandas as pd\n",
    "\n",
    "pd.read_csv('C:\\\\Users\\\\pprasan1\\\\Desktop\\\\Python\\\\Notes\\\\code.csv')"
   ]
  },
  {
   "cell_type": "code",
   "execution_count": null,
   "id": "a1e20a25",
   "metadata": {},
   "outputs": [],
   "source": [
    "pd.read_csv('code.csv', usecols =['network_id'])"
   ]
  },
  {
   "cell_type": "code",
   "execution_count": null,
   "id": "8dcb8e16",
   "metadata": {},
   "outputs": [],
   "source": [
    "network_id = pd.read_csv('code.csv', usecols =['network_id'], squeeze= True)"
   ]
  },
  {
   "cell_type": "code",
   "execution_count": null,
   "id": "a2b606c9",
   "metadata": {},
   "outputs": [],
   "source": [
    "network_id"
   ]
  },
  {
   "cell_type": "code",
   "execution_count": null,
   "id": "07d2930d",
   "metadata": {},
   "outputs": [],
   "source": [
    "import pandas as pd\n",
    "\n",
    "data = pd.read_csv('Weather.csv')\n"
   ]
  },
  {
   "cell_type": "code",
   "execution_count": null,
   "id": "2f5e1bb3",
   "metadata": {},
   "outputs": [],
   "source": [
    "data"
   ]
  },
  {
   "cell_type": "markdown",
   "id": "1fed6eee",
   "metadata": {},
   "source": [
    "# Error Handling"
   ]
  },
  {
   "cell_type": "code",
   "execution_count": null,
   "id": "1918c3ee",
   "metadata": {},
   "outputs": [],
   "source": [
    "try:\n",
    "    print(s)\n",
    "\n",
    "except:\n",
    "    print('except')"
   ]
  },
  {
   "cell_type": "code",
   "execution_count": null,
   "id": "48ee7a00",
   "metadata": {},
   "outputs": [],
   "source": [
    "try:\n",
    "    print(s)\n",
    "except Exception as e:\n",
    "    print(e)"
   ]
  },
  {
   "cell_type": "code",
   "execution_count": null,
   "id": "873b3831",
   "metadata": {},
   "outputs": [],
   "source": [
    "try:\n",
    "    print(s)\n",
    "except Exception as e:\n",
    "    print(e)\n",
    "finally:\n",
    "    print('this is final')"
   ]
  },
  {
   "cell_type": "code",
   "execution_count": null,
   "id": "ec5347bc",
   "metadata": {},
   "outputs": [],
   "source": [
    "s='prasanthi'\n",
    "k=1\n",
    "try:\n",
    "    print(s + k)\n",
    "except Exception as e:\n",
    "    print(e)\n",
    "finally:\n",
    "    print('this is final')"
   ]
  },
  {
   "cell_type": "code",
   "execution_count": null,
   "id": "07c3a3f6",
   "metadata": {},
   "outputs": [],
   "source": [
    "x=-1\n",
    "if x<0:\n",
    "    raise Exception(\"this is raise\")"
   ]
  },
  {
   "cell_type": "code",
   "execution_count": null,
   "id": "1a33e146",
   "metadata": {},
   "outputs": [],
   "source": [
    "#zero division error\n",
    "s=0\n",
    "try:\n",
    "    print(1/s)\n",
    "except Exception as e:\n",
    "    print(e)"
   ]
  },
  {
   "cell_type": "code",
   "execution_count": null,
   "id": "56d55188",
   "metadata": {},
   "outputs": [],
   "source": [
    "try:\n",
    "    num1 = 7\n",
    "    num2 = 0 \n",
    "    print('hello')\n",
    "    print(num1/num2)\n",
    "except:\n",
    "    print('zero division error')"
   ]
  },
  {
   "cell_type": "code",
   "execution_count": null,
   "id": "94beb462",
   "metadata": {},
   "outputs": [],
   "source": [
    "#multiple exception error\n",
    "\n",
    "try:\n",
    "    variable=10\n",
    "    print(variable + 'hello')\n",
    "    print(variable/2)\n",
    "except ZeroDivisionError:\n",
    "    print('Division by zero')\n",
    "except (ValueError, TypeError):\n",
    "    print('Error occurred ')"
   ]
  },
  {
   "cell_type": "code",
   "execution_count": null,
   "id": "92ca948b",
   "metadata": {},
   "outputs": [],
   "source": [
    "#which type error\n",
    "try:\n",
    "    a='spam'\n",
    "    print( a / 0)\n",
    "except:\n",
    "    print('An error occurred')"
   ]
  },
  {
   "cell_type": "code",
   "execution_count": null,
   "id": "7d47b990",
   "metadata": {},
   "outputs": [],
   "source": [
    "try:\n",
    "    f = open('test_file.txt')\n",
    "    var = bad_var\n",
    "except FileNotFoundError:\n",
    "    print('sorry. this file does not exist')\n",
    "except Exception:\n",
    "    print('sorry. something went wrong')\n",
    "\n",
    "finally:\n",
    "    print('Executing finally...')"
   ]
  },
  {
   "cell_type": "markdown",
   "id": "8457119f",
   "metadata": {},
   "source": [
    "# F-String"
   ]
  },
  {
   "cell_type": "code",
   "execution_count": null,
   "id": "14716033",
   "metadata": {},
   "outputs": [],
   "source": [
    "#.format\n",
    "first_name = 'prasanthi'\n",
    "last_name = 'C'\n",
    "sentence = 'My name is {} {}'.format(first_name, last_name)\n",
    "print(sentence)"
   ]
  },
  {
   "cell_type": "code",
   "execution_count": null,
   "id": "6e98bd46",
   "metadata": {},
   "outputs": [],
   "source": [
    "#f-string\n",
    "sentence=f'My name is {first_name.upper()} {last_name.upper()}'\n",
    "print(sentence)\n"
   ]
  },
  {
   "cell_type": "code",
   "execution_count": null,
   "id": "461762cb",
   "metadata": {},
   "outputs": [],
   "source": [
    "#dictionary values using f-string\n",
    "\n",
    "person = {'name': 'prasanthi', 'age':23}\n",
    "\n",
    "# sentence = 'My name is {} and I am {} years old'.format(person ['name'], person ['age'])\n",
    "# print(sentence)\n",
    "\n",
    "#using f-string\n",
    "sentence = f\"My name is {person['name']} and I am {person['age']} years old\"\n",
    "print(sentence)"
   ]
  },
  {
   "cell_type": "code",
   "execution_count": null,
   "id": "6e9f16ea",
   "metadata": {},
   "outputs": [],
   "source": [
    "calculate = f'4 times 11 is equal to {4 * 11}'\n",
    "print(calculate)"
   ]
  },
  {
   "cell_type": "code",
   "execution_count": null,
   "id": "260f873c",
   "metadata": {},
   "outputs": [],
   "source": [
    "from datetime import datetime\n",
    "birthday = datetime(1990, 1, 1)\n",
    "sentence = f'Jenn has a birthday on {birthday}'\n",
    "print (sentence)"
   ]
  },
  {
   "cell_type": "markdown",
   "id": "5f3754f0",
   "metadata": {},
   "source": [
    "# Generators"
   ]
  },
  {
   "cell_type": "code",
   "execution_count": null,
   "id": "d6d3e96f",
   "metadata": {},
   "outputs": [],
   "source": [
    "def table(num):\n",
    "    \n",
    "    for i in range (1,11):\n",
    "        print(f'{num}X{i}={num*i}')\n",
    "\n",
    "table(6)"
   ]
  },
  {
   "cell_type": "code",
   "execution_count": null,
   "id": "67de6e60",
   "metadata": {},
   "outputs": [],
   "source": [
    "def table(num):\n",
    "    \n",
    "    for i in range (1,11):\n",
    "        return(f'{num}X{i}={num*i}')\n",
    "\n",
    "table(5)"
   ]
  },
  {
   "cell_type": "code",
   "execution_count": null,
   "id": "e3bf6898",
   "metadata": {},
   "outputs": [],
   "source": [
    "def table(num):\n",
    "    \n",
    "    for i in range (1,11):\n",
    "        yield f'{num}X{i}={num*i}'\n",
    "\n",
    "output=table(5)\n",
    "for value in output:\n",
    "    print(value)"
   ]
  },
  {
   "cell_type": "code",
   "execution_count": null,
   "id": "d523e274",
   "metadata": {},
   "outputs": [],
   "source": [
    "def cube():\n",
    "    n=1\n",
    "    while n<=10:\n",
    "        result = n**3\n",
    "        n+=1\n",
    "        return(result)\n",
    "x = cube()\n",
    "print(x)\n"
   ]
  },
  {
   "cell_type": "code",
   "execution_count": null,
   "id": "1e20f662",
   "metadata": {},
   "outputs": [],
   "source": [
    "def p():\n",
    "    yield 1            \n",
    "    yield 2            \n",
    "    yield 3\n",
    "    \n",
    "for value in p(): \n",
    "    print(value)"
   ]
  },
  {
   "cell_type": "markdown",
   "id": "f58f6a1c",
   "metadata": {},
   "source": [
    "   # Decorators"
   ]
  },
  {
   "cell_type": "code",
   "execution_count": 2,
   "id": "4700144e",
   "metadata": {},
   "outputs": [
    {
     "name": "stdout",
     "output_type": "stream",
     "text": [
      "Hi\n"
     ]
    }
   ],
   "source": [
    "def outer_function():\n",
    "    message = 'Hi'\n",
    "    \n",
    "    def inner_function():\n",
    "        print(message)\n",
    "    return inner_function()\n",
    "\n",
    "outer_function()\n"
   ]
  },
  {
   "cell_type": "code",
   "execution_count": 33,
   "id": "9b3dabc1",
   "metadata": {},
   "outputs": [
    {
     "ename": "TypeError",
     "evalue": "outer_function() missing 1 required positional argument: 'msg'",
     "output_type": "error",
     "traceback": [
      "\u001b[1;31m---------------------------------------------------------------------------\u001b[0m",
      "\u001b[1;31mTypeError\u001b[0m                                 Traceback (most recent call last)",
      "Input \u001b[1;32mIn [33]\u001b[0m, in \u001b[0;36m<cell line: 7>\u001b[1;34m()\u001b[0m\n\u001b[0;32m      5\u001b[0m         \u001b[38;5;28mprint\u001b[39m(message)\n\u001b[0;32m      6\u001b[0m     \u001b[38;5;28;01mreturn\u001b[39;00m innerfunction()\n\u001b[1;32m----> 7\u001b[0m myabc\u001b[38;5;241m=\u001b[39m \u001b[43mouter_function\u001b[49m\u001b[43m(\u001b[49m\u001b[43m)\u001b[49m\n",
      "\u001b[1;31mTypeError\u001b[0m: outer_function() missing 1 required positional argument: 'msg'"
     ]
    }
   ],
   "source": [
    "def outerfunction():\n",
    "    message = 'Hi'\n",
    "    \n",
    "    def innerfunction():\n",
    "        print(message)\n",
    "    return innerfunction()\n",
    "myabc= outer_function()\n",
    "# print(myabc)"
   ]
  },
  {
   "cell_type": "code",
   "execution_count": 17,
   "id": "adcdc0c9",
   "metadata": {},
   "outputs": [
    {
     "name": "stdout",
     "output_type": "stream",
     "text": [
      "Hi\n"
     ]
    }
   ],
   "source": [
    "myabc=outerfunction()\n"
   ]
  },
  {
   "cell_type": "code",
   "execution_count": 18,
   "id": "40f07bea",
   "metadata": {},
   "outputs": [
    {
     "ename": "TypeError",
     "evalue": "'NoneType' object is not callable",
     "output_type": "error",
     "traceback": [
      "\u001b[1;31m---------------------------------------------------------------------------\u001b[0m",
      "\u001b[1;31mTypeError\u001b[0m                                 Traceback (most recent call last)",
      "Input \u001b[1;32mIn [18]\u001b[0m, in \u001b[0;36m<cell line: 1>\u001b[1;34m()\u001b[0m\n\u001b[1;32m----> 1\u001b[0m \u001b[43mmyabc\u001b[49m\u001b[43m(\u001b[49m\u001b[43m)\u001b[49m\n",
      "\u001b[1;31mTypeError\u001b[0m: 'NoneType' object is not callable"
     ]
    }
   ],
   "source": [
    "myabc()"
   ]
  },
  {
   "cell_type": "code",
   "execution_count": 23,
   "id": "ba3793c8",
   "metadata": {},
   "outputs": [
    {
     "name": "stdout",
     "output_type": "stream",
     "text": [
      "hi\n",
      "bye\n"
     ]
    }
   ],
   "source": [
    "def outer_function(msg):\n",
    "    message = msg\n",
    "    \n",
    "    def inner_function():\n",
    "        print(message)\n",
    "    return inner_function\n",
    "\n",
    "hi_func = outer_function('hi')\n",
    "bye_func = outer_function('bye')\n",
    "\n",
    "hi_func()\n",
    "bye_func()"
   ]
  },
  {
   "cell_type": "code",
   "execution_count": 34,
   "id": "4e656d8b",
   "metadata": {},
   "outputs": [
    {
     "name": "stdout",
     "output_type": "stream",
     "text": [
      "Hi\n",
      "bye\n"
     ]
    }
   ],
   "source": [
    "def decorator_function(message):\n",
    "    def wrapper_function():\n",
    "        print(message)\n",
    "    return wrapper_function\n",
    "\n",
    "hi_fun = outer_function('Hi')\n",
    "bye_fun = outer_function('bye')\n",
    "\n",
    "hi_fun()\n",
    "bye_fun()"
   ]
  },
  {
   "cell_type": "code",
   "execution_count": 35,
   "id": "edc63368",
   "metadata": {},
   "outputs": [
    {
     "name": "stdout",
     "output_type": "stream",
     "text": [
      "display function ran\n"
     ]
    }
   ],
   "source": [
    "def decorator_function(original_function):\n",
    "    def wrapper_function():\n",
    "        return original_function()\n",
    "    return wrapper_function\n",
    "\n",
    "def display():\n",
    "    print('display function ran')\n",
    "    \n",
    "decorated_display = decorator_function(display)\n",
    "\n",
    "decorated_display()\n"
   ]
  },
  {
   "cell_type": "code",
   "execution_count": 39,
   "id": "fc2233eb",
   "metadata": {},
   "outputs": [
    {
     "name": "stdout",
     "output_type": "stream",
     "text": [
      "Excuted Before display_info\n",
      "display_info ran with arguments(John, 25)\n",
      "Executed After display_info \n",
      "\n",
      "Excuted Before display_info\n",
      "display_info ran with arguments(Travis, 30)\n",
      "Executed After display_info \n",
      "\n"
     ]
    }
   ],
   "source": [
    "def decorator_function(original_function):\n",
    "    def wrapper_function(*args, **kwargs):\n",
    "        print('Excuted Before', original_function.__name__)\n",
    "        result = original_function(*args, **kwargs)\n",
    "        print('Executed After', original_function.__name__, '\\n')\n",
    "        return result\n",
    "    return wrapper_function\n",
    "    \n",
    "@decorator_function\n",
    "def display_info(name, age):\n",
    "    print('display_info ran with arguments({}, {})'.format(name, age))\n",
    "    \n",
    "\n",
    "display_info('John', 25)\n",
    "display_info('Travis', 30)    "
   ]
  },
  {
   "cell_type": "code",
   "execution_count": 40,
   "id": "2de015a5",
   "metadata": {},
   "outputs": [
    {
     "name": "stdout",
     "output_type": "stream",
     "text": [
      "Excuted Before display_info\n",
      "display_info ran with arguments(John, 25)\n",
      "Executed After display_info \n",
      "\n",
      "Excuted Before display_info\n",
      "display_info ran with arguments(Travis, 30)\n",
      "Executed After display_info \n",
      "\n"
     ]
    }
   ],
   "source": [
    "def prefix_decorator(prefix):\n",
    "    def decorator_function(original_function):\n",
    "        def wrapper_function(*args, **kwargs):\n",
    "            print('Excuted Before', original_function.__name__)\n",
    "            result = original_function(*args, **kwargs)\n",
    "            print('Executed After', original_function.__name__, '\\n')\n",
    "            return result\n",
    "        return wrapper_function\n",
    "    return decorator_function\n",
    "\n",
    "@prefix_decorator('LOG:')\n",
    "def display_info(name, age):\n",
    "    print('display_info ran with arguments({}, {})'.format(name, age))\n",
    "    \n",
    "\n",
    "display_info('John', 25)\n",
    "display_info('Travis', 30)    "
   ]
  },
  {
   "cell_type": "code",
   "execution_count": null,
   "id": "a2914ebc",
   "metadata": {},
   "outputs": [],
   "source": []
  }
 ],
 "metadata": {
  "kernelspec": {
   "display_name": "Python 3 (ipykernel)",
   "language": "python",
   "name": "python3"
  },
  "language_info": {
   "codemirror_mode": {
    "name": "ipython",
    "version": 3
   },
   "file_extension": ".py",
   "mimetype": "text/x-python",
   "name": "python",
   "nbconvert_exporter": "python",
   "pygments_lexer": "ipython3",
   "version": "3.9.12"
  }
 },
 "nbformat": 4,
 "nbformat_minor": 5
}
