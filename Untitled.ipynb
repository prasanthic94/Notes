{
 "cells": [
  {
   "cell_type": "markdown",
   "id": "20fdad20",
   "metadata": {},
   "source": [
    "# String"
   ]
  },
  {
   "cell_type": "code",
   "execution_count": null,
   "id": "bd92a609",
   "metadata": {},
   "outputs": [],
   "source": [
    "print('welcome Message')\n",
    "print('Hello World')"
   ]
  },
  {
   "cell_type": "code",
   "execution_count": null,
   "id": "82386d32",
   "metadata": {},
   "outputs": [],
   "source": [
    "message = 'hello world'\n",
    "print(message)"
   ]
  },
  {
   "cell_type": "code",
   "execution_count": null,
   "id": "ac70cf6a",
   "metadata": {},
   "outputs": [],
   "source": [
    "message = 'Bobby's world'\n",
    "print(message)"
   ]
  },
  {
   "cell_type": "code",
   "execution_count": null,
   "id": "dd0b2a2f",
   "metadata": {},
   "outputs": [],
   "source": [
    "message = 'Bobby\\'s world'\n",
    "print (message)"
   ]
  },
  {
   "cell_type": "code",
   "execution_count": null,
   "id": "25da747d",
   "metadata": {},
   "outputs": [],
   "source": [
    "message = \"Bobby's world\"\n",
    "print (message)"
   ]
  },
  {
   "cell_type": "code",
   "execution_count": null,
   "id": "17e656fe",
   "metadata": {},
   "outputs": [],
   "source": [
    "message = 'Hello world'\n",
    "print (len(message))"
   ]
  },
  {
   "cell_type": "code",
   "execution_count": null,
   "id": "6a802926",
   "metadata": {},
   "outputs": [],
   "source": [
    "message = 'Hello world'\n",
    "print (message[0])"
   ]
  },
  {
   "cell_type": "code",
   "execution_count": null,
   "id": "c0cf956b",
   "metadata": {},
   "outputs": [],
   "source": [
    "message = 'Hello world'\n",
    "print (message[11])"
   ]
  },
  {
   "cell_type": "code",
   "execution_count": null,
   "id": "15953e91",
   "metadata": {},
   "outputs": [],
   "source": [
    "message = 'Hello world'\n",
    "print (message[:5])"
   ]
  },
  {
   "cell_type": "code",
   "execution_count": null,
   "id": "45c98699",
   "metadata": {},
   "outputs": [],
   "source": [
    "message = 'Hello world'\n",
    "print (message[6:])"
   ]
  },
  {
   "cell_type": "markdown",
   "id": "d1b54d30",
   "metadata": {},
   "source": [
    "For Lower & upper case print method"
   ]
  },
  {
   "cell_type": "code",
   "execution_count": null,
   "id": "3611a114",
   "metadata": {},
   "outputs": [],
   "source": [
    "message = 'Hello world'\n",
    "print (message.lower())"
   ]
  },
  {
   "cell_type": "code",
   "execution_count": null,
   "id": "20af753a",
   "metadata": {},
   "outputs": [],
   "source": [
    "message = 'Hello world'\n",
    "print (message.upper())"
   ]
  },
  {
   "cell_type": "markdown",
   "id": "1b062765",
   "metadata": {},
   "source": [
    "# COUNT METHOD"
   ]
  },
  {
   "cell_type": "code",
   "execution_count": null,
   "id": "1d0e4e17",
   "metadata": {},
   "outputs": [],
   "source": [
    "message = 'Hello world'\n",
    "print (message.count('Hello'))"
   ]
  },
  {
   "cell_type": "code",
   "execution_count": null,
   "id": "2d4b9eb7",
   "metadata": {},
   "outputs": [],
   "source": [
    "message = 'Hello world'\n",
    "print (message.count('l'))"
   ]
  },
  {
   "cell_type": "markdown",
   "id": "cfc5ff5c",
   "metadata": {},
   "source": [
    "Find Method"
   ]
  },
  {
   "cell_type": "code",
   "execution_count": null,
   "id": "fd94f967",
   "metadata": {},
   "outputs": [],
   "source": [
    "message = 'Hello world'\n",
    "print (message.find('world'))"
   ]
  },
  {
   "cell_type": "markdown",
   "id": "3a28a125",
   "metadata": {},
   "source": [
    "Replace Method"
   ]
  },
  {
   "cell_type": "code",
   "execution_count": null,
   "id": "6f96a7e2",
   "metadata": {},
   "outputs": [],
   "source": [
    "message = 'Hello world'\n",
    "\n",
    "new_message = message.replace('world','Universe')\n",
    "\n",
    "print (new_message)"
   ]
  },
  {
   "cell_type": "code",
   "execution_count": null,
   "id": "c4b55659",
   "metadata": {},
   "outputs": [],
   "source": [
    "message = 'Hello world'\n",
    "\n",
    "message = message.replace('world', 'Universe')\n",
    "\n",
    "print (message)\n",
    "print (new_message)"
   ]
  },
  {
   "cell_type": "code",
   "execution_count": null,
   "id": "3bc7c294",
   "metadata": {},
   "outputs": [],
   "source": [
    "greeting = 'Hello'\n",
    "name = 'prasanthi'\n",
    "\n",
    "message = greeting + name\n",
    "\n",
    "print (message)"
   ]
  },
  {
   "cell_type": "code",
   "execution_count": null,
   "id": "777d923a",
   "metadata": {},
   "outputs": [],
   "source": [
    "greeting = 'Hello'\n",
    "name = 'prasanthi'\n",
    "\n",
    "message = greeting +','+ name +'.Welcome!'\n",
    "\n",
    "print (message)"
   ]
  },
  {
   "cell_type": "markdown",
   "id": "4117eb30",
   "metadata": {},
   "source": [
    "Formatted string"
   ]
  },
  {
   "cell_type": "code",
   "execution_count": null,
   "id": "0fbca958",
   "metadata": {},
   "outputs": [],
   "source": [
    "greeting = 'Hello'\n",
    "name = 'prasanthi'\n",
    "\n",
    "message = greeting +','+ name +'.Welcome!'\n",
    "\n",
    "message = '{}, {}. welcome!'. format(greeting, name)\n",
    "\n",
    "print (message)"
   ]
  },
  {
   "cell_type": "code",
   "execution_count": null,
   "id": "a9c929a3",
   "metadata": {},
   "outputs": [],
   "source": [
    "greeting = 'Hello'\n",
    "name = 'prasanthi'\n",
    "\n",
    "message = greeting +','+ name +'.Welcome!'\n",
    "\n",
    "message = f'{greeting}, {name.upper()}. welcome!'\n",
    "\n",
    "print (message)"
   ]
  },
  {
   "cell_type": "code",
   "execution_count": null,
   "id": "6c45ef1e",
   "metadata": {},
   "outputs": [],
   "source": [
    "greeting = 'Hello'\n",
    "name = 'prasanthi'\n",
    "\n",
    "print (dir(name))"
   ]
  },
  {
   "cell_type": "code",
   "execution_count": null,
   "id": "4a547967",
   "metadata": {},
   "outputs": [],
   "source": [
    "greeting = 'Hello'\n",
    "name = 'prasanthi'\n",
    "\n",
    "print (help(str))"
   ]
  },
  {
   "cell_type": "markdown",
   "id": "db1b7ae2",
   "metadata": {},
   "source": [
    "Integers and Floats - Working with Numeric Data"
   ]
  },
  {
   "cell_type": "code",
   "execution_count": null,
   "id": "eae9cc88",
   "metadata": {},
   "outputs": [],
   "source": [
    "num =3\n",
    "\n",
    "print (type(num))"
   ]
  },
  {
   "cell_type": "code",
   "execution_count": null,
   "id": "ad9b2c72",
   "metadata": {},
   "outputs": [],
   "source": [
    "num =3.14\n",
    "\n",
    "print (type(num))"
   ]
  },
  {
   "cell_type": "markdown",
   "id": "c53b97f4",
   "metadata": {},
   "source": [
    "Arthimetic Operators\n"
   ]
  },
  {
   "cell_type": "code",
   "execution_count": null,
   "id": "72af8756",
   "metadata": {},
   "outputs": [],
   "source": [
    "# Addition: 3+2\n",
    "# Subtraction: 3-2\n",
    "# Multiplcation: 3*2\n",
    "# Division: 3/2\n",
    "# Floor Division: 3//2\n",
    "#Exponent: 3**2\n",
    "#Modulus: 3%2\n",
    "\n",
    "print (3 + 2)"
   ]
  },
  {
   "cell_type": "code",
   "execution_count": null,
   "id": "8b497e3e",
   "metadata": {},
   "outputs": [],
   "source": [
    "num =3\n",
    "\n",
    "num *= 9\n",
    "\n",
    "print(num)"
   ]
  },
  {
   "cell_type": "code",
   "execution_count": null,
   "id": "2bc53908",
   "metadata": {},
   "outputs": [],
   "source": [
    "print(abs(-3))\n",
    "print(round(3.75, 1))"
   ]
  },
  {
   "cell_type": "markdown",
   "id": "829d3123",
   "metadata": {},
   "source": [
    "Comparisons"
   ]
  },
  {
   "cell_type": "code",
   "execution_count": null,
   "id": "73916b60",
   "metadata": {},
   "outputs": [],
   "source": [
    "#Equal: 3 == 2\n",
    "#Not Equal: 3 !=2\n",
    "#Greater than: 3 > 2\n",
    "#Less than: 3 < 2\n",
    "#Greater or Equal: 3 >= 2\n",
    "#Less or Equal: 3 <=2\n",
    "\n",
    "num_1 = 3\n",
    "num_2 = 2\n",
    "\n",
    "print(num_1 >= num_2)"
   ]
  },
  {
   "cell_type": "markdown",
   "id": "c3f457a8",
   "metadata": {},
   "source": [
    "concatenates"
   ]
  },
  {
   "cell_type": "code",
   "execution_count": null,
   "id": "79e8cbda",
   "metadata": {},
   "outputs": [],
   "source": [
    "num_1 = '100'\n",
    "num_2 = '200'\n",
    "\n",
    "num_1 = int(num_1)\n",
    "num_2 = int(num_2)\n",
    "print(num_1 + num_2)"
   ]
  },
  {
   "cell_type": "markdown",
   "id": "e93ba1ce",
   "metadata": {},
   "source": [
    "variables and data types"
   ]
  },
  {
   "cell_type": "code",
   "execution_count": null,
   "id": "5b7ad2f7",
   "metadata": {},
   "outputs": [],
   "source": [
    "character_name = \"prasanthi\"\n",
    "character_age = \"25\"\n",
    "print('There once was a man named ' + character_name + ',')\n",
    "print('he was '+ character_age + ' years old ,' )\n",
    "print('he really like the name ' + character_name + ',')\n",
    "print(\"but didn't like being \" + character_age + '.')\n"
   ]
  },
  {
   "cell_type": "markdown",
   "id": "2527eabd",
   "metadata": {},
   "source": [
    "Getting inputs from users"
   ]
  },
  {
   "cell_type": "code",
   "execution_count": null,
   "id": "6a86e77d",
   "metadata": {},
   "outputs": [],
   "source": [
    "name = input('enter your name ')\n",
    "age = input ('enter you age ')\n",
    "\n",
    "print ( name + age)"
   ]
  },
  {
   "cell_type": "markdown",
   "id": "e6bcb99a",
   "metadata": {},
   "source": [
    "Lists,Tuples, and Sets"
   ]
  },
  {
   "cell_type": "code",
   "execution_count": null,
   "id": "d96edb27",
   "metadata": {},
   "outputs": [],
   "source": [
    "courses = ['history', 'maths', 'physics', 'telugu']\n",
    "courses_2 = ['Art','Education']\n",
    "courses. append('art')\n",
    "courses.insert(0, courses_2)\n",
    "courses.extend(courses_2)\n",
    "print(courses)\n",
    "print(len(courses))\n",
    "print(courses[0])\n",
    "print(courses[-1])\n",
    "print(courses[0:2])\n",
    "print(courses.index('art')) \n",
    "print(type(courses_2))"
   ]
  },
  {
   "cell_type": "code",
   "execution_count": null,
   "id": "2c20d4e6",
   "metadata": {},
   "outputs": [],
   "source": [
    "courses = ['history', 'maths', 'physics', 'telugu']\n",
    "courses_2 = ['Art','Education']\n",
    "courses.remove('maths')\n",
    "\n",
    "popped = courses.pop()\n",
    "\n",
    "courses. insert(0, courses_2)\n",
    "\n",
    "print(courses)\n",
    "print(courses_2)\n",
    "print(popped)\n",
    "print(type(courses))"
   ]
  },
  {
   "cell_type": "code",
   "execution_count": null,
   "id": "69e44b5f",
   "metadata": {},
   "outputs": [],
   "source": [
    "courses = ['history', 'maths', 'physics', 'telugu']\n",
    "nums = [1, 5, 4, 2,3]\n",
    "\n",
    "courses. reverse()\n",
    "courses. sort(reverse=True)\n",
    "nums.sort(reverse=True)\n",
    "sorted_courses = sorted(courses)\n",
    "print(courses)\n",
    "print(min(nums))\n"
   ]
  },
  {
   "cell_type": "code",
   "execution_count": null,
   "id": "e84d89e0",
   "metadata": {},
   "outputs": [],
   "source": [
    "courses = ['history', 'maths', 'physics', 'telugu']\n",
    "courses_str = '-'. join(courses)\n",
    "new_list = courses_str.split('-')\n",
    "\n",
    "print (courses_str)\n",
    "print (new_list)"
   ]
  },
  {
   "cell_type": "markdown",
   "id": "a2fd1773",
   "metadata": {},
   "source": [
    "# Dictionaries"
   ]
  },
  {
   "cell_type": "code",
   "execution_count": null,
   "id": "2973b77f",
   "metadata": {},
   "outputs": [],
   "source": [
    "dic={'name':'prasanthi','age':'20','phone':'9999922228'}\n",
    "\n",
    "print(dic['name'])\n",
    "print(len(dic))\n",
    "print(max(dic))\n",
    "print(min(dic))\n",
    "print(type(dic))"
   ]
  },
  {
   "cell_type": "code",
   "execution_count": null,
   "id": "1541623c",
   "metadata": {},
   "outputs": [],
   "source": [
    "dic={'name':'prasanthi','age':'20','phone':'9999922228'}\n",
    "dic[\"gender\"]=\"female\"\n",
    "dic.pop(\"phone\")\n",
    "\n",
    "print(dic)"
   ]
  },
  {
   "cell_type": "code",
   "execution_count": null,
   "id": "d6915f6e",
   "metadata": {},
   "outputs": [],
   "source": [
    "dic={'name':'prasanthi','age':'20','phone':'9999922228'}\n",
    "mydic=dict(dic)\n",
    "print(mydic)"
   ]
  },
  {
   "cell_type": "markdown",
   "id": "4008a07b",
   "metadata": {},
   "source": [
    "# Booleans"
   ]
  },
  {
   "cell_type": "code",
   "execution_count": null,
   "id": "d6ddbba8",
   "metadata": {},
   "outputs": [],
   "source": [
    "x=10>9\n",
    "print(x)"
   ]
  },
  {
   "cell_type": "code",
   "execution_count": null,
   "id": "d3ce646a",
   "metadata": {},
   "outputs": [],
   "source": [
    "x= 'Hello'\n",
    "y= 15\n",
    "print(bool(x))\n",
    "print(bool(y))"
   ]
  },
  {
   "cell_type": "markdown",
   "id": "f7ea9313",
   "metadata": {},
   "source": [
    "# Conditions"
   ]
  },
  {
   "cell_type": "code",
   "execution_count": null,
   "id": "3f53defc",
   "metadata": {},
   "outputs": [],
   "source": [
    "a=20\n",
    "b=30\n",
    "if b>a:\n",
    "   print('b is greater than a')\n",
    "else:\n",
    "    print('b is not greather than a')\n",
    "    "
   ]
  },
  {
   "cell_type": "code",
   "execution_count": null,
   "id": "f2a0dfb7",
   "metadata": {},
   "outputs": [],
   "source": [
    "a = 34\n",
    "b = 33\n",
    "if b > a:\n",
    "  print(\"b is greater than a\")\n",
    "elif a == b:\n",
    "  print(\"a and b are equal\")\n",
    "else:\n",
    "  print(\"b is not greater than a\")\n"
   ]
  },
  {
   "cell_type": "code",
   "execution_count": null,
   "id": "9ce432ba",
   "metadata": {},
   "outputs": [],
   "source": [
    "a = 200\n",
    "b = 33\n",
    "c = 400\n",
    "if a > b and c > a:\n",
    "  print(\"Both conditions are True\")"
   ]
  },
  {
   "cell_type": "code",
   "execution_count": null,
   "id": "c3a31932",
   "metadata": {},
   "outputs": [],
   "source": [
    "a = 200\n",
    "b = 33\n",
    "c = 500\n",
    "if a > b or a > c:\n",
    "  print(\"At least one of the conditions is True\")"
   ]
  },
  {
   "cell_type": "code",
   "execution_count": null,
   "id": "e52baefc",
   "metadata": {},
   "outputs": [],
   "source": [
    "x = 40\n",
    "\n",
    "if x > 10:\n",
    "  print(\"Above ten,\")\n",
    "  if x > 20:\n",
    "    print(\"and also above 20!\")\n",
    "  else:\n",
    "    print(\"but not above 20.\")"
   ]
  },
  {
   "cell_type": "markdown",
   "id": "d61188c9",
   "metadata": {},
   "source": [
    "#  Loops and Iterations"
   ]
  },
  {
   "cell_type": "code",
   "execution_count": null,
   "id": "5bdafcc8",
   "metadata": {},
   "outputs": [],
   "source": [
    "nums = [1,2,3,4,5]\n",
    "for num in nums:\n",
    "    if num == 3: \n",
    "        print('found')\n",
    "        break\n",
    "    print(num)\n",
    "        "
   ]
  },
  {
   "cell_type": "code",
   "execution_count": null,
   "id": "fae500c9",
   "metadata": {},
   "outputs": [],
   "source": [
    "nums = [1,2,3,4,5]\n",
    "for num in nums:\n",
    "    if num == 3:\n",
    "        print('found')\n",
    "        continue\n",
    "    print(num)"
   ]
  },
  {
   "cell_type": "code",
   "execution_count": null,
   "id": "73382601",
   "metadata": {},
   "outputs": [],
   "source": [
    "nums = [1,2,3,4,5]\n",
    "for num in nums:\n",
    "    for letter in 'abc':\n",
    "        print(num, letter)"
   ]
  },
  {
   "cell_type": "markdown",
   "id": "61b0ed99",
   "metadata": {},
   "source": [
    "# Functions"
   ]
  },
  {
   "cell_type": "code",
   "execution_count": null,
   "id": "25e73772",
   "metadata": {},
   "outputs": [],
   "source": [
    "def hello_fun():\n",
    "    nums = [1,2,3,4,5]\n",
    "for num in nums:\n",
    "    if num == 5:\n",
    "        print('found')\n",
    "        break\n",
    "    print(num)\n",
    "    \n",
    "hello_fun()\n",
    "\n"
   ]
  },
  {
   "cell_type": "markdown",
   "id": "b2aa87b3",
   "metadata": {},
   "source": [
    "# Import Modules"
   ]
  },
  {
   "cell_type": "code",
   "execution_count": null,
   "id": "f042973c",
   "metadata": {},
   "outputs": [],
   "source": [
    "import numpy as np\n",
    "y=np.array([2,4,6,8])"
   ]
  },
  {
   "cell_type": "code",
   "execution_count": null,
   "id": "39a9b1ef",
   "metadata": {},
   "outputs": [],
   "source": [
    "import my_mod as mod\n",
    "import find_index as find"
   ]
  },
  {
   "cell_type": "code",
   "execution_count": null,
   "id": "0d249293",
   "metadata": {},
   "outputs": [],
   "source": [
    "mod.my_mean(y)\n"
   ]
  },
  {
   "cell_type": "code",
   "execution_count": null,
   "id": "e5e24ced",
   "metadata": {},
   "outputs": [],
   "source": [
    "find.find_index"
   ]
  },
  {
   "cell_type": "markdown",
   "id": "f86ad344",
   "metadata": {},
   "source": [
    "# Local variable"
   ]
  },
  {
   "cell_type": "code",
   "execution_count": null,
   "id": "481caf49",
   "metadata": {},
   "outputs": [],
   "source": [
    "def local_test():\n",
    "    value=1\n",
    "    print('the value is define is: ',value)\n"
   ]
  },
  {
   "cell_type": "code",
   "execution_count": null,
   "id": "4193e705",
   "metadata": {},
   "outputs": [],
   "source": [
    "local_test()"
   ]
  },
  {
   "cell_type": "markdown",
   "id": "1e30eec8",
   "metadata": {},
   "source": [
    "# Global Variable"
   ]
  },
  {
   "cell_type": "code",
   "execution_count": null,
   "id": "c2b7ecb0",
   "metadata": {},
   "outputs": [],
   "source": [
    "message = \"global\"\n",
    "def python_developer():\n",
    "    developer=\"welcome to python program\"\n",
    "    print(message, developer)\n",
    "def developer_name(name):\n",
    "    print(message, name)\n",
    "\n",
    "    "
   ]
  },
  {
   "cell_type": "code",
   "execution_count": null,
   "id": "ffe59b31",
   "metadata": {},
   "outputs": [],
   "source": [
    "python_developer()\n",
    "developer_name(\"prasanthi\")"
   ]
  },
  {
   "cell_type": "markdown",
   "id": "c1123c36",
   "metadata": {},
   "source": [
    "# Enclose variable"
   ]
  },
  {
   "cell_type": "code",
   "execution_count": null,
   "id": "941332f1",
   "metadata": {},
   "outputs": [],
   "source": [
    "def parent_nest():\n",
    "    initial_value=5\n",
    "    def child_nest():\n",
    "        next_value=10\n",
    "        print(\"value define in the parent function:\", initial_value)\n",
    "        print(\"value define in the parent function:\", next_value)\n",
    "    child_nest()\n",
    "parent_nest()"
   ]
  },
  {
   "cell_type": "code",
   "execution_count": null,
   "id": "6415e662",
   "metadata": {},
   "outputs": [],
   "source": [
    "a=(\"a\",\"b\",\"c\",\"d\",\"e\",\"f\"\"g\",\"h\")\n",
    "x=slice(2)\n",
    "print(a[x])"
   ]
  },
  {
   "cell_type": "code",
   "execution_count": null,
   "id": "06ebbab0",
   "metadata": {},
   "outputs": [],
   "source": [
    "my_list = [1, 2, 3, 4, 5,6,7,8,9]\n",
    "        \n",
    "print(my_list[3:8:2])"
   ]
  },
  {
   "cell_type": "code",
   "execution_count": null,
   "id": "c57a5b2d",
   "metadata": {},
   "outputs": [],
   "source": [
    "list = [1,2,3,4,5,6,7,8,9]\n",
    "\n",
    "print(list[0:8:2])\n"
   ]
  },
  {
   "cell_type": "markdown",
   "id": "46528bc9",
   "metadata": {},
   "source": [
    "# String Slicing\n"
   ]
  },
  {
   "cell_type": "code",
   "execution_count": null,
   "id": "b75c1daa",
   "metadata": {},
   "outputs": [],
   "source": [
    "string = 'prasanthi'\n",
    "print(string[0:8:2])"
   ]
  },
  {
   "cell_type": "code",
   "execution_count": null,
   "id": "e2390b95",
   "metadata": {},
   "outputs": [],
   "source": [
    "s='mybacon'\n",
    "s[2:5]"
   ]
  },
  {
   "cell_type": "code",
   "execution_count": null,
   "id": "c4b49995",
   "metadata": {},
   "outputs": [],
   "source": [
    "s='mybacon'\n",
    "s[-4:-2]"
   ]
  },
  {
   "cell_type": "code",
   "execution_count": null,
   "id": "b43a0ed2",
   "metadata": {},
   "outputs": [],
   "source": [
    "#index_ 0, 1, 2, 3, 4, 5, 6\n",
    "lst = [50,70,30,20,90,10,50]\n",
    "print(lst[::])"
   ]
  },
  {
   "cell_type": "code",
   "execution_count": null,
   "id": "563934fa",
   "metadata": {},
   "outputs": [],
   "source": [
    "#index_ -7,-6,-5,-4,-3,-2,-1\n",
    "lst=[50,70,30,20,90,10,50]\n",
    "print(lst[-6::1])"
   ]
  },
  {
   "cell_type": "code",
   "execution_count": null,
   "id": "5b3e627b",
   "metadata": {},
   "outputs": [],
   "source": [
    "lst=[50,70,30,20,90,10,50]\n",
    "print(lst[2:6])"
   ]
  },
  {
   "cell_type": "code",
   "execution_count": null,
   "id": "8af356c0",
   "metadata": {},
   "outputs": [],
   "source": [
    "lst=[1,2,3,4,5,6,7,8,9]\n",
    "\n",
    "# Show original list\n",
    "print(\"\\nOriginal List:\\n\", lst)\n",
    " \n",
    "print(\"\\nSliced List: \")\n",
    "\n",
    "print(lst[3:9:2])\n",
    "print(lst[::2])\n",
    "print(lst[::])\n",
    "print(lst[:9:2])\n",
    "print(lst[3::2])\n",
    "print(lst[1:1:1])\n",
    "print(lst[-1:-1:-1])\n",
    "print(lst[10::2])\n"
   ]
  },
  {
   "cell_type": "code",
   "execution_count": null,
   "id": "7b5b5487",
   "metadata": {},
   "outputs": [],
   "source": [
    "lst = [-999, 'G4G', 1706256, '^_^', 3.1496]\n",
    "\n",
    "\n",
    "print(lst[1:1:1])\n",
    "print(lst[-1:-1:-1])\n",
    "print(lst[10::2])\n",
    "\n"
   ]
  },
  {
   "cell_type": "code",
   "execution_count": null,
   "id": "4d3a3a99",
   "metadata": {},
   "outputs": [],
   "source": [
    "lst = [-999, 'G4G', 1706256, '^_^', 3.1496]\n",
    "print(lst)\n",
    "lst[2:4] = ['Geeks', 'for', 'Geeks', '!']\n",
    "\n",
    "# Modified List\n",
    "print(lst)\n",
    "\n",
    "lst[:6] = []\n",
    "\n",
    "print(lst)\n"
   ]
  },
  {
   "cell_type": "code",
   "execution_count": null,
   "id": "cad31160",
   "metadata": {},
   "outputs": [],
   "source": [
    "lst = [1, 2, 3, 4, 5, 6, 7, 8, 9,11]\n",
    "newlist = lst[:2]+lst[7:]\n",
    "print(newlist)\n"
   ]
  },
  {
   "cell_type": "markdown",
   "id": "2172bd7a",
   "metadata": {},
   "source": [
    "# List Comprehensions"
   ]
  },
  {
   "cell_type": "code",
   "execution_count": null,
   "id": "b2575278",
   "metadata": {},
   "outputs": [],
   "source": [
    "[x for x in range (10)]"
   ]
  },
  {
   "cell_type": "code",
   "execution_count": null,
   "id": "09f6b0ef",
   "metadata": {},
   "outputs": [],
   "source": [
    "#list \n",
    "lst=[]\n",
    "\n",
    "for i in range(10):\n",
    "    if(i%2==0):\n",
    "        lst.append(i)\n",
    "print(lst)"
   ]
  },
  {
   "cell_type": "code",
   "execution_count": null,
   "id": "d7637fbe",
   "metadata": {},
   "outputs": [],
   "source": [
    "#list comprehensions\n",
    "lst=[i for i in range (10) if (i%3== 0)]\n",
    "print(lst)"
   ]
  },
  {
   "cell_type": "code",
   "execution_count": null,
   "id": "590666b5",
   "metadata": {},
   "outputs": [],
   "source": [
    "lst=[character for character in 'Geeks 4 Geeks']\n",
    "print(lst)"
   ]
  },
  {
   "cell_type": "code",
   "execution_count": null,
   "id": "7bc00600",
   "metadata": {},
   "outputs": [],
   "source": [
    "# Empty list\n",
    "List = []\n",
    "\n",
    "\n",
    "for character in 'Geeks 4 Geeks!':\n",
    "    List.append(character)\n",
    "\n",
    "# Display list\n",
    "print(List)\n"
   ]
  },
  {
   "cell_type": "code",
   "execution_count": null,
   "id": "3c19a25f",
   "metadata": {},
   "outputs": [],
   "source": [
    "num= [i*10 for i in range(1,6)]\n",
    "print(num)"
   ]
  },
  {
   "cell_type": "markdown",
   "id": "1fff7e4d",
   "metadata": {},
   "source": [
    "# Set Comprhenesions"
   ]
  },
  {
   "cell_type": "code",
   "execution_count": null,
   "id": "94055520",
   "metadata": {},
   "outputs": [],
   "source": [
    "x = [1, 2, 3, 4, 4, 5, 6, 6, 6, 7, 7]\n",
    "\n",
    "output_set = set()\n",
    "\n",
    "for var in x:\n",
    "    if var % 2 == 0:\n",
    "        output_set.add(var)\n",
    "\n",
    "print(output_set)\n"
   ]
  },
  {
   "cell_type": "code",
   "execution_count": null,
   "id": "3d040ab0",
   "metadata": {},
   "outputs": [],
   "source": [
    "x = [1, 2, 3, 4, 4, 5, 6, 6, 6, 7, 7]\n",
    "\n",
    "lst={var for var in x if var % 2 == 0}\n",
    "print(lst)"
   ]
  },
  {
   "cell_type": "markdown",
   "id": "5468ba65",
   "metadata": {},
   "source": [
    "# sorting"
   ]
  },
  {
   "cell_type": "code",
   "execution_count": null,
   "id": "d9201432",
   "metadata": {},
   "outputs": [],
   "source": [
    "elements=[]\n",
    "noofelements=int(input('enter the no of element:'))\n",
    "\n",
    "for i in range(noofelements):\n",
    "    element=int(input('enter the element:'))\n",
    "    elements.append(element)\n",
    "\n",
    "elements.sort(reverse=True)\n",
    "print(elements)"
   ]
  },
  {
   "cell_type": "markdown",
   "id": "ab04c3dd",
   "metadata": {},
   "source": [
    " "
   ]
  },
  {
   "cell_type": "code",
   "execution_count": null,
   "id": "f6e4791c",
   "metadata": {},
   "outputs": [],
   "source": [
    "elements=[]\n",
    "noofelements=int(input('enter the no of element:'))\n",
    "\n",
    "for i in range(noofelements):\n",
    "    element=input('enter the element:')\n",
    "    elements.append(element)\n",
    "\n",
    "elements.sort()\n",
    "print(elements)"
   ]
  },
  {
   "cell_type": "markdown",
   "id": "8c4fee61",
   "metadata": {},
   "source": [
    "# Tuple Sorting"
   ]
  },
  {
   "cell_type": "code",
   "execution_count": null,
   "id": "f335bcd3",
   "metadata": {},
   "outputs": [],
   "source": [
    "items = [(1,'B'), (1,'A'), (2,'A'), (2,'B'), (0,'a')]\n",
    "\n",
    "sorted_items = sorted(items)\n",
    "\n",
    "print(items)\n",
    "print(sorted_items)"
   ]
  },
  {
   "cell_type": "code",
   "execution_count": null,
   "id": "0d922c36",
   "metadata": {},
   "outputs": [],
   "source": [
    "li = [9,1,5,6,7,3,4,8]\n",
    "s_li=sorted(li)\n",
    "print('sorted variable:\\t', s_li)\n",
    "print('original variable:\\t', li)"
   ]
  },
  {
   "cell_type": "code",
   "execution_count": null,
   "id": "0fb574c1",
   "metadata": {},
   "outputs": [],
   "source": [
    "n_tuples = (6,9,3,1)\n",
    "n_tuple_sorted = sorted(n_tuples)\n",
    "n_tuple_sorted"
   ]
  },
  {
   "cell_type": "markdown",
   "id": "a07768c2",
   "metadata": {},
   "source": [
    "# Formatting with placeholder"
   ]
  },
  {
   "cell_type": "code",
   "execution_count": null,
   "id": "6167c7ac",
   "metadata": {},
   "outputs": [],
   "source": [
    "txt1=\"my name is {fname}, I'm {age}\""
   ]
  },
  {
   "cell_type": "code",
   "execution_count": null,
   "id": "cf47152c",
   "metadata": {},
   "outputs": [],
   "source": [
    "y=input('Enter you Name')\n",
    "print('Hi %s, how are you' %y)\n"
   ]
  },
  {
   "cell_type": "code",
   "execution_count": null,
   "id": "be3ef3be",
   "metadata": {},
   "outputs": [],
   "source": [
    "x, y = 'my','world'\n",
    "print('welcome to %s %r' %(x,y))"
   ]
  },
  {
   "cell_type": "markdown",
   "id": "9c8e1b86",
   "metadata": {},
   "source": [
    "# Formatting with .format()"
   ]
  },
  {
   "cell_type": "code",
   "execution_count": null,
   "id": "4da17b6a",
   "metadata": {},
   "outputs": [],
   "source": [
    "#'string here {} then also {}'.format('something1,','something2')"
   ]
  },
  {
   "cell_type": "code",
   "execution_count": null,
   "id": "6d92f63a",
   "metadata": {},
   "outputs": [],
   "source": [
    "print('The {} {} {}'.format('apple', 'banana', 'fox'))"
   ]
  },
  {
   "cell_type": "code",
   "execution_count": null,
   "id": "ff378c66",
   "metadata": {},
   "outputs": [],
   "source": [
    "#using indexing\n",
    "print('The {2} {1} {0}'.format('fox', 'tree', 'cut'))"
   ]
  },
  {
   "cell_type": "markdown",
   "id": "d50aba3b",
   "metadata": {},
   "source": [
    "# formatting with f-strings"
   ]
  },
  {
   "cell_type": "code",
   "execution_count": null,
   "id": "1880ed32",
   "metadata": {},
   "outputs": [],
   "source": [
    "name='prasanthi'\n",
    "print(f'She said her name is {name}' )"
   ]
  },
  {
   "cell_type": "code",
   "execution_count": null,
   "id": "b1ed1867",
   "metadata": {},
   "outputs": [],
   "source": [
    "score=95\n",
    "print(f'He score {score} marks in python')"
   ]
  },
  {
   "cell_type": "code",
   "execution_count": null,
   "id": "39445b1a",
   "metadata": {},
   "outputs": [],
   "source": [
    "person = {'name':'prasanthi', 'age':25}\n",
    "sentence = 'My name is' + person['name'] + 'and I am ' + str(person['age']) + 'years old.'\n",
    "print(sentence)"
   ]
  },
  {
   "cell_type": "code",
   "execution_count": null,
   "id": "67b98dce",
   "metadata": {},
   "outputs": [],
   "source": [
    "import os\n",
    "\n",
    "print(os.getcwd())"
   ]
  },
  {
   "cell_type": "code",
   "execution_count": null,
   "id": "f89de676",
   "metadata": {},
   "outputs": [],
   "source": [
    "import os\n",
    "\n",
    "def current_path(): \n",
    "    print(\"Current working directory before\") \n",
    "    print(os.getcwd()) \n",
    "    print()\n",
    "current_path() \n",
    "os.chdir('../')\n",
    "current_path() "
   ]
  },
  {
   "cell_type": "code",
   "execution_count": null,
   "id": "f4a0f9c1",
   "metadata": {},
   "outputs": [],
   "source": [
    "import os\n",
    "directory = \"prasanthi\"\n",
    "parent_dir = 'C:/desktop/'\n",
    "path = os.path.join(parent_dir, directory) \n",
    "print(\"Directory '% s' created\" % directory)\n",
    "print(os.getcwd()) \n"
   ]
  },
  {
   "cell_type": "code",
   "execution_count": null,
   "id": "84070505",
   "metadata": {},
   "outputs": [],
   "source": [
    "import os \n",
    "  \n",
    "# Get the list of all files and directories \n",
    "# in the root directory \n",
    "path = \"/\"\n",
    "print(path) \n",
    "print(dir_list)"
   ]
  },
  {
   "cell_type": "code",
   "execution_count": null,
   "id": "beaa3100",
   "metadata": {},
   "outputs": [],
   "source": [
    "import os \n",
    "print(os.name)"
   ]
  },
  {
   "cell_type": "markdown",
   "id": "6d05cf27",
   "metadata": {},
   "source": [
    "# Datetime"
   ]
  },
  {
   "cell_type": "code",
   "execution_count": null,
   "id": "121fe1fc",
   "metadata": {},
   "outputs": [],
   "source": [
    "import datetime\n",
    "x=datetime.datetime.now()\n",
    "print(x)"
   ]
  },
  {
   "cell_type": "code",
   "execution_count": null,
   "id": "80872dc3",
   "metadata": {},
   "outputs": [],
   "source": [
    "#year\n",
    "y=datetime.datetime.now().year\n",
    "print(y)"
   ]
  },
  {
   "cell_type": "code",
   "execution_count": null,
   "id": "25cf933b",
   "metadata": {},
   "outputs": [],
   "source": [
    "d=datetime.date(2020,6,12)\n",
    "print(d)"
   ]
  },
  {
   "cell_type": "code",
   "execution_count": null,
   "id": "9e53ca85",
   "metadata": {},
   "outputs": [],
   "source": [
    "tday=datetime.date.today()\n",
    "print(tday)\n",
    "print(tday.weekday())\n",
    "print(tday.isoweekday())"
   ]
  },
  {
   "cell_type": "code",
   "execution_count": null,
   "id": "e0f54a36",
   "metadata": {},
   "outputs": [],
   "source": [
    "tdelta=datetime.timedelta(days=7)\n",
    "print(tday - tdelta)\n",
    "print(tday + tdelta)"
   ]
  },
  {
   "cell_type": "code",
   "execution_count": null,
   "id": "c840d67c",
   "metadata": {},
   "outputs": [],
   "source": [
    "bday=datetime.date(1994, 3, 1)\n",
    "print(bday)\n",
    "\n",
    "till_bday= bday-tday\n",
    "print(till_bday)"
   ]
  },
  {
   "cell_type": "code",
   "execution_count": null,
   "id": "f00bec20",
   "metadata": {},
   "outputs": [],
   "source": [
    "t=datetime.time(9, 36, 45, 12000)\n",
    "print(t)\n",
    "print(t.hour)\n"
   ]
  },
  {
   "cell_type": "code",
   "execution_count": null,
   "id": "8f68fa58",
   "metadata": {},
   "outputs": [],
   "source": [
    "dt = datetime.datetime(2020, 6, 20, 12, 30, 45, 100000)\n",
    "print(dt)\n",
    "tdelta = datetime.timedelta(days=7)\n",
    "\n",
    "print(dt + tdelta)"
   ]
  },
  {
   "cell_type": "code",
   "execution_count": null,
   "id": "c7018623",
   "metadata": {},
   "outputs": [],
   "source": [
    "import pytz\n",
    "dt_utcnow = datetime.datetime.now(tz=pytz.utc)\n",
    "print(dt_utcnow)\n",
    "dt_mtn=datetime.datetime.now(pytz.timezone('us/mountain'))\n",
    "print(dt_mtn)"
   ]
  },
  {
   "cell_type": "code",
   "execution_count": null,
   "id": "1632b6db",
   "metadata": {},
   "outputs": [],
   "source": [
    "for tz in pytz.all_timezones:\n",
    "    print(tz)"
   ]
  },
  {
   "cell_type": "code",
   "execution_count": null,
   "id": "925a7e8b",
   "metadata": {},
   "outputs": [],
   "source": [
    "dt_mtn = datetime.datetime.now(tz=pytz.timezone('US/Mountain'))\n",
    "print(dt_mtn.strftime('%B, %d, %Y'))"
   ]
  },
  {
   "cell_type": "code",
   "execution_count": null,
   "id": "7915189f",
   "metadata": {},
   "outputs": [],
   "source": [
    "dt_str = 'july 26, 2020'\n",
    "dt = datetime.datetime.strptime(dt_str, '%B %d, %Y')\n",
    "print (dt)\n",
    "\n",
    "#strftime -datetime to string\n",
    "#strptime - string to datetime"
   ]
  },
  {
   "cell_type": "markdown",
   "id": "a7066961",
   "metadata": {},
   "source": [
    "# File Object"
   ]
  },
  {
   "cell_type": "code",
   "execution_count": null,
   "id": "8229e103",
   "metadata": {},
   "outputs": [],
   "source": [
    "f = open('C:\\\\Users\\\\pprasan1\\\\Desktop\\\\Python\\\\Notes\\\\sample.txt', 'r')\n",
    "\n",
    "print(f.name)\n",
    "print(f.mode)\n",
    "\n",
    "f.close()"
   ]
  },
  {
   "cell_type": "code",
   "execution_count": null,
   "id": "3e01f316",
   "metadata": {},
   "outputs": [],
   "source": [
    "with open ('C:\\\\Users\\\\pprasan1\\\\Desktop\\\\Python\\\\Notes\\\\sample.txt', 'r') as f:\n",
    "    pass\n",
    "print(f.mode)\n",
    "print(f.closed)\n"
   ]
  },
  {
   "cell_type": "code",
   "execution_count": null,
   "id": "b3cd5228",
   "metadata": {},
   "outputs": [],
   "source": [
    "with open ('C:\\\\Users\\\\pprasan1\\\\Desktop\\\\Python\\\\Notes\\\\sample.txt', 'r') as f:\n",
    "    f_contents = f.read()\n",
    "    print(f_contents)"
   ]
  },
  {
   "cell_type": "code",
   "execution_count": null,
   "id": "6d20c435",
   "metadata": {},
   "outputs": [],
   "source": [
    "with open ('C:\\\\Users\\\\pprasan1\\\\Desktop\\\\Python\\\\Notes\\\\sample.txt', 'r') as f:\n",
    "    f_contents = f.readlines()\n",
    "    print(f_contents)"
   ]
  },
  {
   "cell_type": "code",
   "execution_count": null,
   "id": "d1be5ca7",
   "metadata": {},
   "outputs": [],
   "source": [
    "with open ('C:\\\\Users\\\\pprasan1\\\\Desktop\\\\Python\\\\Notes\\\\sample.txt', 'r') as f:\n",
    "    f_contents = f.readline()\n",
    "    print(f_contents)\n",
    "    f_contents = f.readline()\n",
    "    print(f_contents)"
   ]
  },
  {
   "cell_type": "code",
   "execution_count": null,
   "id": "d87bf2a4",
   "metadata": {},
   "outputs": [],
   "source": [
    "with open ('C:\\\\Users\\\\pprasan1\\\\Desktop\\\\Python\\\\Notes\\\\sample.txt', 'r') as f:\n",
    "    size_to_read=10\n",
    "    f_contents=f.read(size_to_read)\n",
    "    \n",
    "    while len(f_contents) > 0:\n",
    "        print(f_contents, end='*')\n",
    "        f_contents=f.read(size_to_read)"
   ]
  },
  {
   "cell_type": "code",
   "execution_count": null,
   "id": "a5168a94",
   "metadata": {},
   "outputs": [],
   "source": [
    "with open ('C:\\\\Users\\\\pprasan1\\\\Desktop\\\\Python\\\\Notes\\\\sample.txt', 'r') as f:\n",
    "    size_to_read=10\n",
    "    f_contents=f.read(size_to_read)\n",
    "    \n",
    "    print(f.tell())"
   ]
  },
  {
   "cell_type": "code",
   "execution_count": null,
   "id": "f7f701eb",
   "metadata": {},
   "outputs": [],
   "source": [
    "with open ('C:\\\\Users\\\\pprasan1\\\\Desktop\\\\Python\\\\Notes\\\\sample1.txt', 'w') as f:\n",
    "    f.write('hello')\n",
    "    f.seek(0)\n",
    "    f.write('welcome')\n",
    "    "
   ]
  },
  {
   "cell_type": "markdown",
   "id": "d6d57a6a",
   "metadata": {},
   "source": [
    "# Parsing and Renaming\n",
    "    "
   ]
  },
  {
   "cell_type": "code",
   "execution_count": null,
   "id": "3a0647bd",
   "metadata": {},
   "outputs": [],
   "source": [
    "import os\n",
    "os.chdir('C:\\\\Users\\\\pprasan1\\\\Desktop\\\\Python\\\\Notes')\n",
    "print(os.getcwd())"
   ]
  },
  {
   "cell_type": "code",
   "execution_count": null,
   "id": "d1be48d1",
   "metadata": {},
   "outputs": [],
   "source": [
    "import os\n",
    "os.chdir('C:\\\\Users\\\\pprasan1\\\\Desktop\\\\Python\\\\Notes')\n",
    "\n",
    "for f in os.listdir():\n",
    "    print(f)"
   ]
  },
  {
   "cell_type": "code",
   "execution_count": null,
   "id": "9aeaf5ff",
   "metadata": {},
   "outputs": [],
   "source": [
    "import os\n",
    "os.chdir('C:\\\\Users\\\\pprasan1\\\\Desktop\\\\Python\\\\Notes')\n",
    "\n",
    "for f in os.listdir():\n",
    "    print(os.path.splitext(f))\n",
    "    "
   ]
  },
  {
   "cell_type": "code",
   "execution_count": null,
   "id": "4054f8df",
   "metadata": {},
   "outputs": [],
   "source": [
    "os.chdir('C:\\\\Users\\\\pprasan1\\\\Desktop\\\\Python\\\\New folder')\n",
    "for f in os.listdir():\n",
    "    f_name,f_ext = os.path.splitext(f)\n",
    "    #print(f_name.split('-'))\n",
    "    f_title,f_course,f_version,f_div, f_num = f_name.split('_')\n",
    "    f_title = f_title.strip()[1:].zfill(1)\n",
    "    f_course = f_course.strip()\n",
    "    f_version=f_version.strip()\n",
    "    f_div=f_div.strip()\n",
    "    f_num = f_num.strip()\n",
    "    \n",
    "    print('{}-{}-{}{}'.format(f_num, f_course, f_title, f_div, f_ext))"
   ]
  },
  {
   "cell_type": "markdown",
   "id": "13575924",
   "metadata": {},
   "source": [
    "# Random module"
   ]
  },
  {
   "cell_type": "code",
   "execution_count": null,
   "id": "17e3b1c8",
   "metadata": {},
   "outputs": [],
   "source": [
    "#randint()\n",
    "import random\n",
    "print(random.randint(1,9))"
   ]
  },
  {
   "cell_type": "code",
   "execution_count": null,
   "id": "83822290",
   "metadata": {},
   "outputs": [],
   "source": [
    "import random\n",
    "greeting = ['hello','hi','welcome','howdy']\n",
    "l = ['apple','jackfruit','life']\n",
    "print(random.choice(greeting))\n",
    "print(random.choice(l))"
   ]
  },
  {
   "cell_type": "code",
   "execution_count": null,
   "id": "1b42aaa4",
   "metadata": {},
   "outputs": [],
   "source": [
    "import random\n",
    "\n",
    "#s = ['cut', 'tree', 'house']\n",
    "p = list(range(1, 53))\n",
    "#random.shuffle(s)\n",
    "random.shuffle(p)\n",
    "#print(s)\n",
    "#print(deck)\n",
    "print(p)"
   ]
  },
  {
   "cell_type": "code",
   "execution_count": null,
   "id": "9c77cf3d",
   "metadata": {},
   "outputs": [],
   "source": [
    "m = ['sis', 'bro', 'mom', 'dad']\n",
    "print(random.sample(m,k=2))"
   ]
  },
  {
   "cell_type": "code",
   "execution_count": null,
   "id": "b3841234",
   "metadata": {},
   "outputs": [],
   "source": [
    "random.random()\n"
   ]
  },
  {
   "cell_type": "code",
   "execution_count": null,
   "id": "e342bf27",
   "metadata": {},
   "outputs": [],
   "source": [
    "import random\n",
    "v= random.uniform(1, 10)\n",
    "print(v)"
   ]
  },
  {
   "cell_type": "code",
   "execution_count": null,
   "id": "ed5155b4",
   "metadata": {},
   "outputs": [],
   "source": [
    "p = list(range(1, 53))\n",
    "print(p)"
   ]
  },
  {
   "cell_type": "markdown",
   "id": "01b4c7f4",
   "metadata": {},
   "source": [
    "# CSV"
   ]
  },
  {
   "cell_type": "code",
   "execution_count": null,
   "id": "5eaae69a",
   "metadata": {},
   "outputs": [],
   "source": [
    "import csv\n",
    "\n",
    "with open('CSV.csv', 'r') as csv_file:\n",
    "    csv_reader = csv.reader(csv_file)\n",
    "    \n",
    "    print(csv_reader)"
   ]
  },
  {
   "cell_type": "code",
   "execution_count": null,
   "id": "beac3b40",
   "metadata": {},
   "outputs": [],
   "source": [
    "with open('CSV.csv', 'r') as csv_file:\n",
    "    csv_reader = csv.reader(csv_file)\n",
    "    \n",
    "    for line in csv_reader:\n",
    "        \n",
    "        print(line[2])"
   ]
  },
  {
   "cell_type": "code",
   "execution_count": null,
   "id": "0644f64b",
   "metadata": {},
   "outputs": [],
   "source": [
    "with open('CSV.csv', 'r') as csv_file:\n",
    "    csv_reader = csv.reader(csv_file)\n",
    "    \n",
    "    next(csv_reader)\n",
    "    for line in csv_reader:\n",
    "        \n",
    "        print(line[2])"
   ]
  },
  {
   "cell_type": "code",
   "execution_count": null,
   "id": "def3d6d6",
   "metadata": {},
   "outputs": [],
   "source": [
    "with open('CSV.csv', 'r') as csv_file:\n",
    "    csv_reader = csv.reader(csv_file)\n",
    "    \n",
    "    with open('newCSV.csv', 'w') as new_file:\n",
    "        csv_writer = csv.writer (new_file, delimiter ='-')\n",
    "    \n",
    "        for line in csv_reader:\n",
    "            csv_writer.writerow(line)"
   ]
  },
  {
   "cell_type": "code",
   "execution_count": null,
   "id": "0657048d",
   "metadata": {},
   "outputs": [],
   "source": [
    "with open('CSV.csv', 'r') as csv_file:\n",
    "    csv_reader = csv.DictReader(csv_file)\n",
    "    \n",
    "    for line in csv_reader:\n",
    "        \n",
    "        print(line)"
   ]
  },
  {
   "cell_type": "code",
   "execution_count": null,
   "id": "43ae2949",
   "metadata": {},
   "outputs": [],
   "source": [
    "import csv \n",
    "with open('CSV.csv', 'r') as csv_file:\n",
    "    csv_reader = csv.DictReader(csv_file)\n",
    "    \n",
    "    with open('code.csv', 'w') as new_file:\n",
    "        field= ['Username','IdentifierFirstname','Lastname','Username','Identifier','firstname','Last name']\n",
    "                \n",
    "        csv_writer = csv.DictWriter(new_file, field=field, delimiter ='\\t')\n",
    "        \n",
    "        csv_writer.writeheader()\n",
    "        \n",
    "        for line in csv_reader:\n",
    "            csv_writer.writerow(line)"
   ]
  },
  {
   "cell_type": "code",
   "execution_count": null,
   "id": "15bec407",
   "metadata": {},
   "outputs": [],
   "source": [
    "import pandas as pd\n",
    "\n",
    "pd.read_csv('C:\\\\Users\\\\pprasan1\\\\Desktop\\\\Python\\\\Notes\\\\code.csv')"
   ]
  },
  {
   "cell_type": "code",
   "execution_count": null,
   "id": "c5d4c0bb",
   "metadata": {},
   "outputs": [],
   "source": [
    "pd.read_csv('code.csv', usecols =['network_id'])"
   ]
  },
  {
   "cell_type": "code",
   "execution_count": null,
   "id": "c81b4701",
   "metadata": {},
   "outputs": [],
   "source": [
    "network_id = pd.read_csv('code.csv', usecols =['network_id'], squeeze= True)"
   ]
  },
  {
   "cell_type": "code",
   "execution_count": null,
   "id": "9fde752d",
   "metadata": {},
   "outputs": [],
   "source": [
    "network_id"
   ]
  },
  {
   "cell_type": "code",
   "execution_count": null,
   "id": "26a06d49",
   "metadata": {},
   "outputs": [],
   "source": [
    "import pandas as pd\n",
    "\n",
    "data = pd.read_csv('Weather.csv')\n"
   ]
  },
  {
   "cell_type": "code",
   "execution_count": null,
   "id": "6c7104ed",
   "metadata": {},
   "outputs": [],
   "source": [
    "data"
   ]
  },
  {
   "cell_type": "markdown",
   "id": "8245d444",
   "metadata": {},
   "source": [
    "# Error Handling"
   ]
  },
  {
   "cell_type": "code",
   "execution_count": null,
   "id": "fd0cf2fb",
   "metadata": {},
   "outputs": [],
   "source": [
    "try:\n",
    "    print(s)\n",
    "\n",
    "except:\n",
    "    print('except')"
   ]
  },
  {
   "cell_type": "code",
   "execution_count": null,
   "id": "db8e9dd1",
   "metadata": {},
   "outputs": [],
   "source": [
    "try:\n",
    "    print(s)\n",
    "except Exception as e:\n",
    "    print(e)"
   ]
  },
  {
   "cell_type": "code",
   "execution_count": null,
   "id": "9bb2e48e",
   "metadata": {},
   "outputs": [],
   "source": [
    "try:\n",
    "    print(s)\n",
    "except Exception as e:\n",
    "    print(e)\n",
    "finally:\n",
    "    print('this is final')"
   ]
  },
  {
   "cell_type": "code",
   "execution_count": null,
   "id": "e0d07c17",
   "metadata": {},
   "outputs": [],
   "source": [
    "s='prasanthi'\n",
    "k=1\n",
    "try:\n",
    "    print(s + k)\n",
    "except Exception as e:\n",
    "    print(e)\n",
    "finally:\n",
    "    print('this is final')"
   ]
  },
  {
   "cell_type": "code",
   "execution_count": null,
   "id": "0f10200e",
   "metadata": {},
   "outputs": [],
   "source": [
    "x=-1\n",
    "if x<0:\n",
    "    raise Exception(\"this is raise\")"
   ]
  },
  {
   "cell_type": "code",
   "execution_count": null,
   "id": "d0b9a1fb",
   "metadata": {},
   "outputs": [],
   "source": [
    "#zero division error\n",
    "s=0\n",
    "try:\n",
    "    print(1/s)\n",
    "except Exception as e:\n",
    "    print(e)"
   ]
  },
  {
   "cell_type": "code",
   "execution_count": null,
   "id": "1b4e3a1e",
   "metadata": {},
   "outputs": [],
   "source": [
    "try:\n",
    "    num1 = 7\n",
    "    num2 = 0 \n",
    "    print('hello')\n",
    "    print(num1/num2)\n",
    "except:\n",
    "    print('zero division error')"
   ]
  },
  {
   "cell_type": "code",
   "execution_count": null,
   "id": "d577ac9f",
   "metadata": {},
   "outputs": [],
   "source": [
    "#multiple exception error\n",
    "\n",
    "try:\n",
    "    variable=10\n",
    "    print(variable + 'hello')\n",
    "    print(variable/2)\n",
    "except ZeroDivisionError:\n",
    "    print('Division by zero')\n",
    "except (ValueError, TypeError):\n",
    "    print('Error occurred ')"
   ]
  },
  {
   "cell_type": "code",
   "execution_count": null,
   "id": "2e343ccf",
   "metadata": {},
   "outputs": [],
   "source": [
    "#which type error\n",
    "try:\n",
    "    a='spam'\n",
    "    print( a / 0)\n",
    "except:\n",
    "    print('An error occurred')"
   ]
  },
  {
   "cell_type": "code",
   "execution_count": null,
   "id": "c1d4622f",
   "metadata": {},
   "outputs": [],
   "source": [
    "try:\n",
    "    f = open('test_file.txt')\n",
    "    var = bad_var\n",
    "except FileNotFoundError:\n",
    "    print('sorry. this file does not exist')\n",
    "except Exception:\n",
    "    print('sorry. something went wrong')\n",
    "\n",
    "finally:\n",
    "    print('Executing finally...')"
   ]
  },
  {
   "cell_type": "markdown",
   "id": "adace0fb",
   "metadata": {},
   "source": [
    "# F-String"
   ]
  },
  {
   "cell_type": "code",
   "execution_count": null,
   "id": "57db2471",
   "metadata": {},
   "outputs": [],
   "source": [
    "#.format\n",
    "first_name = 'prasanthi'\n",
    "last_name = 'C'\n",
    "sentence = 'My name is {} {}'.format(first_name, last_name)\n",
    "print(sentence)"
   ]
  },
  {
   "cell_type": "code",
   "execution_count": null,
   "id": "bef04a58",
   "metadata": {},
   "outputs": [],
   "source": [
    "#f-string\n",
    "sentence=f'My name is {first_name.upper()} {last_name.upper()}'\n",
    "print(sentence)\n"
   ]
  },
  {
   "cell_type": "code",
   "execution_count": null,
   "id": "698d0a84",
   "metadata": {},
   "outputs": [],
   "source": [
    "#dictionary values using f-string\n",
    "\n",
    "person = {'name': 'prasanthi', 'age':23}\n",
    "\n",
    "# sentence = 'My name is {} and I am {} years old'.format(person ['name'], person ['age'])\n",
    "# print(sentence)\n",
    "\n",
    "#using f-string\n",
    "sentence = f\"My name is {person['name']} and I am {person['age']} years old\"\n",
    "print(sentence)"
   ]
  },
  {
   "cell_type": "code",
   "execution_count": null,
   "id": "9afea899",
   "metadata": {},
   "outputs": [],
   "source": [
    "calculate = f'4 times 11 is equal to {4 * 11}'\n",
    "print(calculate)"
   ]
  },
  {
   "cell_type": "code",
   "execution_count": null,
   "id": "4065503b",
   "metadata": {},
   "outputs": [],
   "source": [
    "from datetime import datetime\n",
    "birthday = datetime(1990, 1, 1)\n",
    "sentence = f'Jenn has a birthday on {birthday}'\n",
    "print (sentence)"
   ]
  },
  {
   "cell_type": "markdown",
   "id": "9c56e8f6",
   "metadata": {},
   "source": [
    "# Generators"
   ]
  },
  {
   "cell_type": "code",
   "execution_count": null,
   "id": "4c2aac90",
   "metadata": {},
   "outputs": [],
   "source": [
    "def table(num):\n",
    "    \n",
    "    for i in range (1,11):\n",
    "        print(f'{num}X{i}={num*i}')\n",
    "\n",
    "table(6)"
   ]
  },
  {
   "cell_type": "code",
   "execution_count": null,
   "id": "6f7460a2",
   "metadata": {},
   "outputs": [],
   "source": [
    "def table(num):\n",
    "    \n",
    "    for i in range (1,11):\n",
    "        return(f'{num}X{i}={num*i}')\n",
    "\n",
    "table(5)"
   ]
  },
  {
   "cell_type": "code",
   "execution_count": null,
   "id": "6c63bdf7",
   "metadata": {},
   "outputs": [],
   "source": [
    "def table(num):\n",
    "    \n",
    "    for i in range (1,11):\n",
    "        yield f'{num}X{i}={num*i}'\n",
    "\n",
    "output=table(5)\n",
    "for value in output:\n",
    "    print(value)"
   ]
  },
  {
   "cell_type": "code",
   "execution_count": null,
   "id": "630633c0",
   "metadata": {},
   "outputs": [],
   "source": [
    "def cube():\n",
    "    n=1\n",
    "    while n<=10:\n",
    "        result = n**3\n",
    "        n+=1\n",
    "        return(result)\n",
    "x = cube()\n",
    "print(x)\n"
   ]
  },
  {
   "cell_type": "code",
   "execution_count": null,
   "id": "857ee90f",
   "metadata": {},
   "outputs": [],
   "source": [
    "def p():\n",
    "    yield 1            \n",
    "    yield 2            \n",
    "    yield 3\n",
    "    \n",
    "for value in p(): \n",
    "    print(value)"
   ]
  },
  {
   "cell_type": "markdown",
   "id": "a3cf3b12",
   "metadata": {},
   "source": [
    "   # Decorators"
   ]
  },
  {
   "cell_type": "code",
   "execution_count": null,
   "id": "789bed11",
   "metadata": {},
   "outputs": [],
   "source": [
    "def outer_function():\n",
    "    message = 'Hi'\n",
    "    \n",
    "    def inner_function():\n",
    "        print(message)\n",
    "    return inner_function()\n",
    "\n",
    "outer_function()\n"
   ]
  },
  {
   "cell_type": "code",
   "execution_count": null,
   "id": "ffc4b251",
   "metadata": {},
   "outputs": [],
   "source": [
    "def outerfunction():\n",
    "    message = 'Hi'\n",
    "    \n",
    "    def innerfunction():\n",
    "        print(message)\n",
    "    return innerfunction()\n",
    "myabc= outer_function()\n",
    "# print(myabc)"
   ]
  },
  {
   "cell_type": "code",
   "execution_count": null,
   "id": "10937a52",
   "metadata": {},
   "outputs": [],
   "source": [
    "myabc=outerfunction()\n"
   ]
  },
  {
   "cell_type": "code",
   "execution_count": null,
   "id": "11f32d01",
   "metadata": {},
   "outputs": [],
   "source": [
    "myabc()"
   ]
  },
  {
   "cell_type": "code",
   "execution_count": null,
   "id": "2fa74171",
   "metadata": {},
   "outputs": [],
   "source": [
    "def outer_function(msg):\n",
    "    message = msg\n",
    "    \n",
    "    def inner_function():\n",
    "        print(message)\n",
    "    return inner_function\n",
    "\n",
    "hi_func = outer_function('hi')\n",
    "bye_func = outer_function('bye')\n",
    "\n",
    "hi_func()\n",
    "bye_func()"
   ]
  },
  {
   "cell_type": "code",
   "execution_count": null,
   "id": "6f36a5a8",
   "metadata": {},
   "outputs": [],
   "source": [
    "def decorator_function(message):\n",
    "    def wrapper_function():\n",
    "        print(message)\n",
    "    return wrapper_function\n",
    "\n",
    "hi_fun = outer_function('Hi')\n",
    "bye_fun = outer_function('bye')\n",
    "\n",
    "hi_fun()\n",
    "bye_fun()"
   ]
  },
  {
   "cell_type": "code",
   "execution_count": null,
   "id": "ba05b982",
   "metadata": {},
   "outputs": [],
   "source": [
    "def decorator_function(original_function):\n",
    "    def wrapper_function():\n",
    "        return original_function()\n",
    "    return wrapper_function\n",
    "\n",
    "def display():\n",
    "    print('display function ran')\n",
    "    \n",
    "decorated_display = decorator_function(display)\n",
    "\n",
    "decorated_display()\n"
   ]
  },
  {
   "cell_type": "code",
   "execution_count": null,
   "id": "f59e01bf",
   "metadata": {},
   "outputs": [],
   "source": [
    "def decorator_function(original_function):\n",
    "    def wrapper_function(*args, **kwargs):\n",
    "        print('Excuted Before', original_function.__name__)\n",
    "        result = original_function(*args, **kwargs)\n",
    "        print('Executed After', original_function.__name__, '\\n')\n",
    "        return result\n",
    "    return wrapper_function\n",
    "    \n",
    "@decorator_function\n",
    "def display_info(name, age):\n",
    "    print('display_info ran with arguments({}, {})'.format(name, age))\n",
    "    \n",
    "\n",
    "display_info('John', 25)\n",
    "display_info('Travis', 30)    "
   ]
  },
  {
   "cell_type": "code",
   "execution_count": null,
   "id": "bc003e0a",
   "metadata": {},
   "outputs": [],
   "source": [
    "def prefix_decorator(prefix):\n",
    "    def decorator_function(original_function):\n",
    "        def wrapper_function(*args, **kwargs):\n",
    "            print('Excuted Before', original_function.__name__)\n",
    "            result = original_function(*args, **kwargs)\n",
    "            print('Executed After', original_function.__name__, '\\n')\n",
    "            return result\n",
    "        return wrapper_function\n",
    "    return decorator_function\n",
    "\n",
    "@prefix_decorator('LOG:')\n",
    "def display_info(name, age):\n",
    "    print('display_info ran with arguments({}, {})'.format(name, age))\n",
    "    \n",
    "\n",
    "display_info('John', 25)\n",
    "display_info('Travis', 30)    "
   ]
  },
  {
   "cell_type": "code",
   "execution_count": null,
   "id": "62c9b605",
   "metadata": {},
   "outputs": [],
   "source": [
    "print(__name__)"
   ]
  },
  {
   "cell_type": "code",
   "execution_count": null,
   "id": "4873125d",
   "metadata": {},
   "outputs": [],
   "source": [
    "print (\"First Module's Name: {}\". format(__name__))"
   ]
  },
  {
   "cell_type": "code",
   "execution_count": null,
   "id": "ba5917bd",
   "metadata": {},
   "outputs": [],
   "source": [
    "def main():\n",
    "    print (\"First Module's Name: {}\". format(__name__))\n",
    "\n",
    "if __name__ == '__main__':\n",
    "    main()"
   ]
  },
  {
   "cell_type": "markdown",
   "id": "5787fe50",
   "metadata": {},
   "source": [
    "# SQLite"
   ]
  },
  {
   "cell_type": "code",
   "execution_count": null,
   "id": "83c7f3df",
   "metadata": {},
   "outputs": [],
   "source": [
    "import sqlite3\n",
    "from employee import Employee\n",
    "\n",
    "conn = sqlite3.connect('employee.db')\n",
    "c = conn.cursor()\n",
    "\n",
    "# c.execute(\"\"\"CREATE TABLE employees (\n",
    "#            first text,\n",
    "#            last text,\n",
    "#            pay integer\n",
    "#            )\"\"\")\n",
    "\n",
    "emp_1 = Employee('John', \"Doe\", 80000)\n",
    "emp_2 = Employee('Jane', 'Doe', 90000)\n",
    "\n",
    "print(emp_1.first)\n",
    "print(emp_1.last)\n",
    "print(emp_1.pay)\n",
    "\n",
    "c.execute(\"INSERT INTO employees VALUES ('Prasanthi','Chi', 50000)\")\n",
    "\n",
    "conn.commit()\n",
    "\n",
    "c.execute(\"SELECT * FROM employees WHERE last= 'Chi'\")\n",
    "\n",
    "print(c.fetchall())\n",
    "\n",
    "conn.commit()\n",
    "\n",
    "conn.close"
   ]
  },
  {
   "cell_type": "code",
   "execution_count": null,
   "id": "dcb4bdd7",
   "metadata": {},
   "outputs": [],
   "source": [
    "import sqlite3\n",
    "from employee import Employee\n",
    "\n",
    "conn = sqlite3.connect('employee.db')\n",
    "c = conn.cursor()\n",
    "\n",
    "c.execute(\"\"\"CREATE TABLE employees (\n",
    "           first text,\n",
    "           last text,\n",
    "           pay integer\n",
    "           )\"\"\")\n",
    "\n",
    "emp_1 = Employee('John', \"Doe\", 80000)\n",
    "emp_2 = Employee('Jane', 'Doe', 90000)\n",
    "\n",
    "\n",
    "c.execute(\"INSERT INTO employees VALUES (?, ?, ?)\", (emp_1.first, emp_1.last,emp_1.pay))\n",
    "\n",
    "conn.commit()\n",
    "\n",
    "c.execute(\"INSERT INTO employees VALUES (:first, :last, :pay)\", {'first': emp_2.first, 'last': emp_2.last, 'pay': emp_2.pay})\n",
    "\n",
    "conn.commit()\n",
    "\n",
    "c.execute(\"SELECT * FROM employees WHERE last= 'Chi'\")\n",
    "\n",
    "print(c.fetchall())\n",
    "\n",
    "conn.commit()\n",
    "\n",
    "conn.close"
   ]
  },
  {
   "cell_type": "code",
   "execution_count": null,
   "id": "55af724e",
   "metadata": {},
   "outputs": [],
   "source": [
    "import sqlite3\n",
    "from employee import Employee\n",
    "\n",
    "conn = sqlite3.connect('employee.db')\n",
    "\n",
    "c = conn.cursor()\n",
    "\n",
    "# c.execute(\"\"\"CREATE TABLE employees (\n",
    "#            first text,\n",
    "#            last text,\n",
    "#            pay integer\n",
    "#            )\"\"\")\n",
    "\n",
    "emp_1 = Employee('John', \"Doe\", 80000)\n",
    "emp_2 = Employee('Jane', 'Doe', 90000)\n",
    "\n",
    "\n",
    "c.execute(\"SELECT * FROM employees WHERE last=?\",('chi' ,))\n",
    "\n",
    "print(c.fetchall())\n",
    "\n",
    "c.execute(\"SELECT * FROM employees WHERE last=:last\", {'last': 'Doe'})\n",
    "\n",
    "print(c.fetchall())\n",
    "\n",
    "conn.commit()\n",
    "\n",
    "conn.close()"
   ]
  },
  {
   "cell_type": "markdown",
   "id": "e3cb03c6",
   "metadata": {},
   "source": [
    "# re module"
   ]
  },
  {
   "cell_type": "code",
   "execution_count": null,
   "id": "154fb311",
   "metadata": {},
   "outputs": [],
   "source": [
    "print(r'\\tTab')"
   ]
  },
  {
   "cell_type": "code",
   "execution_count": null,
   "id": "e04e45cd",
   "metadata": {},
   "outputs": [],
   "source": [
    "import re\n",
    "txt = \"The rain in spain\"\n",
    "x = re.search('^The.*spain', txt)\n",
    "if x:\n",
    "    print(\"YES! We found it\")\n",
    "else:\n",
    "    print('Oops, no text')"
   ]
  },
  {
   "cell_type": "code",
   "execution_count": null,
   "id": "3ba9c15b",
   "metadata": {},
   "outputs": [],
   "source": [
    "import re\n",
    "txt = \"The rain in Spain\"\n",
    "x = re.search('^The.*spain$', txt)\n",
    "if x:\n",
    "    print(\"YES! We found it\")\n",
    "else:\n",
    "    print('Oops, no text')"
   ]
  },
  {
   "cell_type": "code",
   "execution_count": null,
   "id": "d82234fe",
   "metadata": {},
   "outputs": [],
   "source": [
    "#Metacharacters\n",
    "import re\n",
    "txt = \"The rain in Spain\"\n",
    "#Find all lower case characters alphabetically between 'a' and 'm'\n",
    "x=re.findall('[a-m]', txt)\n",
    "print(x)"
   ]
  },
  {
   "cell_type": "code",
   "execution_count": null,
   "id": "7dcfda32",
   "metadata": {},
   "outputs": [],
   "source": [
    "import re\n",
    "txt = \"2004-959-559 # This is Phone Number\"\n",
    "#line = \"Cats are smarter than dogs\"\n",
    "#escape special characters\n",
    "x=re.findall('\\d', txt)\n",
    "#x=re.findall('\\d', line)\n",
    "print(x)"
   ]
  },
  {
   "cell_type": "code",
   "execution_count": null,
   "id": "2c53826b",
   "metadata": {},
   "outputs": [],
   "source": [
    "#Any character (except newline character) \"he..o\"\n",
    "\n",
    "import re\n",
    "\n",
    "txt = \"hello planet Cats are smarter than dogs\"\n",
    "\n",
    "#Search for a sequence that starts with \"he\", followed by two (any) characters, and an \"o\":\n",
    "\n",
    "x = re.findall(\"he..o\", txt)\n",
    "y = re.findall(\"sm...er\", txt)\n",
    "print(x , y)"
   ]
  },
  {
   "cell_type": "code",
   "execution_count": 80,
   "id": "d71a75de",
   "metadata": {},
   "outputs": [
    {
     "name": "stdout",
     "output_type": "stream",
     "text": [
      "<re.Match object; span=(2, 5), match='abc'>\n"
     ]
    }
   ],
   "source": [
    "import re\n",
    "text_to_search = '''\n",
    "\n",
    "abcdefghijklmnopqrstuvwxyz\n",
    "ABCDEFGHIJKLMNOPQRSTUVWXYZ\n",
    "1234567890\n",
    "\n",
    "Ha HaHa\n",
    "\n",
    "MetaCharacters (Need to be escaped):\n",
    ". ^ $ * + ? {} [] \\ | ()\n",
    "\n",
    "coreyms.com\n",
    "\n",
    "321-555-4321\n",
    "123.555.1234\n",
    "999*333*5554\n",
    "\n",
    "Mr. Schafer\n",
    "Mr Smith\n",
    "Ms Davis\n",
    "Mrs. Robinson\n",
    "Mr. \n",
    "\n",
    "cat\n",
    "mat\n",
    "pat\n",
    "bat\n",
    "\n",
    "'''\n",
    "sentence = 'Start a sentence and then bring it to an end'\n",
    "\n",
    "# print(r'\\tTab')\n",
    "\n",
    "pattern = re.compile(r'abc')\n",
    "\n",
    "matches = pattern.finditer(text_to_search)\n",
    "                      \n",
    "for match in matches:\n",
    "    print (match)\n"
   ]
  },
  {
   "cell_type": "code",
   "execution_count": 81,
   "id": "b76f49a3",
   "metadata": {
    "scrolled": true
   },
   "outputs": [
    {
     "name": "stdout",
     "output_type": "stream",
     "text": [
      "<re.Match object; span=(2, 3), match='a'>\n",
      "<re.Match object; span=(3, 4), match='b'>\n",
      "<re.Match object; span=(4, 5), match='c'>\n",
      "<re.Match object; span=(5, 6), match='d'>\n",
      "<re.Match object; span=(6, 7), match='e'>\n",
      "<re.Match object; span=(7, 8), match='f'>\n",
      "<re.Match object; span=(8, 9), match='g'>\n",
      "<re.Match object; span=(9, 10), match='h'>\n",
      "<re.Match object; span=(10, 11), match='i'>\n",
      "<re.Match object; span=(11, 12), match='j'>\n",
      "<re.Match object; span=(12, 13), match='k'>\n",
      "<re.Match object; span=(13, 14), match='l'>\n",
      "<re.Match object; span=(14, 15), match='m'>\n",
      "<re.Match object; span=(15, 16), match='n'>\n",
      "<re.Match object; span=(16, 17), match='o'>\n",
      "<re.Match object; span=(17, 18), match='p'>\n",
      "<re.Match object; span=(18, 19), match='q'>\n",
      "<re.Match object; span=(19, 20), match='r'>\n",
      "<re.Match object; span=(20, 21), match='s'>\n",
      "<re.Match object; span=(21, 22), match='t'>\n",
      "<re.Match object; span=(22, 23), match='u'>\n",
      "<re.Match object; span=(23, 24), match='v'>\n",
      "<re.Match object; span=(24, 25), match='w'>\n",
      "<re.Match object; span=(25, 26), match='x'>\n",
      "<re.Match object; span=(26, 27), match='y'>\n",
      "<re.Match object; span=(27, 28), match='z'>\n",
      "<re.Match object; span=(29, 30), match='A'>\n",
      "<re.Match object; span=(30, 31), match='B'>\n",
      "<re.Match object; span=(31, 32), match='C'>\n",
      "<re.Match object; span=(32, 33), match='D'>\n",
      "<re.Match object; span=(33, 34), match='E'>\n",
      "<re.Match object; span=(34, 35), match='F'>\n",
      "<re.Match object; span=(35, 36), match='G'>\n",
      "<re.Match object; span=(36, 37), match='H'>\n",
      "<re.Match object; span=(37, 38), match='I'>\n",
      "<re.Match object; span=(38, 39), match='J'>\n",
      "<re.Match object; span=(39, 40), match='K'>\n",
      "<re.Match object; span=(40, 41), match='L'>\n",
      "<re.Match object; span=(41, 42), match='M'>\n",
      "<re.Match object; span=(42, 43), match='N'>\n",
      "<re.Match object; span=(43, 44), match='O'>\n",
      "<re.Match object; span=(44, 45), match='P'>\n",
      "<re.Match object; span=(45, 46), match='Q'>\n",
      "<re.Match object; span=(46, 47), match='R'>\n",
      "<re.Match object; span=(47, 48), match='S'>\n",
      "<re.Match object; span=(48, 49), match='T'>\n",
      "<re.Match object; span=(49, 50), match='U'>\n",
      "<re.Match object; span=(50, 51), match='V'>\n",
      "<re.Match object; span=(51, 52), match='W'>\n",
      "<re.Match object; span=(52, 53), match='X'>\n",
      "<re.Match object; span=(53, 54), match='Y'>\n",
      "<re.Match object; span=(54, 55), match='Z'>\n",
      "<re.Match object; span=(56, 57), match='1'>\n",
      "<re.Match object; span=(57, 58), match='2'>\n",
      "<re.Match object; span=(58, 59), match='3'>\n",
      "<re.Match object; span=(59, 60), match='4'>\n",
      "<re.Match object; span=(60, 61), match='5'>\n",
      "<re.Match object; span=(61, 62), match='6'>\n",
      "<re.Match object; span=(62, 63), match='7'>\n",
      "<re.Match object; span=(63, 64), match='8'>\n",
      "<re.Match object; span=(64, 65), match='9'>\n",
      "<re.Match object; span=(65, 66), match='0'>\n",
      "<re.Match object; span=(68, 69), match='H'>\n",
      "<re.Match object; span=(69, 70), match='a'>\n",
      "<re.Match object; span=(70, 71), match=' '>\n",
      "<re.Match object; span=(71, 72), match='H'>\n",
      "<re.Match object; span=(72, 73), match='a'>\n",
      "<re.Match object; span=(73, 74), match='H'>\n",
      "<re.Match object; span=(74, 75), match='a'>\n",
      "<re.Match object; span=(77, 78), match='M'>\n",
      "<re.Match object; span=(78, 79), match='e'>\n",
      "<re.Match object; span=(79, 80), match='t'>\n",
      "<re.Match object; span=(80, 81), match='a'>\n",
      "<re.Match object; span=(81, 82), match='C'>\n",
      "<re.Match object; span=(82, 83), match='h'>\n",
      "<re.Match object; span=(83, 84), match='a'>\n",
      "<re.Match object; span=(84, 85), match='r'>\n",
      "<re.Match object; span=(85, 86), match='a'>\n",
      "<re.Match object; span=(86, 87), match='c'>\n",
      "<re.Match object; span=(87, 88), match='t'>\n",
      "<re.Match object; span=(88, 89), match='e'>\n",
      "<re.Match object; span=(89, 90), match='r'>\n",
      "<re.Match object; span=(90, 91), match='s'>\n",
      "<re.Match object; span=(91, 92), match=' '>\n",
      "<re.Match object; span=(92, 93), match='('>\n",
      "<re.Match object; span=(93, 94), match='N'>\n",
      "<re.Match object; span=(94, 95), match='e'>\n",
      "<re.Match object; span=(95, 96), match='e'>\n",
      "<re.Match object; span=(96, 97), match='d'>\n",
      "<re.Match object; span=(97, 98), match=' '>\n",
      "<re.Match object; span=(98, 99), match='t'>\n",
      "<re.Match object; span=(99, 100), match='o'>\n",
      "<re.Match object; span=(100, 101), match=' '>\n",
      "<re.Match object; span=(101, 102), match='b'>\n",
      "<re.Match object; span=(102, 103), match='e'>\n",
      "<re.Match object; span=(103, 104), match=' '>\n",
      "<re.Match object; span=(104, 105), match='e'>\n",
      "<re.Match object; span=(105, 106), match='s'>\n",
      "<re.Match object; span=(106, 107), match='c'>\n",
      "<re.Match object; span=(107, 108), match='a'>\n",
      "<re.Match object; span=(108, 109), match='p'>\n",
      "<re.Match object; span=(109, 110), match='e'>\n",
      "<re.Match object; span=(110, 111), match='d'>\n",
      "<re.Match object; span=(111, 112), match=')'>\n",
      "<re.Match object; span=(112, 113), match=':'>\n",
      "<re.Match object; span=(114, 115), match='.'>\n",
      "<re.Match object; span=(115, 116), match=' '>\n",
      "<re.Match object; span=(116, 117), match='^'>\n",
      "<re.Match object; span=(117, 118), match=' '>\n",
      "<re.Match object; span=(118, 119), match='$'>\n",
      "<re.Match object; span=(119, 120), match=' '>\n",
      "<re.Match object; span=(120, 121), match='*'>\n",
      "<re.Match object; span=(121, 122), match=' '>\n",
      "<re.Match object; span=(122, 123), match='+'>\n",
      "<re.Match object; span=(123, 124), match=' '>\n",
      "<re.Match object; span=(124, 125), match='?'>\n",
      "<re.Match object; span=(125, 126), match=' '>\n",
      "<re.Match object; span=(126, 127), match='{'>\n",
      "<re.Match object; span=(127, 128), match='}'>\n",
      "<re.Match object; span=(128, 129), match=' '>\n",
      "<re.Match object; span=(129, 130), match='['>\n",
      "<re.Match object; span=(130, 131), match=']'>\n",
      "<re.Match object; span=(131, 132), match=' '>\n",
      "<re.Match object; span=(132, 133), match='\\\\'>\n",
      "<re.Match object; span=(133, 134), match=' '>\n",
      "<re.Match object; span=(134, 135), match='|'>\n",
      "<re.Match object; span=(135, 136), match=' '>\n",
      "<re.Match object; span=(136, 137), match='('>\n",
      "<re.Match object; span=(137, 138), match=')'>\n",
      "<re.Match object; span=(140, 141), match='c'>\n",
      "<re.Match object; span=(141, 142), match='o'>\n",
      "<re.Match object; span=(142, 143), match='r'>\n",
      "<re.Match object; span=(143, 144), match='e'>\n",
      "<re.Match object; span=(144, 145), match='y'>\n",
      "<re.Match object; span=(145, 146), match='m'>\n",
      "<re.Match object; span=(146, 147), match='s'>\n",
      "<re.Match object; span=(147, 148), match='.'>\n",
      "<re.Match object; span=(148, 149), match='c'>\n",
      "<re.Match object; span=(149, 150), match='o'>\n",
      "<re.Match object; span=(150, 151), match='m'>\n",
      "<re.Match object; span=(153, 154), match='3'>\n",
      "<re.Match object; span=(154, 155), match='2'>\n",
      "<re.Match object; span=(155, 156), match='1'>\n",
      "<re.Match object; span=(156, 157), match='-'>\n",
      "<re.Match object; span=(157, 158), match='5'>\n",
      "<re.Match object; span=(158, 159), match='5'>\n",
      "<re.Match object; span=(159, 160), match='5'>\n",
      "<re.Match object; span=(160, 161), match='-'>\n",
      "<re.Match object; span=(161, 162), match='4'>\n",
      "<re.Match object; span=(162, 163), match='3'>\n",
      "<re.Match object; span=(163, 164), match='2'>\n",
      "<re.Match object; span=(164, 165), match='1'>\n",
      "<re.Match object; span=(166, 167), match='1'>\n",
      "<re.Match object; span=(167, 168), match='2'>\n",
      "<re.Match object; span=(168, 169), match='3'>\n",
      "<re.Match object; span=(169, 170), match='.'>\n",
      "<re.Match object; span=(170, 171), match='5'>\n",
      "<re.Match object; span=(171, 172), match='5'>\n",
      "<re.Match object; span=(172, 173), match='5'>\n",
      "<re.Match object; span=(173, 174), match='.'>\n",
      "<re.Match object; span=(174, 175), match='1'>\n",
      "<re.Match object; span=(175, 176), match='2'>\n",
      "<re.Match object; span=(176, 177), match='3'>\n",
      "<re.Match object; span=(177, 178), match='4'>\n",
      "<re.Match object; span=(179, 180), match='9'>\n",
      "<re.Match object; span=(180, 181), match='9'>\n",
      "<re.Match object; span=(181, 182), match='9'>\n",
      "<re.Match object; span=(182, 183), match='*'>\n",
      "<re.Match object; span=(183, 184), match='3'>\n",
      "<re.Match object; span=(184, 185), match='3'>\n",
      "<re.Match object; span=(185, 186), match='3'>\n",
      "<re.Match object; span=(186, 187), match='*'>\n",
      "<re.Match object; span=(187, 188), match='5'>\n",
      "<re.Match object; span=(188, 189), match='5'>\n",
      "<re.Match object; span=(189, 190), match='5'>\n",
      "<re.Match object; span=(190, 191), match='4'>\n",
      "<re.Match object; span=(193, 194), match='M'>\n",
      "<re.Match object; span=(194, 195), match='r'>\n",
      "<re.Match object; span=(195, 196), match='.'>\n",
      "<re.Match object; span=(196, 197), match=' '>\n",
      "<re.Match object; span=(197, 198), match='S'>\n",
      "<re.Match object; span=(198, 199), match='c'>\n",
      "<re.Match object; span=(199, 200), match='h'>\n",
      "<re.Match object; span=(200, 201), match='a'>\n",
      "<re.Match object; span=(201, 202), match='f'>\n",
      "<re.Match object; span=(202, 203), match='e'>\n",
      "<re.Match object; span=(203, 204), match='r'>\n",
      "<re.Match object; span=(205, 206), match='M'>\n",
      "<re.Match object; span=(206, 207), match='r'>\n",
      "<re.Match object; span=(207, 208), match=' '>\n",
      "<re.Match object; span=(208, 209), match='S'>\n",
      "<re.Match object; span=(209, 210), match='m'>\n",
      "<re.Match object; span=(210, 211), match='i'>\n",
      "<re.Match object; span=(211, 212), match='t'>\n",
      "<re.Match object; span=(212, 213), match='h'>\n",
      "<re.Match object; span=(214, 215), match='M'>\n",
      "<re.Match object; span=(215, 216), match='s'>\n",
      "<re.Match object; span=(216, 217), match=' '>\n",
      "<re.Match object; span=(217, 218), match='D'>\n",
      "<re.Match object; span=(218, 219), match='a'>\n",
      "<re.Match object; span=(219, 220), match='v'>\n",
      "<re.Match object; span=(220, 221), match='i'>\n",
      "<re.Match object; span=(221, 222), match='s'>\n",
      "<re.Match object; span=(223, 224), match='M'>\n",
      "<re.Match object; span=(224, 225), match='r'>\n",
      "<re.Match object; span=(225, 226), match='s'>\n",
      "<re.Match object; span=(226, 227), match='.'>\n",
      "<re.Match object; span=(227, 228), match=' '>\n",
      "<re.Match object; span=(228, 229), match='R'>\n",
      "<re.Match object; span=(229, 230), match='o'>\n",
      "<re.Match object; span=(230, 231), match='b'>\n",
      "<re.Match object; span=(231, 232), match='i'>\n",
      "<re.Match object; span=(232, 233), match='n'>\n",
      "<re.Match object; span=(233, 234), match='s'>\n",
      "<re.Match object; span=(234, 235), match='o'>\n",
      "<re.Match object; span=(235, 236), match='n'>\n",
      "<re.Match object; span=(237, 238), match='M'>\n",
      "<re.Match object; span=(238, 239), match='r'>\n",
      "<re.Match object; span=(239, 240), match='.'>\n",
      "<re.Match object; span=(240, 241), match=' '>\n",
      "<re.Match object; span=(243, 244), match='c'>\n",
      "<re.Match object; span=(244, 245), match='a'>\n",
      "<re.Match object; span=(245, 246), match='t'>\n",
      "<re.Match object; span=(247, 248), match='m'>\n",
      "<re.Match object; span=(248, 249), match='a'>\n",
      "<re.Match object; span=(249, 250), match='t'>\n",
      "<re.Match object; span=(251, 252), match='p'>\n",
      "<re.Match object; span=(252, 253), match='a'>\n",
      "<re.Match object; span=(253, 254), match='t'>\n",
      "<re.Match object; span=(255, 256), match='b'>\n",
      "<re.Match object; span=(256, 257), match='a'>\n",
      "<re.Match object; span=(257, 258), match='t'>\n"
     ]
    }
   ],
   "source": [
    "pattern = re.compile(r'.')\n",
    "\n",
    "matches = pattern.finditer(text_to_search)\n",
    "\n",
    "for match in matches:\n",
    "    print (match)\n"
   ]
  },
  {
   "cell_type": "code",
   "execution_count": 82,
   "id": "537cf0e4",
   "metadata": {},
   "outputs": [
    {
     "name": "stdout",
     "output_type": "stream",
     "text": [
      "<re.Match object; span=(2, 3), match='a'>\n",
      "<re.Match object; span=(3, 4), match='b'>\n",
      "<re.Match object; span=(4, 5), match='c'>\n",
      "<re.Match object; span=(5, 6), match='d'>\n",
      "<re.Match object; span=(6, 7), match='e'>\n",
      "<re.Match object; span=(7, 8), match='f'>\n",
      "<re.Match object; span=(8, 9), match='g'>\n",
      "<re.Match object; span=(9, 10), match='h'>\n",
      "<re.Match object; span=(10, 11), match='i'>\n",
      "<re.Match object; span=(11, 12), match='j'>\n",
      "<re.Match object; span=(12, 13), match='k'>\n",
      "<re.Match object; span=(13, 14), match='l'>\n",
      "<re.Match object; span=(14, 15), match='m'>\n",
      "<re.Match object; span=(15, 16), match='n'>\n",
      "<re.Match object; span=(16, 17), match='o'>\n",
      "<re.Match object; span=(17, 18), match='p'>\n",
      "<re.Match object; span=(18, 19), match='q'>\n",
      "<re.Match object; span=(19, 20), match='r'>\n",
      "<re.Match object; span=(20, 21), match='s'>\n",
      "<re.Match object; span=(21, 22), match='t'>\n",
      "<re.Match object; span=(22, 23), match='u'>\n",
      "<re.Match object; span=(23, 24), match='v'>\n",
      "<re.Match object; span=(24, 25), match='w'>\n",
      "<re.Match object; span=(25, 26), match='x'>\n",
      "<re.Match object; span=(26, 27), match='y'>\n",
      "<re.Match object; span=(27, 28), match='z'>\n",
      "<re.Match object; span=(29, 30), match='A'>\n",
      "<re.Match object; span=(30, 31), match='B'>\n",
      "<re.Match object; span=(31, 32), match='C'>\n",
      "<re.Match object; span=(32, 33), match='D'>\n",
      "<re.Match object; span=(33, 34), match='E'>\n",
      "<re.Match object; span=(34, 35), match='F'>\n",
      "<re.Match object; span=(35, 36), match='G'>\n",
      "<re.Match object; span=(36, 37), match='H'>\n",
      "<re.Match object; span=(37, 38), match='I'>\n",
      "<re.Match object; span=(38, 39), match='J'>\n",
      "<re.Match object; span=(39, 40), match='K'>\n",
      "<re.Match object; span=(40, 41), match='L'>\n",
      "<re.Match object; span=(41, 42), match='M'>\n",
      "<re.Match object; span=(42, 43), match='N'>\n",
      "<re.Match object; span=(43, 44), match='O'>\n",
      "<re.Match object; span=(44, 45), match='P'>\n",
      "<re.Match object; span=(45, 46), match='Q'>\n",
      "<re.Match object; span=(46, 47), match='R'>\n",
      "<re.Match object; span=(47, 48), match='S'>\n",
      "<re.Match object; span=(48, 49), match='T'>\n",
      "<re.Match object; span=(49, 50), match='U'>\n",
      "<re.Match object; span=(50, 51), match='V'>\n",
      "<re.Match object; span=(51, 52), match='W'>\n",
      "<re.Match object; span=(52, 53), match='X'>\n",
      "<re.Match object; span=(53, 54), match='Y'>\n",
      "<re.Match object; span=(54, 55), match='Z'>\n",
      "<re.Match object; span=(56, 57), match='1'>\n",
      "<re.Match object; span=(57, 58), match='2'>\n",
      "<re.Match object; span=(58, 59), match='3'>\n",
      "<re.Match object; span=(59, 60), match='4'>\n",
      "<re.Match object; span=(60, 61), match='5'>\n",
      "<re.Match object; span=(61, 62), match='6'>\n",
      "<re.Match object; span=(62, 63), match='7'>\n",
      "<re.Match object; span=(63, 64), match='8'>\n",
      "<re.Match object; span=(64, 65), match='9'>\n",
      "<re.Match object; span=(65, 66), match='0'>\n",
      "<re.Match object; span=(68, 69), match='H'>\n",
      "<re.Match object; span=(69, 70), match='a'>\n",
      "<re.Match object; span=(71, 72), match='H'>\n",
      "<re.Match object; span=(72, 73), match='a'>\n",
      "<re.Match object; span=(73, 74), match='H'>\n",
      "<re.Match object; span=(74, 75), match='a'>\n",
      "<re.Match object; span=(77, 78), match='M'>\n",
      "<re.Match object; span=(78, 79), match='e'>\n",
      "<re.Match object; span=(79, 80), match='t'>\n",
      "<re.Match object; span=(80, 81), match='a'>\n",
      "<re.Match object; span=(81, 82), match='C'>\n",
      "<re.Match object; span=(82, 83), match='h'>\n",
      "<re.Match object; span=(83, 84), match='a'>\n",
      "<re.Match object; span=(84, 85), match='r'>\n",
      "<re.Match object; span=(85, 86), match='a'>\n",
      "<re.Match object; span=(86, 87), match='c'>\n",
      "<re.Match object; span=(87, 88), match='t'>\n",
      "<re.Match object; span=(88, 89), match='e'>\n",
      "<re.Match object; span=(89, 90), match='r'>\n",
      "<re.Match object; span=(90, 91), match='s'>\n",
      "<re.Match object; span=(93, 94), match='N'>\n",
      "<re.Match object; span=(94, 95), match='e'>\n",
      "<re.Match object; span=(95, 96), match='e'>\n",
      "<re.Match object; span=(96, 97), match='d'>\n",
      "<re.Match object; span=(98, 99), match='t'>\n",
      "<re.Match object; span=(99, 100), match='o'>\n",
      "<re.Match object; span=(101, 102), match='b'>\n",
      "<re.Match object; span=(102, 103), match='e'>\n",
      "<re.Match object; span=(104, 105), match='e'>\n",
      "<re.Match object; span=(105, 106), match='s'>\n",
      "<re.Match object; span=(106, 107), match='c'>\n",
      "<re.Match object; span=(107, 108), match='a'>\n",
      "<re.Match object; span=(108, 109), match='p'>\n",
      "<re.Match object; span=(109, 110), match='e'>\n",
      "<re.Match object; span=(110, 111), match='d'>\n",
      "<re.Match object; span=(140, 141), match='c'>\n",
      "<re.Match object; span=(141, 142), match='o'>\n",
      "<re.Match object; span=(142, 143), match='r'>\n",
      "<re.Match object; span=(143, 144), match='e'>\n",
      "<re.Match object; span=(144, 145), match='y'>\n",
      "<re.Match object; span=(145, 146), match='m'>\n",
      "<re.Match object; span=(146, 147), match='s'>\n",
      "<re.Match object; span=(148, 149), match='c'>\n",
      "<re.Match object; span=(149, 150), match='o'>\n",
      "<re.Match object; span=(150, 151), match='m'>\n",
      "<re.Match object; span=(153, 154), match='3'>\n",
      "<re.Match object; span=(154, 155), match='2'>\n",
      "<re.Match object; span=(155, 156), match='1'>\n",
      "<re.Match object; span=(157, 158), match='5'>\n",
      "<re.Match object; span=(158, 159), match='5'>\n",
      "<re.Match object; span=(159, 160), match='5'>\n",
      "<re.Match object; span=(161, 162), match='4'>\n",
      "<re.Match object; span=(162, 163), match='3'>\n",
      "<re.Match object; span=(163, 164), match='2'>\n",
      "<re.Match object; span=(164, 165), match='1'>\n",
      "<re.Match object; span=(166, 167), match='1'>\n",
      "<re.Match object; span=(167, 168), match='2'>\n",
      "<re.Match object; span=(168, 169), match='3'>\n",
      "<re.Match object; span=(170, 171), match='5'>\n",
      "<re.Match object; span=(171, 172), match='5'>\n",
      "<re.Match object; span=(172, 173), match='5'>\n",
      "<re.Match object; span=(174, 175), match='1'>\n",
      "<re.Match object; span=(175, 176), match='2'>\n",
      "<re.Match object; span=(176, 177), match='3'>\n",
      "<re.Match object; span=(177, 178), match='4'>\n",
      "<re.Match object; span=(179, 180), match='9'>\n",
      "<re.Match object; span=(180, 181), match='9'>\n",
      "<re.Match object; span=(181, 182), match='9'>\n",
      "<re.Match object; span=(183, 184), match='3'>\n",
      "<re.Match object; span=(184, 185), match='3'>\n",
      "<re.Match object; span=(185, 186), match='3'>\n",
      "<re.Match object; span=(187, 188), match='5'>\n",
      "<re.Match object; span=(188, 189), match='5'>\n",
      "<re.Match object; span=(189, 190), match='5'>\n",
      "<re.Match object; span=(190, 191), match='4'>\n",
      "<re.Match object; span=(193, 194), match='M'>\n",
      "<re.Match object; span=(194, 195), match='r'>\n",
      "<re.Match object; span=(197, 198), match='S'>\n",
      "<re.Match object; span=(198, 199), match='c'>\n",
      "<re.Match object; span=(199, 200), match='h'>\n",
      "<re.Match object; span=(200, 201), match='a'>\n",
      "<re.Match object; span=(201, 202), match='f'>\n",
      "<re.Match object; span=(202, 203), match='e'>\n",
      "<re.Match object; span=(203, 204), match='r'>\n",
      "<re.Match object; span=(205, 206), match='M'>\n",
      "<re.Match object; span=(206, 207), match='r'>\n",
      "<re.Match object; span=(208, 209), match='S'>\n",
      "<re.Match object; span=(209, 210), match='m'>\n",
      "<re.Match object; span=(210, 211), match='i'>\n",
      "<re.Match object; span=(211, 212), match='t'>\n",
      "<re.Match object; span=(212, 213), match='h'>\n",
      "<re.Match object; span=(214, 215), match='M'>\n",
      "<re.Match object; span=(215, 216), match='s'>\n",
      "<re.Match object; span=(217, 218), match='D'>\n",
      "<re.Match object; span=(218, 219), match='a'>\n",
      "<re.Match object; span=(219, 220), match='v'>\n",
      "<re.Match object; span=(220, 221), match='i'>\n",
      "<re.Match object; span=(221, 222), match='s'>\n",
      "<re.Match object; span=(223, 224), match='M'>\n",
      "<re.Match object; span=(224, 225), match='r'>\n",
      "<re.Match object; span=(225, 226), match='s'>\n",
      "<re.Match object; span=(228, 229), match='R'>\n",
      "<re.Match object; span=(229, 230), match='o'>\n",
      "<re.Match object; span=(230, 231), match='b'>\n",
      "<re.Match object; span=(231, 232), match='i'>\n",
      "<re.Match object; span=(232, 233), match='n'>\n",
      "<re.Match object; span=(233, 234), match='s'>\n",
      "<re.Match object; span=(234, 235), match='o'>\n",
      "<re.Match object; span=(235, 236), match='n'>\n",
      "<re.Match object; span=(237, 238), match='M'>\n",
      "<re.Match object; span=(238, 239), match='r'>\n",
      "<re.Match object; span=(243, 244), match='c'>\n",
      "<re.Match object; span=(244, 245), match='a'>\n",
      "<re.Match object; span=(245, 246), match='t'>\n",
      "<re.Match object; span=(247, 248), match='m'>\n",
      "<re.Match object; span=(248, 249), match='a'>\n",
      "<re.Match object; span=(249, 250), match='t'>\n",
      "<re.Match object; span=(251, 252), match='p'>\n",
      "<re.Match object; span=(252, 253), match='a'>\n",
      "<re.Match object; span=(253, 254), match='t'>\n",
      "<re.Match object; span=(255, 256), match='b'>\n",
      "<re.Match object; span=(256, 257), match='a'>\n",
      "<re.Match object; span=(257, 258), match='t'>\n"
     ]
    }
   ],
   "source": [
    "# . - Any character Except new line\n",
    "# \\d - Digit(0-9)\n",
    "# \\D - Not a Digit (0-9)\n",
    "# \\w - Word Character (a-z, A-Z, 0-9, _)\n",
    "# \\W - Not a Word Character\n",
    "# \\s - Whitespace(space,tab,newline)\n",
    "# \\S - Not Whitespace(spcae, tab, newline)\n",
    "pattern = re.compile(r'\\w')\n",
    "\n",
    "matches = pattern.finditer(text_to_search)\n",
    "\n",
    "for match in matches:\n",
    "    print (match)\n"
   ]
  },
  {
   "cell_type": "code",
   "execution_count": 83,
   "id": "33ace0ec",
   "metadata": {},
   "outputs": [
    {
     "name": "stdout",
     "output_type": "stream",
     "text": [
      "<re.Match object; span=(68, 70), match='Ha'>\n",
      "<re.Match object; span=(71, 73), match='Ha'>\n"
     ]
    }
   ],
   "source": [
    "pattern = re.compile(r'\\bHa')\n",
    "\n",
    "matches = pattern.finditer(text_to_search)\n",
    "\n",
    "for match in matches:\n",
    "    print (match)"
   ]
  },
  {
   "cell_type": "code",
   "execution_count": 84,
   "id": "94e9dc7e",
   "metadata": {},
   "outputs": [
    {
     "name": "stdout",
     "output_type": "stream",
     "text": [
      "<re.Match object; span=(0, 0), match=''>\n"
     ]
    }
   ],
   "source": [
    "pattern = re.compile(r'^')\n",
    "\n",
    "matches = pattern.finditer(sentence)\n",
    "\n",
    "for match in matches:\n",
    "    print (match)"
   ]
  },
  {
   "cell_type": "code",
   "execution_count": 85,
   "id": "40804adc",
   "metadata": {},
   "outputs": [
    {
     "name": "stdout",
     "output_type": "stream",
     "text": [
      "<re.Match object; span=(0, 5), match='Start'>\n"
     ]
    }
   ],
   "source": [
    "pattern = re.compile(r'^Start')\n",
    "\n",
    "matches = pattern.finditer(sentence)\n",
    "\n",
    "for match in matches:\n",
    "    print (match)"
   ]
  },
  {
   "cell_type": "code",
   "execution_count": 86,
   "id": "ea74494c",
   "metadata": {},
   "outputs": [
    {
     "name": "stdout",
     "output_type": "stream",
     "text": [
      "<re.Match object; span=(41, 44), match='end'>\n"
     ]
    }
   ],
   "source": [
    "pattern = re.compile(r'end$')\n",
    "\n",
    "matches = pattern.finditer(sentence)\n",
    "\n",
    "for match in matches:\n",
    "    print (match)"
   ]
  },
  {
   "cell_type": "code",
   "execution_count": 87,
   "id": "17011428",
   "metadata": {},
   "outputs": [
    {
     "name": "stdout",
     "output_type": "stream",
     "text": [
      "<re.Match object; span=(153, 164), match='321-555-432'>\n",
      "<re.Match object; span=(166, 177), match='123.555.123'>\n",
      "<re.Match object; span=(179, 190), match='999*333*555'>\n"
     ]
    }
   ],
   "source": [
    "pattern = re.compile(r'\\d\\d\\d.\\d\\d\\d.\\d\\d\\d')\n",
    "\n",
    "matches = pattern.finditer(text_to_search)\n",
    "\n",
    "for match in matches:\n",
    "    print (match)"
   ]
  },
  {
   "cell_type": "code",
   "execution_count": 88,
   "id": "fb18180a",
   "metadata": {},
   "outputs": [],
   "source": [
    "pattern = re.compile(r' \\d\\d\\d.\\d\\d\\d.\\d\\d\\d')\n",
    "\n",
    "matches = pattern.finditer(text_to_search)\n",
    "\n",
    "# for match in matches:\n",
    "#     print (match)\n",
    "with open('sample.txt','r') as f:\n",
    "    contents = f.read()\n",
    "    \n",
    "    matches = pattern.finditer(contents)\n",
    "    \n",
    "    for match in matches:\n",
    "         print (match)"
   ]
  },
  {
   "cell_type": "code",
   "execution_count": 89,
   "id": "ef8c4876",
   "metadata": {},
   "outputs": [
    {
     "name": "stdout",
     "output_type": "stream",
     "text": [
      "<re.Match object; span=(153, 164), match='321-555-432'>\n",
      "<re.Match object; span=(166, 177), match='123.555.123'>\n",
      "<re.Match object; span=(179, 190), match='999*333*555'>\n"
     ]
    }
   ],
   "source": [
    "pattern = re.compile(r'\\d\\d\\d.\\d\\d\\d.\\d\\d\\d')\n",
    "\n",
    "matches = pattern.finditer(text_to_search)\n",
    "\n",
    "for match in matches:\n",
    "    print (match)\n"
   ]
  },
  {
   "cell_type": "code",
   "execution_count": 90,
   "id": "1b8a4c5c",
   "metadata": {},
   "outputs": [
    {
     "name": "stdout",
     "output_type": "stream",
     "text": [
      "<re.Match object; span=(153, 164), match='321-555-432'>\n",
      "<re.Match object; span=(166, 177), match='123.555.123'>\n"
     ]
    }
   ],
   "source": [
    "pattern = re.compile(r'\\d\\d\\d[-.]\\d\\d\\d[-.]\\d\\d\\d')\n",
    "\n",
    "matches = pattern.finditer(text_to_search)\n",
    "\n",
    "for match in matches:\n",
    "    print (match)\n"
   ]
  },
  {
   "cell_type": "code",
   "execution_count": 91,
   "id": "d25d965e",
   "metadata": {},
   "outputs": [
    {
     "name": "stdout",
     "output_type": "stream",
     "text": [
      "<re.Match object; span=(0, 1), match='\\n'>\n",
      "<re.Match object; span=(1, 2), match='\\n'>\n",
      "<re.Match object; span=(28, 29), match='\\n'>\n",
      "<re.Match object; span=(55, 56), match='\\n'>\n",
      "<re.Match object; span=(56, 57), match='1'>\n",
      "<re.Match object; span=(57, 58), match='2'>\n",
      "<re.Match object; span=(58, 59), match='3'>\n",
      "<re.Match object; span=(59, 60), match='4'>\n",
      "<re.Match object; span=(60, 61), match='5'>\n",
      "<re.Match object; span=(61, 62), match='6'>\n",
      "<re.Match object; span=(62, 63), match='7'>\n",
      "<re.Match object; span=(63, 64), match='8'>\n",
      "<re.Match object; span=(64, 65), match='9'>\n",
      "<re.Match object; span=(65, 66), match='0'>\n",
      "<re.Match object; span=(66, 67), match='\\n'>\n",
      "<re.Match object; span=(67, 68), match='\\n'>\n",
      "<re.Match object; span=(70, 71), match=' '>\n",
      "<re.Match object; span=(75, 76), match='\\n'>\n",
      "<re.Match object; span=(76, 77), match='\\n'>\n",
      "<re.Match object; span=(91, 92), match=' '>\n",
      "<re.Match object; span=(92, 93), match='('>\n",
      "<re.Match object; span=(97, 98), match=' '>\n",
      "<re.Match object; span=(100, 101), match=' '>\n",
      "<re.Match object; span=(103, 104), match=' '>\n",
      "<re.Match object; span=(111, 112), match=')'>\n",
      "<re.Match object; span=(112, 113), match=':'>\n",
      "<re.Match object; span=(113, 114), match='\\n'>\n",
      "<re.Match object; span=(114, 115), match='.'>\n",
      "<re.Match object; span=(115, 116), match=' '>\n",
      "<re.Match object; span=(116, 117), match='^'>\n",
      "<re.Match object; span=(117, 118), match=' '>\n",
      "<re.Match object; span=(118, 119), match='$'>\n",
      "<re.Match object; span=(119, 120), match=' '>\n",
      "<re.Match object; span=(120, 121), match='*'>\n",
      "<re.Match object; span=(121, 122), match=' '>\n",
      "<re.Match object; span=(122, 123), match='+'>\n",
      "<re.Match object; span=(123, 124), match=' '>\n",
      "<re.Match object; span=(124, 125), match='?'>\n",
      "<re.Match object; span=(125, 126), match=' '>\n",
      "<re.Match object; span=(126, 127), match='{'>\n",
      "<re.Match object; span=(127, 128), match='}'>\n",
      "<re.Match object; span=(128, 129), match=' '>\n",
      "<re.Match object; span=(129, 130), match='['>\n",
      "<re.Match object; span=(130, 131), match=']'>\n",
      "<re.Match object; span=(131, 132), match=' '>\n",
      "<re.Match object; span=(132, 133), match='\\\\'>\n",
      "<re.Match object; span=(133, 134), match=' '>\n",
      "<re.Match object; span=(134, 135), match='|'>\n",
      "<re.Match object; span=(135, 136), match=' '>\n",
      "<re.Match object; span=(136, 137), match='('>\n",
      "<re.Match object; span=(137, 138), match=')'>\n",
      "<re.Match object; span=(138, 139), match='\\n'>\n",
      "<re.Match object; span=(139, 140), match='\\n'>\n",
      "<re.Match object; span=(147, 148), match='.'>\n",
      "<re.Match object; span=(151, 152), match='\\n'>\n",
      "<re.Match object; span=(152, 153), match='\\n'>\n",
      "<re.Match object; span=(153, 154), match='3'>\n",
      "<re.Match object; span=(154, 155), match='2'>\n",
      "<re.Match object; span=(155, 156), match='1'>\n",
      "<re.Match object; span=(156, 157), match='-'>\n",
      "<re.Match object; span=(157, 158), match='5'>\n",
      "<re.Match object; span=(158, 159), match='5'>\n",
      "<re.Match object; span=(159, 160), match='5'>\n",
      "<re.Match object; span=(160, 161), match='-'>\n",
      "<re.Match object; span=(161, 162), match='4'>\n",
      "<re.Match object; span=(162, 163), match='3'>\n",
      "<re.Match object; span=(163, 164), match='2'>\n",
      "<re.Match object; span=(164, 165), match='1'>\n",
      "<re.Match object; span=(165, 166), match='\\n'>\n",
      "<re.Match object; span=(166, 167), match='1'>\n",
      "<re.Match object; span=(167, 168), match='2'>\n",
      "<re.Match object; span=(168, 169), match='3'>\n",
      "<re.Match object; span=(169, 170), match='.'>\n",
      "<re.Match object; span=(170, 171), match='5'>\n",
      "<re.Match object; span=(171, 172), match='5'>\n",
      "<re.Match object; span=(172, 173), match='5'>\n",
      "<re.Match object; span=(173, 174), match='.'>\n",
      "<re.Match object; span=(174, 175), match='1'>\n",
      "<re.Match object; span=(175, 176), match='2'>\n",
      "<re.Match object; span=(176, 177), match='3'>\n",
      "<re.Match object; span=(177, 178), match='4'>\n",
      "<re.Match object; span=(178, 179), match='\\n'>\n",
      "<re.Match object; span=(179, 180), match='9'>\n",
      "<re.Match object; span=(180, 181), match='9'>\n",
      "<re.Match object; span=(181, 182), match='9'>\n",
      "<re.Match object; span=(182, 183), match='*'>\n",
      "<re.Match object; span=(183, 184), match='3'>\n",
      "<re.Match object; span=(184, 185), match='3'>\n",
      "<re.Match object; span=(185, 186), match='3'>\n",
      "<re.Match object; span=(186, 187), match='*'>\n",
      "<re.Match object; span=(187, 188), match='5'>\n",
      "<re.Match object; span=(188, 189), match='5'>\n",
      "<re.Match object; span=(189, 190), match='5'>\n",
      "<re.Match object; span=(190, 191), match='4'>\n",
      "<re.Match object; span=(191, 192), match='\\n'>\n",
      "<re.Match object; span=(192, 193), match='\\n'>\n",
      "<re.Match object; span=(195, 196), match='.'>\n",
      "<re.Match object; span=(196, 197), match=' '>\n",
      "<re.Match object; span=(204, 205), match='\\n'>\n",
      "<re.Match object; span=(207, 208), match=' '>\n",
      "<re.Match object; span=(213, 214), match='\\n'>\n",
      "<re.Match object; span=(216, 217), match=' '>\n",
      "<re.Match object; span=(222, 223), match='\\n'>\n",
      "<re.Match object; span=(226, 227), match='.'>\n",
      "<re.Match object; span=(227, 228), match=' '>\n",
      "<re.Match object; span=(236, 237), match='\\n'>\n",
      "<re.Match object; span=(239, 240), match='.'>\n",
      "<re.Match object; span=(240, 241), match=' '>\n",
      "<re.Match object; span=(241, 242), match='\\n'>\n",
      "<re.Match object; span=(242, 243), match='\\n'>\n",
      "<re.Match object; span=(246, 247), match='\\n'>\n",
      "<re.Match object; span=(250, 251), match='\\n'>\n",
      "<re.Match object; span=(254, 255), match='\\n'>\n",
      "<re.Match object; span=(258, 259), match='\\n'>\n",
      "<re.Match object; span=(259, 260), match='\\n'>\n"
     ]
    }
   ],
   "source": [
    "pattern = re.compile(r'[^a-zA-Z]')\n",
    "\n",
    "matches = pattern.finditer(text_to_search)\n",
    "\n",
    "for match in matches:\n",
    "    print (match)\n"
   ]
  },
  {
   "cell_type": "code",
   "execution_count": 92,
   "id": "1ee18884",
   "metadata": {},
   "outputs": [
    {
     "name": "stdout",
     "output_type": "stream",
     "text": [
      "<re.Match object; span=(243, 246), match='cat'>\n",
      "<re.Match object; span=(247, 250), match='mat'>\n",
      "<re.Match object; span=(251, 254), match='pat'>\n"
     ]
    }
   ],
   "source": [
    "pattern = re.compile(r'[^b]at')\n",
    "\n",
    "matches = pattern.finditer(text_to_search)\n",
    "\n",
    "for match in matches:\n",
    "    print (match)\n"
   ]
  },
  {
   "cell_type": "code",
   "execution_count": 93,
   "id": "3046b330",
   "metadata": {},
   "outputs": [
    {
     "name": "stdout",
     "output_type": "stream",
     "text": [
      "<re.Match object; span=(153, 165), match='321-555-4321'>\n",
      "<re.Match object; span=(166, 178), match='123.555.1234'>\n",
      "<re.Match object; span=(179, 191), match='999*333*5554'>\n"
     ]
    }
   ],
   "source": [
    "#Quantifiers:\n",
    "# * - 0 or More\n",
    "# + - 1 or More\n",
    "# ? - 0 or one\n",
    "# {3} - Exact Number\n",
    "# {3,4} - Range of Numbers (Minimum, Maximum)\n",
    "\n",
    "pattern = re.compile(r'\\d{3}.\\d{3}.\\d{4}')\n",
    "\n",
    "matches = pattern.finditer(text_to_search)\n",
    "\n",
    "for match in matches:\n",
    "    print (match)"
   ]
  },
  {
   "cell_type": "code",
   "execution_count": 94,
   "id": "ebc46348",
   "metadata": {},
   "outputs": [
    {
     "name": "stdout",
     "output_type": "stream",
     "text": [
      "<re.Match object; span=(193, 198), match='Mr. S'>\n",
      "<re.Match object; span=(205, 209), match='Mr S'>\n"
     ]
    }
   ],
   "source": [
    "import re\n",
    "pattern = re.compile(r'Mr\\.?\\s[A-Z]')\n",
    "\n",
    "matches = pattern.finditer(text_to_search)\n",
    "\n",
    "for match in matches:\n",
    "    print (match)"
   ]
  },
  {
   "cell_type": "code",
   "execution_count": 95,
   "id": "0bfd6be9",
   "metadata": {
    "scrolled": true
   },
   "outputs": [
    {
     "name": "stdout",
     "output_type": "stream",
     "text": [
      "<re.Match object; span=(193, 204), match='Mr. Schafer'>\n",
      "<re.Match object; span=(205, 213), match='Mr Smith'>\n",
      "<re.Match object; span=(214, 222), match='Ms Davis'>\n",
      "<re.Match object; span=(223, 236), match='Mrs. Robinson'>\n"
     ]
    }
   ],
   "source": [
    "pattern = re.compile(r'(Mr|Ms|Mrs)\\.?\\s[A-Z]\\w*')\n",
    "\n",
    "matches = pattern.finditer(text_to_search)\n",
    "\n",
    "for match in matches:\n",
    "    print (match)"
   ]
  },
  {
   "cell_type": "code",
   "execution_count": 96,
   "id": "22e32646",
   "metadata": {},
   "outputs": [
    {
     "name": "stdout",
     "output_type": "stream",
     "text": [
      "<re.Match object; span=(7, 24), match='schafer@gamil.com'>\n"
     ]
    }
   ],
   "source": [
    "import re\n",
    "\n",
    "emails='''\n",
    "CoreyMschafer@gamil.com\n",
    "corey.schafer@university.edu\n",
    "corey-321-schafer@my-work.net'''\n",
    "\n",
    "pattern = re.compile(r'[a-zA-AZ]+@[a-zA-Z]+\\.com')\n",
    "\n",
    "matches = pattern.finditer(emails)\n",
    "\n",
    "for match in matches:\n",
    "    print (match)"
   ]
  },
  {
   "cell_type": "code",
   "execution_count": 97,
   "id": "e591aec4",
   "metadata": {},
   "outputs": [
    {
     "name": "stdout",
     "output_type": "stream",
     "text": [
      "<re.Match object; span=(1, 23), match='https://www.google.com'>\n",
      "<re.Match object; span=(24, 44), match='https://facebook.com'>\n",
      "<re.Match object; span=(45, 64), match='https://youtube.com'>\n",
      "<re.Match object; span=(65, 85), match='https://www.nasa.gov'>\n"
     ]
    }
   ],
   "source": [
    "import re\n",
    "urls ='''\n",
    "https://www.google.com\n",
    "https://facebook.com\n",
    "https://youtube.com\n",
    "https://www.nasa.gov\n",
    "'''\n",
    "\n",
    "pattern = re.compile(r'https?://(www\\.)?\\w+\\.\\w+')\n",
    "\n",
    "matches = pattern.finditer(urls)\n",
    "\n",
    "for match in matches:\n",
    "    print (match)"
   ]
  },
  {
   "cell_type": "code",
   "execution_count": 98,
   "id": "eead2446",
   "metadata": {},
   "outputs": [
    {
     "name": "stdout",
     "output_type": "stream",
     "text": [
      "www.\n",
      "None\n",
      "None\n",
      "www.\n"
     ]
    }
   ],
   "source": [
    "pattern = re.compile(r'https?://(www\\.)?\\w+\\.\\w+')\n",
    "\n",
    "matches = pattern.finditer(urls)\n",
    "\n",
    "for match in matches:\n",
    "    print (match.group(1))"
   ]
  },
  {
   "cell_type": "code",
   "execution_count": 100,
   "id": "faf21e6b",
   "metadata": {},
   "outputs": [
    {
     "ename": "AttributeError",
     "evalue": "module 're' has no attribute 'compiler'",
     "output_type": "error",
     "traceback": [
      "\u001b[1;31m---------------------------------------------------------------------------\u001b[0m",
      "\u001b[1;31mAttributeError\u001b[0m                            Traceback (most recent call last)",
      "Input \u001b[1;32mIn [100]\u001b[0m, in \u001b[0;36m<cell line: 3>\u001b[1;34m()\u001b[0m\n\u001b[0;32m      1\u001b[0m \u001b[38;5;28;01mimport\u001b[39;00m \u001b[38;5;21;01mre\u001b[39;00m\n\u001b[1;32m----> 3\u001b[0m pattern \u001b[38;5;241m=\u001b[39m \u001b[43mre\u001b[49m\u001b[38;5;241;43m.\u001b[39;49m\u001b[43mcompiler\u001b[49m(\u001b[38;5;124mr\u001b[39m\u001b[38;5;124m'\u001b[39m\u001b[38;5;124m\\\u001b[39m\u001b[38;5;124md\u001b[39m\u001b[38;5;132;01m{3}\u001b[39;00m\u001b[38;5;124m.\u001b[39m\u001b[38;5;124m\\\u001b[39m\u001b[38;5;124md\u001b[39m\u001b[38;5;132;01m{3}\u001b[39;00m\u001b[38;5;124m.\u001b[39m\u001b[38;5;124m\\\u001b[39m\u001b[38;5;124md\u001b[39m\u001b[38;5;132;01m{4}\u001b[39;00m\u001b[38;5;124m'\u001b[39m)\n\u001b[0;32m      5\u001b[0m matches \u001b[38;5;241m=\u001b[39m pattern\u001b[38;5;241m.\u001b[39mfindall(text_to_search)\n\u001b[0;32m      7\u001b[0m \u001b[38;5;28;01mfor\u001b[39;00m match \u001b[38;5;129;01min\u001b[39;00m matches:\n",
      "\u001b[1;31mAttributeError\u001b[0m: module 're' has no attribute 'compiler'"
     ]
    }
   ],
   "source": [
    "import re\n",
    "\n",
    "pattern = re.compiler(r'\\d{3}.\\d{3}.\\d{4}')\n",
    "\n",
    "matches = pattern.findall(text_to_search)\n",
    "\n",
    "for match in matches:\n",
    "    print(match)"
   ]
  },
  {
   "cell_type": "code",
   "execution_count": 104,
   "id": "c8301d0d",
   "metadata": {},
   "outputs": [
    {
     "name": "stdout",
     "output_type": "stream",
     "text": [
      "<re.Match object; span=(0, 5), match='Start'>\n"
     ]
    }
   ],
   "source": [
    "import re\n",
    "\n",
    "sentence = 'Start a sentence and then bring it to an end'\n",
    "\n",
    "pattern = re.compile(r'start', re.I)\n",
    "\n",
    "matches = pattern.search(sentence)\n",
    "print (matches)"
   ]
  },
  {
   "cell_type": "markdown",
   "id": "a423d2ba",
   "metadata": {},
   "source": [
    "# Basic calculator"
   ]
  },
  {
   "cell_type": "code",
   "execution_count": 105,
   "id": "b1057709",
   "metadata": {},
   "outputs": [
    {
     "name": "stdout",
     "output_type": "stream",
     "text": [
      "Enter a number:5\n",
      "Enter another number:8.3\n",
      "58.3\n"
     ]
    }
   ],
   "source": [
    "num1 = input('Enter a number:')\n",
    "num2 = input('Enter another number:')\n",
    "\n",
    "result = num1 + num2\n",
    "\n",
    "print(result)"
   ]
  },
  {
   "cell_type": "code",
   "execution_count": 107,
   "id": "45ac3ec5",
   "metadata": {},
   "outputs": [
    {
     "name": "stdout",
     "output_type": "stream",
     "text": [
      "Enter a number:4\n",
      "Enter another number:9\n",
      "13\n"
     ]
    }
   ],
   "source": [
    "num1 = input('Enter a number:')\n",
    "num2 = input('Enter another number:')\n",
    "\n",
    "result = int(num1) + int(num2)\n",
    "\n",
    "print(result)"
   ]
  },
  {
   "cell_type": "code",
   "execution_count": 108,
   "id": "761e7600",
   "metadata": {},
   "outputs": [
    {
     "name": "stdout",
     "output_type": "stream",
     "text": [
      "Enter a number:4\n",
      "Enter another number:5.5\n",
      "9.5\n"
     ]
    }
   ],
   "source": [
    "num1 = input('Enter a number:')\n",
    "num2 = input('Enter another number:')\n",
    "\n",
    "result = float(num1) + float(num2)\n",
    "\n",
    "print(result)"
   ]
  },
  {
   "cell_type": "code",
   "execution_count": 110,
   "id": "cd200161",
   "metadata": {},
   "outputs": [
    {
     "name": "stdout",
     "output_type": "stream",
     "text": [
      "Enter a number:89\n",
      "Enter another number:24\n",
      "65\n"
     ]
    }
   ],
   "source": [
    "num1 = input('Enter a number:')\n",
    "num2 = input('Enter another number:')\n",
    "\n",
    "result = int(num1) - int(num2)\n",
    "\n",
    "print(result)"
   ]
  },
  {
   "cell_type": "code",
   "execution_count": 112,
   "id": "16ebdb59",
   "metadata": {},
   "outputs": [
    {
     "name": "stdout",
     "output_type": "stream",
     "text": [
      "Enter a number:4\n",
      "Enter another number:2\n",
      "8\n"
     ]
    }
   ],
   "source": [
    "num1 = input('Enter a number:')\n",
    "num2 = input('Enter another number:')\n",
    "\n",
    "result = int(num1) * int(num2)\n",
    "\n",
    "print(result)"
   ]
  },
  {
   "cell_type": "code",
   "execution_count": 114,
   "id": "4c62a376",
   "metadata": {},
   "outputs": [
    {
     "name": "stdout",
     "output_type": "stream",
     "text": [
      "Enter a number:4\n",
      "Enter another number:2\n",
      "0\n"
     ]
    }
   ],
   "source": [
    "num1 = input('Enter a number:')\n",
    "num2 = input('Enter another number:')\n",
    "\n",
    "result = int(num1) % int(num2)\n",
    "\n",
    "print(result)"
   ]
  },
  {
   "cell_type": "code",
   "execution_count": 115,
   "id": "489ba4da",
   "metadata": {},
   "outputs": [
    {
     "name": "stdout",
     "output_type": "stream",
     "text": [
      "Enter a number:8.9\n",
      "Enter another number:6.5\n",
      "57.85\n"
     ]
    }
   ],
   "source": [
    "num1 = input('Enter a number:')\n",
    "num2 = input('Enter another number:')\n",
    "\n",
    "result = float(num1) * float(num2)\n",
    "\n",
    "print(result)"
   ]
  },
  {
   "cell_type": "markdown",
   "id": "46f45b4d",
   "metadata": {},
   "source": [
    "# List Function"
   ]
  },
  {
   "cell_type": "code",
   "execution_count": 116,
   "id": "56b30870",
   "metadata": {},
   "outputs": [
    {
     "name": "stdout",
     "output_type": "stream",
     "text": [
      "['prasanthi', 'brother', 'sister', 'mother', 'father', 4, 6, 7, 8, 9, 2, 3, 5, 34, 55, 77]\n"
     ]
    }
   ],
   "source": [
    "numbers = [4,6,7,8,9,2,3,5,34,55,77]\n",
    "names=['prasanthi', 'brother','sister','mother', 'father']\n",
    "\n",
    "names.extend(numbers)\n",
    "print(names)"
   ]
  },
  {
   "cell_type": "code",
   "execution_count": 117,
   "id": "5f39ed86",
   "metadata": {},
   "outputs": [
    {
     "name": "stdout",
     "output_type": "stream",
     "text": [
      "['prasanthi', 'brother', 'sister', 'mother', 'father', 'lucky']\n"
     ]
    }
   ],
   "source": [
    "numbers = [4,6,7,8,9,2,3,5,34,55,77]\n",
    "names=['prasanthi', 'brother','sister','mother', 'father']\n",
    "\n",
    "names.append('lucky')\n",
    "print(names)"
   ]
  },
  {
   "cell_type": "code",
   "execution_count": 118,
   "id": "8b56805a",
   "metadata": {},
   "outputs": [
    {
     "name": "stdout",
     "output_type": "stream",
     "text": [
      "['prasanthi', 'kiran', 'brother', 'sister', 'mother', 'father']\n"
     ]
    }
   ],
   "source": [
    "numbers = [4,6,7,8,9,2,3,5,34,55,77]\n",
    "names=['prasanthi', 'brother','sister','mother', 'father']\n",
    "\n",
    "names.insert(1, 'kiran')\n",
    "print(names)"
   ]
  },
  {
   "cell_type": "code",
   "execution_count": 121,
   "id": "e7360601",
   "metadata": {},
   "outputs": [
    {
     "name": "stdout",
     "output_type": "stream",
     "text": [
      "['prasanthi', 'brother', 'sister', 'mother', 'father']\n"
     ]
    }
   ],
   "source": [
    "numbers = [4,6,7,8,9,2,3,5,34,55,77]\n",
    "names=['prasanthi', 'kiran', 'brother','sister','mother', 'father']\n",
    "\n",
    "names.remove('kiran')\n",
    "print(names)"
   ]
  },
  {
   "cell_type": "code",
   "execution_count": 122,
   "id": "7020ea33",
   "metadata": {},
   "outputs": [
    {
     "name": "stdout",
     "output_type": "stream",
     "text": [
      "[]\n"
     ]
    }
   ],
   "source": [
    "numbers = [4,6,7,8,9,2,3,5,34,55,77]\n",
    "names=['prasanthi', 'brother','sister','mother', 'father']\n",
    "\n",
    "names.clear()\n",
    "print(names)"
   ]
  },
  {
   "cell_type": "code",
   "execution_count": 123,
   "id": "1e0813ab",
   "metadata": {},
   "outputs": [
    {
     "name": "stdout",
     "output_type": "stream",
     "text": [
      "['prasanthi', 'kiran', 'brother', 'sister', 'mother']\n"
     ]
    }
   ],
   "source": [
    "numbers = [4,6,7,8,9,2,3,5,34,55,77]\n",
    "names=['prasanthi', 'kiran', 'brother','sister','mother', 'father']\n",
    "\n",
    "names.pop()\n",
    "print(names)"
   ]
  },
  {
   "cell_type": "code",
   "execution_count": 124,
   "id": "768dffdf",
   "metadata": {},
   "outputs": [
    {
     "name": "stdout",
     "output_type": "stream",
     "text": [
      "2\n"
     ]
    }
   ],
   "source": [
    "numbers = [4,6,7,8,9,2,3,5,34,55,77]\n",
    "names=['prasanthi', 'kiran', 'brother','sister','mother', 'father']\n",
    "\n",
    "print(names.index('brother'))"
   ]
  },
  {
   "cell_type": "code",
   "execution_count": 125,
   "id": "0b6065ba",
   "metadata": {},
   "outputs": [
    {
     "name": "stdout",
     "output_type": "stream",
     "text": [
      "4\n"
     ]
    }
   ],
   "source": [
    "numbers = [4,6,7,8,9,2,3,5,34,55,77]\n",
    "names=['prasanthi', 'kiran', 'brother','sister','mother', 'father']\n",
    "\n",
    "print(names.index('mother'))"
   ]
  },
  {
   "cell_type": "code",
   "execution_count": 127,
   "id": "17c751ff",
   "metadata": {},
   "outputs": [
    {
     "name": "stdout",
     "output_type": "stream",
     "text": [
      "2\n"
     ]
    }
   ],
   "source": [
    "numbers = [4,6,7,8,9,2,3,5,34,55,77,9,9,9,9,9,5,5,5,5,]\n",
    "names=['prasanthi', 'kiran', 'brother','sister','mother', 'father','brother','sister']\n",
    "\n",
    "print(names.count('brother'))"
   ]
  },
  {
   "cell_type": "code",
   "execution_count": 128,
   "id": "031d2145",
   "metadata": {},
   "outputs": [
    {
     "name": "stdout",
     "output_type": "stream",
     "text": [
      "0\n"
     ]
    }
   ],
   "source": [
    "numbers = [4,6,7,8,9,2,3,5,34,55,77,9,9,9,9,9,5,5,5,5,]\n",
    "names=['prasanthi', 'kiran', 'brother','sister','mother', 'father','brother','sister']\n",
    "\n",
    "print(numbers.count('9'))"
   ]
  },
  {
   "cell_type": "code",
   "execution_count": 129,
   "id": "1c964293",
   "metadata": {},
   "outputs": [
    {
     "name": "stdout",
     "output_type": "stream",
     "text": [
      "['brother', 'father', 'kiran', 'mother', 'prasanthi', 'sister']\n"
     ]
    }
   ],
   "source": [
    "numbers = [4,6,7,8,9,2,3,5,34,55,77]\n",
    "names=['prasanthi', 'kiran', 'brother','sister','mother', 'father']\n",
    "\n",
    "names.sort()\n",
    "print(names)"
   ]
  },
  {
   "cell_type": "code",
   "execution_count": 131,
   "id": "3ada5400",
   "metadata": {},
   "outputs": [
    {
     "name": "stdout",
     "output_type": "stream",
     "text": [
      "[2, 3, 4, 5, 5, 5, 5, 5, 6, 7, 8, 9, 9, 9, 9, 9, 9, 34, 55, 77]\n"
     ]
    }
   ],
   "source": [
    "numbers = [4,6,7,8,9,2,3,5,34,55,77,9,9,9,9,9,5,5,5,5,]\n",
    "names=['prasanthi', 'kiran', 'brother','sister','mother', 'father']\n",
    "\n",
    "numbers.sort()\n",
    "print(numbers)"
   ]
  },
  {
   "cell_type": "code",
   "execution_count": 132,
   "id": "fe6a58c3",
   "metadata": {},
   "outputs": [
    {
     "name": "stdout",
     "output_type": "stream",
     "text": [
      "[5, 5, 5, 5, 9, 9, 9, 9, 9, 77, 55, 34, 5, 3, 2, 9, 8, 7, 6, 4]\n"
     ]
    }
   ],
   "source": [
    "numbers = [4,6,7,8,9,2,3,5,34,55,77,9,9,9,9,9,5,5,5,5,]\n",
    "names=['prasanthi', 'kiran', 'brother','sister','mother', 'father']\n",
    "\n",
    "numbers.reverse()\n",
    "print(numbers)"
   ]
  },
  {
   "cell_type": "code",
   "execution_count": 135,
   "id": "86e4cbce",
   "metadata": {},
   "outputs": [
    {
     "name": "stdout",
     "output_type": "stream",
     "text": [
      "[4, 6, 7, 8, 9, 2, 3, 5, 34, 55, 77, 9, 9, 9, 9, 9, 5, 5, 5, 5]\n"
     ]
    }
   ],
   "source": [
    "numbers = [4,6,7,8,9,2,3,5,34,55,77,9,9,9,9,9,5,5,5,5,]\n",
    "names=['prasanthi', 'kiran', 'brother','sister','mother', 'father']\n",
    "\n",
    "numbers1=numbers.copy()\n",
    "print(numbers1)"
   ]
  },
  {
   "cell_type": "code",
   "execution_count": 137,
   "id": "a7e59d5f",
   "metadata": {},
   "outputs": [
    {
     "name": "stdout",
     "output_type": "stream",
     "text": [
      "['prasanthi', 'kiran', 'brother', 'sister', 'mother', 'father']\n"
     ]
    }
   ],
   "source": [
    "numbers = [4,6,7,8,9,2,3,5,34,55,77,9,9,9,9,9,5,5,5,5,]\n",
    "names=['prasanthi', 'kiran', 'brother','sister','mother', 'father']\n",
    "\n",
    "names1=names.copy()\n",
    "print(names)"
   ]
  },
  {
   "cell_type": "markdown",
   "id": "91864642",
   "metadata": {},
   "source": [
    "# Guessing Game"
   ]
  },
  {
   "cell_type": "code",
   "execution_count": 138,
   "id": "750e82d3",
   "metadata": {},
   "outputs": [
    {
     "name": "stdout",
     "output_type": "stream",
     "text": [
      "Enter guess:text\n",
      "Enter guess:sis\n",
      "Enter guess:bro\n",
      "Enter guess:tell\n",
      "Enter guess:hand\n",
      "Enter guess:push\n",
      "Enter guess:gitaffe\n",
      "Enter guess:girafee\n",
      "Enter guess:giraffe\n",
      "You win!\n"
     ]
    }
   ],
   "source": [
    "secret_word = \"giraffe\"\n",
    "guess=\"\"\n",
    "\n",
    "while guess != secret_word:\n",
    "    guess = input('Enter guess:')\n",
    "    \n",
    "print('You win!')"
   ]
  },
  {
   "cell_type": "code",
   "execution_count": 140,
   "id": "23fc7668",
   "metadata": {},
   "outputs": [
    {
     "name": "stdout",
     "output_type": "stream",
     "text": [
      "Enter guess:one\n",
      "Enter guess:two\n",
      "Enter guess:giraffe\n",
      "You win!\n"
     ]
    }
   ],
   "source": [
    "secret_word = \"giraffe\"\n",
    "guess=\"\"\n",
    "guess_count = 0\n",
    "guess_limit = 3\n",
    "out_of_guesses = False\n",
    "\n",
    "while guess != secret_word and not(out_of_guesses):\n",
    "    if guess_count<guess_limit:\n",
    "        guess = input('Enter guess:')\n",
    "        guess_count +=1\n",
    "    else:\n",
    "        out_of_guesses = True\n",
    "\n",
    "if out_of_guesses:\n",
    "    print('out of Guesses, YOU LOSE!')\n",
    "else:\n",
    "    print('You win!')"
   ]
  },
  {
   "cell_type": "markdown",
   "id": "9e9310b9",
   "metadata": {},
   "source": [
    "# Translator in python"
   ]
  },
  {
   "cell_type": "code",
   "execution_count": 145,
   "id": "121b84bd",
   "metadata": {},
   "outputs": [
    {
     "name": "stdout",
     "output_type": "stream",
     "text": [
      "Enter a phrase:git\n",
      "ggt\n"
     ]
    }
   ],
   "source": [
    "def translate(phrase):\n",
    "    translation=''\n",
    "    for letter in phrase:\n",
    "        if letter in 'AEIOUaeiou':\n",
    "            translation = translation + 'g'\n",
    "        else:\n",
    "            translation = translation + letter\n",
    "    return translation\n",
    "\n",
    "print(translate(input('Enter a phrase:')))"
   ]
  },
  {
   "cell_type": "code",
   "execution_count": 146,
   "id": "a0baae44",
   "metadata": {},
   "outputs": [
    {
     "name": "stdout",
     "output_type": "stream",
     "text": [
      "Enter a phrase:on\n",
      "gn\n"
     ]
    }
   ],
   "source": [
    "def translate(phrase):\n",
    "    translation=''\n",
    "    for letter in phrase:\n",
    "        if letter.lower() in 'aeiou':\n",
    "            if letter.isupper():\n",
    "                translation = translation + 'G'\n",
    "            else:\n",
    "                translation = translation + 'g'\n",
    "            \n",
    "        else:\n",
    "            translation = translation + letter\n",
    "    return translation\n",
    "\n",
    "print(translate(input('Enter a phrase:')))"
   ]
  },
  {
   "cell_type": "markdown",
   "id": "e80d4548",
   "metadata": {},
   "source": [
    "# Comments"
   ]
  },
  {
   "cell_type": "code",
   "execution_count": 147,
   "id": "a0a07c0e",
   "metadata": {},
   "outputs": [
    {
     "name": "stdout",
     "output_type": "stream",
     "text": [
      "Comments are fun\n"
     ]
    }
   ],
   "source": [
    "'''\n",
    "Write some thing\n",
    "It is little note \n",
    "\n",
    "'''\n",
    "\n",
    "#This prints out a string\n",
    " \n",
    "print('Comments are fun')\n"
   ]
  },
  {
   "cell_type": "code",
   "execution_count": null,
   "id": "ad80b248",
   "metadata": {},
   "outputs": [],
   "source": []
  }
 ],
 "metadata": {
  "kernelspec": {
   "display_name": "Python 3 (ipykernel)",
   "language": "python",
   "name": "python3"
  },
  "language_info": {
   "codemirror_mode": {
    "name": "ipython",
    "version": 3
   },
   "file_extension": ".py",
   "mimetype": "text/x-python",
   "name": "python",
   "nbconvert_exporter": "python",
   "pygments_lexer": "ipython3",
   "version": "3.9.12"
  }
 },
 "nbformat": 4,
 "nbformat_minor": 5
}
