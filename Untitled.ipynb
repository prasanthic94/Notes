{
 "cells": [
  {
   "cell_type": "markdown",
   "id": "b1156715",
   "metadata": {},
   "source": [
    "# String"
   ]
  },
  {
   "cell_type": "code",
   "execution_count": 8,
   "id": "d96cc986",
   "metadata": {},
   "outputs": [
    {
     "name": "stdout",
     "output_type": "stream",
     "text": [
      "welcome Message\n",
      "Hello World\n"
     ]
    }
   ],
   "source": [
    "print('welcome Message')\n",
    "print('Hello World')"
   ]
  },
  {
   "cell_type": "code",
   "execution_count": 9,
   "id": "e3502d2f",
   "metadata": {},
   "outputs": [
    {
     "name": "stdout",
     "output_type": "stream",
     "text": [
      "hello world\n"
     ]
    }
   ],
   "source": [
    "message = 'hello world'\n",
    "print(message)"
   ]
  },
  {
   "cell_type": "code",
   "execution_count": 10,
   "id": "301c3f22",
   "metadata": {},
   "outputs": [
    {
     "ename": "SyntaxError",
     "evalue": "invalid syntax (557969395.py, line 1)",
     "output_type": "error",
     "traceback": [
      "\u001b[1;36m  Input \u001b[1;32mIn [10]\u001b[1;36m\u001b[0m\n\u001b[1;33m    message = 'Bobby's world'\u001b[0m\n\u001b[1;37m                     ^\u001b[0m\n\u001b[1;31mSyntaxError\u001b[0m\u001b[1;31m:\u001b[0m invalid syntax\n"
     ]
    }
   ],
   "source": [
    "message = 'Bobby's world'\n",
    "print(message)"
   ]
  },
  {
   "cell_type": "code",
   "execution_count": 12,
   "id": "d4f12fc0",
   "metadata": {},
   "outputs": [
    {
     "name": "stdout",
     "output_type": "stream",
     "text": [
      "Bobby's world\n"
     ]
    }
   ],
   "source": [
    "message = 'Bobby\\'s world'\n",
    "print (message)"
   ]
  },
  {
   "cell_type": "code",
   "execution_count": 13,
   "id": "cc7b1598",
   "metadata": {},
   "outputs": [
    {
     "name": "stdout",
     "output_type": "stream",
     "text": [
      "Bobby's world\n"
     ]
    }
   ],
   "source": [
    "message = \"Bobby's world\"\n",
    "print (message)"
   ]
  },
  {
   "cell_type": "code",
   "execution_count": 14,
   "id": "93334ba6",
   "metadata": {},
   "outputs": [
    {
     "name": "stdout",
     "output_type": "stream",
     "text": [
      "11\n"
     ]
    }
   ],
   "source": [
    "message = 'Hello world'\n",
    "print (len(message))"
   ]
  },
  {
   "cell_type": "code",
   "execution_count": 15,
   "id": "be85b5d0",
   "metadata": {},
   "outputs": [
    {
     "name": "stdout",
     "output_type": "stream",
     "text": [
      "H\n"
     ]
    }
   ],
   "source": [
    "message = 'Hello world'\n",
    "print (message[0])"
   ]
  },
  {
   "cell_type": "code",
   "execution_count": 16,
   "id": "7a240e95",
   "metadata": {},
   "outputs": [
    {
     "ename": "IndexError",
     "evalue": "string index out of range",
     "output_type": "error",
     "traceback": [
      "\u001b[1;31m---------------------------------------------------------------------------\u001b[0m",
      "\u001b[1;31mIndexError\u001b[0m                                Traceback (most recent call last)",
      "Input \u001b[1;32mIn [16]\u001b[0m, in \u001b[0;36m<cell line: 2>\u001b[1;34m()\u001b[0m\n\u001b[0;32m      1\u001b[0m message \u001b[38;5;241m=\u001b[39m \u001b[38;5;124m'\u001b[39m\u001b[38;5;124mHello world\u001b[39m\u001b[38;5;124m'\u001b[39m\n\u001b[1;32m----> 2\u001b[0m \u001b[38;5;28mprint\u001b[39m (\u001b[43mmessage\u001b[49m\u001b[43m[\u001b[49m\u001b[38;5;241;43m11\u001b[39;49m\u001b[43m]\u001b[49m)\n",
      "\u001b[1;31mIndexError\u001b[0m: string index out of range"
     ]
    }
   ],
   "source": [
    "message = 'Hello world'\n",
    "print (message[11])"
   ]
  },
  {
   "cell_type": "code",
   "execution_count": 17,
   "id": "c32fb45d",
   "metadata": {},
   "outputs": [
    {
     "name": "stdout",
     "output_type": "stream",
     "text": [
      "Hello\n"
     ]
    }
   ],
   "source": [
    "message = 'Hello world'\n",
    "print (message[:5])"
   ]
  },
  {
   "cell_type": "code",
   "execution_count": 18,
   "id": "eea36e7e",
   "metadata": {},
   "outputs": [
    {
     "name": "stdout",
     "output_type": "stream",
     "text": [
      "world\n"
     ]
    }
   ],
   "source": [
    "message = 'Hello world'\n",
    "print (message[6:])"
   ]
  },
  {
   "cell_type": "markdown",
   "id": "ee5ef046",
   "metadata": {},
   "source": [
    "For Lower & upper case print method"
   ]
  },
  {
   "cell_type": "code",
   "execution_count": 19,
   "id": "eee17440",
   "metadata": {},
   "outputs": [
    {
     "name": "stdout",
     "output_type": "stream",
     "text": [
      "hello world\n"
     ]
    }
   ],
   "source": [
    "message = 'Hello world'\n",
    "print (message.lower())"
   ]
  },
  {
   "cell_type": "code",
   "execution_count": 20,
   "id": "7f568297",
   "metadata": {},
   "outputs": [
    {
     "name": "stdout",
     "output_type": "stream",
     "text": [
      "HELLO WORLD\n"
     ]
    }
   ],
   "source": [
    "message = 'Hello world'\n",
    "print (message.upper())"
   ]
  },
  {
   "cell_type": "markdown",
   "id": "9a6f2034",
   "metadata": {},
   "source": [
    "COUNT METHOD"
   ]
  },
  {
   "cell_type": "code",
   "execution_count": 22,
   "id": "1545080f",
   "metadata": {},
   "outputs": [
    {
     "name": "stdout",
     "output_type": "stream",
     "text": [
      "1\n"
     ]
    }
   ],
   "source": [
    "message = 'Hello world'\n",
    "print (message.count('Hello'))"
   ]
  },
  {
   "cell_type": "code",
   "execution_count": 23,
   "id": "b893e8b0",
   "metadata": {},
   "outputs": [
    {
     "name": "stdout",
     "output_type": "stream",
     "text": [
      "3\n"
     ]
    }
   ],
   "source": [
    "message = 'Hello world'\n",
    "print (message.count('l'))"
   ]
  },
  {
   "cell_type": "markdown",
   "id": "ce9cef50",
   "metadata": {},
   "source": [
    "Find Method"
   ]
  },
  {
   "cell_type": "code",
   "execution_count": 24,
   "id": "5bb6fbf0",
   "metadata": {},
   "outputs": [
    {
     "name": "stdout",
     "output_type": "stream",
     "text": [
      "6\n"
     ]
    }
   ],
   "source": [
    "message = 'Hello world'\n",
    "print (message.find('world'))"
   ]
  },
  {
   "cell_type": "markdown",
   "id": "bb095e24",
   "metadata": {},
   "source": [
    "Replace Method"
   ]
  },
  {
   "cell_type": "code",
   "execution_count": 30,
   "id": "d861e2e4",
   "metadata": {},
   "outputs": [
    {
     "name": "stdout",
     "output_type": "stream",
     "text": [
      "Hello Universe\n"
     ]
    }
   ],
   "source": [
    "message = 'Hello world'\n",
    "\n",
    "new_message = message.replace('world','Universe')\n",
    "\n",
    "print (new_message)"
   ]
  },
  {
   "cell_type": "code",
   "execution_count": 32,
   "id": "e199a57d",
   "metadata": {},
   "outputs": [
    {
     "name": "stdout",
     "output_type": "stream",
     "text": [
      "Hello Universe\n",
      "Hello Universe\n"
     ]
    }
   ],
   "source": [
    "message = 'Hello world'\n",
    "\n",
    "message = message.replace('world', 'Universe')\n",
    "\n",
    "print (message)\n",
    "print (new_message)"
   ]
  },
  {
   "cell_type": "code",
   "execution_count": null,
   "id": "f633b8d1",
   "metadata": {},
   "outputs": [],
   "source": []
  }
 ],
 "metadata": {
  "kernelspec": {
   "display_name": "Python 3 (ipykernel)",
   "language": "python",
   "name": "python3"
  },
  "language_info": {
   "codemirror_mode": {
    "name": "ipython",
    "version": 3
   },
   "file_extension": ".py",
   "mimetype": "text/x-python",
   "name": "python",
   "nbconvert_exporter": "python",
   "pygments_lexer": "ipython3",
   "version": "3.9.12"
  }
 },
 "nbformat": 4,
 "nbformat_minor": 5
}
