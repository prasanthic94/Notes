{
 "cells": [
  {
   "cell_type": "markdown",
   "id": "e54ee58d",
   "metadata": {},
   "source": [
    "# String"
   ]
  },
  {
   "cell_type": "code",
   "execution_count": 8,
   "id": "be863fc9",
   "metadata": {},
   "outputs": [
    {
     "name": "stdout",
     "output_type": "stream",
     "text": [
      "welcome Message\n",
      "Hello World\n"
     ]
    }
   ],
   "source": [
    "print('welcome Message')\n",
    "print('Hello World')"
   ]
  },
  {
   "cell_type": "code",
   "execution_count": 9,
   "id": "b455d0cf",
   "metadata": {},
   "outputs": [
    {
     "name": "stdout",
     "output_type": "stream",
     "text": [
      "hello world\n"
     ]
    }
   ],
   "source": [
    "message = 'hello world'\n",
    "print(message)"
   ]
  },
  {
   "cell_type": "code",
   "execution_count": 10,
   "id": "caa20d9c",
   "metadata": {},
   "outputs": [
    {
     "ename": "SyntaxError",
     "evalue": "invalid syntax (557969395.py, line 1)",
     "output_type": "error",
     "traceback": [
      "\u001b[1;36m  Input \u001b[1;32mIn [10]\u001b[1;36m\u001b[0m\n\u001b[1;33m    message = 'Bobby's world'\u001b[0m\n\u001b[1;37m                     ^\u001b[0m\n\u001b[1;31mSyntaxError\u001b[0m\u001b[1;31m:\u001b[0m invalid syntax\n"
     ]
    }
   ],
   "source": [
    "message = 'Bobby's world'\n",
    "print(message)"
   ]
  },
  {
   "cell_type": "code",
   "execution_count": 12,
   "id": "abb0b986",
   "metadata": {},
   "outputs": [
    {
     "name": "stdout",
     "output_type": "stream",
     "text": [
      "Bobby's world\n"
     ]
    }
   ],
   "source": [
    "message = 'Bobby\\'s world'\n",
    "print (message)"
   ]
  },
  {
   "cell_type": "code",
   "execution_count": 13,
   "id": "888a6ba6",
   "metadata": {},
   "outputs": [
    {
     "name": "stdout",
     "output_type": "stream",
     "text": [
      "Bobby's world\n"
     ]
    }
   ],
   "source": [
    "message = \"Bobby's world\"\n",
    "print (message)"
   ]
  },
  {
   "cell_type": "code",
   "execution_count": 14,
   "id": "2c8298f7",
   "metadata": {},
   "outputs": [
    {
     "name": "stdout",
     "output_type": "stream",
     "text": [
      "11\n"
     ]
    }
   ],
   "source": [
    "message = 'Hello world'\n",
    "print (len(message))"
   ]
  },
  {
   "cell_type": "code",
   "execution_count": 15,
   "id": "c5d3f366",
   "metadata": {},
   "outputs": [
    {
     "name": "stdout",
     "output_type": "stream",
     "text": [
      "H\n"
     ]
    }
   ],
   "source": [
    "message = 'Hello world'\n",
    "print (message[0])"
   ]
  },
  {
   "cell_type": "code",
   "execution_count": 16,
   "id": "fb5017c5",
   "metadata": {},
   "outputs": [
    {
     "ename": "IndexError",
     "evalue": "string index out of range",
     "output_type": "error",
     "traceback": [
      "\u001b[1;31m---------------------------------------------------------------------------\u001b[0m",
      "\u001b[1;31mIndexError\u001b[0m                                Traceback (most recent call last)",
      "Input \u001b[1;32mIn [16]\u001b[0m, in \u001b[0;36m<cell line: 2>\u001b[1;34m()\u001b[0m\n\u001b[0;32m      1\u001b[0m message \u001b[38;5;241m=\u001b[39m \u001b[38;5;124m'\u001b[39m\u001b[38;5;124mHello world\u001b[39m\u001b[38;5;124m'\u001b[39m\n\u001b[1;32m----> 2\u001b[0m \u001b[38;5;28mprint\u001b[39m (\u001b[43mmessage\u001b[49m\u001b[43m[\u001b[49m\u001b[38;5;241;43m11\u001b[39;49m\u001b[43m]\u001b[49m)\n",
      "\u001b[1;31mIndexError\u001b[0m: string index out of range"
     ]
    }
   ],
   "source": [
    "message = 'Hello world'\n",
    "print (message[11])"
   ]
  },
  {
   "cell_type": "code",
   "execution_count": 17,
   "id": "7c53dc8b",
   "metadata": {},
   "outputs": [
    {
     "name": "stdout",
     "output_type": "stream",
     "text": [
      "Hello\n"
     ]
    }
   ],
   "source": [
    "message = 'Hello world'\n",
    "print (message[:5])"
   ]
  },
  {
   "cell_type": "code",
   "execution_count": 18,
   "id": "fa9535d8",
   "metadata": {},
   "outputs": [
    {
     "name": "stdout",
     "output_type": "stream",
     "text": [
      "world\n"
     ]
    }
   ],
   "source": [
    "message = 'Hello world'\n",
    "print (message[6:])"
   ]
  },
  {
   "cell_type": "markdown",
   "id": "a9068d36",
   "metadata": {},
   "source": [
    "For Lower & upper case print method"
   ]
  },
  {
   "cell_type": "code",
   "execution_count": 19,
   "id": "bd8664c0",
   "metadata": {},
   "outputs": [
    {
     "name": "stdout",
     "output_type": "stream",
     "text": [
      "hello world\n"
     ]
    }
   ],
   "source": [
    "message = 'Hello world'\n",
    "print (message.lower())"
   ]
  },
  {
   "cell_type": "code",
   "execution_count": 20,
   "id": "ba0204ea",
   "metadata": {},
   "outputs": [
    {
     "name": "stdout",
     "output_type": "stream",
     "text": [
      "HELLO WORLD\n"
     ]
    }
   ],
   "source": [
    "message = 'Hello world'\n",
    "print (message.upper())"
   ]
  },
  {
   "cell_type": "markdown",
   "id": "1bb9c0d9",
   "metadata": {},
   "source": [
    "# COUNT METHOD"
   ]
  },
  {
   "cell_type": "code",
   "execution_count": 22,
   "id": "48557962",
   "metadata": {},
   "outputs": [
    {
     "name": "stdout",
     "output_type": "stream",
     "text": [
      "1\n"
     ]
    }
   ],
   "source": [
    "message = 'Hello world'\n",
    "print (message.count('Hello'))"
   ]
  },
  {
   "cell_type": "code",
   "execution_count": 23,
   "id": "bf945575",
   "metadata": {},
   "outputs": [
    {
     "name": "stdout",
     "output_type": "stream",
     "text": [
      "3\n"
     ]
    }
   ],
   "source": [
    "message = 'Hello world'\n",
    "print (message.count('l'))"
   ]
  },
  {
   "cell_type": "markdown",
   "id": "c7b19e23",
   "metadata": {},
   "source": [
    "Find Method"
   ]
  },
  {
   "cell_type": "code",
   "execution_count": 24,
   "id": "f7f9b276",
   "metadata": {},
   "outputs": [
    {
     "name": "stdout",
     "output_type": "stream",
     "text": [
      "6\n"
     ]
    }
   ],
   "source": [
    "message = 'Hello world'\n",
    "print (message.find('world'))"
   ]
  },
  {
   "cell_type": "markdown",
   "id": "6cdac0b7",
   "metadata": {},
   "source": [
    "Replace Method"
   ]
  },
  {
   "cell_type": "code",
   "execution_count": 30,
   "id": "91f4fa97",
   "metadata": {},
   "outputs": [
    {
     "name": "stdout",
     "output_type": "stream",
     "text": [
      "Hello Universe\n"
     ]
    }
   ],
   "source": [
    "message = 'Hello world'\n",
    "\n",
    "new_message = message.replace('world','Universe')\n",
    "\n",
    "print (new_message)"
   ]
  },
  {
   "cell_type": "code",
   "execution_count": 32,
   "id": "987adb34",
   "metadata": {},
   "outputs": [
    {
     "name": "stdout",
     "output_type": "stream",
     "text": [
      "Hello Universe\n",
      "Hello Universe\n"
     ]
    }
   ],
   "source": [
    "message = 'Hello world'\n",
    "\n",
    "message = message.replace('world', 'Universe')\n",
    "\n",
    "print (message)\n",
    "print (new_message)"
   ]
  },
  {
   "cell_type": "code",
   "execution_count": 34,
   "id": "df688188",
   "metadata": {},
   "outputs": [
    {
     "name": "stdout",
     "output_type": "stream",
     "text": [
      "Helloprasanthi\n"
     ]
    }
   ],
   "source": [
    "greeting = 'Hello'\n",
    "name = 'prasanthi'\n",
    "\n",
    "message = greeting + name\n",
    "\n",
    "print (message)"
   ]
  },
  {
   "cell_type": "code",
   "execution_count": 38,
   "id": "825ab977",
   "metadata": {},
   "outputs": [
    {
     "name": "stdout",
     "output_type": "stream",
     "text": [
      "Hello,prasanthi.Welcome!\n"
     ]
    }
   ],
   "source": [
    "greeting = 'Hello'\n",
    "name = 'prasanthi'\n",
    "\n",
    "message = greeting +','+ name +'.Welcome!'\n",
    "\n",
    "print (message)"
   ]
  },
  {
   "cell_type": "markdown",
   "id": "2a58a276",
   "metadata": {},
   "source": [
    "Formatted string"
   ]
  },
  {
   "cell_type": "code",
   "execution_count": 39,
   "id": "ee3f34a3",
   "metadata": {},
   "outputs": [
    {
     "name": "stdout",
     "output_type": "stream",
     "text": [
      "Hello, prasanthi. welcome!\n"
     ]
    }
   ],
   "source": [
    "greeting = 'Hello'\n",
    "name = 'prasanthi'\n",
    "\n",
    "message = greeting +','+ name +'.Welcome!'\n",
    "\n",
    "message = '{}, {}. welcome!'. format(greeting, name)\n",
    "\n",
    "print (message)"
   ]
  },
  {
   "cell_type": "code",
   "execution_count": 41,
   "id": "a18ae867",
   "metadata": {},
   "outputs": [
    {
     "name": "stdout",
     "output_type": "stream",
     "text": [
      "Hello, PRASANTHI. welcome!\n"
     ]
    }
   ],
   "source": [
    "greeting = 'Hello'\n",
    "name = 'prasanthi'\n",
    "\n",
    "message = greeting +','+ name +'.Welcome!'\n",
    "\n",
    "message = f'{greeting}, {name.upper()}. welcome!'\n",
    "\n",
    "print (message)"
   ]
  },
  {
   "cell_type": "code",
   "execution_count": 42,
   "id": "4f23f267",
   "metadata": {},
   "outputs": [
    {
     "name": "stdout",
     "output_type": "stream",
     "text": [
      "['__add__', '__class__', '__contains__', '__delattr__', '__dir__', '__doc__', '__eq__', '__format__', '__ge__', '__getattribute__', '__getitem__', '__getnewargs__', '__gt__', '__hash__', '__init__', '__init_subclass__', '__iter__', '__le__', '__len__', '__lt__', '__mod__', '__mul__', '__ne__', '__new__', '__reduce__', '__reduce_ex__', '__repr__', '__rmod__', '__rmul__', '__setattr__', '__sizeof__', '__str__', '__subclasshook__', 'capitalize', 'casefold', 'center', 'count', 'encode', 'endswith', 'expandtabs', 'find', 'format', 'format_map', 'index', 'isalnum', 'isalpha', 'isascii', 'isdecimal', 'isdigit', 'isidentifier', 'islower', 'isnumeric', 'isprintable', 'isspace', 'istitle', 'isupper', 'join', 'ljust', 'lower', 'lstrip', 'maketrans', 'partition', 'removeprefix', 'removesuffix', 'replace', 'rfind', 'rindex', 'rjust', 'rpartition', 'rsplit', 'rstrip', 'split', 'splitlines', 'startswith', 'strip', 'swapcase', 'title', 'translate', 'upper', 'zfill']\n"
     ]
    }
   ],
   "source": [
    "greeting = 'Hello'\n",
    "name = 'prasanthi'\n",
    "\n",
    "print (dir(name))"
   ]
  },
  {
   "cell_type": "code",
   "execution_count": 43,
   "id": "0b447cf4",
   "metadata": {},
   "outputs": [
    {
     "name": "stdout",
     "output_type": "stream",
     "text": [
      "Help on class str in module builtins:\n",
      "\n",
      "class str(object)\n",
      " |  str(object='') -> str\n",
      " |  str(bytes_or_buffer[, encoding[, errors]]) -> str\n",
      " |  \n",
      " |  Create a new string object from the given object. If encoding or\n",
      " |  errors is specified, then the object must expose a data buffer\n",
      " |  that will be decoded using the given encoding and error handler.\n",
      " |  Otherwise, returns the result of object.__str__() (if defined)\n",
      " |  or repr(object).\n",
      " |  encoding defaults to sys.getdefaultencoding().\n",
      " |  errors defaults to 'strict'.\n",
      " |  \n",
      " |  Methods defined here:\n",
      " |  \n",
      " |  __add__(self, value, /)\n",
      " |      Return self+value.\n",
      " |  \n",
      " |  __contains__(self, key, /)\n",
      " |      Return key in self.\n",
      " |  \n",
      " |  __eq__(self, value, /)\n",
      " |      Return self==value.\n",
      " |  \n",
      " |  __format__(self, format_spec, /)\n",
      " |      Return a formatted version of the string as described by format_spec.\n",
      " |  \n",
      " |  __ge__(self, value, /)\n",
      " |      Return self>=value.\n",
      " |  \n",
      " |  __getattribute__(self, name, /)\n",
      " |      Return getattr(self, name).\n",
      " |  \n",
      " |  __getitem__(self, key, /)\n",
      " |      Return self[key].\n",
      " |  \n",
      " |  __getnewargs__(...)\n",
      " |  \n",
      " |  __gt__(self, value, /)\n",
      " |      Return self>value.\n",
      " |  \n",
      " |  __hash__(self, /)\n",
      " |      Return hash(self).\n",
      " |  \n",
      " |  __iter__(self, /)\n",
      " |      Implement iter(self).\n",
      " |  \n",
      " |  __le__(self, value, /)\n",
      " |      Return self<=value.\n",
      " |  \n",
      " |  __len__(self, /)\n",
      " |      Return len(self).\n",
      " |  \n",
      " |  __lt__(self, value, /)\n",
      " |      Return self<value.\n",
      " |  \n",
      " |  __mod__(self, value, /)\n",
      " |      Return self%value.\n",
      " |  \n",
      " |  __mul__(self, value, /)\n",
      " |      Return self*value.\n",
      " |  \n",
      " |  __ne__(self, value, /)\n",
      " |      Return self!=value.\n",
      " |  \n",
      " |  __repr__(self, /)\n",
      " |      Return repr(self).\n",
      " |  \n",
      " |  __rmod__(self, value, /)\n",
      " |      Return value%self.\n",
      " |  \n",
      " |  __rmul__(self, value, /)\n",
      " |      Return value*self.\n",
      " |  \n",
      " |  __sizeof__(self, /)\n",
      " |      Return the size of the string in memory, in bytes.\n",
      " |  \n",
      " |  __str__(self, /)\n",
      " |      Return str(self).\n",
      " |  \n",
      " |  capitalize(self, /)\n",
      " |      Return a capitalized version of the string.\n",
      " |      \n",
      " |      More specifically, make the first character have upper case and the rest lower\n",
      " |      case.\n",
      " |  \n",
      " |  casefold(self, /)\n",
      " |      Return a version of the string suitable for caseless comparisons.\n",
      " |  \n",
      " |  center(self, width, fillchar=' ', /)\n",
      " |      Return a centered string of length width.\n",
      " |      \n",
      " |      Padding is done using the specified fill character (default is a space).\n",
      " |  \n",
      " |  count(...)\n",
      " |      S.count(sub[, start[, end]]) -> int\n",
      " |      \n",
      " |      Return the number of non-overlapping occurrences of substring sub in\n",
      " |      string S[start:end].  Optional arguments start and end are\n",
      " |      interpreted as in slice notation.\n",
      " |  \n",
      " |  encode(self, /, encoding='utf-8', errors='strict')\n",
      " |      Encode the string using the codec registered for encoding.\n",
      " |      \n",
      " |      encoding\n",
      " |        The encoding in which to encode the string.\n",
      " |      errors\n",
      " |        The error handling scheme to use for encoding errors.\n",
      " |        The default is 'strict' meaning that encoding errors raise a\n",
      " |        UnicodeEncodeError.  Other possible values are 'ignore', 'replace' and\n",
      " |        'xmlcharrefreplace' as well as any other name registered with\n",
      " |        codecs.register_error that can handle UnicodeEncodeErrors.\n",
      " |  \n",
      " |  endswith(...)\n",
      " |      S.endswith(suffix[, start[, end]]) -> bool\n",
      " |      \n",
      " |      Return True if S ends with the specified suffix, False otherwise.\n",
      " |      With optional start, test S beginning at that position.\n",
      " |      With optional end, stop comparing S at that position.\n",
      " |      suffix can also be a tuple of strings to try.\n",
      " |  \n",
      " |  expandtabs(self, /, tabsize=8)\n",
      " |      Return a copy where all tab characters are expanded using spaces.\n",
      " |      \n",
      " |      If tabsize is not given, a tab size of 8 characters is assumed.\n",
      " |  \n",
      " |  find(...)\n",
      " |      S.find(sub[, start[, end]]) -> int\n",
      " |      \n",
      " |      Return the lowest index in S where substring sub is found,\n",
      " |      such that sub is contained within S[start:end].  Optional\n",
      " |      arguments start and end are interpreted as in slice notation.\n",
      " |      \n",
      " |      Return -1 on failure.\n",
      " |  \n",
      " |  format(...)\n",
      " |      S.format(*args, **kwargs) -> str\n",
      " |      \n",
      " |      Return a formatted version of S, using substitutions from args and kwargs.\n",
      " |      The substitutions are identified by braces ('{' and '}').\n",
      " |  \n",
      " |  format_map(...)\n",
      " |      S.format_map(mapping) -> str\n",
      " |      \n",
      " |      Return a formatted version of S, using substitutions from mapping.\n",
      " |      The substitutions are identified by braces ('{' and '}').\n",
      " |  \n",
      " |  index(...)\n",
      " |      S.index(sub[, start[, end]]) -> int\n",
      " |      \n",
      " |      Return the lowest index in S where substring sub is found,\n",
      " |      such that sub is contained within S[start:end].  Optional\n",
      " |      arguments start and end are interpreted as in slice notation.\n",
      " |      \n",
      " |      Raises ValueError when the substring is not found.\n",
      " |  \n",
      " |  isalnum(self, /)\n",
      " |      Return True if the string is an alpha-numeric string, False otherwise.\n",
      " |      \n",
      " |      A string is alpha-numeric if all characters in the string are alpha-numeric and\n",
      " |      there is at least one character in the string.\n",
      " |  \n",
      " |  isalpha(self, /)\n",
      " |      Return True if the string is an alphabetic string, False otherwise.\n",
      " |      \n",
      " |      A string is alphabetic if all characters in the string are alphabetic and there\n",
      " |      is at least one character in the string.\n",
      " |  \n",
      " |  isascii(self, /)\n",
      " |      Return True if all characters in the string are ASCII, False otherwise.\n",
      " |      \n",
      " |      ASCII characters have code points in the range U+0000-U+007F.\n",
      " |      Empty string is ASCII too.\n",
      " |  \n",
      " |  isdecimal(self, /)\n",
      " |      Return True if the string is a decimal string, False otherwise.\n",
      " |      \n",
      " |      A string is a decimal string if all characters in the string are decimal and\n",
      " |      there is at least one character in the string.\n",
      " |  \n",
      " |  isdigit(self, /)\n",
      " |      Return True if the string is a digit string, False otherwise.\n",
      " |      \n",
      " |      A string is a digit string if all characters in the string are digits and there\n",
      " |      is at least one character in the string.\n",
      " |  \n",
      " |  isidentifier(self, /)\n",
      " |      Return True if the string is a valid Python identifier, False otherwise.\n",
      " |      \n",
      " |      Call keyword.iskeyword(s) to test whether string s is a reserved identifier,\n",
      " |      such as \"def\" or \"class\".\n",
      " |  \n",
      " |  islower(self, /)\n",
      " |      Return True if the string is a lowercase string, False otherwise.\n",
      " |      \n",
      " |      A string is lowercase if all cased characters in the string are lowercase and\n",
      " |      there is at least one cased character in the string.\n",
      " |  \n",
      " |  isnumeric(self, /)\n",
      " |      Return True if the string is a numeric string, False otherwise.\n",
      " |      \n",
      " |      A string is numeric if all characters in the string are numeric and there is at\n",
      " |      least one character in the string.\n",
      " |  \n",
      " |  isprintable(self, /)\n",
      " |      Return True if the string is printable, False otherwise.\n",
      " |      \n",
      " |      A string is printable if all of its characters are considered printable in\n",
      " |      repr() or if it is empty.\n",
      " |  \n",
      " |  isspace(self, /)\n",
      " |      Return True if the string is a whitespace string, False otherwise.\n",
      " |      \n",
      " |      A string is whitespace if all characters in the string are whitespace and there\n",
      " |      is at least one character in the string.\n",
      " |  \n",
      " |  istitle(self, /)\n",
      " |      Return True if the string is a title-cased string, False otherwise.\n",
      " |      \n",
      " |      In a title-cased string, upper- and title-case characters may only\n",
      " |      follow uncased characters and lowercase characters only cased ones.\n",
      " |  \n",
      " |  isupper(self, /)\n",
      " |      Return True if the string is an uppercase string, False otherwise.\n",
      " |      \n",
      " |      A string is uppercase if all cased characters in the string are uppercase and\n",
      " |      there is at least one cased character in the string.\n",
      " |  \n",
      " |  join(self, iterable, /)\n",
      " |      Concatenate any number of strings.\n",
      " |      \n",
      " |      The string whose method is called is inserted in between each given string.\n",
      " |      The result is returned as a new string.\n",
      " |      \n",
      " |      Example: '.'.join(['ab', 'pq', 'rs']) -> 'ab.pq.rs'\n",
      " |  \n",
      " |  ljust(self, width, fillchar=' ', /)\n",
      " |      Return a left-justified string of length width.\n",
      " |      \n",
      " |      Padding is done using the specified fill character (default is a space).\n",
      " |  \n",
      " |  lower(self, /)\n",
      " |      Return a copy of the string converted to lowercase.\n",
      " |  \n",
      " |  lstrip(self, chars=None, /)\n",
      " |      Return a copy of the string with leading whitespace removed.\n",
      " |      \n",
      " |      If chars is given and not None, remove characters in chars instead.\n",
      " |  \n",
      " |  partition(self, sep, /)\n",
      " |      Partition the string into three parts using the given separator.\n",
      " |      \n",
      " |      This will search for the separator in the string.  If the separator is found,\n",
      " |      returns a 3-tuple containing the part before the separator, the separator\n",
      " |      itself, and the part after it.\n",
      " |      \n",
      " |      If the separator is not found, returns a 3-tuple containing the original string\n",
      " |      and two empty strings.\n",
      " |  \n",
      " |  removeprefix(self, prefix, /)\n",
      " |      Return a str with the given prefix string removed if present.\n",
      " |      \n",
      " |      If the string starts with the prefix string, return string[len(prefix):].\n",
      " |      Otherwise, return a copy of the original string.\n",
      " |  \n",
      " |  removesuffix(self, suffix, /)\n",
      " |      Return a str with the given suffix string removed if present.\n",
      " |      \n",
      " |      If the string ends with the suffix string and that suffix is not empty,\n",
      " |      return string[:-len(suffix)]. Otherwise, return a copy of the original\n",
      " |      string.\n",
      " |  \n",
      " |  replace(self, old, new, count=-1, /)\n",
      " |      Return a copy with all occurrences of substring old replaced by new.\n",
      " |      \n",
      " |        count\n",
      " |          Maximum number of occurrences to replace.\n",
      " |          -1 (the default value) means replace all occurrences.\n",
      " |      \n",
      " |      If the optional argument count is given, only the first count occurrences are\n",
      " |      replaced.\n",
      " |  \n",
      " |  rfind(...)\n",
      " |      S.rfind(sub[, start[, end]]) -> int\n",
      " |      \n",
      " |      Return the highest index in S where substring sub is found,\n",
      " |      such that sub is contained within S[start:end].  Optional\n",
      " |      arguments start and end are interpreted as in slice notation.\n",
      " |      \n",
      " |      Return -1 on failure.\n",
      " |  \n",
      " |  rindex(...)\n",
      " |      S.rindex(sub[, start[, end]]) -> int\n",
      " |      \n",
      " |      Return the highest index in S where substring sub is found,\n",
      " |      such that sub is contained within S[start:end].  Optional\n",
      " |      arguments start and end are interpreted as in slice notation.\n",
      " |      \n",
      " |      Raises ValueError when the substring is not found.\n",
      " |  \n",
      " |  rjust(self, width, fillchar=' ', /)\n",
      " |      Return a right-justified string of length width.\n",
      " |      \n",
      " |      Padding is done using the specified fill character (default is a space).\n",
      " |  \n",
      " |  rpartition(self, sep, /)\n",
      " |      Partition the string into three parts using the given separator.\n",
      " |      \n",
      " |      This will search for the separator in the string, starting at the end. If\n",
      " |      the separator is found, returns a 3-tuple containing the part before the\n",
      " |      separator, the separator itself, and the part after it.\n",
      " |      \n",
      " |      If the separator is not found, returns a 3-tuple containing two empty strings\n",
      " |      and the original string.\n",
      " |  \n",
      " |  rsplit(self, /, sep=None, maxsplit=-1)\n",
      " |      Return a list of the words in the string, using sep as the delimiter string.\n",
      " |      \n",
      " |        sep\n",
      " |          The delimiter according which to split the string.\n",
      " |          None (the default value) means split according to any whitespace,\n",
      " |          and discard empty strings from the result.\n",
      " |        maxsplit\n",
      " |          Maximum number of splits to do.\n",
      " |          -1 (the default value) means no limit.\n",
      " |      \n",
      " |      Splits are done starting at the end of the string and working to the front.\n",
      " |  \n",
      " |  rstrip(self, chars=None, /)\n",
      " |      Return a copy of the string with trailing whitespace removed.\n",
      " |      \n",
      " |      If chars is given and not None, remove characters in chars instead.\n",
      " |  \n",
      " |  split(self, /, sep=None, maxsplit=-1)\n",
      " |      Return a list of the words in the string, using sep as the delimiter string.\n",
      " |      \n",
      " |      sep\n",
      " |        The delimiter according which to split the string.\n",
      " |        None (the default value) means split according to any whitespace,\n",
      " |        and discard empty strings from the result.\n",
      " |      maxsplit\n",
      " |        Maximum number of splits to do.\n",
      " |        -1 (the default value) means no limit.\n",
      " |  \n",
      " |  splitlines(self, /, keepends=False)\n",
      " |      Return a list of the lines in the string, breaking at line boundaries.\n",
      " |      \n",
      " |      Line breaks are not included in the resulting list unless keepends is given and\n",
      " |      true.\n",
      " |  \n",
      " |  startswith(...)\n",
      " |      S.startswith(prefix[, start[, end]]) -> bool\n",
      " |      \n",
      " |      Return True if S starts with the specified prefix, False otherwise.\n",
      " |      With optional start, test S beginning at that position.\n",
      " |      With optional end, stop comparing S at that position.\n",
      " |      prefix can also be a tuple of strings to try.\n",
      " |  \n",
      " |  strip(self, chars=None, /)\n",
      " |      Return a copy of the string with leading and trailing whitespace removed.\n",
      " |      \n",
      " |      If chars is given and not None, remove characters in chars instead.\n",
      " |  \n",
      " |  swapcase(self, /)\n",
      " |      Convert uppercase characters to lowercase and lowercase characters to uppercase.\n",
      " |  \n",
      " |  title(self, /)\n",
      " |      Return a version of the string where each word is titlecased.\n",
      " |      \n",
      " |      More specifically, words start with uppercased characters and all remaining\n",
      " |      cased characters have lower case.\n",
      " |  \n",
      " |  translate(self, table, /)\n",
      " |      Replace each character in the string using the given translation table.\n",
      " |      \n",
      " |        table\n",
      " |          Translation table, which must be a mapping of Unicode ordinals to\n",
      " |          Unicode ordinals, strings, or None.\n",
      " |      \n",
      " |      The table must implement lookup/indexing via __getitem__, for instance a\n",
      " |      dictionary or list.  If this operation raises LookupError, the character is\n",
      " |      left untouched.  Characters mapped to None are deleted.\n",
      " |  \n",
      " |  upper(self, /)\n",
      " |      Return a copy of the string converted to uppercase.\n",
      " |  \n",
      " |  zfill(self, width, /)\n",
      " |      Pad a numeric string with zeros on the left, to fill a field of the given width.\n",
      " |      \n",
      " |      The string is never truncated.\n",
      " |  \n",
      " |  ----------------------------------------------------------------------\n",
      " |  Static methods defined here:\n",
      " |  \n",
      " |  __new__(*args, **kwargs) from builtins.type\n",
      " |      Create and return a new object.  See help(type) for accurate signature.\n",
      " |  \n",
      " |  maketrans(...)\n",
      " |      Return a translation table usable for str.translate().\n",
      " |      \n",
      " |      If there is only one argument, it must be a dictionary mapping Unicode\n",
      " |      ordinals (integers) or characters to Unicode ordinals, strings or None.\n",
      " |      Character keys will be then converted to ordinals.\n",
      " |      If there are two arguments, they must be strings of equal length, and\n",
      " |      in the resulting dictionary, each character in x will be mapped to the\n",
      " |      character at the same position in y. If there is a third argument, it\n",
      " |      must be a string, whose characters will be mapped to None in the result.\n",
      "\n",
      "None\n"
     ]
    }
   ],
   "source": [
    "greeting = 'Hello'\n",
    "name = 'prasanthi'\n",
    "\n",
    "print (help(str))"
   ]
  },
  {
   "cell_type": "markdown",
   "id": "7715ecaf",
   "metadata": {},
   "source": [
    "Integers and Floats - Working with Numeric Data"
   ]
  },
  {
   "cell_type": "code",
   "execution_count": 44,
   "id": "26a75e47",
   "metadata": {},
   "outputs": [
    {
     "name": "stdout",
     "output_type": "stream",
     "text": [
      "<class 'int'>\n"
     ]
    }
   ],
   "source": [
    "num =3\n",
    "\n",
    "print (type(num))"
   ]
  },
  {
   "cell_type": "code",
   "execution_count": 45,
   "id": "7e871e35",
   "metadata": {},
   "outputs": [
    {
     "name": "stdout",
     "output_type": "stream",
     "text": [
      "<class 'float'>\n"
     ]
    }
   ],
   "source": [
    "num =3.14\n",
    "\n",
    "print (type(num))"
   ]
  },
  {
   "cell_type": "markdown",
   "id": "b50c46ad",
   "metadata": {},
   "source": [
    "Arthimetic Operators\n"
   ]
  },
  {
   "cell_type": "code",
   "execution_count": 56,
   "id": "dc9235dd",
   "metadata": {},
   "outputs": [
    {
     "name": "stdout",
     "output_type": "stream",
     "text": [
      "5\n"
     ]
    }
   ],
   "source": [
    "# Addition: 3+2\n",
    "# Subtraction: 3-2\n",
    "# Multiplcation: 3*2\n",
    "# Division: 3/2\n",
    "# Floor Division: 3//2\n",
    "#Exponent: 3**2\n",
    "#Modulus: 3%2\n",
    "\n",
    "print (3 + 2)"
   ]
  },
  {
   "cell_type": "code",
   "execution_count": 231,
   "id": "29621c42",
   "metadata": {},
   "outputs": [
    {
     "name": "stdout",
     "output_type": "stream",
     "text": [
      "27\n"
     ]
    }
   ],
   "source": [
    "num =3\n",
    "\n",
    "num *= 9\n",
    "\n",
    "print(num)"
   ]
  },
  {
   "cell_type": "code",
   "execution_count": 63,
   "id": "168e4e4f",
   "metadata": {},
   "outputs": [
    {
     "name": "stdout",
     "output_type": "stream",
     "text": [
      "3\n",
      "3.8\n"
     ]
    }
   ],
   "source": [
    "print(abs(-3))\n",
    "print(round(3.75, 1))"
   ]
  },
  {
   "cell_type": "markdown",
   "id": "88841dc6",
   "metadata": {},
   "source": [
    "Comparisons"
   ]
  },
  {
   "cell_type": "code",
   "execution_count": 68,
   "id": "c2e4ce4a",
   "metadata": {},
   "outputs": [
    {
     "name": "stdout",
     "output_type": "stream",
     "text": [
      "True\n"
     ]
    }
   ],
   "source": [
    "#Equal: 3 == 2\n",
    "#Not Equal: 3 !=2\n",
    "#Greater than: 3 > 2\n",
    "#Less than: 3 < 2\n",
    "#Greater or Equal: 3 >= 2\n",
    "#Less or Equal: 3 <=2\n",
    "\n",
    "num_1 = 3\n",
    "num_2 = 2\n",
    "\n",
    "print(num_1 >= num_2)"
   ]
  },
  {
   "cell_type": "markdown",
   "id": "3de0d537",
   "metadata": {},
   "source": [
    "concatenates"
   ]
  },
  {
   "cell_type": "code",
   "execution_count": 71,
   "id": "6afb03aa",
   "metadata": {},
   "outputs": [
    {
     "name": "stdout",
     "output_type": "stream",
     "text": [
      "300\n"
     ]
    }
   ],
   "source": [
    "num_1 = '100'\n",
    "num_2 = '200'\n",
    "\n",
    "num_1 = int(num_1)\n",
    "num_2 = int(num_2)\n",
    "print(num_1 + num_2)"
   ]
  },
  {
   "cell_type": "markdown",
   "id": "7d761080",
   "metadata": {},
   "source": [
    "variables and data types"
   ]
  },
  {
   "cell_type": "code",
   "execution_count": 87,
   "id": "79cb5ca6",
   "metadata": {},
   "outputs": [
    {
     "name": "stdout",
     "output_type": "stream",
     "text": [
      "There once was a man named prasanthi,\n",
      "he was 25 years old ,\n",
      "he really like the name prasanthi,\n",
      "but didn't like being 25.\n"
     ]
    }
   ],
   "source": [
    "character_name = \"prasanthi\"\n",
    "character_age = \"25\"\n",
    "print('There once was a man named ' + character_name + ',')\n",
    "print('he was '+ character_age + ' years old ,' )\n",
    "print('he really like the name ' + character_name + ',')\n",
    "print(\"but didn't like being \" + character_age + '.')\n"
   ]
  },
  {
   "cell_type": "markdown",
   "id": "01d51f05",
   "metadata": {},
   "source": [
    "Getting inputs from users"
   ]
  },
  {
   "cell_type": "code",
   "execution_count": 91,
   "id": "bd556131",
   "metadata": {},
   "outputs": [
    {
     "name": "stdout",
     "output_type": "stream",
     "text": [
      "enter your name prasanthi\n",
      "enter you age 25\n",
      "prasanthi25\n"
     ]
    }
   ],
   "source": [
    "name = input('enter your name ')\n",
    "age = input ('enter you age ')\n",
    "\n",
    "print ( name + age)"
   ]
  },
  {
   "cell_type": "markdown",
   "id": "9b35e0f9",
   "metadata": {},
   "source": [
    "Lists,Tuples, and Sets"
   ]
  },
  {
   "cell_type": "code",
   "execution_count": 217,
   "id": "d7fdca6b",
   "metadata": {},
   "outputs": [
    {
     "name": "stdout",
     "output_type": "stream",
     "text": [
      "[['Art', 'Education'], 'history', 'maths', 'physics', 'telugu', 'art', 'Art', 'Education']\n",
      "8\n",
      "['Art', 'Education']\n",
      "Education\n",
      "[['Art', 'Education'], 'history']\n",
      "5\n",
      "<class 'list'>\n"
     ]
    }
   ],
   "source": [
    "courses = ['history', 'maths', 'physics', 'telugu']\n",
    "courses_2 = ['Art','Education']\n",
    "courses. append('art')\n",
    "courses.insert(0, courses_2)\n",
    "courses.extend(courses_2)\n",
    "print(courses)\n",
    "print(len(courses))\n",
    "print(courses[0])\n",
    "print(courses[-1])\n",
    "print(courses[0:2])\n",
    "print(courses.index('art')) \n",
    "print(type(courses_2))"
   ]
  },
  {
   "cell_type": "code",
   "execution_count": 214,
   "id": "f7ace28d",
   "metadata": {},
   "outputs": [
    {
     "name": "stdout",
     "output_type": "stream",
     "text": [
      "[['Art', 'Education'], 'history', 'physics']\n",
      "['Art', 'Education']\n",
      "telugu\n",
      "<class 'list'>\n"
     ]
    }
   ],
   "source": [
    "courses = ['history', 'maths', 'physics', 'telugu']\n",
    "courses_2 = ['Art','Education']\n",
    "courses.remove('maths')\n",
    "\n",
    "popped = courses.pop()\n",
    "\n",
    "courses. insert(0, courses_2)\n",
    "\n",
    "print(courses)\n",
    "print(courses_2)\n",
    "print(popped)\n",
    "print(type(courses))"
   ]
  },
  {
   "cell_type": "code",
   "execution_count": 188,
   "id": "dd4327aa",
   "metadata": {},
   "outputs": [
    {
     "name": "stdout",
     "output_type": "stream",
     "text": [
      "['telugu', 'physics', 'maths', 'history']\n",
      "1\n"
     ]
    }
   ],
   "source": [
    "courses = ['history', 'maths', 'physics', 'telugu']\n",
    "nums = [1, 5, 4, 2,3]\n",
    "\n",
    "courses. reverse()\n",
    "courses. sort(reverse=True)\n",
    "nums.sort(reverse=True)\n",
    "sorted_courses = sorted(courses)\n",
    "print(courses)\n",
    "print(min(nums))\n"
   ]
  },
  {
   "cell_type": "code",
   "execution_count": 191,
   "id": "234d1cb4",
   "metadata": {},
   "outputs": [
    {
     "name": "stdout",
     "output_type": "stream",
     "text": [
      "history-maths-physics-telugu\n",
      "['history', 'maths', 'physics', 'telugu']\n"
     ]
    }
   ],
   "source": [
    "courses = ['history', 'maths', 'physics', 'telugu']\n",
    "courses_str = '-'. join(courses)\n",
    "new_list = courses_str.split('-')\n",
    "\n",
    "print (courses_str)\n",
    "print (new_list)"
   ]
  },
  {
   "cell_type": "markdown",
   "id": "45fb1aea",
   "metadata": {},
   "source": [
    "# Dictionaries"
   ]
  },
  {
   "cell_type": "code",
   "execution_count": 213,
   "id": "aac330df",
   "metadata": {},
   "outputs": [
    {
     "name": "stdout",
     "output_type": "stream",
     "text": [
      "prasanthi\n",
      "3\n",
      "phone\n",
      "age\n",
      "<class 'dict'>\n"
     ]
    }
   ],
   "source": [
    "dic={'name':'prasanthi','age':'20','phone':'9999922228'}\n",
    "\n",
    "print(dic['name'])\n",
    "print(len(dic))\n",
    "print(max(dic))\n",
    "print(min(dic))\n",
    "print(type(dic))"
   ]
  },
  {
   "cell_type": "code",
   "execution_count": 221,
   "id": "616fc1a2",
   "metadata": {},
   "outputs": [
    {
     "name": "stdout",
     "output_type": "stream",
     "text": [
      "{'name': 'prasanthi', 'age': '20', 'gender': 'female'}\n"
     ]
    }
   ],
   "source": [
    "dic={'name':'prasanthi','age':'20','phone':'9999922228'}\n",
    "dic[\"gender\"]=\"female\"\n",
    "dic.pop(\"phone\")\n",
    "\n",
    "print(dic)"
   ]
  },
  {
   "cell_type": "code",
   "execution_count": 223,
   "id": "c2d4471b",
   "metadata": {},
   "outputs": [
    {
     "name": "stdout",
     "output_type": "stream",
     "text": [
      "{'name': 'prasanthi', 'age': '20', 'phone': '9999922228'}\n"
     ]
    }
   ],
   "source": [
    "dic={'name':'prasanthi','age':'20','phone':'9999922228'}\n",
    "mydic=dict(dic)\n",
    "print(mydic)"
   ]
  },
  {
   "cell_type": "markdown",
   "id": "f60dc394",
   "metadata": {},
   "source": [
    "# Booleans"
   ]
  },
  {
   "cell_type": "code",
   "execution_count": 224,
   "id": "2fe16b4d",
   "metadata": {},
   "outputs": [
    {
     "name": "stdout",
     "output_type": "stream",
     "text": [
      "True\n"
     ]
    }
   ],
   "source": [
    "x=10>9\n",
    "print(x)"
   ]
  },
  {
   "cell_type": "code",
   "execution_count": 228,
   "id": "c92e77ce",
   "metadata": {},
   "outputs": [
    {
     "name": "stdout",
     "output_type": "stream",
     "text": [
      "False\n",
      "True\n"
     ]
    }
   ],
   "source": [
    "x= 'Hello'\n",
    "y= 15\n",
    "print(bool(x))\n",
    "print(bool(y))"
   ]
  },
  {
   "cell_type": "markdown",
   "id": "65f9db6c",
   "metadata": {},
   "source": [
    "# Conditions"
   ]
  },
  {
   "cell_type": "code",
   "execution_count": 236,
   "id": "290d8367",
   "metadata": {},
   "outputs": [
    {
     "name": "stdout",
     "output_type": "stream",
     "text": [
      "b is not greather than a\n"
     ]
    }
   ],
   "source": [
    "a=20\n",
    "b=30\n",
    "if b>a:\n",
    "   print('b is greater than a')\n",
    "else:\n",
    "    print('b is not greather than a')\n",
    "    "
   ]
  },
  {
   "cell_type": "code",
   "execution_count": 320,
   "id": "74826781",
   "metadata": {},
   "outputs": [
    {
     "name": "stdout",
     "output_type": "stream",
     "text": [
      "b is not greater than a\n"
     ]
    }
   ],
   "source": [
    "a = 34\n",
    "b = 33\n",
    "if b > a:\n",
    "  print(\"b is greater than a\")\n",
    "elif a == b:\n",
    "  print(\"a and b are equal\")\n",
    "else:\n",
    "  print(\"b is not greater than a\")\n"
   ]
  },
  {
   "cell_type": "code",
   "execution_count": 314,
   "id": "1cbcb203",
   "metadata": {},
   "outputs": [
    {
     "name": "stdout",
     "output_type": "stream",
     "text": [
      "Both conditions are True\n"
     ]
    }
   ],
   "source": [
    "a = 200\n",
    "b = 33\n",
    "c = 400\n",
    "if a > b and c > a:\n",
    "  print(\"Both conditions are True\")"
   ]
  },
  {
   "cell_type": "code",
   "execution_count": 266,
   "id": "993eaaf2",
   "metadata": {},
   "outputs": [
    {
     "name": "stdout",
     "output_type": "stream",
     "text": [
      "At least one of the conditions is True\n"
     ]
    }
   ],
   "source": [
    "a = 200\n",
    "b = 33\n",
    "c = 500\n",
    "if a > b or a > c:\n",
    "  print(\"At least one of the conditions is True\")"
   ]
  },
  {
   "cell_type": "code",
   "execution_count": 274,
   "id": "9f5d19b7",
   "metadata": {},
   "outputs": [
    {
     "name": "stdout",
     "output_type": "stream",
     "text": [
      "Above ten,\n",
      "and also above 20!\n"
     ]
    }
   ],
   "source": [
    "x = 40\n",
    "\n",
    "if x > 10:\n",
    "  print(\"Above ten,\")\n",
    "  if x > 20:\n",
    "    print(\"and also above 20!\")\n",
    "  else:\n",
    "    print(\"but not above 20.\")"
   ]
  },
  {
   "cell_type": "markdown",
   "id": "d6811672",
   "metadata": {},
   "source": [
    "#  Loops and Iterations"
   ]
  },
  {
   "cell_type": "code",
   "execution_count": 293,
   "id": "59250c03",
   "metadata": {},
   "outputs": [
    {
     "name": "stdout",
     "output_type": "stream",
     "text": [
      "1\n",
      "2\n",
      "found\n"
     ]
    }
   ],
   "source": [
    "nums = [1,2,3,4,5]\n",
    "for num in nums:\n",
    "    if num == 3: \n",
    "        print('found')\n",
    "        break\n",
    "    print(num)\n",
    "        "
   ]
  },
  {
   "cell_type": "code",
   "execution_count": 294,
   "id": "b3155877",
   "metadata": {},
   "outputs": [
    {
     "name": "stdout",
     "output_type": "stream",
     "text": [
      "1\n",
      "2\n",
      "found\n",
      "4\n",
      "5\n"
     ]
    }
   ],
   "source": [
    "nums = [1,2,3,4,5]\n",
    "for num in nums:\n",
    "    if num == 3:\n",
    "        print('found')\n",
    "        continue\n",
    "    print(num)"
   ]
  },
  {
   "cell_type": "code",
   "execution_count": 295,
   "id": "1de9ef22",
   "metadata": {},
   "outputs": [
    {
     "name": "stdout",
     "output_type": "stream",
     "text": [
      "1 a\n",
      "1 b\n",
      "1 c\n",
      "2 a\n",
      "2 b\n",
      "2 c\n",
      "3 a\n",
      "3 b\n",
      "3 c\n",
      "4 a\n",
      "4 b\n",
      "4 c\n",
      "5 a\n",
      "5 b\n",
      "5 c\n"
     ]
    }
   ],
   "source": [
    "nums = [1,2,3,4,5]\n",
    "for num in nums:\n",
    "    for letter in 'abc':\n",
    "        print(num, letter)"
   ]
  },
  {
   "cell_type": "markdown",
   "id": "9e85df76",
   "metadata": {},
   "source": [
    "# Functions"
   ]
  },
  {
   "cell_type": "code",
   "execution_count": 322,
   "id": "27303555",
   "metadata": {},
   "outputs": [
    {
     "name": "stdout",
     "output_type": "stream",
     "text": [
      "1\n",
      "2\n",
      "3\n",
      "4\n",
      "found\n"
     ]
    }
   ],
   "source": [
    "def hello_fun():\n",
    "    nums = [1,2,3,4,5]\n",
    "for num in nums:\n",
    "    if num == 5:\n",
    "        print('found')\n",
    "        break\n",
    "    print(num)\n",
    "    \n",
    "hello_fun()\n",
    "\n"
   ]
  },
  {
   "cell_type": "markdown",
   "id": "77304cce",
   "metadata": {},
   "source": [
    "# Import Modules"
   ]
  },
  {
   "cell_type": "code",
   "execution_count": 381,
   "id": "55eef082",
   "metadata": {},
   "outputs": [],
   "source": [
    "import numpy as np\n",
    "y=np.array([2,4,6,8])"
   ]
  },
  {
   "cell_type": "code",
   "execution_count": 391,
   "id": "66388f38",
   "metadata": {},
   "outputs": [],
   "source": [
    "import my_mod as mod\n",
    "import find_index as find"
   ]
  },
  {
   "cell_type": "code",
   "execution_count": 394,
   "id": "d9be9bf1",
   "metadata": {},
   "outputs": [
    {
     "data": {
      "text/plain": [
       "5.0"
      ]
     },
     "execution_count": 394,
     "metadata": {},
     "output_type": "execute_result"
    }
   ],
   "source": [
    "mod.my_mean(y)\n"
   ]
  },
  {
   "cell_type": "code",
   "execution_count": 395,
   "id": "3060f300",
   "metadata": {},
   "outputs": [
    {
     "data": {
      "text/plain": [
       "<function find_index.find_index(to_search, target)>"
      ]
     },
     "execution_count": 395,
     "metadata": {},
     "output_type": "execute_result"
    }
   ],
   "source": [
    "find.find_index"
   ]
  },
  {
   "cell_type": "markdown",
   "id": "72a772c5",
   "metadata": {},
   "source": [
    "# Local variable"
   ]
  },
  {
   "cell_type": "code",
   "execution_count": 422,
   "id": "b3659096",
   "metadata": {},
   "outputs": [],
   "source": [
    "def local_test():\n",
    "    value=1\n",
    "    print('the value is define is: ',value)\n"
   ]
  },
  {
   "cell_type": "code",
   "execution_count": 423,
   "id": "d844e870",
   "metadata": {},
   "outputs": [
    {
     "name": "stdout",
     "output_type": "stream",
     "text": [
      "the value is define is:  1\n"
     ]
    }
   ],
   "source": [
    "local_test()"
   ]
  },
  {
   "cell_type": "markdown",
   "id": "bfe7e543",
   "metadata": {},
   "source": [
    "# Global Variable"
   ]
  },
  {
   "cell_type": "code",
   "execution_count": 420,
   "id": "e96ba8b9",
   "metadata": {},
   "outputs": [],
   "source": [
    "message = \"global\"\n",
    "def python_developer():\n",
    "    developer=\"welcome to python program\"\n",
    "    print(message, developer)\n",
    "def developer_name(name):\n",
    "    print(message, name)\n",
    "\n",
    "    "
   ]
  },
  {
   "cell_type": "code",
   "execution_count": 421,
   "id": "d7acae9d",
   "metadata": {},
   "outputs": [
    {
     "name": "stdout",
     "output_type": "stream",
     "text": [
      "global welcome to python program\n",
      "global prasanthi\n"
     ]
    }
   ],
   "source": [
    "python_developer()\n",
    "developer_name(\"prasanthi\")"
   ]
  },
  {
   "cell_type": "markdown",
   "id": "54226fc4",
   "metadata": {},
   "source": [
    "# Enclose variable"
   ]
  },
  {
   "cell_type": "code",
   "execution_count": 426,
   "id": "2294b839",
   "metadata": {},
   "outputs": [
    {
     "name": "stdout",
     "output_type": "stream",
     "text": [
      "value define in the parent function: 5\n",
      "value define in the parent function: 10\n"
     ]
    }
   ],
   "source": [
    "def parent_nest():\n",
    "    initial_value=5\n",
    "    def child_nest():\n",
    "        next_value=10\n",
    "        print(\"value define in the parent function:\", initial_value)\n",
    "        print(\"value define in the parent function:\", next_value)\n",
    "    child_nest()\n",
    "parent_nest()"
   ]
  },
  {
   "cell_type": "code",
   "execution_count": 429,
   "id": "0c5c5553",
   "metadata": {},
   "outputs": [
    {
     "name": "stdout",
     "output_type": "stream",
     "text": [
      "('a', 'b')\n"
     ]
    }
   ],
   "source": [
    "a=(\"a\",\"b\",\"c\",\"d\",\"e\",\"f\"\"g\",\"h\")\n",
    "x=slice(2)\n",
    "print(a[x])"
   ]
  },
  {
   "cell_type": "code",
   "execution_count": 439,
   "id": "c97e5159",
   "metadata": {},
   "outputs": [
    {
     "name": "stdout",
     "output_type": "stream",
     "text": [
      "[4, 6, 8]\n"
     ]
    }
   ],
   "source": [
    "my_list = [1, 2, 3, 4, 5,6,7,8,9]\n",
    "        \n",
    "print(my_list[3:8:2])"
   ]
  },
  {
   "cell_type": "code",
   "execution_count": 440,
   "id": "11da27b5",
   "metadata": {},
   "outputs": [
    {
     "name": "stdout",
     "output_type": "stream",
     "text": [
      "[1, 3, 5, 7]\n"
     ]
    }
   ],
   "source": [
    "list = [1,2,3,4,5,6,7,8,9]\n",
    "\n",
    "print(list[0:8:2])\n"
   ]
  },
  {
   "cell_type": "markdown",
   "id": "97c2ca60",
   "metadata": {},
   "source": [
    "# String Slicing\n"
   ]
  },
  {
   "cell_type": "code",
   "execution_count": 445,
   "id": "0ba5fb55",
   "metadata": {},
   "outputs": [
    {
     "name": "stdout",
     "output_type": "stream",
     "text": [
      "paat\n"
     ]
    }
   ],
   "source": [
    "string = 'prasanthi'\n",
    "print(string[0:8:2])"
   ]
  },
  {
   "cell_type": "code",
   "execution_count": 446,
   "id": "26de51dc",
   "metadata": {},
   "outputs": [
    {
     "data": {
      "text/plain": [
       "'bac'"
      ]
     },
     "execution_count": 446,
     "metadata": {},
     "output_type": "execute_result"
    }
   ],
   "source": [
    "s='mybacon'\n",
    "s[2:5]"
   ]
  },
  {
   "cell_type": "code",
   "execution_count": 449,
   "id": "11677168",
   "metadata": {},
   "outputs": [
    {
     "data": {
      "text/plain": [
       "'ac'"
      ]
     },
     "execution_count": 449,
     "metadata": {},
     "output_type": "execute_result"
    }
   ],
   "source": [
    "s='mybacon'\n",
    "s[-4:-2]"
   ]
  },
  {
   "cell_type": "code",
   "execution_count": 456,
   "id": "99eab1fc",
   "metadata": {},
   "outputs": [
    {
     "name": "stdout",
     "output_type": "stream",
     "text": [
      "[50, 70, 30, 20, 90, 10, 50]\n"
     ]
    }
   ],
   "source": [
    "#index_ 0, 1, 2, 3, 4, 5, 6\n",
    "lst = [50,70,30,20,90,10,50]\n",
    "print(lst[::])"
   ]
  },
  {
   "cell_type": "code",
   "execution_count": 457,
   "id": "79a76753",
   "metadata": {},
   "outputs": [
    {
     "name": "stdout",
     "output_type": "stream",
     "text": [
      "[70, 30, 20, 90, 10, 50]\n"
     ]
    }
   ],
   "source": [
    "#index_ -7,-6,-5,-4,-3,-2,-1\n",
    "lst=[50,70,30,20,90,10,50]\n",
    "print(lst[-6::1])"
   ]
  },
  {
   "cell_type": "code",
   "execution_count": 461,
   "id": "3bda6c73",
   "metadata": {},
   "outputs": [
    {
     "name": "stdout",
     "output_type": "stream",
     "text": [
      "[30, 20, 90, 10]\n"
     ]
    }
   ],
   "source": [
    "lst=[50,70,30,20,90,10,50]\n",
    "print(lst[2:6])"
   ]
  },
  {
   "cell_type": "code",
   "execution_count": 482,
   "id": "41066ba1",
   "metadata": {},
   "outputs": [
    {
     "name": "stdout",
     "output_type": "stream",
     "text": [
      "\n",
      "Original List:\n",
      " [1, 2, 3, 4, 5, 6, 7, 8, 9]\n",
      "\n",
      "Sliced List: \n",
      "[4, 6, 8]\n",
      "[1, 3, 5, 7, 9]\n",
      "[1, 2, 3, 4, 5, 6, 7, 8, 9]\n",
      "[1, 3, 5, 7, 9]\n",
      "[4, 6, 8]\n",
      "[]\n",
      "[]\n",
      "[]\n"
     ]
    }
   ],
   "source": [
    "lst=[1,2,3,4,5,6,7,8,9]\n",
    "\n",
    "# Show original list\n",
    "print(\"\\nOriginal List:\\n\", lst)\n",
    " \n",
    "print(\"\\nSliced List: \")\n",
    "\n",
    "print(lst[3:9:2])\n",
    "print(lst[::2])\n",
    "print(lst[::])\n",
    "print(lst[:9:2])\n",
    "print(lst[3::2])\n",
    "print(lst[1:1:1])\n",
    "print(lst[-1:-1:-1])\n",
    "print(lst[10::2])\n"
   ]
  },
  {
   "cell_type": "code",
   "execution_count": 491,
   "id": "e2e03ff5",
   "metadata": {},
   "outputs": [
    {
     "name": "stdout",
     "output_type": "stream",
     "text": [
      "[]\n",
      "[]\n",
      "[]\n"
     ]
    }
   ],
   "source": [
    "lst = [-999, 'G4G', 1706256, '^_^', 3.1496]\n",
    "\n",
    "\n",
    "print(lst[1:1:1])\n",
    "print(lst[-1:-1:-1])\n",
    "print(lst[10::2])\n",
    "\n"
   ]
  },
  {
   "cell_type": "code",
   "execution_count": 493,
   "id": "73a448f0",
   "metadata": {},
   "outputs": [
    {
     "name": "stdout",
     "output_type": "stream",
     "text": [
      "[-999, 'G4G', 1706256, '^_^', 3.1496]\n",
      "[-999, 'G4G', 'Geeks', 'for', 'Geeks', '!', 3.1496]\n",
      "[3.1496]\n"
     ]
    }
   ],
   "source": [
    "lst = [-999, 'G4G', 1706256, '^_^', 3.1496]\n",
    "print(lst)\n",
    "lst[2:4] = ['Geeks', 'for', 'Geeks', '!']\n",
    "\n",
    "# Modified List\n",
    "print(lst)\n",
    "\n",
    "lst[:6] = []\n",
    "\n",
    "print(lst)\n"
   ]
  },
  {
   "cell_type": "code",
   "execution_count": 501,
   "id": "f5e675c4",
   "metadata": {},
   "outputs": [
    {
     "name": "stdout",
     "output_type": "stream",
     "text": [
      "[1, 2, 8, 9, 11]\n"
     ]
    }
   ],
   "source": [
    "lst = [1, 2, 3, 4, 5, 6, 7, 8, 9,11]\n",
    "newlist = lst[:2]+lst[7:]\n",
    "print(newlist)\n"
   ]
  },
  {
   "cell_type": "markdown",
   "id": "c8a6412c",
   "metadata": {},
   "source": [
    "# List Comprehensions"
   ]
  },
  {
   "cell_type": "code",
   "execution_count": 511,
   "id": "7ccfdbef",
   "metadata": {},
   "outputs": [
    {
     "data": {
      "text/plain": [
       "[0, 1, 2, 3, 4, 5, 6, 7, 8, 9]"
      ]
     },
     "execution_count": 511,
     "metadata": {},
     "output_type": "execute_result"
    }
   ],
   "source": [
    "[x for x in range (10)]"
   ]
  },
  {
   "cell_type": "code",
   "execution_count": 508,
   "id": "86f83351",
   "metadata": {},
   "outputs": [
    {
     "name": "stdout",
     "output_type": "stream",
     "text": [
      "[0, 2, 4, 6, 8]\n"
     ]
    }
   ],
   "source": [
    "#list \n",
    "lst=[]\n",
    "\n",
    "for i in range(10):\n",
    "    if(i%2==0):\n",
    "        lst.append(i)\n",
    "print(lst)"
   ]
  },
  {
   "cell_type": "code",
   "execution_count": 509,
   "id": "a6125abf",
   "metadata": {},
   "outputs": [
    {
     "name": "stdout",
     "output_type": "stream",
     "text": [
      "[0, 3, 6, 9]\n"
     ]
    }
   ],
   "source": [
    "#list comprehensions\n",
    "lst=[i for i in range (10) if (i%3== 0)]\n",
    "print(lst)"
   ]
  },
  {
   "cell_type": "code",
   "execution_count": 513,
   "id": "e4d17a8a",
   "metadata": {},
   "outputs": [
    {
     "name": "stdout",
     "output_type": "stream",
     "text": [
      "['G', 'e', 'e', 'k', 's', ' ', '4', ' ', 'G', 'e', 'e', 'k', 's']\n"
     ]
    }
   ],
   "source": [
    "lst=[character for character in 'Geeks 4 Geeks']\n",
    "print(lst)"
   ]
  },
  {
   "cell_type": "code",
   "execution_count": 514,
   "id": "0a2cc33f",
   "metadata": {},
   "outputs": [
    {
     "name": "stdout",
     "output_type": "stream",
     "text": [
      "['G', 'e', 'e', 'k', 's', ' ', '4', ' ', 'G', 'e', 'e', 'k', 's', '!']\n"
     ]
    }
   ],
   "source": [
    "# Empty list\n",
    "List = []\n",
    "\n",
    "\n",
    "for character in 'Geeks 4 Geeks!':\n",
    "    List.append(character)\n",
    "\n",
    "# Display list\n",
    "print(List)\n"
   ]
  },
  {
   "cell_type": "code",
   "execution_count": 517,
   "id": "14c3af69",
   "metadata": {},
   "outputs": [
    {
     "name": "stdout",
     "output_type": "stream",
     "text": [
      "[10, 20, 30, 40, 50]\n"
     ]
    }
   ],
   "source": [
    "num= [i*10 for i in range(1,6)]\n",
    "print(num)"
   ]
  },
  {
   "cell_type": "markdown",
   "id": "4ab8a74b",
   "metadata": {},
   "source": [
    "# Set Comprhenesions"
   ]
  },
  {
   "cell_type": "code",
   "execution_count": 519,
   "id": "cb9464d3",
   "metadata": {},
   "outputs": [
    {
     "name": "stdout",
     "output_type": "stream",
     "text": [
      "{2, 4, 6}\n"
     ]
    }
   ],
   "source": [
    "x = [1, 2, 3, 4, 4, 5, 6, 6, 6, 7, 7]\n",
    "\n",
    "output_set = set()\n",
    "\n",
    "for var in x:\n",
    "    if var % 2 == 0:\n",
    "        output_set.add(var)\n",
    "\n",
    "print(output_set)\n"
   ]
  },
  {
   "cell_type": "code",
   "execution_count": 520,
   "id": "02061f0d",
   "metadata": {},
   "outputs": [
    {
     "name": "stdout",
     "output_type": "stream",
     "text": [
      "{2, 4, 6}\n"
     ]
    }
   ],
   "source": [
    "x = [1, 2, 3, 4, 4, 5, 6, 6, 6, 7, 7]\n",
    "\n",
    "lst={var for var in x if var % 2 == 0}\n",
    "print(lst)"
   ]
  },
  {
   "cell_type": "markdown",
   "id": "b34cd0fa",
   "metadata": {},
   "source": [
    "# sorting"
   ]
  },
  {
   "cell_type": "code",
   "execution_count": 540,
   "id": "b0df710b",
   "metadata": {},
   "outputs": [
    {
     "name": "stdout",
     "output_type": "stream",
     "text": [
      "enter the no of element:4\n",
      "enter the element:56\n",
      "enter the element:87\n",
      "enter the element:34\n",
      "enter the element:72\n",
      "[87, 72, 56, 34]\n"
     ]
    }
   ],
   "source": [
    "elements=[]\n",
    "noofelements=int(input('enter the no of element:'))\n",
    "\n",
    "for i in range(noofelements):\n",
    "    element=int(input('enter the element:'))\n",
    "    elements.append(element)\n",
    "\n",
    "elements.sort(reverse=True)\n",
    "print(elements)"
   ]
  },
  {
   "cell_type": "markdown",
   "id": "dea2d283",
   "metadata": {},
   "source": [
    " "
   ]
  },
  {
   "cell_type": "code",
   "execution_count": 541,
   "id": "960226f1",
   "metadata": {},
   "outputs": [
    {
     "name": "stdout",
     "output_type": "stream",
     "text": [
      "enter the no of element:5\n",
      "enter the element:q\n",
      "enter the element:i\n",
      "enter the element:h\n",
      "enter the element:f\n",
      "enter the element:g\n",
      "['f', 'g', 'h', 'i', 'q']\n"
     ]
    }
   ],
   "source": [
    "elements=[]\n",
    "noofelements=int(input('enter the no of element:'))\n",
    "\n",
    "for i in range(noofelements):\n",
    "    element=input('enter the element:')\n",
    "    elements.append(element)\n",
    "\n",
    "elements.sort()\n",
    "print(elements)"
   ]
  },
  {
   "cell_type": "markdown",
   "id": "744c2579",
   "metadata": {},
   "source": [
    "# Tuple Sorting"
   ]
  },
  {
   "cell_type": "code",
   "execution_count": 549,
   "id": "b0521a0f",
   "metadata": {},
   "outputs": [
    {
     "name": "stdout",
     "output_type": "stream",
     "text": [
      "[(1, 'B'), (1, 'A'), (2, 'A'), (2, 'B'), (0, 'a')]\n",
      "[(0, 'a'), (1, 'A'), (1, 'B'), (2, 'A'), (2, 'B')]\n"
     ]
    }
   ],
   "source": [
    "items = [(1,'B'), (1,'A'), (2,'A'), (2,'B'), (0,'a')]\n",
    "\n",
    "sorted_items = sorted(items)\n",
    "\n",
    "print(items)\n",
    "print(sorted_items)"
   ]
  },
  {
   "cell_type": "code",
   "execution_count": 552,
   "id": "fd589d9a",
   "metadata": {},
   "outputs": [
    {
     "name": "stdout",
     "output_type": "stream",
     "text": [
      "sorted variable:\t [1, 3, 4, 5, 6, 7, 8, 9]\n",
      "original variable:\t [9, 1, 5, 6, 7, 3, 4, 8]\n"
     ]
    }
   ],
   "source": [
    "li = [9,1,5,6,7,3,4,8]\n",
    "s_li=sorted(li)\n",
    "print('sorted variable:\\t', s_li)\n",
    "print('original variable:\\t', li)"
   ]
  },
  {
   "cell_type": "code",
   "execution_count": 553,
   "id": "d11a10d2",
   "metadata": {},
   "outputs": [
    {
     "data": {
      "text/plain": [
       "[1, 3, 6, 9]"
      ]
     },
     "execution_count": 553,
     "metadata": {},
     "output_type": "execute_result"
    }
   ],
   "source": [
    "n_tuples = (6,9,3,1)\n",
    "n_tuple_sorted = sorted(n_tuples)\n",
    "n_tuple_sorted"
   ]
  },
  {
   "cell_type": "markdown",
   "id": "b1d6e369",
   "metadata": {},
   "source": [
    "# Formatting with placeholder"
   ]
  },
  {
   "cell_type": "code",
   "execution_count": null,
   "id": "7323988a",
   "metadata": {},
   "outputs": [],
   "source": [
    "txt1=\"my name is {fname}, I'm {age}\""
   ]
  },
  {
   "cell_type": "code",
   "execution_count": 581,
   "id": "64791f08",
   "metadata": {},
   "outputs": [
    {
     "name": "stdout",
     "output_type": "stream",
     "text": [
      "Enter you Nameprasanthi\n",
      "Hi prasanthi, how are you\n"
     ]
    }
   ],
   "source": [
    "y=input('Enter you Name')\n",
    "print('Hi %s, how are you' %y)\n"
   ]
  },
  {
   "cell_type": "code",
   "execution_count": 556,
   "id": "1ca5ef8f",
   "metadata": {},
   "outputs": [
    {
     "name": "stdout",
     "output_type": "stream",
     "text": [
      "welcome to my 'world'\n"
     ]
    }
   ],
   "source": [
    "x, y = 'my','world'\n",
    "print('welcome to %s %r' %(x,y))"
   ]
  },
  {
   "cell_type": "markdown",
   "id": "5c37c88c",
   "metadata": {},
   "source": [
    "# Formatting with .format()"
   ]
  },
  {
   "cell_type": "code",
   "execution_count": 558,
   "id": "d613b3b2",
   "metadata": {},
   "outputs": [],
   "source": [
    "#'string here {} then also {}'.format('something1,','something2')"
   ]
  },
  {
   "cell_type": "code",
   "execution_count": 560,
   "id": "c4015a46",
   "metadata": {},
   "outputs": [
    {
     "name": "stdout",
     "output_type": "stream",
     "text": [
      "The apple banana fox\n"
     ]
    }
   ],
   "source": [
    "print('The {} {} {}'.format('apple', 'banana', 'fox'))"
   ]
  },
  {
   "cell_type": "code",
   "execution_count": 568,
   "id": "34e97be5",
   "metadata": {},
   "outputs": [
    {
     "name": "stdout",
     "output_type": "stream",
     "text": [
      "The cut tree fox\n"
     ]
    }
   ],
   "source": [
    "#using indexing\n",
    "print('The {2} {1} {0}'.format('fox', 'tree', 'cut'))"
   ]
  },
  {
   "cell_type": "markdown",
   "id": "25b0c5dc",
   "metadata": {},
   "source": [
    "# formatting with f-strings"
   ]
  },
  {
   "cell_type": "code",
   "execution_count": 574,
   "id": "f4a90f85",
   "metadata": {},
   "outputs": [
    {
     "name": "stdout",
     "output_type": "stream",
     "text": [
      "She said her name is prasanthi\n"
     ]
    }
   ],
   "source": [
    "name='prasanthi'\n",
    "print(f'She said her name is {name}' )"
   ]
  },
  {
   "cell_type": "code",
   "execution_count": 576,
   "id": "45c1e124",
   "metadata": {},
   "outputs": [
    {
     "name": "stdout",
     "output_type": "stream",
     "text": [
      "He score 95 marks in python\n"
     ]
    }
   ],
   "source": [
    "score=95\n",
    "print(f'He score {score} marks in python')"
   ]
  },
  {
   "cell_type": "code",
   "execution_count": 580,
   "id": "c76c4674",
   "metadata": {},
   "outputs": [
    {
     "name": "stdout",
     "output_type": "stream",
     "text": [
      "My name isprasanthiand I am 25years old.\n"
     ]
    }
   ],
   "source": [
    "person = {'name':'prasanthi', 'age':25}\n",
    "sentence = 'My name is' + person['name'] + 'and I am ' + str(person['age']) + 'years old.'\n",
    "print(sentence)"
   ]
  },
  {
   "cell_type": "code",
   "execution_count": 591,
   "id": "d17c8f12",
   "metadata": {},
   "outputs": [
    {
     "name": "stdout",
     "output_type": "stream",
     "text": [
      "C:\\Users\\pprasan1\\Desktop\\Python\\Notes\n"
     ]
    }
   ],
   "source": [
    "import os\n",
    "\n",
    "print(os.getcwd())"
   ]
  },
  {
   "cell_type": "code",
   "execution_count": 596,
   "id": "5fd518a1",
   "metadata": {},
   "outputs": [
    {
     "name": "stdout",
     "output_type": "stream",
     "text": [
      "Current working directory before\n",
      "C:\\Users\\pprasan1\\Desktop\\Python\n",
      "\n",
      "Current working directory before\n",
      "C:\\Users\\pprasan1\\Desktop\n",
      "\n"
     ]
    }
   ],
   "source": [
    "import os\n",
    "\n",
    "def current_path(): \n",
    "    print(\"Current working directory before\") \n",
    "    print(os.getcwd()) \n",
    "    print()\n",
    "current_path() \n",
    "os.chdir('../')\n",
    "current_path() "
   ]
  },
  {
   "cell_type": "code",
   "execution_count": 605,
   "id": "b8dc4af2",
   "metadata": {},
   "outputs": [
    {
     "name": "stdout",
     "output_type": "stream",
     "text": [
      "Directory 'prasanthi' created\n",
      "C:\\Users\\pprasan1\\Desktop\n"
     ]
    }
   ],
   "source": [
    "import os\n",
    "directory = \"prasanthi\"\n",
    "parent_dir = 'C:/desktop/'\n",
    "path = os.path.join(parent_dir, directory) \n",
    "print(\"Directory '% s' created\" % directory)\n",
    "print(os.getcwd()) \n"
   ]
  },
  {
   "cell_type": "code",
   "execution_count": 610,
   "id": "a7bf4290",
   "metadata": {},
   "outputs": [
    {
     "name": "stdout",
     "output_type": "stream",
     "text": [
      "/\n",
      "['$Recycle.Bin', '$WinREAgent', 'AVScanner.ini', 'ClickShareApp', 'Config.Msi', 'Documents and Settings', 'DumpStack.log.tmp', 'Eracent.epa', 'hiberfil.sys', 'installerLog.txt', 'Intel', 'pagefile.sys', 'PerfLogs', 'Program Files', 'Program Files (x86)', 'ProgramData', 'Recovery', 'SCCM_Logs', 'SMSTSLog', 'swapfile.sys', 'System Volume Information', 'TEMP', 'Users', 'Windows']\n"
     ]
    }
   ],
   "source": [
    "import os \n",
    "  \n",
    "# Get the list of all files and directories \n",
    "# in the root directory \n",
    "path = \"/\"\n",
    "print(path) \n",
    "print(dir_list)"
   ]
  },
  {
   "cell_type": "code",
   "execution_count": 615,
   "id": "849ab769",
   "metadata": {},
   "outputs": [
    {
     "name": "stdout",
     "output_type": "stream",
     "text": [
      "nt\n"
     ]
    }
   ],
   "source": [
    "import os \n",
    "print(os.name)"
   ]
  },
  {
   "cell_type": "markdown",
   "id": "7e1348a8",
   "metadata": {},
   "source": [
    "# Datetime"
   ]
  },
  {
   "cell_type": "code",
   "execution_count": 618,
   "id": "1bbc34ff",
   "metadata": {},
   "outputs": [
    {
     "name": "stdout",
     "output_type": "stream",
     "text": [
      "2022-06-29 11:01:32.329621\n"
     ]
    }
   ],
   "source": [
    "import datetime\n",
    "x=datetime.datetime.now()\n",
    "print(x)"
   ]
  },
  {
   "cell_type": "code",
   "execution_count": 632,
   "id": "1b92787b",
   "metadata": {},
   "outputs": [
    {
     "name": "stdout",
     "output_type": "stream",
     "text": [
      "2022\n"
     ]
    }
   ],
   "source": [
    "#year\n",
    "y=datetime.datetime.now().year\n",
    "print(y)"
   ]
  },
  {
   "cell_type": "code",
   "execution_count": 624,
   "id": "a3fd760b",
   "metadata": {},
   "outputs": [
    {
     "name": "stdout",
     "output_type": "stream",
     "text": [
      "2020-06-12\n"
     ]
    }
   ],
   "source": [
    "d=datetime.date(2020,6,12)\n",
    "print(d)"
   ]
  },
  {
   "cell_type": "code",
   "execution_count": 642,
   "id": "5c615223",
   "metadata": {},
   "outputs": [
    {
     "name": "stdout",
     "output_type": "stream",
     "text": [
      "2022-06-29\n",
      "2\n",
      "3\n"
     ]
    }
   ],
   "source": [
    "tday=datetime.date.today()\n",
    "print(tday)\n",
    "print(tday.weekday())\n",
    "print(tday.isoweekday())"
   ]
  },
  {
   "cell_type": "code",
   "execution_count": 650,
   "id": "186cdb47",
   "metadata": {},
   "outputs": [
    {
     "name": "stdout",
     "output_type": "stream",
     "text": [
      "2022-06-22\n",
      "2022-07-06\n"
     ]
    }
   ],
   "source": [
    "tdelta=datetime.timedelta(days=7)\n",
    "print(tday - tdelta)\n",
    "print(tday + tdelta)"
   ]
  },
  {
   "cell_type": "code",
   "execution_count": 654,
   "id": "24dbca79",
   "metadata": {},
   "outputs": [
    {
     "name": "stdout",
     "output_type": "stream",
     "text": [
      "1994-03-01\n",
      "-10347 days, 0:00:00\n"
     ]
    }
   ],
   "source": [
    "bday=datetime.date(1994, 3, 1)\n",
    "print(bday)\n",
    "\n",
    "till_bday= bday-tday\n",
    "print(till_bday)"
   ]
  },
  {
   "cell_type": "code",
   "execution_count": 658,
   "id": "431fdbf6",
   "metadata": {},
   "outputs": [
    {
     "name": "stdout",
     "output_type": "stream",
     "text": [
      "09:36:45.012000\n",
      "9\n"
     ]
    }
   ],
   "source": [
    "t=datetime.time(9, 36, 45, 12000)\n",
    "print(t)\n",
    "print(t.hour)\n"
   ]
  },
  {
   "cell_type": "code",
   "execution_count": 664,
   "id": "4dd33c0a",
   "metadata": {},
   "outputs": [
    {
     "name": "stdout",
     "output_type": "stream",
     "text": [
      "2020-06-20 12:30:45.100000\n",
      "2020-06-20 19:30:45.100000\n"
     ]
    }
   ],
   "source": [
    "dt = datetime.datetime(2020, 6, 20, 12, 30, 45, 100000)\n",
    "print(dt)\n",
    "tdelta = datetime.timedelta(days=7)\n",
    "\n",
    "print(dt + tdelta)"
   ]
  },
  {
   "cell_type": "code",
   "execution_count": 669,
   "id": "725a6b18",
   "metadata": {},
   "outputs": [
    {
     "name": "stdout",
     "output_type": "stream",
     "text": [
      "2022-06-29 06:25:52.064030+00:00\n",
      "2022-06-29 00:25:52.335205-06:00\n"
     ]
    }
   ],
   "source": [
    "import pytz\n",
    "dt_utcnow = datetime.datetime.now(tz=pytz.utc)\n",
    "print(dt_utcnow)\n",
    "dt_mtn=datetime.datetime.now(pytz.timezone('us/mountain'))\n",
    "print(dt_mtn)"
   ]
  },
  {
   "cell_type": "code",
   "execution_count": 671,
   "id": "4434234c",
   "metadata": {},
   "outputs": [
    {
     "name": "stdout",
     "output_type": "stream",
     "text": [
      "Africa/Abidjan\n",
      "Africa/Accra\n",
      "Africa/Addis_Ababa\n",
      "Africa/Algiers\n",
      "Africa/Asmara\n",
      "Africa/Asmera\n",
      "Africa/Bamako\n",
      "Africa/Bangui\n",
      "Africa/Banjul\n",
      "Africa/Bissau\n",
      "Africa/Blantyre\n",
      "Africa/Brazzaville\n",
      "Africa/Bujumbura\n",
      "Africa/Cairo\n",
      "Africa/Casablanca\n",
      "Africa/Ceuta\n",
      "Africa/Conakry\n",
      "Africa/Dakar\n",
      "Africa/Dar_es_Salaam\n",
      "Africa/Djibouti\n",
      "Africa/Douala\n",
      "Africa/El_Aaiun\n",
      "Africa/Freetown\n",
      "Africa/Gaborone\n",
      "Africa/Harare\n",
      "Africa/Johannesburg\n",
      "Africa/Juba\n",
      "Africa/Kampala\n",
      "Africa/Khartoum\n",
      "Africa/Kigali\n",
      "Africa/Kinshasa\n",
      "Africa/Lagos\n",
      "Africa/Libreville\n",
      "Africa/Lome\n",
      "Africa/Luanda\n",
      "Africa/Lubumbashi\n",
      "Africa/Lusaka\n",
      "Africa/Malabo\n",
      "Africa/Maputo\n",
      "Africa/Maseru\n",
      "Africa/Mbabane\n",
      "Africa/Mogadishu\n",
      "Africa/Monrovia\n",
      "Africa/Nairobi\n",
      "Africa/Ndjamena\n",
      "Africa/Niamey\n",
      "Africa/Nouakchott\n",
      "Africa/Ouagadougou\n",
      "Africa/Porto-Novo\n",
      "Africa/Sao_Tome\n",
      "Africa/Timbuktu\n",
      "Africa/Tripoli\n",
      "Africa/Tunis\n",
      "Africa/Windhoek\n",
      "America/Adak\n",
      "America/Anchorage\n",
      "America/Anguilla\n",
      "America/Antigua\n",
      "America/Araguaina\n",
      "America/Argentina/Buenos_Aires\n",
      "America/Argentina/Catamarca\n",
      "America/Argentina/ComodRivadavia\n",
      "America/Argentina/Cordoba\n",
      "America/Argentina/Jujuy\n",
      "America/Argentina/La_Rioja\n",
      "America/Argentina/Mendoza\n",
      "America/Argentina/Rio_Gallegos\n",
      "America/Argentina/Salta\n",
      "America/Argentina/San_Juan\n",
      "America/Argentina/San_Luis\n",
      "America/Argentina/Tucuman\n",
      "America/Argentina/Ushuaia\n",
      "America/Aruba\n",
      "America/Asuncion\n",
      "America/Atikokan\n",
      "America/Atka\n",
      "America/Bahia\n",
      "America/Bahia_Banderas\n",
      "America/Barbados\n",
      "America/Belem\n",
      "America/Belize\n",
      "America/Blanc-Sablon\n",
      "America/Boa_Vista\n",
      "America/Bogota\n",
      "America/Boise\n",
      "America/Buenos_Aires\n",
      "America/Cambridge_Bay\n",
      "America/Campo_Grande\n",
      "America/Cancun\n",
      "America/Caracas\n",
      "America/Catamarca\n",
      "America/Cayenne\n",
      "America/Cayman\n",
      "America/Chicago\n",
      "America/Chihuahua\n",
      "America/Coral_Harbour\n",
      "America/Cordoba\n",
      "America/Costa_Rica\n",
      "America/Creston\n",
      "America/Cuiaba\n",
      "America/Curacao\n",
      "America/Danmarkshavn\n",
      "America/Dawson\n",
      "America/Dawson_Creek\n",
      "America/Denver\n",
      "America/Detroit\n",
      "America/Dominica\n",
      "America/Edmonton\n",
      "America/Eirunepe\n",
      "America/El_Salvador\n",
      "America/Ensenada\n",
      "America/Fort_Nelson\n",
      "America/Fort_Wayne\n",
      "America/Fortaleza\n",
      "America/Glace_Bay\n",
      "America/Godthab\n",
      "America/Goose_Bay\n",
      "America/Grand_Turk\n",
      "America/Grenada\n",
      "America/Guadeloupe\n",
      "America/Guatemala\n",
      "America/Guayaquil\n",
      "America/Guyana\n",
      "America/Halifax\n",
      "America/Havana\n",
      "America/Hermosillo\n",
      "America/Indiana/Indianapolis\n",
      "America/Indiana/Knox\n",
      "America/Indiana/Marengo\n",
      "America/Indiana/Petersburg\n",
      "America/Indiana/Tell_City\n",
      "America/Indiana/Vevay\n",
      "America/Indiana/Vincennes\n",
      "America/Indiana/Winamac\n",
      "America/Indianapolis\n",
      "America/Inuvik\n",
      "America/Iqaluit\n",
      "America/Jamaica\n",
      "America/Jujuy\n",
      "America/Juneau\n",
      "America/Kentucky/Louisville\n",
      "America/Kentucky/Monticello\n",
      "America/Knox_IN\n",
      "America/Kralendijk\n",
      "America/La_Paz\n",
      "America/Lima\n",
      "America/Los_Angeles\n",
      "America/Louisville\n",
      "America/Lower_Princes\n",
      "America/Maceio\n",
      "America/Managua\n",
      "America/Manaus\n",
      "America/Marigot\n",
      "America/Martinique\n",
      "America/Matamoros\n",
      "America/Mazatlan\n",
      "America/Mendoza\n",
      "America/Menominee\n",
      "America/Merida\n",
      "America/Metlakatla\n",
      "America/Mexico_City\n",
      "America/Miquelon\n",
      "America/Moncton\n",
      "America/Monterrey\n",
      "America/Montevideo\n",
      "America/Montreal\n",
      "America/Montserrat\n",
      "America/Nassau\n",
      "America/New_York\n",
      "America/Nipigon\n",
      "America/Nome\n",
      "America/Noronha\n",
      "America/North_Dakota/Beulah\n",
      "America/North_Dakota/Center\n",
      "America/North_Dakota/New_Salem\n",
      "America/Nuuk\n",
      "America/Ojinaga\n",
      "America/Panama\n",
      "America/Pangnirtung\n",
      "America/Paramaribo\n",
      "America/Phoenix\n",
      "America/Port-au-Prince\n",
      "America/Port_of_Spain\n",
      "America/Porto_Acre\n",
      "America/Porto_Velho\n",
      "America/Puerto_Rico\n",
      "America/Punta_Arenas\n",
      "America/Rainy_River\n",
      "America/Rankin_Inlet\n",
      "America/Recife\n",
      "America/Regina\n",
      "America/Resolute\n",
      "America/Rio_Branco\n",
      "America/Rosario\n",
      "America/Santa_Isabel\n",
      "America/Santarem\n",
      "America/Santiago\n",
      "America/Santo_Domingo\n",
      "America/Sao_Paulo\n",
      "America/Scoresbysund\n",
      "America/Shiprock\n",
      "America/Sitka\n",
      "America/St_Barthelemy\n",
      "America/St_Johns\n",
      "America/St_Kitts\n",
      "America/St_Lucia\n",
      "America/St_Thomas\n",
      "America/St_Vincent\n",
      "America/Swift_Current\n",
      "America/Tegucigalpa\n",
      "America/Thule\n",
      "America/Thunder_Bay\n",
      "America/Tijuana\n",
      "America/Toronto\n",
      "America/Tortola\n",
      "America/Vancouver\n",
      "America/Virgin\n",
      "America/Whitehorse\n",
      "America/Winnipeg\n",
      "America/Yakutat\n",
      "America/Yellowknife\n",
      "Antarctica/Casey\n",
      "Antarctica/Davis\n",
      "Antarctica/DumontDUrville\n",
      "Antarctica/Macquarie\n",
      "Antarctica/Mawson\n",
      "Antarctica/McMurdo\n",
      "Antarctica/Palmer\n",
      "Antarctica/Rothera\n",
      "Antarctica/South_Pole\n",
      "Antarctica/Syowa\n",
      "Antarctica/Troll\n",
      "Antarctica/Vostok\n",
      "Arctic/Longyearbyen\n",
      "Asia/Aden\n",
      "Asia/Almaty\n",
      "Asia/Amman\n",
      "Asia/Anadyr\n",
      "Asia/Aqtau\n",
      "Asia/Aqtobe\n",
      "Asia/Ashgabat\n",
      "Asia/Ashkhabad\n",
      "Asia/Atyrau\n",
      "Asia/Baghdad\n",
      "Asia/Bahrain\n",
      "Asia/Baku\n",
      "Asia/Bangkok\n",
      "Asia/Barnaul\n",
      "Asia/Beirut\n",
      "Asia/Bishkek\n",
      "Asia/Brunei\n",
      "Asia/Calcutta\n",
      "Asia/Chita\n",
      "Asia/Choibalsan\n",
      "Asia/Chongqing\n",
      "Asia/Chungking\n",
      "Asia/Colombo\n",
      "Asia/Dacca\n",
      "Asia/Damascus\n",
      "Asia/Dhaka\n",
      "Asia/Dili\n",
      "Asia/Dubai\n",
      "Asia/Dushanbe\n",
      "Asia/Famagusta\n",
      "Asia/Gaza\n",
      "Asia/Harbin\n",
      "Asia/Hebron\n",
      "Asia/Ho_Chi_Minh\n",
      "Asia/Hong_Kong\n",
      "Asia/Hovd\n",
      "Asia/Irkutsk\n",
      "Asia/Istanbul\n",
      "Asia/Jakarta\n",
      "Asia/Jayapura\n",
      "Asia/Jerusalem\n",
      "Asia/Kabul\n",
      "Asia/Kamchatka\n",
      "Asia/Karachi\n",
      "Asia/Kashgar\n",
      "Asia/Kathmandu\n",
      "Asia/Katmandu\n",
      "Asia/Khandyga\n",
      "Asia/Kolkata\n",
      "Asia/Krasnoyarsk\n",
      "Asia/Kuala_Lumpur\n",
      "Asia/Kuching\n",
      "Asia/Kuwait\n",
      "Asia/Macao\n",
      "Asia/Macau\n",
      "Asia/Magadan\n",
      "Asia/Makassar\n",
      "Asia/Manila\n",
      "Asia/Muscat\n",
      "Asia/Nicosia\n",
      "Asia/Novokuznetsk\n",
      "Asia/Novosibirsk\n",
      "Asia/Omsk\n",
      "Asia/Oral\n",
      "Asia/Phnom_Penh\n",
      "Asia/Pontianak\n",
      "Asia/Pyongyang\n",
      "Asia/Qatar\n",
      "Asia/Qostanay\n",
      "Asia/Qyzylorda\n",
      "Asia/Rangoon\n",
      "Asia/Riyadh\n",
      "Asia/Saigon\n",
      "Asia/Sakhalin\n",
      "Asia/Samarkand\n",
      "Asia/Seoul\n",
      "Asia/Shanghai\n",
      "Asia/Singapore\n",
      "Asia/Srednekolymsk\n",
      "Asia/Taipei\n",
      "Asia/Tashkent\n",
      "Asia/Tbilisi\n",
      "Asia/Tehran\n",
      "Asia/Tel_Aviv\n",
      "Asia/Thimbu\n",
      "Asia/Thimphu\n",
      "Asia/Tokyo\n",
      "Asia/Tomsk\n",
      "Asia/Ujung_Pandang\n",
      "Asia/Ulaanbaatar\n",
      "Asia/Ulan_Bator\n",
      "Asia/Urumqi\n",
      "Asia/Ust-Nera\n",
      "Asia/Vientiane\n",
      "Asia/Vladivostok\n",
      "Asia/Yakutsk\n",
      "Asia/Yangon\n",
      "Asia/Yekaterinburg\n",
      "Asia/Yerevan\n",
      "Atlantic/Azores\n",
      "Atlantic/Bermuda\n",
      "Atlantic/Canary\n",
      "Atlantic/Cape_Verde\n",
      "Atlantic/Faeroe\n",
      "Atlantic/Faroe\n",
      "Atlantic/Jan_Mayen\n",
      "Atlantic/Madeira\n",
      "Atlantic/Reykjavik\n",
      "Atlantic/South_Georgia\n",
      "Atlantic/St_Helena\n",
      "Atlantic/Stanley\n",
      "Australia/ACT\n",
      "Australia/Adelaide\n",
      "Australia/Brisbane\n",
      "Australia/Broken_Hill\n",
      "Australia/Canberra\n",
      "Australia/Currie\n",
      "Australia/Darwin\n",
      "Australia/Eucla\n",
      "Australia/Hobart\n",
      "Australia/LHI\n",
      "Australia/Lindeman\n",
      "Australia/Lord_Howe\n",
      "Australia/Melbourne\n",
      "Australia/NSW\n",
      "Australia/North\n",
      "Australia/Perth\n",
      "Australia/Queensland\n",
      "Australia/South\n",
      "Australia/Sydney\n",
      "Australia/Tasmania\n",
      "Australia/Victoria\n",
      "Australia/West\n",
      "Australia/Yancowinna\n",
      "Brazil/Acre\n",
      "Brazil/DeNoronha\n",
      "Brazil/East\n",
      "Brazil/West\n",
      "CET\n",
      "CST6CDT\n",
      "Canada/Atlantic\n",
      "Canada/Central\n",
      "Canada/Eastern\n",
      "Canada/Mountain\n",
      "Canada/Newfoundland\n",
      "Canada/Pacific\n",
      "Canada/Saskatchewan\n",
      "Canada/Yukon\n",
      "Chile/Continental\n",
      "Chile/EasterIsland\n",
      "Cuba\n",
      "EET\n",
      "EST\n",
      "EST5EDT\n",
      "Egypt\n",
      "Eire\n",
      "Etc/GMT\n",
      "Etc/GMT+0\n",
      "Etc/GMT+1\n",
      "Etc/GMT+10\n",
      "Etc/GMT+11\n",
      "Etc/GMT+12\n",
      "Etc/GMT+2\n",
      "Etc/GMT+3\n",
      "Etc/GMT+4\n",
      "Etc/GMT+5\n",
      "Etc/GMT+6\n",
      "Etc/GMT+7\n",
      "Etc/GMT+8\n",
      "Etc/GMT+9\n",
      "Etc/GMT-0\n",
      "Etc/GMT-1\n",
      "Etc/GMT-10\n",
      "Etc/GMT-11\n",
      "Etc/GMT-12\n",
      "Etc/GMT-13\n",
      "Etc/GMT-14\n",
      "Etc/GMT-2\n",
      "Etc/GMT-3\n",
      "Etc/GMT-4\n",
      "Etc/GMT-5\n",
      "Etc/GMT-6\n",
      "Etc/GMT-7\n",
      "Etc/GMT-8\n",
      "Etc/GMT-9\n",
      "Etc/GMT0\n",
      "Etc/Greenwich\n",
      "Etc/UCT\n",
      "Etc/UTC\n",
      "Etc/Universal\n",
      "Etc/Zulu\n",
      "Europe/Amsterdam\n",
      "Europe/Andorra\n",
      "Europe/Astrakhan\n",
      "Europe/Athens\n",
      "Europe/Belfast\n",
      "Europe/Belgrade\n",
      "Europe/Berlin\n",
      "Europe/Bratislava\n",
      "Europe/Brussels\n",
      "Europe/Bucharest\n",
      "Europe/Budapest\n",
      "Europe/Busingen\n",
      "Europe/Chisinau\n",
      "Europe/Copenhagen\n",
      "Europe/Dublin\n",
      "Europe/Gibraltar\n",
      "Europe/Guernsey\n",
      "Europe/Helsinki\n",
      "Europe/Isle_of_Man\n",
      "Europe/Istanbul\n",
      "Europe/Jersey\n",
      "Europe/Kaliningrad\n",
      "Europe/Kiev\n",
      "Europe/Kirov\n",
      "Europe/Lisbon\n",
      "Europe/Ljubljana\n",
      "Europe/London\n",
      "Europe/Luxembourg\n",
      "Europe/Madrid\n",
      "Europe/Malta\n",
      "Europe/Mariehamn\n",
      "Europe/Minsk\n",
      "Europe/Monaco\n",
      "Europe/Moscow\n",
      "Europe/Nicosia\n",
      "Europe/Oslo\n",
      "Europe/Paris\n",
      "Europe/Podgorica\n",
      "Europe/Prague\n",
      "Europe/Riga\n",
      "Europe/Rome\n",
      "Europe/Samara\n",
      "Europe/San_Marino\n",
      "Europe/Sarajevo\n",
      "Europe/Saratov\n",
      "Europe/Simferopol\n",
      "Europe/Skopje\n",
      "Europe/Sofia\n",
      "Europe/Stockholm\n",
      "Europe/Tallinn\n",
      "Europe/Tirane\n",
      "Europe/Tiraspol\n",
      "Europe/Ulyanovsk\n",
      "Europe/Uzhgorod\n",
      "Europe/Vaduz\n",
      "Europe/Vatican\n",
      "Europe/Vienna\n",
      "Europe/Vilnius\n",
      "Europe/Volgograd\n",
      "Europe/Warsaw\n",
      "Europe/Zagreb\n",
      "Europe/Zaporozhye\n",
      "Europe/Zurich\n",
      "GB\n",
      "GB-Eire\n",
      "GMT\n",
      "GMT+0\n",
      "GMT-0\n",
      "GMT0\n",
      "Greenwich\n",
      "HST\n",
      "Hongkong\n",
      "Iceland\n",
      "Indian/Antananarivo\n",
      "Indian/Chagos\n",
      "Indian/Christmas\n",
      "Indian/Cocos\n",
      "Indian/Comoro\n",
      "Indian/Kerguelen\n",
      "Indian/Mahe\n",
      "Indian/Maldives\n",
      "Indian/Mauritius\n",
      "Indian/Mayotte\n",
      "Indian/Reunion\n",
      "Iran\n",
      "Israel\n",
      "Jamaica\n",
      "Japan\n",
      "Kwajalein\n",
      "Libya\n",
      "MET\n",
      "MST\n",
      "MST7MDT\n",
      "Mexico/BajaNorte\n",
      "Mexico/BajaSur\n",
      "Mexico/General\n",
      "NZ\n",
      "NZ-CHAT\n",
      "Navajo\n",
      "PRC\n",
      "PST8PDT\n",
      "Pacific/Apia\n",
      "Pacific/Auckland\n",
      "Pacific/Bougainville\n",
      "Pacific/Chatham\n",
      "Pacific/Chuuk\n",
      "Pacific/Easter\n",
      "Pacific/Efate\n",
      "Pacific/Enderbury\n",
      "Pacific/Fakaofo\n",
      "Pacific/Fiji\n",
      "Pacific/Funafuti\n",
      "Pacific/Galapagos\n",
      "Pacific/Gambier\n",
      "Pacific/Guadalcanal\n",
      "Pacific/Guam\n",
      "Pacific/Honolulu\n",
      "Pacific/Johnston\n",
      "Pacific/Kanton\n",
      "Pacific/Kiritimati\n",
      "Pacific/Kosrae\n",
      "Pacific/Kwajalein\n",
      "Pacific/Majuro\n",
      "Pacific/Marquesas\n",
      "Pacific/Midway\n",
      "Pacific/Nauru\n",
      "Pacific/Niue\n",
      "Pacific/Norfolk\n",
      "Pacific/Noumea\n",
      "Pacific/Pago_Pago\n",
      "Pacific/Palau\n",
      "Pacific/Pitcairn\n",
      "Pacific/Pohnpei\n",
      "Pacific/Ponape\n",
      "Pacific/Port_Moresby\n",
      "Pacific/Rarotonga\n",
      "Pacific/Saipan\n",
      "Pacific/Samoa\n",
      "Pacific/Tahiti\n",
      "Pacific/Tarawa\n",
      "Pacific/Tongatapu\n",
      "Pacific/Truk\n",
      "Pacific/Wake\n",
      "Pacific/Wallis\n",
      "Pacific/Yap\n",
      "Poland\n",
      "Portugal\n",
      "ROC\n",
      "ROK\n",
      "Singapore\n",
      "Turkey\n",
      "UCT\n",
      "US/Alaska\n",
      "US/Aleutian\n",
      "US/Arizona\n",
      "US/Central\n",
      "US/East-Indiana\n",
      "US/Eastern\n",
      "US/Hawaii\n",
      "US/Indiana-Starke\n",
      "US/Michigan\n",
      "US/Mountain\n",
      "US/Pacific\n",
      "US/Samoa\n",
      "UTC\n",
      "Universal\n",
      "W-SU\n",
      "WET\n",
      "Zulu\n"
     ]
    }
   ],
   "source": [
    "for tz in pytz.all_timezones:\n",
    "    print(tz)"
   ]
  },
  {
   "cell_type": "code",
   "execution_count": 673,
   "id": "67102bc0",
   "metadata": {},
   "outputs": [
    {
     "name": "stdout",
     "output_type": "stream",
     "text": [
      "June, 29, 2022\n"
     ]
    }
   ],
   "source": [
    "dt_mtn = datetime.datetime.now(tz=pytz.timezone('US/Mountain'))\n",
    "print(dt_mtn.strftime('%B, %d, %Y'))"
   ]
  },
  {
   "cell_type": "code",
   "execution_count": 681,
   "id": "18ac06be",
   "metadata": {},
   "outputs": [
    {
     "name": "stdout",
     "output_type": "stream",
     "text": [
      "2020-07-26 00:00:00\n"
     ]
    }
   ],
   "source": [
    "dt_str = 'july 26, 2020'\n",
    "dt = datetime.datetime.strptime(dt_str, '%B %d, %Y')\n",
    "print (dt)\n",
    "\n",
    "#strftime -datetime to string\n",
    "#strptime - string to datetime"
   ]
  },
  {
   "cell_type": "markdown",
   "id": "40daabc3",
   "metadata": {},
   "source": [
    "# File Object"
   ]
  },
  {
   "cell_type": "code",
   "execution_count": 692,
   "id": "2e593715",
   "metadata": {},
   "outputs": [
    {
     "name": "stdout",
     "output_type": "stream",
     "text": [
      "C:\\Users\\pprasan1\\Desktop\\Python\\Notes\\sample.txt\n",
      "r\n"
     ]
    }
   ],
   "source": [
    "f = open('C:\\\\Users\\\\pprasan1\\\\Desktop\\\\Python\\\\Notes\\\\sample.txt', 'r')\n",
    "\n",
    "print(f.name)\n",
    "print(f.mode)\n",
    "\n",
    "f.close()"
   ]
  },
  {
   "cell_type": "code",
   "execution_count": 696,
   "id": "b903f4a1",
   "metadata": {},
   "outputs": [
    {
     "name": "stdout",
     "output_type": "stream",
     "text": [
      "r\n",
      "True\n"
     ]
    }
   ],
   "source": [
    "with open ('C:\\\\Users\\\\pprasan1\\\\Desktop\\\\Python\\\\Notes\\\\sample.txt', 'r') as f:\n",
    "    pass\n",
    "print(f.mode)\n",
    "print(f.closed)\n"
   ]
  },
  {
   "cell_type": "code",
   "execution_count": 698,
   "id": "f6dacba0",
   "metadata": {},
   "outputs": [
    {
     "name": "stdout",
     "output_type": "stream",
     "text": [
      "hi\n",
      "I am prasanthi\n",
      "first step\n",
      "second step\n",
      "third step\n",
      "fourth step\n",
      "fifth step\n",
      "\n"
     ]
    }
   ],
   "source": [
    "with open ('C:\\\\Users\\\\pprasan1\\\\Desktop\\\\Python\\\\Notes\\\\sample.txt', 'r') as f:\n",
    "    f_contents = f.read()\n",
    "    print(f_contents)"
   ]
  },
  {
   "cell_type": "code",
   "execution_count": 700,
   "id": "a17da717",
   "metadata": {},
   "outputs": [
    {
     "name": "stdout",
     "output_type": "stream",
     "text": [
      "hi\n",
      "\n"
     ]
    }
   ],
   "source": [
    "with open ('C:\\\\Users\\\\pprasan1\\\\Desktop\\\\Python\\\\Notes\\\\sample.txt', 'r') as f:\n",
    "    f_contents = f.readlines()\n",
    "    print(f_contents)"
   ]
  },
  {
   "cell_type": "code",
   "execution_count": 703,
   "id": "51898b68",
   "metadata": {},
   "outputs": [
    {
     "name": "stdout",
     "output_type": "stream",
     "text": [
      "hi\n",
      "\n",
      "I am prasanthi\n",
      "\n"
     ]
    }
   ],
   "source": [
    "with open ('C:\\\\Users\\\\pprasan1\\\\Desktop\\\\Python\\\\Notes\\\\sample.txt', 'r') as f:\n",
    "    f_contents = f.readline()\n",
    "    print(f_contents)\n",
    "    f_contents = f.readline()\n",
    "    print(f_contents)"
   ]
  },
  {
   "cell_type": "code",
   "execution_count": 705,
   "id": "f34a6441",
   "metadata": {},
   "outputs": [
    {
     "name": "stdout",
     "output_type": "stream",
     "text": [
      "hi\n",
      "I am pr*asanthi\n",
      "fi*rst step\n",
      "s*econd step*\n",
      "third ste*p\n",
      "fourth s*tep\n",
      "fifth *step\n",
      "*"
     ]
    }
   ],
   "source": [
    "with open ('C:\\\\Users\\\\pprasan1\\\\Desktop\\\\Python\\\\Notes\\\\sample.txt', 'r') as f:\n",
    "    size_to_read=10\n",
    "    f_contents=f.read(size_to_read)\n",
    "    \n",
    "    while len(f_contents) > 0:\n",
    "        print(f_contents, end='*')\n",
    "        f_contents=f.read(size_to_read)"
   ]
  },
  {
   "cell_type": "code",
   "execution_count": 706,
   "id": "1c0e08c2",
   "metadata": {},
   "outputs": [
    {
     "name": "stdout",
     "output_type": "stream",
     "text": [
      "10\n"
     ]
    }
   ],
   "source": [
    "with open ('C:\\\\Users\\\\pprasan1\\\\Desktop\\\\Python\\\\Notes\\\\sample.txt', 'r') as f:\n",
    "    size_to_read=10\n",
    "    f_contents=f.read(size_to_read)\n",
    "    \n",
    "    print(f.tell())"
   ]
  },
  {
   "cell_type": "code",
   "execution_count": 711,
   "id": "93560bab",
   "metadata": {},
   "outputs": [],
   "source": [
    "with open ('C:\\\\Users\\\\pprasan1\\\\Desktop\\\\Python\\\\Notes\\\\sample1.txt', 'w') as f:\n",
    "    f.write('hello')\n",
    "    f.seek(0)\n",
    "    f.write('welcome')\n",
    "    "
   ]
  },
  {
   "cell_type": "markdown",
   "id": "29470cfe",
   "metadata": {},
   "source": [
    "# Parsing and Renaming\n",
    "    "
   ]
  },
  {
   "cell_type": "code",
   "execution_count": 715,
   "id": "bb97794b",
   "metadata": {},
   "outputs": [
    {
     "name": "stdout",
     "output_type": "stream",
     "text": [
      "C:\\Users\\pprasan1\\Desktop\\Python\\Notes\n"
     ]
    }
   ],
   "source": [
    "import os\n",
    "os.chdir('C:\\\\Users\\\\pprasan1\\\\Desktop\\\\Python\\\\Notes')\n",
    "print(os.getcwd())"
   ]
  },
  {
   "cell_type": "code",
   "execution_count": 716,
   "id": "f71bebee",
   "metadata": {},
   "outputs": [
    {
     "name": "stdout",
     "output_type": "stream",
     "text": [
      ".git\n",
      ".ipynb_checkpoints\n",
      "46225634_Prasanthi_iTransform Tracker Sheet (002).xlsx\n",
      "find_index.py\n",
      "my_mod.py\n",
      "practice1.ipynb\n",
      "Pythonnotes.txt\n",
      "sample.txt\n",
      "sample1.txt\n",
      "Untitled.ipynb\n",
      "__pycache__\n",
      "~$46225634_Prasanthi_iTransform Tracker Sheet (002).xlsx\n"
     ]
    }
   ],
   "source": [
    "import os\n",
    "os.chdir('C:\\\\Users\\\\pprasan1\\\\Desktop\\\\Python\\\\Notes')\n",
    "\n",
    "for f in os.listdir():\n",
    "    print(f)"
   ]
  },
  {
   "cell_type": "code",
   "execution_count": 717,
   "id": "e7389c4c",
   "metadata": {},
   "outputs": [
    {
     "name": "stdout",
     "output_type": "stream",
     "text": [
      "('.git', '')\n",
      "('.ipynb_checkpoints', '')\n",
      "('46225634_Prasanthi_iTransform Tracker Sheet (002)', '.xlsx')\n",
      "('find_index', '.py')\n",
      "('my_mod', '.py')\n",
      "('practice1', '.ipynb')\n",
      "('Pythonnotes', '.txt')\n",
      "('sample', '.txt')\n",
      "('sample1', '.txt')\n",
      "('Untitled', '.ipynb')\n",
      "('__pycache__', '')\n",
      "('~$46225634_Prasanthi_iTransform Tracker Sheet (002)', '.xlsx')\n"
     ]
    }
   ],
   "source": [
    "import os\n",
    "os.chdir('C:\\\\Users\\\\pprasan1\\\\Desktop\\\\Python\\\\Notes')\n",
    "\n",
    "for f in os.listdir():\n",
    "    print(os.path.splitext(f))\n",
    "    "
   ]
  },
  {
   "cell_type": "code",
   "execution_count": 755,
   "id": "6b83eed4",
   "metadata": {},
   "outputs": [
    {
     "name": "stdout",
     "output_type": "stream",
     "text": [
      "64-Anaconda3-0Windows-x86\n",
      "2-Git-064\n",
      "3-Git-064\n"
     ]
    }
   ],
   "source": [
    "os.chdir('C:\\\\Users\\\\pprasan1\\\\Desktop\\\\Python\\\\New folder')\n",
    "for f in os.listdir():\n",
    "    f_name,f_ext = os.path.splitext(f)\n",
    "    #print(f_name.split('-'))\n",
    "    f_title,f_course,f_version,f_div, f_num = f_name.split('_')\n",
    "    f_title = f_title.strip()[1:].zfill(1)\n",
    "    f_course = f_course.strip()\n",
    "    f_version=f_version.strip()\n",
    "    f_div=f_div.strip()\n",
    "    f_num = f_num.strip()\n",
    "    \n",
    "    print('{}-{}-{}{}'.format(f_num, f_course, f_title, f_div, f_ext))"
   ]
  },
  {
   "cell_type": "code",
   "execution_count": null,
   "id": "b1ed9cda",
   "metadata": {},
   "outputs": [],
   "source": []
  },
  {
   "cell_type": "code",
   "execution_count": null,
   "id": "44718f46",
   "metadata": {},
   "outputs": [],
   "source": []
  }
 ],
 "metadata": {
  "kernelspec": {
   "display_name": "Python 3 (ipykernel)",
   "language": "python",
   "name": "python3"
  },
  "language_info": {
   "codemirror_mode": {
    "name": "ipython",
    "version": 3
   },
   "file_extension": ".py",
   "mimetype": "text/x-python",
   "name": "python",
   "nbconvert_exporter": "python",
   "pygments_lexer": "ipython3",
   "version": "3.9.12"
  }
 },
 "nbformat": 4,
 "nbformat_minor": 5
}
