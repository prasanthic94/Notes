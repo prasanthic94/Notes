{
 "cells": [
  {
   "cell_type": "code",
   "execution_count": 2,
   "id": "37fcd371",
   "metadata": {},
   "outputs": [
    {
     "name": "stdout",
     "output_type": "stream",
     "text": [
      "11\n"
     ]
    }
   ],
   "source": [
    "#use the len method to print the length of the string\n",
    "\n",
    "x = 'Hello World'\n",
    "print(len(x))"
   ]
  },
  {
   "cell_type": "code",
   "execution_count": 3,
   "id": "7efa809c",
   "metadata": {},
   "outputs": [
    {
     "name": "stdout",
     "output_type": "stream",
     "text": [
      "H\n"
     ]
    }
   ],
   "source": [
    "#get the first character of the string txt\n",
    "\n",
    "txt = 'Hello World'\n",
    "x = (txt[0])\n",
    "print(x)"
   ]
  },
  {
   "cell_type": "code",
   "execution_count": 4,
   "id": "888d5e70",
   "metadata": {},
   "outputs": [
    {
     "name": "stdout",
     "output_type": "stream",
     "text": [
      "llo\n"
     ]
    }
   ],
   "source": [
    "# get the characters from index 2 to index 4 (llo)\n",
    "\n",
    "txt = 'Hello World'\n",
    "x = (txt[2:5])\n",
    "print(x)\n"
   ]
  },
  {
   "cell_type": "code",
   "execution_count": null,
   "id": "e0e6e3a2",
   "metadata": {},
   "outputs": [],
   "source": [
    "#Return the string without any whitespace at the beginning or the end\n",
    "\n",
    "txt = 'Hello World'\n",
    "x = txt.strip()\n",
    "print(x)"
   ]
  },
  {
   "cell_type": "code",
   "execution_count": null,
   "id": "8e7c78ad",
   "metadata": {},
   "outputs": [],
   "source": [
    "#Convert the value of txt to uppercase\n",
    "\n",
    "txt = 'Hello World'\n",
    "txt = txt.upper()\n",
    "print(txt)"
   ]
  },
  {
   "cell_type": "code",
   "execution_count": null,
   "id": "51bf6594",
   "metadata": {},
   "outputs": [],
   "source": [
    "#print the second item in the fruits list\n",
    "\n",
    "fruits = ['apple', 'banana', 'cherry']\n",
    "print(fruits)"
   ]
  },
  {
   "cell_type": "code",
   "execution_count": null,
   "id": "4f483bdf",
   "metadata": {},
   "outputs": [],
   "source": [
    "#print the second item in the fruits list\n",
    "\n",
    "fruits = ['apple', 'banana', 'cherry']\n",
    "print(fruits[1])"
   ]
  },
  {
   "cell_type": "code",
   "execution_count": 7,
   "id": "0b564243",
   "metadata": {},
   "outputs": [
    {
     "name": "stdout",
     "output_type": "stream",
     "text": [
      "['kiwi', 'banana', 'cherry']\n"
     ]
    }
   ],
   "source": [
    "#change the value from 'apple' to 'kiwi' in the fruits list\n",
    "\n",
    "fruits = ['apple', 'banana', 'cherry']\n",
    "fruits[0] = 'kiwi'\n",
    "\n",
    "print(fruits)"
   ]
  },
  {
   "cell_type": "code",
   "execution_count": 6,
   "id": "a9162037",
   "metadata": {},
   "outputs": [
    {
     "name": "stdout",
     "output_type": "stream",
     "text": [
      "['apple', 'banana', 'cherry', 'orange']\n"
     ]
    }
   ],
   "source": [
    "#use the append method to add 'orange' to the fruits list\n",
    "\n",
    "fruits = ['apple', 'banana', 'cherry']\n",
    "fruits.append('orange')\n",
    "\n",
    "print(fruits)"
   ]
  },
  {
   "cell_type": "code",
   "execution_count": 5,
   "id": "31f8cfba",
   "metadata": {},
   "outputs": [
    {
     "name": "stdout",
     "output_type": "stream",
     "text": [
      "5 and 10 is not equal\n"
     ]
    }
   ],
   "source": [
    "#Use the correct comparison operator to check if 5 is not equal to 10.\n",
    "\n",
    "if 5 != 10:\n",
    "    print(\"5 and 10 is not equal\")"
   ]
  },
  {
   "cell_type": "code",
   "execution_count": 9,
   "id": "9c8db848",
   "metadata": {},
   "outputs": [
    {
     "name": "stdout",
     "output_type": "stream",
     "text": [
      "At least one of the statements is true\n"
     ]
    }
   ],
   "source": [
    "#Use the correct logical operator to check if at least one of two statements is True.\n",
    "if 5 == 10 or 4 == 4:\n",
    "    print(\"At least one of the statements is true\")\n"
   ]
  },
  {
   "cell_type": "code",
   "execution_count": 11,
   "id": "5139d72f",
   "metadata": {},
   "outputs": [
    {
     "name": "stdout",
     "output_type": "stream",
     "text": [
      "Mustang\n"
     ]
    }
   ],
   "source": [
    "#Use the get method to print the value of the \"model\" key of the car dictionary.\n",
    "\n",
    "car ={\n",
    "  \"brand\": \"Ford\",\n",
    "  \"model\": \"Mustang\",\n",
    "  \"year\": 1964\n",
    "}\n",
    "print(car.get('model'))"
   ]
  },
  {
   "cell_type": "code",
   "execution_count": null,
   "id": "658c81b8",
   "metadata": {},
   "outputs": [],
   "source": [
    "Change the \"year\" value from 1964 to 2020.\n",
    "\n",
    "car ={\n",
    "  \"brand\": \"Ford\",\n",
    "  \"model\": \"Mustang\",\n",
    "  \"year\": 1964\n",
    "}\n",
    "\n",
    "car()"
   ]
  }
 ],
 "metadata": {
  "kernelspec": {
   "display_name": "Python 3 (ipykernel)",
   "language": "python",
   "name": "python3"
  },
  "language_info": {
   "codemirror_mode": {
    "name": "ipython",
    "version": 3
   },
   "file_extension": ".py",
   "mimetype": "text/x-python",
   "name": "python",
   "nbconvert_exporter": "python",
   "pygments_lexer": "ipython3",
   "version": "3.9.12"
  }
 },
 "nbformat": 4,
 "nbformat_minor": 5
}
